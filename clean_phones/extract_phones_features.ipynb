{
 "cells": [
  {
   "cell_type": "code",
   "execution_count": 1,
   "id": "b8b9492c",
   "metadata": {},
   "outputs": [],
   "source": [
    "import pandas as pd\n",
    "import re"
   ]
  },
  {
   "cell_type": "markdown",
   "id": "ea6a82b5",
   "metadata": {},
   "source": [
    "Loading Data"
   ]
  },
  {
   "cell_type": "code",
   "execution_count": 2,
   "id": "5ecdef69",
   "metadata": {},
   "outputs": [
    {
     "name": "stderr",
     "output_type": "stream",
     "text": [
      "/tmp/ipykernel_30915/2167149916.py:1: DtypeWarning: Columns (96,100,101,103,104,105) have mixed types. Specify dtype option on import or set low_memory=False.\n",
      "  df = pd.read_csv('../parse_phones/phones.csv')\n"
     ]
    }
   ],
   "source": [
    "df = pd.read_csv('../parse_phones/phones.csv')\n",
    "cdf = pd.DataFrame() # CDF - Clean Data Frame\n",
    "cdf[['brand', 'model']] = df['name'].str.split(' ', n=1, expand=True)"
   ]
  },
  {
   "cell_type": "code",
   "execution_count": 3,
   "id": "0b592a2d",
   "metadata": {},
   "outputs": [],
   "source": [
    "def extract_euro_price(price_string):\n",
    "    # Conversion rates for the date of extraction\n",
    "    INR_TO_EUR_2025_04_14 = 0.01029\n",
    "    USD_TO_EUR_2025_04_14 = 0.8791\n",
    "    GBP_TO_EUR_2025_04_14 = 1.167\n",
    "\n",
    "    # If value is na return None\n",
    "    if pd.isna(price_string) or not isinstance(price_string, str):\n",
    "        return None\n",
    "    \n",
    "    euro_pattern = r'€\\s*([\\d,]+\\.?\\d{2})|\\b(\\d+\\.?\\d*)\\s*EUR|₹\\s*([\\d,]+\\.?\\d{2})|\\b(\\d+\\.?\\d*)\\s*INR|\\$\\s*([\\d,]+\\.?\\d{2})|£\\s*([\\d,]+\\.?\\d{2})'\n",
    "    match = re.search(euro_pattern, price_string)\n",
    "    if match:\n",
    "        # Check for each group in the order of priority\n",
    "        if match.group(1):  # Euro price with decimal\n",
    "            return float(match.group(1).replace(',', ''))\n",
    "        elif match.group(2):  # Euro price without currency\n",
    "            return float(match.group(2).replace(',', ''))\n",
    "        elif match.group(3):  # Indian Rupee price\n",
    "            return float(match.group(3).replace(',', '')) * INR_TO_EUR_2025_04_14\n",
    "        elif match.group(4):  # Indian Rupee price\n",
    "            return float(match.group(4).replace(',', '')) * INR_TO_EUR_2025_04_14\n",
    "        elif match.group(5):  # USD price\n",
    "            return float(match.group(5).replace(',', '')) * USD_TO_EUR_2025_04_14\n",
    "        elif match.group(6):  # British pound price\n",
    "            return float(match.group(6).replace(',', '')) * GBP_TO_EUR_2025_04_14\n",
    "    return None"
   ]
  },
  {
   "cell_type": "markdown",
   "id": "4d062de7",
   "metadata": {},
   "source": [
    "Extracting features"
   ]
  },
  {
   "cell_type": "code",
   "execution_count": 4,
   "id": "0cd5a122",
   "metadata": {},
   "outputs": [],
   "source": [
    "# Links, Popularity, Price\n",
    "cdf[['photo_link', 'phone_link', 'popularity_become_fan']] = df[['photo_link', 'phone_link', 'popularity_become_fan']]\n",
    "cdf['popularity_views'] = pd.to_numeric(df['popularity_hits'].str.replace(',', '').str.replace(' hits', ''))\n",
    "cdf['popularity_views_today'] = pd.to_numeric(df['popularity_percent'].str.extract(r'(\\d+\\.?\\d*)%')[0])\n",
    "cdf['price'] = df['Misc_Price'].apply(extract_euro_price)\n",
    "\n",
    "# Network\n",
    "cdf['network_technology'] = df['Network_Technology']\n",
    "cdf['eSIM'] = df['Body_SIM'].str.contains(r'esim', case=False)\n",
    "\n",
    "# Release Dates\n",
    "cdf['announce_year'] = df['Launch_Announced'].str.extract(r'(\\d{4})')\n",
    "cdf['available'] = df['Launch_Status'].str.contains('Available', case=False)\n",
    "cdf['release_year'] = df['release_date'].str.extract(r'(\\d{4})')\n",
    "cdf['cancelled'] = df['release_date'].str.contains(r'Cancelled', case=False)\n",
    "\n",
    "# Physiscal Properties\n",
    "cdf[['height_mm', 'length_mm', 'width_mm']] = df['Body_Dimensions'].str.extract(r'(\\d+\\.\\d+|\\d+)\\s*m*\\s*x\\s*(\\d+\\.\\d+|\\d+)\\s*m*\\s*x\\s*(\\d+\\.\\d+|\\d+)')\n",
    "cdf['weight_g'] = df['Body_Weight'].str.extract(r'(\\d+\\.?\\d+)')\n",
    "cdf['ip_rating'] = df['Body_DummyType_'].str.extract(r'(IP[X]?\\d{1,2}[X]?)')\n",
    "\n",
    "# Extracting screen data\n",
    "cdf['screen_type'] = df['Display_Type'].str.extract(r'(AMOLED|LCD|TFT|IPS|PLS|LTPO|OLED|CSTN|STN|TFD|FSTN|UFB|GCS|UBC|TN|Monochrome|Grayscale)')\n",
    "cdf['screen_hz'] = df['Display_Type'].str.extract(r'(\\d+\\.?\\d*)\\s*Hz', flags=re.IGNORECASE)\n",
    "cdf['screen_hz'] = cdf['screen_hz'].fillna(60) # Assume that standard refresh rate is 60 hertz\n",
    "cdf['screen_size'] = df['Display_Size'].str.extract(r'(\\d+\\.?\\d+)')\n",
    "cdf['screen_to_body'] = df['Display_Size'].str.extract(r'(\\d+\\.?\\d+)%')\n",
    "cdf[['screen_resolution_x', 'screen_resolution_y']] = df['Display_Resolution'].str.extract(r'(\\d+\\.?\\d*)\\s*x?\\s*(\\d+\\.?\\d*)')\n",
    "\n",
    "# Extracting os data\n",
    "cdf['os_version'] = df['Platform_OS'].str.extract(r'([A-Za-z\\s]+\\s*\\d*(\\.\\d+)*)')[0]\n",
    "\n",
    "# Extracting Hardware data\n",
    "cdf['chipset_nm'] = df['Platform_Chipset'].str.extract(r'(\\d+\\.?\\d*)\\s*nm')\n",
    "cdf['chipset_cores'] = df['Platform_CPU'].str.extract(r'(\\w+-?core)', flags=re.IGNORECASE)\n",
    "cdf['gpu_model'] = df['Platform_GPU']\n",
    "\n",
    "# Extracting memory data\n",
    "cdf['memory_card_slot'] = ~df['Memory_Card slot'].str.contains(r'No', case=False)\n",
    "cdf[['internal_rom', 'internal_rom_unit']] = df['Memory_Internal'].str.extract(r'(\\d+\\.?\\d*)\\s*(GB|MB|KB)(?!\\s*RAM)(?:\\s*ROM)?', flags=re.IGNORECASE)\n",
    "cdf[['internal_ram', 'internal_ram_unit']] = df['Memory_Internal'].str.extract(r'(\\d+\\.?\\d*)\\s*(GB|MB|KB)(?:\\s*RAM)(?!\\s*ROM)', flags=re.IGNORECASE)\n",
    "\n",
    "# Extracting camera data\n",
    "cdf['camera_mp'] = df['Main Camera_Single'].str.extract(r'(\\d+\\.?\\d*)\\s*MP', flags=re.IGNORECASE)\n",
    "cdf['camera_mp'] = cdf['camera_mp'].fillna(df['Main Camera_Dual'].str.extract(r'(\\d+\\.?\\d*)\\s*MP', flags=re.IGNORECASE)[0])\n",
    "cdf['camera_mp'] = cdf['camera_mp'].fillna(df['Main Camera_Dual or Triple'].str.extract(r'(\\d+\\.?\\d*)\\s*MP', flags=re.IGNORECASE)[0])\n",
    "cdf['camera_mp'] = cdf['camera_mp'].fillna(df['Main Camera_Five'].str.extract(r'(\\d+\\.?\\d*)\\s*MP', flags=re.IGNORECASE)[0])\n",
    "cdf['camera_mp'] = cdf['camera_mp'].fillna(df['Main Camera_Penta'].str.extract(r'(\\d+\\.?\\d*)\\s*MP', flags=re.IGNORECASE)[0])\n",
    "cdf['camera_mp'] = cdf['camera_mp'].fillna(df['Main Camera_Quad'].str.extract(r'(\\d+\\.?\\d*)\\s*MP', flags=re.IGNORECASE)[0])\n",
    "cdf['camera_mp'] = cdf['camera_mp'].fillna(df['Main Camera_Triple'].str.extract(r'(\\d+\\.?\\d*)\\s*MP', flags=re.IGNORECASE)[0])\n",
    "cdf['camera_f'] = df['Main Camera_Single'].str.extract(r'f/?\\s*(\\d+\\.?\\d*)', flags=re.IGNORECASE)\n",
    "cdf['camera_f'] = cdf['camera_f'].fillna(df['Main Camera_Dual'].str.extract(r'f/?\\s*(\\d+\\.?\\d*)', flags=re.IGNORECASE)[0])\n",
    "cdf['camera_f'] = cdf['camera_f'].fillna(df['Main Camera_Dual or Triple'].str.extract(r'f/?\\s*(\\d+\\.?\\d*)', flags=re.IGNORECASE)[0])\n",
    "cdf['camera_f'] = cdf['camera_f'].fillna(df['Main Camera_Five'].str.extract(r'f/?\\s*(\\d+\\.?\\d*)', flags=re.IGNORECASE)[0])\n",
    "cdf['camera_f'] = cdf['camera_f'].fillna(df['Main Camera_Penta'].str.extract(r'f/?\\s*(\\d+\\.?\\d*)', flags=re.IGNORECASE)[0])\n",
    "cdf['camera_f'] = cdf['camera_f'].fillna(df['Main Camera_Quad'].str.extract(r'f/?\\s*(\\d+\\.?\\d*)', flags=re.IGNORECASE)[0])\n",
    "cdf['camera_f'] = cdf['camera_f'].fillna(df['Main Camera_Triple'].str.extract(r'f/?\\s*(\\d+\\.?\\d*)', flags=re.IGNORECASE)[0])\n",
    "cdf['camera_video_resolution'] = df['Main Camera_Video'].str.extract(r'(\\d+\\.?\\d*\\s*(?:K|p)|Yes|No|QCIF|QVGA|CIF|(?:(?:\\d+\\.?\\d*)\\s*x?\\s*(?:\\d+\\.?\\d*)))', flags=re.IGNORECASE)\n",
    "cdf['camera_video_fps'] = df['Main Camera_Video'].str.extract(r'(\\d+\\.?\\d*)\\s*fps', flags=re.IGNORECASE)\n",
    "\n",
    "# Selfie camera\n",
    "cdf['selfie_camera_mp'] = df['Selfie camera_Single'].str.extract(r'(\\d+\\.?\\d*)\\s*MP|Yes', flags=re.IGNORECASE)\n",
    "cdf['selfie_camera_mp'] = cdf['selfie_camera_mp'].fillna(df['Selfie camera_Dual'].str.extract(r'(\\d+\\.?\\d*)\\s*MP', flags=re.IGNORECASE)[0])\n",
    "cdf['selfie_camera_mp'] = cdf['selfie_camera_mp'].fillna(df['Selfie camera_Triple'].str.extract(r'(\\d+\\.?\\d*)\\s*MP', flags=re.IGNORECASE)[0])\n",
    "cdf['selfie_camera_f'] = df['Selfie camera_Single'].str.extract(r'f/?\\s*(\\d+\\.?\\d*)', flags=re.IGNORECASE)\n",
    "cdf['selfie_camera_f'] = cdf['selfie_camera_f'].fillna(df['Selfie camera_Dual'].str.extract(r'f/?\\s*(\\d+\\.?\\d*)', flags=re.IGNORECASE)[0])\n",
    "cdf['selfie_camera_f'] = cdf['selfie_camera_f'].fillna(df['Selfie camera_Triple'].str.extract(r'f/?\\s*(\\d+\\.?\\d*)', flags=re.IGNORECASE)[0])\n",
    "cdf['selfie_camera_video_resolution'] = df['Selfie camera_Video'].str.extract(r'(\\d+\\.?\\d*\\s*(?:K|p)|Yes|No|QCIF|QVGA|CIF|(?:(?:\\d+\\.?\\d*)\\s*x?\\s*(?:\\d+\\.?\\d*)))', flags=re.IGNORECASE)\n",
    "cdf['selfie_camera_video_fps'] = df['Selfie camera_Video'].str.extract(r'(\\d+\\.?\\d*)\\s*fps', flags=re.IGNORECASE)\n",
    "\n",
    "# Sound\n",
    "cdf['loudspeaker'] = ~df['Sound_Loudspeaker '].str.contains(r'No', case=False)\n",
    "cdf['35mm_jack'] = ~df['Sound_3.5mm jack '].str.contains(r'No', case=False, na=False)\n",
    "\n",
    "# Comms\n",
    "cdf['wifi_model'] = df['Comms_WLAN'].str.extract(r'\\d+\\.?\\d*\\s*(\\w+(?:/\\w+)*)')\n",
    "cdf['bluetooth_version'] = df['Comms_Bluetooth'].str.extract(r'(\\d+\\.?\\d*)')\n",
    "cdf['gps'] = df['Comms_Positioning'].str.contains(r'GPS', case=False, na=False)\n",
    "cdf['nfc'] = ~df['Comms_NFC'].str.contains(r'No', case=False, na=True)\n",
    "cdf['radio'] = ~df['Comms_Radio'].str.contains(r'No', case=False, na=True)\n",
    "cdf['usb_type'] = df['Comms_USB'].str.extract(r'([a-zA-Z\\-]*\\s*USB\\s*[a-zA-Z\\-]*|Lightning)', flags=re.IGNORECASE)\n",
    "cdf['usb_version'] = df['Comms_USB'].str.extract(r'(\\d+\\.?\\d*)')\n",
    "\n",
    "# Features\n",
    "cdf['biometric_auth'] = df['Features_Sensors'].str.contains(r'Fingerprint|Face', case=False, na=False)\n",
    "cdf['has_black_color'] = df['Misc_Colors'].str.contains(r'Black', case=False, na=False)\n",
    "cdf['foldable'] = df['Display_Type'].str.contains('Foldable', case=False, na=False)\n",
    "\n",
    "# Battery\n",
    "cdf['battery_type'] = df['Battery_Type'].str.extract(r'(Li-Po|Li-Ion|NiMH)', flags=re.IGNORECASE)\n",
    "cdf['battery_capacity'] = df['Battery_Type'].str.extract(r'(\\d+\\.?\\d*)\\s*mAh', flags=re.IGNORECASE)\n",
    "\n"
   ]
  },
  {
   "cell_type": "code",
   "execution_count": 7,
   "id": "87f2af55",
   "metadata": {},
   "outputs": [],
   "source": [
    "missing = df[cdf['battery_type'].isna()] # Dataset to examine missing values which were not captured using regex"
   ]
  },
  {
   "cell_type": "code",
   "execution_count": 6,
   "id": "142b8e47",
   "metadata": {},
   "outputs": [],
   "source": [
    "cdf.to_csv('extracted_phones.csv', index=False)"
   ]
  },
  {
   "cell_type": "code",
   "execution_count": null,
   "id": "326b27f9",
   "metadata": {},
   "outputs": [],
   "source": []
  }
 ],
 "metadata": {
  "kernelspec": {
   "display_name": "my-venv",
   "language": "python",
   "name": "python3"
  },
  "language_info": {
   "codemirror_mode": {
    "name": "ipython",
    "version": 3
   },
   "file_extension": ".py",
   "mimetype": "text/x-python",
   "name": "python",
   "nbconvert_exporter": "python",
   "pygments_lexer": "ipython3",
   "version": "3.13.2"
  }
 },
 "nbformat": 4,
 "nbformat_minor": 5
}
