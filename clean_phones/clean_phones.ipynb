{
 "cells": [
  {
   "cell_type": "code",
   "execution_count": 26,
   "id": "a7135a3c",
   "metadata": {},
   "outputs": [],
   "source": [
    "import pandas as pd"
   ]
  },
  {
   "cell_type": "code",
   "execution_count": 27,
   "id": "385155c9",
   "metadata": {},
   "outputs": [],
   "source": [
    "df = pd.read_csv('relevant_features.csv')\n",
    "df = df[~df['cancelled']].copy()"
   ]
  },
  {
   "cell_type": "markdown",
   "id": "accc1299",
   "metadata": {},
   "source": [
    "Fill nan numeric values with the mean of brand and model first words mean value of this attribute. Else fill with brand mean value. Else fill with dataset mean value.\n",
    "\n",
    "Do the same for categorical attributes but with mode instead."
   ]
  },
  {
   "cell_type": "code",
   "execution_count": 28,
   "id": "a63ee4fe",
   "metadata": {},
   "outputs": [],
   "source": [
    "def get_first_mode(series):\n",
    "  modes = series.mode()\n",
    "  if modes.empty:\n",
    "    return pd.NA # Or np.nan, or None, depending on preference\n",
    "  return modes.iloc[0]"
   ]
  },
  {
   "cell_type": "code",
   "execution_count": 29,
   "id": "b5feed75",
   "metadata": {},
   "outputs": [],
   "source": [
    "# Selecting first two words of phone model\n",
    "df['model_first_two_words'] = df['model'].str.split().str[:2].str.join(' ')\n",
    "\n",
    "# Selecting features and finding mean\n",
    "features = ['price', 'height_mm', 'length_mm', 'width_mm', 'weight_g', 'screen_to_body', 'chipset_nm', 'internal_rom_gb', 'internal_ram_gb', \n",
    "            'camera_mp', 'camera_f', 'camera_video_fps', 'selfie_camera_mp', 'selfie_camera_f', 'selfie_camera_video_fps', 'battery_capacity', \n",
    "            'screen_resolution_x', 'screen_resolution_y']\n",
    "features_avg = [feature + '_avg' for feature in features]\n",
    "\n",
    "cat_features = ['chipset_cores', 'camera_video_resolution', 'selfie_camera_video_resolution', 'wifi_model', 'bluetooth_version', 'usb_type', \n",
    "                'usb_version', 'battery_type']\n",
    "cat_features_mode = [feature + '_mode' for feature in cat_features]\n",
    "\n",
    "avg_model_feature = df.groupby(['brand', 'model_first_two_words'])[features].mean()\n",
    "mode_model_feature = df.groupby(['brand', 'model_first_two_words'])[cat_features].agg(get_first_mode)\n",
    "\n",
    "# Merge features to df\n",
    "df = df.join(avg_model_feature, on=['brand', 'model_first_two_words'], rsuffix='_avg', how='left')\n",
    "df = df.join(mode_model_feature, on=['brand', 'model_first_two_words'], rsuffix='_mode', how='left')\n",
    "\n",
    "# Fill nan values for each feature\n",
    "for i in range(len(features)):\n",
    "    df[features[i]] = df[features[i]].fillna(df[features_avg[i]])\n",
    "for i in range(len(cat_features)):\n",
    "    df[cat_features[i]] = df[cat_features[i]].fillna(df[cat_features_mode[i]])\n",
    "\n",
    "df.drop(columns=['model_first_two_words'], inplace=True)\n",
    "df.drop(columns=features_avg, inplace=True)\n",
    "df.drop(columns=cat_features_mode, inplace=True)"
   ]
  },
  {
   "cell_type": "code",
   "execution_count": 30,
   "id": "e1c61f28",
   "metadata": {},
   "outputs": [],
   "source": [
    "# Selecting first two words of phone model\n",
    "df['model_first_word'] = df['model'].str.split().str[0]\n",
    "\n",
    "# Selecting features and finding mean\n",
    "avg_model_price = df.groupby(['brand', 'model_first_word'])[features].mean()\n",
    "mode_model_feature = df.groupby(['brand', 'model_first_word'])[cat_features].agg(get_first_mode)\n",
    "\n",
    "# Merge features to df\n",
    "df = df.join(avg_model_price, on=['brand', 'model_first_word'], rsuffix='_avg', how='left')\n",
    "df = df.join(mode_model_feature, on=['brand', 'model_first_word'], rsuffix='_mode', how='left')\n",
    "\n",
    "# Fill nan values for each feature\n",
    "for i in range(len(features)):\n",
    "    df[features[i]] = df[features[i]].fillna(df[features_avg[i]])\n",
    "for i in range(len(cat_features)):\n",
    "    df[cat_features[i]] = df[cat_features[i]].fillna(df[cat_features_mode[i]])\n",
    "\n",
    "df.drop(columns=['model_first_word'], inplace=True)\n",
    "df.drop(columns=features_avg, inplace=True)\n",
    "df.drop(columns=cat_features_mode, inplace=True)"
   ]
  },
  {
   "cell_type": "code",
   "execution_count": 31,
   "id": "fbbe49be",
   "metadata": {},
   "outputs": [
    {
     "name": "stderr",
     "output_type": "stream",
     "text": [
      "/tmp/ipykernel_97767/2220000919.py:10: FutureWarning: Downcasting object dtype arrays on .fillna, .ffill, .bfill is deprecated and will change in a future version. Call result.infer_objects(copy=False) instead. To opt-in to the future behavior, set `pd.set_option('future.no_silent_downcasting', True)`\n",
      "  df[cat_features[i]] = df[cat_features[i]].fillna(df[cat_features_mode[i]])\n"
     ]
    }
   ],
   "source": [
    "avg_brand_price = df.groupby(['brand'])[features].mean()\n",
    "mode_brand_feature = df.groupby(['brand'])[cat_features].agg(get_first_mode)\n",
    "\n",
    "df = df.join(avg_brand_price, on='brand', rsuffix='_avg', how='left')\n",
    "df = df.join(mode_brand_feature, on='brand', rsuffix='_mode', how='left')\n",
    "\n",
    "for i in range(len(features)):\n",
    "    df[features[i]] = df[features[i]].fillna(df[features_avg[i]])\n",
    "for i in range(len(cat_features)):\n",
    "    df[cat_features[i]] = df[cat_features[i]].fillna(df[cat_features_mode[i]])\n",
    "\n",
    "df.drop(columns=features_avg, inplace=True)\n",
    "df.drop(columns=cat_features_mode, inplace=True)"
   ]
  },
  {
   "cell_type": "code",
   "execution_count": 32,
   "id": "d8caf09d",
   "metadata": {},
   "outputs": [],
   "source": [
    "for i in range(len(features)):\n",
    "    df[features[i]] = df[features[i]].fillna(df[features[i]].mean())\n",
    "for i in range(len(cat_features)):\n",
    "    df[cat_features[i]] = df[cat_features[i]].fillna(df[cat_features[i]].mode())"
   ]
  },
  {
   "cell_type": "code",
   "execution_count": 33,
   "id": "4af3fb37",
   "metadata": {},
   "outputs": [
    {
     "name": "stderr",
     "output_type": "stream",
     "text": [
      "/tmp/ipykernel_97767/1907364566.py:1: FutureWarning: Downcasting object dtype arrays on .fillna, .ffill, .bfill is deprecated and will change in a future version. Call result.infer_objects(copy=False) instead. To opt-in to the future behavior, set `pd.set_option('future.no_silent_downcasting', True)`\n",
      "  df['eSIM'] = df['eSIM'].fillna(False)\n"
     ]
    }
   ],
   "source": [
    "df['eSIM'] = df['eSIM'].fillna(False)"
   ]
  },
  {
   "cell_type": "code",
   "execution_count": 34,
   "id": "54de5f09",
   "metadata": {},
   "outputs": [],
   "source": [
    "df['announce_year'] = df['announce_year'].fillna(df['release_year'])"
   ]
  },
  {
   "cell_type": "code",
   "execution_count": 35,
   "id": "7f509e9a",
   "metadata": {},
   "outputs": [],
   "source": [
    "missing = df[df['battery_type'].isna()][['brand','phone_link','battery_type']]"
   ]
  },
  {
   "cell_type": "code",
   "execution_count": 36,
   "id": "4acc959a",
   "metadata": {},
   "outputs": [
    {
     "name": "stdout",
     "output_type": "stream",
     "text": [
      "<class 'pandas.core.frame.DataFrame'>\n",
      "Index: 3604 entries, 0 to 3640\n",
      "Data columns (total 51 columns):\n",
      " #   Column                          Non-Null Count  Dtype  \n",
      "---  ------                          --------------  -----  \n",
      " 0   brand                           3604 non-null   object \n",
      " 1   model                           3604 non-null   object \n",
      " 2   photo_link                      3604 non-null   object \n",
      " 3   phone_link                      3604 non-null   object \n",
      " 4   popularity_become_fan           3604 non-null   int64  \n",
      " 5   popularity_views                3604 non-null   int64  \n",
      " 6   popularity_views_today          3604 non-null   float64\n",
      " 7   price                           3604 non-null   float64\n",
      " 8   eSIM                            3604 non-null   bool   \n",
      " 9   announce_year                   3604 non-null   float64\n",
      " 10  available                       3604 non-null   bool   \n",
      " 11  release_year                    3604 non-null   float64\n",
      " 12  cancelled                       3604 non-null   bool   \n",
      " 13  height_mm                       3604 non-null   float64\n",
      " 14  length_mm                       3604 non-null   float64\n",
      " 15  width_mm                        3604 non-null   float64\n",
      " 16  weight_g                        3604 non-null   float64\n",
      " 17  ip_rating                       3604 non-null   object \n",
      " 18  screen_type                     3604 non-null   object \n",
      " 19  screen_hz                       3604 non-null   int64  \n",
      " 20  screen_size                     3604 non-null   float64\n",
      " 21  screen_to_body                  3604 non-null   float64\n",
      " 22  screen_resolution_x             3604 non-null   float64\n",
      " 23  screen_resolution_y             3604 non-null   float64\n",
      " 24  chipset_nm                      3604 non-null   float64\n",
      " 25  chipset_cores                   3604 non-null   object \n",
      " 26  memory_card_slot                3604 non-null   bool   \n",
      " 27  internal_rom_gb                 3604 non-null   float64\n",
      " 28  internal_ram_gb                 3604 non-null   float64\n",
      " 29  camera_mp                       3604 non-null   float64\n",
      " 30  camera_f                        3604 non-null   float64\n",
      " 31  camera_video_resolution         3604 non-null   object \n",
      " 32  camera_video_fps                3604 non-null   float64\n",
      " 33  selfie_camera_mp                3604 non-null   float64\n",
      " 34  selfie_camera_f                 3604 non-null   float64\n",
      " 35  selfie_camera_video_resolution  3604 non-null   object \n",
      " 36  selfie_camera_video_fps         3604 non-null   float64\n",
      " 37  35mm_jack                       3604 non-null   bool   \n",
      " 38  wifi_model                      3604 non-null   object \n",
      " 39  bluetooth_version               3604 non-null   float64\n",
      " 40  nfc                             3604 non-null   bool   \n",
      " 41  radio                           3604 non-null   bool   \n",
      " 42  usb_type                        3604 non-null   object \n",
      " 43  usb_version                     3604 non-null   float64\n",
      " 44  biometric_auth                  3604 non-null   bool   \n",
      " 45  has_black_color                 3604 non-null   bool   \n",
      " 46  foldable                        3604 non-null   bool   \n",
      " 47  battery_type                    3427 non-null   object \n",
      " 48  battery_capacity                3604 non-null   float64\n",
      " 49  type                            3604 non-null   object \n",
      " 50  5g                              3604 non-null   bool   \n",
      "dtypes: bool(11), float64(24), int64(3), object(13)\n",
      "memory usage: 1.2+ MB\n"
     ]
    }
   ],
   "source": [
    "df.info()"
   ]
  },
  {
   "cell_type": "code",
   "execution_count": 37,
   "id": "aeba52b5",
   "metadata": {},
   "outputs": [],
   "source": [
    "df.to_csv('clean_phones.csv', index=False)"
   ]
  },
  {
   "cell_type": "code",
   "execution_count": null,
   "id": "2c2cd0b7",
   "metadata": {},
   "outputs": [],
   "source": []
  }
 ],
 "metadata": {
  "kernelspec": {
   "display_name": "my-venv",
   "language": "python",
   "name": "python3"
  },
  "language_info": {
   "codemirror_mode": {
    "name": "ipython",
    "version": 3
   },
   "file_extension": ".py",
   "mimetype": "text/x-python",
   "name": "python",
   "nbconvert_exporter": "python",
   "pygments_lexer": "ipython3",
   "version": "3.13.3"
  }
 },
 "nbformat": 4,
 "nbformat_minor": 5
}
