{
 "cells": [
  {
   "cell_type": "code",
   "execution_count": 12,
   "id": "af1a7b87",
   "metadata": {},
   "outputs": [],
   "source": [
    "import pandas as pd\n",
    "import plotly.express as px\n",
    "import numpy as np\n",
    "import re"
   ]
  },
  {
   "cell_type": "code",
   "execution_count": 13,
   "id": "4b086e79",
   "metadata": {},
   "outputs": [],
   "source": [
    "df = pd.read_csv('extracted_phones.csv')\n",
    "for col in df.columns:\n",
    "    try:\n",
    "        pd.to_numeric(df[col])\n",
    "    except:\n",
    "        pass"
   ]
  },
  {
   "cell_type": "code",
   "execution_count": 14,
   "id": "ef04b760",
   "metadata": {},
   "outputs": [],
   "source": [
    "df.loc[9065, 'price'] = 238.43\n",
    "df.loc[7339, 'price'] = 1100"
   ]
  },
  {
   "cell_type": "code",
   "execution_count": 15,
   "id": "900192e5",
   "metadata": {},
   "outputs": [],
   "source": [
    "df['release_year'] = df['release_year'].fillna(df['announce_year'])\n",
    "df['release_year'] = df['release_year'].ffill()\n",
    "new_phones = df[(df['announce_year'] >= 2020) | (df['release_year'] >= 2020)].copy()"
   ]
  },
  {
   "cell_type": "code",
   "execution_count": 16,
   "id": "120a4084",
   "metadata": {},
   "outputs": [],
   "source": [
    "def label_device(row):\n",
    "    model = row['model']\n",
    "    brand = row['brand']\n",
    "    screen_size = row['screen_size']\n",
    "    \n",
    "    # Check for tablet conditions\n",
    "    if pd.notna(model) and ('pad' in model.lower() or 'tab' in model.lower()):\n",
    "        return 'tablet'\n",
    "    elif screen_size >=10.36:\n",
    "        return 'tablet'\n",
    "    elif brand == 'HTC' and 'A10' in model:\n",
    "        return 'tablet'\n",
    "    elif brand == 'Lenovo' and 'Legion Y' in model:\n",
    "        return 'tablet'\n",
    "    elif brand == 'Lenovo' and 'M10' in model:\n",
    "        return 'tablet'\n",
    "    elif brand == 'Nokia' and 'T' in model:\n",
    "        return 'tablet'\n",
    "    elif brand == 'TCL' and model in ['NxtPaper 14', 'NxtPaper 12 Pro', 'NxtPaper 11', 'NxtPaper 10s']:\n",
    "        return 'tablet'\n",
    "    elif brand == 'Doogee' and re.search(r'T\\d{2}|U\\d+|R\\d+', model):\n",
    "        return 'tablet'\n",
    "    elif brand == 'Amazon' and re.search(r'Fire', model):\n",
    "        return 'tablet'\n",
    "    elif brand == 'Oukitel' and re.search(r'RT\\d+|OT\\d+', model):\n",
    "        return 'tablet'\n",
    "    elif brand == 'BLU' and re.search(r'M\\d+', model):\n",
    "        return 'tablet'\n",
    "    elif brand == 'Allview' and re.search(r'Viva', model):\n",
    "        return 'tablet'\n",
    "    elif brand == 'Oscal' and re.search(r'Elite|Spider', model):\n",
    "        return 'tablet'\n",
    "    elif brand == 'alcatel' and re.search(r'3T\\d*', model):\n",
    "        return 'tablet'\n",
    "    elif brand == 'Kyocera' and re.search(r'DuraSlate', model):\n",
    "        return 'tablet'\n",
    "    # Check for watch condition\n",
    "    elif pd.notna(model) and 'watch' in model.lower():\n",
    "        return 'watch'\n",
    "    else:\n",
    "        return 'phone'  # Default to phone"
   ]
  },
  {
   "cell_type": "code",
   "execution_count": 17,
   "id": "a117fa0b",
   "metadata": {},
   "outputs": [],
   "source": [
    "new_phones['type'] = new_phones.apply(label_device, axis=1)"
   ]
  },
  {
   "cell_type": "code",
   "execution_count": 18,
   "id": "9ccb8b4d",
   "metadata": {},
   "outputs": [],
   "source": [
    "new_phones['popularity_views_today'] = new_phones['popularity_views_today'].fillna(0) # Where nan it means that the phone recieved too little visits that day and they are close to 0\n",
    "avg_model_price = new_phones.groupby(['brand', new_phones['model'].str.split().str[0]])[['price']].mean().reset_index()\n",
    "new_phones['5g'] = new_phones['network_technology'].str.contains(r'5g', case=False, na=False)\n",
    "new_phones['ip_rating'] = new_phones['ip_rating'].fillna('IPXX')\n"
   ]
  },
  {
   "cell_type": "code",
   "execution_count": 19,
   "id": "219bc087",
   "metadata": {},
   "outputs": [],
   "source": [
    "def convert_to_gb(row):\n",
    "    if row['internal_rom_unit'] == 'GB':\n",
    "        return row['internal_rom']  # Already in GB\n",
    "    elif row['internal_rom_unit'] == 'MB':\n",
    "        return row['internal_rom'] / 1024  # Convert MB to GB\n",
    "    elif row['internal_rom_unit'] == 'Mb':\n",
    "        return row['internal_rom'] / 1024  # Convert Mb to GB\n",
    "    else:\n",
    "        return None  # Handle unexpected units\n",
    "    \n",
    "new_phones['internal_rom_gb'] = df.apply(convert_to_gb, axis=1)\n",
    "\n",
    "def convert_to_gb(row):\n",
    "    if row['internal_ram_unit'] == 'GB':\n",
    "        return row['internal_ram']  # Already in GB\n",
    "    elif row['internal_ram_unit'] == 'MB':\n",
    "        return row['internal_ram'] / 1024  # Convert MB to GB\n",
    "    elif row['internal_ram_unit'] == 'Mb':\n",
    "        return row['internal_ram'] / 1024  # Convert Mb to GB\n",
    "    else:\n",
    "        return None  # Handle unexpected units\n",
    "    \n",
    "new_phones['internal_ram_gb'] = df.apply(convert_to_gb, axis=1)\n"
   ]
  },
  {
   "cell_type": "code",
   "execution_count": 20,
   "id": "35864721",
   "metadata": {},
   "outputs": [
    {
     "data": {
      "text/plain": [
       "Index(['brand', 'model', 'photo_link', 'phone_link', 'popularity_become_fan',\n",
       "       'popularity_views', 'popularity_views_today', 'price',\n",
       "       'network_technology', 'eSIM', 'announce_year', 'available',\n",
       "       'release_year', 'cancelled', 'height_mm', 'length_mm', 'width_mm',\n",
       "       'weight_g', 'ip_rating', 'screen_type', 'screen_hz', 'screen_size',\n",
       "       'screen_to_body', 'screen_resolution_x', 'screen_resolution_y',\n",
       "       'os_version', 'chipset_nm', 'chipset_cores', 'gpu_model',\n",
       "       'memory_card_slot', 'internal_rom', 'internal_rom_unit', 'internal_ram',\n",
       "       'internal_ram_unit', 'camera_mp', 'camera_f', 'camera_video_resolution',\n",
       "       'camera_video_fps', 'selfie_camera_mp', 'selfie_camera_f',\n",
       "       'selfie_camera_video_resolution', 'selfie_camera_video_fps',\n",
       "       'loudspeaker', '35mm_jack', 'wifi_model', 'bluetooth_version', 'gps',\n",
       "       'nfc', 'radio', 'usb_type', 'usb_version', 'biometric_auth',\n",
       "       'has_black_color', 'foldable', 'battery_type', 'battery_capacity',\n",
       "       'type', '5g', 'internal_rom_gb', 'internal_ram_gb'],\n",
       "      dtype='object')"
      ]
     },
     "execution_count": 20,
     "metadata": {},
     "output_type": "execute_result"
    }
   ],
   "source": [
    "new_phones.columns"
   ]
  },
  {
   "cell_type": "code",
   "execution_count": 21,
   "id": "96e9d906",
   "metadata": {},
   "outputs": [],
   "source": [
    "relevant_features = pd.DataFrame()\n",
    "relevant_features[['brand', 'model', 'photo_link', 'phone_link', 'popularity_become_fan',\n",
    "       'popularity_views', 'popularity_views_today', 'price', 'eSIM', 'announce_year', 'available',\n",
    "       'release_year', 'cancelled', 'height_mm', 'length_mm', 'width_mm',\n",
    "       'weight_g', 'ip_rating', 'screen_type', 'screen_hz', 'screen_size',\n",
    "       'screen_to_body', 'screen_resolution_x', 'screen_resolution_y', 'chipset_nm', 'chipset_cores', \n",
    "       'memory_card_slot', 'internal_rom_gb', 'internal_ram_gb', 'camera_mp', 'camera_f', 'camera_video_resolution',\n",
    "       'camera_video_fps', 'selfie_camera_mp', 'selfie_camera_f',\n",
    "       'selfie_camera_video_resolution', 'selfie_camera_video_fps', '35mm_jack', 'wifi_model', 'bluetooth_version', \n",
    "       'nfc', 'radio', 'usb_type', 'usb_version', 'biometric_auth', 'has_black_color', 'foldable', 'battery_type', 'battery_capacity',\n",
    "       'type', '5g']] = new_phones[['brand', 'model', 'photo_link', 'phone_link', 'popularity_become_fan',\n",
    "       'popularity_views', 'popularity_views_today', 'price', 'eSIM', 'announce_year', 'available',\n",
    "       'release_year', 'cancelled', 'height_mm', 'length_mm', 'width_mm',\n",
    "       'weight_g', 'ip_rating', 'screen_type', 'screen_hz', 'screen_size',\n",
    "       'screen_to_body', 'screen_resolution_x', 'screen_resolution_y', 'chipset_nm', 'chipset_cores', \n",
    "       'memory_card_slot', 'internal_rom_gb', 'internal_ram_gb', 'camera_mp', 'camera_f', 'camera_video_resolution',\n",
    "       'camera_video_fps', 'selfie_camera_mp', 'selfie_camera_f',\n",
    "       'selfie_camera_video_resolution', 'selfie_camera_video_fps', '35mm_jack', 'wifi_model', 'bluetooth_version', \n",
    "       'nfc', 'radio', 'usb_type', 'usb_version', 'biometric_auth', 'has_black_color', 'foldable', 'battery_type', 'battery_capacity',\n",
    "       'type', '5g']]"
   ]
  },
  {
   "cell_type": "code",
   "execution_count": 22,
   "id": "dcd35ded",
   "metadata": {},
   "outputs": [],
   "source": [
    "relevant_features.to_csv('relevant_features.csv', index=False)"
   ]
  }
 ],
 "metadata": {
  "kernelspec": {
   "display_name": "my-venv",
   "language": "python",
   "name": "python3"
  },
  "language_info": {
   "codemirror_mode": {
    "name": "ipython",
    "version": 3
   },
   "file_extension": ".py",
   "mimetype": "text/x-python",
   "name": "python",
   "nbconvert_exporter": "python",
   "pygments_lexer": "ipython3",
   "version": "3.13.3"
  }
 },
 "nbformat": 4,
 "nbformat_minor": 5
}
