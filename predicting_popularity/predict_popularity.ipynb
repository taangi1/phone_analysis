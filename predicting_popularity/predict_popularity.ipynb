{
 "cells": [
  {
   "cell_type": "markdown",
   "id": "e30dca54",
   "metadata": {},
   "source": [
    "Here I will build a regression model to predict the popularity of the phone"
   ]
  },
  {
   "cell_type": "code",
   "execution_count": 73,
   "id": "46545ac6",
   "metadata": {},
   "outputs": [],
   "source": [
    "import pandas as pd\n",
    "from sklearn.model_selection import train_test_split\n",
    "from sklearn.pipeline import Pipeline\n",
    "from sklearn.preprocessing import StandardScaler, OneHotEncoder\n",
    "from sklearn.compose import ColumnTransformer\n",
    "from sklearn.ensemble import RandomForestRegressor\n",
    "from sklearn.linear_model import Ridge\n",
    "from sklearn.metrics import mean_absolute_error\n",
    "import seaborn as sns\n",
    "import matplotlib.pyplot as plt"
   ]
  },
  {
   "cell_type": "code",
   "execution_count": 74,
   "id": "2e9a4048",
   "metadata": {},
   "outputs": [],
   "source": [
    "df = pd.read_csv('../clean_phones/clean_phones.csv')\n",
    "df['battery_type'] = df['battery_type'].fillna('Li-Po')\n",
    "df = df[df['type'] == 'phone']"
   ]
  },
  {
   "cell_type": "code",
   "execution_count": 75,
   "id": "187c6698",
   "metadata": {},
   "outputs": [
    {
     "data": {
      "text/plain": [
       "Index(['brand', 'model', 'photo_link', 'phone_link', 'popularity_become_fan',\n",
       "       'popularity_views', 'popularity_views_today', 'price', 'eSIM',\n",
       "       'announce_year', 'available', 'release_year', 'cancelled', 'height_mm',\n",
       "       'length_mm', 'width_mm', 'weight_g', 'ip_rating', 'screen_type',\n",
       "       'screen_hz', 'screen_size', 'screen_to_body', 'screen_resolution_x',\n",
       "       'screen_resolution_y', 'chipset_nm', 'chipset_cores',\n",
       "       'memory_card_slot', 'internal_rom_gb', 'internal_ram_gb', 'camera_mp',\n",
       "       'camera_f', 'camera_video_resolution', 'camera_video_fps',\n",
       "       'selfie_camera_mp', 'selfie_camera_f', 'selfie_camera_video_resolution',\n",
       "       'selfie_camera_video_fps', '35mm_jack', 'wifi_model',\n",
       "       'bluetooth_version', 'nfc', 'radio', 'usb_type', 'usb_version',\n",
       "       'biometric_auth', 'has_black_color', 'foldable', 'battery_type',\n",
       "       'battery_capacity', 'type', '5g'],\n",
       "      dtype='object')"
      ]
     },
     "execution_count": 75,
     "metadata": {},
     "output_type": "execute_result"
    }
   ],
   "source": [
    "df.columns"
   ]
  },
  {
   "cell_type": "markdown",
   "id": "67a82c0e",
   "metadata": {},
   "source": [
    "From the features above, features such as `photo_link`, `phone_link`, `popularity_views`, `popularity_views_today` will be removed and the target variable is `popularity_become_fan`. The features `popularity_views` and `popularity_views_today` are removed because they too closely follow the target feature."
   ]
  },
  {
   "cell_type": "markdown",
   "id": "f306bb31",
   "metadata": {},
   "source": [
    "Now I will build a baseline model and try to improve it's predictions as I go over different models and features."
   ]
  },
  {
   "cell_type": "code",
   "execution_count": 76,
   "id": "9f924070",
   "metadata": {},
   "outputs": [],
   "source": [
    "features = ['brand', 'model', #'popularity_become_fan', <-- the target feature\n",
    "       'price', 'eSIM',\n",
    "       'announce_year', 'available', 'release_year', 'cancelled', 'height_mm',\n",
    "       'length_mm', 'width_mm', 'weight_g', 'ip_rating', 'screen_type',\n",
    "       'screen_hz', 'screen_size', 'screen_to_body', 'screen_resolution_x',\n",
    "       'screen_resolution_y', 'chipset_nm', 'chipset_cores',\n",
    "       'memory_card_slot', 'internal_rom_gb', 'internal_ram_gb', 'camera_mp',\n",
    "       'camera_f', 'camera_video_resolution', 'camera_video_fps',\n",
    "       'selfie_camera_mp', 'selfie_camera_f', 'selfie_camera_video_resolution',\n",
    "       'selfie_camera_video_fps', '35mm_jack', 'wifi_model',\n",
    "       'bluetooth_version', 'nfc', 'radio', 'usb_type', 'usb_version',\n",
    "       'biometric_auth', 'has_black_color', 'foldable', 'battery_type',\n",
    "       'battery_capacity', 'type', '5g']"
   ]
  },
  {
   "cell_type": "code",
   "execution_count": 77,
   "id": "2fec1083",
   "metadata": {},
   "outputs": [],
   "source": [
    "num_features = ['price', 'eSIM', 'release_year', 'height_mm',\n",
    "       'length_mm', 'width_mm', 'weight_g', 'screen_hz', 'screen_size', 'screen_to_body', 'screen_resolution_x',\n",
    "       'screen_resolution_y', 'chipset_nm', 'memory_card_slot', 'internal_rom_gb', 'internal_ram_gb', 'camera_mp',\n",
    "       'camera_f', 'camera_video_fps',\n",
    "       'selfie_camera_mp', 'selfie_camera_f', 'selfie_camera_video_fps', '35mm_jack',\n",
    "       'bluetooth_version', 'nfc', 'radio', 'usb_version',\n",
    "       'biometric_auth', 'has_black_color', 'foldable', 'battery_capacity', '5g']\n",
    "\n",
    "cat_features = ['brand', 'ip_rating', 'screen_type', 'chipset_cores', 'camera_video_resolution',\n",
    "                'selfie_camera_video_resolution', 'usb_type', 'wifi_model', 'battery_type']"
   ]
  },
  {
   "cell_type": "code",
   "execution_count": 78,
   "id": "8f9ad348",
   "metadata": {},
   "outputs": [],
   "source": [
    "numerical_transformer = Pipeline(steps=[\n",
    "    ('scaler', StandardScaler())\n",
    "])\n",
    "categorical_transformer = Pipeline(steps=[\n",
    "    ('onehot', OneHotEncoder(handle_unknown='ignore'))\n",
    "])"
   ]
  },
  {
   "cell_type": "code",
   "execution_count": 79,
   "id": "f9186491",
   "metadata": {},
   "outputs": [],
   "source": [
    "column_transformer = ColumnTransformer(transformers=[\n",
    "    ('num', numerical_transformer, num_features),\n",
    "    ('cat', categorical_transformer, cat_features)\n",
    "])"
   ]
  },
  {
   "cell_type": "code",
   "execution_count": 80,
   "id": "a085e163",
   "metadata": {},
   "outputs": [],
   "source": [
    "ridge_model = Pipeline(steps=[\n",
    "    ('preprocessor', column_transformer),\n",
    "    ('classifier', Ridge(random_state=42))\n",
    "])"
   ]
  },
  {
   "cell_type": "code",
   "execution_count": 81,
   "id": "4f57835c",
   "metadata": {},
   "outputs": [],
   "source": [
    "X = df[num_features + cat_features]\n",
    "y = df['popularity_become_fan']"
   ]
  },
  {
   "cell_type": "code",
   "execution_count": 82,
   "id": "9e6df933",
   "metadata": {},
   "outputs": [],
   "source": [
    "X_train, X_test, y_train, y_test = train_test_split(X, y, test_size=0.2, random_state=42)"
   ]
  },
  {
   "cell_type": "code",
   "execution_count": 83,
   "id": "a0c65ed4",
   "metadata": {},
   "outputs": [
    {
     "data": {
      "text/html": [
       "<style>#sk-container-id-3 {\n",
       "  /* Definition of color scheme common for light and dark mode */\n",
       "  --sklearn-color-text: #000;\n",
       "  --sklearn-color-text-muted: #666;\n",
       "  --sklearn-color-line: gray;\n",
       "  /* Definition of color scheme for unfitted estimators */\n",
       "  --sklearn-color-unfitted-level-0: #fff5e6;\n",
       "  --sklearn-color-unfitted-level-1: #f6e4d2;\n",
       "  --sklearn-color-unfitted-level-2: #ffe0b3;\n",
       "  --sklearn-color-unfitted-level-3: chocolate;\n",
       "  /* Definition of color scheme for fitted estimators */\n",
       "  --sklearn-color-fitted-level-0: #f0f8ff;\n",
       "  --sklearn-color-fitted-level-1: #d4ebff;\n",
       "  --sklearn-color-fitted-level-2: #b3dbfd;\n",
       "  --sklearn-color-fitted-level-3: cornflowerblue;\n",
       "\n",
       "  /* Specific color for light theme */\n",
       "  --sklearn-color-text-on-default-background: var(--sg-text-color, var(--theme-code-foreground, var(--jp-content-font-color1, black)));\n",
       "  --sklearn-color-background: var(--sg-background-color, var(--theme-background, var(--jp-layout-color0, white)));\n",
       "  --sklearn-color-border-box: var(--sg-text-color, var(--theme-code-foreground, var(--jp-content-font-color1, black)));\n",
       "  --sklearn-color-icon: #696969;\n",
       "\n",
       "  @media (prefers-color-scheme: dark) {\n",
       "    /* Redefinition of color scheme for dark theme */\n",
       "    --sklearn-color-text-on-default-background: var(--sg-text-color, var(--theme-code-foreground, var(--jp-content-font-color1, white)));\n",
       "    --sklearn-color-background: var(--sg-background-color, var(--theme-background, var(--jp-layout-color0, #111)));\n",
       "    --sklearn-color-border-box: var(--sg-text-color, var(--theme-code-foreground, var(--jp-content-font-color1, white)));\n",
       "    --sklearn-color-icon: #878787;\n",
       "  }\n",
       "}\n",
       "\n",
       "#sk-container-id-3 {\n",
       "  color: var(--sklearn-color-text);\n",
       "}\n",
       "\n",
       "#sk-container-id-3 pre {\n",
       "  padding: 0;\n",
       "}\n",
       "\n",
       "#sk-container-id-3 input.sk-hidden--visually {\n",
       "  border: 0;\n",
       "  clip: rect(1px 1px 1px 1px);\n",
       "  clip: rect(1px, 1px, 1px, 1px);\n",
       "  height: 1px;\n",
       "  margin: -1px;\n",
       "  overflow: hidden;\n",
       "  padding: 0;\n",
       "  position: absolute;\n",
       "  width: 1px;\n",
       "}\n",
       "\n",
       "#sk-container-id-3 div.sk-dashed-wrapped {\n",
       "  border: 1px dashed var(--sklearn-color-line);\n",
       "  margin: 0 0.4em 0.5em 0.4em;\n",
       "  box-sizing: border-box;\n",
       "  padding-bottom: 0.4em;\n",
       "  background-color: var(--sklearn-color-background);\n",
       "}\n",
       "\n",
       "#sk-container-id-3 div.sk-container {\n",
       "  /* jupyter's `normalize.less` sets `[hidden] { display: none; }`\n",
       "     but bootstrap.min.css set `[hidden] { display: none !important; }`\n",
       "     so we also need the `!important` here to be able to override the\n",
       "     default hidden behavior on the sphinx rendered scikit-learn.org.\n",
       "     See: https://github.com/scikit-learn/scikit-learn/issues/21755 */\n",
       "  display: inline-block !important;\n",
       "  position: relative;\n",
       "}\n",
       "\n",
       "#sk-container-id-3 div.sk-text-repr-fallback {\n",
       "  display: none;\n",
       "}\n",
       "\n",
       "div.sk-parallel-item,\n",
       "div.sk-serial,\n",
       "div.sk-item {\n",
       "  /* draw centered vertical line to link estimators */\n",
       "  background-image: linear-gradient(var(--sklearn-color-text-on-default-background), var(--sklearn-color-text-on-default-background));\n",
       "  background-size: 2px 100%;\n",
       "  background-repeat: no-repeat;\n",
       "  background-position: center center;\n",
       "}\n",
       "\n",
       "/* Parallel-specific style estimator block */\n",
       "\n",
       "#sk-container-id-3 div.sk-parallel-item::after {\n",
       "  content: \"\";\n",
       "  width: 100%;\n",
       "  border-bottom: 2px solid var(--sklearn-color-text-on-default-background);\n",
       "  flex-grow: 1;\n",
       "}\n",
       "\n",
       "#sk-container-id-3 div.sk-parallel {\n",
       "  display: flex;\n",
       "  align-items: stretch;\n",
       "  justify-content: center;\n",
       "  background-color: var(--sklearn-color-background);\n",
       "  position: relative;\n",
       "}\n",
       "\n",
       "#sk-container-id-3 div.sk-parallel-item {\n",
       "  display: flex;\n",
       "  flex-direction: column;\n",
       "}\n",
       "\n",
       "#sk-container-id-3 div.sk-parallel-item:first-child::after {\n",
       "  align-self: flex-end;\n",
       "  width: 50%;\n",
       "}\n",
       "\n",
       "#sk-container-id-3 div.sk-parallel-item:last-child::after {\n",
       "  align-self: flex-start;\n",
       "  width: 50%;\n",
       "}\n",
       "\n",
       "#sk-container-id-3 div.sk-parallel-item:only-child::after {\n",
       "  width: 0;\n",
       "}\n",
       "\n",
       "/* Serial-specific style estimator block */\n",
       "\n",
       "#sk-container-id-3 div.sk-serial {\n",
       "  display: flex;\n",
       "  flex-direction: column;\n",
       "  align-items: center;\n",
       "  background-color: var(--sklearn-color-background);\n",
       "  padding-right: 1em;\n",
       "  padding-left: 1em;\n",
       "}\n",
       "\n",
       "\n",
       "/* Toggleable style: style used for estimator/Pipeline/ColumnTransformer box that is\n",
       "clickable and can be expanded/collapsed.\n",
       "- Pipeline and ColumnTransformer use this feature and define the default style\n",
       "- Estimators will overwrite some part of the style using the `sk-estimator` class\n",
       "*/\n",
       "\n",
       "/* Pipeline and ColumnTransformer style (default) */\n",
       "\n",
       "#sk-container-id-3 div.sk-toggleable {\n",
       "  /* Default theme specific background. It is overwritten whether we have a\n",
       "  specific estimator or a Pipeline/ColumnTransformer */\n",
       "  background-color: var(--sklearn-color-background);\n",
       "}\n",
       "\n",
       "/* Toggleable label */\n",
       "#sk-container-id-3 label.sk-toggleable__label {\n",
       "  cursor: pointer;\n",
       "  display: flex;\n",
       "  width: 100%;\n",
       "  margin-bottom: 0;\n",
       "  padding: 0.5em;\n",
       "  box-sizing: border-box;\n",
       "  text-align: center;\n",
       "  align-items: start;\n",
       "  justify-content: space-between;\n",
       "  gap: 0.5em;\n",
       "}\n",
       "\n",
       "#sk-container-id-3 label.sk-toggleable__label .caption {\n",
       "  font-size: 0.6rem;\n",
       "  font-weight: lighter;\n",
       "  color: var(--sklearn-color-text-muted);\n",
       "}\n",
       "\n",
       "#sk-container-id-3 label.sk-toggleable__label-arrow:before {\n",
       "  /* Arrow on the left of the label */\n",
       "  content: \"▸\";\n",
       "  float: left;\n",
       "  margin-right: 0.25em;\n",
       "  color: var(--sklearn-color-icon);\n",
       "}\n",
       "\n",
       "#sk-container-id-3 label.sk-toggleable__label-arrow:hover:before {\n",
       "  color: var(--sklearn-color-text);\n",
       "}\n",
       "\n",
       "/* Toggleable content - dropdown */\n",
       "\n",
       "#sk-container-id-3 div.sk-toggleable__content {\n",
       "  max-height: 0;\n",
       "  max-width: 0;\n",
       "  overflow: hidden;\n",
       "  text-align: left;\n",
       "  /* unfitted */\n",
       "  background-color: var(--sklearn-color-unfitted-level-0);\n",
       "}\n",
       "\n",
       "#sk-container-id-3 div.sk-toggleable__content.fitted {\n",
       "  /* fitted */\n",
       "  background-color: var(--sklearn-color-fitted-level-0);\n",
       "}\n",
       "\n",
       "#sk-container-id-3 div.sk-toggleable__content pre {\n",
       "  margin: 0.2em;\n",
       "  border-radius: 0.25em;\n",
       "  color: var(--sklearn-color-text);\n",
       "  /* unfitted */\n",
       "  background-color: var(--sklearn-color-unfitted-level-0);\n",
       "}\n",
       "\n",
       "#sk-container-id-3 div.sk-toggleable__content.fitted pre {\n",
       "  /* unfitted */\n",
       "  background-color: var(--sklearn-color-fitted-level-0);\n",
       "}\n",
       "\n",
       "#sk-container-id-3 input.sk-toggleable__control:checked~div.sk-toggleable__content {\n",
       "  /* Expand drop-down */\n",
       "  max-height: 200px;\n",
       "  max-width: 100%;\n",
       "  overflow: auto;\n",
       "}\n",
       "\n",
       "#sk-container-id-3 input.sk-toggleable__control:checked~label.sk-toggleable__label-arrow:before {\n",
       "  content: \"▾\";\n",
       "}\n",
       "\n",
       "/* Pipeline/ColumnTransformer-specific style */\n",
       "\n",
       "#sk-container-id-3 div.sk-label input.sk-toggleable__control:checked~label.sk-toggleable__label {\n",
       "  color: var(--sklearn-color-text);\n",
       "  background-color: var(--sklearn-color-unfitted-level-2);\n",
       "}\n",
       "\n",
       "#sk-container-id-3 div.sk-label.fitted input.sk-toggleable__control:checked~label.sk-toggleable__label {\n",
       "  background-color: var(--sklearn-color-fitted-level-2);\n",
       "}\n",
       "\n",
       "/* Estimator-specific style */\n",
       "\n",
       "/* Colorize estimator box */\n",
       "#sk-container-id-3 div.sk-estimator input.sk-toggleable__control:checked~label.sk-toggleable__label {\n",
       "  /* unfitted */\n",
       "  background-color: var(--sklearn-color-unfitted-level-2);\n",
       "}\n",
       "\n",
       "#sk-container-id-3 div.sk-estimator.fitted input.sk-toggleable__control:checked~label.sk-toggleable__label {\n",
       "  /* fitted */\n",
       "  background-color: var(--sklearn-color-fitted-level-2);\n",
       "}\n",
       "\n",
       "#sk-container-id-3 div.sk-label label.sk-toggleable__label,\n",
       "#sk-container-id-3 div.sk-label label {\n",
       "  /* The background is the default theme color */\n",
       "  color: var(--sklearn-color-text-on-default-background);\n",
       "}\n",
       "\n",
       "/* On hover, darken the color of the background */\n",
       "#sk-container-id-3 div.sk-label:hover label.sk-toggleable__label {\n",
       "  color: var(--sklearn-color-text);\n",
       "  background-color: var(--sklearn-color-unfitted-level-2);\n",
       "}\n",
       "\n",
       "/* Label box, darken color on hover, fitted */\n",
       "#sk-container-id-3 div.sk-label.fitted:hover label.sk-toggleable__label.fitted {\n",
       "  color: var(--sklearn-color-text);\n",
       "  background-color: var(--sklearn-color-fitted-level-2);\n",
       "}\n",
       "\n",
       "/* Estimator label */\n",
       "\n",
       "#sk-container-id-3 div.sk-label label {\n",
       "  font-family: monospace;\n",
       "  font-weight: bold;\n",
       "  display: inline-block;\n",
       "  line-height: 1.2em;\n",
       "}\n",
       "\n",
       "#sk-container-id-3 div.sk-label-container {\n",
       "  text-align: center;\n",
       "}\n",
       "\n",
       "/* Estimator-specific */\n",
       "#sk-container-id-3 div.sk-estimator {\n",
       "  font-family: monospace;\n",
       "  border: 1px dotted var(--sklearn-color-border-box);\n",
       "  border-radius: 0.25em;\n",
       "  box-sizing: border-box;\n",
       "  margin-bottom: 0.5em;\n",
       "  /* unfitted */\n",
       "  background-color: var(--sklearn-color-unfitted-level-0);\n",
       "}\n",
       "\n",
       "#sk-container-id-3 div.sk-estimator.fitted {\n",
       "  /* fitted */\n",
       "  background-color: var(--sklearn-color-fitted-level-0);\n",
       "}\n",
       "\n",
       "/* on hover */\n",
       "#sk-container-id-3 div.sk-estimator:hover {\n",
       "  /* unfitted */\n",
       "  background-color: var(--sklearn-color-unfitted-level-2);\n",
       "}\n",
       "\n",
       "#sk-container-id-3 div.sk-estimator.fitted:hover {\n",
       "  /* fitted */\n",
       "  background-color: var(--sklearn-color-fitted-level-2);\n",
       "}\n",
       "\n",
       "/* Specification for estimator info (e.g. \"i\" and \"?\") */\n",
       "\n",
       "/* Common style for \"i\" and \"?\" */\n",
       "\n",
       ".sk-estimator-doc-link,\n",
       "a:link.sk-estimator-doc-link,\n",
       "a:visited.sk-estimator-doc-link {\n",
       "  float: right;\n",
       "  font-size: smaller;\n",
       "  line-height: 1em;\n",
       "  font-family: monospace;\n",
       "  background-color: var(--sklearn-color-background);\n",
       "  border-radius: 1em;\n",
       "  height: 1em;\n",
       "  width: 1em;\n",
       "  text-decoration: none !important;\n",
       "  margin-left: 0.5em;\n",
       "  text-align: center;\n",
       "  /* unfitted */\n",
       "  border: var(--sklearn-color-unfitted-level-1) 1pt solid;\n",
       "  color: var(--sklearn-color-unfitted-level-1);\n",
       "}\n",
       "\n",
       ".sk-estimator-doc-link.fitted,\n",
       "a:link.sk-estimator-doc-link.fitted,\n",
       "a:visited.sk-estimator-doc-link.fitted {\n",
       "  /* fitted */\n",
       "  border: var(--sklearn-color-fitted-level-1) 1pt solid;\n",
       "  color: var(--sklearn-color-fitted-level-1);\n",
       "}\n",
       "\n",
       "/* On hover */\n",
       "div.sk-estimator:hover .sk-estimator-doc-link:hover,\n",
       ".sk-estimator-doc-link:hover,\n",
       "div.sk-label-container:hover .sk-estimator-doc-link:hover,\n",
       ".sk-estimator-doc-link:hover {\n",
       "  /* unfitted */\n",
       "  background-color: var(--sklearn-color-unfitted-level-3);\n",
       "  color: var(--sklearn-color-background);\n",
       "  text-decoration: none;\n",
       "}\n",
       "\n",
       "div.sk-estimator.fitted:hover .sk-estimator-doc-link.fitted:hover,\n",
       ".sk-estimator-doc-link.fitted:hover,\n",
       "div.sk-label-container:hover .sk-estimator-doc-link.fitted:hover,\n",
       ".sk-estimator-doc-link.fitted:hover {\n",
       "  /* fitted */\n",
       "  background-color: var(--sklearn-color-fitted-level-3);\n",
       "  color: var(--sklearn-color-background);\n",
       "  text-decoration: none;\n",
       "}\n",
       "\n",
       "/* Span, style for the box shown on hovering the info icon */\n",
       ".sk-estimator-doc-link span {\n",
       "  display: none;\n",
       "  z-index: 9999;\n",
       "  position: relative;\n",
       "  font-weight: normal;\n",
       "  right: .2ex;\n",
       "  padding: .5ex;\n",
       "  margin: .5ex;\n",
       "  width: min-content;\n",
       "  min-width: 20ex;\n",
       "  max-width: 50ex;\n",
       "  color: var(--sklearn-color-text);\n",
       "  box-shadow: 2pt 2pt 4pt #999;\n",
       "  /* unfitted */\n",
       "  background: var(--sklearn-color-unfitted-level-0);\n",
       "  border: .5pt solid var(--sklearn-color-unfitted-level-3);\n",
       "}\n",
       "\n",
       ".sk-estimator-doc-link.fitted span {\n",
       "  /* fitted */\n",
       "  background: var(--sklearn-color-fitted-level-0);\n",
       "  border: var(--sklearn-color-fitted-level-3);\n",
       "}\n",
       "\n",
       ".sk-estimator-doc-link:hover span {\n",
       "  display: block;\n",
       "}\n",
       "\n",
       "/* \"?\"-specific style due to the `<a>` HTML tag */\n",
       "\n",
       "#sk-container-id-3 a.estimator_doc_link {\n",
       "  float: right;\n",
       "  font-size: 1rem;\n",
       "  line-height: 1em;\n",
       "  font-family: monospace;\n",
       "  background-color: var(--sklearn-color-background);\n",
       "  border-radius: 1rem;\n",
       "  height: 1rem;\n",
       "  width: 1rem;\n",
       "  text-decoration: none;\n",
       "  /* unfitted */\n",
       "  color: var(--sklearn-color-unfitted-level-1);\n",
       "  border: var(--sklearn-color-unfitted-level-1) 1pt solid;\n",
       "}\n",
       "\n",
       "#sk-container-id-3 a.estimator_doc_link.fitted {\n",
       "  /* fitted */\n",
       "  border: var(--sklearn-color-fitted-level-1) 1pt solid;\n",
       "  color: var(--sklearn-color-fitted-level-1);\n",
       "}\n",
       "\n",
       "/* On hover */\n",
       "#sk-container-id-3 a.estimator_doc_link:hover {\n",
       "  /* unfitted */\n",
       "  background-color: var(--sklearn-color-unfitted-level-3);\n",
       "  color: var(--sklearn-color-background);\n",
       "  text-decoration: none;\n",
       "}\n",
       "\n",
       "#sk-container-id-3 a.estimator_doc_link.fitted:hover {\n",
       "  /* fitted */\n",
       "  background-color: var(--sklearn-color-fitted-level-3);\n",
       "}\n",
       "</style><div id=\"sk-container-id-3\" class=\"sk-top-container\"><div class=\"sk-text-repr-fallback\"><pre>Pipeline(steps=[(&#x27;preprocessor&#x27;,\n",
       "                 ColumnTransformer(transformers=[(&#x27;num&#x27;,\n",
       "                                                  Pipeline(steps=[(&#x27;scaler&#x27;,\n",
       "                                                                   StandardScaler())]),\n",
       "                                                  [&#x27;price&#x27;, &#x27;eSIM&#x27;,\n",
       "                                                   &#x27;release_year&#x27;, &#x27;height_mm&#x27;,\n",
       "                                                   &#x27;length_mm&#x27;, &#x27;width_mm&#x27;,\n",
       "                                                   &#x27;weight_g&#x27;, &#x27;screen_hz&#x27;,\n",
       "                                                   &#x27;screen_size&#x27;,\n",
       "                                                   &#x27;screen_to_body&#x27;,\n",
       "                                                   &#x27;screen_resolution_x&#x27;,\n",
       "                                                   &#x27;screen_resolution_y&#x27;,\n",
       "                                                   &#x27;chipset_nm&#x27;,\n",
       "                                                   &#x27;memory_card_slot&#x27;,\n",
       "                                                   &#x27;internal_rom_gb&#x27;,\n",
       "                                                   &#x27;internal_ram_gb&#x27;,\n",
       "                                                   &#x27;...\n",
       "                                                   &#x27;bluetooth_version&#x27;, &#x27;nfc&#x27;,\n",
       "                                                   &#x27;radio&#x27;, &#x27;usb_version&#x27;,\n",
       "                                                   &#x27;biometric_auth&#x27;,\n",
       "                                                   &#x27;has_black_color&#x27;,\n",
       "                                                   &#x27;foldable&#x27;, ...]),\n",
       "                                                 (&#x27;cat&#x27;,\n",
       "                                                  Pipeline(steps=[(&#x27;onehot&#x27;,\n",
       "                                                                   OneHotEncoder(handle_unknown=&#x27;ignore&#x27;))]),\n",
       "                                                  [&#x27;brand&#x27;, &#x27;ip_rating&#x27;,\n",
       "                                                   &#x27;screen_type&#x27;,\n",
       "                                                   &#x27;chipset_cores&#x27;,\n",
       "                                                   &#x27;camera_video_resolution&#x27;,\n",
       "                                                   &#x27;selfie_camera_video_resolution&#x27;,\n",
       "                                                   &#x27;usb_type&#x27;, &#x27;wifi_model&#x27;,\n",
       "                                                   &#x27;battery_type&#x27;])])),\n",
       "                (&#x27;classifier&#x27;, Ridge(random_state=42))])</pre><b>In a Jupyter environment, please rerun this cell to show the HTML representation or trust the notebook. <br />On GitHub, the HTML representation is unable to render, please try loading this page with nbviewer.org.</b></div><div class=\"sk-container\" hidden><div class=\"sk-item sk-dashed-wrapped\"><div class=\"sk-label-container\"><div class=\"sk-label fitted sk-toggleable\"><input class=\"sk-toggleable__control sk-hidden--visually\" id=\"sk-estimator-id-15\" type=\"checkbox\" ><label for=\"sk-estimator-id-15\" class=\"sk-toggleable__label fitted sk-toggleable__label-arrow\"><div><div>Pipeline</div></div><div><a class=\"sk-estimator-doc-link fitted\" rel=\"noreferrer\" target=\"_blank\" href=\"https://scikit-learn.org/1.6/modules/generated/sklearn.pipeline.Pipeline.html\">?<span>Documentation for Pipeline</span></a><span class=\"sk-estimator-doc-link fitted\">i<span>Fitted</span></span></div></label><div class=\"sk-toggleable__content fitted\"><pre>Pipeline(steps=[(&#x27;preprocessor&#x27;,\n",
       "                 ColumnTransformer(transformers=[(&#x27;num&#x27;,\n",
       "                                                  Pipeline(steps=[(&#x27;scaler&#x27;,\n",
       "                                                                   StandardScaler())]),\n",
       "                                                  [&#x27;price&#x27;, &#x27;eSIM&#x27;,\n",
       "                                                   &#x27;release_year&#x27;, &#x27;height_mm&#x27;,\n",
       "                                                   &#x27;length_mm&#x27;, &#x27;width_mm&#x27;,\n",
       "                                                   &#x27;weight_g&#x27;, &#x27;screen_hz&#x27;,\n",
       "                                                   &#x27;screen_size&#x27;,\n",
       "                                                   &#x27;screen_to_body&#x27;,\n",
       "                                                   &#x27;screen_resolution_x&#x27;,\n",
       "                                                   &#x27;screen_resolution_y&#x27;,\n",
       "                                                   &#x27;chipset_nm&#x27;,\n",
       "                                                   &#x27;memory_card_slot&#x27;,\n",
       "                                                   &#x27;internal_rom_gb&#x27;,\n",
       "                                                   &#x27;internal_ram_gb&#x27;,\n",
       "                                                   &#x27;...\n",
       "                                                   &#x27;bluetooth_version&#x27;, &#x27;nfc&#x27;,\n",
       "                                                   &#x27;radio&#x27;, &#x27;usb_version&#x27;,\n",
       "                                                   &#x27;biometric_auth&#x27;,\n",
       "                                                   &#x27;has_black_color&#x27;,\n",
       "                                                   &#x27;foldable&#x27;, ...]),\n",
       "                                                 (&#x27;cat&#x27;,\n",
       "                                                  Pipeline(steps=[(&#x27;onehot&#x27;,\n",
       "                                                                   OneHotEncoder(handle_unknown=&#x27;ignore&#x27;))]),\n",
       "                                                  [&#x27;brand&#x27;, &#x27;ip_rating&#x27;,\n",
       "                                                   &#x27;screen_type&#x27;,\n",
       "                                                   &#x27;chipset_cores&#x27;,\n",
       "                                                   &#x27;camera_video_resolution&#x27;,\n",
       "                                                   &#x27;selfie_camera_video_resolution&#x27;,\n",
       "                                                   &#x27;usb_type&#x27;, &#x27;wifi_model&#x27;,\n",
       "                                                   &#x27;battery_type&#x27;])])),\n",
       "                (&#x27;classifier&#x27;, Ridge(random_state=42))])</pre></div> </div></div><div class=\"sk-serial\"><div class=\"sk-item sk-dashed-wrapped\"><div class=\"sk-label-container\"><div class=\"sk-label fitted sk-toggleable\"><input class=\"sk-toggleable__control sk-hidden--visually\" id=\"sk-estimator-id-16\" type=\"checkbox\" ><label for=\"sk-estimator-id-16\" class=\"sk-toggleable__label fitted sk-toggleable__label-arrow\"><div><div>preprocessor: ColumnTransformer</div></div><div><a class=\"sk-estimator-doc-link fitted\" rel=\"noreferrer\" target=\"_blank\" href=\"https://scikit-learn.org/1.6/modules/generated/sklearn.compose.ColumnTransformer.html\">?<span>Documentation for preprocessor: ColumnTransformer</span></a></div></label><div class=\"sk-toggleable__content fitted\"><pre>ColumnTransformer(transformers=[(&#x27;num&#x27;,\n",
       "                                 Pipeline(steps=[(&#x27;scaler&#x27;, StandardScaler())]),\n",
       "                                 [&#x27;price&#x27;, &#x27;eSIM&#x27;, &#x27;release_year&#x27;, &#x27;height_mm&#x27;,\n",
       "                                  &#x27;length_mm&#x27;, &#x27;width_mm&#x27;, &#x27;weight_g&#x27;,\n",
       "                                  &#x27;screen_hz&#x27;, &#x27;screen_size&#x27;, &#x27;screen_to_body&#x27;,\n",
       "                                  &#x27;screen_resolution_x&#x27;, &#x27;screen_resolution_y&#x27;,\n",
       "                                  &#x27;chipset_nm&#x27;, &#x27;memory_card_slot&#x27;,\n",
       "                                  &#x27;internal_rom_gb&#x27;, &#x27;internal_ram_gb&#x27;,\n",
       "                                  &#x27;camera_mp&#x27;, &#x27;camera_f&#x27;, &#x27;camera_vi...\n",
       "                                  &#x27;selfie_camera_video_fps&#x27;, &#x27;35mm_jack&#x27;,\n",
       "                                  &#x27;bluetooth_version&#x27;, &#x27;nfc&#x27;, &#x27;radio&#x27;,\n",
       "                                  &#x27;usb_version&#x27;, &#x27;biometric_auth&#x27;,\n",
       "                                  &#x27;has_black_color&#x27;, &#x27;foldable&#x27;, ...]),\n",
       "                                (&#x27;cat&#x27;,\n",
       "                                 Pipeline(steps=[(&#x27;onehot&#x27;,\n",
       "                                                  OneHotEncoder(handle_unknown=&#x27;ignore&#x27;))]),\n",
       "                                 [&#x27;brand&#x27;, &#x27;ip_rating&#x27;, &#x27;screen_type&#x27;,\n",
       "                                  &#x27;chipset_cores&#x27;, &#x27;camera_video_resolution&#x27;,\n",
       "                                  &#x27;selfie_camera_video_resolution&#x27;, &#x27;usb_type&#x27;,\n",
       "                                  &#x27;wifi_model&#x27;, &#x27;battery_type&#x27;])])</pre></div> </div></div><div class=\"sk-parallel\"><div class=\"sk-parallel-item\"><div class=\"sk-item\"><div class=\"sk-label-container\"><div class=\"sk-label fitted sk-toggleable\"><input class=\"sk-toggleable__control sk-hidden--visually\" id=\"sk-estimator-id-17\" type=\"checkbox\" ><label for=\"sk-estimator-id-17\" class=\"sk-toggleable__label fitted sk-toggleable__label-arrow\"><div><div>num</div></div></label><div class=\"sk-toggleable__content fitted\"><pre>[&#x27;price&#x27;, &#x27;eSIM&#x27;, &#x27;release_year&#x27;, &#x27;height_mm&#x27;, &#x27;length_mm&#x27;, &#x27;width_mm&#x27;, &#x27;weight_g&#x27;, &#x27;screen_hz&#x27;, &#x27;screen_size&#x27;, &#x27;screen_to_body&#x27;, &#x27;screen_resolution_x&#x27;, &#x27;screen_resolution_y&#x27;, &#x27;chipset_nm&#x27;, &#x27;memory_card_slot&#x27;, &#x27;internal_rom_gb&#x27;, &#x27;internal_ram_gb&#x27;, &#x27;camera_mp&#x27;, &#x27;camera_f&#x27;, &#x27;camera_video_fps&#x27;, &#x27;selfie_camera_mp&#x27;, &#x27;selfie_camera_f&#x27;, &#x27;selfie_camera_video_fps&#x27;, &#x27;35mm_jack&#x27;, &#x27;bluetooth_version&#x27;, &#x27;nfc&#x27;, &#x27;radio&#x27;, &#x27;usb_version&#x27;, &#x27;biometric_auth&#x27;, &#x27;has_black_color&#x27;, &#x27;foldable&#x27;, &#x27;battery_capacity&#x27;, &#x27;5g&#x27;]</pre></div> </div></div><div class=\"sk-serial\"><div class=\"sk-item\"><div class=\"sk-serial\"><div class=\"sk-item\"><div class=\"sk-estimator fitted sk-toggleable\"><input class=\"sk-toggleable__control sk-hidden--visually\" id=\"sk-estimator-id-18\" type=\"checkbox\" ><label for=\"sk-estimator-id-18\" class=\"sk-toggleable__label fitted sk-toggleable__label-arrow\"><div><div>StandardScaler</div></div><div><a class=\"sk-estimator-doc-link fitted\" rel=\"noreferrer\" target=\"_blank\" href=\"https://scikit-learn.org/1.6/modules/generated/sklearn.preprocessing.StandardScaler.html\">?<span>Documentation for StandardScaler</span></a></div></label><div class=\"sk-toggleable__content fitted\"><pre>StandardScaler()</pre></div> </div></div></div></div></div></div></div><div class=\"sk-parallel-item\"><div class=\"sk-item\"><div class=\"sk-label-container\"><div class=\"sk-label fitted sk-toggleable\"><input class=\"sk-toggleable__control sk-hidden--visually\" id=\"sk-estimator-id-19\" type=\"checkbox\" ><label for=\"sk-estimator-id-19\" class=\"sk-toggleable__label fitted sk-toggleable__label-arrow\"><div><div>cat</div></div></label><div class=\"sk-toggleable__content fitted\"><pre>[&#x27;brand&#x27;, &#x27;ip_rating&#x27;, &#x27;screen_type&#x27;, &#x27;chipset_cores&#x27;, &#x27;camera_video_resolution&#x27;, &#x27;selfie_camera_video_resolution&#x27;, &#x27;usb_type&#x27;, &#x27;wifi_model&#x27;, &#x27;battery_type&#x27;]</pre></div> </div></div><div class=\"sk-serial\"><div class=\"sk-item\"><div class=\"sk-serial\"><div class=\"sk-item\"><div class=\"sk-estimator fitted sk-toggleable\"><input class=\"sk-toggleable__control sk-hidden--visually\" id=\"sk-estimator-id-20\" type=\"checkbox\" ><label for=\"sk-estimator-id-20\" class=\"sk-toggleable__label fitted sk-toggleable__label-arrow\"><div><div>OneHotEncoder</div></div><div><a class=\"sk-estimator-doc-link fitted\" rel=\"noreferrer\" target=\"_blank\" href=\"https://scikit-learn.org/1.6/modules/generated/sklearn.preprocessing.OneHotEncoder.html\">?<span>Documentation for OneHotEncoder</span></a></div></label><div class=\"sk-toggleable__content fitted\"><pre>OneHotEncoder(handle_unknown=&#x27;ignore&#x27;)</pre></div> </div></div></div></div></div></div></div></div></div><div class=\"sk-item\"><div class=\"sk-estimator fitted sk-toggleable\"><input class=\"sk-toggleable__control sk-hidden--visually\" id=\"sk-estimator-id-21\" type=\"checkbox\" ><label for=\"sk-estimator-id-21\" class=\"sk-toggleable__label fitted sk-toggleable__label-arrow\"><div><div>Ridge</div></div><div><a class=\"sk-estimator-doc-link fitted\" rel=\"noreferrer\" target=\"_blank\" href=\"https://scikit-learn.org/1.6/modules/generated/sklearn.linear_model.Ridge.html\">?<span>Documentation for Ridge</span></a></div></label><div class=\"sk-toggleable__content fitted\"><pre>Ridge(random_state=42)</pre></div> </div></div></div></div></div></div>"
      ],
      "text/plain": [
       "Pipeline(steps=[('preprocessor',\n",
       "                 ColumnTransformer(transformers=[('num',\n",
       "                                                  Pipeline(steps=[('scaler',\n",
       "                                                                   StandardScaler())]),\n",
       "                                                  ['price', 'eSIM',\n",
       "                                                   'release_year', 'height_mm',\n",
       "                                                   'length_mm', 'width_mm',\n",
       "                                                   'weight_g', 'screen_hz',\n",
       "                                                   'screen_size',\n",
       "                                                   'screen_to_body',\n",
       "                                                   'screen_resolution_x',\n",
       "                                                   'screen_resolution_y',\n",
       "                                                   'chipset_nm',\n",
       "                                                   'memory_card_slot',\n",
       "                                                   'internal_rom_gb',\n",
       "                                                   'internal_ram_gb',\n",
       "                                                   '...\n",
       "                                                   'bluetooth_version', 'nfc',\n",
       "                                                   'radio', 'usb_version',\n",
       "                                                   'biometric_auth',\n",
       "                                                   'has_black_color',\n",
       "                                                   'foldable', ...]),\n",
       "                                                 ('cat',\n",
       "                                                  Pipeline(steps=[('onehot',\n",
       "                                                                   OneHotEncoder(handle_unknown='ignore'))]),\n",
       "                                                  ['brand', 'ip_rating',\n",
       "                                                   'screen_type',\n",
       "                                                   'chipset_cores',\n",
       "                                                   'camera_video_resolution',\n",
       "                                                   'selfie_camera_video_resolution',\n",
       "                                                   'usb_type', 'wifi_model',\n",
       "                                                   'battery_type'])])),\n",
       "                ('classifier', Ridge(random_state=42))])"
      ]
     },
     "execution_count": 83,
     "metadata": {},
     "output_type": "execute_result"
    }
   ],
   "source": [
    "ridge_model.fit(X_train, y_train)"
   ]
  },
  {
   "cell_type": "code",
   "execution_count": 84,
   "id": "7f1668c6",
   "metadata": {},
   "outputs": [],
   "source": [
    "predictions = ridge_model.predict(X_test)"
   ]
  },
  {
   "cell_type": "code",
   "execution_count": 85,
   "id": "c3d503ee",
   "metadata": {},
   "outputs": [
    {
     "data": {
      "text/plain": [
       "62.50706712501284"
      ]
     },
     "execution_count": 85,
     "metadata": {},
     "output_type": "execute_result"
    }
   ],
   "source": [
    "mean_absolute_error(y_test, predictions)"
   ]
  },
  {
   "cell_type": "markdown",
   "id": "27712798",
   "metadata": {},
   "source": [
    "As can be seen the baseline model has mean absolute error (mae) of 62.5."
   ]
  },
  {
   "cell_type": "code",
   "execution_count": 86,
   "id": "20b2d785",
   "metadata": {},
   "outputs": [
    {
     "data": {
      "text/plain": [
       "count    3112.000000\n",
       "mean       87.612789\n",
       "std       161.489971\n",
       "min         0.000000\n",
       "25%        10.000000\n",
       "50%        30.000000\n",
       "75%        93.000000\n",
       "max      1906.000000\n",
       "Name: popularity_become_fan, dtype: float64"
      ]
     },
     "execution_count": 86,
     "metadata": {},
     "output_type": "execute_result"
    }
   ],
   "source": [
    "y.describe()"
   ]
  },
  {
   "cell_type": "markdown",
   "id": "df3bf6d1",
   "metadata": {},
   "source": [
    "Given the standard deviation of the likes to be 161, this model does the job well. But we can do better."
   ]
  },
  {
   "cell_type": "markdown",
   "id": "dff40bdb",
   "metadata": {},
   "source": [
    "Now I will apply random forests model to the same features and see the result."
   ]
  },
  {
   "cell_type": "code",
   "execution_count": 87,
   "id": "5192be8b",
   "metadata": {},
   "outputs": [
    {
     "data": {
      "text/plain": [
       "50.6457632423756"
      ]
     },
     "execution_count": 87,
     "metadata": {},
     "output_type": "execute_result"
    }
   ],
   "source": [
    "rf_model = Pipeline(steps=[\n",
    "    ('preprocessor', column_transformer),\n",
    "    ('classifier', RandomForestRegressor(random_state=42,  n_jobs=-1))\n",
    "])\n",
    "\n",
    "rf_model.fit(X_train, y_train)\n",
    "\n",
    "predictions = rf_model.predict(X_test)\n",
    "\n",
    "mean_absolute_error(y_test, predictions)"
   ]
  },
  {
   "cell_type": "markdown",
   "id": "bc2c9523",
   "metadata": {},
   "source": [
    "With random forests model the mae is lower.\n",
    "\n",
    "By feature engineering I hope to further improve the accuracy of the model."
   ]
  },
  {
   "cell_type": "code",
   "execution_count": 88,
   "id": "867eee03",
   "metadata": {},
   "outputs": [
    {
     "data": {
      "text/plain": [
       "array(['Quad-core', 'Octa-core', 'Hexa-core', 'Single-core', 'Dual-core',\n",
       "       'Nona-core', 'INTQuad-core', '8-core', '7-core', '10-core'],\n",
       "      dtype=object)"
      ]
     },
     "execution_count": 88,
     "metadata": {},
     "output_type": "execute_result"
    }
   ],
   "source": [
    "df['chipset_cores'].unique() # get all values of number of cores"
   ]
  },
  {
   "cell_type": "code",
   "execution_count": 89,
   "id": "c3a1831b",
   "metadata": {},
   "outputs": [
    {
     "name": "stderr",
     "output_type": "stream",
     "text": [
      "/tmp/ipykernel_99639/2069591592.py:14: FutureWarning: Downcasting behavior in `replace` is deprecated and will be removed in a future version. To retain the old behavior, explicitly call `result.infer_objects(copy=False)`. To opt-in to the future behavior, set `pd.set_option('future.no_silent_downcasting', True)`\n",
      "  df['n_cores'] = df['chipset_cores'].replace(processor_mapping) # make number of cores numeric\n"
     ]
    }
   ],
   "source": [
    "processor_mapping = {\n",
    "    'Single-core': 1,\n",
    "    'Dual-core': 2,\n",
    "    'Quad-core': 4,\n",
    "    'Hexa-core': 6,\n",
    "    'Octa-core': 8,\n",
    "    'Nona-core': 9,\n",
    "    '10-core': 10,\n",
    "    '8-core': 8,\n",
    "    '7-core': 7,\n",
    "    'INTQuad-core': 4  # Assuming INTQuad-core is treated as Quad-core\n",
    "}\n",
    "\n",
    "df['n_cores'] = df['chipset_cores'].replace(processor_mapping) # make number of cores numeric"
   ]
  },
  {
   "cell_type": "code",
   "execution_count": 90,
   "id": "eef65d1e",
   "metadata": {},
   "outputs": [],
   "source": [
    "df['phone_age'] = 2025-df['release_year'] # Phone age as current year - release year. Might be more descriptive.\n",
    "\n",
    "df['phone_volume'] = df['height_mm']*df['length_mm']*df['width_mm'] # Combine 3 size metrics into one metric.\n",
    "\n",
    "df['phone_volume_per_gram'] = (df['height_mm']*df['length_mm']*df['width_mm'])/df['weight_g'] # Combine 3 size metrics and a weight metric into one metric.\n",
    "\n",
    "df['is_water_resistant'] = ~df['ip_rating'].str.contains('IPXX') # Make IP resistance a boolean\n",
    "\n",
    "df['gb_per_euro'] = (df['internal_ram_gb']*df['internal_rom_gb'])/df['price']\n",
    "\n",
    "df['camera_mpf'] = df['camera_mp']*df['camera_f']\n",
    "\n",
    "df['selfie_camera_mpf'] = df['selfie_camera_mp']*df['selfie_camera_f']\n",
    "\n",
    "df['total_pixels'] = df['screen_resolution_x']*df['screen_resolution_y']\n",
    "\n",
    "df['total_pixels_per_inch'] = df['screen_resolution_x']*df['screen_resolution_y']/df['screen_size']\n",
    "df['total_pixels_per_hz'] = df['screen_resolution_x']*df['screen_resolution_y']/df['screen_hz']\n",
    "\n",
    "df['battery_capacity_per_g'] = df['battery_capacity']/df['weight_g']\n",
    "\n",
    "df['chipset_cores_nm'] = df['n_cores']*df['chipset_nm']"
   ]
  },
  {
   "cell_type": "code",
   "execution_count": 91,
   "id": "cf3fa70c",
   "metadata": {},
   "outputs": [
    {
     "data": {
      "text/plain": [
       "array(['1080p', '720p', '480p', '4K', '8K', '1440p', 'Yes', 'No', 'cif',\n",
       "       '6K', '1152p', 'QVGA'], dtype=object)"
      ]
     },
     "execution_count": 91,
     "metadata": {},
     "output_type": "execute_result"
    }
   ],
   "source": [
    "df['camera_video_resolution'].unique()"
   ]
  },
  {
   "cell_type": "code",
   "execution_count": 92,
   "id": "75d93f40",
   "metadata": {},
   "outputs": [
    {
     "name": "stderr",
     "output_type": "stream",
     "text": [
      "/tmp/ipykernel_99639/1587475564.py:16: FutureWarning: Downcasting behavior in `replace` is deprecated and will be removed in a future version. To retain the old behavior, explicitly call `result.infer_objects(copy=False)`. To opt-in to the future behavior, set `pd.set_option('future.no_silent_downcasting', True)`\n",
      "  df['camera_video_resolution_ordinal'] = df['camera_video_resolution'].replace(resolution_mapping)\n"
     ]
    }
   ],
   "source": [
    "resolution_mapping = {\n",
    "    'QVGA': 0,\n",
    "    'Yes': 0,\n",
    "    'cif': 1,\n",
    "    '480p': 2,\n",
    "    '720p': 3,\n",
    "    '1080p': 4,\n",
    "    '1152p': 5,\n",
    "    '1440p': 6,\n",
    "    '4K': 7,\n",
    "    '6K': 8,\n",
    "    '8K': 9,\n",
    "    'No': -1\n",
    "}\n",
    "\n",
    "df['camera_video_resolution_ordinal'] = df['camera_video_resolution'].replace(resolution_mapping)"
   ]
  },
  {
   "cell_type": "code",
   "execution_count": 98,
   "id": "9307baaf",
   "metadata": {},
   "outputs": [],
   "source": [
    "num_features = ['price', 'eSIM', 'screen_hz','phone_age',\n",
    "       'phone_volume_per_gram', 'screen_size', 'screen_to_body', 'screen_resolution_x',\n",
    "       'screen_resolution_y', 'total_pixels_per_hz', 'chipset_nm', 'n_cores', 'gb_per_euro', 'camera_mp',\n",
    "       'camera_f', 'camera_video_fps', 'camera_mpf',\n",
    "       'selfie_camera_video_fps', '35mm_jack',\n",
    "       'nfc', 'radio', 'usb_version',\n",
    "       'biometric_auth', 'has_black_color', 'foldable', 'battery_capacity', '5g']\n",
    "\n",
    "cat_features = ['brand', 'screen_type', 'camera_video_resolution',\n",
    "                'selfie_camera_video_resolution', 'usb_type', 'wifi_model', 'battery_type']\n",
    "\n",
    "numerical_transformer = Pipeline(steps=[\n",
    "    ('scaler', StandardScaler())\n",
    "])\n",
    "categorical_transformer = Pipeline(steps=[\n",
    "    ('onehot', OneHotEncoder(handle_unknown='ignore'))\n",
    "])\n",
    "column_transformer = ColumnTransformer(transformers=[\n",
    "    ('num', numerical_transformer, num_features),\n",
    "    ('cat', categorical_transformer, cat_features)\n",
    "])\n",
    "\n",
    "X = df[num_features + cat_features]\n",
    "y = df['popularity_become_fan']\n",
    "X_train, X_test, y_train, y_test = train_test_split(X, y, test_size=0.2, random_state=42)"
   ]
  },
  {
   "cell_type": "code",
   "execution_count": 99,
   "id": "9c3bb1f1",
   "metadata": {},
   "outputs": [
    {
     "data": {
      "text/plain": [
       "45.81222937017504"
      ]
     },
     "execution_count": 99,
     "metadata": {},
     "output_type": "execute_result"
    }
   ],
   "source": [
    "rf_model = Pipeline(steps=[\n",
    "    ('preprocessor', column_transformer),\n",
    "    ('classifier', RandomForestRegressor(random_state=42, n_estimators=1000, n_jobs=-1))\n",
    "])\n",
    "\n",
    "rf_model.fit(X_train, y_train)\n",
    "\n",
    "predictions = rf_model.predict(X_test)\n",
    "\n",
    "mean_absolute_error(y_test, predictions)"
   ]
  },
  {
   "cell_type": "markdown",
   "id": "4a9e90cf",
   "metadata": {},
   "source": [
    "By creating new features, removing some of the features that were irrelevant, and using more estimators, the model mae has become lower by 4.88. The model slightly improved."
   ]
  },
  {
   "cell_type": "code",
   "execution_count": 95,
   "id": "9a51b8ac",
   "metadata": {},
   "outputs": [],
   "source": [
    "importances = rf_model.named_steps['classifier'].feature_importances_\n",
    "feature_names = rf_model.named_steps['preprocessor'].get_feature_names_out()\n",
    "feature_importance_df = pd.DataFrame({\n",
    "    'Feature': feature_names,\n",
    "    'Importance': importances\n",
    "}).sort_values(by='Importance', ascending=False)"
   ]
  },
  {
   "cell_type": "markdown",
   "id": "3b2d04c2",
   "metadata": {},
   "source": [
    "I will plot top 10 most important and top 10 least important features for the model"
   ]
  },
  {
   "cell_type": "code",
   "execution_count": 96,
   "id": "7176881a",
   "metadata": {},
   "outputs": [
    {
     "data": {
      "text/plain": [
       "<Axes: title={'center': 'Top 10 most important features'}, xlabel='Feature', ylabel='Importance'>"
      ]
     },
     "execution_count": 96,
     "metadata": {},
     "output_type": "execute_result"
    },
    {
     "data": {
      "image/png": "[encoded data removed]",
      "text/plain": [
       "<Figure size 640x480 with 1 Axes>"
      ]
     },
     "metadata": {},
     "output_type": "display_data"
    }
   ],
   "source": [
    "plt.xticks(rotation=45, ha='right')\n",
    "plt.title('Top 10 most important features')\n",
    "sns.barplot(feature_importance_df.head(10), x='Feature', y='Importance')"
   ]
  },
  {
   "cell_type": "code",
   "execution_count": 97,
   "id": "8f0d32e2",
   "metadata": {},
   "outputs": [
    {
     "data": {
      "text/plain": [
       "<Axes: title={'center': 'Top 10 least important features'}, xlabel='Feature', ylabel='Importance'>"
      ]
     },
     "execution_count": 97,
     "metadata": {},
     "output_type": "execute_result"
    },
    {
     "data": {
      "image/png": "[encoded data removed]",
      "text/plain": [
       "<Figure size 640x480 with 1 Axes>"
      ]
     },
     "metadata": {},
     "output_type": "display_data"
    }
   ],
   "source": [
    "plt.xticks(rotation=45, ha='right')\n",
    "plt.title('Top 10 least important features')\n",
    "sns.barplot(feature_importance_df.tail(10), x='Feature', y='Importance')"
   ]
  },
  {
   "cell_type": "markdown",
   "id": "0273dbcd",
   "metadata": {},
   "source": [
    "Based on the plots above, the most important features are the resolution of the phone, price of the phone, and fps of the selfie camera (which seems strange). Additionally, the IPS screen and the density of the phone influence the importance. Brands such as Samsung and Xiaomi help the model predict the popularity more accurately.\n",
    "\n",
    "On the other hand, the wifi models, brands such as Sonim, Allview, and Plum, along with the low video resolutions of a camera influence the popularity of the phone the least."
   ]
  },
  {
   "cell_type": "code",
   "execution_count": null,
   "id": "b04297c9",
   "metadata": {},
   "outputs": [],
   "source": []
  }
 ],
 "metadata": {
  "kernelspec": {
   "display_name": "my-venv",
   "language": "python",
   "name": "python3"
  },
  "language_info": {
   "codemirror_mode": {
    "name": "ipython",
    "version": 3
   },
   "file_extension": ".py",
   "mimetype": "text/x-python",
   "name": "python",
   "nbconvert_exporter": "python",
   "pygments_lexer": "ipython3",
   "version": "3.13.3"
  }
 },
 "nbformat": 4,
 "nbformat_minor": 5
}
