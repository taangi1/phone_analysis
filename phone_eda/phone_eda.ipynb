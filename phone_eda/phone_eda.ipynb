{
 "cells": [
  {
   "cell_type": "code",
   "execution_count": 1,
   "id": "30736071",
   "metadata": {},
   "outputs": [],
   "source": [
    "import pandas as pd\n",
    "import plotly.express as px"
   ]
  },
  {
   "cell_type": "code",
   "execution_count": 2,
   "id": "e4c1860c",
   "metadata": {},
   "outputs": [
    {
     "data": {
      "text/html": [
       "<div>\n",
       "<style scoped>\n",
       "    .dataframe tbody tr th:only-of-type {\n",
       "        vertical-align: middle;\n",
       "    }\n",
       "\n",
       "    .dataframe tbody tr th {\n",
       "        vertical-align: top;\n",
       "    }\n",
       "\n",
       "    .dataframe thead th {\n",
       "        text-align: right;\n",
       "    }\n",
       "</style>\n",
       "<table border=\"1\" class=\"dataframe\">\n",
       "  <thead>\n",
       "    <tr style=\"text-align: right;\">\n",
       "      <th></th>\n",
       "      <th>brand</th>\n",
       "      <th>model</th>\n",
       "      <th>photo_link</th>\n",
       "      <th>phone_link</th>\n",
       "      <th>popularity_become_fan</th>\n",
       "      <th>popularity_views</th>\n",
       "      <th>popularity_views_today</th>\n",
       "      <th>price</th>\n",
       "      <th>eSIM</th>\n",
       "      <th>announce_year</th>\n",
       "      <th>...</th>\n",
       "      <th>radio</th>\n",
       "      <th>usb_type</th>\n",
       "      <th>usb_version</th>\n",
       "      <th>biometric_auth</th>\n",
       "      <th>has_black_color</th>\n",
       "      <th>foldable</th>\n",
       "      <th>battery_type</th>\n",
       "      <th>battery_capacity</th>\n",
       "      <th>type</th>\n",
       "      <th>5g</th>\n",
       "    </tr>\n",
       "  </thead>\n",
       "  <tbody>\n",
       "    <tr>\n",
       "      <th>3</th>\n",
       "      <td>Apple</td>\n",
       "      <td>iPhone 16e</td>\n",
       "      <td>https://fdn2.gsmarena.com/vv/bigpic/apple-ipho...</td>\n",
       "      <td>https://www.gsmarena.com/apple_iphone_16e-1339...</td>\n",
       "      <td>198</td>\n",
       "      <td>1895820</td>\n",
       "      <td>38.0</td>\n",
       "      <td>699.00</td>\n",
       "      <td>True</td>\n",
       "      <td>2025.0</td>\n",
       "      <td>...</td>\n",
       "      <td>False</td>\n",
       "      <td>USB Type-C</td>\n",
       "      <td>2.0</td>\n",
       "      <td>True</td>\n",
       "      <td>True</td>\n",
       "      <td>False</td>\n",
       "      <td>Li-Ion</td>\n",
       "      <td>4005.0</td>\n",
       "      <td>phone</td>\n",
       "      <td>True</td>\n",
       "    </tr>\n",
       "    <tr>\n",
       "      <th>5</th>\n",
       "      <td>Apple</td>\n",
       "      <td>iPhone 16 Pro Max</td>\n",
       "      <td>https://fdn2.gsmarena.com/vv/bigpic/apple-ipho...</td>\n",
       "      <td>https://www.gsmarena.com/apple_iphone_16_pro_m...</td>\n",
       "      <td>497</td>\n",
       "      <td>7618019</td>\n",
       "      <td>34.0</td>\n",
       "      <td>1253.99</td>\n",
       "      <td>True</td>\n",
       "      <td>2024.0</td>\n",
       "      <td>...</td>\n",
       "      <td>False</td>\n",
       "      <td>USB Type-C</td>\n",
       "      <td>3.2</td>\n",
       "      <td>True</td>\n",
       "      <td>True</td>\n",
       "      <td>False</td>\n",
       "      <td>Li-Ion</td>\n",
       "      <td>4685.0</td>\n",
       "      <td>phone</td>\n",
       "      <td>True</td>\n",
       "    </tr>\n",
       "    <tr>\n",
       "      <th>6</th>\n",
       "      <td>Apple</td>\n",
       "      <td>iPhone 16 Pro</td>\n",
       "      <td>https://fdn2.gsmarena.com/vv/bigpic/apple-ipho...</td>\n",
       "      <td>https://www.gsmarena.com/apple_iphone_16_pro-1...</td>\n",
       "      <td>212</td>\n",
       "      <td>2444977</td>\n",
       "      <td>18.0</td>\n",
       "      <td>1042.52</td>\n",
       "      <td>True</td>\n",
       "      <td>2024.0</td>\n",
       "      <td>...</td>\n",
       "      <td>False</td>\n",
       "      <td>USB Type-C</td>\n",
       "      <td>3.2</td>\n",
       "      <td>True</td>\n",
       "      <td>True</td>\n",
       "      <td>False</td>\n",
       "      <td>Li-Ion</td>\n",
       "      <td>3582.0</td>\n",
       "      <td>phone</td>\n",
       "      <td>True</td>\n",
       "    </tr>\n",
       "    <tr>\n",
       "      <th>7</th>\n",
       "      <td>Apple</td>\n",
       "      <td>iPhone 16 Plus</td>\n",
       "      <td>https://fdn2.gsmarena.com/vv/bigpic/apple-ipho...</td>\n",
       "      <td>https://www.gsmarena.com/apple_iphone_16_plus-...</td>\n",
       "      <td>96</td>\n",
       "      <td>1135169</td>\n",
       "      <td>8.6</td>\n",
       "      <td>953.49</td>\n",
       "      <td>True</td>\n",
       "      <td>2024.0</td>\n",
       "      <td>...</td>\n",
       "      <td>False</td>\n",
       "      <td>USB Type-C</td>\n",
       "      <td>2.0</td>\n",
       "      <td>True</td>\n",
       "      <td>True</td>\n",
       "      <td>False</td>\n",
       "      <td>Li-Ion</td>\n",
       "      <td>4674.0</td>\n",
       "      <td>phone</td>\n",
       "      <td>True</td>\n",
       "    </tr>\n",
       "    <tr>\n",
       "      <th>8</th>\n",
       "      <td>Apple</td>\n",
       "      <td>iPhone 16</td>\n",
       "      <td>https://fdn2.gsmarena.com/vv/bigpic/apple-ipho...</td>\n",
       "      <td>https://www.gsmarena.com/apple_iphone_16-13317...</td>\n",
       "      <td>164</td>\n",
       "      <td>2804868</td>\n",
       "      <td>24.0</td>\n",
       "      <td>762.83</td>\n",
       "      <td>True</td>\n",
       "      <td>2024.0</td>\n",
       "      <td>...</td>\n",
       "      <td>False</td>\n",
       "      <td>USB Type-C</td>\n",
       "      <td>2.0</td>\n",
       "      <td>True</td>\n",
       "      <td>True</td>\n",
       "      <td>False</td>\n",
       "      <td>Li-Ion</td>\n",
       "      <td>3561.0</td>\n",
       "      <td>phone</td>\n",
       "      <td>True</td>\n",
       "    </tr>\n",
       "  </tbody>\n",
       "</table>\n",
       "<p>5 rows × 53 columns</p>\n",
       "</div>"
      ],
      "text/plain": [
       "   brand              model  \\\n",
       "3  Apple         iPhone 16e   \n",
       "5  Apple  iPhone 16 Pro Max   \n",
       "6  Apple      iPhone 16 Pro   \n",
       "7  Apple     iPhone 16 Plus   \n",
       "8  Apple          iPhone 16   \n",
       "\n",
       "                                          photo_link  \\\n",
       "3  https://fdn2.gsmarena.com/vv/bigpic/apple-ipho...   \n",
       "5  https://fdn2.gsmarena.com/vv/bigpic/apple-ipho...   \n",
       "6  https://fdn2.gsmarena.com/vv/bigpic/apple-ipho...   \n",
       "7  https://fdn2.gsmarena.com/vv/bigpic/apple-ipho...   \n",
       "8  https://fdn2.gsmarena.com/vv/bigpic/apple-ipho...   \n",
       "\n",
       "                                          phone_link  popularity_become_fan  \\\n",
       "3  https://www.gsmarena.com/apple_iphone_16e-1339...                    198   \n",
       "5  https://www.gsmarena.com/apple_iphone_16_pro_m...                    497   \n",
       "6  https://www.gsmarena.com/apple_iphone_16_pro-1...                    212   \n",
       "7  https://www.gsmarena.com/apple_iphone_16_plus-...                     96   \n",
       "8  https://www.gsmarena.com/apple_iphone_16-13317...                    164   \n",
       "\n",
       "   popularity_views  popularity_views_today    price  eSIM  announce_year  \\\n",
       "3           1895820                    38.0   699.00  True         2025.0   \n",
       "5           7618019                    34.0  1253.99  True         2024.0   \n",
       "6           2444977                    18.0  1042.52  True         2024.0   \n",
       "7           1135169                     8.6   953.49  True         2024.0   \n",
       "8           2804868                    24.0   762.83  True         2024.0   \n",
       "\n",
       "   ...  radio    usb_type  usb_version  biometric_auth  has_black_color  \\\n",
       "3  ...  False  USB Type-C          2.0            True             True   \n",
       "5  ...  False  USB Type-C          3.2            True             True   \n",
       "6  ...  False  USB Type-C          3.2            True             True   \n",
       "7  ...  False  USB Type-C          2.0            True             True   \n",
       "8  ...  False  USB Type-C          2.0            True             True   \n",
       "\n",
       "   foldable  battery_type battery_capacity   type    5g  \n",
       "3     False        Li-Ion           4005.0  phone  True  \n",
       "5     False        Li-Ion           4685.0  phone  True  \n",
       "6     False        Li-Ion           3582.0  phone  True  \n",
       "7     False        Li-Ion           4674.0  phone  True  \n",
       "8     False        Li-Ion           3561.0  phone  True  \n",
       "\n",
       "[5 rows x 53 columns]"
      ]
     },
     "execution_count": 2,
     "metadata": {},
     "output_type": "execute_result"
    }
   ],
   "source": [
    "df = pd.read_csv('../clean_phones/relevant_features.csv')\n",
    "df = df[df['type'] == 'phone']\n",
    "df.head()"
   ]
  },
  {
   "cell_type": "code",
   "execution_count": 3,
   "id": "ec799bc6",
   "metadata": {},
   "outputs": [
    {
     "data": {
      "application/vnd.plotly.v1+json": {
       "config": {
        "plotlyServerURL": "https://plot.ly"
       },
       "data": [
        {
         "hovertemplate": "brand=%{x}<br>counts=%{y}<extra></extra>",
         "legendgroup": "",
         "marker": {
          "color": "#636efa",
          "pattern": {
           "shape": ""
          }
         },
         "name": "",
         "orientation": "v",
         "showlegend": false,
         "textposition": "auto",
         "type": "bar",
         "x": [
          "Microsoft",
          "Nothing",
          "Lenovo",
          "HTC",
          "Sony",
          "Google",
          "Apple",
          "Asus",
          "OnePlus",
          "Nokia",
          "Infinix",
          "Huawei",
          "Samsung",
          "Realme",
          "Oppo",
          "Xiaomi"
         ],
         "xaxis": "x",
         "y": {
          "bdata": "AgAHAAwAEgASABIAFwAdADUAZABrAHgArADGAM0AFQE=",
          "dtype": "i2"
         },
         "yaxis": "y"
        }
       ],
       "layout": {
        "barmode": "relative",
        "legend": {
         "tracegroupgap": 0
        },
        "margin": {
         "t": 60
        },
        "template": {
         "data": {
          "bar": [
           {
            "error_x": {
             "color": "#2a3f5f"
            },
            "error_y": {
             "color": "#2a3f5f"
            },
            "marker": {
             "line": {
              "color": "#E5ECF6",
              "width": 0.5
             },
             "pattern": {
              "fillmode": "overlay",
              "size": 10,
              "solidity": 0.2
             }
            },
            "type": "bar"
           }
          ],
          "barpolar": [
           {
            "marker": {
             "line": {
              "color": "#E5ECF6",
              "width": 0.5
             },
             "pattern": {
              "fillmode": "overlay",
              "size": 10,
              "solidity": 0.2
             }
            },
            "type": "barpolar"
           }
          ],
          "carpet": [
           {
            "aaxis": {
             "endlinecolor": "#2a3f5f",
             "gridcolor": "white",
             "linecolor": "white",
             "minorgridcolor": "white",
             "startlinecolor": "#2a3f5f"
            },
            "baxis": {
             "endlinecolor": "#2a3f5f",
             "gridcolor": "white",
             "linecolor": "white",
             "minorgridcolor": "white",
             "startlinecolor": "#2a3f5f"
            },
            "type": "carpet"
           }
          ],
          "choropleth": [
           {
            "colorbar": {
             "outlinewidth": 0,
             "ticks": ""
            },
            "type": "choropleth"
           }
          ],
          "contour": [
           {
            "colorbar": {
             "outlinewidth": 0,
             "ticks": ""
            },
            "colorscale": [
             [
              0,
              "#0d0887"
             ],
             [
              0.1111111111111111,
              "#46039f"
             ],
             [
              0.2222222222222222,
              "#7201a8"
             ],
             [
              0.3333333333333333,
              "#9c179e"
             ],
             [
              0.4444444444444444,
              "#bd3786"
             ],
             [
              0.5555555555555556,
              "#d8576b"
             ],
             [
              0.6666666666666666,
              "#ed7953"
             ],
             [
              0.7777777777777778,
              "#fb9f3a"
             ],
             [
              0.8888888888888888,
              "#fdca26"
             ],
             [
              1,
              "#f0f921"
             ]
            ],
            "type": "contour"
           }
          ],
          "contourcarpet": [
           {
            "colorbar": {
             "outlinewidth": 0,
             "ticks": ""
            },
            "type": "contourcarpet"
           }
          ],
          "heatmap": [
           {
            "colorbar": {
             "outlinewidth": 0,
             "ticks": ""
            },
            "colorscale": [
             [
              0,
              "#0d0887"
             ],
             [
              0.1111111111111111,
              "#46039f"
             ],
             [
              0.2222222222222222,
              "#7201a8"
             ],
             [
              0.3333333333333333,
              "#9c179e"
             ],
             [
              0.4444444444444444,
              "#bd3786"
             ],
             [
              0.5555555555555556,
              "#d8576b"
             ],
             [
              0.6666666666666666,
              "#ed7953"
             ],
             [
              0.7777777777777778,
              "#fb9f3a"
             ],
             [
              0.8888888888888888,
              "#fdca26"
             ],
             [
              1,
              "#f0f921"
             ]
            ],
            "type": "heatmap"
           }
          ],
          "histogram": [
           {
            "marker": {
             "pattern": {
              "fillmode": "overlay",
              "size": 10,
              "solidity": 0.2
             }
            },
            "type": "histogram"
           }
          ],
          "histogram2d": [
           {
            "colorbar": {
             "outlinewidth": 0,
             "ticks": ""
            },
            "colorscale": [
             [
              0,
              "#0d0887"
             ],
             [
              0.1111111111111111,
              "#46039f"
             ],
             [
              0.2222222222222222,
              "#7201a8"
             ],
             [
              0.3333333333333333,
              "#9c179e"
             ],
             [
              0.4444444444444444,
              "#bd3786"
             ],
             [
              0.5555555555555556,
              "#d8576b"
             ],
             [
              0.6666666666666666,
              "#ed7953"
             ],
             [
              0.7777777777777778,
              "#fb9f3a"
             ],
             [
              0.8888888888888888,
              "#fdca26"
             ],
             [
              1,
              "#f0f921"
             ]
            ],
            "type": "histogram2d"
           }
          ],
          "histogram2dcontour": [
           {
            "colorbar": {
             "outlinewidth": 0,
             "ticks": ""
            },
            "colorscale": [
             [
              0,
              "#0d0887"
             ],
             [
              0.1111111111111111,
              "#46039f"
             ],
             [
              0.2222222222222222,
              "#7201a8"
             ],
             [
              0.3333333333333333,
              "#9c179e"
             ],
             [
              0.4444444444444444,
              "#bd3786"
             ],
             [
              0.5555555555555556,
              "#d8576b"
             ],
             [
              0.6666666666666666,
              "#ed7953"
             ],
             [
              0.7777777777777778,
              "#fb9f3a"
             ],
             [
              0.8888888888888888,
              "#fdca26"
             ],
             [
              1,
              "#f0f921"
             ]
            ],
            "type": "histogram2dcontour"
           }
          ],
          "mesh3d": [
           {
            "colorbar": {
             "outlinewidth": 0,
             "ticks": ""
            },
            "type": "mesh3d"
           }
          ],
          "parcoords": [
           {
            "line": {
             "colorbar": {
              "outlinewidth": 0,
              "ticks": ""
             }
            },
            "type": "parcoords"
           }
          ],
          "pie": [
           {
            "automargin": true,
            "type": "pie"
           }
          ],
          "scatter": [
           {
            "fillpattern": {
             "fillmode": "overlay",
             "size": 10,
             "solidity": 0.2
            },
            "type": "scatter"
           }
          ],
          "scatter3d": [
           {
            "line": {
             "colorbar": {
              "outlinewidth": 0,
              "ticks": ""
             }
            },
            "marker": {
             "colorbar": {
              "outlinewidth": 0,
              "ticks": ""
             }
            },
            "type": "scatter3d"
           }
          ],
          "scattercarpet": [
           {
            "marker": {
             "colorbar": {
              "outlinewidth": 0,
              "ticks": ""
             }
            },
            "type": "scattercarpet"
           }
          ],
          "scattergeo": [
           {
            "marker": {
             "colorbar": {
              "outlinewidth": 0,
              "ticks": ""
             }
            },
            "type": "scattergeo"
           }
          ],
          "scattergl": [
           {
            "marker": {
             "colorbar": {
              "outlinewidth": 0,
              "ticks": ""
             }
            },
            "type": "scattergl"
           }
          ],
          "scattermap": [
           {
            "marker": {
             "colorbar": {
              "outlinewidth": 0,
              "ticks": ""
             }
            },
            "type": "scattermap"
           }
          ],
          "scattermapbox": [
           {
            "marker": {
             "colorbar": {
              "outlinewidth": 0,
              "ticks": ""
             }
            },
            "type": "scattermapbox"
           }
          ],
          "scatterpolar": [
           {
            "marker": {
             "colorbar": {
              "outlinewidth": 0,
              "ticks": ""
             }
            },
            "type": "scatterpolar"
           }
          ],
          "scatterpolargl": [
           {
            "marker": {
             "colorbar": {
              "outlinewidth": 0,
              "ticks": ""
             }
            },
            "type": "scatterpolargl"
           }
          ],
          "scatterternary": [
           {
            "marker": {
             "colorbar": {
              "outlinewidth": 0,
              "ticks": ""
             }
            },
            "type": "scatterternary"
           }
          ],
          "surface": [
           {
            "colorbar": {
             "outlinewidth": 0,
             "ticks": ""
            },
            "colorscale": [
             [
              0,
              "#0d0887"
             ],
             [
              0.1111111111111111,
              "#46039f"
             ],
             [
              0.2222222222222222,
              "#7201a8"
             ],
             [
              0.3333333333333333,
              "#9c179e"
             ],
             [
              0.4444444444444444,
              "#bd3786"
             ],
             [
              0.5555555555555556,
              "#d8576b"
             ],
             [
              0.6666666666666666,
              "#ed7953"
             ],
             [
              0.7777777777777778,
              "#fb9f3a"
             ],
             [
              0.8888888888888888,
              "#fdca26"
             ],
             [
              1,
              "#f0f921"
             ]
            ],
            "type": "surface"
           }
          ],
          "table": [
           {
            "cells": {
             "fill": {
              "color": "#EBF0F8"
             },
             "line": {
              "color": "white"
             }
            },
            "header": {
             "fill": {
              "color": "#C8D4E3"
             },
             "line": {
              "color": "white"
             }
            },
            "type": "table"
           }
          ]
         },
         "layout": {
          "annotationdefaults": {
           "arrowcolor": "#2a3f5f",
           "arrowhead": 0,
           "arrowwidth": 1
          },
          "autotypenumbers": "strict",
          "coloraxis": {
           "colorbar": {
            "outlinewidth": 0,
            "ticks": ""
           }
          },
          "colorscale": {
           "diverging": [
            [
             0,
             "#8e0152"
            ],
            [
             0.1,
             "#c51b7d"
            ],
            [
             0.2,
             "#de77ae"
            ],
            [
             0.3,
             "#f1b6da"
            ],
            [
             0.4,
             "#fde0ef"
            ],
            [
             0.5,
             "#f7f7f7"
            ],
            [
             0.6,
             "#e6f5d0"
            ],
            [
             0.7,
             "#b8e186"
            ],
            [
             0.8,
             "#7fbc41"
            ],
            [
             0.9,
             "#4d9221"
            ],
            [
             1,
             "#276419"
            ]
           ],
           "sequential": [
            [
             0,
             "#0d0887"
            ],
            [
             0.1111111111111111,
             "#46039f"
            ],
            [
             0.2222222222222222,
             "#7201a8"
            ],
            [
             0.3333333333333333,
             "#9c179e"
            ],
            [
             0.4444444444444444,
             "#bd3786"
            ],
            [
             0.5555555555555556,
             "#d8576b"
            ],
            [
             0.6666666666666666,
             "#ed7953"
            ],
            [
             0.7777777777777778,
             "#fb9f3a"
            ],
            [
             0.8888888888888888,
             "#fdca26"
            ],
            [
             1,
             "#f0f921"
            ]
           ],
           "sequentialminus": [
            [
             0,
             "#0d0887"
            ],
            [
             0.1111111111111111,
             "#46039f"
            ],
            [
             0.2222222222222222,
             "#7201a8"
            ],
            [
             0.3333333333333333,
             "#9c179e"
            ],
            [
             0.4444444444444444,
             "#bd3786"
            ],
            [
             0.5555555555555556,
             "#d8576b"
            ],
            [
             0.6666666666666666,
             "#ed7953"
            ],
            [
             0.7777777777777778,
             "#fb9f3a"
            ],
            [
             0.8888888888888888,
             "#fdca26"
            ],
            [
             1,
             "#f0f921"
            ]
           ]
          },
          "colorway": [
           "#636efa",
           "#EF553B",
           "#00cc96",
           "#ab63fa",
           "#FFA15A",
           "#19d3f3",
           "#FF6692",
           "#B6E880",
           "#FF97FF",
           "#FECB52"
          ],
          "font": {
           "color": "#2a3f5f"
          },
          "geo": {
           "bgcolor": "white",
           "lakecolor": "white",
           "landcolor": "#E5ECF6",
           "showlakes": true,
           "showland": true,
           "subunitcolor": "white"
          },
          "hoverlabel": {
           "align": "left"
          },
          "hovermode": "closest",
          "mapbox": {
           "style": "light"
          },
          "paper_bgcolor": "white",
          "plot_bgcolor": "#E5ECF6",
          "polar": {
           "angularaxis": {
            "gridcolor": "white",
            "linecolor": "white",
            "ticks": ""
           },
           "bgcolor": "#E5ECF6",
           "radialaxis": {
            "gridcolor": "white",
            "linecolor": "white",
            "ticks": ""
           }
          },
          "scene": {
           "xaxis": {
            "backgroundcolor": "#E5ECF6",
            "gridcolor": "white",
            "gridwidth": 2,
            "linecolor": "white",
            "showbackground": true,
            "ticks": "",
            "zerolinecolor": "white"
           },
           "yaxis": {
            "backgroundcolor": "#E5ECF6",
            "gridcolor": "white",
            "gridwidth": 2,
            "linecolor": "white",
            "showbackground": true,
            "ticks": "",
            "zerolinecolor": "white"
           },
           "zaxis": {
            "backgroundcolor": "#E5ECF6",
            "gridcolor": "white",
            "gridwidth": 2,
            "linecolor": "white",
            "showbackground": true,
            "ticks": "",
            "zerolinecolor": "white"
           }
          },
          "shapedefaults": {
           "line": {
            "color": "#2a3f5f"
           }
          },
          "ternary": {
           "aaxis": {
            "gridcolor": "white",
            "linecolor": "white",
            "ticks": ""
           },
           "baxis": {
            "gridcolor": "white",
            "linecolor": "white",
            "ticks": ""
           },
           "bgcolor": "#E5ECF6",
           "caxis": {
            "gridcolor": "white",
            "linecolor": "white",
            "ticks": ""
           }
          },
          "title": {
           "x": 0.05
          },
          "xaxis": {
           "automargin": true,
           "gridcolor": "white",
           "linecolor": "white",
           "ticks": "",
           "title": {
            "standoff": 15
           },
           "zerolinecolor": "white",
           "zerolinewidth": 2
          },
          "yaxis": {
           "automargin": true,
           "gridcolor": "white",
           "linecolor": "white",
           "ticks": "",
           "title": {
            "standoff": 15
           },
           "zerolinecolor": "white",
           "zerolinewidth": 2
          }
         }
        },
        "xaxis": {
         "anchor": "y",
         "domain": [
          0,
          1
         ],
         "title": {
          "text": "brand"
         }
        },
        "yaxis": {
         "anchor": "x",
         "domain": [
          0,
          1
         ],
         "title": {
          "text": "counts"
         }
        }
       }
      }
     },
     "metadata": {},
     "output_type": "display_data"
    }
   ],
   "source": [
    "pdf = df.groupby('brand').size().reset_index(name=\"counts\")\n",
    "px.bar(pdf.sort_values('counts'), x='brand', y='counts')"
   ]
  },
  {
   "cell_type": "markdown",
   "id": "bfe93d59",
   "metadata": {},
   "source": [
    "The plot shows that Xiaomi in the years 2020-2025 has released the most amount of smartphones, followed by oppo and realme, other chinese manufacturers.\n",
    "\n",
    "This might mean that they try to target all market segments with their phone models. This will be investigated in consequent graphs."
   ]
  },
  {
   "cell_type": "code",
   "execution_count": 4,
   "id": "12bced12",
   "metadata": {},
   "outputs": [
    {
     "data": {
      "application/vnd.plotly.v1+json": {
       "config": {
        "plotlyServerURL": "https://plot.ly"
       },
       "data": [
        {
         "bingroup": "x",
         "hovertemplate": "price=%{x}<br>count=%{y}<extra></extra>",
         "legendgroup": "",
         "marker": {
          "color": "#636efa",
          "pattern": {
           "shape": ""
          }
         },
         "name": "",
         "orientation": "v",
         "showlegend": false,
         "type": "histogram",
         "x": {
          "bdata": "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",
          "dtype": "f8"
         },
         "xaxis": "x",
         "yaxis": "y"
        }
       ],
       "layout": {
        "barmode": "relative",
        "legend": {
         "tracegroupgap": 0
        },
        "margin": {
         "t": 60
        },
        "template": {
         "data": {
          "bar": [
           {
            "error_x": {
             "color": "#2a3f5f"
            },
            "error_y": {
             "color": "#2a3f5f"
            },
            "marker": {
             "line": {
              "color": "#E5ECF6",
              "width": 0.5
             },
             "pattern": {
              "fillmode": "overlay",
              "size": 10,
              "solidity": 0.2
             }
            },
            "type": "bar"
           }
          ],
          "barpolar": [
           {
            "marker": {
             "line": {
              "color": "#E5ECF6",
              "width": 0.5
             },
             "pattern": {
              "fillmode": "overlay",
              "size": 10,
              "solidity": 0.2
             }
            },
            "type": "barpolar"
           }
          ],
          "carpet": [
           {
            "aaxis": {
             "endlinecolor": "#2a3f5f",
             "gridcolor": "white",
             "linecolor": "white",
             "minorgridcolor": "white",
             "startlinecolor": "#2a3f5f"
            },
            "baxis": {
             "endlinecolor": "#2a3f5f",
             "gridcolor": "white",
             "linecolor": "white",
             "minorgridcolor": "white",
             "startlinecolor": "#2a3f5f"
            },
            "type": "carpet"
           }
          ],
          "choropleth": [
           {
            "colorbar": {
             "outlinewidth": 0,
             "ticks": ""
            },
            "type": "choropleth"
           }
          ],
          "contour": [
           {
            "colorbar": {
             "outlinewidth": 0,
             "ticks": ""
            },
            "colorscale": [
             [
              0,
              "#0d0887"
             ],
             [
              0.1111111111111111,
              "#46039f"
             ],
             [
              0.2222222222222222,
              "#7201a8"
             ],
             [
              0.3333333333333333,
              "#9c179e"
             ],
             [
              0.4444444444444444,
              "#bd3786"
             ],
             [
              0.5555555555555556,
              "#d8576b"
             ],
             [
              0.6666666666666666,
              "#ed7953"
             ],
             [
              0.7777777777777778,
              "#fb9f3a"
             ],
             [
              0.8888888888888888,
              "#fdca26"
             ],
             [
              1,
              "#f0f921"
             ]
            ],
            "type": "contour"
           }
          ],
          "contourcarpet": [
           {
            "colorbar": {
             "outlinewidth": 0,
             "ticks": ""
            },
            "type": "contourcarpet"
           }
          ],
          "heatmap": [
           {
            "colorbar": {
             "outlinewidth": 0,
             "ticks": ""
            },
            "colorscale": [
             [
              0,
              "#0d0887"
             ],
             [
              0.1111111111111111,
              "#46039f"
             ],
             [
              0.2222222222222222,
              "#7201a8"
             ],
             [
              0.3333333333333333,
              "#9c179e"
             ],
             [
              0.4444444444444444,
              "#bd3786"
             ],
             [
              0.5555555555555556,
              "#d8576b"
             ],
             [
              0.6666666666666666,
              "#ed7953"
             ],
             [
              0.7777777777777778,
              "#fb9f3a"
             ],
             [
              0.8888888888888888,
              "#fdca26"
             ],
             [
              1,
              "#f0f921"
             ]
            ],
            "type": "heatmap"
           }
          ],
          "histogram": [
           {
            "marker": {
             "pattern": {
              "fillmode": "overlay",
              "size": 10,
              "solidity": 0.2
             }
            },
            "type": "histogram"
           }
          ],
          "histogram2d": [
           {
            "colorbar": {
             "outlinewidth": 0,
             "ticks": ""
            },
            "colorscale": [
             [
              0,
              "#0d0887"
             ],
             [
              0.1111111111111111,
              "#46039f"
             ],
             [
              0.2222222222222222,
              "#7201a8"
             ],
             [
              0.3333333333333333,
              "#9c179e"
             ],
             [
              0.4444444444444444,
              "#bd3786"
             ],
             [
              0.5555555555555556,
              "#d8576b"
             ],
             [
              0.6666666666666666,
              "#ed7953"
             ],
             [
              0.7777777777777778,
              "#fb9f3a"
             ],
             [
              0.8888888888888888,
              "#fdca26"
             ],
             [
              1,
              "#f0f921"
             ]
            ],
            "type": "histogram2d"
           }
          ],
          "histogram2dcontour": [
           {
            "colorbar": {
             "outlinewidth": 0,
             "ticks": ""
            },
            "colorscale": [
             [
              0,
              "#0d0887"
             ],
             [
              0.1111111111111111,
              "#46039f"
             ],
             [
              0.2222222222222222,
              "#7201a8"
             ],
             [
              0.3333333333333333,
              "#9c179e"
             ],
             [
              0.4444444444444444,
              "#bd3786"
             ],
             [
              0.5555555555555556,
              "#d8576b"
             ],
             [
              0.6666666666666666,
              "#ed7953"
             ],
             [
              0.7777777777777778,
              "#fb9f3a"
             ],
             [
              0.8888888888888888,
              "#fdca26"
             ],
             [
              1,
              "#f0f921"
             ]
            ],
            "type": "histogram2dcontour"
           }
          ],
          "mesh3d": [
           {
            "colorbar": {
             "outlinewidth": 0,
             "ticks": ""
            },
            "type": "mesh3d"
           }
          ],
          "parcoords": [
           {
            "line": {
             "colorbar": {
              "outlinewidth": 0,
              "ticks": ""
             }
            },
            "type": "parcoords"
           }
          ],
          "pie": [
           {
            "automargin": true,
            "type": "pie"
           }
          ],
          "scatter": [
           {
            "fillpattern": {
             "fillmode": "overlay",
             "size": 10,
             "solidity": 0.2
            },
            "type": "scatter"
           }
          ],
          "scatter3d": [
           {
            "line": {
             "colorbar": {
              "outlinewidth": 0,
              "ticks": ""
             }
            },
            "marker": {
             "colorbar": {
              "outlinewidth": 0,
              "ticks": ""
             }
            },
            "type": "scatter3d"
           }
          ],
          "scattercarpet": [
           {
            "marker": {
             "colorbar": {
              "outlinewidth": 0,
              "ticks": ""
             }
            },
            "type": "scattercarpet"
           }
          ],
          "scattergeo": [
           {
            "marker": {
             "colorbar": {
              "outlinewidth": 0,
              "ticks": ""
             }
            },
            "type": "scattergeo"
           }
          ],
          "scattergl": [
           {
            "marker": {
             "colorbar": {
              "outlinewidth": 0,
              "ticks": ""
             }
            },
            "type": "scattergl"
           }
          ],
          "scattermap": [
           {
            "marker": {
             "colorbar": {
              "outlinewidth": 0,
              "ticks": ""
             }
            },
            "type": "scattermap"
           }
          ],
          "scattermapbox": [
           {
            "marker": {
             "colorbar": {
              "outlinewidth": 0,
              "ticks": ""
             }
            },
            "type": "scattermapbox"
           }
          ],
          "scatterpolar": [
           {
            "marker": {
             "colorbar": {
              "outlinewidth": 0,
              "ticks": ""
             }
            },
            "type": "scatterpolar"
           }
          ],
          "scatterpolargl": [
           {
            "marker": {
             "colorbar": {
              "outlinewidth": 0,
              "ticks": ""
             }
            },
            "type": "scatterpolargl"
           }
          ],
          "scatterternary": [
           {
            "marker": {
             "colorbar": {
              "outlinewidth": 0,
              "ticks": ""
             }
            },
            "type": "scatterternary"
           }
          ],
          "surface": [
           {
            "colorbar": {
             "outlinewidth": 0,
             "ticks": ""
            },
            "colorscale": [
             [
              0,
              "#0d0887"
             ],
             [
              0.1111111111111111,
              "#46039f"
             ],
             [
              0.2222222222222222,
              "#7201a8"
             ],
             [
              0.3333333333333333,
              "#9c179e"
             ],
             [
              0.4444444444444444,
              "#bd3786"
             ],
             [
              0.5555555555555556,
              "#d8576b"
             ],
             [
              0.6666666666666666,
              "#ed7953"
             ],
             [
              0.7777777777777778,
              "#fb9f3a"
             ],
             [
              0.8888888888888888,
              "#fdca26"
             ],
             [
              1,
              "#f0f921"
             ]
            ],
            "type": "surface"
           }
          ],
          "table": [
           {
            "cells": {
             "fill": {
              "color": "#EBF0F8"
             },
             "line": {
              "color": "white"
             }
            },
            "header": {
             "fill": {
              "color": "#C8D4E3"
             },
             "line": {
              "color": "white"
             }
            },
            "type": "table"
           }
          ]
         },
         "layout": {
          "annotationdefaults": {
           "arrowcolor": "#2a3f5f",
           "arrowhead": 0,
           "arrowwidth": 1
          },
          "autotypenumbers": "strict",
          "coloraxis": {
           "colorbar": {
            "outlinewidth": 0,
            "ticks": ""
           }
          },
          "colorscale": {
           "diverging": [
            [
             0,
             "#8e0152"
            ],
            [
             0.1,
             "#c51b7d"
            ],
            [
             0.2,
             "#de77ae"
            ],
            [
             0.3,
             "#f1b6da"
            ],
            [
             0.4,
             "#fde0ef"
            ],
            [
             0.5,
             "#f7f7f7"
            ],
            [
             0.6,
             "#e6f5d0"
            ],
            [
             0.7,
             "#b8e186"
            ],
            [
             0.8,
             "#7fbc41"
            ],
            [
             0.9,
             "#4d9221"
            ],
            [
             1,
             "#276419"
            ]
           ],
           "sequential": [
            [
             0,
             "#0d0887"
            ],
            [
             0.1111111111111111,
             "#46039f"
            ],
            [
             0.2222222222222222,
             "#7201a8"
            ],
            [
             0.3333333333333333,
             "#9c179e"
            ],
            [
             0.4444444444444444,
             "#bd3786"
            ],
            [
             0.5555555555555556,
             "#d8576b"
            ],
            [
             0.6666666666666666,
             "#ed7953"
            ],
            [
             0.7777777777777778,
             "#fb9f3a"
            ],
            [
             0.8888888888888888,
             "#fdca26"
            ],
            [
             1,
             "#f0f921"
            ]
           ],
           "sequentialminus": [
            [
             0,
             "#0d0887"
            ],
            [
             0.1111111111111111,
             "#46039f"
            ],
            [
             0.2222222222222222,
             "#7201a8"
            ],
            [
             0.3333333333333333,
             "#9c179e"
            ],
            [
             0.4444444444444444,
             "#bd3786"
            ],
            [
             0.5555555555555556,
             "#d8576b"
            ],
            [
             0.6666666666666666,
             "#ed7953"
            ],
            [
             0.7777777777777778,
             "#fb9f3a"
            ],
            [
             0.8888888888888888,
             "#fdca26"
            ],
            [
             1,
             "#f0f921"
            ]
           ]
          },
          "colorway": [
           "#636efa",
           "#EF553B",
           "#00cc96",
           "#ab63fa",
           "#FFA15A",
           "#19d3f3",
           "#FF6692",
           "#B6E880",
           "#FF97FF",
           "#FECB52"
          ],
          "font": {
           "color": "#2a3f5f"
          },
          "geo": {
           "bgcolor": "white",
           "lakecolor": "white",
           "landcolor": "#E5ECF6",
           "showlakes": true,
           "showland": true,
           "subunitcolor": "white"
          },
          "hoverlabel": {
           "align": "left"
          },
          "hovermode": "closest",
          "mapbox": {
           "style": "light"
          },
          "paper_bgcolor": "white",
          "plot_bgcolor": "#E5ECF6",
          "polar": {
           "angularaxis": {
            "gridcolor": "white",
            "linecolor": "white",
            "ticks": ""
           },
           "bgcolor": "#E5ECF6",
           "radialaxis": {
            "gridcolor": "white",
            "linecolor": "white",
            "ticks": ""
           }
          },
          "scene": {
           "xaxis": {
            "backgroundcolor": "#E5ECF6",
            "gridcolor": "white",
            "gridwidth": 2,
            "linecolor": "white",
            "showbackground": true,
            "ticks": "",
            "zerolinecolor": "white"
           },
           "yaxis": {
            "backgroundcolor": "#E5ECF6",
            "gridcolor": "white",
            "gridwidth": 2,
            "linecolor": "white",
            "showbackground": true,
            "ticks": "",
            "zerolinecolor": "white"
           },
           "zaxis": {
            "backgroundcolor": "#E5ECF6",
            "gridcolor": "white",
            "gridwidth": 2,
            "linecolor": "white",
            "showbackground": true,
            "ticks": "",
            "zerolinecolor": "white"
           }
          },
          "shapedefaults": {
           "line": {
            "color": "#2a3f5f"
           }
          },
          "ternary": {
           "aaxis": {
            "gridcolor": "white",
            "linecolor": "white",
            "ticks": ""
           },
           "baxis": {
            "gridcolor": "white",
            "linecolor": "white",
            "ticks": ""
           },
           "bgcolor": "#E5ECF6",
           "caxis": {
            "gridcolor": "white",
            "linecolor": "white",
            "ticks": ""
           }
          },
          "title": {
           "x": 0.05
          },
          "xaxis": {
           "automargin": true,
           "gridcolor": "white",
           "linecolor": "white",
           "ticks": "",
           "title": {
            "standoff": 15
           },
           "zerolinecolor": "white",
           "zerolinewidth": 2
          },
          "yaxis": {
           "automargin": true,
           "gridcolor": "white",
           "linecolor": "white",
           "ticks": "",
           "title": {
            "standoff": 15
           },
           "zerolinecolor": "white",
           "zerolinewidth": 2
          }
         }
        },
        "xaxis": {
         "anchor": "y",
         "domain": [
          0,
          1
         ],
         "title": {
          "text": "price"
         }
        },
        "yaxis": {
         "anchor": "x",
         "domain": [
          0,
          1
         ],
         "title": {
          "text": "count"
         }
        }
       }
      }
     },
     "metadata": {},
     "output_type": "display_data"
    }
   ],
   "source": [
    "pdf = df[['price']]\n",
    "px.histogram(pdf, x='price')"
   ]
  },
  {
   "cell_type": "markdown",
   "id": "f7a4afa7",
   "metadata": {},
   "source": [
    "The most frequent price segment for phones in recent years is budget-friendly, from 75 up to 225 euros. This might imply that there is a lot of competition in budget phonne segment, with many manufacturers offering many different phones in this price range.\n",
    "\n",
    "A long tail with low counts imply that there are a few of premium flagship phones."
   ]
  },
  {
   "cell_type": "code",
   "execution_count": 5,
   "id": "c3a42fd6",
   "metadata": {},
   "outputs": [
    {
     "data": {
      "application/vnd.plotly.v1+json": {
       "config": {
        "plotlyServerURL": "https://plot.ly"
       },
       "data": [
        {
         "alignmentgroup": "True",
         "hovertemplate": "price=%{x}<extra></extra>",
         "legendgroup": "",
         "marker": {
          "color": "#636efa"
         },
         "name": "",
         "notched": false,
         "offsetgroup": "",
         "orientation": "h",
         "showlegend": false,
         "type": "box",
         "x": {
          "bdata": "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",
          "dtype": "f8"
         },
         "x0": " ",
         "xaxis": "x",
         "y0": " ",
         "yaxis": "y"
        }
       ],
       "layout": {
        "boxmode": "group",
        "legend": {
         "tracegroupgap": 0
        },
        "margin": {
         "t": 60
        },
        "template": {
         "data": {
          "bar": [
           {
            "error_x": {
             "color": "#2a3f5f"
            },
            "error_y": {
             "color": "#2a3f5f"
            },
            "marker": {
             "line": {
              "color": "#E5ECF6",
              "width": 0.5
             },
             "pattern": {
              "fillmode": "overlay",
              "size": 10,
              "solidity": 0.2
             }
            },
            "type": "bar"
           }
          ],
          "barpolar": [
           {
            "marker": {
             "line": {
              "color": "#E5ECF6",
              "width": 0.5
             },
             "pattern": {
              "fillmode": "overlay",
              "size": 10,
              "solidity": 0.2
             }
            },
            "type": "barpolar"
           }
          ],
          "carpet": [
           {
            "aaxis": {
             "endlinecolor": "#2a3f5f",
             "gridcolor": "white",
             "linecolor": "white",
             "minorgridcolor": "white",
             "startlinecolor": "#2a3f5f"
            },
            "baxis": {
             "endlinecolor": "#2a3f5f",
             "gridcolor": "white",
             "linecolor": "white",
             "minorgridcolor": "white",
             "startlinecolor": "#2a3f5f"
            },
            "type": "carpet"
           }
          ],
          "choropleth": [
           {
            "colorbar": {
             "outlinewidth": 0,
             "ticks": ""
            },
            "type": "choropleth"
           }
          ],
          "contour": [
           {
            "colorbar": {
             "outlinewidth": 0,
             "ticks": ""
            },
            "colorscale": [
             [
              0,
              "#0d0887"
             ],
             [
              0.1111111111111111,
              "#46039f"
             ],
             [
              0.2222222222222222,
              "#7201a8"
             ],
             [
              0.3333333333333333,
              "#9c179e"
             ],
             [
              0.4444444444444444,
              "#bd3786"
             ],
             [
              0.5555555555555556,
              "#d8576b"
             ],
             [
              0.6666666666666666,
              "#ed7953"
             ],
             [
              0.7777777777777778,
              "#fb9f3a"
             ],
             [
              0.8888888888888888,
              "#fdca26"
             ],
             [
              1,
              "#f0f921"
             ]
            ],
            "type": "contour"
           }
          ],
          "contourcarpet": [
           {
            "colorbar": {
             "outlinewidth": 0,
             "ticks": ""
            },
            "type": "contourcarpet"
           }
          ],
          "heatmap": [
           {
            "colorbar": {
             "outlinewidth": 0,
             "ticks": ""
            },
            "colorscale": [
             [
              0,
              "#0d0887"
             ],
             [
              0.1111111111111111,
              "#46039f"
             ],
             [
              0.2222222222222222,
              "#7201a8"
             ],
             [
              0.3333333333333333,
              "#9c179e"
             ],
             [
              0.4444444444444444,
              "#bd3786"
             ],
             [
              0.5555555555555556,
              "#d8576b"
             ],
             [
              0.6666666666666666,
              "#ed7953"
             ],
             [
              0.7777777777777778,
              "#fb9f3a"
             ],
             [
              0.8888888888888888,
              "#fdca26"
             ],
             [
              1,
              "#f0f921"
             ]
            ],
            "type": "heatmap"
           }
          ],
          "histogram": [
           {
            "marker": {
             "pattern": {
              "fillmode": "overlay",
              "size": 10,
              "solidity": 0.2
             }
            },
            "type": "histogram"
           }
          ],
          "histogram2d": [
           {
            "colorbar": {
             "outlinewidth": 0,
             "ticks": ""
            },
            "colorscale": [
             [
              0,
              "#0d0887"
             ],
             [
              0.1111111111111111,
              "#46039f"
             ],
             [
              0.2222222222222222,
              "#7201a8"
             ],
             [
              0.3333333333333333,
              "#9c179e"
             ],
             [
              0.4444444444444444,
              "#bd3786"
             ],
             [
              0.5555555555555556,
              "#d8576b"
             ],
             [
              0.6666666666666666,
              "#ed7953"
             ],
             [
              0.7777777777777778,
              "#fb9f3a"
             ],
             [
              0.8888888888888888,
              "#fdca26"
             ],
             [
              1,
              "#f0f921"
             ]
            ],
            "type": "histogram2d"
           }
          ],
          "histogram2dcontour": [
           {
            "colorbar": {
             "outlinewidth": 0,
             "ticks": ""
            },
            "colorscale": [
             [
              0,
              "#0d0887"
             ],
             [
              0.1111111111111111,
              "#46039f"
             ],
             [
              0.2222222222222222,
              "#7201a8"
             ],
             [
              0.3333333333333333,
              "#9c179e"
             ],
             [
              0.4444444444444444,
              "#bd3786"
             ],
             [
              0.5555555555555556,
              "#d8576b"
             ],
             [
              0.6666666666666666,
              "#ed7953"
             ],
             [
              0.7777777777777778,
              "#fb9f3a"
             ],
             [
              0.8888888888888888,
              "#fdca26"
             ],
             [
              1,
              "#f0f921"
             ]
            ],
            "type": "histogram2dcontour"
           }
          ],
          "mesh3d": [
           {
            "colorbar": {
             "outlinewidth": 0,
             "ticks": ""
            },
            "type": "mesh3d"
           }
          ],
          "parcoords": [
           {
            "line": {
             "colorbar": {
              "outlinewidth": 0,
              "ticks": ""
             }
            },
            "type": "parcoords"
           }
          ],
          "pie": [
           {
            "automargin": true,
            "type": "pie"
           }
          ],
          "scatter": [
           {
            "fillpattern": {
             "fillmode": "overlay",
             "size": 10,
             "solidity": 0.2
            },
            "type": "scatter"
           }
          ],
          "scatter3d": [
           {
            "line": {
             "colorbar": {
              "outlinewidth": 0,
              "ticks": ""
             }
            },
            "marker": {
             "colorbar": {
              "outlinewidth": 0,
              "ticks": ""
             }
            },
            "type": "scatter3d"
           }
          ],
          "scattercarpet": [
           {
            "marker": {
             "colorbar": {
              "outlinewidth": 0,
              "ticks": ""
             }
            },
            "type": "scattercarpet"
           }
          ],
          "scattergeo": [
           {
            "marker": {
             "colorbar": {
              "outlinewidth": 0,
              "ticks": ""
             }
            },
            "type": "scattergeo"
           }
          ],
          "scattergl": [
           {
            "marker": {
             "colorbar": {
              "outlinewidth": 0,
              "ticks": ""
             }
            },
            "type": "scattergl"
           }
          ],
          "scattermap": [
           {
            "marker": {
             "colorbar": {
              "outlinewidth": 0,
              "ticks": ""
             }
            },
            "type": "scattermap"
           }
          ],
          "scattermapbox": [
           {
            "marker": {
             "colorbar": {
              "outlinewidth": 0,
              "ticks": ""
             }
            },
            "type": "scattermapbox"
           }
          ],
          "scatterpolar": [
           {
            "marker": {
             "colorbar": {
              "outlinewidth": 0,
              "ticks": ""
             }
            },
            "type": "scatterpolar"
           }
          ],
          "scatterpolargl": [
           {
            "marker": {
             "colorbar": {
              "outlinewidth": 0,
              "ticks": ""
             }
            },
            "type": "scatterpolargl"
           }
          ],
          "scatterternary": [
           {
            "marker": {
             "colorbar": {
              "outlinewidth": 0,
              "ticks": ""
             }
            },
            "type": "scatterternary"
           }
          ],
          "surface": [
           {
            "colorbar": {
             "outlinewidth": 0,
             "ticks": ""
            },
            "colorscale": [
             [
              0,
              "#0d0887"
             ],
             [
              0.1111111111111111,
              "#46039f"
             ],
             [
              0.2222222222222222,
              "#7201a8"
             ],
             [
              0.3333333333333333,
              "#9c179e"
             ],
             [
              0.4444444444444444,
              "#bd3786"
             ],
             [
              0.5555555555555556,
              "#d8576b"
             ],
             [
              0.6666666666666666,
              "#ed7953"
             ],
             [
              0.7777777777777778,
              "#fb9f3a"
             ],
             [
              0.8888888888888888,
              "#fdca26"
             ],
             [
              1,
              "#f0f921"
             ]
            ],
            "type": "surface"
           }
          ],
          "table": [
           {
            "cells": {
             "fill": {
              "color": "#EBF0F8"
             },
             "line": {
              "color": "white"
             }
            },
            "header": {
             "fill": {
              "color": "#C8D4E3"
             },
             "line": {
              "color": "white"
             }
            },
            "type": "table"
           }
          ]
         },
         "layout": {
          "annotationdefaults": {
           "arrowcolor": "#2a3f5f",
           "arrowhead": 0,
           "arrowwidth": 1
          },
          "autotypenumbers": "strict",
          "coloraxis": {
           "colorbar": {
            "outlinewidth": 0,
            "ticks": ""
           }
          },
          "colorscale": {
           "diverging": [
            [
             0,
             "#8e0152"
            ],
            [
             0.1,
             "#c51b7d"
            ],
            [
             0.2,
             "#de77ae"
            ],
            [
             0.3,
             "#f1b6da"
            ],
            [
             0.4,
             "#fde0ef"
            ],
            [
             0.5,
             "#f7f7f7"
            ],
            [
             0.6,
             "#e6f5d0"
            ],
            [
             0.7,
             "#b8e186"
            ],
            [
             0.8,
             "#7fbc41"
            ],
            [
             0.9,
             "#4d9221"
            ],
            [
             1,
             "#276419"
            ]
           ],
           "sequential": [
            [
             0,
             "#0d0887"
            ],
            [
             0.1111111111111111,
             "#46039f"
            ],
            [
             0.2222222222222222,
             "#7201a8"
            ],
            [
             0.3333333333333333,
             "#9c179e"
            ],
            [
             0.4444444444444444,
             "#bd3786"
            ],
            [
             0.5555555555555556,
             "#d8576b"
            ],
            [
             0.6666666666666666,
             "#ed7953"
            ],
            [
             0.7777777777777778,
             "#fb9f3a"
            ],
            [
             0.8888888888888888,
             "#fdca26"
            ],
            [
             1,
             "#f0f921"
            ]
           ],
           "sequentialminus": [
            [
             0,
             "#0d0887"
            ],
            [
             0.1111111111111111,
             "#46039f"
            ],
            [
             0.2222222222222222,
             "#7201a8"
            ],
            [
             0.3333333333333333,
             "#9c179e"
            ],
            [
             0.4444444444444444,
             "#bd3786"
            ],
            [
             0.5555555555555556,
             "#d8576b"
            ],
            [
             0.6666666666666666,
             "#ed7953"
            ],
            [
             0.7777777777777778,
             "#fb9f3a"
            ],
            [
             0.8888888888888888,
             "#fdca26"
            ],
            [
             1,
             "#f0f921"
            ]
           ]
          },
          "colorway": [
           "#636efa",
           "#EF553B",
           "#00cc96",
           "#ab63fa",
           "#FFA15A",
           "#19d3f3",
           "#FF6692",
           "#B6E880",
           "#FF97FF",
           "#FECB52"
          ],
          "font": {
           "color": "#2a3f5f"
          },
          "geo": {
           "bgcolor": "white",
           "lakecolor": "white",
           "landcolor": "#E5ECF6",
           "showlakes": true,
           "showland": true,
           "subunitcolor": "white"
          },
          "hoverlabel": {
           "align": "left"
          },
          "hovermode": "closest",
          "mapbox": {
           "style": "light"
          },
          "paper_bgcolor": "white",
          "plot_bgcolor": "#E5ECF6",
          "polar": {
           "angularaxis": {
            "gridcolor": "white",
            "linecolor": "white",
            "ticks": ""
           },
           "bgcolor": "#E5ECF6",
           "radialaxis": {
            "gridcolor": "white",
            "linecolor": "white",
            "ticks": ""
           }
          },
          "scene": {
           "xaxis": {
            "backgroundcolor": "#E5ECF6",
            "gridcolor": "white",
            "gridwidth": 2,
            "linecolor": "white",
            "showbackground": true,
            "ticks": "",
            "zerolinecolor": "white"
           },
           "yaxis": {
            "backgroundcolor": "#E5ECF6",
            "gridcolor": "white",
            "gridwidth": 2,
            "linecolor": "white",
            "showbackground": true,
            "ticks": "",
            "zerolinecolor": "white"
           },
           "zaxis": {
            "backgroundcolor": "#E5ECF6",
            "gridcolor": "white",
            "gridwidth": 2,
            "linecolor": "white",
            "showbackground": true,
            "ticks": "",
            "zerolinecolor": "white"
           }
          },
          "shapedefaults": {
           "line": {
            "color": "#2a3f5f"
           }
          },
          "ternary": {
           "aaxis": {
            "gridcolor": "white",
            "linecolor": "white",
            "ticks": ""
           },
           "baxis": {
            "gridcolor": "white",
            "linecolor": "white",
            "ticks": ""
           },
           "bgcolor": "#E5ECF6",
           "caxis": {
            "gridcolor": "white",
            "linecolor": "white",
            "ticks": ""
           }
          },
          "title": {
           "x": 0.05
          },
          "xaxis": {
           "automargin": true,
           "gridcolor": "white",
           "linecolor": "white",
           "ticks": "",
           "title": {
            "standoff": 15
           },
           "zerolinecolor": "white",
           "zerolinewidth": 2
          },
          "yaxis": {
           "automargin": true,
           "gridcolor": "white",
           "linecolor": "white",
           "ticks": "",
           "title": {
            "standoff": 15
           },
           "zerolinecolor": "white",
           "zerolinewidth": 2
          }
         }
        },
        "xaxis": {
         "anchor": "y",
         "domain": [
          0,
          1
         ],
         "title": {
          "text": "price"
         }
        },
        "yaxis": {
         "anchor": "x",
         "domain": [
          0,
          1
         ]
        }
       }
      }
     },
     "metadata": {},
     "output_type": "display_data"
    }
   ],
   "source": [
    "pdf = df[['price']]\n",
    "px.box(pdf, x='price')"
   ]
  },
  {
   "cell_type": "markdown",
   "id": "7dfd9623",
   "metadata": {},
   "source": [
    "The box plot gives insight from the price range that most phones are manufactured up to 730 euros price range, and that the remaining phones with highers prices might be considered flagships.\n",
    "\n",
    "// Based on the box plot above, I will drop entries above 2300 euros, as there are only a few extremly expensive flagship phones, including the trifold huawei mate xt ultimate."
   ]
  },
  {
   "cell_type": "code",
   "execution_count": 6,
   "id": "a3294c8e",
   "metadata": {},
   "outputs": [],
   "source": [
    "ddf = df[df['price'] <= 2000]"
   ]
  },
  {
   "cell_type": "code",
   "execution_count": 7,
   "id": "0a16fea6",
   "metadata": {},
   "outputs": [
    {
     "data": {
      "application/vnd.plotly.v1+json": {
       "config": {
        "plotlyServerURL": "https://plot.ly"
       },
       "data": [
        {
         "customdata": [
          [
           "Apple",
           "iPhone 16e"
          ],
          [
           "Apple",
           "iPhone 16 Pro Max"
          ],
          [
           "Apple",
           "iPhone 16 Pro"
          ],
          [
           "Apple",
           "iPhone 16 Plus"
          ],
          [
           "Apple",
           "iPhone 16"
          ],
          [
           "Apple",
           "iPhone 15 Pro Max"
          ],
          [
           "Apple",
           "iPhone 15 Pro"
          ],
          [
           "Apple",
           "iPhone 15 Plus"
          ],
          [
           "Apple",
           "iPhone 15"
          ],
          [
           "Apple",
           "iPhone 14 Pro Max"
          ],
          [
           "Apple",
           "iPhone 14 Pro"
          ],
          [
           "Apple",
           "iPhone 14 Plus"
          ],
          [
           "Apple",
           "iPhone 14"
          ],
          [
           "Apple",
           "iPhone SE (2022)"
          ],
          [
           "Apple",
           "iPhone 13 Pro Max"
          ],
          [
           "Apple",
           "iPhone 13 Pro"
          ],
          [
           "Apple",
           "iPhone 13"
          ],
          [
           "Apple",
           "iPhone 13 mini"
          ],
          [
           "Apple",
           "iPhone 12 Pro Max"
          ],
          [
           "Apple",
           "iPhone 12 Pro"
          ],
          [
           "Apple",
           "iPhone 12"
          ],
          [
           "Apple",
           "iPhone 12 mini"
          ],
          [
           "Apple",
           "iPhone SE (2020)"
          ],
          [
           "Asus",
           "Zenfone 12 Ultra"
          ],
          [
           "Asus",
           "ROG Phone 9 Pro"
          ],
          [
           "Asus",
           "ROG Phone 9 FE"
          ],
          [
           "Asus",
           "ROG Phone 9"
          ],
          [
           "Asus",
           "Zenfone 11 Ultra"
          ],
          [
           "Asus",
           "ROG Phone 8 Pro"
          ],
          [
           "Asus",
           "ROG Phone 8"
          ],
          [
           "Asus",
           "Zenfone 10"
          ],
          [
           "Asus",
           "ROG Phone 7 Ultimate"
          ],
          [
           "Asus",
           "ROG Phone 7"
          ],
          [
           "Asus",
           "ROG Phone 6D Ultimate"
          ],
          [
           "Asus",
           "ROG Phone 6D"
          ],
          [
           "Asus",
           "ROG Phone 6 Diablo Immortal Edition"
          ],
          [
           "Asus",
           "ROG Phone 6 Batman Edition"
          ],
          [
           "Asus",
           "Zenfone 9"
          ],
          [
           "Asus",
           "ROG Phone 6 Pro"
          ],
          [
           "Asus",
           "ROG Phone 6"
          ],
          [
           "Asus",
           "ROG Phone 5s Pro"
          ],
          [
           "Asus",
           "ROG Phone 5s"
          ],
          [
           "Asus",
           "Smartphone for Snapdragon Insiders"
          ],
          [
           "Asus",
           "Zenfone 8 Flip"
          ],
          [
           "Asus",
           "Zenfone 8"
          ],
          [
           "Asus",
           "ROG Phone 5 Ultimate"
          ],
          [
           "Asus",
           "ROG Phone 5 Pro"
          ],
          [
           "Asus",
           "ROG Phone 5"
          ],
          [
           "Asus",
           "Zenfone 7 Pro"
          ],
          [
           "Asus",
           "Zenfone 7"
          ],
          [
           "Asus",
           "ROG Phone 3"
          ],
          [
           "Asus",
           "ROG Phone 3 Strix"
          ],
          [
           "Google",
           "Pixel 9 Pro XL"
          ],
          [
           "Google",
           "Pixel 9 Pro"
          ],
          [
           "Google",
           "Pixel 9"
          ],
          [
           "Google",
           "Pixel 9 Pro Fold"
          ],
          [
           "Google",
           "Pixel 8a"
          ],
          [
           "Google",
           "Pixel 8 Pro"
          ],
          [
           "Google",
           "Pixel 8"
          ],
          [
           "Google",
           "Pixel Fold"
          ],
          [
           "Google",
           "Pixel 7a"
          ],
          [
           "Google",
           "Pixel 7 Pro"
          ],
          [
           "Google",
           "Pixel 7"
          ],
          [
           "Google",
           "Pixel 6a"
          ],
          [
           "Google",
           "Pixel 6 Pro"
          ],
          [
           "Google",
           "Pixel 6"
          ],
          [
           "Google",
           "Pixel 5a 5G"
          ],
          [
           "Google",
           "Pixel 5"
          ],
          [
           "Google",
           "Pixel 4a 5G"
          ],
          [
           "Google",
           "Pixel 4a"
          ],
          [
           "HTC",
           "U24 Pro"
          ],
          [
           "HTC",
           "Wildfire E star"
          ],
          [
           "HTC",
           "U23 Pro"
          ],
          [
           "HTC",
           "Wildfire E plus"
          ],
          [
           "HTC",
           "Desire 22 Pro"
          ],
          [
           "HTC",
           "Wildfire E2 Plus"
          ],
          [
           "HTC",
           "Wildfire E3"
          ],
          [
           "HTC",
           "Desire 21 Pro 5G"
          ],
          [
           "HTC",
           "Desire 20+"
          ],
          [
           "HTC",
           "Wildfire E1 lite"
          ],
          [
           "HTC",
           "Wildfire E2"
          ],
          [
           "HTC",
           "Desire 20 Pro"
          ],
          [
           "Huawei",
           "nova 13i"
          ],
          [
           "Huawei",
           "Mate 70 RS Ultimate"
          ],
          [
           "Huawei",
           "Mate 70 Pro+"
          ],
          [
           "Huawei",
           "Mate 70 Pro"
          ],
          [
           "Huawei",
           "Mate 70"
          ],
          [
           "Huawei",
           "Mate X6"
          ],
          [
           "Huawei",
           "nova 13 Pro"
          ],
          [
           "Huawei",
           "nova 13"
          ],
          [
           "Huawei",
           "nova Flip"
          ],
          [
           "Huawei",
           "Pura 70 Ultra"
          ],
          [
           "Huawei",
           "Pura 70 Pro+"
          ],
          [
           "Huawei",
           "Pura 70 Pro"
          ],
          [
           "Huawei",
           "Pura 70"
          ],
          [
           "Huawei",
           "nova 12i"
          ],
          [
           "Huawei",
           "nova 12 SE"
          ],
          [
           "Huawei",
           "nova 12s"
          ],
          [
           "Huawei",
           "Pocket 2"
          ],
          [
           "Huawei",
           "Enjoy 70z"
          ],
          [
           "Huawei",
           "nova Y72"
          ],
          [
           "Huawei",
           "nova 12 Ultra"
          ],
          [
           "Huawei",
           "nova 12 Pro"
          ],
          [
           "Huawei",
           "nova 12"
          ],
          [
           "Huawei",
           "nova 12 Lite"
          ],
          [
           "Huawei",
           "Enjoy 70"
          ],
          [
           "Huawei",
           "nova 11 SE"
          ],
          [
           "Huawei",
           "Mate 60 RS Ultimate"
          ],
          [
           "Huawei",
           "Mate 60 Pro"
          ],
          [
           "Huawei",
           "Mate 60"
          ],
          [
           "Huawei",
           "nova Y91"
          ],
          [
           "Huawei",
           "nova 11i"
          ],
          [
           "Huawei",
           "nova Y71"
          ],
          [
           "Huawei",
           "Enjoy 60X"
          ],
          [
           "Huawei",
           "nova 11 Ultra"
          ],
          [
           "Huawei",
           "nova 11 Pro"
          ],
          [
           "Huawei",
           "nova 11"
          ],
          [
           "Huawei",
           "P60 Pro"
          ],
          [
           "Huawei",
           "P60"
          ],
          [
           "Huawei",
           "P60 Art"
          ],
          [
           "Huawei",
           "Enjoy 60 Pro"
          ],
          [
           "Huawei",
           "Enjoy 60"
          ],
          [
           "Huawei",
           "nova 10 Youth"
          ],
          [
           "Huawei",
           "Enjoy 50z"
          ],
          [
           "Huawei",
           "Pocket S"
          ],
          [
           "Huawei",
           "nova Y61"
          ],
          [
           "Huawei",
           "nova 10 SE"
          ],
          [
           "Huawei",
           "Mate 50 RS Porsche Design"
          ],
          [
           "Huawei",
           "Mate 50 Pro"
          ],
          [
           "Huawei",
           "Mate 50E"
          ],
          [
           "Huawei",
           "Mate 50"
          ],
          [
           "Huawei",
           "nova 10z"
          ],
          [
           "Huawei",
           "nova 10 Pro"
          ],
          [
           "Huawei",
           "nova 10"
          ],
          [
           "Huawei",
           "nova Y90"
          ],
          [
           "Huawei",
           "Mate Xs 2"
          ],
          [
           "Huawei",
           "nova 9 SE 5G"
          ],
          [
           "Huawei",
           "nova Y70 Plus"
          ],
          [
           "Huawei",
           "P50E"
          ],
          [
           "Huawei",
           "nova 9 SE"
          ],
          [
           "Huawei",
           "P50 Pocket"
          ],
          [
           "Huawei",
           "nova 8 SE 4G"
          ],
          [
           "Huawei",
           "nova Y60"
          ],
          [
           "Huawei",
           "Enjoy 20e"
          ],
          [
           "Huawei",
           "nova 9 Pro"
          ],
          [
           "Huawei",
           "nova 9"
          ],
          [
           "Huawei",
           "nova 8"
          ],
          [
           "Huawei",
           "P50 Pro"
          ],
          [
           "Huawei",
           "P50"
          ],
          [
           "Huawei",
           "nova 8 SE Youth"
          ],
          [
           "Huawei",
           "nova 8i"
          ],
          [
           "Huawei",
           "Mate 40 Pro 4G"
          ],
          [
           "Huawei",
           "Mate 40E 4G"
          ],
          [
           "Huawei",
           "Mate 40E"
          ],
          [
           "Huawei",
           "P40 4G"
          ],
          [
           "Huawei",
           "nova 8 Pro 5G"
          ],
          [
           "Huawei",
           "nova 8 5G"
          ],
          [
           "Huawei",
           "Enjoy 20 SE"
          ],
          [
           "Huawei",
           "nova 8 SE"
          ],
          [
           "Huawei",
           "Mate 40 RS Porsche Design"
          ],
          [
           "Huawei",
           "Mate 40 Pro+"
          ],
          [
           "Huawei",
           "Mate 40 Pro"
          ],
          [
           "Huawei",
           "Mate 40"
          ],
          [
           "Huawei",
           "Mate 30E Pro 5G"
          ],
          [
           "Huawei",
           "nova 7 SE 5G Youth"
          ],
          [
           "Huawei",
           "Y7a"
          ],
          [
           "Huawei",
           "P smart 2021"
          ],
          [
           "Huawei",
           "Y9a"
          ],
          [
           "Huawei",
           "Enjoy 20 Plus 5G"
          ],
          [
           "Huawei",
           "Enjoy 20 5G"
          ],
          [
           "Huawei",
           "Enjoy 20 Pro"
          ],
          [
           "Huawei",
           "Enjoy Z 5G"
          ],
          [
           "Huawei",
           "P Smart S"
          ],
          [
           "Huawei",
           "Y8p"
          ],
          [
           "Huawei",
           "P40 lite 5G"
          ],
          [
           "Huawei",
           "P30 Pro New Edition"
          ],
          [
           "Huawei",
           "Y8s"
          ],
          [
           "Huawei",
           "Y6p"
          ],
          [
           "Huawei",
           "Y5p"
          ],
          [
           "Huawei",
           "P smart 2020"
          ],
          [
           "Huawei",
           "nova 7 Pro 5G"
          ],
          [
           "Huawei",
           "nova 7 5G"
          ],
          [
           "Huawei",
           "nova 7 SE"
          ],
          [
           "Huawei",
           "Enjoy 10e"
          ],
          [
           "Huawei",
           "P40 Pro+"
          ],
          [
           "Huawei",
           "P40 Pro"
          ],
          [
           "Huawei",
           "P40"
          ],
          [
           "Huawei",
           "P40 lite E"
          ],
          [
           "Huawei",
           "P40 lite"
          ],
          [
           "Huawei",
           "Mate Xs"
          ],
          [
           "Huawei",
           "P30 lite New Edition"
          ],
          [
           "Huawei",
           "Y7p"
          ],
          [
           "Huawei",
           "nova 7i"
          ],
          [
           "Huawei",
           "Y6s (2019)"
          ],
          [
           "Infinix",
           "Note 50 Pro 4G"
          ],
          [
           "Infinix",
           "Note 50 4G"
          ],
          [
           "Infinix",
           "Hot 50 Pro+ 4G"
          ],
          [
           "Infinix",
           "Smart 9"
          ],
          [
           "Infinix",
           "Zero Flip"
          ],
          [
           "Infinix",
           "Hot 50"
          ],
          [
           "Infinix",
           "Zero 40"
          ],
          [
           "Infinix",
           "Zero 40 4G"
          ],
          [
           "Infinix",
           "Note 40X 5G"
          ],
          [
           "Infinix",
           "Note 40 5G"
          ],
          [
           "Infinix",
           "GT 20 Pro"
          ],
          [
           "Infinix",
           "Note 40 Pro+"
          ],
          [
           "Infinix",
           "Note 40 Pro"
          ],
          [
           "Infinix",
           "Note 40 Pro 4G"
          ],
          [
           "Infinix",
           "Note 40"
          ],
          [
           "Infinix",
           "Smart 8 Plus"
          ],
          [
           "Infinix",
           "Smart 8 Pro"
          ],
          [
           "Infinix",
           "Smart 8 (India)"
          ],
          [
           "Infinix",
           "Smart 8 HD"
          ],
          [
           "Infinix",
           "Hot 40i"
          ],
          [
           "Infinix",
           "Smart 8"
          ],
          [
           "Infinix",
           "Zero 30 4G"
          ],
          [
           "Infinix",
           "Zero 30"
          ],
          [
           "Infinix",
           "GT 10 Pro"
          ],
          [
           "Infinix",
           "Hot 30 5G"
          ],
          [
           "Infinix",
           "Note 30 VIP"
          ],
          [
           "Infinix",
           "Note 30 5G"
          ],
          [
           "Infinix",
           "Smart 7 HD"
          ],
          [
           "Infinix",
           "Hot 30i"
          ],
          [
           "Infinix",
           "Smart 7 (India)"
          ],
          [
           "Infinix",
           "Smart 7"
          ],
          [
           "Infinix",
           "Zero 5G 2023"
          ],
          [
           "Infinix",
           "Hot 20 Play"
          ],
          [
           "Infinix",
           "Hot 20"
          ],
          [
           "Infinix",
           "Note 12 (2023)"
          ],
          [
           "Infinix",
           "Zero Ultra"
          ],
          [
           "Infinix",
           "Hot 20 5G"
          ],
          [
           "Infinix",
           "Hot 20i"
          ],
          [
           "Infinix",
           "Zero 20"
          ],
          [
           "Infinix",
           "Note 12i 2022"
          ],
          [
           "Infinix",
           "Hot 12 Pro"
          ],
          [
           "Infinix",
           "Smart 6 Plus (India)"
          ],
          [
           "Infinix",
           "Note 12 Pro"
          ],
          [
           "Infinix",
           "Note 12 Pro 5G"
          ],
          [
           "Infinix",
           "Note 12 5G"
          ],
          [
           "Infinix",
           "Hot 11s NFC"
          ],
          [
           "Infinix",
           "Hot 12 Play"
          ],
          [
           "Infinix",
           "Note 12 VIP"
          ],
          [
           "Infinix",
           "Note 12 G96"
          ],
          [
           "Infinix",
           "Note 12i"
          ],
          [
           "Infinix",
           "Note 12"
          ],
          [
           "Infinix",
           "Hot 12"
          ],
          [
           "Infinix",
           "Smart 6 HD"
          ],
          [
           "Infinix",
           "Hot 11 2022"
          ],
          [
           "Infinix",
           "Hot 12i"
          ],
          [
           "Infinix",
           "Zero 5G"
          ],
          [
           "Infinix",
           "Smart 5 Pro"
          ],
          [
           "Infinix",
           "Hot 11 Play"
          ],
          [
           "Infinix",
           "Note 11i"
          ],
          [
           "Infinix",
           "Note 11s"
          ],
          [
           "Infinix",
           "Note 11"
          ],
          [
           "Infinix",
           "Smart 6"
          ],
          [
           "Infinix",
           "Hot 11s"
          ],
          [
           "Infinix",
           "Hot 11"
          ],
          [
           "Infinix",
           "Zero X Pro"
          ],
          [
           "Infinix",
           "Zero X"
          ],
          [
           "Infinix",
           "Zero X Neo"
          ],
          [
           "Infinix",
           "Hot 10i"
          ],
          [
           "Infinix",
           "Note 10 Pro"
          ],
          [
           "Infinix",
           "Note 10"
          ],
          [
           "Infinix",
           "Hot 10T"
          ],
          [
           "Infinix",
           "Hot 10s NFC"
          ],
          [
           "Infinix",
           "Hot 10s"
          ],
          [
           "Infinix",
           "Smart 5 (India)"
          ],
          [
           "Infinix",
           "Hot 10 Play"
          ],
          [
           "Infinix",
           "Smart HD 2021"
          ],
          [
           "Infinix",
           "Zero 8i"
          ],
          [
           "Infinix",
           "Note 8"
          ],
          [
           "Infinix",
           "Note 8i"
          ],
          [
           "Infinix",
           "Hot 10 Lite"
          ],
          [
           "Infinix",
           "Hot 10"
          ],
          [
           "Infinix",
           "Zero 8"
          ],
          [
           "Infinix",
           "Smart 5"
          ],
          [
           "Infinix",
           "Hot 9 Play"
          ],
          [
           "Infinix",
           "Note 7 Lite"
          ],
          [
           "Infinix",
           "Hot 9 Pro"
          ],
          [
           "Infinix",
           "Hot 9"
          ],
          [
           "Infinix",
           "S5 Pro"
          ],
          [
           "Lenovo",
           "K14 Plus"
          ],
          [
           "Lenovo",
           "K13 Pro"
          ],
          [
           "Lenovo",
           "K13"
          ],
          [
           "Lenovo",
           "K13 Note"
          ],
          [
           "Lenovo",
           "Legion 2 Pro"
          ],
          [
           "Lenovo",
           "Legion Duel 2"
          ],
          [
           "Lenovo",
           "K12 Pro"
          ],
          [
           "Lenovo",
           "K12 (China)"
          ],
          [
           "Lenovo",
           "A8 2020"
          ],
          [
           "Lenovo",
           "Legion Duel"
          ],
          [
           "Microsoft",
           "Surface Duo 2"
          ],
          [
           "Microsoft",
           "Surface Duo"
          ],
          [
           "Nokia",
           "110 4G 2nd Edition"
          ],
          [
           "Nokia",
           "105 4G 2nd Edition"
          ],
          [
           "Nokia",
           "220 4G (2024)"
          ],
          [
           "Nokia",
           "3210"
          ],
          [
           "Nokia",
           "6310 (2024)"
          ],
          [
           "Nokia",
           "5310 (2024)"
          ],
          [
           "Nokia",
           "230 (2024)"
          ],
          [
           "Nokia",
           "C210"
          ],
          [
           "Nokia",
           "G310"
          ],
          [
           "Nokia",
           "150 (2023)"
          ],
          [
           "Nokia",
           "130 (2023)"
          ],
          [
           "Nokia",
           "G42"
          ],
          [
           "Nokia",
           "C300"
          ],
          [
           "Nokia",
           "C110"
          ],
          [
           "Nokia",
           "110 4G (2023)"
          ],
          [
           "Nokia",
           "110 (2023)"
          ],
          [
           "Nokia",
           "106 4G (2023)"
          ],
          [
           "Nokia",
           "106 (2023)"
          ],
          [
           "Nokia",
           "105 4G (2023)"
          ],
          [
           "Nokia",
           "105 (2023)"
          ],
          [
           "Nokia",
           "XR21"
          ],
          [
           "Nokia",
           "C12 Plus"
          ],
          [
           "Nokia",
           "C12 Pro"
          ],
          [
           "Nokia",
           "C32"
          ],
          [
           "Nokia",
           "C22"
          ],
          [
           "Nokia",
           "G22"
          ],
          [
           "Nokia",
           "C12"
          ],
          [
           "Nokia",
           "2780 Flip"
          ],
          [
           "Nokia",
           "X30"
          ],
          [
           "Nokia",
           "G100"
          ],
          [
           "Nokia",
           "G60"
          ],
          [
           "Nokia",
           "C31"
          ],
          [
           "Nokia",
           "G400"
          ],
          [
           "Nokia",
           "110 (2022)"
          ],
          [
           "Nokia",
           "8210 4G"
          ],
          [
           "Nokia",
           "5710 XpressAudio"
          ],
          [
           "Nokia",
           "2760 Flip"
          ],
          [
           "Nokia",
           "2660 Flip"
          ],
          [
           "Nokia",
           "G11 Plus"
          ],
          [
           "Nokia",
           "C200"
          ],
          [
           "Nokia",
           "C100"
          ],
          [
           "Nokia",
           "C21 Plus"
          ],
          [
           "Nokia",
           "C21"
          ],
          [
           "Nokia",
           "105+ (2022)"
          ],
          [
           "Nokia",
           "105 (2022)"
          ],
          [
           "Nokia",
           "C2 2nd Edition"
          ],
          [
           "Nokia",
           "G11"
          ],
          [
           "Nokia",
           "G21"
          ],
          [
           "Nokia",
           "X100"
          ],
          [
           "Nokia",
           "G300"
          ],
          [
           "Nokia",
           "G50"
          ],
          [
           "Nokia",
           "XR20"
          ],
          [
           "Nokia",
           "C30"
          ],
          [
           "Nokia",
           "6310 (2021)"
          ],
          [
           "Nokia",
           "C1 2nd Edition"
          ],
          [
           "Nokia",
           "110 4G"
          ],
          [
           "Nokia",
           "105 4G"
          ],
          [
           "Nokia",
           "C20 Plus"
          ],
          [
           "Nokia",
           "C01 Plus"
          ],
          [
           "Nokia",
           "X20"
          ],
          [
           "Nokia",
           "X10"
          ],
          [
           "Nokia",
           "G20"
          ],
          [
           "Nokia",
           "G10"
          ],
          [
           "Nokia",
           "C20"
          ],
          [
           "Nokia",
           "C10"
          ],
          [
           "Nokia",
           "1.4"
          ],
          [
           "Nokia",
           "5.4"
          ],
          [
           "Nokia",
           "C1 Plus"
          ],
          [
           "Nokia",
           "8000 4G"
          ],
          [
           "Nokia",
           "6300 4G"
          ],
          [
           "Nokia",
           "8 V 5G UW"
          ],
          [
           "Nokia",
           "225 4G"
          ],
          [
           "Nokia",
           "215 4G"
          ],
          [
           "Nokia",
           "3.4"
          ],
          [
           "Nokia",
           "2.4"
          ],
          [
           "Nokia",
           "C3"
          ],
          [
           "Nokia",
           "C5 Endi"
          ],
          [
           "Nokia",
           "150 (2020)"
          ],
          [
           "Nokia",
           "125"
          ],
          [
           "Nokia",
           "8.3 5G"
          ],
          [
           "Nokia",
           "5.3"
          ],
          [
           "Nokia",
           "1.3"
          ],
          [
           "Nokia",
           "5310 (2020)"
          ],
          [
           "Nokia",
           "C1"
          ],
          [
           "Nokia",
           "2720 V Flip"
          ],
          [
           "Nokia",
           "G"
          ],
          [
           "Nothing",
           "Phone (3a) Pro"
          ],
          [
           "Nothing",
           "Phone (3a)"
          ],
          [
           "Nothing",
           "Phone (2a) Plus"
          ],
          [
           "Nothing",
           "CMF Phone 1"
          ],
          [
           "Nothing",
           "Phone (2a)"
          ],
          [
           "Nothing",
           "Phone (2)"
          ],
          [
           "Nothing",
           "Phone (1)"
          ],
          [
           "OnePlus",
           "13R"
          ],
          [
           "OnePlus",
           "Ace 5 Pro"
          ],
          [
           "OnePlus",
           "Ace 5"
          ],
          [
           "OnePlus",
           "13"
          ],
          [
           "OnePlus",
           "Nord 4"
          ],
          [
           "OnePlus",
           "Ace 3 Pro"
          ],
          [
           "OnePlus",
           "Nord CE4 Lite"
          ],
          [
           "OnePlus",
           "Nord CE4 Lite (India)"
          ],
          [
           "OnePlus",
           "Ace 3V"
          ],
          [
           "OnePlus",
           "Nord CE4"
          ],
          [
           "OnePlus",
           "Nord N30 SE"
          ],
          [
           "OnePlus",
           "12R"
          ],
          [
           "OnePlus",
           "12"
          ],
          [
           "OnePlus",
           "Ace 3"
          ],
          [
           "OnePlus",
           "Open"
          ],
          [
           "OnePlus",
           "Ace 2 Pro"
          ],
          [
           "OnePlus",
           "Nord CE3"
          ],
          [
           "OnePlus",
           "Nord 3"
          ],
          [
           "OnePlus",
           "Nord N30"
          ],
          [
           "OnePlus",
           "Nord CE 3 Lite"
          ],
          [
           "OnePlus",
           "Ace 2V"
          ],
          [
           "OnePlus",
           "11R"
          ],
          [
           "OnePlus",
           "Ace 2"
          ],
          [
           "OnePlus",
           "11"
          ],
          [
           "OnePlus",
           "Nord N300"
          ],
          [
           "OnePlus",
           "Ace Pro"
          ],
          [
           "OnePlus",
           "Nord N20 SE"
          ],
          [
           "OnePlus",
           "10T"
          ],
          [
           "OnePlus",
           "Nord 2T"
          ],
          [
           "OnePlus",
           "Ace Racing"
          ],
          [
           "OnePlus",
           "Nord N20 5G"
          ],
          [
           "OnePlus",
           "10R 150W"
          ],
          [
           "OnePlus",
           "10R"
          ],
          [
           "OnePlus",
           "Nord CE 2 Lite 5G"
          ],
          [
           "OnePlus",
           "Ace"
          ],
          [
           "OnePlus",
           "10 Pro"
          ],
          [
           "OnePlus",
           "Nord CE 2 5G"
          ],
          [
           "OnePlus",
           "9RT 5G"
          ],
          [
           "OnePlus",
           "Nord 2 5G"
          ],
          [
           "OnePlus",
           "Nord N200 5G"
          ],
          [
           "OnePlus",
           "Nord CE 5G"
          ],
          [
           "OnePlus",
           "9 Pro"
          ],
          [
           "OnePlus",
           "9"
          ],
          [
           "OnePlus",
           "9R"
          ],
          [
           "OnePlus",
           "Nord N10 5G"
          ],
          [
           "OnePlus",
           "Nord N100"
          ],
          [
           "OnePlus",
           "8T"
          ],
          [
           "OnePlus",
           "8T+ 5G"
          ],
          [
           "OnePlus",
           "Nord"
          ],
          [
           "OnePlus",
           "8 Pro"
          ],
          [
           "OnePlus",
           "8"
          ],
          [
           "OnePlus",
           "8 5G UW (Verizon)"
          ],
          [
           "OnePlus",
           "8 5G (T-Mobile)"
          ],
          [
           "Oppo",
           "A5 Pro"
          ],
          [
           "Oppo",
           "Find N5"
          ],
          [
           "Oppo",
           "Reno13 F"
          ],
          [
           "Oppo",
           "A5 Pro (China)"
          ],
          [
           "Oppo",
           "Reno13 Pro"
          ],
          [
           "Oppo",
           "Reno13"
          ],
          [
           "Oppo",
           "Find X8 Pro"
          ],
          [
           "Oppo",
           "Find X8"
          ],
          [
           "Oppo",
           "K12 Plus"
          ],
          [
           "Oppo",
           "A80"
          ],
          [
           "Oppo",
           "F27"
          ],
          [
           "Oppo",
           "A3 4G"
          ],
          [
           "Oppo",
           "A3"
          ],
          [
           "Oppo",
           "A3x"
          ],
          [
           "Oppo",
           "A3x (China)"
          ],
          [
           "Oppo",
           "K12x"
          ],
          [
           "Oppo",
           "A3 (China)"
          ],
          [
           "Oppo",
           "Reno12 F"
          ],
          [
           "Oppo",
           "A3 Pro"
          ],
          [
           "Oppo",
           "Reno12 Pro"
          ],
          [
           "Oppo",
           "Reno12"
          ],
          [
           "Oppo",
           "F27 Pro+"
          ],
          [
           "Oppo",
           "Reno12 Pro (China)"
          ],
          [
           "Oppo",
           "Reno12 (China)"
          ],
          [
           "Oppo",
           "K12x (China)"
          ],
          [
           "Oppo",
           "A60"
          ],
          [
           "Oppo",
           "K12"
          ],
          [
           "Oppo",
           "A3 Pro (China)"
          ],
          [
           "Oppo",
           "F25 Pro"
          ],
          [
           "Oppo",
           "Reno11 F"
          ],
          [
           "Oppo",
           "Reno11 Pro"
          ],
          [
           "Oppo",
           "Reno11"
          ],
          [
           "Oppo",
           "Find X7 Ultra"
          ],
          [
           "Oppo",
           "Find X7"
          ],
          [
           "Oppo",
           "A59"
          ],
          [
           "Oppo",
           "Reno11 Pro (China)"
          ],
          [
           "Oppo",
           "Reno11 (China)"
          ],
          [
           "Oppo",
           "A2"
          ],
          [
           "Oppo",
           "A79"
          ],
          [
           "Oppo",
           "Find N3"
          ],
          [
           "Oppo",
           "A2x"
          ],
          [
           "Oppo",
           "A2 Pro"
          ],
          [
           "Oppo",
           "A38"
          ],
          [
           "Oppo",
           "Find N3 Flip"
          ],
          [
           "Oppo",
           "A58 4G"
          ],
          [
           "Oppo",
           "Reno10 Pro"
          ],
          [
           "Oppo",
           "Reno10"
          ],
          [
           "Oppo",
           "A78 4G"
          ],
          [
           "Oppo",
           "K11x"
          ],
          [
           "Oppo",
           "Reno10 Pro+"
          ],
          [
           "Oppo",
           "Reno10 Pro (China)"
          ],
          [
           "Oppo",
           "Reno10 (China)"
          ],
          [
           "Oppo",
           "F23"
          ],
          [
           "Oppo",
           "A98"
          ],
          [
           "Oppo",
           "A1"
          ],
          [
           "Oppo",
           "A1x"
          ],
          [
           "Oppo",
           "Find X6 Pro"
          ],
          [
           "Oppo",
           "Find X6"
          ],
          [
           "Oppo",
           "Reno8 T"
          ],
          [
           "Oppo",
           "Reno8 T 5G"
          ],
          [
           "Oppo",
           "A78"
          ],
          [
           "Oppo",
           "A56s"
          ],
          [
           "Oppo",
           "Find N2 Flip"
          ],
          [
           "Oppo",
           "Find N2"
          ],
          [
           "Oppo",
           "A58x"
          ],
          [
           "Oppo",
           "Reno9 Pro+"
          ],
          [
           "Oppo",
           "Reno9 Pro"
          ],
          [
           "Oppo",
           "Reno9"
          ],
          [
           "Oppo",
           "A1 Pro"
          ],
          [
           "Oppo",
           "A58 (China)"
          ],
          [
           "Oppo",
           "A17k"
          ],
          [
           "Oppo",
           "A77s"
          ],
          [
           "Oppo",
           "A17"
          ],
          [
           "Oppo",
           "K10x"
          ],
          [
           "Oppo",
           "A57e"
          ],
          [
           "Oppo",
           "Reno8 4G"
          ],
          [
           "Oppo",
           "Reno8 Z"
          ],
          [
           "Oppo",
           "A77 4G"
          ],
          [
           "Oppo",
           "Reno8 Pro"
          ],
          [
           "Oppo",
           "Reno8"
          ],
          [
           "Oppo",
           "A97"
          ],
          [
           "Oppo",
           "Reno8 Lite"
          ],
          [
           "Oppo",
           "K10 5G"
          ],
          [
           "Oppo",
           "A77"
          ],
          [
           "Oppo",
           "A57 4G"
          ],
          [
           "Oppo",
           "Reno8 Pro+"
          ],
          [
           "Oppo",
           "Reno8 Pro (China)"
          ],
          [
           "Oppo",
           "Reno8 (China)"
          ],
          [
           "Oppo",
           "K10 Pro"
          ],
          [
           "Oppo",
           "K10 5G (China)"
          ],
          [
           "Oppo",
           "A55s"
          ],
          [
           "Oppo",
           "A57"
          ],
          [
           "Oppo",
           "Reno7 Lite"
          ],
          [
           "Oppo",
           "F21 Pro 5G"
          ],
          [
           "Oppo",
           "F21 Pro"
          ],
          [
           "Oppo",
           "Reno7"
          ],
          [
           "Oppo",
           "K10"
          ],
          [
           "Oppo",
           "A96"
          ],
          [
           "Oppo",
           "A16e"
          ],
          [
           "Oppo",
           "Reno7 Z 5G"
          ],
          [
           "Oppo",
           "Find X5 Pro"
          ],
          [
           "Oppo",
           "Find X5"
          ],
          [
           "Oppo",
           "Find X5 Lite"
          ],
          [
           "Oppo",
           "A76"
          ],
          [
           "Oppo",
           "Reno7 5G"
          ],
          [
           "Oppo",
           "Reno6 Lite"
          ],
          [
           "Oppo",
           "A96 (China)"
          ],
          [
           "Oppo",
           "A36"
          ],
          [
           "Oppo",
           "A11s"
          ],
          [
           "Oppo",
           "K9x"
          ],
          [
           "Oppo",
           "Find N"
          ],
          [
           "Oppo",
           "Reno7 Pro 5G"
          ],
          [
           "Oppo",
           "Reno7 5G (China)"
          ],
          [
           "Oppo",
           "Reno7 SE 5G"
          ],
          [
           "Oppo",
           "A95"
          ],
          [
           "Oppo",
           "A16K"
          ],
          [
           "Oppo",
           "A54s"
          ],
          [
           "Oppo",
           "A56 5G"
          ],
          [
           "Oppo",
           "A55"
          ],
          [
           "Oppo",
           "F19s"
          ],
          [
           "Oppo",
           "K9 Pro"
          ],
          [
           "Oppo",
           "Reno6 Pro 5G (Snapdragon)"
          ],
          [
           "Oppo",
           "Reno6"
          ],
          [
           "Oppo",
           "Reno6 Z"
          ],
          [
           "Oppo",
           "A16s"
          ],
          [
           "Oppo",
           "A16"
          ],
          [
           "Oppo",
           "Reno6 Pro+ 5G"
          ],
          [
           "Oppo",
           "Reno6 Pro 5G"
          ],
          [
           "Oppo",
           "Reno6 5G"
          ],
          [
           "Oppo",
           "K9"
          ],
          [
           "Oppo",
           "A53s 5G"
          ],
          [
           "Oppo",
           "A94 5G"
          ],
          [
           "Oppo",
           "Reno5 Z"
          ],
          [
           "Oppo",
           "A54 5G"
          ],
          [
           "Oppo",
           "A74 5G"
          ],
          [
           "Oppo",
           "A74"
          ],
          [
           "Oppo",
           "F19"
          ],
          [
           "Oppo",
           "A54"
          ],
          [
           "Oppo",
           "Find X3 Pro"
          ],
          [
           "Oppo",
           "Find X3"
          ],
          [
           "Oppo",
           "Find X3 Neo"
          ],
          [
           "Oppo",
           "Find X3 Lite"
          ],
          [
           "Oppo",
           "F19 Pro+ 5G"
          ],
          [
           "Oppo",
           "F19 Pro"
          ],
          [
           "Oppo",
           "Reno5 Lite"
          ],
          [
           "Oppo",
           "A94"
          ],
          [
           "Oppo",
           "Reno5 F"
          ],
          [
           "Oppo",
           "Reno5 K"
          ],
          [
           "Oppo",
           "A55 5G"
          ],
          [
           "Oppo",
           "A93s 5G"
          ],
          [
           "Oppo",
           "A93 5G"
          ],
          [
           "Oppo",
           "A15s"
          ],
          [
           "Oppo",
           "Reno5 4G"
          ],
          [
           "Oppo",
           "Reno5 Pro+ 5G"
          ],
          [
           "Oppo",
           "A53 5G"
          ],
          [
           "Oppo",
           "Reno5 Pro 5G"
          ],
          [
           "Oppo",
           "Reno5 5G"
          ],
          [
           "Oppo",
           "A73 5G"
          ],
          [
           "Oppo",
           "Reno4 F"
          ],
          [
           "Oppo",
           "A15"
          ],
          [
           "Oppo",
           "A53s"
          ],
          [
           "Oppo",
           "A93"
          ],
          [
           "Oppo",
           "Reno4 Z 5G"
          ],
          [
           "Oppo",
           "Reno4 Lite"
          ],
          [
           "Oppo",
           "A33 (2020)"
          ],
          [
           "Oppo",
           "Reno4 SE"
          ],
          [
           "Oppo",
           "F17 Pro"
          ],
          [
           "Oppo",
           "F17"
          ],
          [
           "Oppo",
           "A32"
          ],
          [
           "Oppo",
           "A53"
          ],
          [
           "Oppo",
           "K7x"
          ],
          [
           "Oppo",
           "Reno4 Pro"
          ],
          [
           "Oppo",
           "Reno4"
          ],
          [
           "Oppo",
           "A72 5G"
          ],
          [
           "Oppo",
           "A12s"
          ],
          [
           "Oppo",
           "Reno4 Pro 5G"
          ],
          [
           "Oppo",
           "Reno4 5G"
          ],
          [
           "Oppo",
           "A92"
          ],
          [
           "Oppo",
           "Find X2 Neo"
          ],
          [
           "Oppo",
           "A92s"
          ],
          [
           "Oppo",
           "A72"
          ],
          [
           "Oppo",
           "A52"
          ],
          [
           "Oppo",
           "A11k"
          ],
          [
           "Oppo",
           "A12"
          ],
          [
           "Oppo",
           "K7 5G"
          ],
          [
           "Oppo",
           "Find X2 Lite"
          ],
          [
           "Oppo",
           "Ace2"
          ],
          [
           "Oppo",
           "A12e"
          ],
          [
           "Oppo",
           "Reno3"
          ],
          [
           "Oppo",
           "Find X2 Pro"
          ],
          [
           "Oppo",
           "Find X2"
          ],
          [
           "Oppo",
           "Reno3 Pro"
          ],
          [
           "Oppo",
           "A31"
          ],
          [
           "Oppo",
           "F15"
          ],
          [
           "Oppo",
           "Reno3 Youth"
          ],
          [
           "Realme",
           "14 Pro Lite"
          ],
          [
           "Realme",
           "Neo7 SE"
          ],
          [
           "Realme",
           "Neo7x"
          ],
          [
           "Realme",
           "P3 Pro"
          ],
          [
           "Realme",
           "P3x"
          ],
          [
           "Realme",
           "GT7 Pro Racing"
          ],
          [
           "Realme",
           "14x"
          ],
          [
           "Realme",
           "14 Pro"
          ],
          [
           "Realme",
           "14 Pro+"
          ],
          [
           "Realme",
           "14x (India)"
          ],
          [
           "Realme",
           "Neo7"
          ],
          [
           "Realme",
           "Note 60x"
          ],
          [
           "Realme",
           "V60 pro"
          ],
          [
           "Realme",
           "C75"
          ],
          [
           "Realme",
           "GT 7 Pro"
          ],
          [
           "Realme",
           "P1 Speed"
          ],
          [
           "Realme",
           "P2 Pro"
          ],
          [
           "Realme",
           "Narzo 70 Turbo"
          ],
          [
           "Realme",
           "Note 60"
          ],
          [
           "Realme",
           "13+"
          ],
          [
           "Realme",
           "13"
          ],
          [
           "Realme",
           "C63 5G"
          ],
          [
           "Realme",
           "13 4G"
          ],
          [
           "Realme",
           "13 Pro+"
          ],
          [
           "Realme",
           "13 Pro"
          ],
          [
           "Realme",
           "Narzo N61"
          ],
          [
           "Realme",
           "C61"
          ],
          [
           "Realme",
           "C61 (India)"
          ],
          [
           "Realme",
           "12 4G"
          ],
          [
           "Realme",
           "V60"
          ],
          [
           "Realme",
           "GT 6"
          ],
          [
           "Realme",
           "Narzo N63"
          ],
          [
           "Realme",
           "C63"
          ],
          [
           "Realme",
           "Narzo N65"
          ],
          [
           "Realme",
           "GT 6T"
          ],
          [
           "Realme",
           "GT Neo6"
          ],
          [
           "Realme",
           "C65 5G"
          ],
          [
           "Realme",
           "Narzo 70"
          ],
          [
           "Realme",
           "Narzo 70x"
          ],
          [
           "Realme",
           "12 Lite"
          ],
          [
           "Realme",
           "P1 Pro"
          ],
          [
           "Realme",
           "P1"
          ],
          [
           "Realme",
           "GT Neo6 SE"
          ],
          [
           "Realme",
           "12x (India)"
          ],
          [
           "Realme",
           "C65"
          ],
          [
           "Realme",
           "12x"
          ],
          [
           "Realme",
           "Narzo 70 Pro"
          ],
          [
           "Realme",
           "C51s"
          ],
          [
           "Realme",
           "12"
          ],
          [
           "Realme",
           "12+"
          ],
          [
           "Realme",
           "12 Pro+"
          ],
          [
           "Realme",
           "12 Pro"
          ],
          [
           "Realme",
           "Note 50"
          ],
          [
           "Realme",
           "C67 4G"
          ],
          [
           "Realme",
           "C67"
          ],
          [
           "Realme",
           "V50s"
          ],
          [
           "Realme",
           "GT5 Pro"
          ],
          [
           "Realme",
           "Narzo 60x"
          ],
          [
           "Realme",
           "GT5 240W"
          ],
          [
           "Realme",
           "GT5"
          ],
          [
           "Realme",
           "11x"
          ],
          [
           "Realme",
           "11 4G"
          ],
          [
           "Realme",
           "11"
          ],
          [
           "Realme",
           "C51"
          ],
          [
           "Realme",
           "C53 (India)"
          ],
          [
           "Realme",
           "GT3"
          ],
          [
           "Realme",
           "Narzo 60 Pro"
          ],
          [
           "Realme",
           "Narzo 60"
          ],
          [
           "Realme",
           "C53"
          ],
          [
           "Realme",
           "Narzo N53"
          ],
          [
           "Realme",
           "11 Pro+"
          ],
          [
           "Realme",
           "11 Pro"
          ],
          [
           "Realme",
           "11 (China)"
          ],
          [
           "Realme",
           "Narzo N55"
          ],
          [
           "Realme",
           "GT Neo5 SE"
          ],
          [
           "Realme",
           "10T"
          ],
          [
           "Realme",
           "C33 2023"
          ],
          [
           "Realme",
           "C55"
          ],
          [
           "Realme",
           "GT Neo 5 240W"
          ],
          [
           "Realme",
           "GT Neo 5"
          ],
          [
           "Realme",
           "V30"
          ],
          [
           "Realme",
           "10s"
          ],
          [
           "Realme",
           "V20"
          ],
          [
           "Realme",
           "10 Pro+"
          ],
          [
           "Realme",
           "10 Pro"
          ],
          [
           "Realme",
           "10 5G"
          ],
          [
           "Realme",
           "10"
          ],
          [
           "Realme",
           "C30s"
          ],
          [
           "Realme",
           "C33"
          ],
          [
           "Realme",
           "9i 5G"
          ],
          [
           "Realme",
           "GT2 Explorer Master"
          ],
          [
           "Realme",
           "Narzo 50i Prime"
          ],
          [
           "Realme",
           "C30"
          ],
          [
           "Realme",
           "GT Neo 3T"
          ],
          [
           "Realme",
           "Narzo 50 Pro"
          ],
          [
           "Realme",
           "Narzo 50 5G"
          ],
          [
           "Realme",
           "9 5G"
          ],
          [
           "Realme",
           "V23i"
          ],
          [
           "Realme",
           "V23"
          ],
          [
           "Realme",
           "Q5 Pro"
          ],
          [
           "Realme",
           "Q5"
          ],
          [
           "Realme",
           "Q5i"
          ],
          [
           "Realme",
           "9"
          ],
          [
           "Realme",
           "C31"
          ],
          [
           "Realme",
           "GT Neo 3 150W"
          ],
          [
           "Realme",
           "GT Neo 3"
          ],
          [
           "Realme",
           "Narzo 50A Prime"
          ],
          [
           "Realme",
           "9 5G (India)"
          ],
          [
           "Realme",
           "9 5G Speed"
          ],
          [
           "Realme",
           "V25"
          ],
          [
           "Realme",
           "Narzo 50"
          ],
          [
           "Realme",
           "9 Pro+"
          ],
          [
           "Realme",
           "9 Pro"
          ],
          [
           "Realme",
           "C35"
          ],
          [
           "Realme",
           "9i"
          ],
          [
           "Realme",
           "GT2 Pro"
          ],
          [
           "Realme",
           "GT2"
          ],
          [
           "Realme",
           "Q3t"
          ],
          [
           "Realme",
           "GT Neo2T"
          ],
          [
           "Realme",
           "Q3s"
          ],
          [
           "Realme",
           "Narzo 50A"
          ],
          [
           "Realme",
           "Narzo 50i"
          ],
          [
           "Realme",
           "V11s 5G"
          ],
          [
           "Realme",
           "GT Neo2"
          ],
          [
           "Realme",
           "C25Y"
          ],
          [
           "Realme",
           "8s 5G"
          ],
          [
           "Realme",
           "8i"
          ],
          [
           "Realme",
           "GT Explorer Master"
          ],
          [
           "Realme",
           "GT Master"
          ],
          [
           "Realme",
           "C21Y"
          ],
          [
           "Realme",
           "C11 (2021)"
          ],
          [
           "Realme",
           "C25s"
          ],
          [
           "Realme",
           "X7 Max 5G"
          ],
          [
           "Realme",
           "Narzo 30 5G"
          ],
          [
           "Realme",
           "Q3 Pro Carnival"
          ],
          [
           "Realme",
           "GT Neo Flash"
          ],
          [
           "Realme",
           "Narzo 30"
          ],
          [
           "Realme",
           "C20A"
          ],
          [
           "Realme",
           "Q3 Pro 5G"
          ],
          [
           "Realme",
           "Q3 5G"
          ],
          [
           "Realme",
           "Q3i 5G"
          ],
          [
           "Realme",
           "8 5G"
          ],
          [
           "Realme",
           "X7 Pro Ultra"
          ],
          [
           "Realme",
           "GT Neo"
          ],
          [
           "Realme",
           "V13 5G"
          ],
          [
           "Realme",
           "8 Pro"
          ],
          [
           "Realme",
           "8"
          ],
          [
           "Realme",
           "C25"
          ],
          [
           "Realme",
           "C21"
          ],
          [
           "Realme",
           "GT 5G"
          ],
          [
           "Realme",
           "Narzo 30 Pro 5G"
          ],
          [
           "Realme",
           "Narzo 30A"
          ],
          [
           "Realme",
           "V11 5G"
          ],
          [
           "Realme",
           "C20"
          ],
          [
           "Realme",
           "X7 (India)"
          ],
          [
           "Realme",
           "V15 5G"
          ],
          [
           "Realme",
           "7i (Global)"
          ],
          [
           "Realme",
           "7 5G"
          ],
          [
           "Realme",
           "C15 Qualcomm Edition"
          ],
          [
           "Realme",
           "Q2 Pro"
          ],
          [
           "Realme",
           "Q2"
          ],
          [
           "Realme",
           "Q2i"
          ],
          [
           "Realme",
           "7"
          ],
          [
           "Realme",
           "Narzo 20 Pro"
          ],
          [
           "Realme",
           "Narzo 20"
          ],
          [
           "Realme",
           "Narzo 20A"
          ],
          [
           "Realme",
           "C17"
          ],
          [
           "Realme",
           "7i"
          ],
          [
           "Realme",
           "7 Pro"
          ],
          [
           "Realme",
           "7 (Asia)"
          ],
          [
           "Realme",
           "X7 Pro"
          ],
          [
           "Realme",
           "X7"
          ],
          [
           "Realme",
           "V3"
          ],
          [
           "Realme",
           "C12"
          ],
          [
           "Realme",
           "V5 5G"
          ],
          [
           "Realme",
           "C15"
          ],
          [
           "Realme",
           "6i (India)"
          ],
          [
           "Realme",
           "X50 5G"
          ],
          [
           "Realme",
           "C11"
          ],
          [
           "Realme",
           "X3"
          ],
          [
           "Realme",
           "C3i"
          ],
          [
           "Realme",
           "Narzo"
          ],
          [
           "Realme",
           "X3 SuperZoom"
          ],
          [
           "Realme",
           "6S"
          ],
          [
           "Realme",
           "X50 Pro Player"
          ],
          [
           "Realme",
           "Narzo 10"
          ],
          [
           "Realme",
           "Narzo 10A"
          ],
          [
           "Realme",
           "X50m 5G"
          ],
          [
           "Realme",
           "6i"
          ],
          [
           "Realme",
           "6 Pro"
          ],
          [
           "Realme",
           "6"
          ],
          [
           "Realme",
           "X50 Pro 5G"
          ],
          [
           "Realme",
           "C3 (3 cameras)"
          ],
          [
           "Realme",
           "C3"
          ],
          [
           "Realme",
           "X50 5G (China)"
          ],
          [
           "Realme",
           "5i"
          ],
          [
           "Realme",
           "C2s"
          ],
          [
           "Samsung",
           "Galaxy A56"
          ],
          [
           "Samsung",
           "Galaxy A36"
          ],
          [
           "Samsung",
           "Galaxy A26"
          ],
          [
           "Samsung",
           "Galaxy M16"
          ],
          [
           "Samsung",
           "Galaxy M06"
          ],
          [
           "Samsung",
           "Galaxy A06 5G"
          ],
          [
           "Samsung",
           "Galaxy F06 5G"
          ],
          [
           "Samsung",
           "Galaxy S25 Ultra"
          ],
          [
           "Samsung",
           "Galaxy S25+"
          ],
          [
           "Samsung",
           "Galaxy S25"
          ],
          [
           "Samsung",
           "Galaxy Z Fold Special"
          ],
          [
           "Samsung",
           "Galaxy A16"
          ],
          [
           "Samsung",
           "Galaxy A16 5G"
          ],
          [
           "Samsung",
           "Galaxy S24 FE"
          ],
          [
           "Samsung",
           "Galaxy M55s"
          ],
          [
           "Samsung",
           "Galaxy F05"
          ],
          [
           "Samsung",
           "Galaxy M05"
          ],
          [
           "Samsung",
           "Galaxy A06"
          ],
          [
           "Samsung",
           "Galaxy F14 4G"
          ],
          [
           "Samsung",
           "Galaxy Z Fold6"
          ],
          [
           "Samsung",
           "Galaxy Z Flip6"
          ],
          [
           "Samsung",
           "Galaxy M35"
          ],
          [
           "Samsung",
           "Galaxy F55"
          ],
          [
           "Samsung",
           "Galaxy M55"
          ],
          [
           "Samsung",
           "Galaxy A55"
          ],
          [
           "Samsung",
           "Galaxy A35"
          ],
          [
           "Samsung",
           "Galaxy M15"
          ],
          [
           "Samsung",
           "Galaxy M14 4G"
          ],
          [
           "Samsung",
           "Galaxy F15"
          ],
          [
           "Samsung",
           "Galaxy S24 Ultra"
          ],
          [
           "Samsung",
           "Galaxy S24+"
          ],
          [
           "Samsung",
           "Galaxy S24"
          ],
          [
           "Samsung",
           "Galaxy XCover7"
          ],
          [
           "Samsung",
           "Galaxy A25"
          ],
          [
           "Samsung",
           "Galaxy A15 5G"
          ],
          [
           "Samsung",
           "Galaxy A15"
          ],
          [
           "Samsung",
           "Galaxy S23 FE"
          ],
          [
           "Samsung",
           "Galaxy A05s"
          ],
          [
           "Samsung",
           "Galaxy A05"
          ],
          [
           "Samsung",
           "Galaxy F34"
          ],
          [
           "Samsung",
           "Galaxy Z Fold5"
          ],
          [
           "Samsung",
           "Galaxy Z Flip5"
          ],
          [
           "Samsung",
           "Galaxy M34 5G"
          ],
          [
           "Samsung",
           "Galaxy F54"
          ],
          [
           "Samsung",
           "Galaxy A24 4G"
          ],
          [
           "Samsung",
           "Galaxy F14"
          ],
          [
           "Samsung",
           "Galaxy M54"
          ],
          [
           "Samsung",
           "Galaxy A54"
          ],
          [
           "Samsung",
           "Galaxy A34"
          ],
          [
           "Samsung",
           "Galaxy M14"
          ],
          [
           "Samsung",
           "Galaxy S23 Ultra"
          ],
          [
           "Samsung",
           "Galaxy S23+"
          ],
          [
           "Samsung",
           "Galaxy S23"
          ],
          [
           "Samsung",
           "Galaxy A14"
          ],
          [
           "Samsung",
           "Galaxy A14 5G"
          ],
          [
           "Samsung",
           "Galaxy F04"
          ],
          [
           "Samsung",
           "Galaxy M04"
          ],
          [
           "Samsung",
           "Galaxy A04e"
          ],
          [
           "Samsung",
           "Galaxy A04s"
          ],
          [
           "Samsung",
           "Galaxy A04"
          ],
          [
           "Samsung",
           "Galaxy Z Fold4"
          ],
          [
           "Samsung",
           "Galaxy Z Flip4"
          ],
          [
           "Samsung",
           "Galaxy A23 5G"
          ],
          [
           "Samsung",
           "Galaxy M13 5G"
          ],
          [
           "Samsung",
           "Galaxy M13 (India)"
          ],
          [
           "Samsung",
           "Galaxy A13 (SM-A137)"
          ],
          [
           "Samsung",
           "Galaxy XCover6 Pro"
          ],
          [
           "Samsung",
           "Galaxy F13"
          ],
          [
           "Samsung",
           "Galaxy M13"
          ],
          [
           "Samsung",
           "Galaxy M53"
          ],
          [
           "Samsung",
           "Galaxy S20 FE 2022"
          ],
          [
           "Samsung",
           "Galaxy A73 5G"
          ],
          [
           "Samsung",
           "Galaxy A53 5G"
          ],
          [
           "Samsung",
           "Galaxy A33 5G"
          ],
          [
           "Samsung",
           "Galaxy F23"
          ],
          [
           "Samsung",
           "Galaxy M33"
          ],
          [
           "Samsung",
           "Galaxy M23"
          ],
          [
           "Samsung",
           "Galaxy A23"
          ],
          [
           "Samsung",
           "Galaxy A13"
          ],
          [
           "Samsung",
           "Galaxy S22 Ultra 5G"
          ],
          [
           "Samsung",
           "Galaxy S22+ 5G"
          ],
          [
           "Samsung",
           "Galaxy S22 5G"
          ],
          [
           "Samsung",
           "Galaxy S21 FE 5G"
          ],
          [
           "Samsung",
           "Galaxy A13 5G"
          ],
          [
           "Samsung",
           "Galaxy A03"
          ],
          [
           "Samsung",
           "Galaxy A03 Core"
          ],
          [
           "Samsung",
           "Galaxy F42 5G"
          ],
          [
           "Samsung",
           "Galaxy M52 5G"
          ],
          [
           "Samsung",
           "Galaxy M22"
          ],
          [
           "Samsung",
           "Galaxy M32 5G"
          ],
          [
           "Samsung",
           "Galaxy A03s"
          ],
          [
           "Samsung",
           "Galaxy A52s 5G"
          ],
          [
           "Samsung",
           "Galaxy Z Fold3 5G"
          ],
          [
           "Samsung",
           "Galaxy Z Flip3 5G"
          ],
          [
           "Samsung",
           "Galaxy A12 (India)"
          ],
          [
           "Samsung",
           "Galaxy A12 Nacho"
          ],
          [
           "Samsung",
           "Galaxy M21 2021"
          ],
          [
           "Samsung",
           "Galaxy F22"
          ],
          [
           "Samsung",
           "Galaxy M32"
          ],
          [
           "Samsung",
           "Galaxy A22 5G"
          ],
          [
           "Samsung",
           "Galaxy A22"
          ],
          [
           "Samsung",
           "Galaxy F52 5G"
          ],
          [
           "Samsung",
           "Galaxy M42 5G"
          ],
          [
           "Samsung",
           "Galaxy M12"
          ],
          [
           "Samsung",
           "Galaxy Quantum 2"
          ],
          [
           "Samsung",
           "Galaxy F12"
          ],
          [
           "Samsung",
           "Galaxy F02s"
          ],
          [
           "Samsung",
           "Galaxy A72"
          ],
          [
           "Samsung",
           "Galaxy A52 5G"
          ],
          [
           "Samsung",
           "Galaxy A52"
          ],
          [
           "Samsung",
           "Galaxy XCover 5"
          ],
          [
           "Samsung",
           "Galaxy A32"
          ],
          [
           "Samsung",
           "Galaxy F62"
          ],
          [
           "Samsung",
           "Galaxy M12 (India)"
          ],
          [
           "Samsung",
           "Galaxy S21 Ultra 5G"
          ],
          [
           "Samsung",
           "Galaxy S21+ 5G"
          ],
          [
           "Samsung",
           "Galaxy S21 5G"
          ],
          [
           "Samsung",
           "Galaxy A32 5G"
          ],
          [
           "Samsung",
           "Galaxy M02s"
          ],
          [
           "Samsung",
           "Galaxy A12"
          ],
          [
           "Samsung",
           "Galaxy M02"
          ],
          [
           "Samsung",
           "Galaxy A02"
          ],
          [
           "Samsung",
           "Galaxy A02s"
          ],
          [
           "Samsung",
           "Galaxy M21s"
          ],
          [
           "Samsung",
           "Galaxy M31 Prime"
          ],
          [
           "Samsung",
           "Galaxy F41"
          ],
          [
           "Samsung",
           "Galaxy S20 FE 5G"
          ],
          [
           "Samsung",
           "Galaxy S20 FE"
          ],
          [
           "Samsung",
           "Galaxy A42 5G"
          ],
          [
           "Samsung",
           "Galaxy M51"
          ],
          [
           "Samsung",
           "Galaxy A51 5G UW"
          ],
          [
           "Samsung",
           "Galaxy Z Fold2 5G"
          ],
          [
           "Samsung",
           "Galaxy Note20 Ultra 5G"
          ],
          [
           "Samsung",
           "Galaxy Note20 Ultra"
          ],
          [
           "Samsung",
           "Galaxy Note20 5G"
          ],
          [
           "Samsung",
           "Galaxy Note20"
          ],
          [
           "Samsung",
           "Galaxy Z Flip 5G"
          ],
          [
           "Samsung",
           "Galaxy M31s"
          ],
          [
           "Samsung",
           "Galaxy M01s"
          ],
          [
           "Samsung",
           "Galaxy M01 Core"
          ],
          [
           "Samsung",
           "Galaxy A01 Core"
          ],
          [
           "Samsung",
           "Galaxy M01"
          ],
          [
           "Samsung",
           "Galaxy A21s"
          ],
          [
           "Samsung",
           "Galaxy J2 Core (2020)"
          ],
          [
           "Samsung",
           "Galaxy A Quantum"
          ],
          [
           "Samsung",
           "Galaxy A71 5G"
          ],
          [
           "Samsung",
           "Galaxy A51 5G"
          ],
          [
           "Samsung",
           "Galaxy A21"
          ],
          [
           "Samsung",
           "Galaxy M11"
          ],
          [
           "Samsung",
           "Galaxy A31"
          ],
          [
           "Samsung",
           "Galaxy A41"
          ],
          [
           "Samsung",
           "Galaxy M21"
          ],
          [
           "Samsung",
           "Galaxy A11"
          ],
          [
           "Samsung",
           "Galaxy M31"
          ],
          [
           "Samsung",
           "Galaxy S20 Ultra 5G"
          ],
          [
           "Samsung",
           "Galaxy S20 Ultra"
          ],
          [
           "Samsung",
           "Galaxy S20+ 5G"
          ],
          [
           "Samsung",
           "Galaxy S20+"
          ],
          [
           "Samsung",
           "Galaxy S20 5G UW"
          ],
          [
           "Samsung",
           "Galaxy S20 5G"
          ],
          [
           "Samsung",
           "Galaxy S20"
          ],
          [
           "Samsung",
           "Galaxy Z Flip"
          ],
          [
           "Samsung",
           "Galaxy XCover Pro"
          ],
          [
           "Samsung",
           "Galaxy Note10 Lite"
          ],
          [
           "Samsung",
           "Galaxy S10 Lite"
          ],
          [
           "Samsung",
           "Galaxy A01"
          ],
          [
           "Samsung",
           "Galaxy A71"
          ],
          [
           "Samsung",
           "Galaxy XCover FieldPro"
          ],
          [
           "Samsung",
           "Galaxy F16"
          ],
          [
           "Sony",
           "Xperia 1 VI"
          ],
          [
           "Sony",
           "Xperia 10 VI"
          ],
          [
           "Sony",
           "Xperia 5 V"
          ],
          [
           "Sony",
           "Xperia 1 V"
          ],
          [
           "Sony",
           "Xperia 10 V"
          ],
          [
           "Sony",
           "Xperia 5 IV"
          ],
          [
           "Sony",
           "Xperia 1 IV"
          ],
          [
           "Sony",
           "Xperia 10 IV"
          ],
          [
           "Sony",
           "Xperia Pro-I"
          ],
          [
           "Sony",
           "Xperia 10 III Lite"
          ],
          [
           "Sony",
           "Xperia 1 III"
          ],
          [
           "Sony",
           "Xperia 5 III"
          ],
          [
           "Sony",
           "Xperia 10 III"
          ],
          [
           "Sony",
           "Xperia Pro"
          ],
          [
           "Sony",
           "Xperia 5 II"
          ],
          [
           "Sony",
           "Xperia 1 II"
          ],
          [
           "Sony",
           "Xperia 10 II"
          ],
          [
           "Sony",
           "Xperia L4"
          ],
          [
           "Xiaomi",
           "15 Ultra"
          ],
          [
           "Xiaomi",
           "15"
          ],
          [
           "Xiaomi",
           "Poco M7"
          ],
          [
           "Xiaomi",
           "Redmi Note 14 Pro+ 5G"
          ],
          [
           "Xiaomi",
           "Redmi Note 14 Pro 5G"
          ],
          [
           "Xiaomi",
           "Redmi Note 14 Pro 4G"
          ],
          [
           "Xiaomi",
           "Redmi Note 14 5G"
          ],
          [
           "Xiaomi",
           "Redmi Note 14 4G"
          ],
          [
           "Xiaomi",
           "Poco X7 Pro"
          ],
          [
           "Xiaomi",
           "Poco X7"
          ],
          [
           "Xiaomi",
           "Redmi 14C 5G"
          ],
          [
           "Xiaomi",
           "Redmi 14C (China)"
          ],
          [
           "Xiaomi",
           "Redmi Turbo 4"
          ],
          [
           "Xiaomi",
           "Poco M7 Pro 5G"
          ],
          [
           "Xiaomi",
           "Poco C75 5G"
          ],
          [
           "Xiaomi",
           "Redmi Note 14 5G (India)"
          ],
          [
           "Xiaomi",
           "Redmi Note 14 Pro 5G (India)"
          ],
          [
           "Xiaomi",
           "Redmi Note 14 Pro+ 5G (India)"
          ],
          [
           "Xiaomi",
           "Redmi K80 Pro"
          ],
          [
           "Xiaomi",
           "Redmi K80"
          ],
          [
           "Xiaomi",
           "15 Pro"
          ],
          [
           "Xiaomi",
           "Poco C75"
          ],
          [
           "Xiaomi",
           "Redmi A4"
          ],
          [
           "Xiaomi",
           "Redmi A3 Pro"
          ],
          [
           "Xiaomi",
           "14T Pro"
          ],
          [
           "Xiaomi",
           "14T"
          ],
          [
           "Xiaomi",
           "Redmi Note 14 5G (China)"
          ],
          [
           "Xiaomi",
           "Redmi 14R"
          ],
          [
           "Xiaomi",
           "Redmi 14C"
          ],
          [
           "Xiaomi",
           "Poco M6 Plus"
          ],
          [
           "Xiaomi",
           "Mix Flip"
          ],
          [
           "Xiaomi",
           "Redmi K70 Ultra"
          ],
          [
           "Xiaomi",
           "Mix Fold 4"
          ],
          [
           "Xiaomi",
           "Redmi 13 5G"
          ],
          [
           "Xiaomi",
           "Poco M6 4G"
          ],
          [
           "Xiaomi",
           "14 Civi"
          ],
          [
           "Xiaomi",
           "Redmi 13"
          ],
          [
           "Xiaomi",
           "Redmi A3x"
          ],
          [
           "Xiaomi",
           "Poco F6 Pro"
          ],
          [
           "Xiaomi",
           "Poco F6"
          ],
          [
           "Xiaomi",
           "Redmi Note 13R"
          ],
          [
           "Xiaomi",
           "Redmi Turbo 3"
          ],
          [
           "Xiaomi",
           "Poco C61"
          ],
          [
           "Xiaomi",
           "Civi 4 Pro"
          ],
          [
           "Xiaomi",
           "Poco X6 Neo"
          ],
          [
           "Xiaomi",
           "14"
          ],
          [
           "Xiaomi",
           "14 Ultra"
          ],
          [
           "Xiaomi",
           "Redmi A3"
          ],
          [
           "Xiaomi",
           "Redmi Note 13 Pro 4G"
          ],
          [
           "Xiaomi",
           "Redmi Note 13 4G"
          ],
          [
           "Xiaomi",
           "Redmi Note 13 Pro+"
          ],
          [
           "Xiaomi",
           "Redmi Note 13 Pro"
          ],
          [
           "Xiaomi",
           "Redmi Note 13"
          ],
          [
           "Xiaomi",
           "Poco X6 Pro"
          ],
          [
           "Xiaomi",
           "Poco X6"
          ],
          [
           "Xiaomi",
           "Poco M6 Pro"
          ],
          [
           "Xiaomi",
           "Poco M6"
          ],
          [
           "Xiaomi",
           "Redmi 13R"
          ],
          [
           "Xiaomi",
           "Redmi 13C 5G"
          ],
          [
           "Xiaomi",
           "Redmi K70 Pro"
          ],
          [
           "Xiaomi",
           "Redmi K70"
          ],
          [
           "Xiaomi",
           "Redmi K70E"
          ],
          [
           "Xiaomi",
           "Redmi Note 13R Pro"
          ],
          [
           "Xiaomi",
           "Redmi 13C"
          ],
          [
           "Xiaomi",
           "Poco C65"
          ],
          [
           "Xiaomi",
           "14 Pro"
          ],
          [
           "Xiaomi",
           "13T Pro"
          ],
          [
           "Xiaomi",
           "13T"
          ],
          [
           "Xiaomi",
           "Redmi Note 13 (China)"
          ],
          [
           "Xiaomi",
           "Redmi K60 Ultra"
          ],
          [
           "Xiaomi",
           "Mix Fold 3"
          ],
          [
           "Xiaomi",
           "Poco M6 Pro 5G"
          ],
          [
           "Xiaomi",
           "Redmi 12 5G"
          ],
          [
           "Xiaomi",
           "Redmi Note 12R"
          ],
          [
           "Xiaomi",
           "Redmi Note 12R Pro"
          ],
          [
           "Xiaomi",
           "Redmi 12"
          ],
          [
           "Xiaomi",
           "Redmi Note 12T Pro"
          ],
          [
           "Xiaomi",
           "Civi 3"
          ],
          [
           "Xiaomi",
           "Poco F5 Pro"
          ],
          [
           "Xiaomi",
           "Poco F5"
          ],
          [
           "Xiaomi",
           "13 Ultra"
          ],
          [
           "Xiaomi",
           "Poco C51"
          ],
          [
           "Xiaomi",
           "Redmi Note 12S"
          ],
          [
           "Xiaomi",
           "Redmi Note 12 Pro 4G"
          ],
          [
           "Xiaomi",
           "Redmi Note 12 Turbo"
          ],
          [
           "Xiaomi",
           "Redmi A2+"
          ],
          [
           "Xiaomi",
           "Redmi A2"
          ],
          [
           "Xiaomi",
           "Redmi Note 12 4G"
          ],
          [
           "Xiaomi",
           "13 Pro"
          ],
          [
           "Xiaomi",
           "13"
          ],
          [
           "Xiaomi",
           "13 Lite"
          ],
          [
           "Xiaomi",
           "Poco C55"
          ],
          [
           "Xiaomi",
           "Poco X5 Pro"
          ],
          [
           "Xiaomi",
           "Poco X5"
          ],
          [
           "Xiaomi",
           "Redmi Note 12"
          ],
          [
           "Xiaomi",
           "Poco C50"
          ],
          [
           "Xiaomi",
           "Redmi Note 12 Pro Speed"
          ],
          [
           "Xiaomi",
           "Redmi K60 Pro"
          ],
          [
           "Xiaomi",
           "Redmi K60E"
          ],
          [
           "Xiaomi",
           "Redmi K60"
          ],
          [
           "Xiaomi",
           "Redmi 12C"
          ],
          [
           "Xiaomi",
           "Redmi Note 12 Discovery"
          ],
          [
           "Xiaomi",
           "Redmi Note 12 Pro+"
          ],
          [
           "Xiaomi",
           "Redmi Note 12 Pro"
          ],
          [
           "Xiaomi",
           "Redmi Note 12 (China)"
          ],
          [
           "Xiaomi",
           "12T Pro"
          ],
          [
           "Xiaomi",
           "12T"
          ],
          [
           "Xiaomi",
           "Redmi Note 11R"
          ],
          [
           "Xiaomi",
           "Redmi A1+"
          ],
          [
           "Xiaomi",
           "Civi 2"
          ],
          [
           "Xiaomi",
           "Redmi 11 Prime"
          ],
          [
           "Xiaomi",
           "Redmi 11 Prime 5G"
          ],
          [
           "Xiaomi",
           "Redmi A1"
          ],
          [
           "Xiaomi",
           "Poco M5s"
          ],
          [
           "Xiaomi",
           "Poco M5"
          ],
          [
           "Xiaomi",
           "Poco M5 (India)"
          ],
          [
           "Xiaomi",
           "Redmi Note 11 SE (India)"
          ],
          [
           "Xiaomi",
           "Poco M4 5G"
          ],
          [
           "Xiaomi",
           "Redmi K50 Ultra"
          ],
          [
           "Xiaomi",
           "Mix Fold 2"
          ],
          [
           "Xiaomi",
           "Redmi K50i"
          ],
          [
           "Xiaomi",
           "12 Lite"
          ],
          [
           "Xiaomi",
           "12S Ultra"
          ],
          [
           "Xiaomi",
           "12S Pro"
          ],
          [
           "Xiaomi",
           "12S"
          ],
          [
           "Xiaomi",
           "12 Pro (Dimensity)"
          ],
          [
           "Xiaomi",
           "Poco F4"
          ],
          [
           "Xiaomi",
           "Poco X4 GT"
          ],
          [
           "Xiaomi",
           "Poco C40"
          ],
          [
           "Xiaomi",
           "Redmi Note 11T Pro+"
          ],
          [
           "Xiaomi",
           "Redmi Note 11T Pro"
          ],
          [
           "Xiaomi",
           "Redmi Note 11SE"
          ],
          [
           "Xiaomi",
           "Redmi 10 Prime 2022"
          ],
          [
           "Xiaomi",
           "Poco M4 5G (India)"
          ],
          [
           "Xiaomi",
           "Poco F4 GT"
          ],
          [
           "Xiaomi",
           "Civi 1S"
          ],
          [
           "Xiaomi",
           "Redmi 10 Power"
          ],
          [
           "Xiaomi",
           "Black Shark 5 Pro"
          ],
          [
           "Xiaomi",
           "Black Shark 5"
          ],
          [
           "Xiaomi",
           "Black Shark 5 RS"
          ],
          [
           "Xiaomi",
           "Redmi 10A"
          ],
          [
           "Xiaomi",
           "Redmi Note 11S 5G"
          ],
          [
           "Xiaomi",
           "Redmi 10 5G"
          ],
          [
           "Xiaomi",
           "Redmi Note 11 Pro+ 5G"
          ],
          [
           "Xiaomi",
           "Redmi K50 Pro"
          ],
          [
           "Xiaomi",
           "Redmi K50"
          ],
          [
           "Xiaomi",
           "Redmi K40S"
          ],
          [
           "Xiaomi",
           "12 Pro"
          ],
          [
           "Xiaomi",
           "12"
          ],
          [
           "Xiaomi",
           "12X"
          ],
          [
           "Xiaomi",
           "Redmi 10 (India)"
          ],
          [
           "Xiaomi",
           "Redmi 10C"
          ],
          [
           "Xiaomi",
           "Redmi Note 11 Pro+ 5G (India)"
          ],
          [
           "Xiaomi",
           "Redmi Note 11E Pro"
          ],
          [
           "Xiaomi",
           "Redmi Note 11E"
          ],
          [
           "Xiaomi",
           "Poco X4 Pro 5G"
          ],
          [
           "Xiaomi",
           "Poco M4 Pro"
          ],
          [
           "Xiaomi",
           "Redmi K50 Gaming"
          ],
          [
           "Xiaomi",
           "Redmi 10 2022"
          ],
          [
           "Xiaomi",
           "Redmi Note 11 Pro 5G"
          ],
          [
           "Xiaomi",
           "Redmi Note 11 Pro"
          ],
          [
           "Xiaomi",
           "Redmi Note 11S"
          ],
          [
           "Xiaomi",
           "Redmi Note 11"
          ],
          [
           "Xiaomi",
           "11i HyperCharge 5G"
          ],
          [
           "Xiaomi",
           "11i"
          ],
          [
           "Xiaomi",
           "Redmi Note 11T 5G"
          ],
          [
           "Xiaomi",
           "Redmi Note 11 4G"
          ],
          [
           "Xiaomi",
           "Poco M4 Pro 5G"
          ],
          [
           "Xiaomi",
           "Redmi Note 11 Pro (China)"
          ],
          [
           "Xiaomi",
           "Redmi Note 11 (China)"
          ],
          [
           "Xiaomi",
           "Black Shark 4S Pro"
          ],
          [
           "Xiaomi",
           "Black Shark 4S"
          ],
          [
           "Xiaomi",
           "Redmi Note 10 Lite"
          ],
          [
           "Xiaomi",
           "Civi"
          ],
          [
           "Xiaomi",
           "Redmi 9i Sport"
          ],
          [
           "Xiaomi",
           "Redmi 9A Sport"
          ],
          [
           "Xiaomi",
           "Poco C31"
          ],
          [
           "Xiaomi",
           "Redmi 9 Activ"
          ],
          [
           "Xiaomi",
           "11T Pro"
          ],
          [
           "Xiaomi",
           "11T"
          ],
          [
           "Xiaomi",
           "11 Lite 5G NE"
          ],
          [
           "Xiaomi",
           "Redmi 10 Prime"
          ],
          [
           "Xiaomi",
           "Redmi 10"
          ],
          [
           "Xiaomi",
           "Mix 4"
          ],
          [
           "Xiaomi",
           "Poco X3 GT"
          ],
          [
           "Xiaomi",
           "Poco F3 GT"
          ],
          [
           "Xiaomi",
           "Redmi Note 10T 5G"
          ],
          [
           "Xiaomi",
           "Redmi Note 10 Pro (China)"
          ],
          [
           "Xiaomi",
           "Redmi Note 8 2021"
          ],
          [
           "Xiaomi",
           "Poco M3 Pro 5G"
          ],
          [
           "Xiaomi",
           "Redmi K40 Gaming"
          ],
          [
           "Xiaomi",
           "Mi 11X Pro"
          ],
          [
           "Xiaomi",
           "Mi 11X"
          ],
          [
           "Xiaomi",
           "Poco M2 Reloaded"
          ],
          [
           "Xiaomi",
           "Mi Mix Fold"
          ],
          [
           "Xiaomi",
           "Mi 11 Ultra"
          ],
          [
           "Xiaomi",
           "Mi 11 Pro"
          ],
          [
           "Xiaomi",
           "Mi 11i"
          ],
          [
           "Xiaomi",
           "Mi 11 Lite 5G"
          ],
          [
           "Xiaomi",
           "Mi 11 Lite"
          ],
          [
           "Xiaomi",
           "Black Shark 4 Pro"
          ],
          [
           "Xiaomi",
           "Black Shark 4"
          ],
          [
           "Xiaomi",
           "Poco X3 Pro"
          ],
          [
           "Xiaomi",
           "Poco F3"
          ],
          [
           "Xiaomi",
           "Mi 10S"
          ],
          [
           "Xiaomi",
           "Redmi Note 10 Pro"
          ],
          [
           "Xiaomi",
           "Redmi Note 10 5G"
          ],
          [
           "Xiaomi",
           "Redmi Note 10S"
          ],
          [
           "Xiaomi",
           "Redmi Note 10"
          ],
          [
           "Xiaomi",
           "Redmi Note 10 Pro Max"
          ],
          [
           "Xiaomi",
           "Redmi Note 10 Pro (India)"
          ],
          [
           "Xiaomi",
           "Redmi K40 Pro+"
          ],
          [
           "Xiaomi",
           "Redmi K40 Pro"
          ],
          [
           "Xiaomi",
           "Redmi K40"
          ],
          [
           "Xiaomi",
           "Redmi Note 9T"
          ],
          [
           "Xiaomi",
           "Redmi 9T"
          ],
          [
           "Xiaomi",
           "Mi 10i 5G"
          ],
          [
           "Xiaomi",
           "Mi 11"
          ],
          [
           "Xiaomi",
           "Redmi 9 Power"
          ],
          [
           "Xiaomi",
           "Redmi Note 9 Pro 5G"
          ],
          [
           "Xiaomi",
           "Redmi Note 9 5G"
          ],
          [
           "Xiaomi",
           "Redmi Note 9 4G"
          ],
          [
           "Xiaomi",
           "Poco M3"
          ],
          [
           "Xiaomi",
           "Redmi K30S"
          ],
          [
           "Xiaomi",
           "Poco C3"
          ],
          [
           "Xiaomi",
           "Mi 10T Pro 5G"
          ],
          [
           "Xiaomi",
           "Mi 10T 5G"
          ],
          [
           "Xiaomi",
           "Mi 10T Lite 5G"
          ],
          [
           "Xiaomi",
           "Redmi 9AT"
          ],
          [
           "Xiaomi",
           "Redmi 9i"
          ],
          [
           "Xiaomi",
           "Poco M2"
          ],
          [
           "Xiaomi",
           "Poco X3"
          ],
          [
           "Xiaomi",
           "Poco X3 NFC"
          ],
          [
           "Xiaomi",
           "Redmi 9 (India)"
          ],
          [
           "Xiaomi",
           "Mi 10 Ultra"
          ],
          [
           "Xiaomi",
           "Redmi K30 Ultra"
          ],
          [
           "Xiaomi",
           "Redmi 9 Prime"
          ],
          [
           "Xiaomi",
           "Black Shark 3S"
          ],
          [
           "Xiaomi",
           "Poco M2 Pro"
          ],
          [
           "Xiaomi",
           "Redmi 9A"
          ],
          [
           "Xiaomi",
           "Redmi 9C NFC"
          ],
          [
           "Xiaomi",
           "Redmi 9C"
          ],
          [
           "Xiaomi",
           "Redmi 9"
          ],
          [
           "Xiaomi",
           "Redmi 10X Pro 5G"
          ],
          [
           "Xiaomi",
           "Redmi 10X 5G"
          ],
          [
           "Xiaomi",
           "Redmi 10X 4G"
          ],
          [
           "Xiaomi",
           "Redmi K30i 5G"
          ],
          [
           "Xiaomi",
           "Poco F2 Pro"
          ],
          [
           "Xiaomi",
           "Redmi K30 5G Racing"
          ],
          [
           "Xiaomi",
           "Redmi Note 9 Pro"
          ],
          [
           "Xiaomi",
           "Redmi Note 9"
          ],
          [
           "Xiaomi",
           "Mi Note 10 Lite"
          ],
          [
           "Xiaomi",
           "Mi 10 Youth 5G"
          ],
          [
           "Xiaomi",
           "Mi 10 Lite 5G"
          ],
          [
           "Xiaomi",
           "Redmi K30 Pro Zoom"
          ],
          [
           "Xiaomi",
           "Redmi K30 Pro"
          ],
          [
           "Xiaomi",
           "Redmi Note 9S"
          ],
          [
           "Xiaomi",
           "Redmi Note 9 Pro Max"
          ],
          [
           "Xiaomi",
           "Redmi Note 9 Pro (India)"
          ],
          [
           "Xiaomi",
           "Black Shark 3 Pro"
          ],
          [
           "Xiaomi",
           "Black Shark 3"
          ],
          [
           "Xiaomi",
           "Mi 10 Pro 5G"
          ],
          [
           "Xiaomi",
           "Mi 10 5G"
          ],
          [
           "Xiaomi",
           "Redmi 8A Pro"
          ],
          [
           "Xiaomi",
           "Redmi 8A Dual"
          ],
          [
           "Xiaomi",
           "Poco X2"
          ],
          [
           "Xiaomi",
           "Redmi K30 5G"
          ],
          [
           "Xiaomi",
           "Redmi 20X"
          ],
          [
           "Xiaomi",
           "Mi 10 Lite Zoom"
          ],
          [
           "Xiaomi",
           "Mi Max 4 Pro"
          ],
          [
           "Xiaomi",
           "Mi Max 4"
          ]
         ],
         "hovertemplate": "release_year=%{x}<br>price=%{y}<br>brand=%{customdata[0]}<br>model=%{customdata[1]}<extra></extra>",
         "legendgroup": "",
         "marker": {
          "color": "#636efa",
          "symbol": "circle"
         },
         "mode": "markers",
         "name": "",
         "showlegend": false,
         "type": "scattergl",
         "x": {
          "bdata": "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",
          "dtype": "f8"
         },
         "xaxis": "x",
         "y": {
          "bdata": "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",
          "dtype": "f8"
         },
         "yaxis": "y"
        }
       ],
       "layout": {
        "legend": {
         "tracegroupgap": 0
        },
        "margin": {
         "t": 60
        },
        "template": {
         "data": {
          "bar": [
           {
            "error_x": {
             "color": "#2a3f5f"
            },
            "error_y": {
             "color": "#2a3f5f"
            },
            "marker": {
             "line": {
              "color": "#E5ECF6",
              "width": 0.5
             },
             "pattern": {
              "fillmode": "overlay",
              "size": 10,
              "solidity": 0.2
             }
            },
            "type": "bar"
           }
          ],
          "barpolar": [
           {
            "marker": {
             "line": {
              "color": "#E5ECF6",
              "width": 0.5
             },
             "pattern": {
              "fillmode": "overlay",
              "size": 10,
              "solidity": 0.2
             }
            },
            "type": "barpolar"
           }
          ],
          "carpet": [
           {
            "aaxis": {
             "endlinecolor": "#2a3f5f",
             "gridcolor": "white",
             "linecolor": "white",
             "minorgridcolor": "white",
             "startlinecolor": "#2a3f5f"
            },
            "baxis": {
             "endlinecolor": "#2a3f5f",
             "gridcolor": "white",
             "linecolor": "white",
             "minorgridcolor": "white",
             "startlinecolor": "#2a3f5f"
            },
            "type": "carpet"
           }
          ],
          "choropleth": [
           {
            "colorbar": {
             "outlinewidth": 0,
             "ticks": ""
            },
            "type": "choropleth"
           }
          ],
          "contour": [
           {
            "colorbar": {
             "outlinewidth": 0,
             "ticks": ""
            },
            "colorscale": [
             [
              0,
              "#0d0887"
             ],
             [
              0.1111111111111111,
              "#46039f"
             ],
             [
              0.2222222222222222,
              "#7201a8"
             ],
             [
              0.3333333333333333,
              "#9c179e"
             ],
             [
              0.4444444444444444,
              "#bd3786"
             ],
             [
              0.5555555555555556,
              "#d8576b"
             ],
             [
              0.6666666666666666,
              "#ed7953"
             ],
             [
              0.7777777777777778,
              "#fb9f3a"
             ],
             [
              0.8888888888888888,
              "#fdca26"
             ],
             [
              1,
              "#f0f921"
             ]
            ],
            "type": "contour"
           }
          ],
          "contourcarpet": [
           {
            "colorbar": {
             "outlinewidth": 0,
             "ticks": ""
            },
            "type": "contourcarpet"
           }
          ],
          "heatmap": [
           {
            "colorbar": {
             "outlinewidth": 0,
             "ticks": ""
            },
            "colorscale": [
             [
              0,
              "#0d0887"
             ],
             [
              0.1111111111111111,
              "#46039f"
             ],
             [
              0.2222222222222222,
              "#7201a8"
             ],
             [
              0.3333333333333333,
              "#9c179e"
             ],
             [
              0.4444444444444444,
              "#bd3786"
             ],
             [
              0.5555555555555556,
              "#d8576b"
             ],
             [
              0.6666666666666666,
              "#ed7953"
             ],
             [
              0.7777777777777778,
              "#fb9f3a"
             ],
             [
              0.8888888888888888,
              "#fdca26"
             ],
             [
              1,
              "#f0f921"
             ]
            ],
            "type": "heatmap"
           }
          ],
          "histogram": [
           {
            "marker": {
             "pattern": {
              "fillmode": "overlay",
              "size": 10,
              "solidity": 0.2
             }
            },
            "type": "histogram"
           }
          ],
          "histogram2d": [
           {
            "colorbar": {
             "outlinewidth": 0,
             "ticks": ""
            },
            "colorscale": [
             [
              0,
              "#0d0887"
             ],
             [
              0.1111111111111111,
              "#46039f"
             ],
             [
              0.2222222222222222,
              "#7201a8"
             ],
             [
              0.3333333333333333,
              "#9c179e"
             ],
             [
              0.4444444444444444,
              "#bd3786"
             ],
             [
              0.5555555555555556,
              "#d8576b"
             ],
             [
              0.6666666666666666,
              "#ed7953"
             ],
             [
              0.7777777777777778,
              "#fb9f3a"
             ],
             [
              0.8888888888888888,
              "#fdca26"
             ],
             [
              1,
              "#f0f921"
             ]
            ],
            "type": "histogram2d"
           }
          ],
          "histogram2dcontour": [
           {
            "colorbar": {
             "outlinewidth": 0,
             "ticks": ""
            },
            "colorscale": [
             [
              0,
              "#0d0887"
             ],
             [
              0.1111111111111111,
              "#46039f"
             ],
             [
              0.2222222222222222,
              "#7201a8"
             ],
             [
              0.3333333333333333,
              "#9c179e"
             ],
             [
              0.4444444444444444,
              "#bd3786"
             ],
             [
              0.5555555555555556,
              "#d8576b"
             ],
             [
              0.6666666666666666,
              "#ed7953"
             ],
             [
              0.7777777777777778,
              "#fb9f3a"
             ],
             [
              0.8888888888888888,
              "#fdca26"
             ],
             [
              1,
              "#f0f921"
             ]
            ],
            "type": "histogram2dcontour"
           }
          ],
          "mesh3d": [
           {
            "colorbar": {
             "outlinewidth": 0,
             "ticks": ""
            },
            "type": "mesh3d"
           }
          ],
          "parcoords": [
           {
            "line": {
             "colorbar": {
              "outlinewidth": 0,
              "ticks": ""
             }
            },
            "type": "parcoords"
           }
          ],
          "pie": [
           {
            "automargin": true,
            "type": "pie"
           }
          ],
          "scatter": [
           {
            "fillpattern": {
             "fillmode": "overlay",
             "size": 10,
             "solidity": 0.2
            },
            "type": "scatter"
           }
          ],
          "scatter3d": [
           {
            "line": {
             "colorbar": {
              "outlinewidth": 0,
              "ticks": ""
             }
            },
            "marker": {
             "colorbar": {
              "outlinewidth": 0,
              "ticks": ""
             }
            },
            "type": "scatter3d"
           }
          ],
          "scattercarpet": [
           {
            "marker": {
             "colorbar": {
              "outlinewidth": 0,
              "ticks": ""
             }
            },
            "type": "scattercarpet"
           }
          ],
          "scattergeo": [
           {
            "marker": {
             "colorbar": {
              "outlinewidth": 0,
              "ticks": ""
             }
            },
            "type": "scattergeo"
           }
          ],
          "scattergl": [
           {
            "marker": {
             "colorbar": {
              "outlinewidth": 0,
              "ticks": ""
             }
            },
            "type": "scattergl"
           }
          ],
          "scattermap": [
           {
            "marker": {
             "colorbar": {
              "outlinewidth": 0,
              "ticks": ""
             }
            },
            "type": "scattermap"
           }
          ],
          "scattermapbox": [
           {
            "marker": {
             "colorbar": {
              "outlinewidth": 0,
              "ticks": ""
             }
            },
            "type": "scattermapbox"
           }
          ],
          "scatterpolar": [
           {
            "marker": {
             "colorbar": {
              "outlinewidth": 0,
              "ticks": ""
             }
            },
            "type": "scatterpolar"
           }
          ],
          "scatterpolargl": [
           {
            "marker": {
             "colorbar": {
              "outlinewidth": 0,
              "ticks": ""
             }
            },
            "type": "scatterpolargl"
           }
          ],
          "scatterternary": [
           {
            "marker": {
             "colorbar": {
              "outlinewidth": 0,
              "ticks": ""
             }
            },
            "type": "scatterternary"
           }
          ],
          "surface": [
           {
            "colorbar": {
             "outlinewidth": 0,
             "ticks": ""
            },
            "colorscale": [
             [
              0,
              "#0d0887"
             ],
             [
              0.1111111111111111,
              "#46039f"
             ],
             [
              0.2222222222222222,
              "#7201a8"
             ],
             [
              0.3333333333333333,
              "#9c179e"
             ],
             [
              0.4444444444444444,
              "#bd3786"
             ],
             [
              0.5555555555555556,
              "#d8576b"
             ],
             [
              0.6666666666666666,
              "#ed7953"
             ],
             [
              0.7777777777777778,
              "#fb9f3a"
             ],
             [
              0.8888888888888888,
              "#fdca26"
             ],
             [
              1,
              "#f0f921"
             ]
            ],
            "type": "surface"
           }
          ],
          "table": [
           {
            "cells": {
             "fill": {
              "color": "#EBF0F8"
             },
             "line": {
              "color": "white"
             }
            },
            "header": {
             "fill": {
              "color": "#C8D4E3"
             },
             "line": {
              "color": "white"
             }
            },
            "type": "table"
           }
          ]
         },
         "layout": {
          "annotationdefaults": {
           "arrowcolor": "#2a3f5f",
           "arrowhead": 0,
           "arrowwidth": 1
          },
          "autotypenumbers": "strict",
          "coloraxis": {
           "colorbar": {
            "outlinewidth": 0,
            "ticks": ""
           }
          },
          "colorscale": {
           "diverging": [
            [
             0,
             "#8e0152"
            ],
            [
             0.1,
             "#c51b7d"
            ],
            [
             0.2,
             "#de77ae"
            ],
            [
             0.3,
             "#f1b6da"
            ],
            [
             0.4,
             "#fde0ef"
            ],
            [
             0.5,
             "#f7f7f7"
            ],
            [
             0.6,
             "#e6f5d0"
            ],
            [
             0.7,
             "#b8e186"
            ],
            [
             0.8,
             "#7fbc41"
            ],
            [
             0.9,
             "#4d9221"
            ],
            [
             1,
             "#276419"
            ]
           ],
           "sequential": [
            [
             0,
             "#0d0887"
            ],
            [
             0.1111111111111111,
             "#46039f"
            ],
            [
             0.2222222222222222,
             "#7201a8"
            ],
            [
             0.3333333333333333,
             "#9c179e"
            ],
            [
             0.4444444444444444,
             "#bd3786"
            ],
            [
             0.5555555555555556,
             "#d8576b"
            ],
            [
             0.6666666666666666,
             "#ed7953"
            ],
            [
             0.7777777777777778,
             "#fb9f3a"
            ],
            [
             0.8888888888888888,
             "#fdca26"
            ],
            [
             1,
             "#f0f921"
            ]
           ],
           "sequentialminus": [
            [
             0,
             "#0d0887"
            ],
            [
             0.1111111111111111,
             "#46039f"
            ],
            [
             0.2222222222222222,
             "#7201a8"
            ],
            [
             0.3333333333333333,
             "#9c179e"
            ],
            [
             0.4444444444444444,
             "#bd3786"
            ],
            [
             0.5555555555555556,
             "#d8576b"
            ],
            [
             0.6666666666666666,
             "#ed7953"
            ],
            [
             0.7777777777777778,
             "#fb9f3a"
            ],
            [
             0.8888888888888888,
             "#fdca26"
            ],
            [
             1,
             "#f0f921"
            ]
           ]
          },
          "colorway": [
           "#636efa",
           "#EF553B",
           "#00cc96",
           "#ab63fa",
           "#FFA15A",
           "#19d3f3",
           "#FF6692",
           "#B6E880",
           "#FF97FF",
           "#FECB52"
          ],
          "font": {
           "color": "#2a3f5f"
          },
          "geo": {
           "bgcolor": "white",
           "lakecolor": "white",
           "landcolor": "#E5ECF6",
           "showlakes": true,
           "showland": true,
           "subunitcolor": "white"
          },
          "hoverlabel": {
           "align": "left"
          },
          "hovermode": "closest",
          "mapbox": {
           "style": "light"
          },
          "paper_bgcolor": "white",
          "plot_bgcolor": "#E5ECF6",
          "polar": {
           "angularaxis": {
            "gridcolor": "white",
            "linecolor": "white",
            "ticks": ""
           },
           "bgcolor": "#E5ECF6",
           "radialaxis": {
            "gridcolor": "white",
            "linecolor": "white",
            "ticks": ""
           }
          },
          "scene": {
           "xaxis": {
            "backgroundcolor": "#E5ECF6",
            "gridcolor": "white",
            "gridwidth": 2,
            "linecolor": "white",
            "showbackground": true,
            "ticks": "",
            "zerolinecolor": "white"
           },
           "yaxis": {
            "backgroundcolor": "#E5ECF6",
            "gridcolor": "white",
            "gridwidth": 2,
            "linecolor": "white",
            "showbackground": true,
            "ticks": "",
            "zerolinecolor": "white"
           },
           "zaxis": {
            "backgroundcolor": "#E5ECF6",
            "gridcolor": "white",
            "gridwidth": 2,
            "linecolor": "white",
            "showbackground": true,
            "ticks": "",
            "zerolinecolor": "white"
           }
          },
          "shapedefaults": {
           "line": {
            "color": "#2a3f5f"
           }
          },
          "ternary": {
           "aaxis": {
            "gridcolor": "white",
            "linecolor": "white",
            "ticks": ""
           },
           "baxis": {
            "gridcolor": "white",
            "linecolor": "white",
            "ticks": ""
           },
           "bgcolor": "#E5ECF6",
           "caxis": {
            "gridcolor": "white",
            "linecolor": "white",
            "ticks": ""
           }
          },
          "title": {
           "x": 0.05
          },
          "xaxis": {
           "automargin": true,
           "gridcolor": "white",
           "linecolor": "white",
           "ticks": "",
           "title": {
            "standoff": 15
           },
           "zerolinecolor": "white",
           "zerolinewidth": 2
          },
          "yaxis": {
           "automargin": true,
           "gridcolor": "white",
           "linecolor": "white",
           "ticks": "",
           "title": {
            "standoff": 15
           },
           "zerolinecolor": "white",
           "zerolinewidth": 2
          }
         }
        },
        "xaxis": {
         "anchor": "y",
         "domain": [
          0,
          1
         ],
         "title": {
          "text": "release_year"
         }
        },
        "yaxis": {
         "anchor": "x",
         "domain": [
          0,
          1
         ],
         "title": {
          "text": "price"
         }
        }
       }
      }
     },
     "metadata": {},
     "output_type": "display_data"
    }
   ],
   "source": [
    "pdf = ddf[['price', 'brand', 'model', 'release_year']]\n",
    "px.scatter(pdf, x='release_year', y='price', hover_data=['brand', 'model'])"
   ]
  },
  {
   "cell_type": "code",
   "execution_count": 8,
   "id": "40688272",
   "metadata": {},
   "outputs": [
    {
     "data": {
      "application/vnd.plotly.v1+json": {
       "config": {
        "plotlyServerURL": "https://plot.ly"
       },
       "data": [
        {
         "coloraxis": "coloraxis",
         "histfunc": "avg",
         "hovertemplate": "release_year=%{x}<br>brand=%{y}<br>avg of popularity_become_fan=%{z}<extra></extra>",
         "name": "",
         "type": "histogram2d",
         "x": {
          "bdata": "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",
          "dtype": "f8"
         },
         "xaxis": "x",
         "xbingroup": "x",
         "y": [
          "Apple",
          "Apple",
          "Apple",
          "Apple",
          "Apple",
          "Apple",
          "Apple",
          "Apple",
          "Apple",
          "Apple",
          "Apple",
          "Apple",
          "Apple",
          "Apple",
          "Apple",
          "Apple",
          "Apple",
          "Apple",
          "Apple",
          "Apple",
          "Apple",
          "Apple",
          "Apple",
          "Asus",
          "Asus",
          "Asus",
          "Asus",
          "Asus",
          "Asus",
          "Asus",
          "Asus",
          "Asus",
          "Asus",
          "Asus",
          "Asus",
          "Asus",
          "Asus",
          "Asus",
          "Asus",
          "Asus",
          "Asus",
          "Asus",
          "Asus",
          "Asus",
          "Asus",
          "Asus",
          "Asus",
          "Asus",
          "Asus",
          "Asus",
          "Asus",
          "Asus",
          "Google",
          "Google",
          "Google",
          "Google",
          "Google",
          "Google",
          "Google",
          "Google",
          "Google",
          "Google",
          "Google",
          "Google",
          "Google",
          "Google",
          "Google",
          "Google",
          "Google",
          "Google",
          "HTC",
          "HTC",
          "HTC",
          "HTC",
          "HTC",
          "HTC",
          "HTC",
          "HTC",
          "HTC",
          "HTC",
          "HTC",
          "HTC",
          "HTC",
          "HTC",
          "HTC",
          "HTC",
          "HTC",
          "HTC",
          "Huawei",
          "Huawei",
          "Huawei",
          "Huawei",
          "Huawei",
          "Huawei",
          "Huawei",
          "Huawei",
          "Huawei",
          "Huawei",
          "Huawei",
          "Huawei",
          "Huawei",
          "Huawei",
          "Huawei",
          "Huawei",
          "Huawei",
          "Huawei",
          "Huawei",
          "Huawei",
          "Huawei",
          "Huawei",
          "Huawei",
          "Huawei",
          "Huawei",
          "Huawei",
          "Huawei",
          "Huawei",
          "Huawei",
          "Huawei",
          "Huawei",
          "Huawei",
          "Huawei",
          "Huawei",
          "Huawei",
          "Huawei",
          "Huawei",
          "Huawei",
          "Huawei",
          "Huawei",
          "Huawei",
          "Huawei",
          "Huawei",
          "Huawei",
          "Huawei",
          "Huawei",
          "Huawei",
          "Huawei",
          "Huawei",
          "Huawei",
          "Huawei",
          "Huawei",
          "Huawei",
          "Huawei",
          "Huawei",
          "Huawei",
          "Huawei",
          "Huawei",
          "Huawei",
          "Huawei",
          "Huawei",
          "Huawei",
          "Huawei",
          "Huawei",
          "Huawei",
          "Huawei",
          "Huawei",
          "Huawei",
          "Huawei",
          "Huawei",
          "Huawei",
          "Huawei",
          "Huawei",
          "Huawei",
          "Huawei",
          "Huawei",
          "Huawei",
          "Huawei",
          "Huawei",
          "Huawei",
          "Huawei",
          "Huawei",
          "Huawei",
          "Huawei",
          "Huawei",
          "Huawei",
          "Huawei",
          "Huawei",
          "Huawei",
          "Huawei",
          "Huawei",
          "Huawei",
          "Huawei",
          "Huawei",
          "Huawei",
          "Huawei",
          "Huawei",
          "Huawei",
          "Huawei",
          "Huawei",
          "Huawei",
          "Huawei",
          "Huawei",
          "Huawei",
          "Huawei",
          "Huawei",
          "Huawei",
          "Huawei",
          "Huawei",
          "Huawei",
          "Huawei",
          "Huawei",
          "Huawei",
          "Huawei",
          "Huawei",
          "Huawei",
          "Huawei",
          "Huawei",
          "Huawei",
          "Huawei",
          "Infinix",
          "Infinix",
          "Infinix",
          "Infinix",
          "Infinix",
          "Infinix",
          "Infinix",
          "Infinix",
          "Infinix",
          "Infinix",
          "Infinix",
          "Infinix",
          "Infinix",
          "Infinix",
          "Infinix",
          "Infinix",
          "Infinix",
          "Infinix",
          "Infinix",
          "Infinix",
          "Infinix",
          "Infinix",
          "Infinix",
          "Infinix",
          "Infinix",
          "Infinix",
          "Infinix",
          "Infinix",
          "Infinix",
          "Infinix",
          "Infinix",
          "Infinix",
          "Infinix",
          "Infinix",
          "Infinix",
          "Infinix",
          "Infinix",
          "Infinix",
          "Infinix",
          "Infinix",
          "Infinix",
          "Infinix",
          "Infinix",
          "Infinix",
          "Infinix",
          "Infinix",
          "Infinix",
          "Infinix",
          "Infinix",
          "Infinix",
          "Infinix",
          "Infinix",
          "Infinix",
          "Infinix",
          "Infinix",
          "Infinix",
          "Infinix",
          "Infinix",
          "Infinix",
          "Infinix",
          "Infinix",
          "Infinix",
          "Infinix",
          "Infinix",
          "Infinix",
          "Infinix",
          "Infinix",
          "Infinix",
          "Infinix",
          "Infinix",
          "Infinix",
          "Infinix",
          "Infinix",
          "Infinix",
          "Infinix",
          "Infinix",
          "Infinix",
          "Infinix",
          "Infinix",
          "Infinix",
          "Infinix",
          "Infinix",
          "Infinix",
          "Infinix",
          "Infinix",
          "Infinix",
          "Infinix",
          "Infinix",
          "Infinix",
          "Infinix",
          "Infinix",
          "Infinix",
          "Infinix",
          "Infinix",
          "Infinix",
          "Infinix",
          "Infinix",
          "Infinix",
          "Infinix",
          "Infinix",
          "Infinix",
          "Infinix",
          "Infinix",
          "Infinix",
          "Infinix",
          "Infinix",
          "Infinix",
          "Lenovo",
          "Lenovo",
          "Lenovo",
          "Lenovo",
          "Lenovo",
          "Lenovo",
          "Lenovo",
          "Lenovo",
          "Lenovo",
          "Lenovo",
          "Lenovo",
          "Lenovo",
          "Microsoft",
          "Microsoft",
          "Nokia",
          "Nokia",
          "Nokia",
          "Nokia",
          "Nokia",
          "Nokia",
          "Nokia",
          "Nokia",
          "Nokia",
          "Nokia",
          "Nokia",
          "Nokia",
          "Nokia",
          "Nokia",
          "Nokia",
          "Nokia",
          "Nokia",
          "Nokia",
          "Nokia",
          "Nokia",
          "Nokia",
          "Nokia",
          "Nokia",
          "Nokia",
          "Nokia",
          "Nokia",
          "Nokia",
          "Nokia",
          "Nokia",
          "Nokia",
          "Nokia",
          "Nokia",
          "Nokia",
          "Nokia",
          "Nokia",
          "Nokia",
          "Nokia",
          "Nokia",
          "Nokia",
          "Nokia",
          "Nokia",
          "Nokia",
          "Nokia",
          "Nokia",
          "Nokia",
          "Nokia",
          "Nokia",
          "Nokia",
          "Nokia",
          "Nokia",
          "Nokia",
          "Nokia",
          "Nokia",
          "Nokia",
          "Nokia",
          "Nokia",
          "Nokia",
          "Nokia",
          "Nokia",
          "Nokia",
          "Nokia",
          "Nokia",
          "Nokia",
          "Nokia",
          "Nokia",
          "Nokia",
          "Nokia",
          "Nokia",
          "Nokia",
          "Nokia",
          "Nokia",
          "Nokia",
          "Nokia",
          "Nokia",
          "Nokia",
          "Nokia",
          "Nokia",
          "Nokia",
          "Nokia",
          "Nokia",
          "Nokia",
          "Nokia",
          "Nokia",
          "Nokia",
          "Nokia",
          "Nokia",
          "Nokia",
          "Nokia",
          "Nokia",
          "Nokia",
          "Nokia",
          "Nokia",
          "Nokia",
          "Nokia",
          "Nokia",
          "Nokia",
          "Nokia",
          "Nokia",
          "Nokia",
          "Nokia",
          "Nothing",
          "Nothing",
          "Nothing",
          "Nothing",
          "Nothing",
          "Nothing",
          "Nothing",
          "OnePlus",
          "OnePlus",
          "OnePlus",
          "OnePlus",
          "OnePlus",
          "OnePlus",
          "OnePlus",
          "OnePlus",
          "OnePlus",
          "OnePlus",
          "OnePlus",
          "OnePlus",
          "OnePlus",
          "OnePlus",
          "OnePlus",
          "OnePlus",
          "OnePlus",
          "OnePlus",
          "OnePlus",
          "OnePlus",
          "OnePlus",
          "OnePlus",
          "OnePlus",
          "OnePlus",
          "OnePlus",
          "OnePlus",
          "OnePlus",
          "OnePlus",
          "OnePlus",
          "OnePlus",
          "OnePlus",
          "OnePlus",
          "OnePlus",
          "OnePlus",
          "OnePlus",
          "OnePlus",
          "OnePlus",
          "OnePlus",
          "OnePlus",
          "OnePlus",
          "OnePlus",
          "OnePlus",
          "OnePlus",
          "OnePlus",
          "OnePlus",
          "OnePlus",
          "OnePlus",
          "OnePlus",
          "OnePlus",
          "OnePlus",
          "OnePlus",
          "OnePlus",
          "OnePlus",
          "Oppo",
          "Oppo",
          "Oppo",
          "Oppo",
          "Oppo",
          "Oppo",
          "Oppo",
          "Oppo",
          "Oppo",
          "Oppo",
          "Oppo",
          "Oppo",
          "Oppo",
          "Oppo",
          "Oppo",
          "Oppo",
          "Oppo",
          "Oppo",
          "Oppo",
          "Oppo",
          "Oppo",
          "Oppo",
          "Oppo",
          "Oppo",
          "Oppo",
          "Oppo",
          "Oppo",
          "Oppo",
          "Oppo",
          "Oppo",
          "Oppo",
          "Oppo",
          "Oppo",
          "Oppo",
          "Oppo",
          "Oppo",
          "Oppo",
          "Oppo",
          "Oppo",
          "Oppo",
          "Oppo",
          "Oppo",
          "Oppo",
          "Oppo",
          "Oppo",
          "Oppo",
          "Oppo",
          "Oppo",
          "Oppo",
          "Oppo",
          "Oppo",
          "Oppo",
          "Oppo",
          "Oppo",
          "Oppo",
          "Oppo",
          "Oppo",
          "Oppo",
          "Oppo",
          "Oppo",
          "Oppo",
          "Oppo",
          "Oppo",
          "Oppo",
          "Oppo",
          "Oppo",
          "Oppo",
          "Oppo",
          "Oppo",
          "Oppo",
          "Oppo",
          "Oppo",
          "Oppo",
          "Oppo",
          "Oppo",
          "Oppo",
          "Oppo",
          "Oppo",
          "Oppo",
          "Oppo",
          "Oppo",
          "Oppo",
          "Oppo",
          "Oppo",
          "Oppo",
          "Oppo",
          "Oppo",
          "Oppo",
          "Oppo",
          "Oppo",
          "Oppo",
          "Oppo",
          "Oppo",
          "Oppo",
          "Oppo",
          "Oppo",
          "Oppo",
          "Oppo",
          "Oppo",
          "Oppo",
          "Oppo",
          "Oppo",
          "Oppo",
          "Oppo",
          "Oppo",
          "Oppo",
          "Oppo",
          "Oppo",
          "Oppo",
          "Oppo",
          "Oppo",
          "Oppo",
          "Oppo",
          "Oppo",
          "Oppo",
          "Oppo",
          "Oppo",
          "Oppo",
          "Oppo",
          "Oppo",
          "Oppo",
          "Oppo",
          "Oppo",
          "Oppo",
          "Oppo",
          "Oppo",
          "Oppo",
          "Oppo",
          "Oppo",
          "Oppo",
          "Oppo",
          "Oppo",
          "Oppo",
          "Oppo",
          "Oppo",
          "Oppo",
          "Oppo",
          "Oppo",
          "Oppo",
          "Oppo",
          "Oppo",
          "Oppo",
          "Oppo",
          "Oppo",
          "Oppo",
          "Oppo",
          "Oppo",
          "Oppo",
          "Oppo",
          "Oppo",
          "Oppo",
          "Oppo",
          "Oppo",
          "Oppo",
          "Oppo",
          "Oppo",
          "Oppo",
          "Oppo",
          "Oppo",
          "Oppo",
          "Oppo",
          "Oppo",
          "Oppo",
          "Oppo",
          "Oppo",
          "Oppo",
          "Oppo",
          "Oppo",
          "Oppo",
          "Oppo",
          "Oppo",
          "Oppo",
          "Oppo",
          "Oppo",
          "Oppo",
          "Oppo",
          "Oppo",
          "Oppo",
          "Oppo",
          "Oppo",
          "Oppo",
          "Oppo",
          "Oppo",
          "Oppo",
          "Oppo",
          "Oppo",
          "Oppo",
          "Oppo",
          "Oppo",
          "Oppo",
          "Oppo",
          "Oppo",
          "Oppo",
          "Oppo",
          "Oppo",
          "Oppo",
          "Oppo",
          "Oppo",
          "Oppo",
          "Oppo",
          "Oppo",
          "Oppo",
          "Oppo",
          "Oppo",
          "Oppo",
          "Realme",
          "Realme",
          "Realme",
          "Realme",
          "Realme",
          "Realme",
          "Realme",
          "Realme",
          "Realme",
          "Realme",
          "Realme",
          "Realme",
          "Realme",
          "Realme",
          "Realme",
          "Realme",
          "Realme",
          "Realme",
          "Realme",
          "Realme",
          "Realme",
          "Realme",
          "Realme",
          "Realme",
          "Realme",
          "Realme",
          "Realme",
          "Realme",
          "Realme",
          "Realme",
          "Realme",
          "Realme",
          "Realme",
          "Realme",
          "Realme",
          "Realme",
          "Realme",
          "Realme",
          "Realme",
          "Realme",
          "Realme",
          "Realme",
          "Realme",
          "Realme",
          "Realme",
          "Realme",
          "Realme",
          "Realme",
          "Realme",
          "Realme",
          "Realme",
          "Realme",
          "Realme",
          "Realme",
          "Realme",
          "Realme",
          "Realme",
          "Realme",
          "Realme",
          "Realme",
          "Realme",
          "Realme",
          "Realme",
          "Realme",
          "Realme",
          "Realme",
          "Realme",
          "Realme",
          "Realme",
          "Realme",
          "Realme",
          "Realme",
          "Realme",
          "Realme",
          "Realme",
          "Realme",
          "Realme",
          "Realme",
          "Realme",
          "Realme",
          "Realme",
          "Realme",
          "Realme",
          "Realme",
          "Realme",
          "Realme",
          "Realme",
          "Realme",
          "Realme",
          "Realme",
          "Realme",
          "Realme",
          "Realme",
          "Realme",
          "Realme",
          "Realme",
          "Realme",
          "Realme",
          "Realme",
          "Realme",
          "Realme",
          "Realme",
          "Realme",
          "Realme",
          "Realme",
          "Realme",
          "Realme",
          "Realme",
          "Realme",
          "Realme",
          "Realme",
          "Realme",
          "Realme",
          "Realme",
          "Realme",
          "Realme",
          "Realme",
          "Realme",
          "Realme",
          "Realme",
          "Realme",
          "Realme",
          "Realme",
          "Realme",
          "Realme",
          "Realme",
          "Realme",
          "Realme",
          "Realme",
          "Realme",
          "Realme",
          "Realme",
          "Realme",
          "Realme",
          "Realme",
          "Realme",
          "Realme",
          "Realme",
          "Realme",
          "Realme",
          "Realme",
          "Realme",
          "Realme",
          "Realme",
          "Realme",
          "Realme",
          "Realme",
          "Realme",
          "Realme",
          "Realme",
          "Realme",
          "Realme",
          "Realme",
          "Realme",
          "Realme",
          "Realme",
          "Realme",
          "Realme",
          "Realme",
          "Realme",
          "Realme",
          "Realme",
          "Realme",
          "Realme",
          "Realme",
          "Realme",
          "Realme",
          "Realme",
          "Realme",
          "Realme",
          "Realme",
          "Realme",
          "Realme",
          "Realme",
          "Realme",
          "Realme",
          "Realme",
          "Realme",
          "Realme",
          "Realme",
          "Realme",
          "Realme",
          "Realme",
          "Realme",
          "Realme",
          "Realme",
          "Realme",
          "Realme",
          "Realme",
          "Realme",
          "Realme",
          "Realme",
          "Realme",
          "Realme",
          "Realme",
          "Realme",
          "Realme",
          "Realme",
          "Samsung",
          "Samsung",
          "Samsung",
          "Samsung",
          "Samsung",
          "Samsung",
          "Samsung",
          "Samsung",
          "Samsung",
          "Samsung",
          "Samsung",
          "Samsung",
          "Samsung",
          "Samsung",
          "Samsung",
          "Samsung",
          "Samsung",
          "Samsung",
          "Samsung",
          "Samsung",
          "Samsung",
          "Samsung",
          "Samsung",
          "Samsung",
          "Samsung",
          "Samsung",
          "Samsung",
          "Samsung",
          "Samsung",
          "Samsung",
          "Samsung",
          "Samsung",
          "Samsung",
          "Samsung",
          "Samsung",
          "Samsung",
          "Samsung",
          "Samsung",
          "Samsung",
          "Samsung",
          "Samsung",
          "Samsung",
          "Samsung",
          "Samsung",
          "Samsung",
          "Samsung",
          "Samsung",
          "Samsung",
          "Samsung",
          "Samsung",
          "Samsung",
          "Samsung",
          "Samsung",
          "Samsung",
          "Samsung",
          "Samsung",
          "Samsung",
          "Samsung",
          "Samsung",
          "Samsung",
          "Samsung",
          "Samsung",
          "Samsung",
          "Samsung",
          "Samsung",
          "Samsung",
          "Samsung",
          "Samsung",
          "Samsung",
          "Samsung",
          "Samsung",
          "Samsung",
          "Samsung",
          "Samsung",
          "Samsung",
          "Samsung",
          "Samsung",
          "Samsung",
          "Samsung",
          "Samsung",
          "Samsung",
          "Samsung",
          "Samsung",
          "Samsung",
          "Samsung",
          "Samsung",
          "Samsung",
          "Samsung",
          "Samsung",
          "Samsung",
          "Samsung",
          "Samsung",
          "Samsung",
          "Samsung",
          "Samsung",
          "Samsung",
          "Samsung",
          "Samsung",
          "Samsung",
          "Samsung",
          "Samsung",
          "Samsung",
          "Samsung",
          "Samsung",
          "Samsung",
          "Samsung",
          "Samsung",
          "Samsung",
          "Samsung",
          "Samsung",
          "Samsung",
          "Samsung",
          "Samsung",
          "Samsung",
          "Samsung",
          "Samsung",
          "Samsung",
          "Samsung",
          "Samsung",
          "Samsung",
          "Samsung",
          "Samsung",
          "Samsung",
          "Samsung",
          "Samsung",
          "Samsung",
          "Samsung",
          "Samsung",
          "Samsung",
          "Samsung",
          "Samsung",
          "Samsung",
          "Samsung",
          "Samsung",
          "Samsung",
          "Samsung",
          "Samsung",
          "Samsung",
          "Samsung",
          "Samsung",
          "Samsung",
          "Samsung",
          "Samsung",
          "Samsung",
          "Samsung",
          "Samsung",
          "Samsung",
          "Samsung",
          "Samsung",
          "Samsung",
          "Samsung",
          "Samsung",
          "Samsung",
          "Samsung",
          "Samsung",
          "Samsung",
          "Samsung",
          "Samsung",
          "Samsung",
          "Samsung",
          "Samsung",
          "Samsung",
          "Samsung",
          "Samsung",
          "Samsung",
          "Samsung",
          "Samsung",
          "Samsung",
          "Samsung",
          "Samsung",
          "Samsung",
          "Samsung",
          "Sony",
          "Sony",
          "Sony",
          "Sony",
          "Sony",
          "Sony",
          "Sony",
          "Sony",
          "Sony",
          "Sony",
          "Sony",
          "Sony",
          "Sony",
          "Sony",
          "Sony",
          "Sony",
          "Sony",
          "Sony",
          "Xiaomi",
          "Xiaomi",
          "Xiaomi",
          "Xiaomi",
          "Xiaomi",
          "Xiaomi",
          "Xiaomi",
          "Xiaomi",
          "Xiaomi",
          "Xiaomi",
          "Xiaomi",
          "Xiaomi",
          "Xiaomi",
          "Xiaomi",
          "Xiaomi",
          "Xiaomi",
          "Xiaomi",
          "Xiaomi",
          "Xiaomi",
          "Xiaomi",
          "Xiaomi",
          "Xiaomi",
          "Xiaomi",
          "Xiaomi",
          "Xiaomi",
          "Xiaomi",
          "Xiaomi",
          "Xiaomi",
          "Xiaomi",
          "Xiaomi",
          "Xiaomi",
          "Xiaomi",
          "Xiaomi",
          "Xiaomi",
          "Xiaomi",
          "Xiaomi",
          "Xiaomi",
          "Xiaomi",
          "Xiaomi",
          "Xiaomi",
          "Xiaomi",
          "Xiaomi",
          "Xiaomi",
          "Xiaomi",
          "Xiaomi",
          "Xiaomi",
          "Xiaomi",
          "Xiaomi",
          "Xiaomi",
          "Xiaomi",
          "Xiaomi",
          "Xiaomi",
          "Xiaomi",
          "Xiaomi",
          "Xiaomi",
          "Xiaomi",
          "Xiaomi",
          "Xiaomi",
          "Xiaomi",
          "Xiaomi",
          "Xiaomi",
          "Xiaomi",
          "Xiaomi",
          "Xiaomi",
          "Xiaomi",
          "Xiaomi",
          "Xiaomi",
          "Xiaomi",
          "Xiaomi",
          "Xiaomi",
          "Xiaomi",
          "Xiaomi",
          "Xiaomi",
          "Xiaomi",
          "Xiaomi",
          "Xiaomi",
          "Xiaomi",
          "Xiaomi",
          "Xiaomi",
          "Xiaomi",
          "Xiaomi",
          "Xiaomi",
          "Xiaomi",
          "Xiaomi",
          "Xiaomi",
          "Xiaomi",
          "Xiaomi",
          "Xiaomi",
          "Xiaomi",
          "Xiaomi",
          "Xiaomi",
          "Xiaomi",
          "Xiaomi",
          "Xiaomi",
          "Xiaomi",
          "Xiaomi",
          "Xiaomi",
          "Xiaomi",
          "Xiaomi",
          "Xiaomi",
          "Xiaomi",
          "Xiaomi",
          "Xiaomi",
          "Xiaomi",
          "Xiaomi",
          "Xiaomi",
          "Xiaomi",
          "Xiaomi",
          "Xiaomi",
          "Xiaomi",
          "Xiaomi",
          "Xiaomi",
          "Xiaomi",
          "Xiaomi",
          "Xiaomi",
          "Xiaomi",
          "Xiaomi",
          "Xiaomi",
          "Xiaomi",
          "Xiaomi",
          "Xiaomi",
          "Xiaomi",
          "Xiaomi",
          "Xiaomi",
          "Xiaomi",
          "Xiaomi",
          "Xiaomi",
          "Xiaomi",
          "Xiaomi",
          "Xiaomi",
          "Xiaomi",
          "Xiaomi",
          "Xiaomi",
          "Xiaomi",
          "Xiaomi",
          "Xiaomi",
          "Xiaomi",
          "Xiaomi",
          "Xiaomi",
          "Xiaomi",
          "Xiaomi",
          "Xiaomi",
          "Xiaomi",
          "Xiaomi",
          "Xiaomi",
          "Xiaomi",
          "Xiaomi",
          "Xiaomi",
          "Xiaomi",
          "Xiaomi",
          "Xiaomi",
          "Xiaomi",
          "Xiaomi",
          "Xiaomi",
          "Xiaomi",
          "Xiaomi",
          "Xiaomi",
          "Xiaomi",
          "Xiaomi",
          "Xiaomi",
          "Xiaomi",
          "Xiaomi",
          "Xiaomi",
          "Xiaomi",
          "Xiaomi",
          "Xiaomi",
          "Xiaomi",
          "Xiaomi",
          "Xiaomi",
          "Xiaomi",
          "Xiaomi",
          "Xiaomi",
          "Xiaomi",
          "Xiaomi",
          "Xiaomi",
          "Xiaomi",
          "Xiaomi",
          "Xiaomi",
          "Xiaomi",
          "Xiaomi",
          "Xiaomi",
          "Xiaomi",
          "Xiaomi",
          "Xiaomi",
          "Xiaomi",
          "Xiaomi",
          "Xiaomi",
          "Xiaomi",
          "Xiaomi",
          "Xiaomi",
          "Xiaomi",
          "Xiaomi",
          "Xiaomi",
          "Xiaomi",
          "Xiaomi",
          "Xiaomi",
          "Xiaomi",
          "Xiaomi",
          "Xiaomi",
          "Xiaomi",
          "Xiaomi",
          "Xiaomi",
          "Xiaomi",
          "Xiaomi",
          "Xiaomi",
          "Xiaomi",
          "Xiaomi",
          "Xiaomi",
          "Xiaomi",
          "Xiaomi",
          "Xiaomi",
          "Xiaomi",
          "Xiaomi",
          "Xiaomi",
          "Xiaomi",
          "Xiaomi",
          "Xiaomi",
          "Xiaomi",
          "Xiaomi",
          "Xiaomi",
          "Xiaomi",
          "Xiaomi",
          "Xiaomi",
          "Xiaomi",
          "Xiaomi",
          "Xiaomi",
          "Xiaomi",
          "Xiaomi",
          "Xiaomi",
          "Xiaomi",
          "Xiaomi",
          "Xiaomi",
          "Xiaomi",
          "Xiaomi",
          "Xiaomi",
          "Xiaomi",
          "Xiaomi",
          "Xiaomi",
          "Xiaomi",
          "Xiaomi",
          "Xiaomi",
          "Xiaomi",
          "Xiaomi",
          "Xiaomi",
          "Xiaomi",
          "Xiaomi",
          "Xiaomi",
          "Xiaomi",
          "Xiaomi",
          "Xiaomi",
          "Xiaomi",
          "Xiaomi",
          "Xiaomi",
          "Xiaomi",
          "Xiaomi",
          "Xiaomi",
          "Xiaomi",
          "Xiaomi",
          "Xiaomi",
          "Xiaomi",
          "Xiaomi",
          "Xiaomi",
          "Xiaomi",
          "Xiaomi",
          "Xiaomi",
          "Xiaomi",
          "Xiaomi",
          "Xiaomi",
          "Xiaomi",
          "Xiaomi",
          "Xiaomi",
          "Xiaomi",
          "Xiaomi",
          "Xiaomi",
          "Xiaomi",
          "Xiaomi",
          "Xiaomi"
         ],
         "yaxis": "y",
         "ybingroup": "y",
         "z": {
          "bdata": "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",
          "dtype": "i2"
         }
        }
       ],
       "layout": {
        "coloraxis": {
         "colorbar": {
          "title": {
           "text": "avg of popularity_become_fan"
          }
         },
         "colorscale": [
          [
           0,
           "#0d0887"
          ],
          [
           0.1111111111111111,
           "#46039f"
          ],
          [
           0.2222222222222222,
           "#7201a8"
          ],
          [
           0.3333333333333333,
           "#9c179e"
          ],
          [
           0.4444444444444444,
           "#bd3786"
          ],
          [
           0.5555555555555556,
           "#d8576b"
          ],
          [
           0.6666666666666666,
           "#ed7953"
          ],
          [
           0.7777777777777778,
           "#fb9f3a"
          ],
          [
           0.8888888888888888,
           "#fdca26"
          ],
          [
           1,
           "#f0f921"
          ]
         ]
        },
        "legend": {
         "tracegroupgap": 0
        },
        "margin": {
         "t": 60
        },
        "template": {
         "data": {
          "bar": [
           {
            "error_x": {
             "color": "#2a3f5f"
            },
            "error_y": {
             "color": "#2a3f5f"
            },
            "marker": {
             "line": {
              "color": "#E5ECF6",
              "width": 0.5
             },
             "pattern": {
              "fillmode": "overlay",
              "size": 10,
              "solidity": 0.2
             }
            },
            "type": "bar"
           }
          ],
          "barpolar": [
           {
            "marker": {
             "line": {
              "color": "#E5ECF6",
              "width": 0.5
             },
             "pattern": {
              "fillmode": "overlay",
              "size": 10,
              "solidity": 0.2
             }
            },
            "type": "barpolar"
           }
          ],
          "carpet": [
           {
            "aaxis": {
             "endlinecolor": "#2a3f5f",
             "gridcolor": "white",
             "linecolor": "white",
             "minorgridcolor": "white",
             "startlinecolor": "#2a3f5f"
            },
            "baxis": {
             "endlinecolor": "#2a3f5f",
             "gridcolor": "white",
             "linecolor": "white",
             "minorgridcolor": "white",
             "startlinecolor": "#2a3f5f"
            },
            "type": "carpet"
           }
          ],
          "choropleth": [
           {
            "colorbar": {
             "outlinewidth": 0,
             "ticks": ""
            },
            "type": "choropleth"
           }
          ],
          "contour": [
           {
            "colorbar": {
             "outlinewidth": 0,
             "ticks": ""
            },
            "colorscale": [
             [
              0,
              "#0d0887"
             ],
             [
              0.1111111111111111,
              "#46039f"
             ],
             [
              0.2222222222222222,
              "#7201a8"
             ],
             [
              0.3333333333333333,
              "#9c179e"
             ],
             [
              0.4444444444444444,
              "#bd3786"
             ],
             [
              0.5555555555555556,
              "#d8576b"
             ],
             [
              0.6666666666666666,
              "#ed7953"
             ],
             [
              0.7777777777777778,
              "#fb9f3a"
             ],
             [
              0.8888888888888888,
              "#fdca26"
             ],
             [
              1,
              "#f0f921"
             ]
            ],
            "type": "contour"
           }
          ],
          "contourcarpet": [
           {
            "colorbar": {
             "outlinewidth": 0,
             "ticks": ""
            },
            "type": "contourcarpet"
           }
          ],
          "heatmap": [
           {
            "colorbar": {
             "outlinewidth": 0,
             "ticks": ""
            },
            "colorscale": [
             [
              0,
              "#0d0887"
             ],
             [
              0.1111111111111111,
              "#46039f"
             ],
             [
              0.2222222222222222,
              "#7201a8"
             ],
             [
              0.3333333333333333,
              "#9c179e"
             ],
             [
              0.4444444444444444,
              "#bd3786"
             ],
             [
              0.5555555555555556,
              "#d8576b"
             ],
             [
              0.6666666666666666,
              "#ed7953"
             ],
             [
              0.7777777777777778,
              "#fb9f3a"
             ],
             [
              0.8888888888888888,
              "#fdca26"
             ],
             [
              1,
              "#f0f921"
             ]
            ],
            "type": "heatmap"
           }
          ],
          "histogram": [
           {
            "marker": {
             "pattern": {
              "fillmode": "overlay",
              "size": 10,
              "solidity": 0.2
             }
            },
            "type": "histogram"
           }
          ],
          "histogram2d": [
           {
            "colorbar": {
             "outlinewidth": 0,
             "ticks": ""
            },
            "colorscale": [
             [
              0,
              "#0d0887"
             ],
             [
              0.1111111111111111,
              "#46039f"
             ],
             [
              0.2222222222222222,
              "#7201a8"
             ],
             [
              0.3333333333333333,
              "#9c179e"
             ],
             [
              0.4444444444444444,
              "#bd3786"
             ],
             [
              0.5555555555555556,
              "#d8576b"
             ],
             [
              0.6666666666666666,
              "#ed7953"
             ],
             [
              0.7777777777777778,
              "#fb9f3a"
             ],
             [
              0.8888888888888888,
              "#fdca26"
             ],
             [
              1,
              "#f0f921"
             ]
            ],
            "type": "histogram2d"
           }
          ],
          "histogram2dcontour": [
           {
            "colorbar": {
             "outlinewidth": 0,
             "ticks": ""
            },
            "colorscale": [
             [
              0,
              "#0d0887"
             ],
             [
              0.1111111111111111,
              "#46039f"
             ],
             [
              0.2222222222222222,
              "#7201a8"
             ],
             [
              0.3333333333333333,
              "#9c179e"
             ],
             [
              0.4444444444444444,
              "#bd3786"
             ],
             [
              0.5555555555555556,
              "#d8576b"
             ],
             [
              0.6666666666666666,
              "#ed7953"
             ],
             [
              0.7777777777777778,
              "#fb9f3a"
             ],
             [
              0.8888888888888888,
              "#fdca26"
             ],
             [
              1,
              "#f0f921"
             ]
            ],
            "type": "histogram2dcontour"
           }
          ],
          "mesh3d": [
           {
            "colorbar": {
             "outlinewidth": 0,
             "ticks": ""
            },
            "type": "mesh3d"
           }
          ],
          "parcoords": [
           {
            "line": {
             "colorbar": {
              "outlinewidth": 0,
              "ticks": ""
             }
            },
            "type": "parcoords"
           }
          ],
          "pie": [
           {
            "automargin": true,
            "type": "pie"
           }
          ],
          "scatter": [
           {
            "fillpattern": {
             "fillmode": "overlay",
             "size": 10,
             "solidity": 0.2
            },
            "type": "scatter"
           }
          ],
          "scatter3d": [
           {
            "line": {
             "colorbar": {
              "outlinewidth": 0,
              "ticks": ""
             }
            },
            "marker": {
             "colorbar": {
              "outlinewidth": 0,
              "ticks": ""
             }
            },
            "type": "scatter3d"
           }
          ],
          "scattercarpet": [
           {
            "marker": {
             "colorbar": {
              "outlinewidth": 0,
              "ticks": ""
             }
            },
            "type": "scattercarpet"
           }
          ],
          "scattergeo": [
           {
            "marker": {
             "colorbar": {
              "outlinewidth": 0,
              "ticks": ""
             }
            },
            "type": "scattergeo"
           }
          ],
          "scattergl": [
           {
            "marker": {
             "colorbar": {
              "outlinewidth": 0,
              "ticks": ""
             }
            },
            "type": "scattergl"
           }
          ],
          "scattermap": [
           {
            "marker": {
             "colorbar": {
              "outlinewidth": 0,
              "ticks": ""
             }
            },
            "type": "scattermap"
           }
          ],
          "scattermapbox": [
           {
            "marker": {
             "colorbar": {
              "outlinewidth": 0,
              "ticks": ""
             }
            },
            "type": "scattermapbox"
           }
          ],
          "scatterpolar": [
           {
            "marker": {
             "colorbar": {
              "outlinewidth": 0,
              "ticks": ""
             }
            },
            "type": "scatterpolar"
           }
          ],
          "scatterpolargl": [
           {
            "marker": {
             "colorbar": {
              "outlinewidth": 0,
              "ticks": ""
             }
            },
            "type": "scatterpolargl"
           }
          ],
          "scatterternary": [
           {
            "marker": {
             "colorbar": {
              "outlinewidth": 0,
              "ticks": ""
             }
            },
            "type": "scatterternary"
           }
          ],
          "surface": [
           {
            "colorbar": {
             "outlinewidth": 0,
             "ticks": ""
            },
            "colorscale": [
             [
              0,
              "#0d0887"
             ],
             [
              0.1111111111111111,
              "#46039f"
             ],
             [
              0.2222222222222222,
              "#7201a8"
             ],
             [
              0.3333333333333333,
              "#9c179e"
             ],
             [
              0.4444444444444444,
              "#bd3786"
             ],
             [
              0.5555555555555556,
              "#d8576b"
             ],
             [
              0.6666666666666666,
              "#ed7953"
             ],
             [
              0.7777777777777778,
              "#fb9f3a"
             ],
             [
              0.8888888888888888,
              "#fdca26"
             ],
             [
              1,
              "#f0f921"
             ]
            ],
            "type": "surface"
           }
          ],
          "table": [
           {
            "cells": {
             "fill": {
              "color": "#EBF0F8"
             },
             "line": {
              "color": "white"
             }
            },
            "header": {
             "fill": {
              "color": "#C8D4E3"
             },
             "line": {
              "color": "white"
             }
            },
            "type": "table"
           }
          ]
         },
         "layout": {
          "annotationdefaults": {
           "arrowcolor": "#2a3f5f",
           "arrowhead": 0,
           "arrowwidth": 1
          },
          "autotypenumbers": "strict",
          "coloraxis": {
           "colorbar": {
            "outlinewidth": 0,
            "ticks": ""
           }
          },
          "colorscale": {
           "diverging": [
            [
             0,
             "#8e0152"
            ],
            [
             0.1,
             "#c51b7d"
            ],
            [
             0.2,
             "#de77ae"
            ],
            [
             0.3,
             "#f1b6da"
            ],
            [
             0.4,
             "#fde0ef"
            ],
            [
             0.5,
             "#f7f7f7"
            ],
            [
             0.6,
             "#e6f5d0"
            ],
            [
             0.7,
             "#b8e186"
            ],
            [
             0.8,
             "#7fbc41"
            ],
            [
             0.9,
             "#4d9221"
            ],
            [
             1,
             "#276419"
            ]
           ],
           "sequential": [
            [
             0,
             "#0d0887"
            ],
            [
             0.1111111111111111,
             "#46039f"
            ],
            [
             0.2222222222222222,
             "#7201a8"
            ],
            [
             0.3333333333333333,
             "#9c179e"
            ],
            [
             0.4444444444444444,
             "#bd3786"
            ],
            [
             0.5555555555555556,
             "#d8576b"
            ],
            [
             0.6666666666666666,
             "#ed7953"
            ],
            [
             0.7777777777777778,
             "#fb9f3a"
            ],
            [
             0.8888888888888888,
             "#fdca26"
            ],
            [
             1,
             "#f0f921"
            ]
           ],
           "sequentialminus": [
            [
             0,
             "#0d0887"
            ],
            [
             0.1111111111111111,
             "#46039f"
            ],
            [
             0.2222222222222222,
             "#7201a8"
            ],
            [
             0.3333333333333333,
             "#9c179e"
            ],
            [
             0.4444444444444444,
             "#bd3786"
            ],
            [
             0.5555555555555556,
             "#d8576b"
            ],
            [
             0.6666666666666666,
             "#ed7953"
            ],
            [
             0.7777777777777778,
             "#fb9f3a"
            ],
            [
             0.8888888888888888,
             "#fdca26"
            ],
            [
             1,
             "#f0f921"
            ]
           ]
          },
          "colorway": [
           "#636efa",
           "#EF553B",
           "#00cc96",
           "#ab63fa",
           "#FFA15A",
           "#19d3f3",
           "#FF6692",
           "#B6E880",
           "#FF97FF",
           "#FECB52"
          ],
          "font": {
           "color": "#2a3f5f"
          },
          "geo": {
           "bgcolor": "white",
           "lakecolor": "white",
           "landcolor": "#E5ECF6",
           "showlakes": true,
           "showland": true,
           "subunitcolor": "white"
          },
          "hoverlabel": {
           "align": "left"
          },
          "hovermode": "closest",
          "mapbox": {
           "style": "light"
          },
          "paper_bgcolor": "white",
          "plot_bgcolor": "#E5ECF6",
          "polar": {
           "angularaxis": {
            "gridcolor": "white",
            "linecolor": "white",
            "ticks": ""
           },
           "bgcolor": "#E5ECF6",
           "radialaxis": {
            "gridcolor": "white",
            "linecolor": "white",
            "ticks": ""
           }
          },
          "scene": {
           "xaxis": {
            "backgroundcolor": "#E5ECF6",
            "gridcolor": "white",
            "gridwidth": 2,
            "linecolor": "white",
            "showbackground": true,
            "ticks": "",
            "zerolinecolor": "white"
           },
           "yaxis": {
            "backgroundcolor": "#E5ECF6",
            "gridcolor": "white",
            "gridwidth": 2,
            "linecolor": "white",
            "showbackground": true,
            "ticks": "",
            "zerolinecolor": "white"
           },
           "zaxis": {
            "backgroundcolor": "#E5ECF6",
            "gridcolor": "white",
            "gridwidth": 2,
            "linecolor": "white",
            "showbackground": true,
            "ticks": "",
            "zerolinecolor": "white"
           }
          },
          "shapedefaults": {
           "line": {
            "color": "#2a3f5f"
           }
          },
          "ternary": {
           "aaxis": {
            "gridcolor": "white",
            "linecolor": "white",
            "ticks": ""
           },
           "baxis": {
            "gridcolor": "white",
            "linecolor": "white",
            "ticks": ""
           },
           "bgcolor": "#E5ECF6",
           "caxis": {
            "gridcolor": "white",
            "linecolor": "white",
            "ticks": ""
           }
          },
          "title": {
           "x": 0.05
          },
          "xaxis": {
           "automargin": true,
           "gridcolor": "white",
           "linecolor": "white",
           "ticks": "",
           "title": {
            "standoff": 15
           },
           "zerolinecolor": "white",
           "zerolinewidth": 2
          },
          "yaxis": {
           "automargin": true,
           "gridcolor": "white",
           "linecolor": "white",
           "ticks": "",
           "title": {
            "standoff": 15
           },
           "zerolinecolor": "white",
           "zerolinewidth": 2
          }
         }
        },
        "xaxis": {
         "anchor": "y",
         "domain": [
          0,
          1
         ],
         "title": {
          "text": "release_year"
         }
        },
        "yaxis": {
         "anchor": "x",
         "domain": [
          0,
          1
         ],
         "title": {
          "text": "brand"
         }
        }
       }
      }
     },
     "metadata": {},
     "output_type": "display_data"
    }
   ],
   "source": [
    "pdf = df\n",
    "px.density_heatmap(pdf, x='release_year', y='brand', z='popularity_become_fan', histfunc='avg')"
   ]
  },
  {
   "cell_type": "markdown",
   "id": "ce40b6c0",
   "metadata": {},
   "source": [
    "Some of the brands, like Nothing, have recieved massive popularity increase at the start and the popularity gradually decreased over time."
   ]
  },
  {
   "cell_type": "code",
   "execution_count": 9,
   "id": "017f9a2f",
   "metadata": {},
   "outputs": [
    {
     "data": {
      "application/vnd.plotly.v1+json": {
       "config": {
        "plotlyServerURL": "https://plot.ly"
       },
       "data": [
        {
         "coloraxis": "coloraxis",
         "histfunc": "avg",
         "hovertemplate": "release_year=%{x}<br>brand=%{y}<br>avg of popularity_views=%{z}<extra></extra>",
         "name": "",
         "type": "histogram2d",
         "x": {
          "bdata": "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",
          "dtype": "f8"
         },
         "xaxis": "x",
         "xbingroup": "x",
         "y": [
          "Apple",
          "Apple",
          "Apple",
          "Apple",
          "Apple",
          "Apple",
          "Apple",
          "Apple",
          "Apple",
          "Apple",
          "Apple",
          "Apple",
          "Apple",
          "Apple",
          "Apple",
          "Apple",
          "Apple",
          "Apple",
          "Apple",
          "Apple",
          "Apple",
          "Apple",
          "Apple",
          "Asus",
          "Asus",
          "Asus",
          "Asus",
          "Asus",
          "Asus",
          "Asus",
          "Asus",
          "Asus",
          "Asus",
          "Asus",
          "Asus",
          "Asus",
          "Asus",
          "Asus",
          "Asus",
          "Asus",
          "Asus",
          "Asus",
          "Asus",
          "Asus",
          "Asus",
          "Asus",
          "Asus",
          "Asus",
          "Asus",
          "Asus",
          "Asus",
          "Asus",
          "Google",
          "Google",
          "Google",
          "Google",
          "Google",
          "Google",
          "Google",
          "Google",
          "Google",
          "Google",
          "Google",
          "Google",
          "Google",
          "Google",
          "Google",
          "Google",
          "Google",
          "Google",
          "HTC",
          "HTC",
          "HTC",
          "HTC",
          "HTC",
          "HTC",
          "HTC",
          "HTC",
          "HTC",
          "HTC",
          "HTC",
          "HTC",
          "HTC",
          "HTC",
          "HTC",
          "HTC",
          "HTC",
          "HTC",
          "Huawei",
          "Huawei",
          "Huawei",
          "Huawei",
          "Huawei",
          "Huawei",
          "Huawei",
          "Huawei",
          "Huawei",
          "Huawei",
          "Huawei",
          "Huawei",
          "Huawei",
          "Huawei",
          "Huawei",
          "Huawei",
          "Huawei",
          "Huawei",
          "Huawei",
          "Huawei",
          "Huawei",
          "Huawei",
          "Huawei",
          "Huawei",
          "Huawei",
          "Huawei",
          "Huawei",
          "Huawei",
          "Huawei",
          "Huawei",
          "Huawei",
          "Huawei",
          "Huawei",
          "Huawei",
          "Huawei",
          "Huawei",
          "Huawei",
          "Huawei",
          "Huawei",
          "Huawei",
          "Huawei",
          "Huawei",
          "Huawei",
          "Huawei",
          "Huawei",
          "Huawei",
          "Huawei",
          "Huawei",
          "Huawei",
          "Huawei",
          "Huawei",
          "Huawei",
          "Huawei",
          "Huawei",
          "Huawei",
          "Huawei",
          "Huawei",
          "Huawei",
          "Huawei",
          "Huawei",
          "Huawei",
          "Huawei",
          "Huawei",
          "Huawei",
          "Huawei",
          "Huawei",
          "Huawei",
          "Huawei",
          "Huawei",
          "Huawei",
          "Huawei",
          "Huawei",
          "Huawei",
          "Huawei",
          "Huawei",
          "Huawei",
          "Huawei",
          "Huawei",
          "Huawei",
          "Huawei",
          "Huawei",
          "Huawei",
          "Huawei",
          "Huawei",
          "Huawei",
          "Huawei",
          "Huawei",
          "Huawei",
          "Huawei",
          "Huawei",
          "Huawei",
          "Huawei",
          "Huawei",
          "Huawei",
          "Huawei",
          "Huawei",
          "Huawei",
          "Huawei",
          "Huawei",
          "Huawei",
          "Huawei",
          "Huawei",
          "Huawei",
          "Huawei",
          "Huawei",
          "Huawei",
          "Huawei",
          "Huawei",
          "Huawei",
          "Huawei",
          "Huawei",
          "Huawei",
          "Huawei",
          "Huawei",
          "Huawei",
          "Huawei",
          "Huawei",
          "Huawei",
          "Huawei",
          "Huawei",
          "Infinix",
          "Infinix",
          "Infinix",
          "Infinix",
          "Infinix",
          "Infinix",
          "Infinix",
          "Infinix",
          "Infinix",
          "Infinix",
          "Infinix",
          "Infinix",
          "Infinix",
          "Infinix",
          "Infinix",
          "Infinix",
          "Infinix",
          "Infinix",
          "Infinix",
          "Infinix",
          "Infinix",
          "Infinix",
          "Infinix",
          "Infinix",
          "Infinix",
          "Infinix",
          "Infinix",
          "Infinix",
          "Infinix",
          "Infinix",
          "Infinix",
          "Infinix",
          "Infinix",
          "Infinix",
          "Infinix",
          "Infinix",
          "Infinix",
          "Infinix",
          "Infinix",
          "Infinix",
          "Infinix",
          "Infinix",
          "Infinix",
          "Infinix",
          "Infinix",
          "Infinix",
          "Infinix",
          "Infinix",
          "Infinix",
          "Infinix",
          "Infinix",
          "Infinix",
          "Infinix",
          "Infinix",
          "Infinix",
          "Infinix",
          "Infinix",
          "Infinix",
          "Infinix",
          "Infinix",
          "Infinix",
          "Infinix",
          "Infinix",
          "Infinix",
          "Infinix",
          "Infinix",
          "Infinix",
          "Infinix",
          "Infinix",
          "Infinix",
          "Infinix",
          "Infinix",
          "Infinix",
          "Infinix",
          "Infinix",
          "Infinix",
          "Infinix",
          "Infinix",
          "Infinix",
          "Infinix",
          "Infinix",
          "Infinix",
          "Infinix",
          "Infinix",
          "Infinix",
          "Infinix",
          "Infinix",
          "Infinix",
          "Infinix",
          "Infinix",
          "Infinix",
          "Infinix",
          "Infinix",
          "Infinix",
          "Infinix",
          "Infinix",
          "Infinix",
          "Infinix",
          "Infinix",
          "Infinix",
          "Infinix",
          "Infinix",
          "Infinix",
          "Infinix",
          "Infinix",
          "Infinix",
          "Infinix",
          "Lenovo",
          "Lenovo",
          "Lenovo",
          "Lenovo",
          "Lenovo",
          "Lenovo",
          "Lenovo",
          "Lenovo",
          "Lenovo",
          "Lenovo",
          "Lenovo",
          "Lenovo",
          "Microsoft",
          "Microsoft",
          "Nokia",
          "Nokia",
          "Nokia",
          "Nokia",
          "Nokia",
          "Nokia",
          "Nokia",
          "Nokia",
          "Nokia",
          "Nokia",
          "Nokia",
          "Nokia",
          "Nokia",
          "Nokia",
          "Nokia",
          "Nokia",
          "Nokia",
          "Nokia",
          "Nokia",
          "Nokia",
          "Nokia",
          "Nokia",
          "Nokia",
          "Nokia",
          "Nokia",
          "Nokia",
          "Nokia",
          "Nokia",
          "Nokia",
          "Nokia",
          "Nokia",
          "Nokia",
          "Nokia",
          "Nokia",
          "Nokia",
          "Nokia",
          "Nokia",
          "Nokia",
          "Nokia",
          "Nokia",
          "Nokia",
          "Nokia",
          "Nokia",
          "Nokia",
          "Nokia",
          "Nokia",
          "Nokia",
          "Nokia",
          "Nokia",
          "Nokia",
          "Nokia",
          "Nokia",
          "Nokia",
          "Nokia",
          "Nokia",
          "Nokia",
          "Nokia",
          "Nokia",
          "Nokia",
          "Nokia",
          "Nokia",
          "Nokia",
          "Nokia",
          "Nokia",
          "Nokia",
          "Nokia",
          "Nokia",
          "Nokia",
          "Nokia",
          "Nokia",
          "Nokia",
          "Nokia",
          "Nokia",
          "Nokia",
          "Nokia",
          "Nokia",
          "Nokia",
          "Nokia",
          "Nokia",
          "Nokia",
          "Nokia",
          "Nokia",
          "Nokia",
          "Nokia",
          "Nokia",
          "Nokia",
          "Nokia",
          "Nokia",
          "Nokia",
          "Nokia",
          "Nokia",
          "Nokia",
          "Nokia",
          "Nokia",
          "Nokia",
          "Nokia",
          "Nokia",
          "Nokia",
          "Nokia",
          "Nokia",
          "Nothing",
          "Nothing",
          "Nothing",
          "Nothing",
          "Nothing",
          "Nothing",
          "Nothing",
          "OnePlus",
          "OnePlus",
          "OnePlus",
          "OnePlus",
          "OnePlus",
          "OnePlus",
          "OnePlus",
          "OnePlus",
          "OnePlus",
          "OnePlus",
          "OnePlus",
          "OnePlus",
          "OnePlus",
          "OnePlus",
          "OnePlus",
          "OnePlus",
          "OnePlus",
          "OnePlus",
          "OnePlus",
          "OnePlus",
          "OnePlus",
          "OnePlus",
          "OnePlus",
          "OnePlus",
          "OnePlus",
          "OnePlus",
          "OnePlus",
          "OnePlus",
          "OnePlus",
          "OnePlus",
          "OnePlus",
          "OnePlus",
          "OnePlus",
          "OnePlus",
          "OnePlus",
          "OnePlus",
          "OnePlus",
          "OnePlus",
          "OnePlus",
          "OnePlus",
          "OnePlus",
          "OnePlus",
          "OnePlus",
          "OnePlus",
          "OnePlus",
          "OnePlus",
          "OnePlus",
          "OnePlus",
          "OnePlus",
          "OnePlus",
          "OnePlus",
          "OnePlus",
          "OnePlus",
          "Oppo",
          "Oppo",
          "Oppo",
          "Oppo",
          "Oppo",
          "Oppo",
          "Oppo",
          "Oppo",
          "Oppo",
          "Oppo",
          "Oppo",
          "Oppo",
          "Oppo",
          "Oppo",
          "Oppo",
          "Oppo",
          "Oppo",
          "Oppo",
          "Oppo",
          "Oppo",
          "Oppo",
          "Oppo",
          "Oppo",
          "Oppo",
          "Oppo",
          "Oppo",
          "Oppo",
          "Oppo",
          "Oppo",
          "Oppo",
          "Oppo",
          "Oppo",
          "Oppo",
          "Oppo",
          "Oppo",
          "Oppo",
          "Oppo",
          "Oppo",
          "Oppo",
          "Oppo",
          "Oppo",
          "Oppo",
          "Oppo",
          "Oppo",
          "Oppo",
          "Oppo",
          "Oppo",
          "Oppo",
          "Oppo",
          "Oppo",
          "Oppo",
          "Oppo",
          "Oppo",
          "Oppo",
          "Oppo",
          "Oppo",
          "Oppo",
          "Oppo",
          "Oppo",
          "Oppo",
          "Oppo",
          "Oppo",
          "Oppo",
          "Oppo",
          "Oppo",
          "Oppo",
          "Oppo",
          "Oppo",
          "Oppo",
          "Oppo",
          "Oppo",
          "Oppo",
          "Oppo",
          "Oppo",
          "Oppo",
          "Oppo",
          "Oppo",
          "Oppo",
          "Oppo",
          "Oppo",
          "Oppo",
          "Oppo",
          "Oppo",
          "Oppo",
          "Oppo",
          "Oppo",
          "Oppo",
          "Oppo",
          "Oppo",
          "Oppo",
          "Oppo",
          "Oppo",
          "Oppo",
          "Oppo",
          "Oppo",
          "Oppo",
          "Oppo",
          "Oppo",
          "Oppo",
          "Oppo",
          "Oppo",
          "Oppo",
          "Oppo",
          "Oppo",
          "Oppo",
          "Oppo",
          "Oppo",
          "Oppo",
          "Oppo",
          "Oppo",
          "Oppo",
          "Oppo",
          "Oppo",
          "Oppo",
          "Oppo",
          "Oppo",
          "Oppo",
          "Oppo",
          "Oppo",
          "Oppo",
          "Oppo",
          "Oppo",
          "Oppo",
          "Oppo",
          "Oppo",
          "Oppo",
          "Oppo",
          "Oppo",
          "Oppo",
          "Oppo",
          "Oppo",
          "Oppo",
          "Oppo",
          "Oppo",
          "Oppo",
          "Oppo",
          "Oppo",
          "Oppo",
          "Oppo",
          "Oppo",
          "Oppo",
          "Oppo",
          "Oppo",
          "Oppo",
          "Oppo",
          "Oppo",
          "Oppo",
          "Oppo",
          "Oppo",
          "Oppo",
          "Oppo",
          "Oppo",
          "Oppo",
          "Oppo",
          "Oppo",
          "Oppo",
          "Oppo",
          "Oppo",
          "Oppo",
          "Oppo",
          "Oppo",
          "Oppo",
          "Oppo",
          "Oppo",
          "Oppo",
          "Oppo",
          "Oppo",
          "Oppo",
          "Oppo",
          "Oppo",
          "Oppo",
          "Oppo",
          "Oppo",
          "Oppo",
          "Oppo",
          "Oppo",
          "Oppo",
          "Oppo",
          "Oppo",
          "Oppo",
          "Oppo",
          "Oppo",
          "Oppo",
          "Oppo",
          "Oppo",
          "Oppo",
          "Oppo",
          "Oppo",
          "Oppo",
          "Oppo",
          "Oppo",
          "Oppo",
          "Oppo",
          "Oppo",
          "Oppo",
          "Oppo",
          "Oppo",
          "Oppo",
          "Oppo",
          "Oppo",
          "Oppo",
          "Oppo",
          "Oppo",
          "Oppo",
          "Oppo",
          "Realme",
          "Realme",
          "Realme",
          "Realme",
          "Realme",
          "Realme",
          "Realme",
          "Realme",
          "Realme",
          "Realme",
          "Realme",
          "Realme",
          "Realme",
          "Realme",
          "Realme",
          "Realme",
          "Realme",
          "Realme",
          "Realme",
          "Realme",
          "Realme",
          "Realme",
          "Realme",
          "Realme",
          "Realme",
          "Realme",
          "Realme",
          "Realme",
          "Realme",
          "Realme",
          "Realme",
          "Realme",
          "Realme",
          "Realme",
          "Realme",
          "Realme",
          "Realme",
          "Realme",
          "Realme",
          "Realme",
          "Realme",
          "Realme",
          "Realme",
          "Realme",
          "Realme",
          "Realme",
          "Realme",
          "Realme",
          "Realme",
          "Realme",
          "Realme",
          "Realme",
          "Realme",
          "Realme",
          "Realme",
          "Realme",
          "Realme",
          "Realme",
          "Realme",
          "Realme",
          "Realme",
          "Realme",
          "Realme",
          "Realme",
          "Realme",
          "Realme",
          "Realme",
          "Realme",
          "Realme",
          "Realme",
          "Realme",
          "Realme",
          "Realme",
          "Realme",
          "Realme",
          "Realme",
          "Realme",
          "Realme",
          "Realme",
          "Realme",
          "Realme",
          "Realme",
          "Realme",
          "Realme",
          "Realme",
          "Realme",
          "Realme",
          "Realme",
          "Realme",
          "Realme",
          "Realme",
          "Realme",
          "Realme",
          "Realme",
          "Realme",
          "Realme",
          "Realme",
          "Realme",
          "Realme",
          "Realme",
          "Realme",
          "Realme",
          "Realme",
          "Realme",
          "Realme",
          "Realme",
          "Realme",
          "Realme",
          "Realme",
          "Realme",
          "Realme",
          "Realme",
          "Realme",
          "Realme",
          "Realme",
          "Realme",
          "Realme",
          "Realme",
          "Realme",
          "Realme",
          "Realme",
          "Realme",
          "Realme",
          "Realme",
          "Realme",
          "Realme",
          "Realme",
          "Realme",
          "Realme",
          "Realme",
          "Realme",
          "Realme",
          "Realme",
          "Realme",
          "Realme",
          "Realme",
          "Realme",
          "Realme",
          "Realme",
          "Realme",
          "Realme",
          "Realme",
          "Realme",
          "Realme",
          "Realme",
          "Realme",
          "Realme",
          "Realme",
          "Realme",
          "Realme",
          "Realme",
          "Realme",
          "Realme",
          "Realme",
          "Realme",
          "Realme",
          "Realme",
          "Realme",
          "Realme",
          "Realme",
          "Realme",
          "Realme",
          "Realme",
          "Realme",
          "Realme",
          "Realme",
          "Realme",
          "Realme",
          "Realme",
          "Realme",
          "Realme",
          "Realme",
          "Realme",
          "Realme",
          "Realme",
          "Realme",
          "Realme",
          "Realme",
          "Realme",
          "Realme",
          "Realme",
          "Realme",
          "Realme",
          "Realme",
          "Realme",
          "Realme",
          "Realme",
          "Realme",
          "Realme",
          "Realme",
          "Realme",
          "Realme",
          "Realme",
          "Realme",
          "Realme",
          "Realme",
          "Realme",
          "Realme",
          "Samsung",
          "Samsung",
          "Samsung",
          "Samsung",
          "Samsung",
          "Samsung",
          "Samsung",
          "Samsung",
          "Samsung",
          "Samsung",
          "Samsung",
          "Samsung",
          "Samsung",
          "Samsung",
          "Samsung",
          "Samsung",
          "Samsung",
          "Samsung",
          "Samsung",
          "Samsung",
          "Samsung",
          "Samsung",
          "Samsung",
          "Samsung",
          "Samsung",
          "Samsung",
          "Samsung",
          "Samsung",
          "Samsung",
          "Samsung",
          "Samsung",
          "Samsung",
          "Samsung",
          "Samsung",
          "Samsung",
          "Samsung",
          "Samsung",
          "Samsung",
          "Samsung",
          "Samsung",
          "Samsung",
          "Samsung",
          "Samsung",
          "Samsung",
          "Samsung",
          "Samsung",
          "Samsung",
          "Samsung",
          "Samsung",
          "Samsung",
          "Samsung",
          "Samsung",
          "Samsung",
          "Samsung",
          "Samsung",
          "Samsung",
          "Samsung",
          "Samsung",
          "Samsung",
          "Samsung",
          "Samsung",
          "Samsung",
          "Samsung",
          "Samsung",
          "Samsung",
          "Samsung",
          "Samsung",
          "Samsung",
          "Samsung",
          "Samsung",
          "Samsung",
          "Samsung",
          "Samsung",
          "Samsung",
          "Samsung",
          "Samsung",
          "Samsung",
          "Samsung",
          "Samsung",
          "Samsung",
          "Samsung",
          "Samsung",
          "Samsung",
          "Samsung",
          "Samsung",
          "Samsung",
          "Samsung",
          "Samsung",
          "Samsung",
          "Samsung",
          "Samsung",
          "Samsung",
          "Samsung",
          "Samsung",
          "Samsung",
          "Samsung",
          "Samsung",
          "Samsung",
          "Samsung",
          "Samsung",
          "Samsung",
          "Samsung",
          "Samsung",
          "Samsung",
          "Samsung",
          "Samsung",
          "Samsung",
          "Samsung",
          "Samsung",
          "Samsung",
          "Samsung",
          "Samsung",
          "Samsung",
          "Samsung",
          "Samsung",
          "Samsung",
          "Samsung",
          "Samsung",
          "Samsung",
          "Samsung",
          "Samsung",
          "Samsung",
          "Samsung",
          "Samsung",
          "Samsung",
          "Samsung",
          "Samsung",
          "Samsung",
          "Samsung",
          "Samsung",
          "Samsung",
          "Samsung",
          "Samsung",
          "Samsung",
          "Samsung",
          "Samsung",
          "Samsung",
          "Samsung",
          "Samsung",
          "Samsung",
          "Samsung",
          "Samsung",
          "Samsung",
          "Samsung",
          "Samsung",
          "Samsung",
          "Samsung",
          "Samsung",
          "Samsung",
          "Samsung",
          "Samsung",
          "Samsung",
          "Samsung",
          "Samsung",
          "Samsung",
          "Samsung",
          "Samsung",
          "Samsung",
          "Samsung",
          "Samsung",
          "Samsung",
          "Samsung",
          "Samsung",
          "Samsung",
          "Samsung",
          "Samsung",
          "Samsung",
          "Samsung",
          "Samsung",
          "Samsung",
          "Samsung",
          "Samsung",
          "Sony",
          "Sony",
          "Sony",
          "Sony",
          "Sony",
          "Sony",
          "Sony",
          "Sony",
          "Sony",
          "Sony",
          "Sony",
          "Sony",
          "Sony",
          "Sony",
          "Sony",
          "Sony",
          "Sony",
          "Sony",
          "Xiaomi",
          "Xiaomi",
          "Xiaomi",
          "Xiaomi",
          "Xiaomi",
          "Xiaomi",
          "Xiaomi",
          "Xiaomi",
          "Xiaomi",
          "Xiaomi",
          "Xiaomi",
          "Xiaomi",
          "Xiaomi",
          "Xiaomi",
          "Xiaomi",
          "Xiaomi",
          "Xiaomi",
          "Xiaomi",
          "Xiaomi",
          "Xiaomi",
          "Xiaomi",
          "Xiaomi",
          "Xiaomi",
          "Xiaomi",
          "Xiaomi",
          "Xiaomi",
          "Xiaomi",
          "Xiaomi",
          "Xiaomi",
          "Xiaomi",
          "Xiaomi",
          "Xiaomi",
          "Xiaomi",
          "Xiaomi",
          "Xiaomi",
          "Xiaomi",
          "Xiaomi",
          "Xiaomi",
          "Xiaomi",
          "Xiaomi",
          "Xiaomi",
          "Xiaomi",
          "Xiaomi",
          "Xiaomi",
          "Xiaomi",
          "Xiaomi",
          "Xiaomi",
          "Xiaomi",
          "Xiaomi",
          "Xiaomi",
          "Xiaomi",
          "Xiaomi",
          "Xiaomi",
          "Xiaomi",
          "Xiaomi",
          "Xiaomi",
          "Xiaomi",
          "Xiaomi",
          "Xiaomi",
          "Xiaomi",
          "Xiaomi",
          "Xiaomi",
          "Xiaomi",
          "Xiaomi",
          "Xiaomi",
          "Xiaomi",
          "Xiaomi",
          "Xiaomi",
          "Xiaomi",
          "Xiaomi",
          "Xiaomi",
          "Xiaomi",
          "Xiaomi",
          "Xiaomi",
          "Xiaomi",
          "Xiaomi",
          "Xiaomi",
          "Xiaomi",
          "Xiaomi",
          "Xiaomi",
          "Xiaomi",
          "Xiaomi",
          "Xiaomi",
          "Xiaomi",
          "Xiaomi",
          "Xiaomi",
          "Xiaomi",
          "Xiaomi",
          "Xiaomi",
          "Xiaomi",
          "Xiaomi",
          "Xiaomi",
          "Xiaomi",
          "Xiaomi",
          "Xiaomi",
          "Xiaomi",
          "Xiaomi",
          "Xiaomi",
          "Xiaomi",
          "Xiaomi",
          "Xiaomi",
          "Xiaomi",
          "Xiaomi",
          "Xiaomi",
          "Xiaomi",
          "Xiaomi",
          "Xiaomi",
          "Xiaomi",
          "Xiaomi",
          "Xiaomi",
          "Xiaomi",
          "Xiaomi",
          "Xiaomi",
          "Xiaomi",
          "Xiaomi",
          "Xiaomi",
          "Xiaomi",
          "Xiaomi",
          "Xiaomi",
          "Xiaomi",
          "Xiaomi",
          "Xiaomi",
          "Xiaomi",
          "Xiaomi",
          "Xiaomi",
          "Xiaomi",
          "Xiaomi",
          "Xiaomi",
          "Xiaomi",
          "Xiaomi",
          "Xiaomi",
          "Xiaomi",
          "Xiaomi",
          "Xiaomi",
          "Xiaomi",
          "Xiaomi",
          "Xiaomi",
          "Xiaomi",
          "Xiaomi",
          "Xiaomi",
          "Xiaomi",
          "Xiaomi",
          "Xiaomi",
          "Xiaomi",
          "Xiaomi",
          "Xiaomi",
          "Xiaomi",
          "Xiaomi",
          "Xiaomi",
          "Xiaomi",
          "Xiaomi",
          "Xiaomi",
          "Xiaomi",
          "Xiaomi",
          "Xiaomi",
          "Xiaomi",
          "Xiaomi",
          "Xiaomi",
          "Xiaomi",
          "Xiaomi",
          "Xiaomi",
          "Xiaomi",
          "Xiaomi",
          "Xiaomi",
          "Xiaomi",
          "Xiaomi",
          "Xiaomi",
          "Xiaomi",
          "Xiaomi",
          "Xiaomi",
          "Xiaomi",
          "Xiaomi",
          "Xiaomi",
          "Xiaomi",
          "Xiaomi",
          "Xiaomi",
          "Xiaomi",
          "Xiaomi",
          "Xiaomi",
          "Xiaomi",
          "Xiaomi",
          "Xiaomi",
          "Xiaomi",
          "Xiaomi",
          "Xiaomi",
          "Xiaomi",
          "Xiaomi",
          "Xiaomi",
          "Xiaomi",
          "Xiaomi",
          "Xiaomi",
          "Xiaomi",
          "Xiaomi",
          "Xiaomi",
          "Xiaomi",
          "Xiaomi",
          "Xiaomi",
          "Xiaomi",
          "Xiaomi",
          "Xiaomi",
          "Xiaomi",
          "Xiaomi",
          "Xiaomi",
          "Xiaomi",
          "Xiaomi",
          "Xiaomi",
          "Xiaomi",
          "Xiaomi",
          "Xiaomi",
          "Xiaomi",
          "Xiaomi",
          "Xiaomi",
          "Xiaomi",
          "Xiaomi",
          "Xiaomi",
          "Xiaomi",
          "Xiaomi",
          "Xiaomi",
          "Xiaomi",
          "Xiaomi",
          "Xiaomi",
          "Xiaomi",
          "Xiaomi",
          "Xiaomi",
          "Xiaomi",
          "Xiaomi",
          "Xiaomi",
          "Xiaomi",
          "Xiaomi",
          "Xiaomi",
          "Xiaomi",
          "Xiaomi",
          "Xiaomi",
          "Xiaomi",
          "Xiaomi",
          "Xiaomi",
          "Xiaomi",
          "Xiaomi",
          "Xiaomi",
          "Xiaomi",
          "Xiaomi",
          "Xiaomi",
          "Xiaomi",
          "Xiaomi",
          "Xiaomi",
          "Xiaomi",
          "Xiaomi",
          "Xiaomi",
          "Xiaomi",
          "Xiaomi",
          "Xiaomi",
          "Xiaomi",
          "Xiaomi",
          "Xiaomi",
          "Xiaomi",
          "Xiaomi",
          "Xiaomi",
          "Xiaomi",
          "Xiaomi",
          "Xiaomi",
          "Xiaomi",
          "Xiaomi",
          "Xiaomi",
          "Xiaomi",
          "Xiaomi",
          "Xiaomi",
          "Xiaomi",
          "Xiaomi",
          "Xiaomi",
          "Xiaomi",
          "Xiaomi",
          "Xiaomi",
          "Xiaomi",
          "Xiaomi",
          "Xiaomi",
          "Xiaomi",
          "Xiaomi"
         ],
         "yaxis": "y",
         "ybingroup": "y",
         "z": {
          "bdata": "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",
          "dtype": "i4"
         }
        }
       ],
       "layout": {
        "coloraxis": {
         "colorbar": {
          "title": {
           "text": "avg of popularity_views"
          }
         },
         "colorscale": [
          [
           0,
           "#0d0887"
          ],
          [
           0.1111111111111111,
           "#46039f"
          ],
          [
           0.2222222222222222,
           "#7201a8"
          ],
          [
           0.3333333333333333,
           "#9c179e"
          ],
          [
           0.4444444444444444,
           "#bd3786"
          ],
          [
           0.5555555555555556,
           "#d8576b"
          ],
          [
           0.6666666666666666,
           "#ed7953"
          ],
          [
           0.7777777777777778,
           "#fb9f3a"
          ],
          [
           0.8888888888888888,
           "#fdca26"
          ],
          [
           1,
           "#f0f921"
          ]
         ]
        },
        "legend": {
         "tracegroupgap": 0
        },
        "margin": {
         "t": 60
        },
        "template": {
         "data": {
          "bar": [
           {
            "error_x": {
             "color": "#2a3f5f"
            },
            "error_y": {
             "color": "#2a3f5f"
            },
            "marker": {
             "line": {
              "color": "#E5ECF6",
              "width": 0.5
             },
             "pattern": {
              "fillmode": "overlay",
              "size": 10,
              "solidity": 0.2
             }
            },
            "type": "bar"
           }
          ],
          "barpolar": [
           {
            "marker": {
             "line": {
              "color": "#E5ECF6",
              "width": 0.5
             },
             "pattern": {
              "fillmode": "overlay",
              "size": 10,
              "solidity": 0.2
             }
            },
            "type": "barpolar"
           }
          ],
          "carpet": [
           {
            "aaxis": {
             "endlinecolor": "#2a3f5f",
             "gridcolor": "white",
             "linecolor": "white",
             "minorgridcolor": "white",
             "startlinecolor": "#2a3f5f"
            },
            "baxis": {
             "endlinecolor": "#2a3f5f",
             "gridcolor": "white",
             "linecolor": "white",
             "minorgridcolor": "white",
             "startlinecolor": "#2a3f5f"
            },
            "type": "carpet"
           }
          ],
          "choropleth": [
           {
            "colorbar": {
             "outlinewidth": 0,
             "ticks": ""
            },
            "type": "choropleth"
           }
          ],
          "contour": [
           {
            "colorbar": {
             "outlinewidth": 0,
             "ticks": ""
            },
            "colorscale": [
             [
              0,
              "#0d0887"
             ],
             [
              0.1111111111111111,
              "#46039f"
             ],
             [
              0.2222222222222222,
              "#7201a8"
             ],
             [
              0.3333333333333333,
              "#9c179e"
             ],
             [
              0.4444444444444444,
              "#bd3786"
             ],
             [
              0.5555555555555556,
              "#d8576b"
             ],
             [
              0.6666666666666666,
              "#ed7953"
             ],
             [
              0.7777777777777778,
              "#fb9f3a"
             ],
             [
              0.8888888888888888,
              "#fdca26"
             ],
             [
              1,
              "#f0f921"
             ]
            ],
            "type": "contour"
           }
          ],
          "contourcarpet": [
           {
            "colorbar": {
             "outlinewidth": 0,
             "ticks": ""
            },
            "type": "contourcarpet"
           }
          ],
          "heatmap": [
           {
            "colorbar": {
             "outlinewidth": 0,
             "ticks": ""
            },
            "colorscale": [
             [
              0,
              "#0d0887"
             ],
             [
              0.1111111111111111,
              "#46039f"
             ],
             [
              0.2222222222222222,
              "#7201a8"
             ],
             [
              0.3333333333333333,
              "#9c179e"
             ],
             [
              0.4444444444444444,
              "#bd3786"
             ],
             [
              0.5555555555555556,
              "#d8576b"
             ],
             [
              0.6666666666666666,
              "#ed7953"
             ],
             [
              0.7777777777777778,
              "#fb9f3a"
             ],
             [
              0.8888888888888888,
              "#fdca26"
             ],
             [
              1,
              "#f0f921"
             ]
            ],
            "type": "heatmap"
           }
          ],
          "histogram": [
           {
            "marker": {
             "pattern": {
              "fillmode": "overlay",
              "size": 10,
              "solidity": 0.2
             }
            },
            "type": "histogram"
           }
          ],
          "histogram2d": [
           {
            "colorbar": {
             "outlinewidth": 0,
             "ticks": ""
            },
            "colorscale": [
             [
              0,
              "#0d0887"
             ],
             [
              0.1111111111111111,
              "#46039f"
             ],
             [
              0.2222222222222222,
              "#7201a8"
             ],
             [
              0.3333333333333333,
              "#9c179e"
             ],
             [
              0.4444444444444444,
              "#bd3786"
             ],
             [
              0.5555555555555556,
              "#d8576b"
             ],
             [
              0.6666666666666666,
              "#ed7953"
             ],
             [
              0.7777777777777778,
              "#fb9f3a"
             ],
             [
              0.8888888888888888,
              "#fdca26"
             ],
             [
              1,
              "#f0f921"
             ]
            ],
            "type": "histogram2d"
           }
          ],
          "histogram2dcontour": [
           {
            "colorbar": {
             "outlinewidth": 0,
             "ticks": ""
            },
            "colorscale": [
             [
              0,
              "#0d0887"
             ],
             [
              0.1111111111111111,
              "#46039f"
             ],
             [
              0.2222222222222222,
              "#7201a8"
             ],
             [
              0.3333333333333333,
              "#9c179e"
             ],
             [
              0.4444444444444444,
              "#bd3786"
             ],
             [
              0.5555555555555556,
              "#d8576b"
             ],
             [
              0.6666666666666666,
              "#ed7953"
             ],
             [
              0.7777777777777778,
              "#fb9f3a"
             ],
             [
              0.8888888888888888,
              "#fdca26"
             ],
             [
              1,
              "#f0f921"
             ]
            ],
            "type": "histogram2dcontour"
           }
          ],
          "mesh3d": [
           {
            "colorbar": {
             "outlinewidth": 0,
             "ticks": ""
            },
            "type": "mesh3d"
           }
          ],
          "parcoords": [
           {
            "line": {
             "colorbar": {
              "outlinewidth": 0,
              "ticks": ""
             }
            },
            "type": "parcoords"
           }
          ],
          "pie": [
           {
            "automargin": true,
            "type": "pie"
           }
          ],
          "scatter": [
           {
            "fillpattern": {
             "fillmode": "overlay",
             "size": 10,
             "solidity": 0.2
            },
            "type": "scatter"
           }
          ],
          "scatter3d": [
           {
            "line": {
             "colorbar": {
              "outlinewidth": 0,
              "ticks": ""
             }
            },
            "marker": {
             "colorbar": {
              "outlinewidth": 0,
              "ticks": ""
             }
            },
            "type": "scatter3d"
           }
          ],
          "scattercarpet": [
           {
            "marker": {
             "colorbar": {
              "outlinewidth": 0,
              "ticks": ""
             }
            },
            "type": "scattercarpet"
           }
          ],
          "scattergeo": [
           {
            "marker": {
             "colorbar": {
              "outlinewidth": 0,
              "ticks": ""
             }
            },
            "type": "scattergeo"
           }
          ],
          "scattergl": [
           {
            "marker": {
             "colorbar": {
              "outlinewidth": 0,
              "ticks": ""
             }
            },
            "type": "scattergl"
           }
          ],
          "scattermap": [
           {
            "marker": {
             "colorbar": {
              "outlinewidth": 0,
              "ticks": ""
             }
            },
            "type": "scattermap"
           }
          ],
          "scattermapbox": [
           {
            "marker": {
             "colorbar": {
              "outlinewidth": 0,
              "ticks": ""
             }
            },
            "type": "scattermapbox"
           }
          ],
          "scatterpolar": [
           {
            "marker": {
             "colorbar": {
              "outlinewidth": 0,
              "ticks": ""
             }
            },
            "type": "scatterpolar"
           }
          ],
          "scatterpolargl": [
           {
            "marker": {
             "colorbar": {
              "outlinewidth": 0,
              "ticks": ""
             }
            },
            "type": "scatterpolargl"
           }
          ],
          "scatterternary": [
           {
            "marker": {
             "colorbar": {
              "outlinewidth": 0,
              "ticks": ""
             }
            },
            "type": "scatterternary"
           }
          ],
          "surface": [
           {
            "colorbar": {
             "outlinewidth": 0,
             "ticks": ""
            },
            "colorscale": [
             [
              0,
              "#0d0887"
             ],
             [
              0.1111111111111111,
              "#46039f"
             ],
             [
              0.2222222222222222,
              "#7201a8"
             ],
             [
              0.3333333333333333,
              "#9c179e"
             ],
             [
              0.4444444444444444,
              "#bd3786"
             ],
             [
              0.5555555555555556,
              "#d8576b"
             ],
             [
              0.6666666666666666,
              "#ed7953"
             ],
             [
              0.7777777777777778,
              "#fb9f3a"
             ],
             [
              0.8888888888888888,
              "#fdca26"
             ],
             [
              1,
              "#f0f921"
             ]
            ],
            "type": "surface"
           }
          ],
          "table": [
           {
            "cells": {
             "fill": {
              "color": "#EBF0F8"
             },
             "line": {
              "color": "white"
             }
            },
            "header": {
             "fill": {
              "color": "#C8D4E3"
             },
             "line": {
              "color": "white"
             }
            },
            "type": "table"
           }
          ]
         },
         "layout": {
          "annotationdefaults": {
           "arrowcolor": "#2a3f5f",
           "arrowhead": 0,
           "arrowwidth": 1
          },
          "autotypenumbers": "strict",
          "coloraxis": {
           "colorbar": {
            "outlinewidth": 0,
            "ticks": ""
           }
          },
          "colorscale": {
           "diverging": [
            [
             0,
             "#8e0152"
            ],
            [
             0.1,
             "#c51b7d"
            ],
            [
             0.2,
             "#de77ae"
            ],
            [
             0.3,
             "#f1b6da"
            ],
            [
             0.4,
             "#fde0ef"
            ],
            [
             0.5,
             "#f7f7f7"
            ],
            [
             0.6,
             "#e6f5d0"
            ],
            [
             0.7,
             "#b8e186"
            ],
            [
             0.8,
             "#7fbc41"
            ],
            [
             0.9,
             "#4d9221"
            ],
            [
             1,
             "#276419"
            ]
           ],
           "sequential": [
            [
             0,
             "#0d0887"
            ],
            [
             0.1111111111111111,
             "#46039f"
            ],
            [
             0.2222222222222222,
             "#7201a8"
            ],
            [
             0.3333333333333333,
             "#9c179e"
            ],
            [
             0.4444444444444444,
             "#bd3786"
            ],
            [
             0.5555555555555556,
             "#d8576b"
            ],
            [
             0.6666666666666666,
             "#ed7953"
            ],
            [
             0.7777777777777778,
             "#fb9f3a"
            ],
            [
             0.8888888888888888,
             "#fdca26"
            ],
            [
             1,
             "#f0f921"
            ]
           ],
           "sequentialminus": [
            [
             0,
             "#0d0887"
            ],
            [
             0.1111111111111111,
             "#46039f"
            ],
            [
             0.2222222222222222,
             "#7201a8"
            ],
            [
             0.3333333333333333,
             "#9c179e"
            ],
            [
             0.4444444444444444,
             "#bd3786"
            ],
            [
             0.5555555555555556,
             "#d8576b"
            ],
            [
             0.6666666666666666,
             "#ed7953"
            ],
            [
             0.7777777777777778,
             "#fb9f3a"
            ],
            [
             0.8888888888888888,
             "#fdca26"
            ],
            [
             1,
             "#f0f921"
            ]
           ]
          },
          "colorway": [
           "#636efa",
           "#EF553B",
           "#00cc96",
           "#ab63fa",
           "#FFA15A",
           "#19d3f3",
           "#FF6692",
           "#B6E880",
           "#FF97FF",
           "#FECB52"
          ],
          "font": {
           "color": "#2a3f5f"
          },
          "geo": {
           "bgcolor": "white",
           "lakecolor": "white",
           "landcolor": "#E5ECF6",
           "showlakes": true,
           "showland": true,
           "subunitcolor": "white"
          },
          "hoverlabel": {
           "align": "left"
          },
          "hovermode": "closest",
          "mapbox": {
           "style": "light"
          },
          "paper_bgcolor": "white",
          "plot_bgcolor": "#E5ECF6",
          "polar": {
           "angularaxis": {
            "gridcolor": "white",
            "linecolor": "white",
            "ticks": ""
           },
           "bgcolor": "#E5ECF6",
           "radialaxis": {
            "gridcolor": "white",
            "linecolor": "white",
            "ticks": ""
           }
          },
          "scene": {
           "xaxis": {
            "backgroundcolor": "#E5ECF6",
            "gridcolor": "white",
            "gridwidth": 2,
            "linecolor": "white",
            "showbackground": true,
            "ticks": "",
            "zerolinecolor": "white"
           },
           "yaxis": {
            "backgroundcolor": "#E5ECF6",
            "gridcolor": "white",
            "gridwidth": 2,
            "linecolor": "white",
            "showbackground": true,
            "ticks": "",
            "zerolinecolor": "white"
           },
           "zaxis": {
            "backgroundcolor": "#E5ECF6",
            "gridcolor": "white",
            "gridwidth": 2,
            "linecolor": "white",
            "showbackground": true,
            "ticks": "",
            "zerolinecolor": "white"
           }
          },
          "shapedefaults": {
           "line": {
            "color": "#2a3f5f"
           }
          },
          "ternary": {
           "aaxis": {
            "gridcolor": "white",
            "linecolor": "white",
            "ticks": ""
           },
           "baxis": {
            "gridcolor": "white",
            "linecolor": "white",
            "ticks": ""
           },
           "bgcolor": "#E5ECF6",
           "caxis": {
            "gridcolor": "white",
            "linecolor": "white",
            "ticks": ""
           }
          },
          "title": {
           "x": 0.05
          },
          "xaxis": {
           "automargin": true,
           "gridcolor": "white",
           "linecolor": "white",
           "ticks": "",
           "title": {
            "standoff": 15
           },
           "zerolinecolor": "white",
           "zerolinewidth": 2
          },
          "yaxis": {
           "automargin": true,
           "gridcolor": "white",
           "linecolor": "white",
           "ticks": "",
           "title": {
            "standoff": 15
           },
           "zerolinecolor": "white",
           "zerolinewidth": 2
          }
         }
        },
        "xaxis": {
         "anchor": "y",
         "domain": [
          0,
          1
         ],
         "title": {
          "text": "release_year"
         }
        },
        "yaxis": {
         "anchor": "x",
         "domain": [
          0,
          1
         ],
         "title": {
          "text": "brand"
         }
        }
       }
      }
     },
     "metadata": {},
     "output_type": "display_data"
    }
   ],
   "source": [
    "pdf = df\n",
    "px.density_heatmap(pdf, x='release_year', y='brand', z='popularity_views', histfunc='avg')"
   ]
  },
  {
   "cell_type": "markdown",
   "id": "d1485429",
   "metadata": {},
   "source": [
    "Apple recieves the most amount of views on average."
   ]
  },
  {
   "cell_type": "code",
   "execution_count": 10,
   "id": "190e4400",
   "metadata": {},
   "outputs": [
    {
     "data": {
      "application/vnd.plotly.v1+json": {
       "config": {
        "plotlyServerURL": "https://plot.ly"
       },
       "data": [
        {
         "hovertemplate": "nfc=False<br>release_year=%{x}<br>counts=%{y}<extra></extra>",
         "legendgroup": "False",
         "marker": {
          "color": "#636efa",
          "pattern": {
           "shape": ""
          }
         },
         "name": "False",
         "orientation": "v",
         "showlegend": true,
         "textposition": "auto",
         "type": "bar",
         "x": {
          "bdata": "AAAAAACQn0AAAAAAAJSfQAAAAAAAmJ9AAAAAAACcn0AAAAAAAKCfQAAAAAAApJ9A",
          "dtype": "f8"
         },
         "xaxis": "x",
         "y": {
          "bdata": "jAB5AFwAPwBHAAsA",
          "dtype": "i2"
         },
         "yaxis": "y"
        },
        {
         "hovertemplate": "nfc=True<br>release_year=%{x}<br>counts=%{y}<extra></extra>",
         "legendgroup": "True",
         "marker": {
          "color": "#EF553B",
          "pattern": {
           "shape": ""
          }
         },
         "name": "True",
         "orientation": "v",
         "showlegend": true,
         "textposition": "auto",
         "type": "bar",
         "x": {
          "bdata": "AAAAAACQn0AAAAAAAJSfQAAAAAAAmJ9AAAAAAACcn0AAAAAAAKCfQAAAAAAApJ9A",
          "dtype": "f8"
         },
         "xaxis": "x",
         "y": {
          "bdata": "kQC0ALYAnAChACUA",
          "dtype": "i2"
         },
         "yaxis": "y"
        }
       ],
       "layout": {
        "barmode": "relative",
        "legend": {
         "title": {
          "text": "nfc"
         },
         "tracegroupgap": 0
        },
        "margin": {
         "t": 60
        },
        "template": {
         "data": {
          "bar": [
           {
            "error_x": {
             "color": "#2a3f5f"
            },
            "error_y": {
             "color": "#2a3f5f"
            },
            "marker": {
             "line": {
              "color": "#E5ECF6",
              "width": 0.5
             },
             "pattern": {
              "fillmode": "overlay",
              "size": 10,
              "solidity": 0.2
             }
            },
            "type": "bar"
           }
          ],
          "barpolar": [
           {
            "marker": {
             "line": {
              "color": "#E5ECF6",
              "width": 0.5
             },
             "pattern": {
              "fillmode": "overlay",
              "size": 10,
              "solidity": 0.2
             }
            },
            "type": "barpolar"
           }
          ],
          "carpet": [
           {
            "aaxis": {
             "endlinecolor": "#2a3f5f",
             "gridcolor": "white",
             "linecolor": "white",
             "minorgridcolor": "white",
             "startlinecolor": "#2a3f5f"
            },
            "baxis": {
             "endlinecolor": "#2a3f5f",
             "gridcolor": "white",
             "linecolor": "white",
             "minorgridcolor": "white",
             "startlinecolor": "#2a3f5f"
            },
            "type": "carpet"
           }
          ],
          "choropleth": [
           {
            "colorbar": {
             "outlinewidth": 0,
             "ticks": ""
            },
            "type": "choropleth"
           }
          ],
          "contour": [
           {
            "colorbar": {
             "outlinewidth": 0,
             "ticks": ""
            },
            "colorscale": [
             [
              0,
              "#0d0887"
             ],
             [
              0.1111111111111111,
              "#46039f"
             ],
             [
              0.2222222222222222,
              "#7201a8"
             ],
             [
              0.3333333333333333,
              "#9c179e"
             ],
             [
              0.4444444444444444,
              "#bd3786"
             ],
             [
              0.5555555555555556,
              "#d8576b"
             ],
             [
              0.6666666666666666,
              "#ed7953"
             ],
             [
              0.7777777777777778,
              "#fb9f3a"
             ],
             [
              0.8888888888888888,
              "#fdca26"
             ],
             [
              1,
              "#f0f921"
             ]
            ],
            "type": "contour"
           }
          ],
          "contourcarpet": [
           {
            "colorbar": {
             "outlinewidth": 0,
             "ticks": ""
            },
            "type": "contourcarpet"
           }
          ],
          "heatmap": [
           {
            "colorbar": {
             "outlinewidth": 0,
             "ticks": ""
            },
            "colorscale": [
             [
              0,
              "#0d0887"
             ],
             [
              0.1111111111111111,
              "#46039f"
             ],
             [
              0.2222222222222222,
              "#7201a8"
             ],
             [
              0.3333333333333333,
              "#9c179e"
             ],
             [
              0.4444444444444444,
              "#bd3786"
             ],
             [
              0.5555555555555556,
              "#d8576b"
             ],
             [
              0.6666666666666666,
              "#ed7953"
             ],
             [
              0.7777777777777778,
              "#fb9f3a"
             ],
             [
              0.8888888888888888,
              "#fdca26"
             ],
             [
              1,
              "#f0f921"
             ]
            ],
            "type": "heatmap"
           }
          ],
          "histogram": [
           {
            "marker": {
             "pattern": {
              "fillmode": "overlay",
              "size": 10,
              "solidity": 0.2
             }
            },
            "type": "histogram"
           }
          ],
          "histogram2d": [
           {
            "colorbar": {
             "outlinewidth": 0,
             "ticks": ""
            },
            "colorscale": [
             [
              0,
              "#0d0887"
             ],
             [
              0.1111111111111111,
              "#46039f"
             ],
             [
              0.2222222222222222,
              "#7201a8"
             ],
             [
              0.3333333333333333,
              "#9c179e"
             ],
             [
              0.4444444444444444,
              "#bd3786"
             ],
             [
              0.5555555555555556,
              "#d8576b"
             ],
             [
              0.6666666666666666,
              "#ed7953"
             ],
             [
              0.7777777777777778,
              "#fb9f3a"
             ],
             [
              0.8888888888888888,
              "#fdca26"
             ],
             [
              1,
              "#f0f921"
             ]
            ],
            "type": "histogram2d"
           }
          ],
          "histogram2dcontour": [
           {
            "colorbar": {
             "outlinewidth": 0,
             "ticks": ""
            },
            "colorscale": [
             [
              0,
              "#0d0887"
             ],
             [
              0.1111111111111111,
              "#46039f"
             ],
             [
              0.2222222222222222,
              "#7201a8"
             ],
             [
              0.3333333333333333,
              "#9c179e"
             ],
             [
              0.4444444444444444,
              "#bd3786"
             ],
             [
              0.5555555555555556,
              "#d8576b"
             ],
             [
              0.6666666666666666,
              "#ed7953"
             ],
             [
              0.7777777777777778,
              "#fb9f3a"
             ],
             [
              0.8888888888888888,
              "#fdca26"
             ],
             [
              1,
              "#f0f921"
             ]
            ],
            "type": "histogram2dcontour"
           }
          ],
          "mesh3d": [
           {
            "colorbar": {
             "outlinewidth": 0,
             "ticks": ""
            },
            "type": "mesh3d"
           }
          ],
          "parcoords": [
           {
            "line": {
             "colorbar": {
              "outlinewidth": 0,
              "ticks": ""
             }
            },
            "type": "parcoords"
           }
          ],
          "pie": [
           {
            "automargin": true,
            "type": "pie"
           }
          ],
          "scatter": [
           {
            "fillpattern": {
             "fillmode": "overlay",
             "size": 10,
             "solidity": 0.2
            },
            "type": "scatter"
           }
          ],
          "scatter3d": [
           {
            "line": {
             "colorbar": {
              "outlinewidth": 0,
              "ticks": ""
             }
            },
            "marker": {
             "colorbar": {
              "outlinewidth": 0,
              "ticks": ""
             }
            },
            "type": "scatter3d"
           }
          ],
          "scattercarpet": [
           {
            "marker": {
             "colorbar": {
              "outlinewidth": 0,
              "ticks": ""
             }
            },
            "type": "scattercarpet"
           }
          ],
          "scattergeo": [
           {
            "marker": {
             "colorbar": {
              "outlinewidth": 0,
              "ticks": ""
             }
            },
            "type": "scattergeo"
           }
          ],
          "scattergl": [
           {
            "marker": {
             "colorbar": {
              "outlinewidth": 0,
              "ticks": ""
             }
            },
            "type": "scattergl"
           }
          ],
          "scattermap": [
           {
            "marker": {
             "colorbar": {
              "outlinewidth": 0,
              "ticks": ""
             }
            },
            "type": "scattermap"
           }
          ],
          "scattermapbox": [
           {
            "marker": {
             "colorbar": {
              "outlinewidth": 0,
              "ticks": ""
             }
            },
            "type": "scattermapbox"
           }
          ],
          "scatterpolar": [
           {
            "marker": {
             "colorbar": {
              "outlinewidth": 0,
              "ticks": ""
             }
            },
            "type": "scatterpolar"
           }
          ],
          "scatterpolargl": [
           {
            "marker": {
             "colorbar": {
              "outlinewidth": 0,
              "ticks": ""
             }
            },
            "type": "scatterpolargl"
           }
          ],
          "scatterternary": [
           {
            "marker": {
             "colorbar": {
              "outlinewidth": 0,
              "ticks": ""
             }
            },
            "type": "scatterternary"
           }
          ],
          "surface": [
           {
            "colorbar": {
             "outlinewidth": 0,
             "ticks": ""
            },
            "colorscale": [
             [
              0,
              "#0d0887"
             ],
             [
              0.1111111111111111,
              "#46039f"
             ],
             [
              0.2222222222222222,
              "#7201a8"
             ],
             [
              0.3333333333333333,
              "#9c179e"
             ],
             [
              0.4444444444444444,
              "#bd3786"
             ],
             [
              0.5555555555555556,
              "#d8576b"
             ],
             [
              0.6666666666666666,
              "#ed7953"
             ],
             [
              0.7777777777777778,
              "#fb9f3a"
             ],
             [
              0.8888888888888888,
              "#fdca26"
             ],
             [
              1,
              "#f0f921"
             ]
            ],
            "type": "surface"
           }
          ],
          "table": [
           {
            "cells": {
             "fill": {
              "color": "#EBF0F8"
             },
             "line": {
              "color": "white"
             }
            },
            "header": {
             "fill": {
              "color": "#C8D4E3"
             },
             "line": {
              "color": "white"
             }
            },
            "type": "table"
           }
          ]
         },
         "layout": {
          "annotationdefaults": {
           "arrowcolor": "#2a3f5f",
           "arrowhead": 0,
           "arrowwidth": 1
          },
          "autotypenumbers": "strict",
          "coloraxis": {
           "colorbar": {
            "outlinewidth": 0,
            "ticks": ""
           }
          },
          "colorscale": {
           "diverging": [
            [
             0,
             "#8e0152"
            ],
            [
             0.1,
             "#c51b7d"
            ],
            [
             0.2,
             "#de77ae"
            ],
            [
             0.3,
             "#f1b6da"
            ],
            [
             0.4,
             "#fde0ef"
            ],
            [
             0.5,
             "#f7f7f7"
            ],
            [
             0.6,
             "#e6f5d0"
            ],
            [
             0.7,
             "#b8e186"
            ],
            [
             0.8,
             "#7fbc41"
            ],
            [
             0.9,
             "#4d9221"
            ],
            [
             1,
             "#276419"
            ]
           ],
           "sequential": [
            [
             0,
             "#0d0887"
            ],
            [
             0.1111111111111111,
             "#46039f"
            ],
            [
             0.2222222222222222,
             "#7201a8"
            ],
            [
             0.3333333333333333,
             "#9c179e"
            ],
            [
             0.4444444444444444,
             "#bd3786"
            ],
            [
             0.5555555555555556,
             "#d8576b"
            ],
            [
             0.6666666666666666,
             "#ed7953"
            ],
            [
             0.7777777777777778,
             "#fb9f3a"
            ],
            [
             0.8888888888888888,
             "#fdca26"
            ],
            [
             1,
             "#f0f921"
            ]
           ],
           "sequentialminus": [
            [
             0,
             "#0d0887"
            ],
            [
             0.1111111111111111,
             "#46039f"
            ],
            [
             0.2222222222222222,
             "#7201a8"
            ],
            [
             0.3333333333333333,
             "#9c179e"
            ],
            [
             0.4444444444444444,
             "#bd3786"
            ],
            [
             0.5555555555555556,
             "#d8576b"
            ],
            [
             0.6666666666666666,
             "#ed7953"
            ],
            [
             0.7777777777777778,
             "#fb9f3a"
            ],
            [
             0.8888888888888888,
             "#fdca26"
            ],
            [
             1,
             "#f0f921"
            ]
           ]
          },
          "colorway": [
           "#636efa",
           "#EF553B",
           "#00cc96",
           "#ab63fa",
           "#FFA15A",
           "#19d3f3",
           "#FF6692",
           "#B6E880",
           "#FF97FF",
           "#FECB52"
          ],
          "font": {
           "color": "#2a3f5f"
          },
          "geo": {
           "bgcolor": "white",
           "lakecolor": "white",
           "landcolor": "#E5ECF6",
           "showlakes": true,
           "showland": true,
           "subunitcolor": "white"
          },
          "hoverlabel": {
           "align": "left"
          },
          "hovermode": "closest",
          "mapbox": {
           "style": "light"
          },
          "paper_bgcolor": "white",
          "plot_bgcolor": "#E5ECF6",
          "polar": {
           "angularaxis": {
            "gridcolor": "white",
            "linecolor": "white",
            "ticks": ""
           },
           "bgcolor": "#E5ECF6",
           "radialaxis": {
            "gridcolor": "white",
            "linecolor": "white",
            "ticks": ""
           }
          },
          "scene": {
           "xaxis": {
            "backgroundcolor": "#E5ECF6",
            "gridcolor": "white",
            "gridwidth": 2,
            "linecolor": "white",
            "showbackground": true,
            "ticks": "",
            "zerolinecolor": "white"
           },
           "yaxis": {
            "backgroundcolor": "#E5ECF6",
            "gridcolor": "white",
            "gridwidth": 2,
            "linecolor": "white",
            "showbackground": true,
            "ticks": "",
            "zerolinecolor": "white"
           },
           "zaxis": {
            "backgroundcolor": "#E5ECF6",
            "gridcolor": "white",
            "gridwidth": 2,
            "linecolor": "white",
            "showbackground": true,
            "ticks": "",
            "zerolinecolor": "white"
           }
          },
          "shapedefaults": {
           "line": {
            "color": "#2a3f5f"
           }
          },
          "ternary": {
           "aaxis": {
            "gridcolor": "white",
            "linecolor": "white",
            "ticks": ""
           },
           "baxis": {
            "gridcolor": "white",
            "linecolor": "white",
            "ticks": ""
           },
           "bgcolor": "#E5ECF6",
           "caxis": {
            "gridcolor": "white",
            "linecolor": "white",
            "ticks": ""
           }
          },
          "title": {
           "x": 0.05
          },
          "xaxis": {
           "automargin": true,
           "gridcolor": "white",
           "linecolor": "white",
           "ticks": "",
           "title": {
            "standoff": 15
           },
           "zerolinecolor": "white",
           "zerolinewidth": 2
          },
          "yaxis": {
           "automargin": true,
           "gridcolor": "white",
           "linecolor": "white",
           "ticks": "",
           "title": {
            "standoff": 15
           },
           "zerolinecolor": "white",
           "zerolinewidth": 2
          }
         }
        },
        "xaxis": {
         "anchor": "y",
         "domain": [
          0,
          1
         ],
         "title": {
          "text": "release_year"
         }
        },
        "yaxis": {
         "anchor": "x",
         "domain": [
          0,
          1
         ],
         "title": {
          "text": "counts"
         }
        }
       }
      }
     },
     "metadata": {},
     "output_type": "display_data"
    }
   ],
   "source": [
    "pdf = df.groupby(['release_year', 'nfc']).size().reset_index(name=\"counts\")\n",
    "px.bar(pdf, x='release_year', y='counts', color='nfc')"
   ]
  },
  {
   "cell_type": "code",
   "execution_count": 11,
   "id": "cd66a8ca",
   "metadata": {},
   "outputs": [
    {
     "data": {
      "application/vnd.plotly.v1+json": {
       "config": {
        "plotlyServerURL": "https://plot.ly"
       },
       "data": [
        {
         "hovertemplate": "5g=False<br>release_year=%{x}<br>counts=%{y}<extra></extra>",
         "legendgroup": "False",
         "marker": {
          "color": "#636efa",
          "pattern": {
           "shape": ""
          }
         },
         "name": "False",
         "orientation": "v",
         "showlegend": true,
         "textposition": "auto",
         "type": "bar",
         "x": {
          "bdata": "AAAAAACQn0AAAAAAAJSfQAAAAAAAmJ9AAAAAAACcn0AAAAAAAKCfQAAAAAAApJ9A",
          "dtype": "f8"
         },
         "xaxis": "x",
         "y": {
          "bdata": "rgCQAHEAVgBEAAkA",
          "dtype": "i2"
         },
         "yaxis": "y"
        },
        {
         "hovertemplate": "5g=True<br>release_year=%{x}<br>counts=%{y}<extra></extra>",
         "legendgroup": "True",
         "marker": {
          "color": "#EF553B",
          "pattern": {
           "shape": ""
          }
         },
         "name": "True",
         "orientation": "v",
         "showlegend": true,
         "textposition": "auto",
         "type": "bar",
         "x": {
          "bdata": "AAAAAACQn0AAAAAAAJSfQAAAAAAAmJ9AAAAAAACcn0AAAAAAAKCfQAAAAAAApJ9A",
          "dtype": "f8"
         },
         "xaxis": "x",
         "y": {
          "bdata": "bwCdAKEAhQCkACcA",
          "dtype": "i2"
         },
         "yaxis": "y"
        }
       ],
       "layout": {
        "barmode": "relative",
        "legend": {
         "title": {
          "text": "5g"
         },
         "tracegroupgap": 0
        },
        "margin": {
         "t": 60
        },
        "template": {
         "data": {
          "bar": [
           {
            "error_x": {
             "color": "#2a3f5f"
            },
            "error_y": {
             "color": "#2a3f5f"
            },
            "marker": {
             "line": {
              "color": "#E5ECF6",
              "width": 0.5
             },
             "pattern": {
              "fillmode": "overlay",
              "size": 10,
              "solidity": 0.2
             }
            },
            "type": "bar"
           }
          ],
          "barpolar": [
           {
            "marker": {
             "line": {
              "color": "#E5ECF6",
              "width": 0.5
             },
             "pattern": {
              "fillmode": "overlay",
              "size": 10,
              "solidity": 0.2
             }
            },
            "type": "barpolar"
           }
          ],
          "carpet": [
           {
            "aaxis": {
             "endlinecolor": "#2a3f5f",
             "gridcolor": "white",
             "linecolor": "white",
             "minorgridcolor": "white",
             "startlinecolor": "#2a3f5f"
            },
            "baxis": {
             "endlinecolor": "#2a3f5f",
             "gridcolor": "white",
             "linecolor": "white",
             "minorgridcolor": "white",
             "startlinecolor": "#2a3f5f"
            },
            "type": "carpet"
           }
          ],
          "choropleth": [
           {
            "colorbar": {
             "outlinewidth": 0,
             "ticks": ""
            },
            "type": "choropleth"
           }
          ],
          "contour": [
           {
            "colorbar": {
             "outlinewidth": 0,
             "ticks": ""
            },
            "colorscale": [
             [
              0,
              "#0d0887"
             ],
             [
              0.1111111111111111,
              "#46039f"
             ],
             [
              0.2222222222222222,
              "#7201a8"
             ],
             [
              0.3333333333333333,
              "#9c179e"
             ],
             [
              0.4444444444444444,
              "#bd3786"
             ],
             [
              0.5555555555555556,
              "#d8576b"
             ],
             [
              0.6666666666666666,
              "#ed7953"
             ],
             [
              0.7777777777777778,
              "#fb9f3a"
             ],
             [
              0.8888888888888888,
              "#fdca26"
             ],
             [
              1,
              "#f0f921"
             ]
            ],
            "type": "contour"
           }
          ],
          "contourcarpet": [
           {
            "colorbar": {
             "outlinewidth": 0,
             "ticks": ""
            },
            "type": "contourcarpet"
           }
          ],
          "heatmap": [
           {
            "colorbar": {
             "outlinewidth": 0,
             "ticks": ""
            },
            "colorscale": [
             [
              0,
              "#0d0887"
             ],
             [
              0.1111111111111111,
              "#46039f"
             ],
             [
              0.2222222222222222,
              "#7201a8"
             ],
             [
              0.3333333333333333,
              "#9c179e"
             ],
             [
              0.4444444444444444,
              "#bd3786"
             ],
             [
              0.5555555555555556,
              "#d8576b"
             ],
             [
              0.6666666666666666,
              "#ed7953"
             ],
             [
              0.7777777777777778,
              "#fb9f3a"
             ],
             [
              0.8888888888888888,
              "#fdca26"
             ],
             [
              1,
              "#f0f921"
             ]
            ],
            "type": "heatmap"
           }
          ],
          "histogram": [
           {
            "marker": {
             "pattern": {
              "fillmode": "overlay",
              "size": 10,
              "solidity": 0.2
             }
            },
            "type": "histogram"
           }
          ],
          "histogram2d": [
           {
            "colorbar": {
             "outlinewidth": 0,
             "ticks": ""
            },
            "colorscale": [
             [
              0,
              "#0d0887"
             ],
             [
              0.1111111111111111,
              "#46039f"
             ],
             [
              0.2222222222222222,
              "#7201a8"
             ],
             [
              0.3333333333333333,
              "#9c179e"
             ],
             [
              0.4444444444444444,
              "#bd3786"
             ],
             [
              0.5555555555555556,
              "#d8576b"
             ],
             [
              0.6666666666666666,
              "#ed7953"
             ],
             [
              0.7777777777777778,
              "#fb9f3a"
             ],
             [
              0.8888888888888888,
              "#fdca26"
             ],
             [
              1,
              "#f0f921"
             ]
            ],
            "type": "histogram2d"
           }
          ],
          "histogram2dcontour": [
           {
            "colorbar": {
             "outlinewidth": 0,
             "ticks": ""
            },
            "colorscale": [
             [
              0,
              "#0d0887"
             ],
             [
              0.1111111111111111,
              "#46039f"
             ],
             [
              0.2222222222222222,
              "#7201a8"
             ],
             [
              0.3333333333333333,
              "#9c179e"
             ],
             [
              0.4444444444444444,
              "#bd3786"
             ],
             [
              0.5555555555555556,
              "#d8576b"
             ],
             [
              0.6666666666666666,
              "#ed7953"
             ],
             [
              0.7777777777777778,
              "#fb9f3a"
             ],
             [
              0.8888888888888888,
              "#fdca26"
             ],
             [
              1,
              "#f0f921"
             ]
            ],
            "type": "histogram2dcontour"
           }
          ],
          "mesh3d": [
           {
            "colorbar": {
             "outlinewidth": 0,
             "ticks": ""
            },
            "type": "mesh3d"
           }
          ],
          "parcoords": [
           {
            "line": {
             "colorbar": {
              "outlinewidth": 0,
              "ticks": ""
             }
            },
            "type": "parcoords"
           }
          ],
          "pie": [
           {
            "automargin": true,
            "type": "pie"
           }
          ],
          "scatter": [
           {
            "fillpattern": {
             "fillmode": "overlay",
             "size": 10,
             "solidity": 0.2
            },
            "type": "scatter"
           }
          ],
          "scatter3d": [
           {
            "line": {
             "colorbar": {
              "outlinewidth": 0,
              "ticks": ""
             }
            },
            "marker": {
             "colorbar": {
              "outlinewidth": 0,
              "ticks": ""
             }
            },
            "type": "scatter3d"
           }
          ],
          "scattercarpet": [
           {
            "marker": {
             "colorbar": {
              "outlinewidth": 0,
              "ticks": ""
             }
            },
            "type": "scattercarpet"
           }
          ],
          "scattergeo": [
           {
            "marker": {
             "colorbar": {
              "outlinewidth": 0,
              "ticks": ""
             }
            },
            "type": "scattergeo"
           }
          ],
          "scattergl": [
           {
            "marker": {
             "colorbar": {
              "outlinewidth": 0,
              "ticks": ""
             }
            },
            "type": "scattergl"
           }
          ],
          "scattermap": [
           {
            "marker": {
             "colorbar": {
              "outlinewidth": 0,
              "ticks": ""
             }
            },
            "type": "scattermap"
           }
          ],
          "scattermapbox": [
           {
            "marker": {
             "colorbar": {
              "outlinewidth": 0,
              "ticks": ""
             }
            },
            "type": "scattermapbox"
           }
          ],
          "scatterpolar": [
           {
            "marker": {
             "colorbar": {
              "outlinewidth": 0,
              "ticks": ""
             }
            },
            "type": "scatterpolar"
           }
          ],
          "scatterpolargl": [
           {
            "marker": {
             "colorbar": {
              "outlinewidth": 0,
              "ticks": ""
             }
            },
            "type": "scatterpolargl"
           }
          ],
          "scatterternary": [
           {
            "marker": {
             "colorbar": {
              "outlinewidth": 0,
              "ticks": ""
             }
            },
            "type": "scatterternary"
           }
          ],
          "surface": [
           {
            "colorbar": {
             "outlinewidth": 0,
             "ticks": ""
            },
            "colorscale": [
             [
              0,
              "#0d0887"
             ],
             [
              0.1111111111111111,
              "#46039f"
             ],
             [
              0.2222222222222222,
              "#7201a8"
             ],
             [
              0.3333333333333333,
              "#9c179e"
             ],
             [
              0.4444444444444444,
              "#bd3786"
             ],
             [
              0.5555555555555556,
              "#d8576b"
             ],
             [
              0.6666666666666666,
              "#ed7953"
             ],
             [
              0.7777777777777778,
              "#fb9f3a"
             ],
             [
              0.8888888888888888,
              "#fdca26"
             ],
             [
              1,
              "#f0f921"
             ]
            ],
            "type": "surface"
           }
          ],
          "table": [
           {
            "cells": {
             "fill": {
              "color": "#EBF0F8"
             },
             "line": {
              "color": "white"
             }
            },
            "header": {
             "fill": {
              "color": "#C8D4E3"
             },
             "line": {
              "color": "white"
             }
            },
            "type": "table"
           }
          ]
         },
         "layout": {
          "annotationdefaults": {
           "arrowcolor": "#2a3f5f",
           "arrowhead": 0,
           "arrowwidth": 1
          },
          "autotypenumbers": "strict",
          "coloraxis": {
           "colorbar": {
            "outlinewidth": 0,
            "ticks": ""
           }
          },
          "colorscale": {
           "diverging": [
            [
             0,
             "#8e0152"
            ],
            [
             0.1,
             "#c51b7d"
            ],
            [
             0.2,
             "#de77ae"
            ],
            [
             0.3,
             "#f1b6da"
            ],
            [
             0.4,
             "#fde0ef"
            ],
            [
             0.5,
             "#f7f7f7"
            ],
            [
             0.6,
             "#e6f5d0"
            ],
            [
             0.7,
             "#b8e186"
            ],
            [
             0.8,
             "#7fbc41"
            ],
            [
             0.9,
             "#4d9221"
            ],
            [
             1,
             "#276419"
            ]
           ],
           "sequential": [
            [
             0,
             "#0d0887"
            ],
            [
             0.1111111111111111,
             "#46039f"
            ],
            [
             0.2222222222222222,
             "#7201a8"
            ],
            [
             0.3333333333333333,
             "#9c179e"
            ],
            [
             0.4444444444444444,
             "#bd3786"
            ],
            [
             0.5555555555555556,
             "#d8576b"
            ],
            [
             0.6666666666666666,
             "#ed7953"
            ],
            [
             0.7777777777777778,
             "#fb9f3a"
            ],
            [
             0.8888888888888888,
             "#fdca26"
            ],
            [
             1,
             "#f0f921"
            ]
           ],
           "sequentialminus": [
            [
             0,
             "#0d0887"
            ],
            [
             0.1111111111111111,
             "#46039f"
            ],
            [
             0.2222222222222222,
             "#7201a8"
            ],
            [
             0.3333333333333333,
             "#9c179e"
            ],
            [
             0.4444444444444444,
             "#bd3786"
            ],
            [
             0.5555555555555556,
             "#d8576b"
            ],
            [
             0.6666666666666666,
             "#ed7953"
            ],
            [
             0.7777777777777778,
             "#fb9f3a"
            ],
            [
             0.8888888888888888,
             "#fdca26"
            ],
            [
             1,
             "#f0f921"
            ]
           ]
          },
          "colorway": [
           "#636efa",
           "#EF553B",
           "#00cc96",
           "#ab63fa",
           "#FFA15A",
           "#19d3f3",
           "#FF6692",
           "#B6E880",
           "#FF97FF",
           "#FECB52"
          ],
          "font": {
           "color": "#2a3f5f"
          },
          "geo": {
           "bgcolor": "white",
           "lakecolor": "white",
           "landcolor": "#E5ECF6",
           "showlakes": true,
           "showland": true,
           "subunitcolor": "white"
          },
          "hoverlabel": {
           "align": "left"
          },
          "hovermode": "closest",
          "mapbox": {
           "style": "light"
          },
          "paper_bgcolor": "white",
          "plot_bgcolor": "#E5ECF6",
          "polar": {
           "angularaxis": {
            "gridcolor": "white",
            "linecolor": "white",
            "ticks": ""
           },
           "bgcolor": "#E5ECF6",
           "radialaxis": {
            "gridcolor": "white",
            "linecolor": "white",
            "ticks": ""
           }
          },
          "scene": {
           "xaxis": {
            "backgroundcolor": "#E5ECF6",
            "gridcolor": "white",
            "gridwidth": 2,
            "linecolor": "white",
            "showbackground": true,
            "ticks": "",
            "zerolinecolor": "white"
           },
           "yaxis": {
            "backgroundcolor": "#E5ECF6",
            "gridcolor": "white",
            "gridwidth": 2,
            "linecolor": "white",
            "showbackground": true,
            "ticks": "",
            "zerolinecolor": "white"
           },
           "zaxis": {
            "backgroundcolor": "#E5ECF6",
            "gridcolor": "white",
            "gridwidth": 2,
            "linecolor": "white",
            "showbackground": true,
            "ticks": "",
            "zerolinecolor": "white"
           }
          },
          "shapedefaults": {
           "line": {
            "color": "#2a3f5f"
           }
          },
          "ternary": {
           "aaxis": {
            "gridcolor": "white",
            "linecolor": "white",
            "ticks": ""
           },
           "baxis": {
            "gridcolor": "white",
            "linecolor": "white",
            "ticks": ""
           },
           "bgcolor": "#E5ECF6",
           "caxis": {
            "gridcolor": "white",
            "linecolor": "white",
            "ticks": ""
           }
          },
          "title": {
           "x": 0.05
          },
          "xaxis": {
           "automargin": true,
           "gridcolor": "white",
           "linecolor": "white",
           "ticks": "",
           "title": {
            "standoff": 15
           },
           "zerolinecolor": "white",
           "zerolinewidth": 2
          },
          "yaxis": {
           "automargin": true,
           "gridcolor": "white",
           "linecolor": "white",
           "ticks": "",
           "title": {
            "standoff": 15
           },
           "zerolinecolor": "white",
           "zerolinewidth": 2
          }
         }
        },
        "xaxis": {
         "anchor": "y",
         "domain": [
          0,
          1
         ],
         "title": {
          "text": "release_year"
         }
        },
        "yaxis": {
         "anchor": "x",
         "domain": [
          0,
          1
         ],
         "title": {
          "text": "counts"
         }
        }
       }
      }
     },
     "metadata": {},
     "output_type": "display_data"
    }
   ],
   "source": [
    "pdf = df.groupby(['release_year', '5g']).size().reset_index(name=\"counts\")\n",
    "px.bar(pdf, x='release_year', y='counts', color='5g')"
   ]
  },
  {
   "cell_type": "code",
   "execution_count": 12,
   "id": "f0107ac3",
   "metadata": {},
   "outputs": [
    {
     "data": {
      "application/vnd.plotly.v1+json": {
       "config": {
        "plotlyServerURL": "https://plot.ly"
       },
       "data": [
        {
         "hovertemplate": "usb_type=Lightning<br>release_year=%{x}<br>counts=%{y}<extra></extra>",
         "legendgroup": "Lightning",
         "marker": {
          "color": "#636efa",
          "pattern": {
           "shape": ""
          }
         },
         "name": "Lightning",
         "orientation": "v",
         "showlegend": true,
         "textposition": "auto",
         "type": "bar",
         "x": {
          "bdata": "AAAAAACQn0AAAAAAAJSfQAAAAAAAmJ9A",
          "dtype": "f8"
         },
         "xaxis": "x",
         "y": {
          "bdata": "BQQF",
          "dtype": "i1"
         },
         "yaxis": "y"
        },
        {
         "hovertemplate": "usb_type=Two USB Type-C<br>release_year=%{x}<br>counts=%{y}<extra></extra>",
         "legendgroup": "Two USB Type-C",
         "marker": {
          "color": "#EF553B",
          "pattern": {
           "shape": ""
          }
         },
         "name": "Two USB Type-C",
         "orientation": "v",
         "showlegend": true,
         "textposition": "auto",
         "type": "bar",
         "x": {
          "bdata": "AAAAAACQn0AAAAAAAJSfQA==",
          "dtype": "f8"
         },
         "xaxis": "x",
         "y": {
          "bdata": "AQI=",
          "dtype": "i1"
         },
         "yaxis": "y"
        },
        {
         "hovertemplate": "usb_type=USB Type-C<br>release_year=%{x}<br>counts=%{y}<extra></extra>",
         "legendgroup": "USB Type-C",
         "marker": {
          "color": "#00cc96",
          "pattern": {
           "shape": ""
          }
         },
         "name": "USB Type-C",
         "orientation": "v",
         "showlegend": true,
         "textposition": "auto",
         "type": "bar",
         "x": {
          "bdata": "AAAAAACQn0AAAAAAAJSfQAAAAAAAmJ9AAAAAAACcn0AAAAAAAKCfQAAAAAAApJ9A",
          "dtype": "f8"
         },
         "xaxis": "x",
         "y": {
          "bdata": "1AD6APEAxgDnADAA",
          "dtype": "i2"
         },
         "yaxis": "y"
        },
        {
         "hovertemplate": "usb_type=microUSB <br>release_year=%{x}<br>counts=%{y}<extra></extra>",
         "legendgroup": "microUSB ",
         "marker": {
          "color": "#ab63fa",
          "pattern": {
           "shape": ""
          }
         },
         "name": "microUSB ",
         "orientation": "v",
         "showlegend": true,
         "textposition": "auto",
         "type": "bar",
         "x": {
          "bdata": "AAAAAACQn0AAAAAAAJSfQAAAAAAAmJ9AAAAAAACcn0A=",
          "dtype": "f8"
         },
         "xaxis": "x",
         "y": {
          "bdata": "QigaFQ==",
          "dtype": "i1"
         },
         "yaxis": "y"
        },
        {
         "hovertemplate": "usb_type=microUSB<br>release_year=%{x}<br>counts=%{y}<extra></extra>",
         "legendgroup": "microUSB",
         "marker": {
          "color": "#FFA15A",
          "pattern": {
           "shape": ""
          }
         },
         "name": "microUSB",
         "orientation": "v",
         "showlegend": true,
         "textposition": "auto",
         "type": "bar",
         "x": {
          "bdata": "AAAAAACUn0AAAAAAAKCfQA==",
          "dtype": "f8"
         },
         "xaxis": "x",
         "y": {
          "bdata": "AgE=",
          "dtype": "i1"
         },
         "yaxis": "y"
        }
       ],
       "layout": {
        "barmode": "relative",
        "legend": {
         "title": {
          "text": "usb_type"
         },
         "tracegroupgap": 0
        },
        "margin": {
         "t": 60
        },
        "template": {
         "data": {
          "bar": [
           {
            "error_x": {
             "color": "#2a3f5f"
            },
            "error_y": {
             "color": "#2a3f5f"
            },
            "marker": {
             "line": {
              "color": "#E5ECF6",
              "width": 0.5
             },
             "pattern": {
              "fillmode": "overlay",
              "size": 10,
              "solidity": 0.2
             }
            },
            "type": "bar"
           }
          ],
          "barpolar": [
           {
            "marker": {
             "line": {
              "color": "#E5ECF6",
              "width": 0.5
             },
             "pattern": {
              "fillmode": "overlay",
              "size": 10,
              "solidity": 0.2
             }
            },
            "type": "barpolar"
           }
          ],
          "carpet": [
           {
            "aaxis": {
             "endlinecolor": "#2a3f5f",
             "gridcolor": "white",
             "linecolor": "white",
             "minorgridcolor": "white",
             "startlinecolor": "#2a3f5f"
            },
            "baxis": {
             "endlinecolor": "#2a3f5f",
             "gridcolor": "white",
             "linecolor": "white",
             "minorgridcolor": "white",
             "startlinecolor": "#2a3f5f"
            },
            "type": "carpet"
           }
          ],
          "choropleth": [
           {
            "colorbar": {
             "outlinewidth": 0,
             "ticks": ""
            },
            "type": "choropleth"
           }
          ],
          "contour": [
           {
            "colorbar": {
             "outlinewidth": 0,
             "ticks": ""
            },
            "colorscale": [
             [
              0,
              "#0d0887"
             ],
             [
              0.1111111111111111,
              "#46039f"
             ],
             [
              0.2222222222222222,
              "#7201a8"
             ],
             [
              0.3333333333333333,
              "#9c179e"
             ],
             [
              0.4444444444444444,
              "#bd3786"
             ],
             [
              0.5555555555555556,
              "#d8576b"
             ],
             [
              0.6666666666666666,
              "#ed7953"
             ],
             [
              0.7777777777777778,
              "#fb9f3a"
             ],
             [
              0.8888888888888888,
              "#fdca26"
             ],
             [
              1,
              "#f0f921"
             ]
            ],
            "type": "contour"
           }
          ],
          "contourcarpet": [
           {
            "colorbar": {
             "outlinewidth": 0,
             "ticks": ""
            },
            "type": "contourcarpet"
           }
          ],
          "heatmap": [
           {
            "colorbar": {
             "outlinewidth": 0,
             "ticks": ""
            },
            "colorscale": [
             [
              0,
              "#0d0887"
             ],
             [
              0.1111111111111111,
              "#46039f"
             ],
             [
              0.2222222222222222,
              "#7201a8"
             ],
             [
              0.3333333333333333,
              "#9c179e"
             ],
             [
              0.4444444444444444,
              "#bd3786"
             ],
             [
              0.5555555555555556,
              "#d8576b"
             ],
             [
              0.6666666666666666,
              "#ed7953"
             ],
             [
              0.7777777777777778,
              "#fb9f3a"
             ],
             [
              0.8888888888888888,
              "#fdca26"
             ],
             [
              1,
              "#f0f921"
             ]
            ],
            "type": "heatmap"
           }
          ],
          "histogram": [
           {
            "marker": {
             "pattern": {
              "fillmode": "overlay",
              "size": 10,
              "solidity": 0.2
             }
            },
            "type": "histogram"
           }
          ],
          "histogram2d": [
           {
            "colorbar": {
             "outlinewidth": 0,
             "ticks": ""
            },
            "colorscale": [
             [
              0,
              "#0d0887"
             ],
             [
              0.1111111111111111,
              "#46039f"
             ],
             [
              0.2222222222222222,
              "#7201a8"
             ],
             [
              0.3333333333333333,
              "#9c179e"
             ],
             [
              0.4444444444444444,
              "#bd3786"
             ],
             [
              0.5555555555555556,
              "#d8576b"
             ],
             [
              0.6666666666666666,
              "#ed7953"
             ],
             [
              0.7777777777777778,
              "#fb9f3a"
             ],
             [
              0.8888888888888888,
              "#fdca26"
             ],
             [
              1,
              "#f0f921"
             ]
            ],
            "type": "histogram2d"
           }
          ],
          "histogram2dcontour": [
           {
            "colorbar": {
             "outlinewidth": 0,
             "ticks": ""
            },
            "colorscale": [
             [
              0,
              "#0d0887"
             ],
             [
              0.1111111111111111,
              "#46039f"
             ],
             [
              0.2222222222222222,
              "#7201a8"
             ],
             [
              0.3333333333333333,
              "#9c179e"
             ],
             [
              0.4444444444444444,
              "#bd3786"
             ],
             [
              0.5555555555555556,
              "#d8576b"
             ],
             [
              0.6666666666666666,
              "#ed7953"
             ],
             [
              0.7777777777777778,
              "#fb9f3a"
             ],
             [
              0.8888888888888888,
              "#fdca26"
             ],
             [
              1,
              "#f0f921"
             ]
            ],
            "type": "histogram2dcontour"
           }
          ],
          "mesh3d": [
           {
            "colorbar": {
             "outlinewidth": 0,
             "ticks": ""
            },
            "type": "mesh3d"
           }
          ],
          "parcoords": [
           {
            "line": {
             "colorbar": {
              "outlinewidth": 0,
              "ticks": ""
             }
            },
            "type": "parcoords"
           }
          ],
          "pie": [
           {
            "automargin": true,
            "type": "pie"
           }
          ],
          "scatter": [
           {
            "fillpattern": {
             "fillmode": "overlay",
             "size": 10,
             "solidity": 0.2
            },
            "type": "scatter"
           }
          ],
          "scatter3d": [
           {
            "line": {
             "colorbar": {
              "outlinewidth": 0,
              "ticks": ""
             }
            },
            "marker": {
             "colorbar": {
              "outlinewidth": 0,
              "ticks": ""
             }
            },
            "type": "scatter3d"
           }
          ],
          "scattercarpet": [
           {
            "marker": {
             "colorbar": {
              "outlinewidth": 0,
              "ticks": ""
             }
            },
            "type": "scattercarpet"
           }
          ],
          "scattergeo": [
           {
            "marker": {
             "colorbar": {
              "outlinewidth": 0,
              "ticks": ""
             }
            },
            "type": "scattergeo"
           }
          ],
          "scattergl": [
           {
            "marker": {
             "colorbar": {
              "outlinewidth": 0,
              "ticks": ""
             }
            },
            "type": "scattergl"
           }
          ],
          "scattermap": [
           {
            "marker": {
             "colorbar": {
              "outlinewidth": 0,
              "ticks": ""
             }
            },
            "type": "scattermap"
           }
          ],
          "scattermapbox": [
           {
            "marker": {
             "colorbar": {
              "outlinewidth": 0,
              "ticks": ""
             }
            },
            "type": "scattermapbox"
           }
          ],
          "scatterpolar": [
           {
            "marker": {
             "colorbar": {
              "outlinewidth": 0,
              "ticks": ""
             }
            },
            "type": "scatterpolar"
           }
          ],
          "scatterpolargl": [
           {
            "marker": {
             "colorbar": {
              "outlinewidth": 0,
              "ticks": ""
             }
            },
            "type": "scatterpolargl"
           }
          ],
          "scatterternary": [
           {
            "marker": {
             "colorbar": {
              "outlinewidth": 0,
              "ticks": ""
             }
            },
            "type": "scatterternary"
           }
          ],
          "surface": [
           {
            "colorbar": {
             "outlinewidth": 0,
             "ticks": ""
            },
            "colorscale": [
             [
              0,
              "#0d0887"
             ],
             [
              0.1111111111111111,
              "#46039f"
             ],
             [
              0.2222222222222222,
              "#7201a8"
             ],
             [
              0.3333333333333333,
              "#9c179e"
             ],
             [
              0.4444444444444444,
              "#bd3786"
             ],
             [
              0.5555555555555556,
              "#d8576b"
             ],
             [
              0.6666666666666666,
              "#ed7953"
             ],
             [
              0.7777777777777778,
              "#fb9f3a"
             ],
             [
              0.8888888888888888,
              "#fdca26"
             ],
             [
              1,
              "#f0f921"
             ]
            ],
            "type": "surface"
           }
          ],
          "table": [
           {
            "cells": {
             "fill": {
              "color": "#EBF0F8"
             },
             "line": {
              "color": "white"
             }
            },
            "header": {
             "fill": {
              "color": "#C8D4E3"
             },
             "line": {
              "color": "white"
             }
            },
            "type": "table"
           }
          ]
         },
         "layout": {
          "annotationdefaults": {
           "arrowcolor": "#2a3f5f",
           "arrowhead": 0,
           "arrowwidth": 1
          },
          "autotypenumbers": "strict",
          "coloraxis": {
           "colorbar": {
            "outlinewidth": 0,
            "ticks": ""
           }
          },
          "colorscale": {
           "diverging": [
            [
             0,
             "#8e0152"
            ],
            [
             0.1,
             "#c51b7d"
            ],
            [
             0.2,
             "#de77ae"
            ],
            [
             0.3,
             "#f1b6da"
            ],
            [
             0.4,
             "#fde0ef"
            ],
            [
             0.5,
             "#f7f7f7"
            ],
            [
             0.6,
             "#e6f5d0"
            ],
            [
             0.7,
             "#b8e186"
            ],
            [
             0.8,
             "#7fbc41"
            ],
            [
             0.9,
             "#4d9221"
            ],
            [
             1,
             "#276419"
            ]
           ],
           "sequential": [
            [
             0,
             "#0d0887"
            ],
            [
             0.1111111111111111,
             "#46039f"
            ],
            [
             0.2222222222222222,
             "#7201a8"
            ],
            [
             0.3333333333333333,
             "#9c179e"
            ],
            [
             0.4444444444444444,
             "#bd3786"
            ],
            [
             0.5555555555555556,
             "#d8576b"
            ],
            [
             0.6666666666666666,
             "#ed7953"
            ],
            [
             0.7777777777777778,
             "#fb9f3a"
            ],
            [
             0.8888888888888888,
             "#fdca26"
            ],
            [
             1,
             "#f0f921"
            ]
           ],
           "sequentialminus": [
            [
             0,
             "#0d0887"
            ],
            [
             0.1111111111111111,
             "#46039f"
            ],
            [
             0.2222222222222222,
             "#7201a8"
            ],
            [
             0.3333333333333333,
             "#9c179e"
            ],
            [
             0.4444444444444444,
             "#bd3786"
            ],
            [
             0.5555555555555556,
             "#d8576b"
            ],
            [
             0.6666666666666666,
             "#ed7953"
            ],
            [
             0.7777777777777778,
             "#fb9f3a"
            ],
            [
             0.8888888888888888,
             "#fdca26"
            ],
            [
             1,
             "#f0f921"
            ]
           ]
          },
          "colorway": [
           "#636efa",
           "#EF553B",
           "#00cc96",
           "#ab63fa",
           "#FFA15A",
           "#19d3f3",
           "#FF6692",
           "#B6E880",
           "#FF97FF",
           "#FECB52"
          ],
          "font": {
           "color": "#2a3f5f"
          },
          "geo": {
           "bgcolor": "white",
           "lakecolor": "white",
           "landcolor": "#E5ECF6",
           "showlakes": true,
           "showland": true,
           "subunitcolor": "white"
          },
          "hoverlabel": {
           "align": "left"
          },
          "hovermode": "closest",
          "mapbox": {
           "style": "light"
          },
          "paper_bgcolor": "white",
          "plot_bgcolor": "#E5ECF6",
          "polar": {
           "angularaxis": {
            "gridcolor": "white",
            "linecolor": "white",
            "ticks": ""
           },
           "bgcolor": "#E5ECF6",
           "radialaxis": {
            "gridcolor": "white",
            "linecolor": "white",
            "ticks": ""
           }
          },
          "scene": {
           "xaxis": {
            "backgroundcolor": "#E5ECF6",
            "gridcolor": "white",
            "gridwidth": 2,
            "linecolor": "white",
            "showbackground": true,
            "ticks": "",
            "zerolinecolor": "white"
           },
           "yaxis": {
            "backgroundcolor": "#E5ECF6",
            "gridcolor": "white",
            "gridwidth": 2,
            "linecolor": "white",
            "showbackground": true,
            "ticks": "",
            "zerolinecolor": "white"
           },
           "zaxis": {
            "backgroundcolor": "#E5ECF6",
            "gridcolor": "white",
            "gridwidth": 2,
            "linecolor": "white",
            "showbackground": true,
            "ticks": "",
            "zerolinecolor": "white"
           }
          },
          "shapedefaults": {
           "line": {
            "color": "#2a3f5f"
           }
          },
          "ternary": {
           "aaxis": {
            "gridcolor": "white",
            "linecolor": "white",
            "ticks": ""
           },
           "baxis": {
            "gridcolor": "white",
            "linecolor": "white",
            "ticks": ""
           },
           "bgcolor": "#E5ECF6",
           "caxis": {
            "gridcolor": "white",
            "linecolor": "white",
            "ticks": ""
           }
          },
          "title": {
           "x": 0.05
          },
          "xaxis": {
           "automargin": true,
           "gridcolor": "white",
           "linecolor": "white",
           "ticks": "",
           "title": {
            "standoff": 15
           },
           "zerolinecolor": "white",
           "zerolinewidth": 2
          },
          "yaxis": {
           "automargin": true,
           "gridcolor": "white",
           "linecolor": "white",
           "ticks": "",
           "title": {
            "standoff": 15
           },
           "zerolinecolor": "white",
           "zerolinewidth": 2
          }
         }
        },
        "xaxis": {
         "anchor": "y",
         "domain": [
          0,
          1
         ],
         "title": {
          "text": "release_year"
         }
        },
        "yaxis": {
         "anchor": "x",
         "domain": [
          0,
          1
         ],
         "title": {
          "text": "counts"
         }
        }
       }
      }
     },
     "metadata": {},
     "output_type": "display_data"
    }
   ],
   "source": [
    "pdf = df.groupby(['release_year', 'usb_type']).size().reset_index(name=\"counts\")\n",
    "px.bar(pdf, x='release_year', y='counts', color='usb_type')"
   ]
  },
  {
   "cell_type": "markdown",
   "id": "227bfc33",
   "metadata": {},
   "source": [
    "The technological advancment and the reduced costs to produce USB Type-C has shifted manufacturers to abolish previous connection types. Also, part of the reasong of adopting USB Type-C is due to EU regulations."
   ]
  },
  {
   "cell_type": "code",
   "execution_count": 13,
   "id": "aad592f6",
   "metadata": {},
   "outputs": [],
   "source": [
    "df.loc[df['internal_ram_unit'] == 'MB', 'internal_ram'] /= 1000"
   ]
  },
  {
   "cell_type": "code",
   "execution_count": 14,
   "id": "63e14546",
   "metadata": {},
   "outputs": [
    {
     "data": {
      "application/vnd.plotly.v1+json": {
       "config": {
        "plotlyServerURL": "https://plot.ly"
       },
       "data": [
        {
         "alignmentgroup": "True",
         "customdata": {
          "bdata": "AAAAAAAA8D9qvHSTGASmPwAAAAAAABRALbKd76fGyz8AAAAAAAAkQNejcD0K19s/AAAAAAAAHEDb+X5qvHTTPwAAAAAAAAhAke18PzVeuj8AAAAAAAAgQESLbOf7qdE/AAAAAAAAHEAMAiuHFtnOPwAAAAAAACBARIts5/up0T8AAAAAAAAIQJHtfD81Xro/AAAAAAAAEEDRItv5fmrMPwAAAAAAABxATDeJQWDl2D8AAAAAAAAQQNEi2/l+asw/AAAAAAAACEDHSzeJQWDFPwAAAAAAABRAmG4Sg8DK0T8AAAAAAADwP3npJjEIrKw/AAAAAAAACEDHSzeJQWDFPwAAAAAAAAhAx0s3iUFgxT8AAAAAAAAUQJhuEoPAytE/AAAAAAAA8D956SYxCKysPwAAAAAAAPA//Knx0k1igD8AAAAAAAAAQJzEILByaJE/AAAAAAAAMUCTGARWDi3CPwAAAAAAADBAoBov3SQGwT8AAAAAAIBNQLByaJHtfN8/AAAAAAAAMkAzMzMzMzPDPwAAAAAAABxAGQRWDi2yrT8AAAAAAAAuQOxRuB6F68E/AAAAAAAAHECkcD0K16OwPwAAAAAAgERAUI2XbhKD2D8AAAAAAAAUQKrx0k1iEKg/AAAAAACAQkC+nxov3STWPwAAAAAAAABA2/l+arx0kz8AAAAAAADwP7Kd76fGS7c/AAAAAAAAGEBxPQrXo3DhPwAAAAAAAABAsp3vp8ZLxz8AAAAAAAAAQLKd76fGS8c/AAAAAAAA8D8AAAAAAADgPwAAAAAAAPA/AAAAAAAA4D8AAAAAAAAQQFpkO99Pjac/AAAAAAAAHEB7FK5H4Xq0PwAAAAAAAAhAnMQgsHJooT8AAAAAAAAcQHsUrkfherQ/AAAAAAAAFEDJdr6fGi+tPwAAAAAAABBAWmQ730+Npz8AAAAAAAAiQJHtfD81Xro/AAAAAAAAJkBU46WbxCDAPwAAAAAAADFA9ihcj8L1yD8AAAAAAAAmQFTjpZvEIMA/AAAAAAAAIkCR7Xw/NV66PwAAAAAAAPA/5/up8dJNwj8AAAAAAAAYQAaBlUOLbOs/AAAAAAAAFECq8dJNYhC4PwAAAAAAACBAhxbZzvdTwz8AAAAAAAA5QGiR7Xw/Nd4/AAAAAAAALEBMN4lBYOXQPwAAAAAAAPA/2/l+arx0kz8AAAAAAAAIQLgehetRuI4/AAAAAAAAIkC6SQwCK4emPwAAAAAAgEJACtejcD0Kxz8AAAAAAAA6QKjGSzeJQcA/AAAAAAAAWkDTTWIQWDngPwAAAAAAADZAMQisHFpkuz8AAAAAAAAQQHsUrkfhepQ/AAAAAAAAJEDpJjEIrByqPwAAAAAAADBAI9v5fmq8tD8AAAAAAIBLQJhuEoPAytE/AAAAAAAAS0BGtvP91HjRPwAAAAAAAEpAokW28/3U0D8AAAAAAAAiQArXo3A9Cqc/AAAAAAAA8D97FK5H4Xp0PwAAAAAAAPA/exSuR+F6dD8AAAAAAAAQQFpkO99PjZc/AAAAAAAAIkA5tMh2vp+qPwAAAAAAACxAI9v5fmq8tD8AAAAAAABOQLx0kxgEVtY/AAAAAAAAQUDy0k1iEFjJPwAAAAAAgEFAlkOLbOf7yT8AAAAAAAAuQBKDwMqhRbY/AAAAAAAA8D/6fmq8dJN4PwAAAAAAAPA/eekmMQisrD8AAAAAAADwP3npJjEIrKw/AAAAAAAAEEDRItv5fmrMPwAAAAAAABhAHVpkO99P1T8AAAAAAAAYQB1aZDvfT9U/AAAAAAAAMkCkcD0K16OwPwAAAAAAACJA/Knx0k1ioD8AAAAAAIBRQP7UeOkmMdA/AAAAAAAAU0Dwp8ZLN4nRPwAAAAAAwFJA8tJNYhBY0T8AAAAAAAA9QOF6FK5H4bo/",
          "dtype": "f8",
          "shape": "90, 2"
         },
         "hovertemplate": "brand=%{x}<br>internal_ram=%{y}<br>counts=%{customdata[0]}<br>Proportion within Brand=%{marker.color}<extra></extra>",
         "legendgroup": "",
         "marker": {
          "color": {
           "bdata": "arx0kxgEpj8tsp3vp8bLP9ejcD0K19s/2/l+arx00z+R7Xw/NV66P0SLbOf7qdE/DAIrhxbZzj9Ei2zn+6nRP5HtfD81Xro/0SLb+X5qzD9MN4lBYOXYP9Ei2/l+asw/x0s3iUFgxT+YbhKDwMrRP3npJjEIrKw/x0s3iUFgxT/HSzeJQWDFP5huEoPAytE/eekmMQisrD/8qfHSTWKAP5zEILByaJE/kxgEVg4twj+gGi/dJAbBP7ByaJHtfN8/MzMzMzMzwz8ZBFYOLbKtP+xRuB6F68E/pHA9CtejsD9QjZduEoPYP6rx0k1iEKg/vp8aL90k1j/b+X5qvHSTP7Kd76fGS7c/cT0K16Nw4T+yne+nxkvHP7Kd76fGS8c/AAAAAAAA4D8AAAAAAADgP1pkO99Pjac/exSuR+F6tD+cxCCwcmihP3sUrkfherQ/yXa+nxovrT9aZDvfT42nP5HtfD81Xro/VOOlm8QgwD/2KFyPwvXIP1TjpZvEIMA/ke18PzVeuj/n+6nx0k3CPwaBlUOLbOs/qvHSTWIQuD+HFtnO91PDP2iR7Xw/Nd4/TDeJQWDl0D/b+X5qvHSTP7gehetRuI4/ukkMAiuHpj8K16NwPQrHP6jGSzeJQcA/001iEFg54D8xCKwcWmS7P3sUrkfhepQ/6SYxCKwcqj8j2/l+ary0P5huEoPAytE/Rrbz/dR40T+iRbbz/dTQPwrXo3A9Cqc/exSuR+F6dD97FK5H4Xp0P1pkO99PjZc/ObTIdr6fqj8j2/l+ary0P7x0kxgEVtY/8tJNYhBYyT+WQ4ts5/vJPxKDwMqhRbY/+n5qvHSTeD956SYxCKysP3npJjEIrKw/0SLb+X5qzD8dWmQ730/VPx1aZDvfT9U/pHA9CtejsD/8qfHSTWKgP/7UeOkmMdA/8KfGSzeJ0T/y0k1iEFjRP+F6FK5H4bo/",
           "dtype": "f8"
          },
          "coloraxis": "coloraxis",
          "pattern": {
           "shape": ""
          }
         },
         "name": "",
         "offsetgroup": "",
         "orientation": "v",
         "showlegend": false,
         "textposition": "auto",
         "type": "bar",
         "x": [
          "Apple",
          "Apple",
          "Apple",
          "Apple",
          "Asus",
          "Asus",
          "Asus",
          "Asus",
          "Asus",
          "Google",
          "Google",
          "Google",
          "Google",
          "HTC",
          "HTC",
          "HTC",
          "HTC",
          "HTC",
          "HTC",
          "Huawei",
          "Huawei",
          "Huawei",
          "Huawei",
          "Huawei",
          "Huawei",
          "Huawei",
          "Infinix",
          "Infinix",
          "Infinix",
          "Infinix",
          "Infinix",
          "Infinix",
          "Lenovo",
          "Lenovo",
          "Lenovo",
          "Lenovo",
          "Microsoft",
          "Microsoft",
          "Nokia",
          "Nokia",
          "Nokia",
          "Nokia",
          "Nokia",
          "Nokia",
          "Nokia",
          "Nokia",
          "Nokia",
          "Nokia",
          "Nokia",
          "Nothing",
          "Nothing",
          "OnePlus",
          "OnePlus",
          "OnePlus",
          "OnePlus",
          "OnePlus",
          "Oppo",
          "Oppo",
          "Oppo",
          "Oppo",
          "Oppo",
          "Oppo",
          "Oppo",
          "Realme",
          "Realme",
          "Realme",
          "Realme",
          "Realme",
          "Realme",
          "Realme",
          "Realme",
          "Samsung",
          "Samsung",
          "Samsung",
          "Samsung",
          "Samsung",
          "Samsung",
          "Samsung",
          "Samsung",
          "Sony",
          "Sony",
          "Sony",
          "Sony",
          "Sony",
          "Xiaomi",
          "Xiaomi",
          "Xiaomi",
          "Xiaomi",
          "Xiaomi",
          "Xiaomi"
         ],
         "xaxis": "x",
         "y": {
          "bdata": "AAAAAAAACEAAAAAAAAAQQAAAAAAAABhAAAAAAAAAIEAAAAAAAAAYQAAAAAAAACBAAAAAAAAAKEAAAAAAAAAwQAAAAAAAADJAAAAAAAAAGEAAAAAAAAAgQAAAAAAAAChAAAAAAAAAMEAAAAAAAAAAQAAAAAAAAAhAAAAAAAAAEEAAAAAAAAAYQAAAAAAAACBAAAAAAAAAKEAAAAAAAAAAQAAAAAAAAAhAAAAAAAAAEEAAAAAAAAAYQAAAAAAAACBAAAAAAAAAKEAAAAAAAAAwQAAAAAAAAABAAAAAAAAACEAAAAAAAAAQQAAAAAAAABhAAAAAAAAAIEAAAAAAAAAoQAAAAAAAAABAAAAAAAAAEEAAAAAAAAAgQAAAAAAAAChAAAAAAAAAGEAAAAAAAAAgQPyp8dJNYnA//Knx0k1igD/6fmq8dJOoP/yp8dJNYrA//Knx0k1iwD/8qfHSTWLgPwAAAAAAAPA/AAAAAAAAAEAAAAAAAAAIQAAAAAAAABBAAAAAAAAAGEAAAAAAAAAYQAAAAAAAACBAAAAAAAAAEEAAAAAAAAAYQAAAAAAAACBAAAAAAAAAKEAAAAAAAAAwQAAAAAAAAABAAAAAAAAACEAAAAAAAAAQQAAAAAAAABhAAAAAAAAAIEAAAAAAAAAoQAAAAAAAADBAAAAAAAAAAEAAAAAAAAAIQAAAAAAAABBAAAAAAAAAGEAAAAAAAAAgQAAAAAAAAChAAAAAAAAAMEAAAAAAAAA4QAAAAAAAAPA/AAAAAAAAAEAAAAAAAAAIQAAAAAAAABBAAAAAAAAAGEAAAAAAAAAgQAAAAAAAAChAAAAAAAAAMEAAAAAAAAAIQAAAAAAAABBAAAAAAAAAGEAAAAAAAAAgQAAAAAAAAChAAAAAAAAAAEAAAAAAAAAIQAAAAAAAABBAAAAAAAAAGEAAAAAAAAAgQAAAAAAAAChA",
          "dtype": "f8"
         },
         "yaxis": "y"
        }
       ],
       "layout": {
        "barmode": "group",
        "coloraxis": {
         "colorbar": {
          "title": {
           "text": "Proportion within Brand"
          }
         },
         "colorscale": [
          [
           0,
           "#0d0887"
          ],
          [
           0.1111111111111111,
           "#46039f"
          ],
          [
           0.2222222222222222,
           "#7201a8"
          ],
          [
           0.3333333333333333,
           "#9c179e"
          ],
          [
           0.4444444444444444,
           "#bd3786"
          ],
          [
           0.5555555555555556,
           "#d8576b"
          ],
          [
           0.6666666666666666,
           "#ed7953"
          ],
          [
           0.7777777777777778,
           "#fb9f3a"
          ],
          [
           0.8888888888888888,
           "#fdca26"
          ],
          [
           1,
           "#f0f921"
          ]
         ]
        },
        "legend": {
         "tracegroupgap": 0
        },
        "template": {
         "data": {
          "bar": [
           {
            "error_x": {
             "color": "#2a3f5f"
            },
            "error_y": {
             "color": "#2a3f5f"
            },
            "marker": {
             "line": {
              "color": "#E5ECF6",
              "width": 0.5
             },
             "pattern": {
              "fillmode": "overlay",
              "size": 10,
              "solidity": 0.2
             }
            },
            "type": "bar"
           }
          ],
          "barpolar": [
           {
            "marker": {
             "line": {
              "color": "#E5ECF6",
              "width": 0.5
             },
             "pattern": {
              "fillmode": "overlay",
              "size": 10,
              "solidity": 0.2
             }
            },
            "type": "barpolar"
           }
          ],
          "carpet": [
           {
            "aaxis": {
             "endlinecolor": "#2a3f5f",
             "gridcolor": "white",
             "linecolor": "white",
             "minorgridcolor": "white",
             "startlinecolor": "#2a3f5f"
            },
            "baxis": {
             "endlinecolor": "#2a3f5f",
             "gridcolor": "white",
             "linecolor": "white",
             "minorgridcolor": "white",
             "startlinecolor": "#2a3f5f"
            },
            "type": "carpet"
           }
          ],
          "choropleth": [
           {
            "colorbar": {
             "outlinewidth": 0,
             "ticks": ""
            },
            "type": "choropleth"
           }
          ],
          "contour": [
           {
            "colorbar": {
             "outlinewidth": 0,
             "ticks": ""
            },
            "colorscale": [
             [
              0,
              "#0d0887"
             ],
             [
              0.1111111111111111,
              "#46039f"
             ],
             [
              0.2222222222222222,
              "#7201a8"
             ],
             [
              0.3333333333333333,
              "#9c179e"
             ],
             [
              0.4444444444444444,
              "#bd3786"
             ],
             [
              0.5555555555555556,
              "#d8576b"
             ],
             [
              0.6666666666666666,
              "#ed7953"
             ],
             [
              0.7777777777777778,
              "#fb9f3a"
             ],
             [
              0.8888888888888888,
              "#fdca26"
             ],
             [
              1,
              "#f0f921"
             ]
            ],
            "type": "contour"
           }
          ],
          "contourcarpet": [
           {
            "colorbar": {
             "outlinewidth": 0,
             "ticks": ""
            },
            "type": "contourcarpet"
           }
          ],
          "heatmap": [
           {
            "colorbar": {
             "outlinewidth": 0,
             "ticks": ""
            },
            "colorscale": [
             [
              0,
              "#0d0887"
             ],
             [
              0.1111111111111111,
              "#46039f"
             ],
             [
              0.2222222222222222,
              "#7201a8"
             ],
             [
              0.3333333333333333,
              "#9c179e"
             ],
             [
              0.4444444444444444,
              "#bd3786"
             ],
             [
              0.5555555555555556,
              "#d8576b"
             ],
             [
              0.6666666666666666,
              "#ed7953"
             ],
             [
              0.7777777777777778,
              "#fb9f3a"
             ],
             [
              0.8888888888888888,
              "#fdca26"
             ],
             [
              1,
              "#f0f921"
             ]
            ],
            "type": "heatmap"
           }
          ],
          "histogram": [
           {
            "marker": {
             "pattern": {
              "fillmode": "overlay",
              "size": 10,
              "solidity": 0.2
             }
            },
            "type": "histogram"
           }
          ],
          "histogram2d": [
           {
            "colorbar": {
             "outlinewidth": 0,
             "ticks": ""
            },
            "colorscale": [
             [
              0,
              "#0d0887"
             ],
             [
              0.1111111111111111,
              "#46039f"
             ],
             [
              0.2222222222222222,
              "#7201a8"
             ],
             [
              0.3333333333333333,
              "#9c179e"
             ],
             [
              0.4444444444444444,
              "#bd3786"
             ],
             [
              0.5555555555555556,
              "#d8576b"
             ],
             [
              0.6666666666666666,
              "#ed7953"
             ],
             [
              0.7777777777777778,
              "#fb9f3a"
             ],
             [
              0.8888888888888888,
              "#fdca26"
             ],
             [
              1,
              "#f0f921"
             ]
            ],
            "type": "histogram2d"
           }
          ],
          "histogram2dcontour": [
           {
            "colorbar": {
             "outlinewidth": 0,
             "ticks": ""
            },
            "colorscale": [
             [
              0,
              "#0d0887"
             ],
             [
              0.1111111111111111,
              "#46039f"
             ],
             [
              0.2222222222222222,
              "#7201a8"
             ],
             [
              0.3333333333333333,
              "#9c179e"
             ],
             [
              0.4444444444444444,
              "#bd3786"
             ],
             [
              0.5555555555555556,
              "#d8576b"
             ],
             [
              0.6666666666666666,
              "#ed7953"
             ],
             [
              0.7777777777777778,
              "#fb9f3a"
             ],
             [
              0.8888888888888888,
              "#fdca26"
             ],
             [
              1,
              "#f0f921"
             ]
            ],
            "type": "histogram2dcontour"
           }
          ],
          "mesh3d": [
           {
            "colorbar": {
             "outlinewidth": 0,
             "ticks": ""
            },
            "type": "mesh3d"
           }
          ],
          "parcoords": [
           {
            "line": {
             "colorbar": {
              "outlinewidth": 0,
              "ticks": ""
             }
            },
            "type": "parcoords"
           }
          ],
          "pie": [
           {
            "automargin": true,
            "type": "pie"
           }
          ],
          "scatter": [
           {
            "fillpattern": {
             "fillmode": "overlay",
             "size": 10,
             "solidity": 0.2
            },
            "type": "scatter"
           }
          ],
          "scatter3d": [
           {
            "line": {
             "colorbar": {
              "outlinewidth": 0,
              "ticks": ""
             }
            },
            "marker": {
             "colorbar": {
              "outlinewidth": 0,
              "ticks": ""
             }
            },
            "type": "scatter3d"
           }
          ],
          "scattercarpet": [
           {
            "marker": {
             "colorbar": {
              "outlinewidth": 0,
              "ticks": ""
             }
            },
            "type": "scattercarpet"
           }
          ],
          "scattergeo": [
           {
            "marker": {
             "colorbar": {
              "outlinewidth": 0,
              "ticks": ""
             }
            },
            "type": "scattergeo"
           }
          ],
          "scattergl": [
           {
            "marker": {
             "colorbar": {
              "outlinewidth": 0,
              "ticks": ""
             }
            },
            "type": "scattergl"
           }
          ],
          "scattermap": [
           {
            "marker": {
             "colorbar": {
              "outlinewidth": 0,
              "ticks": ""
             }
            },
            "type": "scattermap"
           }
          ],
          "scattermapbox": [
           {
            "marker": {
             "colorbar": {
              "outlinewidth": 0,
              "ticks": ""
             }
            },
            "type": "scattermapbox"
           }
          ],
          "scatterpolar": [
           {
            "marker": {
             "colorbar": {
              "outlinewidth": 0,
              "ticks": ""
             }
            },
            "type": "scatterpolar"
           }
          ],
          "scatterpolargl": [
           {
            "marker": {
             "colorbar": {
              "outlinewidth": 0,
              "ticks": ""
             }
            },
            "type": "scatterpolargl"
           }
          ],
          "scatterternary": [
           {
            "marker": {
             "colorbar": {
              "outlinewidth": 0,
              "ticks": ""
             }
            },
            "type": "scatterternary"
           }
          ],
          "surface": [
           {
            "colorbar": {
             "outlinewidth": 0,
             "ticks": ""
            },
            "colorscale": [
             [
              0,
              "#0d0887"
             ],
             [
              0.1111111111111111,
              "#46039f"
             ],
             [
              0.2222222222222222,
              "#7201a8"
             ],
             [
              0.3333333333333333,
              "#9c179e"
             ],
             [
              0.4444444444444444,
              "#bd3786"
             ],
             [
              0.5555555555555556,
              "#d8576b"
             ],
             [
              0.6666666666666666,
              "#ed7953"
             ],
             [
              0.7777777777777778,
              "#fb9f3a"
             ],
             [
              0.8888888888888888,
              "#fdca26"
             ],
             [
              1,
              "#f0f921"
             ]
            ],
            "type": "surface"
           }
          ],
          "table": [
           {
            "cells": {
             "fill": {
              "color": "#EBF0F8"
             },
             "line": {
              "color": "white"
             }
            },
            "header": {
             "fill": {
              "color": "#C8D4E3"
             },
             "line": {
              "color": "white"
             }
            },
            "type": "table"
           }
          ]
         },
         "layout": {
          "annotationdefaults": {
           "arrowcolor": "#2a3f5f",
           "arrowhead": 0,
           "arrowwidth": 1
          },
          "autotypenumbers": "strict",
          "coloraxis": {
           "colorbar": {
            "outlinewidth": 0,
            "ticks": ""
           }
          },
          "colorscale": {
           "diverging": [
            [
             0,
             "#8e0152"
            ],
            [
             0.1,
             "#c51b7d"
            ],
            [
             0.2,
             "#de77ae"
            ],
            [
             0.3,
             "#f1b6da"
            ],
            [
             0.4,
             "#fde0ef"
            ],
            [
             0.5,
             "#f7f7f7"
            ],
            [
             0.6,
             "#e6f5d0"
            ],
            [
             0.7,
             "#b8e186"
            ],
            [
             0.8,
             "#7fbc41"
            ],
            [
             0.9,
             "#4d9221"
            ],
            [
             1,
             "#276419"
            ]
           ],
           "sequential": [
            [
             0,
             "#0d0887"
            ],
            [
             0.1111111111111111,
             "#46039f"
            ],
            [
             0.2222222222222222,
             "#7201a8"
            ],
            [
             0.3333333333333333,
             "#9c179e"
            ],
            [
             0.4444444444444444,
             "#bd3786"
            ],
            [
             0.5555555555555556,
             "#d8576b"
            ],
            [
             0.6666666666666666,
             "#ed7953"
            ],
            [
             0.7777777777777778,
             "#fb9f3a"
            ],
            [
             0.8888888888888888,
             "#fdca26"
            ],
            [
             1,
             "#f0f921"
            ]
           ],
           "sequentialminus": [
            [
             0,
             "#0d0887"
            ],
            [
             0.1111111111111111,
             "#46039f"
            ],
            [
             0.2222222222222222,
             "#7201a8"
            ],
            [
             0.3333333333333333,
             "#9c179e"
            ],
            [
             0.4444444444444444,
             "#bd3786"
            ],
            [
             0.5555555555555556,
             "#d8576b"
            ],
            [
             0.6666666666666666,
             "#ed7953"
            ],
            [
             0.7777777777777778,
             "#fb9f3a"
            ],
            [
             0.8888888888888888,
             "#fdca26"
            ],
            [
             1,
             "#f0f921"
            ]
           ]
          },
          "colorway": [
           "#636efa",
           "#EF553B",
           "#00cc96",
           "#ab63fa",
           "#FFA15A",
           "#19d3f3",
           "#FF6692",
           "#B6E880",
           "#FF97FF",
           "#FECB52"
          ],
          "font": {
           "color": "#2a3f5f"
          },
          "geo": {
           "bgcolor": "white",
           "lakecolor": "white",
           "landcolor": "#E5ECF6",
           "showlakes": true,
           "showland": true,
           "subunitcolor": "white"
          },
          "hoverlabel": {
           "align": "left"
          },
          "hovermode": "closest",
          "mapbox": {
           "style": "light"
          },
          "paper_bgcolor": "white",
          "plot_bgcolor": "#E5ECF6",
          "polar": {
           "angularaxis": {
            "gridcolor": "white",
            "linecolor": "white",
            "ticks": ""
           },
           "bgcolor": "#E5ECF6",
           "radialaxis": {
            "gridcolor": "white",
            "linecolor": "white",
            "ticks": ""
           }
          },
          "scene": {
           "xaxis": {
            "backgroundcolor": "#E5ECF6",
            "gridcolor": "white",
            "gridwidth": 2,
            "linecolor": "white",
            "showbackground": true,
            "ticks": "",
            "zerolinecolor": "white"
           },
           "yaxis": {
            "backgroundcolor": "#E5ECF6",
            "gridcolor": "white",
            "gridwidth": 2,
            "linecolor": "white",
            "showbackground": true,
            "ticks": "",
            "zerolinecolor": "white"
           },
           "zaxis": {
            "backgroundcolor": "#E5ECF6",
            "gridcolor": "white",
            "gridwidth": 2,
            "linecolor": "white",
            "showbackground": true,
            "ticks": "",
            "zerolinecolor": "white"
           }
          },
          "shapedefaults": {
           "line": {
            "color": "#2a3f5f"
           }
          },
          "ternary": {
           "aaxis": {
            "gridcolor": "white",
            "linecolor": "white",
            "ticks": ""
           },
           "baxis": {
            "gridcolor": "white",
            "linecolor": "white",
            "ticks": ""
           },
           "bgcolor": "#E5ECF6",
           "caxis": {
            "gridcolor": "white",
            "linecolor": "white",
            "ticks": ""
           }
          },
          "title": {
           "x": 0.05
          },
          "xaxis": {
           "automargin": true,
           "gridcolor": "white",
           "linecolor": "white",
           "ticks": "",
           "title": {
            "standoff": 15
           },
           "zerolinecolor": "white",
           "zerolinewidth": 2
          },
          "yaxis": {
           "automargin": true,
           "gridcolor": "white",
           "linecolor": "white",
           "ticks": "",
           "title": {
            "standoff": 15
           },
           "zerolinecolor": "white",
           "zerolinewidth": 2
          }
         }
        },
        "title": {
         "text": "Internal RAM Distribution (Color Relative to Brand Total)"
        },
        "xaxis": {
         "anchor": "y",
         "domain": [
          0,
          1
         ],
         "title": {
          "text": "brand"
         }
        },
        "yaxis": {
         "anchor": "x",
         "domain": [
          0,
          1
         ],
         "title": {
          "text": "internal_ram"
         }
        }
       }
      }
     },
     "metadata": {},
     "output_type": "display_data"
    }
   ],
   "source": [
    "pdf = df.groupby(['brand', 'internal_ram']).size().reset_index(name=\"counts\")\n",
    "pdf['brand_total'] = pdf.groupby('brand')['counts'].transform('sum')\n",
    "pdf['proportion_within_brand'] = pdf.apply(\n",
    "    lambda row: row['counts'] / row['brand_total'] if row['brand_total'] > 0 else 0,\n",
    "    axis=1\n",
    ").round(3)\n",
    "\n",
    "px.bar(pdf, x='brand', y='internal_ram', color='proportion_within_brand', hover_data=['counts', 'proportion_within_brand'], # Show counts and proportion on hover\n",
    "    labels={'proportion_within_brand': 'Proportion within Brand'}, # Update the color bar label\n",
    "    title='Internal RAM Distribution (Color Relative to Brand Total)',\n",
    "    barmode='group')"
   ]
  },
  {
   "cell_type": "code",
   "execution_count": 85,
   "id": "66085291",
   "metadata": {},
   "outputs": [
    {
     "data": {
      "application/vnd.plotly.v1+json": {
       "config": {
        "plotlyServerURL": "https://plot.ly"
       },
       "data": [
        {
         "coloraxis": "coloraxis",
         "histfunc": "avg",
         "hovertemplate": "internal_ram=%{x}<br>brand=%{y}<br>avg of counts=%{z}<extra></extra>",
         "name": "",
         "type": "histogram2d",
         "x": {
          "bdata": "AAAAAAAACEAAAAAAAAAQQAAAAAAAABhAAAAAAAAAIEAAAAAAAAAYQAAAAAAAACBAAAAAAAAAKEAAAAAAAAAwQAAAAAAAADJAAAAAAAAAGEAAAAAAAAAgQAAAAAAAAChAAAAAAAAAMEAAAAAAAAAAQAAAAAAAAAhAAAAAAAAAEEAAAAAAAAAYQAAAAAAAACBAAAAAAAAAKEAAAAAAAAAAQAAAAAAAAAhAAAAAAAAAEEAAAAAAAAAYQAAAAAAAACBAAAAAAAAAKEAAAAAAAAAwQAAAAAAAAABAAAAAAAAACEAAAAAAAAAQQAAAAAAAABhAAAAAAAAAIEAAAAAAAAAoQAAAAAAAAABAAAAAAAAAEEAAAAAAAAAgQAAAAAAAAChAAAAAAAAAGEAAAAAAAAAgQPyp8dJNYnA//Knx0k1igD/6fmq8dJOoP/yp8dJNYrA//Knx0k1iwD/8qfHSTWLgPwAAAAAAAPA/AAAAAAAAAEAAAAAAAAAIQAAAAAAAABBAAAAAAAAAGEAAAAAAAAAYQAAAAAAAACBAAAAAAAAAEEAAAAAAAAAYQAAAAAAAACBAAAAAAAAAKEAAAAAAAAAwQAAAAAAAAABAAAAAAAAACEAAAAAAAAAQQAAAAAAAABhAAAAAAAAAIEAAAAAAAAAoQAAAAAAAADBAAAAAAAAAAEAAAAAAAAAIQAAAAAAAABBAAAAAAAAAGEAAAAAAAAAgQAAAAAAAAChAAAAAAAAAMEAAAAAAAAA4QAAAAAAAAPA/AAAAAAAAAEAAAAAAAAAIQAAAAAAAABBAAAAAAAAAGEAAAAAAAAAgQAAAAAAAAChAAAAAAAAAMEAAAAAAAAAIQAAAAAAAABBAAAAAAAAAGEAAAAAAAAAgQAAAAAAAAChAAAAAAAAAAEAAAAAAAAAIQAAAAAAAABBAAAAAAAAAGEAAAAAAAAAgQAAAAAAAAChA",
          "dtype": "f8"
         },
         "xaxis": "x",
         "xbingroup": "x",
         "y": [
          "Apple",
          "Apple",
          "Apple",
          "Apple",
          "Asus",
          "Asus",
          "Asus",
          "Asus",
          "Asus",
          "Google",
          "Google",
          "Google",
          "Google",
          "HTC",
          "HTC",
          "HTC",
          "HTC",
          "HTC",
          "HTC",
          "Huawei",
          "Huawei",
          "Huawei",
          "Huawei",
          "Huawei",
          "Huawei",
          "Huawei",
          "Infinix",
          "Infinix",
          "Infinix",
          "Infinix",
          "Infinix",
          "Infinix",
          "Lenovo",
          "Lenovo",
          "Lenovo",
          "Lenovo",
          "Microsoft",
          "Microsoft",
          "Nokia",
          "Nokia",
          "Nokia",
          "Nokia",
          "Nokia",
          "Nokia",
          "Nokia",
          "Nokia",
          "Nokia",
          "Nokia",
          "Nokia",
          "Nothing",
          "Nothing",
          "OnePlus",
          "OnePlus",
          "OnePlus",
          "OnePlus",
          "OnePlus",
          "Oppo",
          "Oppo",
          "Oppo",
          "Oppo",
          "Oppo",
          "Oppo",
          "Oppo",
          "Realme",
          "Realme",
          "Realme",
          "Realme",
          "Realme",
          "Realme",
          "Realme",
          "Realme",
          "Samsung",
          "Samsung",
          "Samsung",
          "Samsung",
          "Samsung",
          "Samsung",
          "Samsung",
          "Samsung",
          "Sony",
          "Sony",
          "Sony",
          "Sony",
          "Sony",
          "Xiaomi",
          "Xiaomi",
          "Xiaomi",
          "Xiaomi",
          "Xiaomi",
          "Xiaomi"
         ],
         "yaxis": "y",
         "ybingroup": "y",
         "z": {
          "bdata": "AQUKBwMIBwgDBAcEAwUBAwMFAQECERA7EgcPBykFJQIBBgICAQEEBwMHBQQJCxELCQEGBQgZDgEDCSUaaBYEChA3NjQJAQEECQ48IiMPAQEBBAYGEglGTEsd",
          "dtype": "i1"
         }
        }
       ],
       "layout": {
        "coloraxis": {
         "colorbar": {
          "title": {
           "text": "avg of counts"
          }
         },
         "colorscale": [
          [
           0,
           "#0d0887"
          ],
          [
           0.1111111111111111,
           "#46039f"
          ],
          [
           0.2222222222222222,
           "#7201a8"
          ],
          [
           0.3333333333333333,
           "#9c179e"
          ],
          [
           0.4444444444444444,
           "#bd3786"
          ],
          [
           0.5555555555555556,
           "#d8576b"
          ],
          [
           0.6666666666666666,
           "#ed7953"
          ],
          [
           0.7777777777777778,
           "#fb9f3a"
          ],
          [
           0.8888888888888888,
           "#fdca26"
          ],
          [
           1,
           "#f0f921"
          ]
         ]
        },
        "legend": {
         "tracegroupgap": 0
        },
        "margin": {
         "t": 60
        },
        "template": {
         "data": {
          "bar": [
           {
            "error_x": {
             "color": "#2a3f5f"
            },
            "error_y": {
             "color": "#2a3f5f"
            },
            "marker": {
             "line": {
              "color": "#E5ECF6",
              "width": 0.5
             },
             "pattern": {
              "fillmode": "overlay",
              "size": 10,
              "solidity": 0.2
             }
            },
            "type": "bar"
           }
          ],
          "barpolar": [
           {
            "marker": {
             "line": {
              "color": "#E5ECF6",
              "width": 0.5
             },
             "pattern": {
              "fillmode": "overlay",
              "size": 10,
              "solidity": 0.2
             }
            },
            "type": "barpolar"
           }
          ],
          "carpet": [
           {
            "aaxis": {
             "endlinecolor": "#2a3f5f",
             "gridcolor": "white",
             "linecolor": "white",
             "minorgridcolor": "white",
             "startlinecolor": "#2a3f5f"
            },
            "baxis": {
             "endlinecolor": "#2a3f5f",
             "gridcolor": "white",
             "linecolor": "white",
             "minorgridcolor": "white",
             "startlinecolor": "#2a3f5f"
            },
            "type": "carpet"
           }
          ],
          "choropleth": [
           {
            "colorbar": {
             "outlinewidth": 0,
             "ticks": ""
            },
            "type": "choropleth"
           }
          ],
          "contour": [
           {
            "colorbar": {
             "outlinewidth": 0,
             "ticks": ""
            },
            "colorscale": [
             [
              0,
              "#0d0887"
             ],
             [
              0.1111111111111111,
              "#46039f"
             ],
             [
              0.2222222222222222,
              "#7201a8"
             ],
             [
              0.3333333333333333,
              "#9c179e"
             ],
             [
              0.4444444444444444,
              "#bd3786"
             ],
             [
              0.5555555555555556,
              "#d8576b"
             ],
             [
              0.6666666666666666,
              "#ed7953"
             ],
             [
              0.7777777777777778,
              "#fb9f3a"
             ],
             [
              0.8888888888888888,
              "#fdca26"
             ],
             [
              1,
              "#f0f921"
             ]
            ],
            "type": "contour"
           }
          ],
          "contourcarpet": [
           {
            "colorbar": {
             "outlinewidth": 0,
             "ticks": ""
            },
            "type": "contourcarpet"
           }
          ],
          "heatmap": [
           {
            "colorbar": {
             "outlinewidth": 0,
             "ticks": ""
            },
            "colorscale": [
             [
              0,
              "#0d0887"
             ],
             [
              0.1111111111111111,
              "#46039f"
             ],
             [
              0.2222222222222222,
              "#7201a8"
             ],
             [
              0.3333333333333333,
              "#9c179e"
             ],
             [
              0.4444444444444444,
              "#bd3786"
             ],
             [
              0.5555555555555556,
              "#d8576b"
             ],
             [
              0.6666666666666666,
              "#ed7953"
             ],
             [
              0.7777777777777778,
              "#fb9f3a"
             ],
             [
              0.8888888888888888,
              "#fdca26"
             ],
             [
              1,
              "#f0f921"
             ]
            ],
            "type": "heatmap"
           }
          ],
          "histogram": [
           {
            "marker": {
             "pattern": {
              "fillmode": "overlay",
              "size": 10,
              "solidity": 0.2
             }
            },
            "type": "histogram"
           }
          ],
          "histogram2d": [
           {
            "colorbar": {
             "outlinewidth": 0,
             "ticks": ""
            },
            "colorscale": [
             [
              0,
              "#0d0887"
             ],
             [
              0.1111111111111111,
              "#46039f"
             ],
             [
              0.2222222222222222,
              "#7201a8"
             ],
             [
              0.3333333333333333,
              "#9c179e"
             ],
             [
              0.4444444444444444,
              "#bd3786"
             ],
             [
              0.5555555555555556,
              "#d8576b"
             ],
             [
              0.6666666666666666,
              "#ed7953"
             ],
             [
              0.7777777777777778,
              "#fb9f3a"
             ],
             [
              0.8888888888888888,
              "#fdca26"
             ],
             [
              1,
              "#f0f921"
             ]
            ],
            "type": "histogram2d"
           }
          ],
          "histogram2dcontour": [
           {
            "colorbar": {
             "outlinewidth": 0,
             "ticks": ""
            },
            "colorscale": [
             [
              0,
              "#0d0887"
             ],
             [
              0.1111111111111111,
              "#46039f"
             ],
             [
              0.2222222222222222,
              "#7201a8"
             ],
             [
              0.3333333333333333,
              "#9c179e"
             ],
             [
              0.4444444444444444,
              "#bd3786"
             ],
             [
              0.5555555555555556,
              "#d8576b"
             ],
             [
              0.6666666666666666,
              "#ed7953"
             ],
             [
              0.7777777777777778,
              "#fb9f3a"
             ],
             [
              0.8888888888888888,
              "#fdca26"
             ],
             [
              1,
              "#f0f921"
             ]
            ],
            "type": "histogram2dcontour"
           }
          ],
          "mesh3d": [
           {
            "colorbar": {
             "outlinewidth": 0,
             "ticks": ""
            },
            "type": "mesh3d"
           }
          ],
          "parcoords": [
           {
            "line": {
             "colorbar": {
              "outlinewidth": 0,
              "ticks": ""
             }
            },
            "type": "parcoords"
           }
          ],
          "pie": [
           {
            "automargin": true,
            "type": "pie"
           }
          ],
          "scatter": [
           {
            "fillpattern": {
             "fillmode": "overlay",
             "size": 10,
             "solidity": 0.2
            },
            "type": "scatter"
           }
          ],
          "scatter3d": [
           {
            "line": {
             "colorbar": {
              "outlinewidth": 0,
              "ticks": ""
             }
            },
            "marker": {
             "colorbar": {
              "outlinewidth": 0,
              "ticks": ""
             }
            },
            "type": "scatter3d"
           }
          ],
          "scattercarpet": [
           {
            "marker": {
             "colorbar": {
              "outlinewidth": 0,
              "ticks": ""
             }
            },
            "type": "scattercarpet"
           }
          ],
          "scattergeo": [
           {
            "marker": {
             "colorbar": {
              "outlinewidth": 0,
              "ticks": ""
             }
            },
            "type": "scattergeo"
           }
          ],
          "scattergl": [
           {
            "marker": {
             "colorbar": {
              "outlinewidth": 0,
              "ticks": ""
             }
            },
            "type": "scattergl"
           }
          ],
          "scattermap": [
           {
            "marker": {
             "colorbar": {
              "outlinewidth": 0,
              "ticks": ""
             }
            },
            "type": "scattermap"
           }
          ],
          "scattermapbox": [
           {
            "marker": {
             "colorbar": {
              "outlinewidth": 0,
              "ticks": ""
             }
            },
            "type": "scattermapbox"
           }
          ],
          "scatterpolar": [
           {
            "marker": {
             "colorbar": {
              "outlinewidth": 0,
              "ticks": ""
             }
            },
            "type": "scatterpolar"
           }
          ],
          "scatterpolargl": [
           {
            "marker": {
             "colorbar": {
              "outlinewidth": 0,
              "ticks": ""
             }
            },
            "type": "scatterpolargl"
           }
          ],
          "scatterternary": [
           {
            "marker": {
             "colorbar": {
              "outlinewidth": 0,
              "ticks": ""
             }
            },
            "type": "scatterternary"
           }
          ],
          "surface": [
           {
            "colorbar": {
             "outlinewidth": 0,
             "ticks": ""
            },
            "colorscale": [
             [
              0,
              "#0d0887"
             ],
             [
              0.1111111111111111,
              "#46039f"
             ],
             [
              0.2222222222222222,
              "#7201a8"
             ],
             [
              0.3333333333333333,
              "#9c179e"
             ],
             [
              0.4444444444444444,
              "#bd3786"
             ],
             [
              0.5555555555555556,
              "#d8576b"
             ],
             [
              0.6666666666666666,
              "#ed7953"
             ],
             [
              0.7777777777777778,
              "#fb9f3a"
             ],
             [
              0.8888888888888888,
              "#fdca26"
             ],
             [
              1,
              "#f0f921"
             ]
            ],
            "type": "surface"
           }
          ],
          "table": [
           {
            "cells": {
             "fill": {
              "color": "#EBF0F8"
             },
             "line": {
              "color": "white"
             }
            },
            "header": {
             "fill": {
              "color": "#C8D4E3"
             },
             "line": {
              "color": "white"
             }
            },
            "type": "table"
           }
          ]
         },
         "layout": {
          "annotationdefaults": {
           "arrowcolor": "#2a3f5f",
           "arrowhead": 0,
           "arrowwidth": 1
          },
          "autotypenumbers": "strict",
          "coloraxis": {
           "colorbar": {
            "outlinewidth": 0,
            "ticks": ""
           }
          },
          "colorscale": {
           "diverging": [
            [
             0,
             "#8e0152"
            ],
            [
             0.1,
             "#c51b7d"
            ],
            [
             0.2,
             "#de77ae"
            ],
            [
             0.3,
             "#f1b6da"
            ],
            [
             0.4,
             "#fde0ef"
            ],
            [
             0.5,
             "#f7f7f7"
            ],
            [
             0.6,
             "#e6f5d0"
            ],
            [
             0.7,
             "#b8e186"
            ],
            [
             0.8,
             "#7fbc41"
            ],
            [
             0.9,
             "#4d9221"
            ],
            [
             1,
             "#276419"
            ]
           ],
           "sequential": [
            [
             0,
             "#0d0887"
            ],
            [
             0.1111111111111111,
             "#46039f"
            ],
            [
             0.2222222222222222,
             "#7201a8"
            ],
            [
             0.3333333333333333,
             "#9c179e"
            ],
            [
             0.4444444444444444,
             "#bd3786"
            ],
            [
             0.5555555555555556,
             "#d8576b"
            ],
            [
             0.6666666666666666,
             "#ed7953"
            ],
            [
             0.7777777777777778,
             "#fb9f3a"
            ],
            [
             0.8888888888888888,
             "#fdca26"
            ],
            [
             1,
             "#f0f921"
            ]
           ],
           "sequentialminus": [
            [
             0,
             "#0d0887"
            ],
            [
             0.1111111111111111,
             "#46039f"
            ],
            [
             0.2222222222222222,
             "#7201a8"
            ],
            [
             0.3333333333333333,
             "#9c179e"
            ],
            [
             0.4444444444444444,
             "#bd3786"
            ],
            [
             0.5555555555555556,
             "#d8576b"
            ],
            [
             0.6666666666666666,
             "#ed7953"
            ],
            [
             0.7777777777777778,
             "#fb9f3a"
            ],
            [
             0.8888888888888888,
             "#fdca26"
            ],
            [
             1,
             "#f0f921"
            ]
           ]
          },
          "colorway": [
           "#636efa",
           "#EF553B",
           "#00cc96",
           "#ab63fa",
           "#FFA15A",
           "#19d3f3",
           "#FF6692",
           "#B6E880",
           "#FF97FF",
           "#FECB52"
          ],
          "font": {
           "color": "#2a3f5f"
          },
          "geo": {
           "bgcolor": "white",
           "lakecolor": "white",
           "landcolor": "#E5ECF6",
           "showlakes": true,
           "showland": true,
           "subunitcolor": "white"
          },
          "hoverlabel": {
           "align": "left"
          },
          "hovermode": "closest",
          "mapbox": {
           "style": "light"
          },
          "paper_bgcolor": "white",
          "plot_bgcolor": "#E5ECF6",
          "polar": {
           "angularaxis": {
            "gridcolor": "white",
            "linecolor": "white",
            "ticks": ""
           },
           "bgcolor": "#E5ECF6",
           "radialaxis": {
            "gridcolor": "white",
            "linecolor": "white",
            "ticks": ""
           }
          },
          "scene": {
           "xaxis": {
            "backgroundcolor": "#E5ECF6",
            "gridcolor": "white",
            "gridwidth": 2,
            "linecolor": "white",
            "showbackground": true,
            "ticks": "",
            "zerolinecolor": "white"
           },
           "yaxis": {
            "backgroundcolor": "#E5ECF6",
            "gridcolor": "white",
            "gridwidth": 2,
            "linecolor": "white",
            "showbackground": true,
            "ticks": "",
            "zerolinecolor": "white"
           },
           "zaxis": {
            "backgroundcolor": "#E5ECF6",
            "gridcolor": "white",
            "gridwidth": 2,
            "linecolor": "white",
            "showbackground": true,
            "ticks": "",
            "zerolinecolor": "white"
           }
          },
          "shapedefaults": {
           "line": {
            "color": "#2a3f5f"
           }
          },
          "ternary": {
           "aaxis": {
            "gridcolor": "white",
            "linecolor": "white",
            "ticks": ""
           },
           "baxis": {
            "gridcolor": "white",
            "linecolor": "white",
            "ticks": ""
           },
           "bgcolor": "#E5ECF6",
           "caxis": {
            "gridcolor": "white",
            "linecolor": "white",
            "ticks": ""
           }
          },
          "title": {
           "x": 0.05
          },
          "xaxis": {
           "automargin": true,
           "gridcolor": "white",
           "linecolor": "white",
           "ticks": "",
           "title": {
            "standoff": 15
           },
           "zerolinecolor": "white",
           "zerolinewidth": 2
          },
          "yaxis": {
           "automargin": true,
           "gridcolor": "white",
           "linecolor": "white",
           "ticks": "",
           "title": {
            "standoff": 15
           },
           "zerolinecolor": "white",
           "zerolinewidth": 2
          }
         }
        },
        "xaxis": {
         "anchor": "y",
         "domain": [
          0,
          1
         ],
         "title": {
          "text": "internal_ram"
         }
        },
        "yaxis": {
         "anchor": "x",
         "domain": [
          0,
          1
         ],
         "title": {
          "text": "brand"
         }
        }
       }
      }
     },
     "metadata": {},
     "output_type": "display_data"
    }
   ],
   "source": [
    "pdf = df.groupby(['brand', 'internal_ram']).size().reset_index(name=\"counts\")\n",
    "px.density_heatmap(pdf, x='internal_ram', y='brand', z='counts', histfunc='avg')"
   ]
  },
  {
   "cell_type": "code",
   "execution_count": 16,
   "id": "6c83d464",
   "metadata": {},
   "outputs": [
    {
     "data": {
      "application/vnd.plotly.v1+json": {
       "config": {
        "plotlyServerURL": "https://plot.ly"
       },
       "data": [
        {
         "hovertemplate": "screen_resolution_x=%{x}<br>screen_resolution_y=%{y}<br>counts=%{marker.size}<extra></extra>",
         "legendgroup": "",
         "marker": {
          "color": "#636efa",
          "size": {
           "bdata": "DgAcAAIAAQAJAAMADAAUALwAEwApABwACgABAAIAAgAEAAEATwAGAAgAAwDFAScAQwABAA4ADQAlAAEADQACAAUABQACAAYAAQAEAAIAAgADAAIAAQACAAIAAwAXAAUAAwABAAEAAwACABEAAwADAAMAEgADAAEAAwAEAAMAAQAEAAIAAgABAAQABwAHACEABwAGAAIAAgABAAIAAQABAAEAAQABAAEAAQABAAQAAQACAAEAAQABAAIA",
           "dtype": "i2"
          },
          "sizemode": "area",
          "sizeref": 0.0453,
          "symbol": "circle"
         },
         "mode": "markers",
         "name": "",
         "orientation": "v",
         "showlegend": false,
         "type": "scatter",
         "x": {
          "bdata": "AAAAAAAAXkAAAAAAAABuQAAAAAAAAH5AAAAAAADggEAAAAAAAICGQAAAAAAAgIZAAAAAAACAhkAAAAAAAICGQAAAAAAAgIZAAAAAAACAhkAAAAAAAICGQAAAAAAAgIZAAAAAAACAhkAAAAAAAICGQAAAAAAAcIdAAAAAAADgkEAAAAAAAOCQQAAAAAAA4JBAAAAAAADgkEAAAAAAAOCQQAAAAAAA4JBAAAAAAADgkEAAAAAAAOCQQAAAAAAA4JBAAAAAAADgkEAAAAAAAOCQQAAAAAAA4JBAAAAAAADgkEAAAAAAAOCQQAAAAAAA4JBAAAAAAADgkEAAAAAAAOCQQAAAAAAA4JBAAAAAAADwkEAAAAAAAMCRQAAAAAAASJJAAAAAAABgkkAAAAAAAGySQAAAAAAAkJJAAAAAAADAkkAAAAAAAMCSQAAAAAAAwJJAAAAAAADYkkAAAAAAAPCSQAAAAAAAAJNAAAAAAAAQk0AAAAAAABCTQAAAAAAAIJNAAAAAAAAgk0AAAAAAACCTQAAAAAAAMJNAAAAAAABQk0AAAAAAAFCTQAAAAAAAYJNAAAAAAACgk0AAAAAAALCTQAAAAAAAsJNAAAAAAADAk0AAAAAAAOCTQAAAAAAAAJRAAAAAAAAQlEAAAAAAACiUQAAAAAAAkJRAAAAAAACglEAAAAAAAACVQAAAAAAAAJVAAAAAAACAlkAAAAAAAICWQAAAAAAAgJZAAAAAAACAlkAAAAAAAICWQAAAAAAAgJZAAAAAAACAlkAAAAAAALCZQAAAAAAAoJtAAAAAAAAAnEAAAAAAACCcQAAAAAAAUJxAAAAAAADAnEAAAAAAAACdQAAAAAAAEJ1AAAAAAACQnUAAAAAAAOidQAAAAAAA8J1AAAAAAADAnkAAAAAAADigQAAAAAAAMKFAAAAAAABgoUAAAAAAAGChQAAAAAAAcKFAAAAAAACAoUAAAAAAAJChQAAAAAAAuKFA",
          "dtype": "f8"
         },
         "xaxis": "x",
         "y": {
          "bdata": "AAAAAAAAZEAAAAAAAAB0QAAAAAAAAI5AAAAAAAAAjkAAAAAAAICWQAAAAAAAIJdAAAAAAADAl0AAAAAAAGCYQAAAAAAAAJlAAAAAAAAQmUAAAAAAADCZQAAAAAAAoJlAAAAAAADImUAAAAAAAECaQAAAAAAA2JRAAAAAAAAAnkAAAAAAAAyiQAAAAAAAEKJAAAAAAABIokAAAAAAAJCiQAAAAAAAqKJAAAAAAACwokAAAAAAAMCiQAAAAAAA0KJAAAAAAADYokAAAAAAAPCiQAAAAAAACKNAAAAAAAAgo0AAAAAAADijQAAAAAAAYKNAAAAAAACwo0AAAAAAAJikQAAAAAAAoKRAAAAAAADYokAAAAAAAASlQAAAAAAAyKNAAAAAAADAokAAAAAAAPijQAAAAAAAzKVAAAAAAACgpEAAAAAAALikQAAAAAAA3KRAAAAAAAB8pEAAAAAAAHCkQAAAAAAAAKVAAAAAAAAYpUAAAAAAADClQAAAAAAAGKVAAAAAAACwpUAAAAAAAMCmQAAAAAAAGKVAAAAAAADopEAAAAAAAHylQAAAAAAAqKVAAAAAAACQpUAAAAAAAEClQAAAAAAAOKZAAAAAAAC4pUAAAAAAAOClQAAAAAAAUKZAAAAAAAC0pUAAAAAAANilQAAAAAAAIKZAAAAAAABopkAAAAAAAKilQAAAAAAAYKdAAAAAAAAApEAAAAAAAICmQAAAAAAAIKhAAAAAAABgqEAAAAAAAMCoQAAAAAAAAKlAAAAAAAAgqUAAAAAAAACuQAAAAAAAQKFAAAAAAAAAnkAAAAAAABilQAAAAAAAAKFAAAAAAABAoUAAAAAAAOCgQAAAAAAAYKNAAAAAAAAApUAAAAAAAOCgQAAAAAAA4KBAAAAAAAAQoUAAAAAAANCgQAAAAAAAYKNAAAAAAABwo0AAAAAAAICjQAAAAAAA4KhAAAAAAAAQo0AAAAAAAGCjQAAAAAAAEKNA",
          "dtype": "f8"
         },
         "yaxis": "y"
        }
       ],
       "layout": {
        "legend": {
         "itemsizing": "constant",
         "tracegroupgap": 0
        },
        "margin": {
         "t": 60
        },
        "template": {
         "data": {
          "bar": [
           {
            "error_x": {
             "color": "#2a3f5f"
            },
            "error_y": {
             "color": "#2a3f5f"
            },
            "marker": {
             "line": {
              "color": "#E5ECF6",
              "width": 0.5
             },
             "pattern": {
              "fillmode": "overlay",
              "size": 10,
              "solidity": 0.2
             }
            },
            "type": "bar"
           }
          ],
          "barpolar": [
           {
            "marker": {
             "line": {
              "color": "#E5ECF6",
              "width": 0.5
             },
             "pattern": {
              "fillmode": "overlay",
              "size": 10,
              "solidity": 0.2
             }
            },
            "type": "barpolar"
           }
          ],
          "carpet": [
           {
            "aaxis": {
             "endlinecolor": "#2a3f5f",
             "gridcolor": "white",
             "linecolor": "white",
             "minorgridcolor": "white",
             "startlinecolor": "#2a3f5f"
            },
            "baxis": {
             "endlinecolor": "#2a3f5f",
             "gridcolor": "white",
             "linecolor": "white",
             "minorgridcolor": "white",
             "startlinecolor": "#2a3f5f"
            },
            "type": "carpet"
           }
          ],
          "choropleth": [
           {
            "colorbar": {
             "outlinewidth": 0,
             "ticks": ""
            },
            "type": "choropleth"
           }
          ],
          "contour": [
           {
            "colorbar": {
             "outlinewidth": 0,
             "ticks": ""
            },
            "colorscale": [
             [
              0,
              "#0d0887"
             ],
             [
              0.1111111111111111,
              "#46039f"
             ],
             [
              0.2222222222222222,
              "#7201a8"
             ],
             [
              0.3333333333333333,
              "#9c179e"
             ],
             [
              0.4444444444444444,
              "#bd3786"
             ],
             [
              0.5555555555555556,
              "#d8576b"
             ],
             [
              0.6666666666666666,
              "#ed7953"
             ],
             [
              0.7777777777777778,
              "#fb9f3a"
             ],
             [
              0.8888888888888888,
              "#fdca26"
             ],
             [
              1,
              "#f0f921"
             ]
            ],
            "type": "contour"
           }
          ],
          "contourcarpet": [
           {
            "colorbar": {
             "outlinewidth": 0,
             "ticks": ""
            },
            "type": "contourcarpet"
           }
          ],
          "heatmap": [
           {
            "colorbar": {
             "outlinewidth": 0,
             "ticks": ""
            },
            "colorscale": [
             [
              0,
              "#0d0887"
             ],
             [
              0.1111111111111111,
              "#46039f"
             ],
             [
              0.2222222222222222,
              "#7201a8"
             ],
             [
              0.3333333333333333,
              "#9c179e"
             ],
             [
              0.4444444444444444,
              "#bd3786"
             ],
             [
              0.5555555555555556,
              "#d8576b"
             ],
             [
              0.6666666666666666,
              "#ed7953"
             ],
             [
              0.7777777777777778,
              "#fb9f3a"
             ],
             [
              0.8888888888888888,
              "#fdca26"
             ],
             [
              1,
              "#f0f921"
             ]
            ],
            "type": "heatmap"
           }
          ],
          "histogram": [
           {
            "marker": {
             "pattern": {
              "fillmode": "overlay",
              "size": 10,
              "solidity": 0.2
             }
            },
            "type": "histogram"
           }
          ],
          "histogram2d": [
           {
            "colorbar": {
             "outlinewidth": 0,
             "ticks": ""
            },
            "colorscale": [
             [
              0,
              "#0d0887"
             ],
             [
              0.1111111111111111,
              "#46039f"
             ],
             [
              0.2222222222222222,
              "#7201a8"
             ],
             [
              0.3333333333333333,
              "#9c179e"
             ],
             [
              0.4444444444444444,
              "#bd3786"
             ],
             [
              0.5555555555555556,
              "#d8576b"
             ],
             [
              0.6666666666666666,
              "#ed7953"
             ],
             [
              0.7777777777777778,
              "#fb9f3a"
             ],
             [
              0.8888888888888888,
              "#fdca26"
             ],
             [
              1,
              "#f0f921"
             ]
            ],
            "type": "histogram2d"
           }
          ],
          "histogram2dcontour": [
           {
            "colorbar": {
             "outlinewidth": 0,
             "ticks": ""
            },
            "colorscale": [
             [
              0,
              "#0d0887"
             ],
             [
              0.1111111111111111,
              "#46039f"
             ],
             [
              0.2222222222222222,
              "#7201a8"
             ],
             [
              0.3333333333333333,
              "#9c179e"
             ],
             [
              0.4444444444444444,
              "#bd3786"
             ],
             [
              0.5555555555555556,
              "#d8576b"
             ],
             [
              0.6666666666666666,
              "#ed7953"
             ],
             [
              0.7777777777777778,
              "#fb9f3a"
             ],
             [
              0.8888888888888888,
              "#fdca26"
             ],
             [
              1,
              "#f0f921"
             ]
            ],
            "type": "histogram2dcontour"
           }
          ],
          "mesh3d": [
           {
            "colorbar": {
             "outlinewidth": 0,
             "ticks": ""
            },
            "type": "mesh3d"
           }
          ],
          "parcoords": [
           {
            "line": {
             "colorbar": {
              "outlinewidth": 0,
              "ticks": ""
             }
            },
            "type": "parcoords"
           }
          ],
          "pie": [
           {
            "automargin": true,
            "type": "pie"
           }
          ],
          "scatter": [
           {
            "fillpattern": {
             "fillmode": "overlay",
             "size": 10,
             "solidity": 0.2
            },
            "type": "scatter"
           }
          ],
          "scatter3d": [
           {
            "line": {
             "colorbar": {
              "outlinewidth": 0,
              "ticks": ""
             }
            },
            "marker": {
             "colorbar": {
              "outlinewidth": 0,
              "ticks": ""
             }
            },
            "type": "scatter3d"
           }
          ],
          "scattercarpet": [
           {
            "marker": {
             "colorbar": {
              "outlinewidth": 0,
              "ticks": ""
             }
            },
            "type": "scattercarpet"
           }
          ],
          "scattergeo": [
           {
            "marker": {
             "colorbar": {
              "outlinewidth": 0,
              "ticks": ""
             }
            },
            "type": "scattergeo"
           }
          ],
          "scattergl": [
           {
            "marker": {
             "colorbar": {
              "outlinewidth": 0,
              "ticks": ""
             }
            },
            "type": "scattergl"
           }
          ],
          "scattermap": [
           {
            "marker": {
             "colorbar": {
              "outlinewidth": 0,
              "ticks": ""
             }
            },
            "type": "scattermap"
           }
          ],
          "scattermapbox": [
           {
            "marker": {
             "colorbar": {
              "outlinewidth": 0,
              "ticks": ""
             }
            },
            "type": "scattermapbox"
           }
          ],
          "scatterpolar": [
           {
            "marker": {
             "colorbar": {
              "outlinewidth": 0,
              "ticks": ""
             }
            },
            "type": "scatterpolar"
           }
          ],
          "scatterpolargl": [
           {
            "marker": {
             "colorbar": {
              "outlinewidth": 0,
              "ticks": ""
             }
            },
            "type": "scatterpolargl"
           }
          ],
          "scatterternary": [
           {
            "marker": {
             "colorbar": {
              "outlinewidth": 0,
              "ticks": ""
             }
            },
            "type": "scatterternary"
           }
          ],
          "surface": [
           {
            "colorbar": {
             "outlinewidth": 0,
             "ticks": ""
            },
            "colorscale": [
             [
              0,
              "#0d0887"
             ],
             [
              0.1111111111111111,
              "#46039f"
             ],
             [
              0.2222222222222222,
              "#7201a8"
             ],
             [
              0.3333333333333333,
              "#9c179e"
             ],
             [
              0.4444444444444444,
              "#bd3786"
             ],
             [
              0.5555555555555556,
              "#d8576b"
             ],
             [
              0.6666666666666666,
              "#ed7953"
             ],
             [
              0.7777777777777778,
              "#fb9f3a"
             ],
             [
              0.8888888888888888,
              "#fdca26"
             ],
             [
              1,
              "#f0f921"
             ]
            ],
            "type": "surface"
           }
          ],
          "table": [
           {
            "cells": {
             "fill": {
              "color": "#EBF0F8"
             },
             "line": {
              "color": "white"
             }
            },
            "header": {
             "fill": {
              "color": "#C8D4E3"
             },
             "line": {
              "color": "white"
             }
            },
            "type": "table"
           }
          ]
         },
         "layout": {
          "annotationdefaults": {
           "arrowcolor": "#2a3f5f",
           "arrowhead": 0,
           "arrowwidth": 1
          },
          "autotypenumbers": "strict",
          "coloraxis": {
           "colorbar": {
            "outlinewidth": 0,
            "ticks": ""
           }
          },
          "colorscale": {
           "diverging": [
            [
             0,
             "#8e0152"
            ],
            [
             0.1,
             "#c51b7d"
            ],
            [
             0.2,
             "#de77ae"
            ],
            [
             0.3,
             "#f1b6da"
            ],
            [
             0.4,
             "#fde0ef"
            ],
            [
             0.5,
             "#f7f7f7"
            ],
            [
             0.6,
             "#e6f5d0"
            ],
            [
             0.7,
             "#b8e186"
            ],
            [
             0.8,
             "#7fbc41"
            ],
            [
             0.9,
             "#4d9221"
            ],
            [
             1,
             "#276419"
            ]
           ],
           "sequential": [
            [
             0,
             "#0d0887"
            ],
            [
             0.1111111111111111,
             "#46039f"
            ],
            [
             0.2222222222222222,
             "#7201a8"
            ],
            [
             0.3333333333333333,
             "#9c179e"
            ],
            [
             0.4444444444444444,
             "#bd3786"
            ],
            [
             0.5555555555555556,
             "#d8576b"
            ],
            [
             0.6666666666666666,
             "#ed7953"
            ],
            [
             0.7777777777777778,
             "#fb9f3a"
            ],
            [
             0.8888888888888888,
             "#fdca26"
            ],
            [
             1,
             "#f0f921"
            ]
           ],
           "sequentialminus": [
            [
             0,
             "#0d0887"
            ],
            [
             0.1111111111111111,
             "#46039f"
            ],
            [
             0.2222222222222222,
             "#7201a8"
            ],
            [
             0.3333333333333333,
             "#9c179e"
            ],
            [
             0.4444444444444444,
             "#bd3786"
            ],
            [
             0.5555555555555556,
             "#d8576b"
            ],
            [
             0.6666666666666666,
             "#ed7953"
            ],
            [
             0.7777777777777778,
             "#fb9f3a"
            ],
            [
             0.8888888888888888,
             "#fdca26"
            ],
            [
             1,
             "#f0f921"
            ]
           ]
          },
          "colorway": [
           "#636efa",
           "#EF553B",
           "#00cc96",
           "#ab63fa",
           "#FFA15A",
           "#19d3f3",
           "#FF6692",
           "#B6E880",
           "#FF97FF",
           "#FECB52"
          ],
          "font": {
           "color": "#2a3f5f"
          },
          "geo": {
           "bgcolor": "white",
           "lakecolor": "white",
           "landcolor": "#E5ECF6",
           "showlakes": true,
           "showland": true,
           "subunitcolor": "white"
          },
          "hoverlabel": {
           "align": "left"
          },
          "hovermode": "closest",
          "mapbox": {
           "style": "light"
          },
          "paper_bgcolor": "white",
          "plot_bgcolor": "#E5ECF6",
          "polar": {
           "angularaxis": {
            "gridcolor": "white",
            "linecolor": "white",
            "ticks": ""
           },
           "bgcolor": "#E5ECF6",
           "radialaxis": {
            "gridcolor": "white",
            "linecolor": "white",
            "ticks": ""
           }
          },
          "scene": {
           "xaxis": {
            "backgroundcolor": "#E5ECF6",
            "gridcolor": "white",
            "gridwidth": 2,
            "linecolor": "white",
            "showbackground": true,
            "ticks": "",
            "zerolinecolor": "white"
           },
           "yaxis": {
            "backgroundcolor": "#E5ECF6",
            "gridcolor": "white",
            "gridwidth": 2,
            "linecolor": "white",
            "showbackground": true,
            "ticks": "",
            "zerolinecolor": "white"
           },
           "zaxis": {
            "backgroundcolor": "#E5ECF6",
            "gridcolor": "white",
            "gridwidth": 2,
            "linecolor": "white",
            "showbackground": true,
            "ticks": "",
            "zerolinecolor": "white"
           }
          },
          "shapedefaults": {
           "line": {
            "color": "#2a3f5f"
           }
          },
          "ternary": {
           "aaxis": {
            "gridcolor": "white",
            "linecolor": "white",
            "ticks": ""
           },
           "baxis": {
            "gridcolor": "white",
            "linecolor": "white",
            "ticks": ""
           },
           "bgcolor": "#E5ECF6",
           "caxis": {
            "gridcolor": "white",
            "linecolor": "white",
            "ticks": ""
           }
          },
          "title": {
           "x": 0.05
          },
          "xaxis": {
           "automargin": true,
           "gridcolor": "white",
           "linecolor": "white",
           "ticks": "",
           "title": {
            "standoff": 15
           },
           "zerolinecolor": "white",
           "zerolinewidth": 2
          },
          "yaxis": {
           "automargin": true,
           "gridcolor": "white",
           "linecolor": "white",
           "ticks": "",
           "title": {
            "standoff": 15
           },
           "zerolinecolor": "white",
           "zerolinewidth": 2
          }
         }
        },
        "xaxis": {
         "anchor": "y",
         "domain": [
          0,
          1
         ],
         "title": {
          "text": "screen_resolution_x"
         }
        },
        "yaxis": {
         "anchor": "x",
         "domain": [
          0,
          1
         ],
         "title": {
          "text": "screen_resolution_y"
         }
        }
       }
      }
     },
     "metadata": {},
     "output_type": "display_data"
    }
   ],
   "source": [
    "pdf = df.groupby(['screen_resolution_x', 'screen_resolution_y']).size().reset_index(name=\"counts\")\n",
    "px.scatter(pdf, x='screen_resolution_x', y='screen_resolution_y', size='counts', size_max=100)"
   ]
  },
  {
   "cell_type": "markdown",
   "id": "899706fa",
   "metadata": {},
   "source": [
    "Most of the phones have resolution of 1080x2400, which is 9:20 aspect ratio, followed by 720x1600 resolution, which is also 9:20 aspect ratio. There are several phones which have tablet-like resolution and aspect ratios, and this phones are foldable phones as can be seen below:"
   ]
  },
  {
   "cell_type": "code",
   "execution_count": 17,
   "id": "b93d21c7",
   "metadata": {},
   "outputs": [
    {
     "data": {
      "application/vnd.plotly.v1+json": {
       "config": {
        "plotlyServerURL": "https://plot.ly"
       },
       "data": [
        {
         "hovertemplate": "foldable=False<br>screen_resolution_x=%{x}<br>screen_resolution_y=%{y}<br>counts=%{marker.size}<extra></extra>",
         "legendgroup": "False",
         "marker": {
          "color": "#636efa",
          "size": {
           "bdata": "DgAcAAIAAQAJAAMADAAUALwAEwApABwACgABAAIAAgAEAAEATwAGAAgAAwDFAScAQwABAA4ADQAlAAEACwAFAAYAAQAEAAIAAwACAAEAAgACAAMAFwAFAAMAAQADAAIAEQADAAMAAwASAAMAAQADAAQAAwABAAQAAgACAAEABAAHAAcAIQAHAAYAAQABAA==",
           "dtype": "i2"
          },
          "sizemode": "area",
          "sizeref": 0.0453,
          "symbol": "circle"
         },
         "mode": "markers",
         "name": "False",
         "orientation": "v",
         "showlegend": true,
         "type": "scatter",
         "x": {
          "bdata": "AAAAAAAAXkAAAAAAAABuQAAAAAAAAH5AAAAAAADggEAAAAAAAICGQAAAAAAAgIZAAAAAAACAhkAAAAAAAICGQAAAAAAAgIZAAAAAAACAhkAAAAAAAICGQAAAAAAAgIZAAAAAAACAhkAAAAAAAICGQAAAAAAAcIdAAAAAAADgkEAAAAAAAOCQQAAAAAAA4JBAAAAAAADgkEAAAAAAAOCQQAAAAAAA4JBAAAAAAADgkEAAAAAAAOCQQAAAAAAA4JBAAAAAAADgkEAAAAAAAOCQQAAAAAAA4JBAAAAAAADgkEAAAAAAAOCQQAAAAAAA4JBAAAAAAADgkEAAAAAAAPCQQAAAAAAASJJAAAAAAABgkkAAAAAAAGySQAAAAAAAwJJAAAAAAADAkkAAAAAAAMCSQAAAAAAA2JJAAAAAAADwkkAAAAAAAACTQAAAAAAAEJNAAAAAAAAQk0AAAAAAACCTQAAAAAAAIJNAAAAAAAAwk0AAAAAAAFCTQAAAAAAAUJNAAAAAAABgk0AAAAAAAKCTQAAAAAAAsJNAAAAAAACwk0AAAAAAAMCTQAAAAAAA4JNAAAAAAAAAlEAAAAAAABCUQAAAAAAAKJRAAAAAAACQlEAAAAAAAKCUQAAAAAAAAJVAAAAAAAAAlUAAAAAAAICWQAAAAAAAgJZAAAAAAACAlkAAAAAAAICWQAAAAAAAgJZAAAAAAACAlkAAAAAAAICWQAAAAAAAsJlAAAAAAAAgnEAAAAAAAJCdQA==",
          "dtype": "f8"
         },
         "xaxis": "x",
         "y": {
          "bdata": "AAAAAAAAZEAAAAAAAAB0QAAAAAAAAI5AAAAAAAAAjkAAAAAAAICWQAAAAAAAIJdAAAAAAADAl0AAAAAAAGCYQAAAAAAAAJlAAAAAAAAQmUAAAAAAADCZQAAAAAAAoJlAAAAAAADImUAAAAAAAECaQAAAAAAA2JRAAAAAAAAAnkAAAAAAAAyiQAAAAAAAEKJAAAAAAABIokAAAAAAAJCiQAAAAAAAqKJAAAAAAACwokAAAAAAAMCiQAAAAAAA0KJAAAAAAADYokAAAAAAAPCiQAAAAAAACKNAAAAAAAAgo0AAAAAAADijQAAAAAAAYKNAAAAAAACwo0AAAAAAANiiQAAAAAAAyKNAAAAAAADAokAAAAAAAPijQAAAAAAAoKRAAAAAAAC4pEAAAAAAANykQAAAAAAAfKRAAAAAAABwpEAAAAAAAAClQAAAAAAAGKVAAAAAAAAwpUAAAAAAABilQAAAAAAAsKVAAAAAAAAYpUAAAAAAAOikQAAAAAAAfKVAAAAAAACopUAAAAAAAJClQAAAAAAAQKVAAAAAAAA4pkAAAAAAALilQAAAAAAA4KVAAAAAAABQpkAAAAAAALSlQAAAAAAA2KVAAAAAAAAgpkAAAAAAAGimQAAAAAAAqKVAAAAAAABgp0AAAAAAAACkQAAAAAAAgKZAAAAAAAAgqEAAAAAAAGCoQAAAAAAAwKhAAAAAAAAAqUAAAAAAACCpQAAAAAAAAK5AAAAAAAAYpUAAAAAAAAClQA==",
          "dtype": "f8"
         },
         "yaxis": "y"
        },
        {
         "hovertemplate": "foldable=True<br>screen_resolution_x=%{x}<br>screen_resolution_y=%{y}<br>counts=%{marker.size}<extra></extra>",
         "legendgroup": "True",
         "marker": {
          "color": "#EF553B",
          "size": {
           "bdata": "AgIFAgIBAgICAQEBAQEBAQQBAgEBAQI=",
           "dtype": "i1"
          },
          "sizemode": "area",
          "sizeref": 0.0453,
          "symbol": "circle"
         },
         "mode": "markers",
         "name": "True",
         "orientation": "v",
         "showlegend": true,
         "type": "scatter",
         "x": {
          "bdata": "AAAAAADgkEAAAAAAAOCQQAAAAAAA4JBAAAAAAADAkUAAAAAAAJCSQAAAAAAAIJNAAAAAAACgm0AAAAAAAACcQAAAAAAAUJxAAAAAAADAnEAAAAAAAACdQAAAAAAAEJ1AAAAAAADonUAAAAAAAPCdQAAAAAAAwJ5AAAAAAAA4oEAAAAAAADChQAAAAAAAYKFAAAAAAABgoUAAAAAAAHChQAAAAAAAgKFAAAAAAACQoUAAAAAAALihQA==",
          "dtype": "f8"
         },
         "xaxis": "x",
         "y": {
          "bdata": "AAAAAACwo0AAAAAAAJikQAAAAAAAoKRAAAAAAAAEpUAAAAAAAMylQAAAAAAAwKZAAAAAAABAoUAAAAAAAACeQAAAAAAAAKFAAAAAAABAoUAAAAAAAOCgQAAAAAAAYKNAAAAAAADgoEAAAAAAAOCgQAAAAAAAEKFAAAAAAADQoEAAAAAAAGCjQAAAAAAAcKNAAAAAAACAo0AAAAAAAOCoQAAAAAAAEKNAAAAAAABgo0AAAAAAABCjQA==",
          "dtype": "f8"
         },
         "yaxis": "y"
        }
       ],
       "layout": {
        "legend": {
         "itemsizing": "constant",
         "title": {
          "text": "foldable"
         },
         "tracegroupgap": 0
        },
        "margin": {
         "t": 60
        },
        "template": {
         "data": {
          "bar": [
           {
            "error_x": {
             "color": "#2a3f5f"
            },
            "error_y": {
             "color": "#2a3f5f"
            },
            "marker": {
             "line": {
              "color": "#E5ECF6",
              "width": 0.5
             },
             "pattern": {
              "fillmode": "overlay",
              "size": 10,
              "solidity": 0.2
             }
            },
            "type": "bar"
           }
          ],
          "barpolar": [
           {
            "marker": {
             "line": {
              "color": "#E5ECF6",
              "width": 0.5
             },
             "pattern": {
              "fillmode": "overlay",
              "size": 10,
              "solidity": 0.2
             }
            },
            "type": "barpolar"
           }
          ],
          "carpet": [
           {
            "aaxis": {
             "endlinecolor": "#2a3f5f",
             "gridcolor": "white",
             "linecolor": "white",
             "minorgridcolor": "white",
             "startlinecolor": "#2a3f5f"
            },
            "baxis": {
             "endlinecolor": "#2a3f5f",
             "gridcolor": "white",
             "linecolor": "white",
             "minorgridcolor": "white",
             "startlinecolor": "#2a3f5f"
            },
            "type": "carpet"
           }
          ],
          "choropleth": [
           {
            "colorbar": {
             "outlinewidth": 0,
             "ticks": ""
            },
            "type": "choropleth"
           }
          ],
          "contour": [
           {
            "colorbar": {
             "outlinewidth": 0,
             "ticks": ""
            },
            "colorscale": [
             [
              0,
              "#0d0887"
             ],
             [
              0.1111111111111111,
              "#46039f"
             ],
             [
              0.2222222222222222,
              "#7201a8"
             ],
             [
              0.3333333333333333,
              "#9c179e"
             ],
             [
              0.4444444444444444,
              "#bd3786"
             ],
             [
              0.5555555555555556,
              "#d8576b"
             ],
             [
              0.6666666666666666,
              "#ed7953"
             ],
             [
              0.7777777777777778,
              "#fb9f3a"
             ],
             [
              0.8888888888888888,
              "#fdca26"
             ],
             [
              1,
              "#f0f921"
             ]
            ],
            "type": "contour"
           }
          ],
          "contourcarpet": [
           {
            "colorbar": {
             "outlinewidth": 0,
             "ticks": ""
            },
            "type": "contourcarpet"
           }
          ],
          "heatmap": [
           {
            "colorbar": {
             "outlinewidth": 0,
             "ticks": ""
            },
            "colorscale": [
             [
              0,
              "#0d0887"
             ],
             [
              0.1111111111111111,
              "#46039f"
             ],
             [
              0.2222222222222222,
              "#7201a8"
             ],
             [
              0.3333333333333333,
              "#9c179e"
             ],
             [
              0.4444444444444444,
              "#bd3786"
             ],
             [
              0.5555555555555556,
              "#d8576b"
             ],
             [
              0.6666666666666666,
              "#ed7953"
             ],
             [
              0.7777777777777778,
              "#fb9f3a"
             ],
             [
              0.8888888888888888,
              "#fdca26"
             ],
             [
              1,
              "#f0f921"
             ]
            ],
            "type": "heatmap"
           }
          ],
          "histogram": [
           {
            "marker": {
             "pattern": {
              "fillmode": "overlay",
              "size": 10,
              "solidity": 0.2
             }
            },
            "type": "histogram"
           }
          ],
          "histogram2d": [
           {
            "colorbar": {
             "outlinewidth": 0,
             "ticks": ""
            },
            "colorscale": [
             [
              0,
              "#0d0887"
             ],
             [
              0.1111111111111111,
              "#46039f"
             ],
             [
              0.2222222222222222,
              "#7201a8"
             ],
             [
              0.3333333333333333,
              "#9c179e"
             ],
             [
              0.4444444444444444,
              "#bd3786"
             ],
             [
              0.5555555555555556,
              "#d8576b"
             ],
             [
              0.6666666666666666,
              "#ed7953"
             ],
             [
              0.7777777777777778,
              "#fb9f3a"
             ],
             [
              0.8888888888888888,
              "#fdca26"
             ],
             [
              1,
              "#f0f921"
             ]
            ],
            "type": "histogram2d"
           }
          ],
          "histogram2dcontour": [
           {
            "colorbar": {
             "outlinewidth": 0,
             "ticks": ""
            },
            "colorscale": [
             [
              0,
              "#0d0887"
             ],
             [
              0.1111111111111111,
              "#46039f"
             ],
             [
              0.2222222222222222,
              "#7201a8"
             ],
             [
              0.3333333333333333,
              "#9c179e"
             ],
             [
              0.4444444444444444,
              "#bd3786"
             ],
             [
              0.5555555555555556,
              "#d8576b"
             ],
             [
              0.6666666666666666,
              "#ed7953"
             ],
             [
              0.7777777777777778,
              "#fb9f3a"
             ],
             [
              0.8888888888888888,
              "#fdca26"
             ],
             [
              1,
              "#f0f921"
             ]
            ],
            "type": "histogram2dcontour"
           }
          ],
          "mesh3d": [
           {
            "colorbar": {
             "outlinewidth": 0,
             "ticks": ""
            },
            "type": "mesh3d"
           }
          ],
          "parcoords": [
           {
            "line": {
             "colorbar": {
              "outlinewidth": 0,
              "ticks": ""
             }
            },
            "type": "parcoords"
           }
          ],
          "pie": [
           {
            "automargin": true,
            "type": "pie"
           }
          ],
          "scatter": [
           {
            "fillpattern": {
             "fillmode": "overlay",
             "size": 10,
             "solidity": 0.2
            },
            "type": "scatter"
           }
          ],
          "scatter3d": [
           {
            "line": {
             "colorbar": {
              "outlinewidth": 0,
              "ticks": ""
             }
            },
            "marker": {
             "colorbar": {
              "outlinewidth": 0,
              "ticks": ""
             }
            },
            "type": "scatter3d"
           }
          ],
          "scattercarpet": [
           {
            "marker": {
             "colorbar": {
              "outlinewidth": 0,
              "ticks": ""
             }
            },
            "type": "scattercarpet"
           }
          ],
          "scattergeo": [
           {
            "marker": {
             "colorbar": {
              "outlinewidth": 0,
              "ticks": ""
             }
            },
            "type": "scattergeo"
           }
          ],
          "scattergl": [
           {
            "marker": {
             "colorbar": {
              "outlinewidth": 0,
              "ticks": ""
             }
            },
            "type": "scattergl"
           }
          ],
          "scattermap": [
           {
            "marker": {
             "colorbar": {
              "outlinewidth": 0,
              "ticks": ""
             }
            },
            "type": "scattermap"
           }
          ],
          "scattermapbox": [
           {
            "marker": {
             "colorbar": {
              "outlinewidth": 0,
              "ticks": ""
             }
            },
            "type": "scattermapbox"
           }
          ],
          "scatterpolar": [
           {
            "marker": {
             "colorbar": {
              "outlinewidth": 0,
              "ticks": ""
             }
            },
            "type": "scatterpolar"
           }
          ],
          "scatterpolargl": [
           {
            "marker": {
             "colorbar": {
              "outlinewidth": 0,
              "ticks": ""
             }
            },
            "type": "scatterpolargl"
           }
          ],
          "scatterternary": [
           {
            "marker": {
             "colorbar": {
              "outlinewidth": 0,
              "ticks": ""
             }
            },
            "type": "scatterternary"
           }
          ],
          "surface": [
           {
            "colorbar": {
             "outlinewidth": 0,
             "ticks": ""
            },
            "colorscale": [
             [
              0,
              "#0d0887"
             ],
             [
              0.1111111111111111,
              "#46039f"
             ],
             [
              0.2222222222222222,
              "#7201a8"
             ],
             [
              0.3333333333333333,
              "#9c179e"
             ],
             [
              0.4444444444444444,
              "#bd3786"
             ],
             [
              0.5555555555555556,
              "#d8576b"
             ],
             [
              0.6666666666666666,
              "#ed7953"
             ],
             [
              0.7777777777777778,
              "#fb9f3a"
             ],
             [
              0.8888888888888888,
              "#fdca26"
             ],
             [
              1,
              "#f0f921"
             ]
            ],
            "type": "surface"
           }
          ],
          "table": [
           {
            "cells": {
             "fill": {
              "color": "#EBF0F8"
             },
             "line": {
              "color": "white"
             }
            },
            "header": {
             "fill": {
              "color": "#C8D4E3"
             },
             "line": {
              "color": "white"
             }
            },
            "type": "table"
           }
          ]
         },
         "layout": {
          "annotationdefaults": {
           "arrowcolor": "#2a3f5f",
           "arrowhead": 0,
           "arrowwidth": 1
          },
          "autotypenumbers": "strict",
          "coloraxis": {
           "colorbar": {
            "outlinewidth": 0,
            "ticks": ""
           }
          },
          "colorscale": {
           "diverging": [
            [
             0,
             "#8e0152"
            ],
            [
             0.1,
             "#c51b7d"
            ],
            [
             0.2,
             "#de77ae"
            ],
            [
             0.3,
             "#f1b6da"
            ],
            [
             0.4,
             "#fde0ef"
            ],
            [
             0.5,
             "#f7f7f7"
            ],
            [
             0.6,
             "#e6f5d0"
            ],
            [
             0.7,
             "#b8e186"
            ],
            [
             0.8,
             "#7fbc41"
            ],
            [
             0.9,
             "#4d9221"
            ],
            [
             1,
             "#276419"
            ]
           ],
           "sequential": [
            [
             0,
             "#0d0887"
            ],
            [
             0.1111111111111111,
             "#46039f"
            ],
            [
             0.2222222222222222,
             "#7201a8"
            ],
            [
             0.3333333333333333,
             "#9c179e"
            ],
            [
             0.4444444444444444,
             "#bd3786"
            ],
            [
             0.5555555555555556,
             "#d8576b"
            ],
            [
             0.6666666666666666,
             "#ed7953"
            ],
            [
             0.7777777777777778,
             "#fb9f3a"
            ],
            [
             0.8888888888888888,
             "#fdca26"
            ],
            [
             1,
             "#f0f921"
            ]
           ],
           "sequentialminus": [
            [
             0,
             "#0d0887"
            ],
            [
             0.1111111111111111,
             "#46039f"
            ],
            [
             0.2222222222222222,
             "#7201a8"
            ],
            [
             0.3333333333333333,
             "#9c179e"
            ],
            [
             0.4444444444444444,
             "#bd3786"
            ],
            [
             0.5555555555555556,
             "#d8576b"
            ],
            [
             0.6666666666666666,
             "#ed7953"
            ],
            [
             0.7777777777777778,
             "#fb9f3a"
            ],
            [
             0.8888888888888888,
             "#fdca26"
            ],
            [
             1,
             "#f0f921"
            ]
           ]
          },
          "colorway": [
           "#636efa",
           "#EF553B",
           "#00cc96",
           "#ab63fa",
           "#FFA15A",
           "#19d3f3",
           "#FF6692",
           "#B6E880",
           "#FF97FF",
           "#FECB52"
          ],
          "font": {
           "color": "#2a3f5f"
          },
          "geo": {
           "bgcolor": "white",
           "lakecolor": "white",
           "landcolor": "#E5ECF6",
           "showlakes": true,
           "showland": true,
           "subunitcolor": "white"
          },
          "hoverlabel": {
           "align": "left"
          },
          "hovermode": "closest",
          "mapbox": {
           "style": "light"
          },
          "paper_bgcolor": "white",
          "plot_bgcolor": "#E5ECF6",
          "polar": {
           "angularaxis": {
            "gridcolor": "white",
            "linecolor": "white",
            "ticks": ""
           },
           "bgcolor": "#E5ECF6",
           "radialaxis": {
            "gridcolor": "white",
            "linecolor": "white",
            "ticks": ""
           }
          },
          "scene": {
           "xaxis": {
            "backgroundcolor": "#E5ECF6",
            "gridcolor": "white",
            "gridwidth": 2,
            "linecolor": "white",
            "showbackground": true,
            "ticks": "",
            "zerolinecolor": "white"
           },
           "yaxis": {
            "backgroundcolor": "#E5ECF6",
            "gridcolor": "white",
            "gridwidth": 2,
            "linecolor": "white",
            "showbackground": true,
            "ticks": "",
            "zerolinecolor": "white"
           },
           "zaxis": {
            "backgroundcolor": "#E5ECF6",
            "gridcolor": "white",
            "gridwidth": 2,
            "linecolor": "white",
            "showbackground": true,
            "ticks": "",
            "zerolinecolor": "white"
           }
          },
          "shapedefaults": {
           "line": {
            "color": "#2a3f5f"
           }
          },
          "ternary": {
           "aaxis": {
            "gridcolor": "white",
            "linecolor": "white",
            "ticks": ""
           },
           "baxis": {
            "gridcolor": "white",
            "linecolor": "white",
            "ticks": ""
           },
           "bgcolor": "#E5ECF6",
           "caxis": {
            "gridcolor": "white",
            "linecolor": "white",
            "ticks": ""
           }
          },
          "title": {
           "x": 0.05
          },
          "xaxis": {
           "automargin": true,
           "gridcolor": "white",
           "linecolor": "white",
           "ticks": "",
           "title": {
            "standoff": 15
           },
           "zerolinecolor": "white",
           "zerolinewidth": 2
          },
          "yaxis": {
           "automargin": true,
           "gridcolor": "white",
           "linecolor": "white",
           "ticks": "",
           "title": {
            "standoff": 15
           },
           "zerolinecolor": "white",
           "zerolinewidth": 2
          }
         }
        },
        "xaxis": {
         "anchor": "y",
         "domain": [
          0,
          1
         ],
         "title": {
          "text": "screen_resolution_x"
         }
        },
        "yaxis": {
         "anchor": "x",
         "domain": [
          0,
          1
         ],
         "title": {
          "text": "screen_resolution_y"
         }
        }
       }
      }
     },
     "metadata": {},
     "output_type": "display_data"
    }
   ],
   "source": [
    "pdf = df.groupby(['screen_resolution_x', 'screen_resolution_y', 'foldable']).size().reset_index(name=\"counts\")\n",
    "px.scatter(pdf, x='screen_resolution_x', y='screen_resolution_y', size='counts', color='foldable', size_max=100)"
   ]
  },
  {
   "cell_type": "code",
   "execution_count": null,
   "id": "2e6bdc03",
   "metadata": {},
   "outputs": [
    {
     "data": {
      "application/vnd.plotly.v1+json": {
       "config": {
        "plotlyServerURL": "https://plot.ly"
       },
       "data": [
        {
         "hovertemplate": "ip_rating=%{x}<br>popularity_become_fan=%{y}<extra></extra>",
         "legendgroup": "",
         "marker": {
          "color": "#636efa",
          "pattern": {
           "shape": ""
          }
         },
         "name": "",
         "orientation": "v",
         "showlegend": false,
         "textposition": "auto",
         "type": "bar",
         "x": [
          "IP5X",
          "IP69",
          "IPX4",
          "IP54",
          "IPXX",
          "IP64",
          "IPX8",
          "IP48",
          "IP65",
          "IP53",
          "IP68",
          "IP67"
         ],
         "xaxis": "x",
         "y": {
          "bdata": "mpmZmZmZN0AAAAAAAABBQOh5nud5nlFASZIkSZLkU0AOHDhw4KBYQHE9CtejsFlAbtu2bdt2aEBVVVVVVbVoQNOb3vSmH3BAMzMzMzMmcUD3EdxHcE93QLgehetR6HtA",
          "dtype": "f8"
         },
         "yaxis": "y"
        }
       ],
       "layout": {
        "barmode": "relative",
        "legend": {
         "tracegroupgap": 0
        },
        "margin": {
         "t": 60
        },
        "template": {
         "data": {
          "bar": [
           {
            "error_x": {
             "color": "#2a3f5f"
            },
            "error_y": {
             "color": "#2a3f5f"
            },
            "marker": {
             "line": {
              "color": "#E5ECF6",
              "width": 0.5
             },
             "pattern": {
              "fillmode": "overlay",
              "size": 10,
              "solidity": 0.2
             }
            },
            "type": "bar"
           }
          ],
          "barpolar": [
           {
            "marker": {
             "line": {
              "color": "#E5ECF6",
              "width": 0.5
             },
             "pattern": {
              "fillmode": "overlay",
              "size": 10,
              "solidity": 0.2
             }
            },
            "type": "barpolar"
           }
          ],
          "carpet": [
           {
            "aaxis": {
             "endlinecolor": "#2a3f5f",
             "gridcolor": "white",
             "linecolor": "white",
             "minorgridcolor": "white",
             "startlinecolor": "#2a3f5f"
            },
            "baxis": {
             "endlinecolor": "#2a3f5f",
             "gridcolor": "white",
             "linecolor": "white",
             "minorgridcolor": "white",
             "startlinecolor": "#2a3f5f"
            },
            "type": "carpet"
           }
          ],
          "choropleth": [
           {
            "colorbar": {
             "outlinewidth": 0,
             "ticks": ""
            },
            "type": "choropleth"
           }
          ],
          "contour": [
           {
            "colorbar": {
             "outlinewidth": 0,
             "ticks": ""
            },
            "colorscale": [
             [
              0,
              "#0d0887"
             ],
             [
              0.1111111111111111,
              "#46039f"
             ],
             [
              0.2222222222222222,
              "#7201a8"
             ],
             [
              0.3333333333333333,
              "#9c179e"
             ],
             [
              0.4444444444444444,
              "#bd3786"
             ],
             [
              0.5555555555555556,
              "#d8576b"
             ],
             [
              0.6666666666666666,
              "#ed7953"
             ],
             [
              0.7777777777777778,
              "#fb9f3a"
             ],
             [
              0.8888888888888888,
              "#fdca26"
             ],
             [
              1,
              "#f0f921"
             ]
            ],
            "type": "contour"
           }
          ],
          "contourcarpet": [
           {
            "colorbar": {
             "outlinewidth": 0,
             "ticks": ""
            },
            "type": "contourcarpet"
           }
          ],
          "heatmap": [
           {
            "colorbar": {
             "outlinewidth": 0,
             "ticks": ""
            },
            "colorscale": [
             [
              0,
              "#0d0887"
             ],
             [
              0.1111111111111111,
              "#46039f"
             ],
             [
              0.2222222222222222,
              "#7201a8"
             ],
             [
              0.3333333333333333,
              "#9c179e"
             ],
             [
              0.4444444444444444,
              "#bd3786"
             ],
             [
              0.5555555555555556,
              "#d8576b"
             ],
             [
              0.6666666666666666,
              "#ed7953"
             ],
             [
              0.7777777777777778,
              "#fb9f3a"
             ],
             [
              0.8888888888888888,
              "#fdca26"
             ],
             [
              1,
              "#f0f921"
             ]
            ],
            "type": "heatmap"
           }
          ],
          "histogram": [
           {
            "marker": {
             "pattern": {
              "fillmode": "overlay",
              "size": 10,
              "solidity": 0.2
             }
            },
            "type": "histogram"
           }
          ],
          "histogram2d": [
           {
            "colorbar": {
             "outlinewidth": 0,
             "ticks": ""
            },
            "colorscale": [
             [
              0,
              "#0d0887"
             ],
             [
              0.1111111111111111,
              "#46039f"
             ],
             [
              0.2222222222222222,
              "#7201a8"
             ],
             [
              0.3333333333333333,
              "#9c179e"
             ],
             [
              0.4444444444444444,
              "#bd3786"
             ],
             [
              0.5555555555555556,
              "#d8576b"
             ],
             [
              0.6666666666666666,
              "#ed7953"
             ],
             [
              0.7777777777777778,
              "#fb9f3a"
             ],
             [
              0.8888888888888888,
              "#fdca26"
             ],
             [
              1,
              "#f0f921"
             ]
            ],
            "type": "histogram2d"
           }
          ],
          "histogram2dcontour": [
           {
            "colorbar": {
             "outlinewidth": 0,
             "ticks": ""
            },
            "colorscale": [
             [
              0,
              "#0d0887"
             ],
             [
              0.1111111111111111,
              "#46039f"
             ],
             [
              0.2222222222222222,
              "#7201a8"
             ],
             [
              0.3333333333333333,
              "#9c179e"
             ],
             [
              0.4444444444444444,
              "#bd3786"
             ],
             [
              0.5555555555555556,
              "#d8576b"
             ],
             [
              0.6666666666666666,
              "#ed7953"
             ],
             [
              0.7777777777777778,
              "#fb9f3a"
             ],
             [
              0.8888888888888888,
              "#fdca26"
             ],
             [
              1,
              "#f0f921"
             ]
            ],
            "type": "histogram2dcontour"
           }
          ],
          "mesh3d": [
           {
            "colorbar": {
             "outlinewidth": 0,
             "ticks": ""
            },
            "type": "mesh3d"
           }
          ],
          "parcoords": [
           {
            "line": {
             "colorbar": {
              "outlinewidth": 0,
              "ticks": ""
             }
            },
            "type": "parcoords"
           }
          ],
          "pie": [
           {
            "automargin": true,
            "type": "pie"
           }
          ],
          "scatter": [
           {
            "fillpattern": {
             "fillmode": "overlay",
             "size": 10,
             "solidity": 0.2
            },
            "type": "scatter"
           }
          ],
          "scatter3d": [
           {
            "line": {
             "colorbar": {
              "outlinewidth": 0,
              "ticks": ""
             }
            },
            "marker": {
             "colorbar": {
              "outlinewidth": 0,
              "ticks": ""
             }
            },
            "type": "scatter3d"
           }
          ],
          "scattercarpet": [
           {
            "marker": {
             "colorbar": {
              "outlinewidth": 0,
              "ticks": ""
             }
            },
            "type": "scattercarpet"
           }
          ],
          "scattergeo": [
           {
            "marker": {
             "colorbar": {
              "outlinewidth": 0,
              "ticks": ""
             }
            },
            "type": "scattergeo"
           }
          ],
          "scattergl": [
           {
            "marker": {
             "colorbar": {
              "outlinewidth": 0,
              "ticks": ""
             }
            },
            "type": "scattergl"
           }
          ],
          "scattermap": [
           {
            "marker": {
             "colorbar": {
              "outlinewidth": 0,
              "ticks": ""
             }
            },
            "type": "scattermap"
           }
          ],
          "scattermapbox": [
           {
            "marker": {
             "colorbar": {
              "outlinewidth": 0,
              "ticks": ""
             }
            },
            "type": "scattermapbox"
           }
          ],
          "scatterpolar": [
           {
            "marker": {
             "colorbar": {
              "outlinewidth": 0,
              "ticks": ""
             }
            },
            "type": "scatterpolar"
           }
          ],
          "scatterpolargl": [
           {
            "marker": {
             "colorbar": {
              "outlinewidth": 0,
              "ticks": ""
             }
            },
            "type": "scatterpolargl"
           }
          ],
          "scatterternary": [
           {
            "marker": {
             "colorbar": {
              "outlinewidth": 0,
              "ticks": ""
             }
            },
            "type": "scatterternary"
           }
          ],
          "surface": [
           {
            "colorbar": {
             "outlinewidth": 0,
             "ticks": ""
            },
            "colorscale": [
             [
              0,
              "#0d0887"
             ],
             [
              0.1111111111111111,
              "#46039f"
             ],
             [
              0.2222222222222222,
              "#7201a8"
             ],
             [
              0.3333333333333333,
              "#9c179e"
             ],
             [
              0.4444444444444444,
              "#bd3786"
             ],
             [
              0.5555555555555556,
              "#d8576b"
             ],
             [
              0.6666666666666666,
              "#ed7953"
             ],
             [
              0.7777777777777778,
              "#fb9f3a"
             ],
             [
              0.8888888888888888,
              "#fdca26"
             ],
             [
              1,
              "#f0f921"
             ]
            ],
            "type": "surface"
           }
          ],
          "table": [
           {
            "cells": {
             "fill": {
              "color": "#EBF0F8"
             },
             "line": {
              "color": "white"
             }
            },
            "header": {
             "fill": {
              "color": "#C8D4E3"
             },
             "line": {
              "color": "white"
             }
            },
            "type": "table"
           }
          ]
         },
         "layout": {
          "annotationdefaults": {
           "arrowcolor": "#2a3f5f",
           "arrowhead": 0,
           "arrowwidth": 1
          },
          "autotypenumbers": "strict",
          "coloraxis": {
           "colorbar": {
            "outlinewidth": 0,
            "ticks": ""
           }
          },
          "colorscale": {
           "diverging": [
            [
             0,
             "#8e0152"
            ],
            [
             0.1,
             "#c51b7d"
            ],
            [
             0.2,
             "#de77ae"
            ],
            [
             0.3,
             "#f1b6da"
            ],
            [
             0.4,
             "#fde0ef"
            ],
            [
             0.5,
             "#f7f7f7"
            ],
            [
             0.6,
             "#e6f5d0"
            ],
            [
             0.7,
             "#b8e186"
            ],
            [
             0.8,
             "#7fbc41"
            ],
            [
             0.9,
             "#4d9221"
            ],
            [
             1,
             "#276419"
            ]
           ],
           "sequential": [
            [
             0,
             "#0d0887"
            ],
            [
             0.1111111111111111,
             "#46039f"
            ],
            [
             0.2222222222222222,
             "#7201a8"
            ],
            [
             0.3333333333333333,
             "#9c179e"
            ],
            [
             0.4444444444444444,
             "#bd3786"
            ],
            [
             0.5555555555555556,
             "#d8576b"
            ],
            [
             0.6666666666666666,
             "#ed7953"
            ],
            [
             0.7777777777777778,
             "#fb9f3a"
            ],
            [
             0.8888888888888888,
             "#fdca26"
            ],
            [
             1,
             "#f0f921"
            ]
           ],
           "sequentialminus": [
            [
             0,
             "#0d0887"
            ],
            [
             0.1111111111111111,
             "#46039f"
            ],
            [
             0.2222222222222222,
             "#7201a8"
            ],
            [
             0.3333333333333333,
             "#9c179e"
            ],
            [
             0.4444444444444444,
             "#bd3786"
            ],
            [
             0.5555555555555556,
             "#d8576b"
            ],
            [
             0.6666666666666666,
             "#ed7953"
            ],
            [
             0.7777777777777778,
             "#fb9f3a"
            ],
            [
             0.8888888888888888,
             "#fdca26"
            ],
            [
             1,
             "#f0f921"
            ]
           ]
          },
          "colorway": [
           "#636efa",
           "#EF553B",
           "#00cc96",
           "#ab63fa",
           "#FFA15A",
           "#19d3f3",
           "#FF6692",
           "#B6E880",
           "#FF97FF",
           "#FECB52"
          ],
          "font": {
           "color": "#2a3f5f"
          },
          "geo": {
           "bgcolor": "white",
           "lakecolor": "white",
           "landcolor": "#E5ECF6",
           "showlakes": true,
           "showland": true,
           "subunitcolor": "white"
          },
          "hoverlabel": {
           "align": "left"
          },
          "hovermode": "closest",
          "mapbox": {
           "style": "light"
          },
          "paper_bgcolor": "white",
          "plot_bgcolor": "#E5ECF6",
          "polar": {
           "angularaxis": {
            "gridcolor": "white",
            "linecolor": "white",
            "ticks": ""
           },
           "bgcolor": "#E5ECF6",
           "radialaxis": {
            "gridcolor": "white",
            "linecolor": "white",
            "ticks": ""
           }
          },
          "scene": {
           "xaxis": {
            "backgroundcolor": "#E5ECF6",
            "gridcolor": "white",
            "gridwidth": 2,
            "linecolor": "white",
            "showbackground": true,
            "ticks": "",
            "zerolinecolor": "white"
           },
           "yaxis": {
            "backgroundcolor": "#E5ECF6",
            "gridcolor": "white",
            "gridwidth": 2,
            "linecolor": "white",
            "showbackground": true,
            "ticks": "",
            "zerolinecolor": "white"
           },
           "zaxis": {
            "backgroundcolor": "#E5ECF6",
            "gridcolor": "white",
            "gridwidth": 2,
            "linecolor": "white",
            "showbackground": true,
            "ticks": "",
            "zerolinecolor": "white"
           }
          },
          "shapedefaults": {
           "line": {
            "color": "#2a3f5f"
           }
          },
          "ternary": {
           "aaxis": {
            "gridcolor": "white",
            "linecolor": "white",
            "ticks": ""
           },
           "baxis": {
            "gridcolor": "white",
            "linecolor": "white",
            "ticks": ""
           },
           "bgcolor": "#E5ECF6",
           "caxis": {
            "gridcolor": "white",
            "linecolor": "white",
            "ticks": ""
           }
          },
          "title": {
           "x": 0.05
          },
          "xaxis": {
           "automargin": true,
           "gridcolor": "white",
           "linecolor": "white",
           "ticks": "",
           "title": {
            "standoff": 15
           },
           "zerolinecolor": "white",
           "zerolinewidth": 2
          },
          "yaxis": {
           "automargin": true,
           "gridcolor": "white",
           "linecolor": "white",
           "ticks": "",
           "title": {
            "standoff": 15
           },
           "zerolinecolor": "white",
           "zerolinewidth": 2
          }
         }
        },
        "xaxis": {
         "anchor": "y",
         "domain": [
          0,
          1
         ],
         "title": {
          "text": "ip_rating"
         }
        },
        "yaxis": {
         "anchor": "x",
         "domain": [
          0,
          1
         ],
         "title": {
          "text": "popularity_become_fan"
         }
        }
       }
      }
     },
     "metadata": {},
     "output_type": "display_data"
    }
   ],
   "source": [
    "pdf = df.groupby(['ip_rating'])['popularity_become_fan'].mean().reset_index()\n",
    "px.bar(pdf.sort_values('popularity_become_fan'), x='ip_rating', y='popularity_become_fan')"
   ]
  },
  {
   "cell_type": "markdown",
   "id": "0da8f7f8",
   "metadata": {},
   "source": [
    "Phones with IP67 or IP68 water and dust protection recieve more likes on average than phones without any water and dust protection (IPXX).\n",
    "\n",
    "Ultra-rugged indestructible phones with IP69 protection level do not recieve a lot of likes from people."
   ]
  },
  {
   "cell_type": "code",
   "execution_count": 83,
   "id": "7d1e6883",
   "metadata": {},
   "outputs": [
    {
     "data": {
      "application/vnd.plotly.v1+json": {
       "config": {
        "plotlyServerURL": "https://plot.ly"
       },
       "data": [
        {
         "coloraxis": "coloraxis",
         "histfunc": "avg",
         "hovertemplate": "height_mm=%{x}<br>length_mm=%{y}<br>avg of popularity_become_fan=%{z}<extra></extra>",
         "name": "",
         "type": "histogram2d",
         "x": {
          "bdata": "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",
          "dtype": "f8"
         },
         "xaxis": "x",
         "xbingroup": "x",
         "y": {
          "bdata": "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",
          "dtype": "f8"
         },
         "yaxis": "y",
         "ybingroup": "y",
         "z": {
          "bdata": "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",
          "dtype": "i2"
         }
        }
       ],
       "layout": {
        "coloraxis": {
         "colorbar": {
          "title": {
           "text": "avg of popularity_become_fan"
          }
         },
         "colorscale": [
          [
           0,
           "#0d0887"
          ],
          [
           0.1111111111111111,
           "#46039f"
          ],
          [
           0.2222222222222222,
           "#7201a8"
          ],
          [
           0.3333333333333333,
           "#9c179e"
          ],
          [
           0.4444444444444444,
           "#bd3786"
          ],
          [
           0.5555555555555556,
           "#d8576b"
          ],
          [
           0.6666666666666666,
           "#ed7953"
          ],
          [
           0.7777777777777778,
           "#fb9f3a"
          ],
          [
           0.8888888888888888,
           "#fdca26"
          ],
          [
           1,
           "#f0f921"
          ]
         ]
        },
        "legend": {
         "tracegroupgap": 0
        },
        "margin": {
         "t": 60
        },
        "template": {
         "data": {
          "bar": [
           {
            "error_x": {
             "color": "#2a3f5f"
            },
            "error_y": {
             "color": "#2a3f5f"
            },
            "marker": {
             "line": {
              "color": "#E5ECF6",
              "width": 0.5
             },
             "pattern": {
              "fillmode": "overlay",
              "size": 10,
              "solidity": 0.2
             }
            },
            "type": "bar"
           }
          ],
          "barpolar": [
           {
            "marker": {
             "line": {
              "color": "#E5ECF6",
              "width": 0.5
             },
             "pattern": {
              "fillmode": "overlay",
              "size": 10,
              "solidity": 0.2
             }
            },
            "type": "barpolar"
           }
          ],
          "carpet": [
           {
            "aaxis": {
             "endlinecolor": "#2a3f5f",
             "gridcolor": "white",
             "linecolor": "white",
             "minorgridcolor": "white",
             "startlinecolor": "#2a3f5f"
            },
            "baxis": {
             "endlinecolor": "#2a3f5f",
             "gridcolor": "white",
             "linecolor": "white",
             "minorgridcolor": "white",
             "startlinecolor": "#2a3f5f"
            },
            "type": "carpet"
           }
          ],
          "choropleth": [
           {
            "colorbar": {
             "outlinewidth": 0,
             "ticks": ""
            },
            "type": "choropleth"
           }
          ],
          "contour": [
           {
            "colorbar": {
             "outlinewidth": 0,
             "ticks": ""
            },
            "colorscale": [
             [
              0,
              "#0d0887"
             ],
             [
              0.1111111111111111,
              "#46039f"
             ],
             [
              0.2222222222222222,
              "#7201a8"
             ],
             [
              0.3333333333333333,
              "#9c179e"
             ],
             [
              0.4444444444444444,
              "#bd3786"
             ],
             [
              0.5555555555555556,
              "#d8576b"
             ],
             [
              0.6666666666666666,
              "#ed7953"
             ],
             [
              0.7777777777777778,
              "#fb9f3a"
             ],
             [
              0.8888888888888888,
              "#fdca26"
             ],
             [
              1,
              "#f0f921"
             ]
            ],
            "type": "contour"
           }
          ],
          "contourcarpet": [
           {
            "colorbar": {
             "outlinewidth": 0,
             "ticks": ""
            },
            "type": "contourcarpet"
           }
          ],
          "heatmap": [
           {
            "colorbar": {
             "outlinewidth": 0,
             "ticks": ""
            },
            "colorscale": [
             [
              0,
              "#0d0887"
             ],
             [
              0.1111111111111111,
              "#46039f"
             ],
             [
              0.2222222222222222,
              "#7201a8"
             ],
             [
              0.3333333333333333,
              "#9c179e"
             ],
             [
              0.4444444444444444,
              "#bd3786"
             ],
             [
              0.5555555555555556,
              "#d8576b"
             ],
             [
              0.6666666666666666,
              "#ed7953"
             ],
             [
              0.7777777777777778,
              "#fb9f3a"
             ],
             [
              0.8888888888888888,
              "#fdca26"
             ],
             [
              1,
              "#f0f921"
             ]
            ],
            "type": "heatmap"
           }
          ],
          "histogram": [
           {
            "marker": {
             "pattern": {
              "fillmode": "overlay",
              "size": 10,
              "solidity": 0.2
             }
            },
            "type": "histogram"
           }
          ],
          "histogram2d": [
           {
            "colorbar": {
             "outlinewidth": 0,
             "ticks": ""
            },
            "colorscale": [
             [
              0,
              "#0d0887"
             ],
             [
              0.1111111111111111,
              "#46039f"
             ],
             [
              0.2222222222222222,
              "#7201a8"
             ],
             [
              0.3333333333333333,
              "#9c179e"
             ],
             [
              0.4444444444444444,
              "#bd3786"
             ],
             [
              0.5555555555555556,
              "#d8576b"
             ],
             [
              0.6666666666666666,
              "#ed7953"
             ],
             [
              0.7777777777777778,
              "#fb9f3a"
             ],
             [
              0.8888888888888888,
              "#fdca26"
             ],
             [
              1,
              "#f0f921"
             ]
            ],
            "type": "histogram2d"
           }
          ],
          "histogram2dcontour": [
           {
            "colorbar": {
             "outlinewidth": 0,
             "ticks": ""
            },
            "colorscale": [
             [
              0,
              "#0d0887"
             ],
             [
              0.1111111111111111,
              "#46039f"
             ],
             [
              0.2222222222222222,
              "#7201a8"
             ],
             [
              0.3333333333333333,
              "#9c179e"
             ],
             [
              0.4444444444444444,
              "#bd3786"
             ],
             [
              0.5555555555555556,
              "#d8576b"
             ],
             [
              0.6666666666666666,
              "#ed7953"
             ],
             [
              0.7777777777777778,
              "#fb9f3a"
             ],
             [
              0.8888888888888888,
              "#fdca26"
             ],
             [
              1,
              "#f0f921"
             ]
            ],
            "type": "histogram2dcontour"
           }
          ],
          "mesh3d": [
           {
            "colorbar": {
             "outlinewidth": 0,
             "ticks": ""
            },
            "type": "mesh3d"
           }
          ],
          "parcoords": [
           {
            "line": {
             "colorbar": {
              "outlinewidth": 0,
              "ticks": ""
             }
            },
            "type": "parcoords"
           }
          ],
          "pie": [
           {
            "automargin": true,
            "type": "pie"
           }
          ],
          "scatter": [
           {
            "fillpattern": {
             "fillmode": "overlay",
             "size": 10,
             "solidity": 0.2
            },
            "type": "scatter"
           }
          ],
          "scatter3d": [
           {
            "line": {
             "colorbar": {
              "outlinewidth": 0,
              "ticks": ""
             }
            },
            "marker": {
             "colorbar": {
              "outlinewidth": 0,
              "ticks": ""
             }
            },
            "type": "scatter3d"
           }
          ],
          "scattercarpet": [
           {
            "marker": {
             "colorbar": {
              "outlinewidth": 0,
              "ticks": ""
             }
            },
            "type": "scattercarpet"
           }
          ],
          "scattergeo": [
           {
            "marker": {
             "colorbar": {
              "outlinewidth": 0,
              "ticks": ""
             }
            },
            "type": "scattergeo"
           }
          ],
          "scattergl": [
           {
            "marker": {
             "colorbar": {
              "outlinewidth": 0,
              "ticks": ""
             }
            },
            "type": "scattergl"
           }
          ],
          "scattermap": [
           {
            "marker": {
             "colorbar": {
              "outlinewidth": 0,
              "ticks": ""
             }
            },
            "type": "scattermap"
           }
          ],
          "scattermapbox": [
           {
            "marker": {
             "colorbar": {
              "outlinewidth": 0,
              "ticks": ""
             }
            },
            "type": "scattermapbox"
           }
          ],
          "scatterpolar": [
           {
            "marker": {
             "colorbar": {
              "outlinewidth": 0,
              "ticks": ""
             }
            },
            "type": "scatterpolar"
           }
          ],
          "scatterpolargl": [
           {
            "marker": {
             "colorbar": {
              "outlinewidth": 0,
              "ticks": ""
             }
            },
            "type": "scatterpolargl"
           }
          ],
          "scatterternary": [
           {
            "marker": {
             "colorbar": {
              "outlinewidth": 0,
              "ticks": ""
             }
            },
            "type": "scatterternary"
           }
          ],
          "surface": [
           {
            "colorbar": {
             "outlinewidth": 0,
             "ticks": ""
            },
            "colorscale": [
             [
              0,
              "#0d0887"
             ],
             [
              0.1111111111111111,
              "#46039f"
             ],
             [
              0.2222222222222222,
              "#7201a8"
             ],
             [
              0.3333333333333333,
              "#9c179e"
             ],
             [
              0.4444444444444444,
              "#bd3786"
             ],
             [
              0.5555555555555556,
              "#d8576b"
             ],
             [
              0.6666666666666666,
              "#ed7953"
             ],
             [
              0.7777777777777778,
              "#fb9f3a"
             ],
             [
              0.8888888888888888,
              "#fdca26"
             ],
             [
              1,
              "#f0f921"
             ]
            ],
            "type": "surface"
           }
          ],
          "table": [
           {
            "cells": {
             "fill": {
              "color": "#EBF0F8"
             },
             "line": {
              "color": "white"
             }
            },
            "header": {
             "fill": {
              "color": "#C8D4E3"
             },
             "line": {
              "color": "white"
             }
            },
            "type": "table"
           }
          ]
         },
         "layout": {
          "annotationdefaults": {
           "arrowcolor": "#2a3f5f",
           "arrowhead": 0,
           "arrowwidth": 1
          },
          "autotypenumbers": "strict",
          "coloraxis": {
           "colorbar": {
            "outlinewidth": 0,
            "ticks": ""
           }
          },
          "colorscale": {
           "diverging": [
            [
             0,
             "#8e0152"
            ],
            [
             0.1,
             "#c51b7d"
            ],
            [
             0.2,
             "#de77ae"
            ],
            [
             0.3,
             "#f1b6da"
            ],
            [
             0.4,
             "#fde0ef"
            ],
            [
             0.5,
             "#f7f7f7"
            ],
            [
             0.6,
             "#e6f5d0"
            ],
            [
             0.7,
             "#b8e186"
            ],
            [
             0.8,
             "#7fbc41"
            ],
            [
             0.9,
             "#4d9221"
            ],
            [
             1,
             "#276419"
            ]
           ],
           "sequential": [
            [
             0,
             "#0d0887"
            ],
            [
             0.1111111111111111,
             "#46039f"
            ],
            [
             0.2222222222222222,
             "#7201a8"
            ],
            [
             0.3333333333333333,
             "#9c179e"
            ],
            [
             0.4444444444444444,
             "#bd3786"
            ],
            [
             0.5555555555555556,
             "#d8576b"
            ],
            [
             0.6666666666666666,
             "#ed7953"
            ],
            [
             0.7777777777777778,
             "#fb9f3a"
            ],
            [
             0.8888888888888888,
             "#fdca26"
            ],
            [
             1,
             "#f0f921"
            ]
           ],
           "sequentialminus": [
            [
             0,
             "#0d0887"
            ],
            [
             0.1111111111111111,
             "#46039f"
            ],
            [
             0.2222222222222222,
             "#7201a8"
            ],
            [
             0.3333333333333333,
             "#9c179e"
            ],
            [
             0.4444444444444444,
             "#bd3786"
            ],
            [
             0.5555555555555556,
             "#d8576b"
            ],
            [
             0.6666666666666666,
             "#ed7953"
            ],
            [
             0.7777777777777778,
             "#fb9f3a"
            ],
            [
             0.8888888888888888,
             "#fdca26"
            ],
            [
             1,
             "#f0f921"
            ]
           ]
          },
          "colorway": [
           "#636efa",
           "#EF553B",
           "#00cc96",
           "#ab63fa",
           "#FFA15A",
           "#19d3f3",
           "#FF6692",
           "#B6E880",
           "#FF97FF",
           "#FECB52"
          ],
          "font": {
           "color": "#2a3f5f"
          },
          "geo": {
           "bgcolor": "white",
           "lakecolor": "white",
           "landcolor": "#E5ECF6",
           "showlakes": true,
           "showland": true,
           "subunitcolor": "white"
          },
          "hoverlabel": {
           "align": "left"
          },
          "hovermode": "closest",
          "mapbox": {
           "style": "light"
          },
          "paper_bgcolor": "white",
          "plot_bgcolor": "#E5ECF6",
          "polar": {
           "angularaxis": {
            "gridcolor": "white",
            "linecolor": "white",
            "ticks": ""
           },
           "bgcolor": "#E5ECF6",
           "radialaxis": {
            "gridcolor": "white",
            "linecolor": "white",
            "ticks": ""
           }
          },
          "scene": {
           "xaxis": {
            "backgroundcolor": "#E5ECF6",
            "gridcolor": "white",
            "gridwidth": 2,
            "linecolor": "white",
            "showbackground": true,
            "ticks": "",
            "zerolinecolor": "white"
           },
           "yaxis": {
            "backgroundcolor": "#E5ECF6",
            "gridcolor": "white",
            "gridwidth": 2,
            "linecolor": "white",
            "showbackground": true,
            "ticks": "",
            "zerolinecolor": "white"
           },
           "zaxis": {
            "backgroundcolor": "#E5ECF6",
            "gridcolor": "white",
            "gridwidth": 2,
            "linecolor": "white",
            "showbackground": true,
            "ticks": "",
            "zerolinecolor": "white"
           }
          },
          "shapedefaults": {
           "line": {
            "color": "#2a3f5f"
           }
          },
          "ternary": {
           "aaxis": {
            "gridcolor": "white",
            "linecolor": "white",
            "ticks": ""
           },
           "baxis": {
            "gridcolor": "white",
            "linecolor": "white",
            "ticks": ""
           },
           "bgcolor": "#E5ECF6",
           "caxis": {
            "gridcolor": "white",
            "linecolor": "white",
            "ticks": ""
           }
          },
          "title": {
           "x": 0.05
          },
          "xaxis": {
           "automargin": true,
           "gridcolor": "white",
           "linecolor": "white",
           "ticks": "",
           "title": {
            "standoff": 15
           },
           "zerolinecolor": "white",
           "zerolinewidth": 2
          },
          "yaxis": {
           "automargin": true,
           "gridcolor": "white",
           "linecolor": "white",
           "ticks": "",
           "title": {
            "standoff": 15
           },
           "zerolinecolor": "white",
           "zerolinewidth": 2
          }
         }
        },
        "xaxis": {
         "anchor": "y",
         "domain": [
          0,
          1
         ],
         "title": {
          "text": "height_mm"
         }
        },
        "yaxis": {
         "anchor": "x",
         "domain": [
          0,
          1
         ],
         "title": {
          "text": "length_mm"
         }
        }
       }
      }
     },
     "metadata": {},
     "output_type": "display_data"
    }
   ],
   "source": [
    "# pdf = df.groupby(['height_mm', 'length_mm', 'screen_size'])['popularity_become_fan'].mean().reset_index()\n",
    "pdf = df\n",
    "px.density_heatmap(pdf, x='height_mm',\n",
    "                 y='length_mm', # Or perhaps 'width_mm' if that's the intended dimension\n",
    "                 z='popularity_become_fan',\n",
    "                 histfunc='avg')"
   ]
  },
  {
   "cell_type": "code",
   "execution_count": 62,
   "id": "1bec90e3",
   "metadata": {},
   "outputs": [
    {
     "data": {
      "application/vnd.plotly.v1+json": {
       "config": {
        "plotlyServerURL": "https://plot.ly"
       },
       "data": [
        {
         "hovertemplate": "screen_hz=%{x}<br>popularity_become_fan=%{y}<extra></extra>",
         "legendgroup": "",
         "marker": {
          "color": "#636efa",
          "pattern": {
           "shape": ""
          }
         },
         "name": "",
         "orientation": "v",
         "showlegend": false,
         "textposition": "auto",
         "type": "bar",
         "x": {
          "bdata": "PABaALkApQCQAHgA",
          "dtype": "i2"
         },
         "xaxis": "x",
         "y": {
          "bdata": "Cj8fvV23WEAs+cWSXzxZQAAAAAAAQFtAzczMzMwsY0DsxE7sxK5oQCT7VcFuxGxA",
          "dtype": "f8"
         },
         "yaxis": "y"
        }
       ],
       "layout": {
        "barmode": "relative",
        "legend": {
         "tracegroupgap": 0
        },
        "margin": {
         "t": 60
        },
        "template": {
         "data": {
          "bar": [
           {
            "error_x": {
             "color": "#2a3f5f"
            },
            "error_y": {
             "color": "#2a3f5f"
            },
            "marker": {
             "line": {
              "color": "#E5ECF6",
              "width": 0.5
             },
             "pattern": {
              "fillmode": "overlay",
              "size": 10,
              "solidity": 0.2
             }
            },
            "type": "bar"
           }
          ],
          "barpolar": [
           {
            "marker": {
             "line": {
              "color": "#E5ECF6",
              "width": 0.5
             },
             "pattern": {
              "fillmode": "overlay",
              "size": 10,
              "solidity": 0.2
             }
            },
            "type": "barpolar"
           }
          ],
          "carpet": [
           {
            "aaxis": {
             "endlinecolor": "#2a3f5f",
             "gridcolor": "white",
             "linecolor": "white",
             "minorgridcolor": "white",
             "startlinecolor": "#2a3f5f"
            },
            "baxis": {
             "endlinecolor": "#2a3f5f",
             "gridcolor": "white",
             "linecolor": "white",
             "minorgridcolor": "white",
             "startlinecolor": "#2a3f5f"
            },
            "type": "carpet"
           }
          ],
          "choropleth": [
           {
            "colorbar": {
             "outlinewidth": 0,
             "ticks": ""
            },
            "type": "choropleth"
           }
          ],
          "contour": [
           {
            "colorbar": {
             "outlinewidth": 0,
             "ticks": ""
            },
            "colorscale": [
             [
              0,
              "#0d0887"
             ],
             [
              0.1111111111111111,
              "#46039f"
             ],
             [
              0.2222222222222222,
              "#7201a8"
             ],
             [
              0.3333333333333333,
              "#9c179e"
             ],
             [
              0.4444444444444444,
              "#bd3786"
             ],
             [
              0.5555555555555556,
              "#d8576b"
             ],
             [
              0.6666666666666666,
              "#ed7953"
             ],
             [
              0.7777777777777778,
              "#fb9f3a"
             ],
             [
              0.8888888888888888,
              "#fdca26"
             ],
             [
              1,
              "#f0f921"
             ]
            ],
            "type": "contour"
           }
          ],
          "contourcarpet": [
           {
            "colorbar": {
             "outlinewidth": 0,
             "ticks": ""
            },
            "type": "contourcarpet"
           }
          ],
          "heatmap": [
           {
            "colorbar": {
             "outlinewidth": 0,
             "ticks": ""
            },
            "colorscale": [
             [
              0,
              "#0d0887"
             ],
             [
              0.1111111111111111,
              "#46039f"
             ],
             [
              0.2222222222222222,
              "#7201a8"
             ],
             [
              0.3333333333333333,
              "#9c179e"
             ],
             [
              0.4444444444444444,
              "#bd3786"
             ],
             [
              0.5555555555555556,
              "#d8576b"
             ],
             [
              0.6666666666666666,
              "#ed7953"
             ],
             [
              0.7777777777777778,
              "#fb9f3a"
             ],
             [
              0.8888888888888888,
              "#fdca26"
             ],
             [
              1,
              "#f0f921"
             ]
            ],
            "type": "heatmap"
           }
          ],
          "histogram": [
           {
            "marker": {
             "pattern": {
              "fillmode": "overlay",
              "size": 10,
              "solidity": 0.2
             }
            },
            "type": "histogram"
           }
          ],
          "histogram2d": [
           {
            "colorbar": {
             "outlinewidth": 0,
             "ticks": ""
            },
            "colorscale": [
             [
              0,
              "#0d0887"
             ],
             [
              0.1111111111111111,
              "#46039f"
             ],
             [
              0.2222222222222222,
              "#7201a8"
             ],
             [
              0.3333333333333333,
              "#9c179e"
             ],
             [
              0.4444444444444444,
              "#bd3786"
             ],
             [
              0.5555555555555556,
              "#d8576b"
             ],
             [
              0.6666666666666666,
              "#ed7953"
             ],
             [
              0.7777777777777778,
              "#fb9f3a"
             ],
             [
              0.8888888888888888,
              "#fdca26"
             ],
             [
              1,
              "#f0f921"
             ]
            ],
            "type": "histogram2d"
           }
          ],
          "histogram2dcontour": [
           {
            "colorbar": {
             "outlinewidth": 0,
             "ticks": ""
            },
            "colorscale": [
             [
              0,
              "#0d0887"
             ],
             [
              0.1111111111111111,
              "#46039f"
             ],
             [
              0.2222222222222222,
              "#7201a8"
             ],
             [
              0.3333333333333333,
              "#9c179e"
             ],
             [
              0.4444444444444444,
              "#bd3786"
             ],
             [
              0.5555555555555556,
              "#d8576b"
             ],
             [
              0.6666666666666666,
              "#ed7953"
             ],
             [
              0.7777777777777778,
              "#fb9f3a"
             ],
             [
              0.8888888888888888,
              "#fdca26"
             ],
             [
              1,
              "#f0f921"
             ]
            ],
            "type": "histogram2dcontour"
           }
          ],
          "mesh3d": [
           {
            "colorbar": {
             "outlinewidth": 0,
             "ticks": ""
            },
            "type": "mesh3d"
           }
          ],
          "parcoords": [
           {
            "line": {
             "colorbar": {
              "outlinewidth": 0,
              "ticks": ""
             }
            },
            "type": "parcoords"
           }
          ],
          "pie": [
           {
            "automargin": true,
            "type": "pie"
           }
          ],
          "scatter": [
           {
            "fillpattern": {
             "fillmode": "overlay",
             "size": 10,
             "solidity": 0.2
            },
            "type": "scatter"
           }
          ],
          "scatter3d": [
           {
            "line": {
             "colorbar": {
              "outlinewidth": 0,
              "ticks": ""
             }
            },
            "marker": {
             "colorbar": {
              "outlinewidth": 0,
              "ticks": ""
             }
            },
            "type": "scatter3d"
           }
          ],
          "scattercarpet": [
           {
            "marker": {
             "colorbar": {
              "outlinewidth": 0,
              "ticks": ""
             }
            },
            "type": "scattercarpet"
           }
          ],
          "scattergeo": [
           {
            "marker": {
             "colorbar": {
              "outlinewidth": 0,
              "ticks": ""
             }
            },
            "type": "scattergeo"
           }
          ],
          "scattergl": [
           {
            "marker": {
             "colorbar": {
              "outlinewidth": 0,
              "ticks": ""
             }
            },
            "type": "scattergl"
           }
          ],
          "scattermap": [
           {
            "marker": {
             "colorbar": {
              "outlinewidth": 0,
              "ticks": ""
             }
            },
            "type": "scattermap"
           }
          ],
          "scattermapbox": [
           {
            "marker": {
             "colorbar": {
              "outlinewidth": 0,
              "ticks": ""
             }
            },
            "type": "scattermapbox"
           }
          ],
          "scatterpolar": [
           {
            "marker": {
             "colorbar": {
              "outlinewidth": 0,
              "ticks": ""
             }
            },
            "type": "scatterpolar"
           }
          ],
          "scatterpolargl": [
           {
            "marker": {
             "colorbar": {
              "outlinewidth": 0,
              "ticks": ""
             }
            },
            "type": "scatterpolargl"
           }
          ],
          "scatterternary": [
           {
            "marker": {
             "colorbar": {
              "outlinewidth": 0,
              "ticks": ""
             }
            },
            "type": "scatterternary"
           }
          ],
          "surface": [
           {
            "colorbar": {
             "outlinewidth": 0,
             "ticks": ""
            },
            "colorscale": [
             [
              0,
              "#0d0887"
             ],
             [
              0.1111111111111111,
              "#46039f"
             ],
             [
              0.2222222222222222,
              "#7201a8"
             ],
             [
              0.3333333333333333,
              "#9c179e"
             ],
             [
              0.4444444444444444,
              "#bd3786"
             ],
             [
              0.5555555555555556,
              "#d8576b"
             ],
             [
              0.6666666666666666,
              "#ed7953"
             ],
             [
              0.7777777777777778,
              "#fb9f3a"
             ],
             [
              0.8888888888888888,
              "#fdca26"
             ],
             [
              1,
              "#f0f921"
             ]
            ],
            "type": "surface"
           }
          ],
          "table": [
           {
            "cells": {
             "fill": {
              "color": "#EBF0F8"
             },
             "line": {
              "color": "white"
             }
            },
            "header": {
             "fill": {
              "color": "#C8D4E3"
             },
             "line": {
              "color": "white"
             }
            },
            "type": "table"
           }
          ]
         },
         "layout": {
          "annotationdefaults": {
           "arrowcolor": "#2a3f5f",
           "arrowhead": 0,
           "arrowwidth": 1
          },
          "autotypenumbers": "strict",
          "coloraxis": {
           "colorbar": {
            "outlinewidth": 0,
            "ticks": ""
           }
          },
          "colorscale": {
           "diverging": [
            [
             0,
             "#8e0152"
            ],
            [
             0.1,
             "#c51b7d"
            ],
            [
             0.2,
             "#de77ae"
            ],
            [
             0.3,
             "#f1b6da"
            ],
            [
             0.4,
             "#fde0ef"
            ],
            [
             0.5,
             "#f7f7f7"
            ],
            [
             0.6,
             "#e6f5d0"
            ],
            [
             0.7,
             "#b8e186"
            ],
            [
             0.8,
             "#7fbc41"
            ],
            [
             0.9,
             "#4d9221"
            ],
            [
             1,
             "#276419"
            ]
           ],
           "sequential": [
            [
             0,
             "#0d0887"
            ],
            [
             0.1111111111111111,
             "#46039f"
            ],
            [
             0.2222222222222222,
             "#7201a8"
            ],
            [
             0.3333333333333333,
             "#9c179e"
            ],
            [
             0.4444444444444444,
             "#bd3786"
            ],
            [
             0.5555555555555556,
             "#d8576b"
            ],
            [
             0.6666666666666666,
             "#ed7953"
            ],
            [
             0.7777777777777778,
             "#fb9f3a"
            ],
            [
             0.8888888888888888,
             "#fdca26"
            ],
            [
             1,
             "#f0f921"
            ]
           ],
           "sequentialminus": [
            [
             0,
             "#0d0887"
            ],
            [
             0.1111111111111111,
             "#46039f"
            ],
            [
             0.2222222222222222,
             "#7201a8"
            ],
            [
             0.3333333333333333,
             "#9c179e"
            ],
            [
             0.4444444444444444,
             "#bd3786"
            ],
            [
             0.5555555555555556,
             "#d8576b"
            ],
            [
             0.6666666666666666,
             "#ed7953"
            ],
            [
             0.7777777777777778,
             "#fb9f3a"
            ],
            [
             0.8888888888888888,
             "#fdca26"
            ],
            [
             1,
             "#f0f921"
            ]
           ]
          },
          "colorway": [
           "#636efa",
           "#EF553B",
           "#00cc96",
           "#ab63fa",
           "#FFA15A",
           "#19d3f3",
           "#FF6692",
           "#B6E880",
           "#FF97FF",
           "#FECB52"
          ],
          "font": {
           "color": "#2a3f5f"
          },
          "geo": {
           "bgcolor": "white",
           "lakecolor": "white",
           "landcolor": "#E5ECF6",
           "showlakes": true,
           "showland": true,
           "subunitcolor": "white"
          },
          "hoverlabel": {
           "align": "left"
          },
          "hovermode": "closest",
          "mapbox": {
           "style": "light"
          },
          "paper_bgcolor": "white",
          "plot_bgcolor": "#E5ECF6",
          "polar": {
           "angularaxis": {
            "gridcolor": "white",
            "linecolor": "white",
            "ticks": ""
           },
           "bgcolor": "#E5ECF6",
           "radialaxis": {
            "gridcolor": "white",
            "linecolor": "white",
            "ticks": ""
           }
          },
          "scene": {
           "xaxis": {
            "backgroundcolor": "#E5ECF6",
            "gridcolor": "white",
            "gridwidth": 2,
            "linecolor": "white",
            "showbackground": true,
            "ticks": "",
            "zerolinecolor": "white"
           },
           "yaxis": {
            "backgroundcolor": "#E5ECF6",
            "gridcolor": "white",
            "gridwidth": 2,
            "linecolor": "white",
            "showbackground": true,
            "ticks": "",
            "zerolinecolor": "white"
           },
           "zaxis": {
            "backgroundcolor": "#E5ECF6",
            "gridcolor": "white",
            "gridwidth": 2,
            "linecolor": "white",
            "showbackground": true,
            "ticks": "",
            "zerolinecolor": "white"
           }
          },
          "shapedefaults": {
           "line": {
            "color": "#2a3f5f"
           }
          },
          "ternary": {
           "aaxis": {
            "gridcolor": "white",
            "linecolor": "white",
            "ticks": ""
           },
           "baxis": {
            "gridcolor": "white",
            "linecolor": "white",
            "ticks": ""
           },
           "bgcolor": "#E5ECF6",
           "caxis": {
            "gridcolor": "white",
            "linecolor": "white",
            "ticks": ""
           }
          },
          "title": {
           "x": 0.05
          },
          "xaxis": {
           "automargin": true,
           "gridcolor": "white",
           "linecolor": "white",
           "ticks": "",
           "title": {
            "standoff": 15
           },
           "zerolinecolor": "white",
           "zerolinewidth": 2
          },
          "yaxis": {
           "automargin": true,
           "gridcolor": "white",
           "linecolor": "white",
           "ticks": "",
           "title": {
            "standoff": 15
           },
           "zerolinecolor": "white",
           "zerolinewidth": 2
          }
         }
        },
        "xaxis": {
         "anchor": "y",
         "domain": [
          0,
          1
         ],
         "title": {
          "text": "screen_hz"
         }
        },
        "yaxis": {
         "anchor": "x",
         "domain": [
          0,
          1
         ],
         "title": {
          "text": "popularity_become_fan"
         }
        }
       }
      }
     },
     "metadata": {},
     "output_type": "display_data"
    }
   ],
   "source": [
    "pdf = df.groupby(['screen_hz'])['popularity_become_fan'].mean().reset_index()\n",
    "px.bar(pdf.sort_values('popularity_become_fan'), x='screen_hz', y='popularity_become_fan')"
   ]
  },
  {
   "cell_type": "markdown",
   "id": "eeefa7f2",
   "metadata": {},
   "source": [
    "Phones with higher screen refresh rate are more popular than phones with basic refresh rate of 60 hz."
   ]
  },
  {
   "cell_type": "code",
   "execution_count": 70,
   "id": "ad4f2973",
   "metadata": {},
   "outputs": [
    {
     "data": {
      "application/vnd.plotly.v1+json": {
       "config": {
        "plotlyServerURL": "https://plot.ly"
       },
       "data": [
        {
         "hovertemplate": "release_year=%{x}<br>screen_type=%{y}<br>popularity_become_fan=%{marker.size}<extra></extra>",
         "legendgroup": "",
         "marker": {
          "color": "#636efa",
          "size": {
           "bdata": "AAAAAAAAHkBu27Zt27YpQBdddNFFFzJAjzbvU1wyNUAzMzMzMzM1QAAAAAAAADhAq6qqqqqqOEAZKOGNps5CQJCnBHlK0ENAq6qqqqrqRUCrqqqqqmpGQAAAAAAAAExAFG01eI7AT0C66KKLLvpQQLdt27ZtW1RAkYUsZCGLVECrqqqqqvpVQAAAAAAAAFdAt23btm3bWUAAAAAAAMBbQDbgijXgilxAAAAAAAAAXkBCewntJbRfQCVJkiRJ0l9AMzMzMzMjYkCNsNzTCAtmQBaykIUsHGlAQgghhBBCaUBmZmZmZlZqQCa0l9BeQmxALS0tLS0Vb0CJiIiIiLBwQFNKKaWUInFAuuiiiy7UcUAXXXTRRbd1QJjQXkJ7yXhAO7ETO7FjekCrqqqqqiaAQA==",
           "dtype": "f8"
          },
          "sizemode": "area",
          "sizeref": 0.5742592592592592,
          "symbol": "circle"
         },
         "mode": "markers",
         "name": "",
         "orientation": "h",
         "showlegend": false,
         "type": "scatter",
         "x": {
          "bdata": "AAAAAACkn0AAAAAAAKSfQAAAAAAAoJ9AAAAAAACgn0AAAAAAAJyfQAAAAAAAkJ9AAAAAAACkn0AAAAAAAJyfQAAAAAAAmJ9AAAAAAACgn0AAAAAAAJCfQAAAAAAAmJ9AAAAAAACUn0AAAAAAAJifQAAAAAAAlJ9AAAAAAACkn0AAAAAAAJSfQAAAAAAAoJ9AAAAAAACYn0AAAAAAAJSfQAAAAAAAkJ9AAAAAAACkn0AAAAAAAKCfQAAAAAAAnJ9AAAAAAACQn0AAAAAAAJyfQAAAAAAAmJ9AAAAAAACYn0AAAAAAAKSfQAAAAAAAoJ9AAAAAAACcn0AAAAAAAJSfQAAAAAAAlJ9AAAAAAACQn0AAAAAAAJyfQAAAAAAAkJ9AAAAAAACYn0AAAAAAAJSfQA==",
          "dtype": "f8"
         },
         "xaxis": "x",
         "y": [
          "TN",
          "IPS",
          "TFT",
          "IPS",
          "TFT",
          "LCD",
          "PLS",
          "IPS",
          "IPS",
          "PLS",
          "TFT",
          "LCD",
          "IPS",
          "TFT",
          "PLS",
          "AMOLED",
          "TFT",
          "OLED",
          "PLS",
          "LCD",
          "IPS",
          "OLED",
          "AMOLED",
          "PLS",
          "PLS",
          "OLED",
          "AMOLED",
          "OLED",
          "LTPO",
          "LTPO",
          "AMOLED",
          "AMOLED",
          "OLED",
          "AMOLED",
          "LTPO",
          "OLED",
          "LTPO",
          "LTPO"
         ],
         "yaxis": "y"
        }
       ],
       "layout": {
        "legend": {
         "itemsizing": "constant",
         "tracegroupgap": 0
        },
        "margin": {
         "t": 60
        },
        "template": {
         "data": {
          "bar": [
           {
            "error_x": {
             "color": "#2a3f5f"
            },
            "error_y": {
             "color": "#2a3f5f"
            },
            "marker": {
             "line": {
              "color": "#E5ECF6",
              "width": 0.5
             },
             "pattern": {
              "fillmode": "overlay",
              "size": 10,
              "solidity": 0.2
             }
            },
            "type": "bar"
           }
          ],
          "barpolar": [
           {
            "marker": {
             "line": {
              "color": "#E5ECF6",
              "width": 0.5
             },
             "pattern": {
              "fillmode": "overlay",
              "size": 10,
              "solidity": 0.2
             }
            },
            "type": "barpolar"
           }
          ],
          "carpet": [
           {
            "aaxis": {
             "endlinecolor": "#2a3f5f",
             "gridcolor": "white",
             "linecolor": "white",
             "minorgridcolor": "white",
             "startlinecolor": "#2a3f5f"
            },
            "baxis": {
             "endlinecolor": "#2a3f5f",
             "gridcolor": "white",
             "linecolor": "white",
             "minorgridcolor": "white",
             "startlinecolor": "#2a3f5f"
            },
            "type": "carpet"
           }
          ],
          "choropleth": [
           {
            "colorbar": {
             "outlinewidth": 0,
             "ticks": ""
            },
            "type": "choropleth"
           }
          ],
          "contour": [
           {
            "colorbar": {
             "outlinewidth": 0,
             "ticks": ""
            },
            "colorscale": [
             [
              0,
              "#0d0887"
             ],
             [
              0.1111111111111111,
              "#46039f"
             ],
             [
              0.2222222222222222,
              "#7201a8"
             ],
             [
              0.3333333333333333,
              "#9c179e"
             ],
             [
              0.4444444444444444,
              "#bd3786"
             ],
             [
              0.5555555555555556,
              "#d8576b"
             ],
             [
              0.6666666666666666,
              "#ed7953"
             ],
             [
              0.7777777777777778,
              "#fb9f3a"
             ],
             [
              0.8888888888888888,
              "#fdca26"
             ],
             [
              1,
              "#f0f921"
             ]
            ],
            "type": "contour"
           }
          ],
          "contourcarpet": [
           {
            "colorbar": {
             "outlinewidth": 0,
             "ticks": ""
            },
            "type": "contourcarpet"
           }
          ],
          "heatmap": [
           {
            "colorbar": {
             "outlinewidth": 0,
             "ticks": ""
            },
            "colorscale": [
             [
              0,
              "#0d0887"
             ],
             [
              0.1111111111111111,
              "#46039f"
             ],
             [
              0.2222222222222222,
              "#7201a8"
             ],
             [
              0.3333333333333333,
              "#9c179e"
             ],
             [
              0.4444444444444444,
              "#bd3786"
             ],
             [
              0.5555555555555556,
              "#d8576b"
             ],
             [
              0.6666666666666666,
              "#ed7953"
             ],
             [
              0.7777777777777778,
              "#fb9f3a"
             ],
             [
              0.8888888888888888,
              "#fdca26"
             ],
             [
              1,
              "#f0f921"
             ]
            ],
            "type": "heatmap"
           }
          ],
          "histogram": [
           {
            "marker": {
             "pattern": {
              "fillmode": "overlay",
              "size": 10,
              "solidity": 0.2
             }
            },
            "type": "histogram"
           }
          ],
          "histogram2d": [
           {
            "colorbar": {
             "outlinewidth": 0,
             "ticks": ""
            },
            "colorscale": [
             [
              0,
              "#0d0887"
             ],
             [
              0.1111111111111111,
              "#46039f"
             ],
             [
              0.2222222222222222,
              "#7201a8"
             ],
             [
              0.3333333333333333,
              "#9c179e"
             ],
             [
              0.4444444444444444,
              "#bd3786"
             ],
             [
              0.5555555555555556,
              "#d8576b"
             ],
             [
              0.6666666666666666,
              "#ed7953"
             ],
             [
              0.7777777777777778,
              "#fb9f3a"
             ],
             [
              0.8888888888888888,
              "#fdca26"
             ],
             [
              1,
              "#f0f921"
             ]
            ],
            "type": "histogram2d"
           }
          ],
          "histogram2dcontour": [
           {
            "colorbar": {
             "outlinewidth": 0,
             "ticks": ""
            },
            "colorscale": [
             [
              0,
              "#0d0887"
             ],
             [
              0.1111111111111111,
              "#46039f"
             ],
             [
              0.2222222222222222,
              "#7201a8"
             ],
             [
              0.3333333333333333,
              "#9c179e"
             ],
             [
              0.4444444444444444,
              "#bd3786"
             ],
             [
              0.5555555555555556,
              "#d8576b"
             ],
             [
              0.6666666666666666,
              "#ed7953"
             ],
             [
              0.7777777777777778,
              "#fb9f3a"
             ],
             [
              0.8888888888888888,
              "#fdca26"
             ],
             [
              1,
              "#f0f921"
             ]
            ],
            "type": "histogram2dcontour"
           }
          ],
          "mesh3d": [
           {
            "colorbar": {
             "outlinewidth": 0,
             "ticks": ""
            },
            "type": "mesh3d"
           }
          ],
          "parcoords": [
           {
            "line": {
             "colorbar": {
              "outlinewidth": 0,
              "ticks": ""
             }
            },
            "type": "parcoords"
           }
          ],
          "pie": [
           {
            "automargin": true,
            "type": "pie"
           }
          ],
          "scatter": [
           {
            "fillpattern": {
             "fillmode": "overlay",
             "size": 10,
             "solidity": 0.2
            },
            "type": "scatter"
           }
          ],
          "scatter3d": [
           {
            "line": {
             "colorbar": {
              "outlinewidth": 0,
              "ticks": ""
             }
            },
            "marker": {
             "colorbar": {
              "outlinewidth": 0,
              "ticks": ""
             }
            },
            "type": "scatter3d"
           }
          ],
          "scattercarpet": [
           {
            "marker": {
             "colorbar": {
              "outlinewidth": 0,
              "ticks": ""
             }
            },
            "type": "scattercarpet"
           }
          ],
          "scattergeo": [
           {
            "marker": {
             "colorbar": {
              "outlinewidth": 0,
              "ticks": ""
             }
            },
            "type": "scattergeo"
           }
          ],
          "scattergl": [
           {
            "marker": {
             "colorbar": {
              "outlinewidth": 0,
              "ticks": ""
             }
            },
            "type": "scattergl"
           }
          ],
          "scattermap": [
           {
            "marker": {
             "colorbar": {
              "outlinewidth": 0,
              "ticks": ""
             }
            },
            "type": "scattermap"
           }
          ],
          "scattermapbox": [
           {
            "marker": {
             "colorbar": {
              "outlinewidth": 0,
              "ticks": ""
             }
            },
            "type": "scattermapbox"
           }
          ],
          "scatterpolar": [
           {
            "marker": {
             "colorbar": {
              "outlinewidth": 0,
              "ticks": ""
             }
            },
            "type": "scatterpolar"
           }
          ],
          "scatterpolargl": [
           {
            "marker": {
             "colorbar": {
              "outlinewidth": 0,
              "ticks": ""
             }
            },
            "type": "scatterpolargl"
           }
          ],
          "scatterternary": [
           {
            "marker": {
             "colorbar": {
              "outlinewidth": 0,
              "ticks": ""
             }
            },
            "type": "scatterternary"
           }
          ],
          "surface": [
           {
            "colorbar": {
             "outlinewidth": 0,
             "ticks": ""
            },
            "colorscale": [
             [
              0,
              "#0d0887"
             ],
             [
              0.1111111111111111,
              "#46039f"
             ],
             [
              0.2222222222222222,
              "#7201a8"
             ],
             [
              0.3333333333333333,
              "#9c179e"
             ],
             [
              0.4444444444444444,
              "#bd3786"
             ],
             [
              0.5555555555555556,
              "#d8576b"
             ],
             [
              0.6666666666666666,
              "#ed7953"
             ],
             [
              0.7777777777777778,
              "#fb9f3a"
             ],
             [
              0.8888888888888888,
              "#fdca26"
             ],
             [
              1,
              "#f0f921"
             ]
            ],
            "type": "surface"
           }
          ],
          "table": [
           {
            "cells": {
             "fill": {
              "color": "#EBF0F8"
             },
             "line": {
              "color": "white"
             }
            },
            "header": {
             "fill": {
              "color": "#C8D4E3"
             },
             "line": {
              "color": "white"
             }
            },
            "type": "table"
           }
          ]
         },
         "layout": {
          "annotationdefaults": {
           "arrowcolor": "#2a3f5f",
           "arrowhead": 0,
           "arrowwidth": 1
          },
          "autotypenumbers": "strict",
          "coloraxis": {
           "colorbar": {
            "outlinewidth": 0,
            "ticks": ""
           }
          },
          "colorscale": {
           "diverging": [
            [
             0,
             "#8e0152"
            ],
            [
             0.1,
             "#c51b7d"
            ],
            [
             0.2,
             "#de77ae"
            ],
            [
             0.3,
             "#f1b6da"
            ],
            [
             0.4,
             "#fde0ef"
            ],
            [
             0.5,
             "#f7f7f7"
            ],
            [
             0.6,
             "#e6f5d0"
            ],
            [
             0.7,
             "#b8e186"
            ],
            [
             0.8,
             "#7fbc41"
            ],
            [
             0.9,
             "#4d9221"
            ],
            [
             1,
             "#276419"
            ]
           ],
           "sequential": [
            [
             0,
             "#0d0887"
            ],
            [
             0.1111111111111111,
             "#46039f"
            ],
            [
             0.2222222222222222,
             "#7201a8"
            ],
            [
             0.3333333333333333,
             "#9c179e"
            ],
            [
             0.4444444444444444,
             "#bd3786"
            ],
            [
             0.5555555555555556,
             "#d8576b"
            ],
            [
             0.6666666666666666,
             "#ed7953"
            ],
            [
             0.7777777777777778,
             "#fb9f3a"
            ],
            [
             0.8888888888888888,
             "#fdca26"
            ],
            [
             1,
             "#f0f921"
            ]
           ],
           "sequentialminus": [
            [
             0,
             "#0d0887"
            ],
            [
             0.1111111111111111,
             "#46039f"
            ],
            [
             0.2222222222222222,
             "#7201a8"
            ],
            [
             0.3333333333333333,
             "#9c179e"
            ],
            [
             0.4444444444444444,
             "#bd3786"
            ],
            [
             0.5555555555555556,
             "#d8576b"
            ],
            [
             0.6666666666666666,
             "#ed7953"
            ],
            [
             0.7777777777777778,
             "#fb9f3a"
            ],
            [
             0.8888888888888888,
             "#fdca26"
            ],
            [
             1,
             "#f0f921"
            ]
           ]
          },
          "colorway": [
           "#636efa",
           "#EF553B",
           "#00cc96",
           "#ab63fa",
           "#FFA15A",
           "#19d3f3",
           "#FF6692",
           "#B6E880",
           "#FF97FF",
           "#FECB52"
          ],
          "font": {
           "color": "#2a3f5f"
          },
          "geo": {
           "bgcolor": "white",
           "lakecolor": "white",
           "landcolor": "#E5ECF6",
           "showlakes": true,
           "showland": true,
           "subunitcolor": "white"
          },
          "hoverlabel": {
           "align": "left"
          },
          "hovermode": "closest",
          "mapbox": {
           "style": "light"
          },
          "paper_bgcolor": "white",
          "plot_bgcolor": "#E5ECF6",
          "polar": {
           "angularaxis": {
            "gridcolor": "white",
            "linecolor": "white",
            "ticks": ""
           },
           "bgcolor": "#E5ECF6",
           "radialaxis": {
            "gridcolor": "white",
            "linecolor": "white",
            "ticks": ""
           }
          },
          "scene": {
           "xaxis": {
            "backgroundcolor": "#E5ECF6",
            "gridcolor": "white",
            "gridwidth": 2,
            "linecolor": "white",
            "showbackground": true,
            "ticks": "",
            "zerolinecolor": "white"
           },
           "yaxis": {
            "backgroundcolor": "#E5ECF6",
            "gridcolor": "white",
            "gridwidth": 2,
            "linecolor": "white",
            "showbackground": true,
            "ticks": "",
            "zerolinecolor": "white"
           },
           "zaxis": {
            "backgroundcolor": "#E5ECF6",
            "gridcolor": "white",
            "gridwidth": 2,
            "linecolor": "white",
            "showbackground": true,
            "ticks": "",
            "zerolinecolor": "white"
           }
          },
          "shapedefaults": {
           "line": {
            "color": "#2a3f5f"
           }
          },
          "ternary": {
           "aaxis": {
            "gridcolor": "white",
            "linecolor": "white",
            "ticks": ""
           },
           "baxis": {
            "gridcolor": "white",
            "linecolor": "white",
            "ticks": ""
           },
           "bgcolor": "#E5ECF6",
           "caxis": {
            "gridcolor": "white",
            "linecolor": "white",
            "ticks": ""
           }
          },
          "title": {
           "x": 0.05
          },
          "xaxis": {
           "automargin": true,
           "gridcolor": "white",
           "linecolor": "white",
           "ticks": "",
           "title": {
            "standoff": 15
           },
           "zerolinecolor": "white",
           "zerolinewidth": 2
          },
          "yaxis": {
           "automargin": true,
           "gridcolor": "white",
           "linecolor": "white",
           "ticks": "",
           "title": {
            "standoff": 15
           },
           "zerolinecolor": "white",
           "zerolinewidth": 2
          }
         }
        },
        "xaxis": {
         "anchor": "y",
         "domain": [
          0,
          1
         ],
         "title": {
          "text": "release_year"
         }
        },
        "yaxis": {
         "anchor": "x",
         "domain": [
          0,
          1
         ],
         "title": {
          "text": "screen_type"
         }
        }
       }
      }
     },
     "metadata": {},
     "output_type": "display_data"
    }
   ],
   "source": [
    "pdf = df.groupby(['screen_type', 'release_year'])['popularity_become_fan'].mean().reset_index()\n",
    "px.scatter(pdf.sort_values('popularity_become_fan'), x='release_year', y='screen_type', size='popularity_become_fan', size_max=30)"
   ]
  },
  {
   "cell_type": "markdown",
   "id": "94ef3a30",
   "metadata": {},
   "source": [
    "LTPO OLED screen type is the most popular types of screen in a smartphone, followed by oled and amoled, while TN+Film screens are least popular.\n",
    "\n",
    "IPS screens have plummeted in popularity over time. "
   ]
  },
  {
   "cell_type": "code",
   "execution_count": 73,
   "id": "5b36ac6f",
   "metadata": {},
   "outputs": [
    {
     "data": {
      "application/vnd.plotly.v1+json": {
       "config": {
        "plotlyServerURL": "https://plot.ly"
       },
       "data": [
        {
         "bingroup": "x",
         "hovertemplate": "battery_capacity=%{x}<br>count=%{y}<extra></extra>",
         "legendgroup": "",
         "marker": {
          "color": "#636efa",
          "pattern": {
           "shape": ""
          }
         },
         "name": "",
         "orientation": "v",
         "showlegend": false,
         "type": "histogram",
         "x": {
          "bdata": "AAAAAAAAiUAAAAAAAECPQAAAAAAA4I9AAAAAAAD4kUAAAAAAAMCSQAAAAAAAqJZAAAAAAABwl0AAAAAAAHScQAAAAAAAiJ9AAAAAAABmoUAAAAAAAMCiQAAAAAAADKNAAAAAAACIo0AAAAAAAFCkQAAAAAAA4KVAAAAAAAD+pUAAAAAAAHCnQAAAAAAAmKdAAAAAAADAp0AAAAAAAC6oQAAAAAAAiKhAAAAAAAAAqUAAAAAAAFCpQAAAAAAAlKlAAAAAAACeqUAAAAAAAMipQAAAAAAAGKpAAAAAAAAqqkAAAAAAAJCqQAAAAAAAWKtAAAAAAADSq0AAAAAAAPKrQAAAAAAA+KtAAAAAAAD8q0AAAAAAACCsQAAAAAAAzqxAAAAAAADorEAAAAAAALCtQAAAAAAAWq5AAAAAAAB4rkAAAAAAAECvQAAAAAAASq9AAAAAAABer0AAAAAAAHKvQAAAAAAAkK9AAAAAAACkr0AAAAAAAOCvQAAAAAAABLBAAAAAAAATsEAAAAAAAECwQAAAAAAAaLBAAAAAAACGsEAAAAAAAJqwQAAAAAAApLBAAAAAAADMsEAAAAAAANawQAAAAAAA47BAAAAAAAD+sEAAAAAAAACxQAAAAAAAA7FAAAAAAAAIsUAAAAAAAB+xQAAAAAAAIbFAAAAAAAAwsUAAAAAAADqxQAAAAAAAWbFAAAAAAABhsUAAAAAAAGyxQAAAAAAAdrFAAAAAAACMsUAAAAAAAJSxQAAAAAAAnrFAAAAAAACosUAAAAAAAN+xQAAAAAAA+LFAAAAAAAACskAAAAAAAAayQAAAAAAAFrJAAAAAAAAqskAAAAAAAEKyQAAAAAAASLJAAAAAAABNskAAAAAAAFyyQAAAAAAAcLJAAAAAAAB5skAAAAAAAI6yQAAAAAAArLJAAAAAAADAskAAAAAAAMWyQAAAAAAAz7JAAAAAAADUskAAAAAAANWyQAAAAAAA/LJAAAAAAAAQs0AAAAAAACSzQAAAAAAAVrNAAAAAAACIs0AAAAAAAIuzQAAAAAAAnLNAAAAAAACms0AAAAAAALqzQAAAAAAAxLNAAAAAAADJs0AAAAAAANizQAAAAAAA7LNAAAAAAAD2s0AAAAAAAB60QAAAAAAAKLRAAAAAAABQtEAAAAAAAHi0QAAAAAAAjLRAAAAAAAC0tEAAAAAAABi1QAAAAAAAIrVAAAAAAAB8tUAAAAAAAOC1QAAAAAAA/rVAAAAAAABEtkAAAAAAAKi2QAAAAAAAFrdAAAAAAABwt0AAAAAAANS3QAAAAAAAOLhAAAAAAAAAuUAAAAAAAA+5QAAAAAAAZLlAAAAAAACWuUAAAAAAAFi7QA==",
          "dtype": "f8"
         },
         "xaxis": "x",
         "yaxis": "y"
        }
       ],
       "layout": {
        "barmode": "relative",
        "legend": {
         "tracegroupgap": 0
        },
        "margin": {
         "t": 60
        },
        "template": {
         "data": {
          "bar": [
           {
            "error_x": {
             "color": "#2a3f5f"
            },
            "error_y": {
             "color": "#2a3f5f"
            },
            "marker": {
             "line": {
              "color": "#E5ECF6",
              "width": 0.5
             },
             "pattern": {
              "fillmode": "overlay",
              "size": 10,
              "solidity": 0.2
             }
            },
            "type": "bar"
           }
          ],
          "barpolar": [
           {
            "marker": {
             "line": {
              "color": "#E5ECF6",
              "width": 0.5
             },
             "pattern": {
              "fillmode": "overlay",
              "size": 10,
              "solidity": 0.2
             }
            },
            "type": "barpolar"
           }
          ],
          "carpet": [
           {
            "aaxis": {
             "endlinecolor": "#2a3f5f",
             "gridcolor": "white",
             "linecolor": "white",
             "minorgridcolor": "white",
             "startlinecolor": "#2a3f5f"
            },
            "baxis": {
             "endlinecolor": "#2a3f5f",
             "gridcolor": "white",
             "linecolor": "white",
             "minorgridcolor": "white",
             "startlinecolor": "#2a3f5f"
            },
            "type": "carpet"
           }
          ],
          "choropleth": [
           {
            "colorbar": {
             "outlinewidth": 0,
             "ticks": ""
            },
            "type": "choropleth"
           }
          ],
          "contour": [
           {
            "colorbar": {
             "outlinewidth": 0,
             "ticks": ""
            },
            "colorscale": [
             [
              0,
              "#0d0887"
             ],
             [
              0.1111111111111111,
              "#46039f"
             ],
             [
              0.2222222222222222,
              "#7201a8"
             ],
             [
              0.3333333333333333,
              "#9c179e"
             ],
             [
              0.4444444444444444,
              "#bd3786"
             ],
             [
              0.5555555555555556,
              "#d8576b"
             ],
             [
              0.6666666666666666,
              "#ed7953"
             ],
             [
              0.7777777777777778,
              "#fb9f3a"
             ],
             [
              0.8888888888888888,
              "#fdca26"
             ],
             [
              1,
              "#f0f921"
             ]
            ],
            "type": "contour"
           }
          ],
          "contourcarpet": [
           {
            "colorbar": {
             "outlinewidth": 0,
             "ticks": ""
            },
            "type": "contourcarpet"
           }
          ],
          "heatmap": [
           {
            "colorbar": {
             "outlinewidth": 0,
             "ticks": ""
            },
            "colorscale": [
             [
              0,
              "#0d0887"
             ],
             [
              0.1111111111111111,
              "#46039f"
             ],
             [
              0.2222222222222222,
              "#7201a8"
             ],
             [
              0.3333333333333333,
              "#9c179e"
             ],
             [
              0.4444444444444444,
              "#bd3786"
             ],
             [
              0.5555555555555556,
              "#d8576b"
             ],
             [
              0.6666666666666666,
              "#ed7953"
             ],
             [
              0.7777777777777778,
              "#fb9f3a"
             ],
             [
              0.8888888888888888,
              "#fdca26"
             ],
             [
              1,
              "#f0f921"
             ]
            ],
            "type": "heatmap"
           }
          ],
          "histogram": [
           {
            "marker": {
             "pattern": {
              "fillmode": "overlay",
              "size": 10,
              "solidity": 0.2
             }
            },
            "type": "histogram"
           }
          ],
          "histogram2d": [
           {
            "colorbar": {
             "outlinewidth": 0,
             "ticks": ""
            },
            "colorscale": [
             [
              0,
              "#0d0887"
             ],
             [
              0.1111111111111111,
              "#46039f"
             ],
             [
              0.2222222222222222,
              "#7201a8"
             ],
             [
              0.3333333333333333,
              "#9c179e"
             ],
             [
              0.4444444444444444,
              "#bd3786"
             ],
             [
              0.5555555555555556,
              "#d8576b"
             ],
             [
              0.6666666666666666,
              "#ed7953"
             ],
             [
              0.7777777777777778,
              "#fb9f3a"
             ],
             [
              0.8888888888888888,
              "#fdca26"
             ],
             [
              1,
              "#f0f921"
             ]
            ],
            "type": "histogram2d"
           }
          ],
          "histogram2dcontour": [
           {
            "colorbar": {
             "outlinewidth": 0,
             "ticks": ""
            },
            "colorscale": [
             [
              0,
              "#0d0887"
             ],
             [
              0.1111111111111111,
              "#46039f"
             ],
             [
              0.2222222222222222,
              "#7201a8"
             ],
             [
              0.3333333333333333,
              "#9c179e"
             ],
             [
              0.4444444444444444,
              "#bd3786"
             ],
             [
              0.5555555555555556,
              "#d8576b"
             ],
             [
              0.6666666666666666,
              "#ed7953"
             ],
             [
              0.7777777777777778,
              "#fb9f3a"
             ],
             [
              0.8888888888888888,
              "#fdca26"
             ],
             [
              1,
              "#f0f921"
             ]
            ],
            "type": "histogram2dcontour"
           }
          ],
          "mesh3d": [
           {
            "colorbar": {
             "outlinewidth": 0,
             "ticks": ""
            },
            "type": "mesh3d"
           }
          ],
          "parcoords": [
           {
            "line": {
             "colorbar": {
              "outlinewidth": 0,
              "ticks": ""
             }
            },
            "type": "parcoords"
           }
          ],
          "pie": [
           {
            "automargin": true,
            "type": "pie"
           }
          ],
          "scatter": [
           {
            "fillpattern": {
             "fillmode": "overlay",
             "size": 10,
             "solidity": 0.2
            },
            "type": "scatter"
           }
          ],
          "scatter3d": [
           {
            "line": {
             "colorbar": {
              "outlinewidth": 0,
              "ticks": ""
             }
            },
            "marker": {
             "colorbar": {
              "outlinewidth": 0,
              "ticks": ""
             }
            },
            "type": "scatter3d"
           }
          ],
          "scattercarpet": [
           {
            "marker": {
             "colorbar": {
              "outlinewidth": 0,
              "ticks": ""
             }
            },
            "type": "scattercarpet"
           }
          ],
          "scattergeo": [
           {
            "marker": {
             "colorbar": {
              "outlinewidth": 0,
              "ticks": ""
             }
            },
            "type": "scattergeo"
           }
          ],
          "scattergl": [
           {
            "marker": {
             "colorbar": {
              "outlinewidth": 0,
              "ticks": ""
             }
            },
            "type": "scattergl"
           }
          ],
          "scattermap": [
           {
            "marker": {
             "colorbar": {
              "outlinewidth": 0,
              "ticks": ""
             }
            },
            "type": "scattermap"
           }
          ],
          "scattermapbox": [
           {
            "marker": {
             "colorbar": {
              "outlinewidth": 0,
              "ticks": ""
             }
            },
            "type": "scattermapbox"
           }
          ],
          "scatterpolar": [
           {
            "marker": {
             "colorbar": {
              "outlinewidth": 0,
              "ticks": ""
             }
            },
            "type": "scatterpolar"
           }
          ],
          "scatterpolargl": [
           {
            "marker": {
             "colorbar": {
              "outlinewidth": 0,
              "ticks": ""
             }
            },
            "type": "scatterpolargl"
           }
          ],
          "scatterternary": [
           {
            "marker": {
             "colorbar": {
              "outlinewidth": 0,
              "ticks": ""
             }
            },
            "type": "scatterternary"
           }
          ],
          "surface": [
           {
            "colorbar": {
             "outlinewidth": 0,
             "ticks": ""
            },
            "colorscale": [
             [
              0,
              "#0d0887"
             ],
             [
              0.1111111111111111,
              "#46039f"
             ],
             [
              0.2222222222222222,
              "#7201a8"
             ],
             [
              0.3333333333333333,
              "#9c179e"
             ],
             [
              0.4444444444444444,
              "#bd3786"
             ],
             [
              0.5555555555555556,
              "#d8576b"
             ],
             [
              0.6666666666666666,
              "#ed7953"
             ],
             [
              0.7777777777777778,
              "#fb9f3a"
             ],
             [
              0.8888888888888888,
              "#fdca26"
             ],
             [
              1,
              "#f0f921"
             ]
            ],
            "type": "surface"
           }
          ],
          "table": [
           {
            "cells": {
             "fill": {
              "color": "#EBF0F8"
             },
             "line": {
              "color": "white"
             }
            },
            "header": {
             "fill": {
              "color": "#C8D4E3"
             },
             "line": {
              "color": "white"
             }
            },
            "type": "table"
           }
          ]
         },
         "layout": {
          "annotationdefaults": {
           "arrowcolor": "#2a3f5f",
           "arrowhead": 0,
           "arrowwidth": 1
          },
          "autotypenumbers": "strict",
          "coloraxis": {
           "colorbar": {
            "outlinewidth": 0,
            "ticks": ""
           }
          },
          "colorscale": {
           "diverging": [
            [
             0,
             "#8e0152"
            ],
            [
             0.1,
             "#c51b7d"
            ],
            [
             0.2,
             "#de77ae"
            ],
            [
             0.3,
             "#f1b6da"
            ],
            [
             0.4,
             "#fde0ef"
            ],
            [
             0.5,
             "#f7f7f7"
            ],
            [
             0.6,
             "#e6f5d0"
            ],
            [
             0.7,
             "#b8e186"
            ],
            [
             0.8,
             "#7fbc41"
            ],
            [
             0.9,
             "#4d9221"
            ],
            [
             1,
             "#276419"
            ]
           ],
           "sequential": [
            [
             0,
             "#0d0887"
            ],
            [
             0.1111111111111111,
             "#46039f"
            ],
            [
             0.2222222222222222,
             "#7201a8"
            ],
            [
             0.3333333333333333,
             "#9c179e"
            ],
            [
             0.4444444444444444,
             "#bd3786"
            ],
            [
             0.5555555555555556,
             "#d8576b"
            ],
            [
             0.6666666666666666,
             "#ed7953"
            ],
            [
             0.7777777777777778,
             "#fb9f3a"
            ],
            [
             0.8888888888888888,
             "#fdca26"
            ],
            [
             1,
             "#f0f921"
            ]
           ],
           "sequentialminus": [
            [
             0,
             "#0d0887"
            ],
            [
             0.1111111111111111,
             "#46039f"
            ],
            [
             0.2222222222222222,
             "#7201a8"
            ],
            [
             0.3333333333333333,
             "#9c179e"
            ],
            [
             0.4444444444444444,
             "#bd3786"
            ],
            [
             0.5555555555555556,
             "#d8576b"
            ],
            [
             0.6666666666666666,
             "#ed7953"
            ],
            [
             0.7777777777777778,
             "#fb9f3a"
            ],
            [
             0.8888888888888888,
             "#fdca26"
            ],
            [
             1,
             "#f0f921"
            ]
           ]
          },
          "colorway": [
           "#636efa",
           "#EF553B",
           "#00cc96",
           "#ab63fa",
           "#FFA15A",
           "#19d3f3",
           "#FF6692",
           "#B6E880",
           "#FF97FF",
           "#FECB52"
          ],
          "font": {
           "color": "#2a3f5f"
          },
          "geo": {
           "bgcolor": "white",
           "lakecolor": "white",
           "landcolor": "#E5ECF6",
           "showlakes": true,
           "showland": true,
           "subunitcolor": "white"
          },
          "hoverlabel": {
           "align": "left"
          },
          "hovermode": "closest",
          "mapbox": {
           "style": "light"
          },
          "paper_bgcolor": "white",
          "plot_bgcolor": "#E5ECF6",
          "polar": {
           "angularaxis": {
            "gridcolor": "white",
            "linecolor": "white",
            "ticks": ""
           },
           "bgcolor": "#E5ECF6",
           "radialaxis": {
            "gridcolor": "white",
            "linecolor": "white",
            "ticks": ""
           }
          },
          "scene": {
           "xaxis": {
            "backgroundcolor": "#E5ECF6",
            "gridcolor": "white",
            "gridwidth": 2,
            "linecolor": "white",
            "showbackground": true,
            "ticks": "",
            "zerolinecolor": "white"
           },
           "yaxis": {
            "backgroundcolor": "#E5ECF6",
            "gridcolor": "white",
            "gridwidth": 2,
            "linecolor": "white",
            "showbackground": true,
            "ticks": "",
            "zerolinecolor": "white"
           },
           "zaxis": {
            "backgroundcolor": "#E5ECF6",
            "gridcolor": "white",
            "gridwidth": 2,
            "linecolor": "white",
            "showbackground": true,
            "ticks": "",
            "zerolinecolor": "white"
           }
          },
          "shapedefaults": {
           "line": {
            "color": "#2a3f5f"
           }
          },
          "ternary": {
           "aaxis": {
            "gridcolor": "white",
            "linecolor": "white",
            "ticks": ""
           },
           "baxis": {
            "gridcolor": "white",
            "linecolor": "white",
            "ticks": ""
           },
           "bgcolor": "#E5ECF6",
           "caxis": {
            "gridcolor": "white",
            "linecolor": "white",
            "ticks": ""
           }
          },
          "title": {
           "x": 0.05
          },
          "xaxis": {
           "automargin": true,
           "gridcolor": "white",
           "linecolor": "white",
           "ticks": "",
           "title": {
            "standoff": 15
           },
           "zerolinecolor": "white",
           "zerolinewidth": 2
          },
          "yaxis": {
           "automargin": true,
           "gridcolor": "white",
           "linecolor": "white",
           "ticks": "",
           "title": {
            "standoff": 15
           },
           "zerolinecolor": "white",
           "zerolinewidth": 2
          }
         }
        },
        "xaxis": {
         "anchor": "y",
         "domain": [
          0,
          1
         ],
         "title": {
          "text": "battery_capacity"
         }
        },
        "yaxis": {
         "anchor": "x",
         "domain": [
          0,
          1
         ],
         "title": {
          "text": "count"
         }
        }
       }
      }
     },
     "metadata": {},
     "output_type": "display_data"
    }
   ],
   "source": [
    "pdf = df.groupby('battery_capacity').size().reset_index(name='counts')\n",
    "px.histogram(pdf, x='battery_capacity')"
   ]
  },
  {
   "cell_type": "code",
   "execution_count": 72,
   "id": "f5f816a5",
   "metadata": {},
   "outputs": [
    {
     "data": {
      "application/vnd.plotly.v1+json": {
       "config": {
        "plotlyServerURL": "https://plot.ly"
       },
       "data": [
        {
         "bingroup": "x",
         "histfunc": "sum",
         "hovertemplate": "battery_capacity=%{x}<br>sum of popularity_become_fan=%{y}<extra></extra>",
         "legendgroup": "",
         "marker": {
          "color": "#636efa",
          "pattern": {
           "shape": ""
          }
         },
         "name": "",
         "orientation": "v",
         "showlegend": false,
         "type": "histogram",
         "x": {
          "bdata": "AAAAAAAAiUAAAAAAAECPQAAAAAAA4I9AAAAAAAD4kUAAAAAAAMCSQAAAAAAAqJZAAAAAAABwl0AAAAAAAHScQAAAAAAAiJ9AAAAAAABmoUAAAAAAAMCiQAAAAAAADKNAAAAAAACIo0AAAAAAAFCkQAAAAAAA4KVAAAAAAAD+pUAAAAAAAHCnQAAAAAAAmKdAAAAAAADAp0AAAAAAAC6oQAAAAAAAiKhAAAAAAAAAqUAAAAAAAFCpQAAAAAAAlKlAAAAAAACeqUAAAAAAAMipQAAAAAAAGKpAAAAAAAAqqkAAAAAAAJCqQAAAAAAAWKtAAAAAAADSq0AAAAAAAPKrQAAAAAAA+KtAAAAAAAD8q0AAAAAAACCsQAAAAAAAzqxAAAAAAADorEAAAAAAALCtQAAAAAAAWq5AAAAAAAB4rkAAAAAAAECvQAAAAAAASq9AAAAAAABer0AAAAAAAHKvQAAAAAAAkK9AAAAAAACkr0AAAAAAAOCvQAAAAAAABLBAAAAAAAATsEAAAAAAAECwQAAAAAAAaLBAAAAAAACGsEAAAAAAAJqwQAAAAAAApLBAAAAAAADMsEAAAAAAANawQAAAAAAA47BAAAAAAAD+sEAAAAAAAACxQAAAAAAAA7FAAAAAAAAIsUAAAAAAAB+xQAAAAAAAIbFAAAAAAAAwsUAAAAAAADqxQAAAAAAAWbFAAAAAAABhsUAAAAAAAGyxQAAAAAAAdrFAAAAAAACMsUAAAAAAAJSxQAAAAAAAnrFAAAAAAACosUAAAAAAAN+xQAAAAAAA+LFAAAAAAAACskAAAAAAAAayQAAAAAAAFrJAAAAAAAAqskAAAAAAAEKyQAAAAAAASLJAAAAAAABNskAAAAAAAFyyQAAAAAAAcLJAAAAAAAB5skAAAAAAAI6yQAAAAAAArLJAAAAAAADAskAAAAAAAMWyQAAAAAAAz7JAAAAAAADUskAAAAAAANWyQAAAAAAA/LJAAAAAAAAQs0AAAAAAACSzQAAAAAAAVrNAAAAAAACIs0AAAAAAAIuzQAAAAAAAnLNAAAAAAACms0AAAAAAALqzQAAAAAAAxLNAAAAAAADJs0AAAAAAANizQAAAAAAA7LNAAAAAAAD2s0AAAAAAAB60QAAAAAAAKLRAAAAAAABQtEAAAAAAAHi0QAAAAAAAjLRAAAAAAAC0tEAAAAAAABi1QAAAAAAAIrVAAAAAAAB8tUAAAAAAAOC1QAAAAAAA/rVAAAAAAABEtkAAAAAAAKi2QAAAAAAAFrdAAAAAAABwt0AAAAAAANS3QAAAAAAAOLhAAAAAAAAAuUAAAAAAAA+5QAAAAAAAZLlAAAAAAACWuUAAAAAAAFi7QA==",
          "dtype": "f8"
         },
         "xaxis": "x",
         "y": {
          "bdata": "AAAAAAAAJUCrqqqqqqorQAAAAAAAQEFAq6qqqqqqSEAAAAAAAEBbQG7btm3btj5AVVVVVVVVVkAAAAAAAACIQAAAAAAAUHZAAAAAAABIg0AAAAAAAAAsQAAAAAAA8HtAMzMzMzMzMkAAAAAAAIBKQAAAAAAAAD1AAAAAAABwfkAAAAAAAGBBQAAAAAAAgEFAAAAAAAAAPkAAAAAAAKB9QAAAAAAAOIZAAAAAAACge0AAAAAAAKiCQAAAAAAAAHRAAAAAAABgaUAAAAAAANBoQAAAAAAAgE1AAAAAAADwcEAAAAAAAAAzQAAAAAAAgGZAAAAAAACAZEAAAAAAACBnQAAAAAAAIGFAAAAAAACAakAAAAAAABhwQAAAAAAAqJBAVVVVVVUVekAAAAAAAIBRQAAAAAAAgHJAAAAAAAA4ikAPVM5u4RdhQAAAAAAAwGhAmpmZmZkZSkBJkiRJkqRRQKuqqqqqqjpAVVVVVVWVX0AAAAAAAJCJQAAAAAAAQF9AAAAAAAAAh0BVVVVVVfVnQK+hvIbyemRAMzMzMzMzQECrqqqqqtp3QAAAAAAAcH9AJUmSJEn6ZUBiJ3ZiJ/ZDQAAAAAAAKH9AAAAAAABgYUAAAAAAAJiPQAAAAAAAIIBAAAAAAACwekAAAAAAACBjQAAAAAAAMHdAAAAAAADAa0AAAAAAAMCDQAAAAAAAKIVAAAAAAAAAZ0AAAAAAACBRQAAAAAAAcFRAAAAAAADAaUAlSZIkSQJtQAAAAAAAmI5Aq6qqqqpicEAAAAAAAJB5QAAAAAAASGNAAAAAAAAYgUAAAAAAAOiDQAAAAAAAoGVAq6qqqqoqYkAAAAAAAABYQAAAAAAAQHRAAAAAAAAQf0Di4eHh4YFxQAAAAAAAoFxAAAAAAADAXkAAAAAAAABSQKuqqqqqKnFAo4suuugCYkAAAAAAAKBlQAAAAAAAwGtAAAAAAAB4dkAAAAAAAGBlQAAAAAAAUIBAAAAAAADgf0AAAAAAACBwQAAAAAAAADdAq6qqqqq4X0AAAAAAAIyRQNmJndiJvXhAmpmZmZmZQ0CamZmZmTlfQAAAAAAAYG5AAAAAAADAc0AAAAAAAGhgQKuqqqqqultAAAAAAADYUEAAAAAAAAAkQLy7u7u7W2tAq6qqqqp6U0AAAAAAAKBrQAAAAAAAEHxAAAAAAACATEAAAAAAADB+QAAAAAAAcHdAfBphuafRX0AAAAAAAKBgQAAAAAAAoGZAAAAAAAAgV0BVVVVVVRVQQAAAAAAA8HBAF1100UUvWkAAAAAAALBhQAAAAAAAUHRAAAAAAABAUEAAAAAAAABOQAAAAAAA8GVAAAAAAAAgYEAlSZIkSdJsQA==",
          "dtype": "f8"
         },
         "yaxis": "y"
        }
       ],
       "layout": {
        "barmode": "relative",
        "legend": {
         "tracegroupgap": 0
        },
        "margin": {
         "t": 60
        },
        "template": {
         "data": {
          "bar": [
           {
            "error_x": {
             "color": "#2a3f5f"
            },
            "error_y": {
             "color": "#2a3f5f"
            },
            "marker": {
             "line": {
              "color": "#E5ECF6",
              "width": 0.5
             },
             "pattern": {
              "fillmode": "overlay",
              "size": 10,
              "solidity": 0.2
             }
            },
            "type": "bar"
           }
          ],
          "barpolar": [
           {
            "marker": {
             "line": {
              "color": "#E5ECF6",
              "width": 0.5
             },
             "pattern": {
              "fillmode": "overlay",
              "size": 10,
              "solidity": 0.2
             }
            },
            "type": "barpolar"
           }
          ],
          "carpet": [
           {
            "aaxis": {
             "endlinecolor": "#2a3f5f",
             "gridcolor": "white",
             "linecolor": "white",
             "minorgridcolor": "white",
             "startlinecolor": "#2a3f5f"
            },
            "baxis": {
             "endlinecolor": "#2a3f5f",
             "gridcolor": "white",
             "linecolor": "white",
             "minorgridcolor": "white",
             "startlinecolor": "#2a3f5f"
            },
            "type": "carpet"
           }
          ],
          "choropleth": [
           {
            "colorbar": {
             "outlinewidth": 0,
             "ticks": ""
            },
            "type": "choropleth"
           }
          ],
          "contour": [
           {
            "colorbar": {
             "outlinewidth": 0,
             "ticks": ""
            },
            "colorscale": [
             [
              0,
              "#0d0887"
             ],
             [
              0.1111111111111111,
              "#46039f"
             ],
             [
              0.2222222222222222,
              "#7201a8"
             ],
             [
              0.3333333333333333,
              "#9c179e"
             ],
             [
              0.4444444444444444,
              "#bd3786"
             ],
             [
              0.5555555555555556,
              "#d8576b"
             ],
             [
              0.6666666666666666,
              "#ed7953"
             ],
             [
              0.7777777777777778,
              "#fb9f3a"
             ],
             [
              0.8888888888888888,
              "#fdca26"
             ],
             [
              1,
              "#f0f921"
             ]
            ],
            "type": "contour"
           }
          ],
          "contourcarpet": [
           {
            "colorbar": {
             "outlinewidth": 0,
             "ticks": ""
            },
            "type": "contourcarpet"
           }
          ],
          "heatmap": [
           {
            "colorbar": {
             "outlinewidth": 0,
             "ticks": ""
            },
            "colorscale": [
             [
              0,
              "#0d0887"
             ],
             [
              0.1111111111111111,
              "#46039f"
             ],
             [
              0.2222222222222222,
              "#7201a8"
             ],
             [
              0.3333333333333333,
              "#9c179e"
             ],
             [
              0.4444444444444444,
              "#bd3786"
             ],
             [
              0.5555555555555556,
              "#d8576b"
             ],
             [
              0.6666666666666666,
              "#ed7953"
             ],
             [
              0.7777777777777778,
              "#fb9f3a"
             ],
             [
              0.8888888888888888,
              "#fdca26"
             ],
             [
              1,
              "#f0f921"
             ]
            ],
            "type": "heatmap"
           }
          ],
          "histogram": [
           {
            "marker": {
             "pattern": {
              "fillmode": "overlay",
              "size": 10,
              "solidity": 0.2
             }
            },
            "type": "histogram"
           }
          ],
          "histogram2d": [
           {
            "colorbar": {
             "outlinewidth": 0,
             "ticks": ""
            },
            "colorscale": [
             [
              0,
              "#0d0887"
             ],
             [
              0.1111111111111111,
              "#46039f"
             ],
             [
              0.2222222222222222,
              "#7201a8"
             ],
             [
              0.3333333333333333,
              "#9c179e"
             ],
             [
              0.4444444444444444,
              "#bd3786"
             ],
             [
              0.5555555555555556,
              "#d8576b"
             ],
             [
              0.6666666666666666,
              "#ed7953"
             ],
             [
              0.7777777777777778,
              "#fb9f3a"
             ],
             [
              0.8888888888888888,
              "#fdca26"
             ],
             [
              1,
              "#f0f921"
             ]
            ],
            "type": "histogram2d"
           }
          ],
          "histogram2dcontour": [
           {
            "colorbar": {
             "outlinewidth": 0,
             "ticks": ""
            },
            "colorscale": [
             [
              0,
              "#0d0887"
             ],
             [
              0.1111111111111111,
              "#46039f"
             ],
             [
              0.2222222222222222,
              "#7201a8"
             ],
             [
              0.3333333333333333,
              "#9c179e"
             ],
             [
              0.4444444444444444,
              "#bd3786"
             ],
             [
              0.5555555555555556,
              "#d8576b"
             ],
             [
              0.6666666666666666,
              "#ed7953"
             ],
             [
              0.7777777777777778,
              "#fb9f3a"
             ],
             [
              0.8888888888888888,
              "#fdca26"
             ],
             [
              1,
              "#f0f921"
             ]
            ],
            "type": "histogram2dcontour"
           }
          ],
          "mesh3d": [
           {
            "colorbar": {
             "outlinewidth": 0,
             "ticks": ""
            },
            "type": "mesh3d"
           }
          ],
          "parcoords": [
           {
            "line": {
             "colorbar": {
              "outlinewidth": 0,
              "ticks": ""
             }
            },
            "type": "parcoords"
           }
          ],
          "pie": [
           {
            "automargin": true,
            "type": "pie"
           }
          ],
          "scatter": [
           {
            "fillpattern": {
             "fillmode": "overlay",
             "size": 10,
             "solidity": 0.2
            },
            "type": "scatter"
           }
          ],
          "scatter3d": [
           {
            "line": {
             "colorbar": {
              "outlinewidth": 0,
              "ticks": ""
             }
            },
            "marker": {
             "colorbar": {
              "outlinewidth": 0,
              "ticks": ""
             }
            },
            "type": "scatter3d"
           }
          ],
          "scattercarpet": [
           {
            "marker": {
             "colorbar": {
              "outlinewidth": 0,
              "ticks": ""
             }
            },
            "type": "scattercarpet"
           }
          ],
          "scattergeo": [
           {
            "marker": {
             "colorbar": {
              "outlinewidth": 0,
              "ticks": ""
             }
            },
            "type": "scattergeo"
           }
          ],
          "scattergl": [
           {
            "marker": {
             "colorbar": {
              "outlinewidth": 0,
              "ticks": ""
             }
            },
            "type": "scattergl"
           }
          ],
          "scattermap": [
           {
            "marker": {
             "colorbar": {
              "outlinewidth": 0,
              "ticks": ""
             }
            },
            "type": "scattermap"
           }
          ],
          "scattermapbox": [
           {
            "marker": {
             "colorbar": {
              "outlinewidth": 0,
              "ticks": ""
             }
            },
            "type": "scattermapbox"
           }
          ],
          "scatterpolar": [
           {
            "marker": {
             "colorbar": {
              "outlinewidth": 0,
              "ticks": ""
             }
            },
            "type": "scatterpolar"
           }
          ],
          "scatterpolargl": [
           {
            "marker": {
             "colorbar": {
              "outlinewidth": 0,
              "ticks": ""
             }
            },
            "type": "scatterpolargl"
           }
          ],
          "scatterternary": [
           {
            "marker": {
             "colorbar": {
              "outlinewidth": 0,
              "ticks": ""
             }
            },
            "type": "scatterternary"
           }
          ],
          "surface": [
           {
            "colorbar": {
             "outlinewidth": 0,
             "ticks": ""
            },
            "colorscale": [
             [
              0,
              "#0d0887"
             ],
             [
              0.1111111111111111,
              "#46039f"
             ],
             [
              0.2222222222222222,
              "#7201a8"
             ],
             [
              0.3333333333333333,
              "#9c179e"
             ],
             [
              0.4444444444444444,
              "#bd3786"
             ],
             [
              0.5555555555555556,
              "#d8576b"
             ],
             [
              0.6666666666666666,
              "#ed7953"
             ],
             [
              0.7777777777777778,
              "#fb9f3a"
             ],
             [
              0.8888888888888888,
              "#fdca26"
             ],
             [
              1,
              "#f0f921"
             ]
            ],
            "type": "surface"
           }
          ],
          "table": [
           {
            "cells": {
             "fill": {
              "color": "#EBF0F8"
             },
             "line": {
              "color": "white"
             }
            },
            "header": {
             "fill": {
              "color": "#C8D4E3"
             },
             "line": {
              "color": "white"
             }
            },
            "type": "table"
           }
          ]
         },
         "layout": {
          "annotationdefaults": {
           "arrowcolor": "#2a3f5f",
           "arrowhead": 0,
           "arrowwidth": 1
          },
          "autotypenumbers": "strict",
          "coloraxis": {
           "colorbar": {
            "outlinewidth": 0,
            "ticks": ""
           }
          },
          "colorscale": {
           "diverging": [
            [
             0,
             "#8e0152"
            ],
            [
             0.1,
             "#c51b7d"
            ],
            [
             0.2,
             "#de77ae"
            ],
            [
             0.3,
             "#f1b6da"
            ],
            [
             0.4,
             "#fde0ef"
            ],
            [
             0.5,
             "#f7f7f7"
            ],
            [
             0.6,
             "#e6f5d0"
            ],
            [
             0.7,
             "#b8e186"
            ],
            [
             0.8,
             "#7fbc41"
            ],
            [
             0.9,
             "#4d9221"
            ],
            [
             1,
             "#276419"
            ]
           ],
           "sequential": [
            [
             0,
             "#0d0887"
            ],
            [
             0.1111111111111111,
             "#46039f"
            ],
            [
             0.2222222222222222,
             "#7201a8"
            ],
            [
             0.3333333333333333,
             "#9c179e"
            ],
            [
             0.4444444444444444,
             "#bd3786"
            ],
            [
             0.5555555555555556,
             "#d8576b"
            ],
            [
             0.6666666666666666,
             "#ed7953"
            ],
            [
             0.7777777777777778,
             "#fb9f3a"
            ],
            [
             0.8888888888888888,
             "#fdca26"
            ],
            [
             1,
             "#f0f921"
            ]
           ],
           "sequentialminus": [
            [
             0,
             "#0d0887"
            ],
            [
             0.1111111111111111,
             "#46039f"
            ],
            [
             0.2222222222222222,
             "#7201a8"
            ],
            [
             0.3333333333333333,
             "#9c179e"
            ],
            [
             0.4444444444444444,
             "#bd3786"
            ],
            [
             0.5555555555555556,
             "#d8576b"
            ],
            [
             0.6666666666666666,
             "#ed7953"
            ],
            [
             0.7777777777777778,
             "#fb9f3a"
            ],
            [
             0.8888888888888888,
             "#fdca26"
            ],
            [
             1,
             "#f0f921"
            ]
           ]
          },
          "colorway": [
           "#636efa",
           "#EF553B",
           "#00cc96",
           "#ab63fa",
           "#FFA15A",
           "#19d3f3",
           "#FF6692",
           "#B6E880",
           "#FF97FF",
           "#FECB52"
          ],
          "font": {
           "color": "#2a3f5f"
          },
          "geo": {
           "bgcolor": "white",
           "lakecolor": "white",
           "landcolor": "#E5ECF6",
           "showlakes": true,
           "showland": true,
           "subunitcolor": "white"
          },
          "hoverlabel": {
           "align": "left"
          },
          "hovermode": "closest",
          "mapbox": {
           "style": "light"
          },
          "paper_bgcolor": "white",
          "plot_bgcolor": "#E5ECF6",
          "polar": {
           "angularaxis": {
            "gridcolor": "white",
            "linecolor": "white",
            "ticks": ""
           },
           "bgcolor": "#E5ECF6",
           "radialaxis": {
            "gridcolor": "white",
            "linecolor": "white",
            "ticks": ""
           }
          },
          "scene": {
           "xaxis": {
            "backgroundcolor": "#E5ECF6",
            "gridcolor": "white",
            "gridwidth": 2,
            "linecolor": "white",
            "showbackground": true,
            "ticks": "",
            "zerolinecolor": "white"
           },
           "yaxis": {
            "backgroundcolor": "#E5ECF6",
            "gridcolor": "white",
            "gridwidth": 2,
            "linecolor": "white",
            "showbackground": true,
            "ticks": "",
            "zerolinecolor": "white"
           },
           "zaxis": {
            "backgroundcolor": "#E5ECF6",
            "gridcolor": "white",
            "gridwidth": 2,
            "linecolor": "white",
            "showbackground": true,
            "ticks": "",
            "zerolinecolor": "white"
           }
          },
          "shapedefaults": {
           "line": {
            "color": "#2a3f5f"
           }
          },
          "ternary": {
           "aaxis": {
            "gridcolor": "white",
            "linecolor": "white",
            "ticks": ""
           },
           "baxis": {
            "gridcolor": "white",
            "linecolor": "white",
            "ticks": ""
           },
           "bgcolor": "#E5ECF6",
           "caxis": {
            "gridcolor": "white",
            "linecolor": "white",
            "ticks": ""
           }
          },
          "title": {
           "x": 0.05
          },
          "xaxis": {
           "automargin": true,
           "gridcolor": "white",
           "linecolor": "white",
           "ticks": "",
           "title": {
            "standoff": 15
           },
           "zerolinecolor": "white",
           "zerolinewidth": 2
          },
          "yaxis": {
           "automargin": true,
           "gridcolor": "white",
           "linecolor": "white",
           "ticks": "",
           "title": {
            "standoff": 15
           },
           "zerolinecolor": "white",
           "zerolinewidth": 2
          }
         }
        },
        "xaxis": {
         "anchor": "y",
         "domain": [
          0,
          1
         ],
         "title": {
          "text": "battery_capacity"
         }
        },
        "yaxis": {
         "anchor": "x",
         "domain": [
          0,
          1
         ],
         "title": {
          "text": "sum of popularity_become_fan"
         }
        }
       }
      }
     },
     "metadata": {},
     "output_type": "display_data"
    }
   ],
   "source": [
    "pdf = df.groupby('battery_capacity')['popularity_become_fan'].mean().reset_index()\n",
    "px.histogram(pdf, x='battery_capacity', y='popularity_become_fan')"
   ]
  },
  {
   "cell_type": "code",
   "execution_count": null,
   "id": "1ec79276",
   "metadata": {},
   "outputs": [],
   "source": []
  }
 ],
 "metadata": {
  "kernelspec": {
   "display_name": "my-venv",
   "language": "python",
   "name": "python3"
  },
  "language_info": {
   "codemirror_mode": {
    "name": "ipython",
    "version": 3
   },
   "file_extension": ".py",
   "mimetype": "text/x-python",
   "name": "python",
   "nbconvert_exporter": "python",
   "pygments_lexer": "ipython3",
   "version": "3.13.2"
  }
 },
 "nbformat": 4,
 "nbformat_minor": 5
}
