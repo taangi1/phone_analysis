{
 "cells": [
  {
   "cell_type": "markdown",
   "id": "211bf335",
   "metadata": {},
   "source": [
    "# Mobile Phone Analysis\n",
    "\n",
    "Analysis of phone characteristics and popularity of different phone models collected on 14th of March"
   ]
  },
  {
   "cell_type": "code",
   "execution_count": 1,
   "id": "30736071",
   "metadata": {},
   "outputs": [],
   "source": [
    "import pandas as pd\n",
    "import plotly.express as px\n",
    "import seaborn as sns"
   ]
  },
  {
   "cell_type": "code",
   "execution_count": 2,
   "id": "e4c1860c",
   "metadata": {},
   "outputs": [
    {
     "data": {
      "text/html": [
       "<div>\n",
       "<style scoped>\n",
       "    .dataframe tbody tr th:only-of-type {\n",
       "        vertical-align: middle;\n",
       "    }\n",
       "\n",
       "    .dataframe tbody tr th {\n",
       "        vertical-align: top;\n",
       "    }\n",
       "\n",
       "    .dataframe thead th {\n",
       "        text-align: right;\n",
       "    }\n",
       "</style>\n",
       "<table border=\"1\" class=\"dataframe\">\n",
       "  <thead>\n",
       "    <tr style=\"text-align: right;\">\n",
       "      <th></th>\n",
       "      <th>brand</th>\n",
       "      <th>model</th>\n",
       "      <th>photo_link</th>\n",
       "      <th>phone_link</th>\n",
       "      <th>popularity_become_fan</th>\n",
       "      <th>popularity_views</th>\n",
       "      <th>popularity_views_today</th>\n",
       "      <th>price</th>\n",
       "      <th>eSIM</th>\n",
       "      <th>announce_year</th>\n",
       "      <th>...</th>\n",
       "      <th>radio</th>\n",
       "      <th>usb_type</th>\n",
       "      <th>usb_version</th>\n",
       "      <th>biometric_auth</th>\n",
       "      <th>has_black_color</th>\n",
       "      <th>foldable</th>\n",
       "      <th>battery_type</th>\n",
       "      <th>battery_capacity</th>\n",
       "      <th>type</th>\n",
       "      <th>5g</th>\n",
       "    </tr>\n",
       "  </thead>\n",
       "  <tbody>\n",
       "    <tr>\n",
       "      <th>0</th>\n",
       "      <td>alcatel</td>\n",
       "      <td>1B (2022)</td>\n",
       "      <td>https://fdn2.gsmarena.com/vv/bigpic/alcatel-1b...</td>\n",
       "      <td>https://www.gsmarena.com/alcatel_1b_(2022)-117...</td>\n",
       "      <td>18</td>\n",
       "      <td>252662</td>\n",
       "      <td>0.3</td>\n",
       "      <td>100.0</td>\n",
       "      <td>False</td>\n",
       "      <td>2022.0</td>\n",
       "      <td>...</td>\n",
       "      <td>True</td>\n",
       "      <td>microUSB</td>\n",
       "      <td>2.0</td>\n",
       "      <td>False</td>\n",
       "      <td>True</td>\n",
       "      <td>False</td>\n",
       "      <td>Li-Ion</td>\n",
       "      <td>3000.0</td>\n",
       "      <td>phone</td>\n",
       "      <td>False</td>\n",
       "    </tr>\n",
       "    <tr>\n",
       "      <th>1</th>\n",
       "      <td>alcatel</td>\n",
       "      <td>1L Pro (2021)</td>\n",
       "      <td>https://fdn2.gsmarena.com/vv/bigpic/alcatel-1l...</td>\n",
       "      <td>https://www.gsmarena.com/alcatel_1l_pro_(2021)...</td>\n",
       "      <td>14</td>\n",
       "      <td>207311</td>\n",
       "      <td>0.1</td>\n",
       "      <td>110.0</td>\n",
       "      <td>False</td>\n",
       "      <td>2021.0</td>\n",
       "      <td>...</td>\n",
       "      <td>True</td>\n",
       "      <td>microUSB</td>\n",
       "      <td>2.0</td>\n",
       "      <td>True</td>\n",
       "      <td>False</td>\n",
       "      <td>False</td>\n",
       "      <td>Li-Ion</td>\n",
       "      <td>3000.0</td>\n",
       "      <td>phone</td>\n",
       "      <td>False</td>\n",
       "    </tr>\n",
       "    <tr>\n",
       "      <th>2</th>\n",
       "      <td>alcatel</td>\n",
       "      <td>1 (2021)</td>\n",
       "      <td>https://fdn2.gsmarena.com/vv/bigpic/alcatel-1-...</td>\n",
       "      <td>https://www.gsmarena.com/alcatel_1_(2021)-1098...</td>\n",
       "      <td>19</td>\n",
       "      <td>238822</td>\n",
       "      <td>0.1</td>\n",
       "      <td>60.0</td>\n",
       "      <td>False</td>\n",
       "      <td>2021.0</td>\n",
       "      <td>...</td>\n",
       "      <td>True</td>\n",
       "      <td>microUSB</td>\n",
       "      <td>2.0</td>\n",
       "      <td>False</td>\n",
       "      <td>True</td>\n",
       "      <td>False</td>\n",
       "      <td>Li-Ion</td>\n",
       "      <td>2000.0</td>\n",
       "      <td>phone</td>\n",
       "      <td>False</td>\n",
       "    </tr>\n",
       "    <tr>\n",
       "      <th>3</th>\n",
       "      <td>alcatel</td>\n",
       "      <td>3L (2021)</td>\n",
       "      <td>https://fdn2.gsmarena.com/vv/bigpic/alcatel-a3...</td>\n",
       "      <td>https://www.gsmarena.com/alcatel_3l_(2021)-106...</td>\n",
       "      <td>20</td>\n",
       "      <td>218264</td>\n",
       "      <td>0.0</td>\n",
       "      <td>330.0</td>\n",
       "      <td>False</td>\n",
       "      <td>2021.0</td>\n",
       "      <td>...</td>\n",
       "      <td>True</td>\n",
       "      <td>microUSB</td>\n",
       "      <td>2.0</td>\n",
       "      <td>True</td>\n",
       "      <td>True</td>\n",
       "      <td>False</td>\n",
       "      <td>Li-Po</td>\n",
       "      <td>4000.0</td>\n",
       "      <td>phone</td>\n",
       "      <td>False</td>\n",
       "    </tr>\n",
       "    <tr>\n",
       "      <th>4</th>\n",
       "      <td>alcatel</td>\n",
       "      <td>1S (2021)</td>\n",
       "      <td>https://fdn2.gsmarena.com/vv/bigpic/alcatel-1s...</td>\n",
       "      <td>https://www.gsmarena.com/alcatel_1s_(2021)-106...</td>\n",
       "      <td>18</td>\n",
       "      <td>259768</td>\n",
       "      <td>0.1</td>\n",
       "      <td>130.0</td>\n",
       "      <td>False</td>\n",
       "      <td>2021.0</td>\n",
       "      <td>...</td>\n",
       "      <td>True</td>\n",
       "      <td>microUSB</td>\n",
       "      <td>2.0</td>\n",
       "      <td>True</td>\n",
       "      <td>True</td>\n",
       "      <td>False</td>\n",
       "      <td>Li-Po</td>\n",
       "      <td>4000.0</td>\n",
       "      <td>phone</td>\n",
       "      <td>False</td>\n",
       "    </tr>\n",
       "  </tbody>\n",
       "</table>\n",
       "<p>5 rows × 51 columns</p>\n",
       "</div>"
      ],
      "text/plain": [
       "     brand          model                                         photo_link  \\\n",
       "0  alcatel      1B (2022)  https://fdn2.gsmarena.com/vv/bigpic/alcatel-1b...   \n",
       "1  alcatel  1L Pro (2021)  https://fdn2.gsmarena.com/vv/bigpic/alcatel-1l...   \n",
       "2  alcatel       1 (2021)  https://fdn2.gsmarena.com/vv/bigpic/alcatel-1-...   \n",
       "3  alcatel      3L (2021)  https://fdn2.gsmarena.com/vv/bigpic/alcatel-a3...   \n",
       "4  alcatel      1S (2021)  https://fdn2.gsmarena.com/vv/bigpic/alcatel-1s...   \n",
       "\n",
       "                                          phone_link  popularity_become_fan  \\\n",
       "0  https://www.gsmarena.com/alcatel_1b_(2022)-117...                     18   \n",
       "1  https://www.gsmarena.com/alcatel_1l_pro_(2021)...                     14   \n",
       "2  https://www.gsmarena.com/alcatel_1_(2021)-1098...                     19   \n",
       "3  https://www.gsmarena.com/alcatel_3l_(2021)-106...                     20   \n",
       "4  https://www.gsmarena.com/alcatel_1s_(2021)-106...                     18   \n",
       "\n",
       "   popularity_views  popularity_views_today  price   eSIM  announce_year  ...  \\\n",
       "0            252662                     0.3  100.0  False         2022.0  ...   \n",
       "1            207311                     0.1  110.0  False         2021.0  ...   \n",
       "2            238822                     0.1   60.0  False         2021.0  ...   \n",
       "3            218264                     0.0  330.0  False         2021.0  ...   \n",
       "4            259768                     0.1  130.0  False         2021.0  ...   \n",
       "\n",
       "   radio   usb_type  usb_version  biometric_auth  has_black_color  foldable  \\\n",
       "0   True  microUSB           2.0           False             True     False   \n",
       "1   True  microUSB           2.0            True            False     False   \n",
       "2   True  microUSB           2.0           False             True     False   \n",
       "3   True  microUSB           2.0            True             True     False   \n",
       "4   True  microUSB           2.0            True             True     False   \n",
       "\n",
       "   battery_type battery_capacity   type     5g  \n",
       "0        Li-Ion           3000.0  phone  False  \n",
       "1        Li-Ion           3000.0  phone  False  \n",
       "2        Li-Ion           2000.0  phone  False  \n",
       "3         Li-Po           4000.0  phone  False  \n",
       "4         Li-Po           4000.0  phone  False  \n",
       "\n",
       "[5 rows x 51 columns]"
      ]
     },
     "execution_count": 2,
     "metadata": {},
     "output_type": "execute_result"
    }
   ],
   "source": [
    "df = pd.read_csv('../clean_phones/relevant_features.csv')\n",
    "df = df[df['type'] == 'phone']\n",
    "df.head()"
   ]
  },
  {
   "cell_type": "markdown",
   "id": "d0d230ba",
   "metadata": {},
   "source": [
    "I will select top 10 phones by average likes on each phone in last 5 years"
   ]
  },
  {
   "cell_type": "code",
   "execution_count": 3,
   "id": "cc27fc73",
   "metadata": {},
   "outputs": [],
   "source": [
    "top_brands = df.groupby('brand')[['popularity_become_fan']].mean('popularity_become_fan').sort_values('popularity_become_fan', ascending=False).reset_index().iloc[:10]['brand']\n",
    "df = df[df['brand'].isin(top_brands)]"
   ]
  },
  {
   "cell_type": "code",
   "execution_count": 4,
   "id": "ec799bc6",
   "metadata": {},
   "outputs": [
    {
     "data": {
      "application/vnd.plotly.v1+json": {
       "config": {
        "plotlyServerURL": "https://plot.ly"
       },
       "data": [
        {
         "hovertemplate": "brand=%{x}<br>counts=%{y}<extra></extra>",
         "legendgroup": "",
         "marker": {
          "color": "#636efa",
          "pattern": {
           "shape": ""
          }
         },
         "name": "",
         "orientation": "v",
         "showlegend": false,
         "textposition": "auto",
         "type": "bar",
         "x": [
          "Xiaomi",
          "Samsung",
          "OnePlus",
          "Asus",
          "Apple",
          "Google",
          "Sony",
          "Nothing",
          "Fairphone",
          "Microsoft"
         ],
         "xaxis": "x",
         "y": {
          "bdata": "FQGsADUAHQAXABIAEgAHAAMAAgA=",
          "dtype": "i2"
         },
         "yaxis": "y"
        }
       ],
       "layout": {
        "barmode": "relative",
        "legend": {
         "tracegroupgap": 0
        },
        "margin": {
         "t": 60
        },
        "template": {
         "data": {
          "bar": [
           {
            "error_x": {
             "color": "#2a3f5f"
            },
            "error_y": {
             "color": "#2a3f5f"
            },
            "marker": {
             "line": {
              "color": "#E5ECF6",
              "width": 0.5
             },
             "pattern": {
              "fillmode": "overlay",
              "size": 10,
              "solidity": 0.2
             }
            },
            "type": "bar"
           }
          ],
          "barpolar": [
           {
            "marker": {
             "line": {
              "color": "#E5ECF6",
              "width": 0.5
             },
             "pattern": {
              "fillmode": "overlay",
              "size": 10,
              "solidity": 0.2
             }
            },
            "type": "barpolar"
           }
          ],
          "carpet": [
           {
            "aaxis": {
             "endlinecolor": "#2a3f5f",
             "gridcolor": "white",
             "linecolor": "white",
             "minorgridcolor": "white",
             "startlinecolor": "#2a3f5f"
            },
            "baxis": {
             "endlinecolor": "#2a3f5f",
             "gridcolor": "white",
             "linecolor": "white",
             "minorgridcolor": "white",
             "startlinecolor": "#2a3f5f"
            },
            "type": "carpet"
           }
          ],
          "choropleth": [
           {
            "colorbar": {
             "outlinewidth": 0,
             "ticks": ""
            },
            "type": "choropleth"
           }
          ],
          "contour": [
           {
            "colorbar": {
             "outlinewidth": 0,
             "ticks": ""
            },
            "colorscale": [
             [
              0,
              "#0d0887"
             ],
             [
              0.1111111111111111,
              "#46039f"
             ],
             [
              0.2222222222222222,
              "#7201a8"
             ],
             [
              0.3333333333333333,
              "#9c179e"
             ],
             [
              0.4444444444444444,
              "#bd3786"
             ],
             [
              0.5555555555555556,
              "#d8576b"
             ],
             [
              0.6666666666666666,
              "#ed7953"
             ],
             [
              0.7777777777777778,
              "#fb9f3a"
             ],
             [
              0.8888888888888888,
              "#fdca26"
             ],
             [
              1,
              "#f0f921"
             ]
            ],
            "type": "contour"
           }
          ],
          "contourcarpet": [
           {
            "colorbar": {
             "outlinewidth": 0,
             "ticks": ""
            },
            "type": "contourcarpet"
           }
          ],
          "heatmap": [
           {
            "colorbar": {
             "outlinewidth": 0,
             "ticks": ""
            },
            "colorscale": [
             [
              0,
              "#0d0887"
             ],
             [
              0.1111111111111111,
              "#46039f"
             ],
             [
              0.2222222222222222,
              "#7201a8"
             ],
             [
              0.3333333333333333,
              "#9c179e"
             ],
             [
              0.4444444444444444,
              "#bd3786"
             ],
             [
              0.5555555555555556,
              "#d8576b"
             ],
             [
              0.6666666666666666,
              "#ed7953"
             ],
             [
              0.7777777777777778,
              "#fb9f3a"
             ],
             [
              0.8888888888888888,
              "#fdca26"
             ],
             [
              1,
              "#f0f921"
             ]
            ],
            "type": "heatmap"
           }
          ],
          "histogram": [
           {
            "marker": {
             "pattern": {
              "fillmode": "overlay",
              "size": 10,
              "solidity": 0.2
             }
            },
            "type": "histogram"
           }
          ],
          "histogram2d": [
           {
            "colorbar": {
             "outlinewidth": 0,
             "ticks": ""
            },
            "colorscale": [
             [
              0,
              "#0d0887"
             ],
             [
              0.1111111111111111,
              "#46039f"
             ],
             [
              0.2222222222222222,
              "#7201a8"
             ],
             [
              0.3333333333333333,
              "#9c179e"
             ],
             [
              0.4444444444444444,
              "#bd3786"
             ],
             [
              0.5555555555555556,
              "#d8576b"
             ],
             [
              0.6666666666666666,
              "#ed7953"
             ],
             [
              0.7777777777777778,
              "#fb9f3a"
             ],
             [
              0.8888888888888888,
              "#fdca26"
             ],
             [
              1,
              "#f0f921"
             ]
            ],
            "type": "histogram2d"
           }
          ],
          "histogram2dcontour": [
           {
            "colorbar": {
             "outlinewidth": 0,
             "ticks": ""
            },
            "colorscale": [
             [
              0,
              "#0d0887"
             ],
             [
              0.1111111111111111,
              "#46039f"
             ],
             [
              0.2222222222222222,
              "#7201a8"
             ],
             [
              0.3333333333333333,
              "#9c179e"
             ],
             [
              0.4444444444444444,
              "#bd3786"
             ],
             [
              0.5555555555555556,
              "#d8576b"
             ],
             [
              0.6666666666666666,
              "#ed7953"
             ],
             [
              0.7777777777777778,
              "#fb9f3a"
             ],
             [
              0.8888888888888888,
              "#fdca26"
             ],
             [
              1,
              "#f0f921"
             ]
            ],
            "type": "histogram2dcontour"
           }
          ],
          "mesh3d": [
           {
            "colorbar": {
             "outlinewidth": 0,
             "ticks": ""
            },
            "type": "mesh3d"
           }
          ],
          "parcoords": [
           {
            "line": {
             "colorbar": {
              "outlinewidth": 0,
              "ticks": ""
             }
            },
            "type": "parcoords"
           }
          ],
          "pie": [
           {
            "automargin": true,
            "type": "pie"
           }
          ],
          "scatter": [
           {
            "fillpattern": {
             "fillmode": "overlay",
             "size": 10,
             "solidity": 0.2
            },
            "type": "scatter"
           }
          ],
          "scatter3d": [
           {
            "line": {
             "colorbar": {
              "outlinewidth": 0,
              "ticks": ""
             }
            },
            "marker": {
             "colorbar": {
              "outlinewidth": 0,
              "ticks": ""
             }
            },
            "type": "scatter3d"
           }
          ],
          "scattercarpet": [
           {
            "marker": {
             "colorbar": {
              "outlinewidth": 0,
              "ticks": ""
             }
            },
            "type": "scattercarpet"
           }
          ],
          "scattergeo": [
           {
            "marker": {
             "colorbar": {
              "outlinewidth": 0,
              "ticks": ""
             }
            },
            "type": "scattergeo"
           }
          ],
          "scattergl": [
           {
            "marker": {
             "colorbar": {
              "outlinewidth": 0,
              "ticks": ""
             }
            },
            "type": "scattergl"
           }
          ],
          "scattermap": [
           {
            "marker": {
             "colorbar": {
              "outlinewidth": 0,
              "ticks": ""
             }
            },
            "type": "scattermap"
           }
          ],
          "scattermapbox": [
           {
            "marker": {
             "colorbar": {
              "outlinewidth": 0,
              "ticks": ""
             }
            },
            "type": "scattermapbox"
           }
          ],
          "scatterpolar": [
           {
            "marker": {
             "colorbar": {
              "outlinewidth": 0,
              "ticks": ""
             }
            },
            "type": "scatterpolar"
           }
          ],
          "scatterpolargl": [
           {
            "marker": {
             "colorbar": {
              "outlinewidth": 0,
              "ticks": ""
             }
            },
            "type": "scatterpolargl"
           }
          ],
          "scatterternary": [
           {
            "marker": {
             "colorbar": {
              "outlinewidth": 0,
              "ticks": ""
             }
            },
            "type": "scatterternary"
           }
          ],
          "surface": [
           {
            "colorbar": {
             "outlinewidth": 0,
             "ticks": ""
            },
            "colorscale": [
             [
              0,
              "#0d0887"
             ],
             [
              0.1111111111111111,
              "#46039f"
             ],
             [
              0.2222222222222222,
              "#7201a8"
             ],
             [
              0.3333333333333333,
              "#9c179e"
             ],
             [
              0.4444444444444444,
              "#bd3786"
             ],
             [
              0.5555555555555556,
              "#d8576b"
             ],
             [
              0.6666666666666666,
              "#ed7953"
             ],
             [
              0.7777777777777778,
              "#fb9f3a"
             ],
             [
              0.8888888888888888,
              "#fdca26"
             ],
             [
              1,
              "#f0f921"
             ]
            ],
            "type": "surface"
           }
          ],
          "table": [
           {
            "cells": {
             "fill": {
              "color": "#EBF0F8"
             },
             "line": {
              "color": "white"
             }
            },
            "header": {
             "fill": {
              "color": "#C8D4E3"
             },
             "line": {
              "color": "white"
             }
            },
            "type": "table"
           }
          ]
         },
         "layout": {
          "annotationdefaults": {
           "arrowcolor": "#2a3f5f",
           "arrowhead": 0,
           "arrowwidth": 1
          },
          "autotypenumbers": "strict",
          "coloraxis": {
           "colorbar": {
            "outlinewidth": 0,
            "ticks": ""
           }
          },
          "colorscale": {
           "diverging": [
            [
             0,
             "#8e0152"
            ],
            [
             0.1,
             "#c51b7d"
            ],
            [
             0.2,
             "#de77ae"
            ],
            [
             0.3,
             "#f1b6da"
            ],
            [
             0.4,
             "#fde0ef"
            ],
            [
             0.5,
             "#f7f7f7"
            ],
            [
             0.6,
             "#e6f5d0"
            ],
            [
             0.7,
             "#b8e186"
            ],
            [
             0.8,
             "#7fbc41"
            ],
            [
             0.9,
             "#4d9221"
            ],
            [
             1,
             "#276419"
            ]
           ],
           "sequential": [
            [
             0,
             "#0d0887"
            ],
            [
             0.1111111111111111,
             "#46039f"
            ],
            [
             0.2222222222222222,
             "#7201a8"
            ],
            [
             0.3333333333333333,
             "#9c179e"
            ],
            [
             0.4444444444444444,
             "#bd3786"
            ],
            [
             0.5555555555555556,
             "#d8576b"
            ],
            [
             0.6666666666666666,
             "#ed7953"
            ],
            [
             0.7777777777777778,
             "#fb9f3a"
            ],
            [
             0.8888888888888888,
             "#fdca26"
            ],
            [
             1,
             "#f0f921"
            ]
           ],
           "sequentialminus": [
            [
             0,
             "#0d0887"
            ],
            [
             0.1111111111111111,
             "#46039f"
            ],
            [
             0.2222222222222222,
             "#7201a8"
            ],
            [
             0.3333333333333333,
             "#9c179e"
            ],
            [
             0.4444444444444444,
             "#bd3786"
            ],
            [
             0.5555555555555556,
             "#d8576b"
            ],
            [
             0.6666666666666666,
             "#ed7953"
            ],
            [
             0.7777777777777778,
             "#fb9f3a"
            ],
            [
             0.8888888888888888,
             "#fdca26"
            ],
            [
             1,
             "#f0f921"
            ]
           ]
          },
          "colorway": [
           "#636efa",
           "#EF553B",
           "#00cc96",
           "#ab63fa",
           "#FFA15A",
           "#19d3f3",
           "#FF6692",
           "#B6E880",
           "#FF97FF",
           "#FECB52"
          ],
          "font": {
           "color": "#2a3f5f"
          },
          "geo": {
           "bgcolor": "white",
           "lakecolor": "white",
           "landcolor": "#E5ECF6",
           "showlakes": true,
           "showland": true,
           "subunitcolor": "white"
          },
          "hoverlabel": {
           "align": "left"
          },
          "hovermode": "closest",
          "mapbox": {
           "style": "light"
          },
          "paper_bgcolor": "white",
          "plot_bgcolor": "#E5ECF6",
          "polar": {
           "angularaxis": {
            "gridcolor": "white",
            "linecolor": "white",
            "ticks": ""
           },
           "bgcolor": "#E5ECF6",
           "radialaxis": {
            "gridcolor": "white",
            "linecolor": "white",
            "ticks": ""
           }
          },
          "scene": {
           "xaxis": {
            "backgroundcolor": "#E5ECF6",
            "gridcolor": "white",
            "gridwidth": 2,
            "linecolor": "white",
            "showbackground": true,
            "ticks": "",
            "zerolinecolor": "white"
           },
           "yaxis": {
            "backgroundcolor": "#E5ECF6",
            "gridcolor": "white",
            "gridwidth": 2,
            "linecolor": "white",
            "showbackground": true,
            "ticks": "",
            "zerolinecolor": "white"
           },
           "zaxis": {
            "backgroundcolor": "#E5ECF6",
            "gridcolor": "white",
            "gridwidth": 2,
            "linecolor": "white",
            "showbackground": true,
            "ticks": "",
            "zerolinecolor": "white"
           }
          },
          "shapedefaults": {
           "line": {
            "color": "#2a3f5f"
           }
          },
          "ternary": {
           "aaxis": {
            "gridcolor": "white",
            "linecolor": "white",
            "ticks": ""
           },
           "baxis": {
            "gridcolor": "white",
            "linecolor": "white",
            "ticks": ""
           },
           "bgcolor": "#E5ECF6",
           "caxis": {
            "gridcolor": "white",
            "linecolor": "white",
            "ticks": ""
           }
          },
          "title": {
           "x": 0.05
          },
          "xaxis": {
           "automargin": true,
           "gridcolor": "white",
           "linecolor": "white",
           "ticks": "",
           "title": {
            "standoff": 15
           },
           "zerolinecolor": "white",
           "zerolinewidth": 2
          },
          "yaxis": {
           "automargin": true,
           "gridcolor": "white",
           "linecolor": "white",
           "ticks": "",
           "title": {
            "standoff": 15
           },
           "zerolinecolor": "white",
           "zerolinewidth": 2
          }
         }
        },
        "xaxis": {
         "anchor": "y",
         "domain": [
          0,
          1
         ],
         "title": {
          "text": "brand"
         }
        },
        "yaxis": {
         "anchor": "x",
         "domain": [
          0,
          1
         ],
         "title": {
          "text": "counts"
         }
        }
       }
      }
     },
     "metadata": {},
     "output_type": "display_data"
    }
   ],
   "source": [
    "pdf = df.groupby('brand').size().reset_index(name=\"counts\")\n",
    "px.bar(pdf.sort_values('counts', ascending=False), x='brand', y='counts')"
   ]
  },
  {
   "cell_type": "markdown",
   "id": "bfe93d59",
   "metadata": {},
   "source": [
    "The plot shows that Xiaomi in the years 2020-2025 has released the most amount of smartphones, followed by oppo and realme.\n",
    "\n",
    "This might mean that they try to target all market segments with their phone models. This will be investigated in consequent graphs."
   ]
  },
  {
   "cell_type": "markdown",
   "id": "f7a4afa7",
   "metadata": {},
   "source": [
    "The most frequent price segment for phones in recent years is budget-friendly, from 75 up to 225 euros. This might imply that there is a lot of competition in budget phonne segment, with many manufacturers offering many different phones in this price range.\n",
    "\n",
    "A long tail with low counts imply that there are a few of premium flagship phones."
   ]
  },
  {
   "cell_type": "code",
   "execution_count": 5,
   "id": "6d45dd4b",
   "metadata": {},
   "outputs": [
    {
     "data": {
      "application/vnd.plotly.v1+json": {
       "config": {
        "plotlyServerURL": "https://plot.ly"
       },
       "data": [
        {
         "bingroup": "x",
         "hovertemplate": "popularity_become_fan=%{x}<br>count=%{y}<extra></extra>",
         "legendgroup": "",
         "marker": {
          "color": "#636efa",
          "pattern": {
           "shape": ""
          }
         },
         "name": "",
         "nbinsx": 100,
         "orientation": "v",
         "showlegend": false,
         "type": "histogram",
         "x": {
          "bdata": "xgDxAdQAYACkAKUCQAGZAA8BKgO6AbsAywBlAfMD2gFVAr8BKgSZATUCaQIAA1kA3gAwADkA4ABUAVwAQgICAZ0AjAA1ACwAMQDBAvYAmwALAXoAlQDxADUChAGSAEwBSgGrANMBgACMAHcAMgB8AVABuwCBAM4AxAKZAasAcwE1AwQCeAJjBH0CRAEyAygBxwK4ALkAqgB2AIQA8ABqARQC9QKAAE8APADqAfQAcQAmAA8AhACIABUA7ADQAlwA2QCYAI0A8AA6AIAAYwCzAF4ALQIZAFkAIADjAJsASwBnACoAewBYAHkAhQKkAMMAdQFYANIAcAI0AegAzwBVABgCdwDgAtMDdQEbACIA8QCMAD8AHQARACAAGQAvA7wA/QCeAFQAgwA8ATkAEgAYAGUAHADvAMQAYwBeAGQAeQBvA5kBRwAWADAAeQbjAQACRgDzAK8A+ACmAa0AcQA7ABMBJAGAAIgA4wBHAK4AAATqAVkAEwcdAkcDoQAEARgAHQBPAH4AVgBBASMBtQAjABwAPACJADIAMQCpAHcAlALDAoMBdQCPAG8A5QDtAHIH6QGdAtcDfgB6AGAAPgBDAT4ARwCaAKwEWgFVARgAQgBTAEEAiQCyAM8AWwBgAFgA1AA6ABYAIAI8AoQCYgB8ARYBNwFIAC4HLwLcAuoAOACYASkAVgCZADYAQgBuAIUDuwG/AMkCWgApARAFcgG1ALwAhgBYASAAHgBTAGYAQwBSATUAeQDqAMYAYgB9ADcBtAALAbgA4AGaBEwBfQG3AUMAQQEoAhcBrACkAf4BgwAfA1UADQD3AZUAWAGwAuIAtAGhAg4BTQJ+AAcEawJ0AWcB3wJfBVkBiQB3ARwBEACOAEQALQBEADwALwE7ABUAAwCYACUAEQBGAHcARQGiAGoAXwEdABwADQA3AccAOQAPADkAHwBxALQAZAAuACEAZABFABQADwFuAREAEwELAHsAPQAjAkgCQQCZAMIAnALKAg8BagIHAcIAHwASACwA5wB2AGIANACLAEMA/gGZAV4BXgDxAIUASwBpACsALwClAGEAdACAATIDIQIOAGoAcQB5ARkAGADqAHsCFwK7AA4AiQGIABoBCgB6AOcASAC3AFkAhwCmARICPgC2AegACwAXAGgAHQAVABoAbwCZAAkADAAaAKYAvwBOACQBCgKdAIIAWABdAeMAMAB0AHsAGQAVACEAfQFeABkA5wBMAEUAMAA2ADUAygHGAJMATwBsAtYBJQELAJoAQQBCABoAUAGJAKQARQBXAeYAkgAAAm4AYgBCAC4AxAB2AWQAfwAxADQA1AALABMAGAAQAH8CcgFQAT8A4AANAhkBKAEtAGkAUQDdAFABqQCEABsAAAGlBHwBzwC0AXUB5AC+AKsERQXdAP8F2ABdAVoCKwFPANEA4gDhALQAQgG5AHcDWABEAXQASgC1AbYAMwCmArEBJgEaAB4ANQALAbEDHAD+AhkBRAB7ALMAwAArAJcArAHkAI4AZgBYAO8CaQBYA44BwQHFADYBCwFkATICSAG3ALMBvAADA+oBKAAlAF4B+wAlABcACwBEACgAOAAhABgAqgA+AA==",
          "dtype": "i2"
         },
         "xaxis": "x",
         "yaxis": "y"
        }
       ],
       "layout": {
        "barmode": "relative",
        "legend": {
         "tracegroupgap": 0
        },
        "margin": {
         "t": 60
        },
        "template": {
         "data": {
          "bar": [
           {
            "error_x": {
             "color": "#2a3f5f"
            },
            "error_y": {
             "color": "#2a3f5f"
            },
            "marker": {
             "line": {
              "color": "#E5ECF6",
              "width": 0.5
             },
             "pattern": {
              "fillmode": "overlay",
              "size": 10,
              "solidity": 0.2
             }
            },
            "type": "bar"
           }
          ],
          "barpolar": [
           {
            "marker": {
             "line": {
              "color": "#E5ECF6",
              "width": 0.5
             },
             "pattern": {
              "fillmode": "overlay",
              "size": 10,
              "solidity": 0.2
             }
            },
            "type": "barpolar"
           }
          ],
          "carpet": [
           {
            "aaxis": {
             "endlinecolor": "#2a3f5f",
             "gridcolor": "white",
             "linecolor": "white",
             "minorgridcolor": "white",
             "startlinecolor": "#2a3f5f"
            },
            "baxis": {
             "endlinecolor": "#2a3f5f",
             "gridcolor": "white",
             "linecolor": "white",
             "minorgridcolor": "white",
             "startlinecolor": "#2a3f5f"
            },
            "type": "carpet"
           }
          ],
          "choropleth": [
           {
            "colorbar": {
             "outlinewidth": 0,
             "ticks": ""
            },
            "type": "choropleth"
           }
          ],
          "contour": [
           {
            "colorbar": {
             "outlinewidth": 0,
             "ticks": ""
            },
            "colorscale": [
             [
              0,
              "#0d0887"
             ],
             [
              0.1111111111111111,
              "#46039f"
             ],
             [
              0.2222222222222222,
              "#7201a8"
             ],
             [
              0.3333333333333333,
              "#9c179e"
             ],
             [
              0.4444444444444444,
              "#bd3786"
             ],
             [
              0.5555555555555556,
              "#d8576b"
             ],
             [
              0.6666666666666666,
              "#ed7953"
             ],
             [
              0.7777777777777778,
              "#fb9f3a"
             ],
             [
              0.8888888888888888,
              "#fdca26"
             ],
             [
              1,
              "#f0f921"
             ]
            ],
            "type": "contour"
           }
          ],
          "contourcarpet": [
           {
            "colorbar": {
             "outlinewidth": 0,
             "ticks": ""
            },
            "type": "contourcarpet"
           }
          ],
          "heatmap": [
           {
            "colorbar": {
             "outlinewidth": 0,
             "ticks": ""
            },
            "colorscale": [
             [
              0,
              "#0d0887"
             ],
             [
              0.1111111111111111,
              "#46039f"
             ],
             [
              0.2222222222222222,
              "#7201a8"
             ],
             [
              0.3333333333333333,
              "#9c179e"
             ],
             [
              0.4444444444444444,
              "#bd3786"
             ],
             [
              0.5555555555555556,
              "#d8576b"
             ],
             [
              0.6666666666666666,
              "#ed7953"
             ],
             [
              0.7777777777777778,
              "#fb9f3a"
             ],
             [
              0.8888888888888888,
              "#fdca26"
             ],
             [
              1,
              "#f0f921"
             ]
            ],
            "type": "heatmap"
           }
          ],
          "histogram": [
           {
            "marker": {
             "pattern": {
              "fillmode": "overlay",
              "size": 10,
              "solidity": 0.2
             }
            },
            "type": "histogram"
           }
          ],
          "histogram2d": [
           {
            "colorbar": {
             "outlinewidth": 0,
             "ticks": ""
            },
            "colorscale": [
             [
              0,
              "#0d0887"
             ],
             [
              0.1111111111111111,
              "#46039f"
             ],
             [
              0.2222222222222222,
              "#7201a8"
             ],
             [
              0.3333333333333333,
              "#9c179e"
             ],
             [
              0.4444444444444444,
              "#bd3786"
             ],
             [
              0.5555555555555556,
              "#d8576b"
             ],
             [
              0.6666666666666666,
              "#ed7953"
             ],
             [
              0.7777777777777778,
              "#fb9f3a"
             ],
             [
              0.8888888888888888,
              "#fdca26"
             ],
             [
              1,
              "#f0f921"
             ]
            ],
            "type": "histogram2d"
           }
          ],
          "histogram2dcontour": [
           {
            "colorbar": {
             "outlinewidth": 0,
             "ticks": ""
            },
            "colorscale": [
             [
              0,
              "#0d0887"
             ],
             [
              0.1111111111111111,
              "#46039f"
             ],
             [
              0.2222222222222222,
              "#7201a8"
             ],
             [
              0.3333333333333333,
              "#9c179e"
             ],
             [
              0.4444444444444444,
              "#bd3786"
             ],
             [
              0.5555555555555556,
              "#d8576b"
             ],
             [
              0.6666666666666666,
              "#ed7953"
             ],
             [
              0.7777777777777778,
              "#fb9f3a"
             ],
             [
              0.8888888888888888,
              "#fdca26"
             ],
             [
              1,
              "#f0f921"
             ]
            ],
            "type": "histogram2dcontour"
           }
          ],
          "mesh3d": [
           {
            "colorbar": {
             "outlinewidth": 0,
             "ticks": ""
            },
            "type": "mesh3d"
           }
          ],
          "parcoords": [
           {
            "line": {
             "colorbar": {
              "outlinewidth": 0,
              "ticks": ""
             }
            },
            "type": "parcoords"
           }
          ],
          "pie": [
           {
            "automargin": true,
            "type": "pie"
           }
          ],
          "scatter": [
           {
            "fillpattern": {
             "fillmode": "overlay",
             "size": 10,
             "solidity": 0.2
            },
            "type": "scatter"
           }
          ],
          "scatter3d": [
           {
            "line": {
             "colorbar": {
              "outlinewidth": 0,
              "ticks": ""
             }
            },
            "marker": {
             "colorbar": {
              "outlinewidth": 0,
              "ticks": ""
             }
            },
            "type": "scatter3d"
           }
          ],
          "scattercarpet": [
           {
            "marker": {
             "colorbar": {
              "outlinewidth": 0,
              "ticks": ""
             }
            },
            "type": "scattercarpet"
           }
          ],
          "scattergeo": [
           {
            "marker": {
             "colorbar": {
              "outlinewidth": 0,
              "ticks": ""
             }
            },
            "type": "scattergeo"
           }
          ],
          "scattergl": [
           {
            "marker": {
             "colorbar": {
              "outlinewidth": 0,
              "ticks": ""
             }
            },
            "type": "scattergl"
           }
          ],
          "scattermap": [
           {
            "marker": {
             "colorbar": {
              "outlinewidth": 0,
              "ticks": ""
             }
            },
            "type": "scattermap"
           }
          ],
          "scattermapbox": [
           {
            "marker": {
             "colorbar": {
              "outlinewidth": 0,
              "ticks": ""
             }
            },
            "type": "scattermapbox"
           }
          ],
          "scatterpolar": [
           {
            "marker": {
             "colorbar": {
              "outlinewidth": 0,
              "ticks": ""
             }
            },
            "type": "scatterpolar"
           }
          ],
          "scatterpolargl": [
           {
            "marker": {
             "colorbar": {
              "outlinewidth": 0,
              "ticks": ""
             }
            },
            "type": "scatterpolargl"
           }
          ],
          "scatterternary": [
           {
            "marker": {
             "colorbar": {
              "outlinewidth": 0,
              "ticks": ""
             }
            },
            "type": "scatterternary"
           }
          ],
          "surface": [
           {
            "colorbar": {
             "outlinewidth": 0,
             "ticks": ""
            },
            "colorscale": [
             [
              0,
              "#0d0887"
             ],
             [
              0.1111111111111111,
              "#46039f"
             ],
             [
              0.2222222222222222,
              "#7201a8"
             ],
             [
              0.3333333333333333,
              "#9c179e"
             ],
             [
              0.4444444444444444,
              "#bd3786"
             ],
             [
              0.5555555555555556,
              "#d8576b"
             ],
             [
              0.6666666666666666,
              "#ed7953"
             ],
             [
              0.7777777777777778,
              "#fb9f3a"
             ],
             [
              0.8888888888888888,
              "#fdca26"
             ],
             [
              1,
              "#f0f921"
             ]
            ],
            "type": "surface"
           }
          ],
          "table": [
           {
            "cells": {
             "fill": {
              "color": "#EBF0F8"
             },
             "line": {
              "color": "white"
             }
            },
            "header": {
             "fill": {
              "color": "#C8D4E3"
             },
             "line": {
              "color": "white"
             }
            },
            "type": "table"
           }
          ]
         },
         "layout": {
          "annotationdefaults": {
           "arrowcolor": "#2a3f5f",
           "arrowhead": 0,
           "arrowwidth": 1
          },
          "autotypenumbers": "strict",
          "coloraxis": {
           "colorbar": {
            "outlinewidth": 0,
            "ticks": ""
           }
          },
          "colorscale": {
           "diverging": [
            [
             0,
             "#8e0152"
            ],
            [
             0.1,
             "#c51b7d"
            ],
            [
             0.2,
             "#de77ae"
            ],
            [
             0.3,
             "#f1b6da"
            ],
            [
             0.4,
             "#fde0ef"
            ],
            [
             0.5,
             "#f7f7f7"
            ],
            [
             0.6,
             "#e6f5d0"
            ],
            [
             0.7,
             "#b8e186"
            ],
            [
             0.8,
             "#7fbc41"
            ],
            [
             0.9,
             "#4d9221"
            ],
            [
             1,
             "#276419"
            ]
           ],
           "sequential": [
            [
             0,
             "#0d0887"
            ],
            [
             0.1111111111111111,
             "#46039f"
            ],
            [
             0.2222222222222222,
             "#7201a8"
            ],
            [
             0.3333333333333333,
             "#9c179e"
            ],
            [
             0.4444444444444444,
             "#bd3786"
            ],
            [
             0.5555555555555556,
             "#d8576b"
            ],
            [
             0.6666666666666666,
             "#ed7953"
            ],
            [
             0.7777777777777778,
             "#fb9f3a"
            ],
            [
             0.8888888888888888,
             "#fdca26"
            ],
            [
             1,
             "#f0f921"
            ]
           ],
           "sequentialminus": [
            [
             0,
             "#0d0887"
            ],
            [
             0.1111111111111111,
             "#46039f"
            ],
            [
             0.2222222222222222,
             "#7201a8"
            ],
            [
             0.3333333333333333,
             "#9c179e"
            ],
            [
             0.4444444444444444,
             "#bd3786"
            ],
            [
             0.5555555555555556,
             "#d8576b"
            ],
            [
             0.6666666666666666,
             "#ed7953"
            ],
            [
             0.7777777777777778,
             "#fb9f3a"
            ],
            [
             0.8888888888888888,
             "#fdca26"
            ],
            [
             1,
             "#f0f921"
            ]
           ]
          },
          "colorway": [
           "#636efa",
           "#EF553B",
           "#00cc96",
           "#ab63fa",
           "#FFA15A",
           "#19d3f3",
           "#FF6692",
           "#B6E880",
           "#FF97FF",
           "#FECB52"
          ],
          "font": {
           "color": "#2a3f5f"
          },
          "geo": {
           "bgcolor": "white",
           "lakecolor": "white",
           "landcolor": "#E5ECF6",
           "showlakes": true,
           "showland": true,
           "subunitcolor": "white"
          },
          "hoverlabel": {
           "align": "left"
          },
          "hovermode": "closest",
          "mapbox": {
           "style": "light"
          },
          "paper_bgcolor": "white",
          "plot_bgcolor": "#E5ECF6",
          "polar": {
           "angularaxis": {
            "gridcolor": "white",
            "linecolor": "white",
            "ticks": ""
           },
           "bgcolor": "#E5ECF6",
           "radialaxis": {
            "gridcolor": "white",
            "linecolor": "white",
            "ticks": ""
           }
          },
          "scene": {
           "xaxis": {
            "backgroundcolor": "#E5ECF6",
            "gridcolor": "white",
            "gridwidth": 2,
            "linecolor": "white",
            "showbackground": true,
            "ticks": "",
            "zerolinecolor": "white"
           },
           "yaxis": {
            "backgroundcolor": "#E5ECF6",
            "gridcolor": "white",
            "gridwidth": 2,
            "linecolor": "white",
            "showbackground": true,
            "ticks": "",
            "zerolinecolor": "white"
           },
           "zaxis": {
            "backgroundcolor": "#E5ECF6",
            "gridcolor": "white",
            "gridwidth": 2,
            "linecolor": "white",
            "showbackground": true,
            "ticks": "",
            "zerolinecolor": "white"
           }
          },
          "shapedefaults": {
           "line": {
            "color": "#2a3f5f"
           }
          },
          "ternary": {
           "aaxis": {
            "gridcolor": "white",
            "linecolor": "white",
            "ticks": ""
           },
           "baxis": {
            "gridcolor": "white",
            "linecolor": "white",
            "ticks": ""
           },
           "bgcolor": "#E5ECF6",
           "caxis": {
            "gridcolor": "white",
            "linecolor": "white",
            "ticks": ""
           }
          },
          "title": {
           "x": 0.05
          },
          "xaxis": {
           "automargin": true,
           "gridcolor": "white",
           "linecolor": "white",
           "ticks": "",
           "title": {
            "standoff": 15
           },
           "zerolinecolor": "white",
           "zerolinewidth": 2
          },
          "yaxis": {
           "automargin": true,
           "gridcolor": "white",
           "linecolor": "white",
           "ticks": "",
           "title": {
            "standoff": 15
           },
           "zerolinecolor": "white",
           "zerolinewidth": 2
          }
         }
        },
        "xaxis": {
         "anchor": "y",
         "domain": [
          0,
          1
         ],
         "title": {
          "text": "popularity_become_fan"
         }
        },
        "yaxis": {
         "anchor": "x",
         "domain": [
          0,
          1
         ],
         "title": {
          "text": "count"
         }
        }
       }
      }
     },
     "metadata": {},
     "output_type": "display_data"
    }
   ],
   "source": [
    "pdf = df[['popularity_become_fan']]\n",
    "px.histogram(pdf, x='popularity_become_fan', nbins=100)"
   ]
  },
  {
   "cell_type": "markdown",
   "id": "640f598d",
   "metadata": {},
   "source": [
    "Most phones recieve from 20-40 likes"
   ]
  },
  {
   "cell_type": "code",
   "execution_count": 6,
   "id": "c3a42fd6",
   "metadata": {},
   "outputs": [
    {
     "data": {
      "application/vnd.plotly.v1+json": {
       "config": {
        "plotlyServerURL": "https://plot.ly"
       },
       "data": [
        {
         "alignmentgroup": "True",
         "hovertemplate": "price=%{x}<br>brand=%{y}<extra></extra>",
         "legendgroup": "",
         "marker": {
          "color": "#636efa"
         },
         "name": "",
         "notched": false,
         "offsetgroup": "",
         "orientation": "h",
         "showlegend": false,
         "type": "box",
         "x": {
          "bdata": "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",
          "dtype": "f8"
         },
         "x0": " ",
         "xaxis": "x",
         "y": [
          "Samsung",
          "Samsung",
          "Xiaomi",
          "Samsung",
          "Xiaomi",
          "Samsung",
          "Xiaomi",
          "Xiaomi",
          "Xiaomi",
          "Samsung",
          "Xiaomi",
          "Xiaomi",
          "Xiaomi",
          "Samsung",
          "Samsung",
          "Xiaomi",
          "OnePlus",
          "Xiaomi",
          "Xiaomi",
          "Xiaomi",
          "Xiaomi",
          "Xiaomi",
          "Xiaomi",
          "Xiaomi",
          "Xiaomi",
          "Xiaomi",
          "Samsung",
          "Xiaomi",
          "Xiaomi",
          "Samsung",
          "Samsung",
          "Samsung",
          "Xiaomi",
          "Xiaomi",
          "Xiaomi",
          "Xiaomi",
          "Samsung",
          "Xiaomi",
          "Xiaomi",
          "Xiaomi",
          "Xiaomi",
          "Samsung",
          "Samsung",
          "Xiaomi",
          "Samsung",
          "Samsung",
          "Xiaomi",
          "Samsung",
          "Xiaomi",
          "Samsung",
          "Xiaomi",
          "Xiaomi",
          "Samsung",
          "Xiaomi",
          "Xiaomi",
          "Xiaomi",
          "Xiaomi",
          "Samsung",
          "Xiaomi",
          "Samsung",
          "Samsung",
          "Xiaomi",
          "Xiaomi",
          "Xiaomi",
          "Google",
          "Xiaomi",
          "OnePlus",
          "Samsung",
          "Xiaomi",
          "Samsung",
          "Xiaomi",
          "Xiaomi",
          "Xiaomi",
          "Samsung",
          "Samsung",
          "Samsung",
          "Xiaomi",
          "Xiaomi",
          "Xiaomi",
          "Xiaomi",
          "Samsung",
          "Xiaomi",
          "Samsung",
          "Samsung",
          "Xiaomi",
          "Xiaomi",
          "Xiaomi",
          "Xiaomi",
          "Xiaomi",
          "Xiaomi",
          "Xiaomi",
          "Samsung",
          "Xiaomi",
          "Xiaomi",
          "Samsung",
          "Samsung",
          "Xiaomi",
          "Samsung",
          "Xiaomi",
          "Xiaomi",
          "Xiaomi",
          "Xiaomi",
          "Xiaomi",
          "Samsung",
          "Samsung",
          "Xiaomi",
          "Samsung",
          "Xiaomi",
          "Samsung",
          "Samsung",
          "Xiaomi",
          "Xiaomi",
          "Xiaomi",
          "Samsung",
          "Xiaomi",
          "Xiaomi",
          "Xiaomi",
          "Xiaomi",
          "Samsung",
          "Samsung",
          "Samsung",
          "Xiaomi",
          "OnePlus",
          "Samsung",
          "Samsung",
          "Xiaomi",
          "Samsung",
          "Samsung",
          "Xiaomi",
          "Xiaomi",
          "Samsung",
          "Xiaomi",
          "Xiaomi",
          "Xiaomi",
          "Xiaomi",
          "Samsung",
          "Samsung",
          "Xiaomi",
          "Samsung",
          "Xiaomi",
          "Samsung",
          "Xiaomi",
          "Apple",
          "Xiaomi",
          "Samsung",
          "Samsung",
          "Google",
          "Samsung",
          "Xiaomi",
          "Xiaomi",
          "Xiaomi",
          "Xiaomi",
          "Xiaomi",
          "Xiaomi",
          "Xiaomi",
          "Xiaomi",
          "OnePlus",
          "Samsung",
          "Xiaomi",
          "Samsung",
          "Xiaomi",
          "OnePlus",
          "OnePlus",
          "Samsung",
          "Samsung",
          "Xiaomi",
          "Xiaomi",
          "Samsung",
          "Xiaomi",
          "Google",
          "Xiaomi",
          "Xiaomi",
          "Xiaomi",
          "Xiaomi",
          "Samsung",
          "Xiaomi",
          "Samsung",
          "Samsung",
          "Xiaomi",
          "Xiaomi",
          "Xiaomi",
          "Xiaomi",
          "Xiaomi",
          "Samsung",
          "Sony",
          "Xiaomi",
          "OnePlus",
          "Xiaomi",
          "Xiaomi",
          "Xiaomi",
          "Xiaomi",
          "Samsung",
          "Xiaomi",
          "Xiaomi",
          "Xiaomi",
          "Xiaomi",
          "Samsung",
          "Samsung",
          "Xiaomi",
          "Samsung",
          "Samsung",
          "Samsung",
          "OnePlus",
          "Samsung",
          "Google",
          "Xiaomi",
          "Xiaomi",
          "OnePlus",
          "Xiaomi",
          "Xiaomi",
          "Xiaomi",
          "Samsung",
          "Samsung",
          "Xiaomi",
          "Samsung",
          "Xiaomi",
          "Xiaomi",
          "Xiaomi",
          "Apple",
          "Samsung",
          "Xiaomi",
          "Xiaomi",
          "OnePlus",
          "OnePlus",
          "OnePlus",
          "Samsung",
          "Samsung",
          "Samsung",
          "Samsung",
          "Xiaomi",
          "Xiaomi",
          "Xiaomi",
          "Samsung",
          "OnePlus",
          "Xiaomi",
          "Samsung",
          "Google",
          "Samsung",
          "Samsung",
          "Nothing",
          "Xiaomi",
          "Xiaomi",
          "Sony",
          "Samsung",
          "Xiaomi",
          "Xiaomi",
          "Xiaomi",
          "Xiaomi",
          "Samsung",
          "Xiaomi",
          "Samsung",
          "Samsung",
          "Apple",
          "Samsung",
          "OnePlus",
          "Xiaomi",
          "Samsung",
          "Xiaomi",
          "Xiaomi",
          "Xiaomi",
          "Xiaomi",
          "Nothing",
          "Xiaomi",
          "Xiaomi",
          "Xiaomi",
          "Xiaomi",
          "Xiaomi",
          "Xiaomi",
          "Samsung",
          "Samsung",
          "Samsung",
          "Xiaomi",
          "Samsung",
          "Xiaomi",
          "OnePlus",
          "Xiaomi",
          "OnePlus",
          "Google",
          "Xiaomi",
          "Samsung",
          "Samsung",
          "OnePlus",
          "Xiaomi",
          "Xiaomi",
          "OnePlus",
          "Xiaomi",
          "Xiaomi",
          "OnePlus",
          "Xiaomi",
          "Samsung",
          "Samsung",
          "Sony",
          "Samsung",
          "Xiaomi",
          "Samsung",
          "Xiaomi",
          "Nothing",
          "Samsung",
          "Xiaomi",
          "Google",
          "Samsung",
          "Samsung",
          "Xiaomi",
          "OnePlus",
          "Samsung",
          "Xiaomi",
          "Xiaomi",
          "OnePlus",
          "Xiaomi",
          "Xiaomi",
          "Xiaomi",
          "Xiaomi",
          "Xiaomi",
          "Xiaomi",
          "Samsung",
          "Samsung",
          "Samsung",
          "Samsung",
          "Xiaomi",
          "OnePlus",
          "Xiaomi",
          "Samsung",
          "Xiaomi",
          "Xiaomi",
          "Xiaomi",
          "Xiaomi",
          "Xiaomi",
          "Apple",
          "Samsung",
          "Sony",
          "Google",
          "OnePlus",
          "Xiaomi",
          "Xiaomi",
          "Samsung",
          "Xiaomi",
          "Xiaomi",
          "Xiaomi",
          "Xiaomi",
          "Samsung",
          "Samsung",
          "Sony",
          "Samsung",
          "Samsung",
          "Xiaomi",
          "Xiaomi",
          "OnePlus",
          "Samsung",
          "Google",
          "OnePlus",
          "OnePlus",
          "Google",
          "Xiaomi",
          "Xiaomi",
          "Samsung",
          "Xiaomi",
          "Samsung",
          "Samsung",
          "Samsung",
          "Xiaomi",
          "Samsung",
          "OnePlus",
          "Xiaomi",
          "Samsung",
          "OnePlus",
          "Xiaomi",
          "Xiaomi",
          "Xiaomi",
          "Samsung",
          "Xiaomi",
          "Xiaomi",
          "Xiaomi",
          "Samsung",
          "Samsung",
          "OnePlus",
          "Samsung",
          "Apple",
          "Sony",
          "Xiaomi",
          "Xiaomi",
          "Xiaomi",
          "Samsung",
          "OnePlus",
          "Nothing",
          "Samsung",
          "Xiaomi",
          "Xiaomi",
          "Xiaomi",
          "Xiaomi",
          "Xiaomi",
          "Xiaomi",
          "Xiaomi",
          "Samsung",
          "Apple",
          "Xiaomi",
          "OnePlus",
          "Xiaomi",
          "OnePlus",
          "Apple",
          "Asus",
          "Samsung",
          "Xiaomi",
          "Xiaomi",
          "Xiaomi",
          "Xiaomi",
          "Xiaomi",
          "Xiaomi",
          "Xiaomi",
          "OnePlus",
          "Xiaomi",
          "Samsung",
          "Samsung",
          "Asus",
          "Xiaomi",
          "Nothing",
          "Sony",
          "Xiaomi",
          "Xiaomi",
          "Samsung",
          "Samsung",
          "Xiaomi",
          "Asus",
          "Samsung",
          "Xiaomi",
          "Samsung",
          "OnePlus",
          "Xiaomi",
          "Xiaomi",
          "Samsung",
          "OnePlus",
          "Samsung",
          "Xiaomi",
          "Xiaomi",
          "Xiaomi",
          "OnePlus",
          "Xiaomi",
          "Fairphone",
          "Samsung",
          "OnePlus",
          "Google",
          "Xiaomi",
          "OnePlus",
          "OnePlus",
          "Xiaomi",
          "Xiaomi",
          "Samsung",
          "Xiaomi",
          "Samsung",
          "OnePlus",
          "Xiaomi",
          "Fairphone",
          "Samsung",
          "Google",
          "OnePlus",
          "Nothing",
          "OnePlus",
          "Asus",
          "Apple",
          "OnePlus",
          "Nothing",
          "Apple",
          "Apple",
          "Xiaomi",
          "Xiaomi",
          "Samsung",
          "Xiaomi",
          "Samsung",
          "Xiaomi",
          "Xiaomi",
          "OnePlus",
          "Fairphone",
          "Xiaomi",
          "Xiaomi",
          "Samsung",
          "Xiaomi",
          "Samsung",
          "OnePlus",
          "Samsung",
          "Samsung",
          "Samsung",
          "Samsung",
          "Apple",
          "Apple",
          "Samsung",
          "Samsung",
          "Google",
          "Xiaomi",
          "Xiaomi",
          "Samsung",
          "Asus",
          "Apple",
          "Google",
          "Samsung",
          "Apple",
          "Xiaomi",
          "Sony",
          "Xiaomi",
          "Xiaomi",
          "Xiaomi",
          "Samsung",
          "OnePlus",
          "OnePlus",
          "Google",
          "Apple",
          "Asus",
          "OnePlus",
          "Sony",
          "Xiaomi",
          "Xiaomi",
          "Asus",
          "Microsoft",
          "Xiaomi",
          "Xiaomi",
          "Asus",
          "Xiaomi",
          "Apple",
          "Asus",
          "Samsung",
          "Xiaomi",
          "Asus",
          "Google",
          "Asus",
          "Apple",
          "Samsung",
          "Sony",
          "Sony",
          "Sony",
          "Sony",
          "Xiaomi",
          "Sony",
          "OnePlus",
          "Xiaomi",
          "Apple",
          "Samsung",
          "Samsung",
          "Asus",
          "Google",
          "Samsung",
          "Asus",
          "Samsung",
          "Xiaomi",
          "Samsung",
          "Asus",
          "Apple",
          "Asus",
          "Asus",
          "OnePlus",
          "Apple",
          "Samsung",
          "Sony",
          "Asus",
          "OnePlus",
          "Xiaomi",
          "Xiaomi",
          "Sony",
          "Xiaomi",
          "Apple",
          "Samsung",
          "Samsung",
          "Xiaomi",
          "OnePlus",
          "Xiaomi",
          "Samsung",
          "Asus",
          "Apple",
          "Asus",
          "Sony",
          "Samsung",
          "Asus",
          "Asus",
          "Asus",
          "OnePlus",
          "Xiaomi",
          "Asus",
          "Xiaomi",
          "Xiaomi",
          "Samsung",
          "Samsung",
          "Apple",
          "Asus",
          "Asus",
          "Xiaomi",
          "Asus",
          "Xiaomi",
          "Asus",
          "Google",
          "Xiaomi",
          "Microsoft",
          "Asus",
          "Xiaomi",
          "Samsung",
          "Asus",
          "Sony",
          "Samsung",
          "Samsung",
          "Samsung",
          "Xiaomi",
          "Xiaomi",
          "Xiaomi",
          "Xiaomi",
          "Xiaomi",
          "Xiaomi"
         ],
         "y0": " ",
         "yaxis": "y"
        }
       ],
       "layout": {
        "boxmode": "group",
        "legend": {
         "tracegroupgap": 0
        },
        "margin": {
         "t": 60
        },
        "template": {
         "data": {
          "bar": [
           {
            "error_x": {
             "color": "#2a3f5f"
            },
            "error_y": {
             "color": "#2a3f5f"
            },
            "marker": {
             "line": {
              "color": "#E5ECF6",
              "width": 0.5
             },
             "pattern": {
              "fillmode": "overlay",
              "size": 10,
              "solidity": 0.2
             }
            },
            "type": "bar"
           }
          ],
          "barpolar": [
           {
            "marker": {
             "line": {
              "color": "#E5ECF6",
              "width": 0.5
             },
             "pattern": {
              "fillmode": "overlay",
              "size": 10,
              "solidity": 0.2
             }
            },
            "type": "barpolar"
           }
          ],
          "carpet": [
           {
            "aaxis": {
             "endlinecolor": "#2a3f5f",
             "gridcolor": "white",
             "linecolor": "white",
             "minorgridcolor": "white",
             "startlinecolor": "#2a3f5f"
            },
            "baxis": {
             "endlinecolor": "#2a3f5f",
             "gridcolor": "white",
             "linecolor": "white",
             "minorgridcolor": "white",
             "startlinecolor": "#2a3f5f"
            },
            "type": "carpet"
           }
          ],
          "choropleth": [
           {
            "colorbar": {
             "outlinewidth": 0,
             "ticks": ""
            },
            "type": "choropleth"
           }
          ],
          "contour": [
           {
            "colorbar": {
             "outlinewidth": 0,
             "ticks": ""
            },
            "colorscale": [
             [
              0,
              "#0d0887"
             ],
             [
              0.1111111111111111,
              "#46039f"
             ],
             [
              0.2222222222222222,
              "#7201a8"
             ],
             [
              0.3333333333333333,
              "#9c179e"
             ],
             [
              0.4444444444444444,
              "#bd3786"
             ],
             [
              0.5555555555555556,
              "#d8576b"
             ],
             [
              0.6666666666666666,
              "#ed7953"
             ],
             [
              0.7777777777777778,
              "#fb9f3a"
             ],
             [
              0.8888888888888888,
              "#fdca26"
             ],
             [
              1,
              "#f0f921"
             ]
            ],
            "type": "contour"
           }
          ],
          "contourcarpet": [
           {
            "colorbar": {
             "outlinewidth": 0,
             "ticks": ""
            },
            "type": "contourcarpet"
           }
          ],
          "heatmap": [
           {
            "colorbar": {
             "outlinewidth": 0,
             "ticks": ""
            },
            "colorscale": [
             [
              0,
              "#0d0887"
             ],
             [
              0.1111111111111111,
              "#46039f"
             ],
             [
              0.2222222222222222,
              "#7201a8"
             ],
             [
              0.3333333333333333,
              "#9c179e"
             ],
             [
              0.4444444444444444,
              "#bd3786"
             ],
             [
              0.5555555555555556,
              "#d8576b"
             ],
             [
              0.6666666666666666,
              "#ed7953"
             ],
             [
              0.7777777777777778,
              "#fb9f3a"
             ],
             [
              0.8888888888888888,
              "#fdca26"
             ],
             [
              1,
              "#f0f921"
             ]
            ],
            "type": "heatmap"
           }
          ],
          "histogram": [
           {
            "marker": {
             "pattern": {
              "fillmode": "overlay",
              "size": 10,
              "solidity": 0.2
             }
            },
            "type": "histogram"
           }
          ],
          "histogram2d": [
           {
            "colorbar": {
             "outlinewidth": 0,
             "ticks": ""
            },
            "colorscale": [
             [
              0,
              "#0d0887"
             ],
             [
              0.1111111111111111,
              "#46039f"
             ],
             [
              0.2222222222222222,
              "#7201a8"
             ],
             [
              0.3333333333333333,
              "#9c179e"
             ],
             [
              0.4444444444444444,
              "#bd3786"
             ],
             [
              0.5555555555555556,
              "#d8576b"
             ],
             [
              0.6666666666666666,
              "#ed7953"
             ],
             [
              0.7777777777777778,
              "#fb9f3a"
             ],
             [
              0.8888888888888888,
              "#fdca26"
             ],
             [
              1,
              "#f0f921"
             ]
            ],
            "type": "histogram2d"
           }
          ],
          "histogram2dcontour": [
           {
            "colorbar": {
             "outlinewidth": 0,
             "ticks": ""
            },
            "colorscale": [
             [
              0,
              "#0d0887"
             ],
             [
              0.1111111111111111,
              "#46039f"
             ],
             [
              0.2222222222222222,
              "#7201a8"
             ],
             [
              0.3333333333333333,
              "#9c179e"
             ],
             [
              0.4444444444444444,
              "#bd3786"
             ],
             [
              0.5555555555555556,
              "#d8576b"
             ],
             [
              0.6666666666666666,
              "#ed7953"
             ],
             [
              0.7777777777777778,
              "#fb9f3a"
             ],
             [
              0.8888888888888888,
              "#fdca26"
             ],
             [
              1,
              "#f0f921"
             ]
            ],
            "type": "histogram2dcontour"
           }
          ],
          "mesh3d": [
           {
            "colorbar": {
             "outlinewidth": 0,
             "ticks": ""
            },
            "type": "mesh3d"
           }
          ],
          "parcoords": [
           {
            "line": {
             "colorbar": {
              "outlinewidth": 0,
              "ticks": ""
             }
            },
            "type": "parcoords"
           }
          ],
          "pie": [
           {
            "automargin": true,
            "type": "pie"
           }
          ],
          "scatter": [
           {
            "fillpattern": {
             "fillmode": "overlay",
             "size": 10,
             "solidity": 0.2
            },
            "type": "scatter"
           }
          ],
          "scatter3d": [
           {
            "line": {
             "colorbar": {
              "outlinewidth": 0,
              "ticks": ""
             }
            },
            "marker": {
             "colorbar": {
              "outlinewidth": 0,
              "ticks": ""
             }
            },
            "type": "scatter3d"
           }
          ],
          "scattercarpet": [
           {
            "marker": {
             "colorbar": {
              "outlinewidth": 0,
              "ticks": ""
             }
            },
            "type": "scattercarpet"
           }
          ],
          "scattergeo": [
           {
            "marker": {
             "colorbar": {
              "outlinewidth": 0,
              "ticks": ""
             }
            },
            "type": "scattergeo"
           }
          ],
          "scattergl": [
           {
            "marker": {
             "colorbar": {
              "outlinewidth": 0,
              "ticks": ""
             }
            },
            "type": "scattergl"
           }
          ],
          "scattermap": [
           {
            "marker": {
             "colorbar": {
              "outlinewidth": 0,
              "ticks": ""
             }
            },
            "type": "scattermap"
           }
          ],
          "scattermapbox": [
           {
            "marker": {
             "colorbar": {
              "outlinewidth": 0,
              "ticks": ""
             }
            },
            "type": "scattermapbox"
           }
          ],
          "scatterpolar": [
           {
            "marker": {
             "colorbar": {
              "outlinewidth": 0,
              "ticks": ""
             }
            },
            "type": "scatterpolar"
           }
          ],
          "scatterpolargl": [
           {
            "marker": {
             "colorbar": {
              "outlinewidth": 0,
              "ticks": ""
             }
            },
            "type": "scatterpolargl"
           }
          ],
          "scatterternary": [
           {
            "marker": {
             "colorbar": {
              "outlinewidth": 0,
              "ticks": ""
             }
            },
            "type": "scatterternary"
           }
          ],
          "surface": [
           {
            "colorbar": {
             "outlinewidth": 0,
             "ticks": ""
            },
            "colorscale": [
             [
              0,
              "#0d0887"
             ],
             [
              0.1111111111111111,
              "#46039f"
             ],
             [
              0.2222222222222222,
              "#7201a8"
             ],
             [
              0.3333333333333333,
              "#9c179e"
             ],
             [
              0.4444444444444444,
              "#bd3786"
             ],
             [
              0.5555555555555556,
              "#d8576b"
             ],
             [
              0.6666666666666666,
              "#ed7953"
             ],
             [
              0.7777777777777778,
              "#fb9f3a"
             ],
             [
              0.8888888888888888,
              "#fdca26"
             ],
             [
              1,
              "#f0f921"
             ]
            ],
            "type": "surface"
           }
          ],
          "table": [
           {
            "cells": {
             "fill": {
              "color": "#EBF0F8"
             },
             "line": {
              "color": "white"
             }
            },
            "header": {
             "fill": {
              "color": "#C8D4E3"
             },
             "line": {
              "color": "white"
             }
            },
            "type": "table"
           }
          ]
         },
         "layout": {
          "annotationdefaults": {
           "arrowcolor": "#2a3f5f",
           "arrowhead": 0,
           "arrowwidth": 1
          },
          "autotypenumbers": "strict",
          "coloraxis": {
           "colorbar": {
            "outlinewidth": 0,
            "ticks": ""
           }
          },
          "colorscale": {
           "diverging": [
            [
             0,
             "#8e0152"
            ],
            [
             0.1,
             "#c51b7d"
            ],
            [
             0.2,
             "#de77ae"
            ],
            [
             0.3,
             "#f1b6da"
            ],
            [
             0.4,
             "#fde0ef"
            ],
            [
             0.5,
             "#f7f7f7"
            ],
            [
             0.6,
             "#e6f5d0"
            ],
            [
             0.7,
             "#b8e186"
            ],
            [
             0.8,
             "#7fbc41"
            ],
            [
             0.9,
             "#4d9221"
            ],
            [
             1,
             "#276419"
            ]
           ],
           "sequential": [
            [
             0,
             "#0d0887"
            ],
            [
             0.1111111111111111,
             "#46039f"
            ],
            [
             0.2222222222222222,
             "#7201a8"
            ],
            [
             0.3333333333333333,
             "#9c179e"
            ],
            [
             0.4444444444444444,
             "#bd3786"
            ],
            [
             0.5555555555555556,
             "#d8576b"
            ],
            [
             0.6666666666666666,
             "#ed7953"
            ],
            [
             0.7777777777777778,
             "#fb9f3a"
            ],
            [
             0.8888888888888888,
             "#fdca26"
            ],
            [
             1,
             "#f0f921"
            ]
           ],
           "sequentialminus": [
            [
             0,
             "#0d0887"
            ],
            [
             0.1111111111111111,
             "#46039f"
            ],
            [
             0.2222222222222222,
             "#7201a8"
            ],
            [
             0.3333333333333333,
             "#9c179e"
            ],
            [
             0.4444444444444444,
             "#bd3786"
            ],
            [
             0.5555555555555556,
             "#d8576b"
            ],
            [
             0.6666666666666666,
             "#ed7953"
            ],
            [
             0.7777777777777778,
             "#fb9f3a"
            ],
            [
             0.8888888888888888,
             "#fdca26"
            ],
            [
             1,
             "#f0f921"
            ]
           ]
          },
          "colorway": [
           "#636efa",
           "#EF553B",
           "#00cc96",
           "#ab63fa",
           "#FFA15A",
           "#19d3f3",
           "#FF6692",
           "#B6E880",
           "#FF97FF",
           "#FECB52"
          ],
          "font": {
           "color": "#2a3f5f"
          },
          "geo": {
           "bgcolor": "white",
           "lakecolor": "white",
           "landcolor": "#E5ECF6",
           "showlakes": true,
           "showland": true,
           "subunitcolor": "white"
          },
          "hoverlabel": {
           "align": "left"
          },
          "hovermode": "closest",
          "mapbox": {
           "style": "light"
          },
          "paper_bgcolor": "white",
          "plot_bgcolor": "#E5ECF6",
          "polar": {
           "angularaxis": {
            "gridcolor": "white",
            "linecolor": "white",
            "ticks": ""
           },
           "bgcolor": "#E5ECF6",
           "radialaxis": {
            "gridcolor": "white",
            "linecolor": "white",
            "ticks": ""
           }
          },
          "scene": {
           "xaxis": {
            "backgroundcolor": "#E5ECF6",
            "gridcolor": "white",
            "gridwidth": 2,
            "linecolor": "white",
            "showbackground": true,
            "ticks": "",
            "zerolinecolor": "white"
           },
           "yaxis": {
            "backgroundcolor": "#E5ECF6",
            "gridcolor": "white",
            "gridwidth": 2,
            "linecolor": "white",
            "showbackground": true,
            "ticks": "",
            "zerolinecolor": "white"
           },
           "zaxis": {
            "backgroundcolor": "#E5ECF6",
            "gridcolor": "white",
            "gridwidth": 2,
            "linecolor": "white",
            "showbackground": true,
            "ticks": "",
            "zerolinecolor": "white"
           }
          },
          "shapedefaults": {
           "line": {
            "color": "#2a3f5f"
           }
          },
          "ternary": {
           "aaxis": {
            "gridcolor": "white",
            "linecolor": "white",
            "ticks": ""
           },
           "baxis": {
            "gridcolor": "white",
            "linecolor": "white",
            "ticks": ""
           },
           "bgcolor": "#E5ECF6",
           "caxis": {
            "gridcolor": "white",
            "linecolor": "white",
            "ticks": ""
           }
          },
          "title": {
           "x": 0.05
          },
          "xaxis": {
           "automargin": true,
           "gridcolor": "white",
           "linecolor": "white",
           "ticks": "",
           "title": {
            "standoff": 15
           },
           "zerolinecolor": "white",
           "zerolinewidth": 2
          },
          "yaxis": {
           "automargin": true,
           "gridcolor": "white",
           "linecolor": "white",
           "ticks": "",
           "title": {
            "standoff": 15
           },
           "zerolinecolor": "white",
           "zerolinewidth": 2
          }
         }
        },
        "xaxis": {
         "anchor": "y",
         "domain": [
          0,
          1
         ],
         "title": {
          "text": "price"
         }
        },
        "yaxis": {
         "anchor": "x",
         "domain": [
          0,
          1
         ],
         "title": {
          "text": "brand"
         }
        }
       }
      }
     },
     "metadata": {},
     "output_type": "display_data"
    }
   ],
   "source": [
    "pdf = df[['price', 'brand']]\n",
    "px.box(pdf.sort_values('price'), x='price', y='brand')"
   ]
  },
  {
   "cell_type": "markdown",
   "id": "7dfd9623",
   "metadata": {},
   "source": [
    "The box plot shows the distribution of price between top 10 brands."
   ]
  },
  {
   "cell_type": "code",
   "execution_count": 7,
   "id": "3b3bb3fe",
   "metadata": {},
   "outputs": [
    {
     "name": "stderr",
     "output_type": "stream",
     "text": [
      "/tmp/ipykernel_245564/1795029738.py:9: FutureWarning:\n",
      "\n",
      "The default of observed=False is deprecated and will be changed to True in a future version of pandas. Pass observed=False to retain current behavior or observed=True to adopt the future default and silence this warning.\n",
      "\n"
     ]
    },
    {
     "data": {
      "application/vnd.plotly.v1+json": {
       "config": {
        "plotlyServerURL": "https://plot.ly"
       },
       "data": [
        {
         "hovertemplate": "brand=Asus<br>price_bins=%{x}<br>counts=%{y}<extra></extra>",
         "legendgroup": "Asus",
         "marker": {
          "color": "#636efa",
          "pattern": {
           "shape": ""
          }
         },
         "name": "Asus",
         "orientation": "v",
         "showlegend": true,
         "textposition": "auto",
         "type": "bar",
         "x": [
          "0-225",
          "225-780",
          "780-1500",
          "1500-2000.0"
         ],
         "xaxis": "x",
         "y": {
          "bdata": "AAwQAQ==",
          "dtype": "i1"
         },
         "yaxis": "y"
        },
        {
         "hovertemplate": "brand=Fairphone<br>price_bins=%{x}<br>counts=%{y}<extra></extra>",
         "legendgroup": "Fairphone",
         "marker": {
          "color": "#EF553B",
          "pattern": {
           "shape": ""
          }
         },
         "name": "Fairphone",
         "orientation": "v",
         "showlegend": true,
         "textposition": "auto",
         "type": "bar",
         "x": [
          "0-225",
          "225-780",
          "780-1500",
          "1500-2000.0"
         ],
         "xaxis": "x",
         "y": {
          "bdata": "AAMAAA==",
          "dtype": "i1"
         },
         "yaxis": "y"
        },
        {
         "hovertemplate": "brand=Microsoft<br>price_bins=%{x}<br>counts=%{y}<extra></extra>",
         "legendgroup": "Microsoft",
         "marker": {
          "color": "#00cc96",
          "pattern": {
           "shape": ""
          }
         },
         "name": "Microsoft",
         "orientation": "v",
         "showlegend": true,
         "textposition": "auto",
         "type": "bar",
         "x": [
          "0-225",
          "225-780",
          "780-1500",
          "1500-2000.0"
         ],
         "xaxis": "x",
         "y": {
          "bdata": "AAEBAA==",
          "dtype": "i1"
         },
         "yaxis": "y"
        },
        {
         "hovertemplate": "brand=Nothing<br>price_bins=%{x}<br>counts=%{y}<extra></extra>",
         "legendgroup": "Nothing",
         "marker": {
          "color": "#ab63fa",
          "pattern": {
           "shape": ""
          }
         },
         "name": "Nothing",
         "orientation": "v",
         "showlegend": true,
         "textposition": "auto",
         "type": "bar",
         "x": [
          "0-225",
          "225-780",
          "780-1500",
          "1500-2000.0"
         ],
         "xaxis": "x",
         "y": {
          "bdata": "AgUAAA==",
          "dtype": "i1"
         },
         "yaxis": "y"
        },
        {
         "hovertemplate": "brand=Sony<br>price_bins=%{x}<br>counts=%{y}<extra></extra>",
         "legendgroup": "Sony",
         "marker": {
          "color": "#FFA15A",
          "pattern": {
           "shape": ""
          }
         },
         "name": "Sony",
         "orientation": "v",
         "showlegend": true,
         "textposition": "auto",
         "type": "bar",
         "x": [
          "0-225",
          "225-780",
          "780-1500",
          "1500-2000.0"
         ],
         "xaxis": "x",
         "y": {
          "bdata": "AgwDAQ==",
          "dtype": "i1"
         },
         "yaxis": "y"
        },
        {
         "hovertemplate": "brand=Apple<br>price_bins=%{x}<br>counts=%{y}<extra></extra>",
         "legendgroup": "Apple",
         "marker": {
          "color": "#19d3f3",
          "pattern": {
           "shape": ""
          }
         },
         "name": "Apple",
         "orientation": "v",
         "showlegend": true,
         "textposition": "auto",
         "type": "bar",
         "x": [
          "0-225",
          "225-780",
          "780-1500",
          "1500-2000.0"
         ],
         "xaxis": "x",
         "y": {
          "bdata": "Aw8FAA==",
          "dtype": "i1"
         },
         "yaxis": "y"
        },
        {
         "hovertemplate": "brand=Google<br>price_bins=%{x}<br>counts=%{y}<extra></extra>",
         "legendgroup": "Google",
         "marker": {
          "color": "#FF6692",
          "pattern": {
           "shape": ""
          }
         },
         "name": "Google",
         "orientation": "v",
         "showlegend": true,
         "textposition": "auto",
         "type": "bar",
         "x": [
          "0-225",
          "225-780",
          "780-1500",
          "1500-2000.0"
         ],
         "xaxis": "x",
         "y": {
          "bdata": "BgoCAA==",
          "dtype": "i1"
         },
         "yaxis": "y"
        },
        {
         "hovertemplate": "brand=OnePlus<br>price_bins=%{x}<br>counts=%{y}<extra></extra>",
         "legendgroup": "OnePlus",
         "marker": {
          "color": "#B6E880",
          "pattern": {
           "shape": ""
          }
         },
         "name": "OnePlus",
         "orientation": "v",
         "showlegend": true,
         "textposition": "auto",
         "type": "bar",
         "x": [
          "0-225",
          "225-780",
          "780-1500",
          "1500-2000.0"
         ],
         "xaxis": "x",
         "y": {
          "bdata": "ECEEAA==",
          "dtype": "i1"
         },
         "yaxis": "y"
        },
        {
         "hovertemplate": "brand=Samsung<br>price_bins=%{x}<br>counts=%{y}<extra></extra>",
         "legendgroup": "Samsung",
         "marker": {
          "color": "#FF97FF",
          "pattern": {
           "shape": ""
          }
         },
         "name": "Samsung",
         "orientation": "v",
         "showlegend": true,
         "textposition": "auto",
         "type": "bar",
         "x": [
          "0-225",
          "225-780",
          "780-1500",
          "1500-2000.0"
         ],
         "xaxis": "x",
         "y": {
          "bdata": "XUEKAQ==",
          "dtype": "i1"
         },
         "yaxis": "y"
        },
        {
         "hovertemplate": "brand=Xiaomi<br>price_bins=%{x}<br>counts=%{y}<extra></extra>",
         "legendgroup": "Xiaomi",
         "marker": {
          "color": "#FECB52",
          "pattern": {
           "shape": ""
          }
         },
         "name": "Xiaomi",
         "orientation": "v",
         "showlegend": true,
         "textposition": "auto",
         "type": "bar",
         "x": [
          "0-225",
          "225-780",
          "780-1500",
          "1500-2000.0"
         ],
         "xaxis": "x",
         "y": {
          "bdata": "nQBlAA0AAAA=",
          "dtype": "i2"
         },
         "yaxis": "y"
        }
       ],
       "layout": {
        "barmode": "relative",
        "legend": {
         "title": {
          "text": "brand"
         },
         "tracegroupgap": 0
        },
        "margin": {
         "t": 60
        },
        "template": {
         "data": {
          "bar": [
           {
            "error_x": {
             "color": "#2a3f5f"
            },
            "error_y": {
             "color": "#2a3f5f"
            },
            "marker": {
             "line": {
              "color": "#E5ECF6",
              "width": 0.5
             },
             "pattern": {
              "fillmode": "overlay",
              "size": 10,
              "solidity": 0.2
             }
            },
            "type": "bar"
           }
          ],
          "barpolar": [
           {
            "marker": {
             "line": {
              "color": "#E5ECF6",
              "width": 0.5
             },
             "pattern": {
              "fillmode": "overlay",
              "size": 10,
              "solidity": 0.2
             }
            },
            "type": "barpolar"
           }
          ],
          "carpet": [
           {
            "aaxis": {
             "endlinecolor": "#2a3f5f",
             "gridcolor": "white",
             "linecolor": "white",
             "minorgridcolor": "white",
             "startlinecolor": "#2a3f5f"
            },
            "baxis": {
             "endlinecolor": "#2a3f5f",
             "gridcolor": "white",
             "linecolor": "white",
             "minorgridcolor": "white",
             "startlinecolor": "#2a3f5f"
            },
            "type": "carpet"
           }
          ],
          "choropleth": [
           {
            "colorbar": {
             "outlinewidth": 0,
             "ticks": ""
            },
            "type": "choropleth"
           }
          ],
          "contour": [
           {
            "colorbar": {
             "outlinewidth": 0,
             "ticks": ""
            },
            "colorscale": [
             [
              0,
              "#0d0887"
             ],
             [
              0.1111111111111111,
              "#46039f"
             ],
             [
              0.2222222222222222,
              "#7201a8"
             ],
             [
              0.3333333333333333,
              "#9c179e"
             ],
             [
              0.4444444444444444,
              "#bd3786"
             ],
             [
              0.5555555555555556,
              "#d8576b"
             ],
             [
              0.6666666666666666,
              "#ed7953"
             ],
             [
              0.7777777777777778,
              "#fb9f3a"
             ],
             [
              0.8888888888888888,
              "#fdca26"
             ],
             [
              1,
              "#f0f921"
             ]
            ],
            "type": "contour"
           }
          ],
          "contourcarpet": [
           {
            "colorbar": {
             "outlinewidth": 0,
             "ticks": ""
            },
            "type": "contourcarpet"
           }
          ],
          "heatmap": [
           {
            "colorbar": {
             "outlinewidth": 0,
             "ticks": ""
            },
            "colorscale": [
             [
              0,
              "#0d0887"
             ],
             [
              0.1111111111111111,
              "#46039f"
             ],
             [
              0.2222222222222222,
              "#7201a8"
             ],
             [
              0.3333333333333333,
              "#9c179e"
             ],
             [
              0.4444444444444444,
              "#bd3786"
             ],
             [
              0.5555555555555556,
              "#d8576b"
             ],
             [
              0.6666666666666666,
              "#ed7953"
             ],
             [
              0.7777777777777778,
              "#fb9f3a"
             ],
             [
              0.8888888888888888,
              "#fdca26"
             ],
             [
              1,
              "#f0f921"
             ]
            ],
            "type": "heatmap"
           }
          ],
          "histogram": [
           {
            "marker": {
             "pattern": {
              "fillmode": "overlay",
              "size": 10,
              "solidity": 0.2
             }
            },
            "type": "histogram"
           }
          ],
          "histogram2d": [
           {
            "colorbar": {
             "outlinewidth": 0,
             "ticks": ""
            },
            "colorscale": [
             [
              0,
              "#0d0887"
             ],
             [
              0.1111111111111111,
              "#46039f"
             ],
             [
              0.2222222222222222,
              "#7201a8"
             ],
             [
              0.3333333333333333,
              "#9c179e"
             ],
             [
              0.4444444444444444,
              "#bd3786"
             ],
             [
              0.5555555555555556,
              "#d8576b"
             ],
             [
              0.6666666666666666,
              "#ed7953"
             ],
             [
              0.7777777777777778,
              "#fb9f3a"
             ],
             [
              0.8888888888888888,
              "#fdca26"
             ],
             [
              1,
              "#f0f921"
             ]
            ],
            "type": "histogram2d"
           }
          ],
          "histogram2dcontour": [
           {
            "colorbar": {
             "outlinewidth": 0,
             "ticks": ""
            },
            "colorscale": [
             [
              0,
              "#0d0887"
             ],
             [
              0.1111111111111111,
              "#46039f"
             ],
             [
              0.2222222222222222,
              "#7201a8"
             ],
             [
              0.3333333333333333,
              "#9c179e"
             ],
             [
              0.4444444444444444,
              "#bd3786"
             ],
             [
              0.5555555555555556,
              "#d8576b"
             ],
             [
              0.6666666666666666,
              "#ed7953"
             ],
             [
              0.7777777777777778,
              "#fb9f3a"
             ],
             [
              0.8888888888888888,
              "#fdca26"
             ],
             [
              1,
              "#f0f921"
             ]
            ],
            "type": "histogram2dcontour"
           }
          ],
          "mesh3d": [
           {
            "colorbar": {
             "outlinewidth": 0,
             "ticks": ""
            },
            "type": "mesh3d"
           }
          ],
          "parcoords": [
           {
            "line": {
             "colorbar": {
              "outlinewidth": 0,
              "ticks": ""
             }
            },
            "type": "parcoords"
           }
          ],
          "pie": [
           {
            "automargin": true,
            "type": "pie"
           }
          ],
          "scatter": [
           {
            "fillpattern": {
             "fillmode": "overlay",
             "size": 10,
             "solidity": 0.2
            },
            "type": "scatter"
           }
          ],
          "scatter3d": [
           {
            "line": {
             "colorbar": {
              "outlinewidth": 0,
              "ticks": ""
             }
            },
            "marker": {
             "colorbar": {
              "outlinewidth": 0,
              "ticks": ""
             }
            },
            "type": "scatter3d"
           }
          ],
          "scattercarpet": [
           {
            "marker": {
             "colorbar": {
              "outlinewidth": 0,
              "ticks": ""
             }
            },
            "type": "scattercarpet"
           }
          ],
          "scattergeo": [
           {
            "marker": {
             "colorbar": {
              "outlinewidth": 0,
              "ticks": ""
             }
            },
            "type": "scattergeo"
           }
          ],
          "scattergl": [
           {
            "marker": {
             "colorbar": {
              "outlinewidth": 0,
              "ticks": ""
             }
            },
            "type": "scattergl"
           }
          ],
          "scattermap": [
           {
            "marker": {
             "colorbar": {
              "outlinewidth": 0,
              "ticks": ""
             }
            },
            "type": "scattermap"
           }
          ],
          "scattermapbox": [
           {
            "marker": {
             "colorbar": {
              "outlinewidth": 0,
              "ticks": ""
             }
            },
            "type": "scattermapbox"
           }
          ],
          "scatterpolar": [
           {
            "marker": {
             "colorbar": {
              "outlinewidth": 0,
              "ticks": ""
             }
            },
            "type": "scatterpolar"
           }
          ],
          "scatterpolargl": [
           {
            "marker": {
             "colorbar": {
              "outlinewidth": 0,
              "ticks": ""
             }
            },
            "type": "scatterpolargl"
           }
          ],
          "scatterternary": [
           {
            "marker": {
             "colorbar": {
              "outlinewidth": 0,
              "ticks": ""
             }
            },
            "type": "scatterternary"
           }
          ],
          "surface": [
           {
            "colorbar": {
             "outlinewidth": 0,
             "ticks": ""
            },
            "colorscale": [
             [
              0,
              "#0d0887"
             ],
             [
              0.1111111111111111,
              "#46039f"
             ],
             [
              0.2222222222222222,
              "#7201a8"
             ],
             [
              0.3333333333333333,
              "#9c179e"
             ],
             [
              0.4444444444444444,
              "#bd3786"
             ],
             [
              0.5555555555555556,
              "#d8576b"
             ],
             [
              0.6666666666666666,
              "#ed7953"
             ],
             [
              0.7777777777777778,
              "#fb9f3a"
             ],
             [
              0.8888888888888888,
              "#fdca26"
             ],
             [
              1,
              "#f0f921"
             ]
            ],
            "type": "surface"
           }
          ],
          "table": [
           {
            "cells": {
             "fill": {
              "color": "#EBF0F8"
             },
             "line": {
              "color": "white"
             }
            },
            "header": {
             "fill": {
              "color": "#C8D4E3"
             },
             "line": {
              "color": "white"
             }
            },
            "type": "table"
           }
          ]
         },
         "layout": {
          "annotationdefaults": {
           "arrowcolor": "#2a3f5f",
           "arrowhead": 0,
           "arrowwidth": 1
          },
          "autotypenumbers": "strict",
          "coloraxis": {
           "colorbar": {
            "outlinewidth": 0,
            "ticks": ""
           }
          },
          "colorscale": {
           "diverging": [
            [
             0,
             "#8e0152"
            ],
            [
             0.1,
             "#c51b7d"
            ],
            [
             0.2,
             "#de77ae"
            ],
            [
             0.3,
             "#f1b6da"
            ],
            [
             0.4,
             "#fde0ef"
            ],
            [
             0.5,
             "#f7f7f7"
            ],
            [
             0.6,
             "#e6f5d0"
            ],
            [
             0.7,
             "#b8e186"
            ],
            [
             0.8,
             "#7fbc41"
            ],
            [
             0.9,
             "#4d9221"
            ],
            [
             1,
             "#276419"
            ]
           ],
           "sequential": [
            [
             0,
             "#0d0887"
            ],
            [
             0.1111111111111111,
             "#46039f"
            ],
            [
             0.2222222222222222,
             "#7201a8"
            ],
            [
             0.3333333333333333,
             "#9c179e"
            ],
            [
             0.4444444444444444,
             "#bd3786"
            ],
            [
             0.5555555555555556,
             "#d8576b"
            ],
            [
             0.6666666666666666,
             "#ed7953"
            ],
            [
             0.7777777777777778,
             "#fb9f3a"
            ],
            [
             0.8888888888888888,
             "#fdca26"
            ],
            [
             1,
             "#f0f921"
            ]
           ],
           "sequentialminus": [
            [
             0,
             "#0d0887"
            ],
            [
             0.1111111111111111,
             "#46039f"
            ],
            [
             0.2222222222222222,
             "#7201a8"
            ],
            [
             0.3333333333333333,
             "#9c179e"
            ],
            [
             0.4444444444444444,
             "#bd3786"
            ],
            [
             0.5555555555555556,
             "#d8576b"
            ],
            [
             0.6666666666666666,
             "#ed7953"
            ],
            [
             0.7777777777777778,
             "#fb9f3a"
            ],
            [
             0.8888888888888888,
             "#fdca26"
            ],
            [
             1,
             "#f0f921"
            ]
           ]
          },
          "colorway": [
           "#636efa",
           "#EF553B",
           "#00cc96",
           "#ab63fa",
           "#FFA15A",
           "#19d3f3",
           "#FF6692",
           "#B6E880",
           "#FF97FF",
           "#FECB52"
          ],
          "font": {
           "color": "#2a3f5f"
          },
          "geo": {
           "bgcolor": "white",
           "lakecolor": "white",
           "landcolor": "#E5ECF6",
           "showlakes": true,
           "showland": true,
           "subunitcolor": "white"
          },
          "hoverlabel": {
           "align": "left"
          },
          "hovermode": "closest",
          "mapbox": {
           "style": "light"
          },
          "paper_bgcolor": "white",
          "plot_bgcolor": "#E5ECF6",
          "polar": {
           "angularaxis": {
            "gridcolor": "white",
            "linecolor": "white",
            "ticks": ""
           },
           "bgcolor": "#E5ECF6",
           "radialaxis": {
            "gridcolor": "white",
            "linecolor": "white",
            "ticks": ""
           }
          },
          "scene": {
           "xaxis": {
            "backgroundcolor": "#E5ECF6",
            "gridcolor": "white",
            "gridwidth": 2,
            "linecolor": "white",
            "showbackground": true,
            "ticks": "",
            "zerolinecolor": "white"
           },
           "yaxis": {
            "backgroundcolor": "#E5ECF6",
            "gridcolor": "white",
            "gridwidth": 2,
            "linecolor": "white",
            "showbackground": true,
            "ticks": "",
            "zerolinecolor": "white"
           },
           "zaxis": {
            "backgroundcolor": "#E5ECF6",
            "gridcolor": "white",
            "gridwidth": 2,
            "linecolor": "white",
            "showbackground": true,
            "ticks": "",
            "zerolinecolor": "white"
           }
          },
          "shapedefaults": {
           "line": {
            "color": "#2a3f5f"
           }
          },
          "ternary": {
           "aaxis": {
            "gridcolor": "white",
            "linecolor": "white",
            "ticks": ""
           },
           "baxis": {
            "gridcolor": "white",
            "linecolor": "white",
            "ticks": ""
           },
           "bgcolor": "#E5ECF6",
           "caxis": {
            "gridcolor": "white",
            "linecolor": "white",
            "ticks": ""
           }
          },
          "title": {
           "x": 0.05
          },
          "xaxis": {
           "automargin": true,
           "gridcolor": "white",
           "linecolor": "white",
           "ticks": "",
           "title": {
            "standoff": 15
           },
           "zerolinecolor": "white",
           "zerolinewidth": 2
          },
          "yaxis": {
           "automargin": true,
           "gridcolor": "white",
           "linecolor": "white",
           "ticks": "",
           "title": {
            "standoff": 15
           },
           "zerolinecolor": "white",
           "zerolinewidth": 2
          }
         }
        },
        "xaxis": {
         "anchor": "y",
         "domain": [
          0,
          1
         ],
         "title": {
          "text": "price_bins"
         }
        },
        "yaxis": {
         "anchor": "x",
         "domain": [
          0,
          1
         ],
         "title": {
          "text": "counts"
         }
        }
       }
      }
     },
     "metadata": {},
     "output_type": "display_data"
    }
   ],
   "source": [
    "pdf = df\n",
    "# sns.histplot(pdf, x='price', hue='brand', bins=[0,200,780,1500,5000])\n",
    "bins = [0, 225, 780, 1500, pdf['price'].max()]  # Define the edges of the bins\n",
    "labels = ['0-225', '225-780', '780-1500', f'1500-{pdf['price'].max()}']  # Define the labels for the bins\n",
    "\n",
    "# Create a new column with the binned data\n",
    "pdf['price_bins'] = pd.cut(pdf['price'], bins=bins, labels=labels, right=True)\n",
    "\n",
    "pdf = pdf.groupby(['brand', 'price_bins']).size().reset_index(name=\"counts\")\n",
    "px.bar(pdf.sort_values(['price_bins','counts']), x='price_bins', y='counts', color='brand')"
   ]
  },
  {
   "cell_type": "markdown",
   "id": "d45aa357",
   "metadata": {},
   "source": [
    "If we look closer at the distribution of the prices by brands we can see that the most amount of phones in cheap phones are again created by Xiaomi depicted in yellow color on the plot, and samsung, shown in pink color."
   ]
  },
  {
   "cell_type": "code",
   "execution_count": 8,
   "id": "40688272",
   "metadata": {},
   "outputs": [
    {
     "data": {
      "application/vnd.plotly.v1+json": {
       "config": {
        "plotlyServerURL": "https://plot.ly"
       },
       "data": [
        {
         "coloraxis": "coloraxis",
         "histfunc": "avg",
         "hovertemplate": "release_year=%{x}<br>brand=%{y}<br>avg of popularity_become_fan=%{z}<extra></extra>",
         "name": "",
         "type": "histogram2d",
         "x": {
          "bdata": "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",
          "dtype": "f8"
         },
         "xaxis": "x",
         "xbingroup": "x",
         "y": [
          "Apple",
          "Apple",
          "Apple",
          "Apple",
          "Apple",
          "Apple",
          "Apple",
          "Apple",
          "Apple",
          "Apple",
          "Apple",
          "Apple",
          "Apple",
          "Apple",
          "Apple",
          "Apple",
          "Apple",
          "Apple",
          "Apple",
          "Apple",
          "Apple",
          "Apple",
          "Apple",
          "Asus",
          "Asus",
          "Asus",
          "Asus",
          "Asus",
          "Asus",
          "Asus",
          "Asus",
          "Asus",
          "Asus",
          "Asus",
          "Asus",
          "Asus",
          "Asus",
          "Asus",
          "Asus",
          "Asus",
          "Asus",
          "Asus",
          "Asus",
          "Asus",
          "Asus",
          "Asus",
          "Asus",
          "Asus",
          "Asus",
          "Asus",
          "Asus",
          "Asus",
          "Fairphone",
          "Fairphone",
          "Fairphone",
          "Google",
          "Google",
          "Google",
          "Google",
          "Google",
          "Google",
          "Google",
          "Google",
          "Google",
          "Google",
          "Google",
          "Google",
          "Google",
          "Google",
          "Google",
          "Google",
          "Google",
          "Google",
          "Microsoft",
          "Microsoft",
          "Nothing",
          "Nothing",
          "Nothing",
          "Nothing",
          "Nothing",
          "Nothing",
          "Nothing",
          "OnePlus",
          "OnePlus",
          "OnePlus",
          "OnePlus",
          "OnePlus",
          "OnePlus",
          "OnePlus",
          "OnePlus",
          "OnePlus",
          "OnePlus",
          "OnePlus",
          "OnePlus",
          "OnePlus",
          "OnePlus",
          "OnePlus",
          "OnePlus",
          "OnePlus",
          "OnePlus",
          "OnePlus",
          "OnePlus",
          "OnePlus",
          "OnePlus",
          "OnePlus",
          "OnePlus",
          "OnePlus",
          "OnePlus",
          "OnePlus",
          "OnePlus",
          "OnePlus",
          "OnePlus",
          "OnePlus",
          "OnePlus",
          "OnePlus",
          "OnePlus",
          "OnePlus",
          "OnePlus",
          "OnePlus",
          "OnePlus",
          "OnePlus",
          "OnePlus",
          "OnePlus",
          "OnePlus",
          "OnePlus",
          "OnePlus",
          "OnePlus",
          "OnePlus",
          "OnePlus",
          "OnePlus",
          "OnePlus",
          "OnePlus",
          "OnePlus",
          "OnePlus",
          "OnePlus",
          "Samsung",
          "Samsung",
          "Samsung",
          "Samsung",
          "Samsung",
          "Samsung",
          "Samsung",
          "Samsung",
          "Samsung",
          "Samsung",
          "Samsung",
          "Samsung",
          "Samsung",
          "Samsung",
          "Samsung",
          "Samsung",
          "Samsung",
          "Samsung",
          "Samsung",
          "Samsung",
          "Samsung",
          "Samsung",
          "Samsung",
          "Samsung",
          "Samsung",
          "Samsung",
          "Samsung",
          "Samsung",
          "Samsung",
          "Samsung",
          "Samsung",
          "Samsung",
          "Samsung",
          "Samsung",
          "Samsung",
          "Samsung",
          "Samsung",
          "Samsung",
          "Samsung",
          "Samsung",
          "Samsung",
          "Samsung",
          "Samsung",
          "Samsung",
          "Samsung",
          "Samsung",
          "Samsung",
          "Samsung",
          "Samsung",
          "Samsung",
          "Samsung",
          "Samsung",
          "Samsung",
          "Samsung",
          "Samsung",
          "Samsung",
          "Samsung",
          "Samsung",
          "Samsung",
          "Samsung",
          "Samsung",
          "Samsung",
          "Samsung",
          "Samsung",
          "Samsung",
          "Samsung",
          "Samsung",
          "Samsung",
          "Samsung",
          "Samsung",
          "Samsung",
          "Samsung",
          "Samsung",
          "Samsung",
          "Samsung",
          "Samsung",
          "Samsung",
          "Samsung",
          "Samsung",
          "Samsung",
          "Samsung",
          "Samsung",
          "Samsung",
          "Samsung",
          "Samsung",
          "Samsung",
          "Samsung",
          "Samsung",
          "Samsung",
          "Samsung",
          "Samsung",
          "Samsung",
          "Samsung",
          "Samsung",
          "Samsung",
          "Samsung",
          "Samsung",
          "Samsung",
          "Samsung",
          "Samsung",
          "Samsung",
          "Samsung",
          "Samsung",
          "Samsung",
          "Samsung",
          "Samsung",
          "Samsung",
          "Samsung",
          "Samsung",
          "Samsung",
          "Samsung",
          "Samsung",
          "Samsung",
          "Samsung",
          "Samsung",
          "Samsung",
          "Samsung",
          "Samsung",
          "Samsung",
          "Samsung",
          "Samsung",
          "Samsung",
          "Samsung",
          "Samsung",
          "Samsung",
          "Samsung",
          "Samsung",
          "Samsung",
          "Samsung",
          "Samsung",
          "Samsung",
          "Samsung",
          "Samsung",
          "Samsung",
          "Samsung",
          "Samsung",
          "Samsung",
          "Samsung",
          "Samsung",
          "Samsung",
          "Samsung",
          "Samsung",
          "Samsung",
          "Samsung",
          "Samsung",
          "Samsung",
          "Samsung",
          "Samsung",
          "Samsung",
          "Samsung",
          "Samsung",
          "Samsung",
          "Samsung",
          "Samsung",
          "Samsung",
          "Samsung",
          "Samsung",
          "Samsung",
          "Samsung",
          "Samsung",
          "Samsung",
          "Samsung",
          "Samsung",
          "Samsung",
          "Samsung",
          "Samsung",
          "Samsung",
          "Samsung",
          "Samsung",
          "Samsung",
          "Samsung",
          "Samsung",
          "Sony",
          "Sony",
          "Sony",
          "Sony",
          "Sony",
          "Sony",
          "Sony",
          "Sony",
          "Sony",
          "Sony",
          "Sony",
          "Sony",
          "Sony",
          "Sony",
          "Sony",
          "Sony",
          "Sony",
          "Sony",
          "Xiaomi",
          "Xiaomi",
          "Xiaomi",
          "Xiaomi",
          "Xiaomi",
          "Xiaomi",
          "Xiaomi",
          "Xiaomi",
          "Xiaomi",
          "Xiaomi",
          "Xiaomi",
          "Xiaomi",
          "Xiaomi",
          "Xiaomi",
          "Xiaomi",
          "Xiaomi",
          "Xiaomi",
          "Xiaomi",
          "Xiaomi",
          "Xiaomi",
          "Xiaomi",
          "Xiaomi",
          "Xiaomi",
          "Xiaomi",
          "Xiaomi",
          "Xiaomi",
          "Xiaomi",
          "Xiaomi",
          "Xiaomi",
          "Xiaomi",
          "Xiaomi",
          "Xiaomi",
          "Xiaomi",
          "Xiaomi",
          "Xiaomi",
          "Xiaomi",
          "Xiaomi",
          "Xiaomi",
          "Xiaomi",
          "Xiaomi",
          "Xiaomi",
          "Xiaomi",
          "Xiaomi",
          "Xiaomi",
          "Xiaomi",
          "Xiaomi",
          "Xiaomi",
          "Xiaomi",
          "Xiaomi",
          "Xiaomi",
          "Xiaomi",
          "Xiaomi",
          "Xiaomi",
          "Xiaomi",
          "Xiaomi",
          "Xiaomi",
          "Xiaomi",
          "Xiaomi",
          "Xiaomi",
          "Xiaomi",
          "Xiaomi",
          "Xiaomi",
          "Xiaomi",
          "Xiaomi",
          "Xiaomi",
          "Xiaomi",
          "Xiaomi",
          "Xiaomi",
          "Xiaomi",
          "Xiaomi",
          "Xiaomi",
          "Xiaomi",
          "Xiaomi",
          "Xiaomi",
          "Xiaomi",
          "Xiaomi",
          "Xiaomi",
          "Xiaomi",
          "Xiaomi",
          "Xiaomi",
          "Xiaomi",
          "Xiaomi",
          "Xiaomi",
          "Xiaomi",
          "Xiaomi",
          "Xiaomi",
          "Xiaomi",
          "Xiaomi",
          "Xiaomi",
          "Xiaomi",
          "Xiaomi",
          "Xiaomi",
          "Xiaomi",
          "Xiaomi",
          "Xiaomi",
          "Xiaomi",
          "Xiaomi",
          "Xiaomi",
          "Xiaomi",
          "Xiaomi",
          "Xiaomi",
          "Xiaomi",
          "Xiaomi",
          "Xiaomi",
          "Xiaomi",
          "Xiaomi",
          "Xiaomi",
          "Xiaomi",
          "Xiaomi",
          "Xiaomi",
          "Xiaomi",
          "Xiaomi",
          "Xiaomi",
          "Xiaomi",
          "Xiaomi",
          "Xiaomi",
          "Xiaomi",
          "Xiaomi",
          "Xiaomi",
          "Xiaomi",
          "Xiaomi",
          "Xiaomi",
          "Xiaomi",
          "Xiaomi",
          "Xiaomi",
          "Xiaomi",
          "Xiaomi",
          "Xiaomi",
          "Xiaomi",
          "Xiaomi",
          "Xiaomi",
          "Xiaomi",
          "Xiaomi",
          "Xiaomi",
          "Xiaomi",
          "Xiaomi",
          "Xiaomi",
          "Xiaomi",
          "Xiaomi",
          "Xiaomi",
          "Xiaomi",
          "Xiaomi",
          "Xiaomi",
          "Xiaomi",
          "Xiaomi",
          "Xiaomi",
          "Xiaomi",
          "Xiaomi",
          "Xiaomi",
          "Xiaomi",
          "Xiaomi",
          "Xiaomi",
          "Xiaomi",
          "Xiaomi",
          "Xiaomi",
          "Xiaomi",
          "Xiaomi",
          "Xiaomi",
          "Xiaomi",
          "Xiaomi",
          "Xiaomi",
          "Xiaomi",
          "Xiaomi",
          "Xiaomi",
          "Xiaomi",
          "Xiaomi",
          "Xiaomi",
          "Xiaomi",
          "Xiaomi",
          "Xiaomi",
          "Xiaomi",
          "Xiaomi",
          "Xiaomi",
          "Xiaomi",
          "Xiaomi",
          "Xiaomi",
          "Xiaomi",
          "Xiaomi",
          "Xiaomi",
          "Xiaomi",
          "Xiaomi",
          "Xiaomi",
          "Xiaomi",
          "Xiaomi",
          "Xiaomi",
          "Xiaomi",
          "Xiaomi",
          "Xiaomi",
          "Xiaomi",
          "Xiaomi",
          "Xiaomi",
          "Xiaomi",
          "Xiaomi",
          "Xiaomi",
          "Xiaomi",
          "Xiaomi",
          "Xiaomi",
          "Xiaomi",
          "Xiaomi",
          "Xiaomi",
          "Xiaomi",
          "Xiaomi",
          "Xiaomi",
          "Xiaomi",
          "Xiaomi",
          "Xiaomi",
          "Xiaomi",
          "Xiaomi",
          "Xiaomi",
          "Xiaomi",
          "Xiaomi",
          "Xiaomi",
          "Xiaomi",
          "Xiaomi",
          "Xiaomi",
          "Xiaomi",
          "Xiaomi",
          "Xiaomi",
          "Xiaomi",
          "Xiaomi",
          "Xiaomi",
          "Xiaomi",
          "Xiaomi",
          "Xiaomi",
          "Xiaomi",
          "Xiaomi",
          "Xiaomi",
          "Xiaomi",
          "Xiaomi",
          "Xiaomi",
          "Xiaomi",
          "Xiaomi",
          "Xiaomi",
          "Xiaomi",
          "Xiaomi",
          "Xiaomi",
          "Xiaomi",
          "Xiaomi",
          "Xiaomi",
          "Xiaomi",
          "Xiaomi",
          "Xiaomi",
          "Xiaomi",
          "Xiaomi",
          "Xiaomi",
          "Xiaomi",
          "Xiaomi",
          "Xiaomi",
          "Xiaomi",
          "Xiaomi",
          "Xiaomi",
          "Xiaomi",
          "Xiaomi",
          "Xiaomi",
          "Xiaomi",
          "Xiaomi",
          "Xiaomi",
          "Xiaomi",
          "Xiaomi",
          "Xiaomi",
          "Xiaomi",
          "Xiaomi",
          "Xiaomi",
          "Xiaomi",
          "Xiaomi",
          "Xiaomi",
          "Xiaomi",
          "Xiaomi",
          "Xiaomi",
          "Xiaomi",
          "Xiaomi",
          "Xiaomi",
          "Xiaomi",
          "Xiaomi",
          "Xiaomi",
          "Xiaomi",
          "Xiaomi"
         ],
         "yaxis": "y",
         "ybingroup": "y",
         "z": {
          "bdata": "xgDxAdQAYACkAKUCQAGZAA8BKgO6AbsAywBlAfMD2gFVAr8BKgSZATUCaQIAA1kA3gAwADkA4ABUAVwAQgICAZ0AjAA1ACwAMQDBAvYAmwALAXoAlQDxADUChAGSAEwBSgGrANMBgACMAHcAMgB8AVABuwCBAM4AxAKZAasAcwE1AwQCeAJjBH0CRAEyAygBxwK4ALkAqgB2AIQA8ABqARQC9QKAAE8APADqAfQAcQAmAA8AhACIABUA7ADQAlwA2QCYAI0A8AA6AIAAYwCzAF4ALQIZAFkAIADjAJsASwBnACoAewBYAHkAhQKkAMMAdQFYANIAcAI0AegAzwBVABgCdwDgAtMDdQEbACIA8QCMAD8AHQARACAAGQAvA7wA/QCeAFQAgwA8ATkAEgAYAGUAHADvAMQAYwBeAGQAeQBvA5kBRwAWADAAeQbjAQACRgDzAK8A+ACmAa0AcQA7ABMBJAGAAIgA4wBHAK4AAATqAVkAEwcdAkcDoQAEARgAHQBPAH4AVgBBASMBtQAjABwAPACJADIAMQCpAHcAlALDAoMBdQCPAG8A5QDtAHIH6QGdAtcDfgB6AGAAPgBDAT4ARwCaAKwEWgFVARgAQgBTAEEAiQCyAM8AWwBgAFgA1AA6ABYAIAI8AoQCYgB8ARYBNwFIAC4HLwLcAuoAOACYASkAVgCZADYAQgBuAIUDuwG/AMkCWgApARAFcgG1ALwAhgBYASAAHgBTAGYAQwBSATUAeQDqAMYAYgB9ADcBtAALAbgA4AGaBEwBfQG3AUMAQQEoAhcBrACkAf4BgwAfA1UADQD3AZUAWAGwAuIAtAGhAg4BTQJ+AAcEawJ0AWcB3wJfBVkBiQB3ARwBEACOAEQALQBEADwALwE7ABUAAwCYACUAEQBGAHcARQGiAGoAXwEdABwADQA3AccAOQAPADkAHwBxALQAZAAuACEAZABFABQADwFuAREAEwELAHsAPQAjAkgCQQCZAMIAnALKAg8BagIHAcIAHwASACwA5wB2AGIANACLAEMA/gGZAV4BXgDxAIUASwBpACsALwClAGEAdACAATIDIQIOAGoAcQB5ARkAGADqAHsCFwK7AA4AiQGIABoBCgB6AOcASAC3AFkAhwCmARICPgC2AegACwAXAGgAHQAVABoAbwCZAAkADAAaAKYAvwBOACQBCgKdAIIAWABdAeMAMAB0AHsAGQAVACEAfQFeABkA5wBMAEUAMAA2ADUAygHGAJMATwBsAtYBJQELAJoAQQBCABoAUAGJAKQARQBXAeYAkgAAAm4AYgBCAC4AxAB2AWQAfwAxADQA1AALABMAGAAQAH8CcgFQAT8A4AANAhkBKAEtAGkAUQDdAFABqQCEABsAAAGlBHwBzwC0AXUB5AC+AKsERQXdAP8F2ABdAVoCKwFPANEA4gDhALQAQgG5AHcDWABEAXQASgC1AbYAMwCmArEBJgEaAB4ANQALAbEDHAD+AhkBRAB7ALMAwAArAJcArAHkAI4AZgBYAO8CaQBYA44BwQHFADYBCwFkATICSAG3ALMBvAADA+oBKAAlAF4B+wAlABcACwBEACgAOAAhABgAqgA+AA==",
          "dtype": "i2"
         }
        }
       ],
       "layout": {
        "coloraxis": {
         "colorbar": {
          "title": {
           "text": "avg of popularity_become_fan"
          }
         },
         "colorscale": [
          [
           0,
           "#0d0887"
          ],
          [
           0.1111111111111111,
           "#46039f"
          ],
          [
           0.2222222222222222,
           "#7201a8"
          ],
          [
           0.3333333333333333,
           "#9c179e"
          ],
          [
           0.4444444444444444,
           "#bd3786"
          ],
          [
           0.5555555555555556,
           "#d8576b"
          ],
          [
           0.6666666666666666,
           "#ed7953"
          ],
          [
           0.7777777777777778,
           "#fb9f3a"
          ],
          [
           0.8888888888888888,
           "#fdca26"
          ],
          [
           1,
           "#f0f921"
          ]
         ]
        },
        "legend": {
         "tracegroupgap": 0
        },
        "margin": {
         "t": 60
        },
        "template": {
         "data": {
          "bar": [
           {
            "error_x": {
             "color": "#2a3f5f"
            },
            "error_y": {
             "color": "#2a3f5f"
            },
            "marker": {
             "line": {
              "color": "#E5ECF6",
              "width": 0.5
             },
             "pattern": {
              "fillmode": "overlay",
              "size": 10,
              "solidity": 0.2
             }
            },
            "type": "bar"
           }
          ],
          "barpolar": [
           {
            "marker": {
             "line": {
              "color": "#E5ECF6",
              "width": 0.5
             },
             "pattern": {
              "fillmode": "overlay",
              "size": 10,
              "solidity": 0.2
             }
            },
            "type": "barpolar"
           }
          ],
          "carpet": [
           {
            "aaxis": {
             "endlinecolor": "#2a3f5f",
             "gridcolor": "white",
             "linecolor": "white",
             "minorgridcolor": "white",
             "startlinecolor": "#2a3f5f"
            },
            "baxis": {
             "endlinecolor": "#2a3f5f",
             "gridcolor": "white",
             "linecolor": "white",
             "minorgridcolor": "white",
             "startlinecolor": "#2a3f5f"
            },
            "type": "carpet"
           }
          ],
          "choropleth": [
           {
            "colorbar": {
             "outlinewidth": 0,
             "ticks": ""
            },
            "type": "choropleth"
           }
          ],
          "contour": [
           {
            "colorbar": {
             "outlinewidth": 0,
             "ticks": ""
            },
            "colorscale": [
             [
              0,
              "#0d0887"
             ],
             [
              0.1111111111111111,
              "#46039f"
             ],
             [
              0.2222222222222222,
              "#7201a8"
             ],
             [
              0.3333333333333333,
              "#9c179e"
             ],
             [
              0.4444444444444444,
              "#bd3786"
             ],
             [
              0.5555555555555556,
              "#d8576b"
             ],
             [
              0.6666666666666666,
              "#ed7953"
             ],
             [
              0.7777777777777778,
              "#fb9f3a"
             ],
             [
              0.8888888888888888,
              "#fdca26"
             ],
             [
              1,
              "#f0f921"
             ]
            ],
            "type": "contour"
           }
          ],
          "contourcarpet": [
           {
            "colorbar": {
             "outlinewidth": 0,
             "ticks": ""
            },
            "type": "contourcarpet"
           }
          ],
          "heatmap": [
           {
            "colorbar": {
             "outlinewidth": 0,
             "ticks": ""
            },
            "colorscale": [
             [
              0,
              "#0d0887"
             ],
             [
              0.1111111111111111,
              "#46039f"
             ],
             [
              0.2222222222222222,
              "#7201a8"
             ],
             [
              0.3333333333333333,
              "#9c179e"
             ],
             [
              0.4444444444444444,
              "#bd3786"
             ],
             [
              0.5555555555555556,
              "#d8576b"
             ],
             [
              0.6666666666666666,
              "#ed7953"
             ],
             [
              0.7777777777777778,
              "#fb9f3a"
             ],
             [
              0.8888888888888888,
              "#fdca26"
             ],
             [
              1,
              "#f0f921"
             ]
            ],
            "type": "heatmap"
           }
          ],
          "histogram": [
           {
            "marker": {
             "pattern": {
              "fillmode": "overlay",
              "size": 10,
              "solidity": 0.2
             }
            },
            "type": "histogram"
           }
          ],
          "histogram2d": [
           {
            "colorbar": {
             "outlinewidth": 0,
             "ticks": ""
            },
            "colorscale": [
             [
              0,
              "#0d0887"
             ],
             [
              0.1111111111111111,
              "#46039f"
             ],
             [
              0.2222222222222222,
              "#7201a8"
             ],
             [
              0.3333333333333333,
              "#9c179e"
             ],
             [
              0.4444444444444444,
              "#bd3786"
             ],
             [
              0.5555555555555556,
              "#d8576b"
             ],
             [
              0.6666666666666666,
              "#ed7953"
             ],
             [
              0.7777777777777778,
              "#fb9f3a"
             ],
             [
              0.8888888888888888,
              "#fdca26"
             ],
             [
              1,
              "#f0f921"
             ]
            ],
            "type": "histogram2d"
           }
          ],
          "histogram2dcontour": [
           {
            "colorbar": {
             "outlinewidth": 0,
             "ticks": ""
            },
            "colorscale": [
             [
              0,
              "#0d0887"
             ],
             [
              0.1111111111111111,
              "#46039f"
             ],
             [
              0.2222222222222222,
              "#7201a8"
             ],
             [
              0.3333333333333333,
              "#9c179e"
             ],
             [
              0.4444444444444444,
              "#bd3786"
             ],
             [
              0.5555555555555556,
              "#d8576b"
             ],
             [
              0.6666666666666666,
              "#ed7953"
             ],
             [
              0.7777777777777778,
              "#fb9f3a"
             ],
             [
              0.8888888888888888,
              "#fdca26"
             ],
             [
              1,
              "#f0f921"
             ]
            ],
            "type": "histogram2dcontour"
           }
          ],
          "mesh3d": [
           {
            "colorbar": {
             "outlinewidth": 0,
             "ticks": ""
            },
            "type": "mesh3d"
           }
          ],
          "parcoords": [
           {
            "line": {
             "colorbar": {
              "outlinewidth": 0,
              "ticks": ""
             }
            },
            "type": "parcoords"
           }
          ],
          "pie": [
           {
            "automargin": true,
            "type": "pie"
           }
          ],
          "scatter": [
           {
            "fillpattern": {
             "fillmode": "overlay",
             "size": 10,
             "solidity": 0.2
            },
            "type": "scatter"
           }
          ],
          "scatter3d": [
           {
            "line": {
             "colorbar": {
              "outlinewidth": 0,
              "ticks": ""
             }
            },
            "marker": {
             "colorbar": {
              "outlinewidth": 0,
              "ticks": ""
             }
            },
            "type": "scatter3d"
           }
          ],
          "scattercarpet": [
           {
            "marker": {
             "colorbar": {
              "outlinewidth": 0,
              "ticks": ""
             }
            },
            "type": "scattercarpet"
           }
          ],
          "scattergeo": [
           {
            "marker": {
             "colorbar": {
              "outlinewidth": 0,
              "ticks": ""
             }
            },
            "type": "scattergeo"
           }
          ],
          "scattergl": [
           {
            "marker": {
             "colorbar": {
              "outlinewidth": 0,
              "ticks": ""
             }
            },
            "type": "scattergl"
           }
          ],
          "scattermap": [
           {
            "marker": {
             "colorbar": {
              "outlinewidth": 0,
              "ticks": ""
             }
            },
            "type": "scattermap"
           }
          ],
          "scattermapbox": [
           {
            "marker": {
             "colorbar": {
              "outlinewidth": 0,
              "ticks": ""
             }
            },
            "type": "scattermapbox"
           }
          ],
          "scatterpolar": [
           {
            "marker": {
             "colorbar": {
              "outlinewidth": 0,
              "ticks": ""
             }
            },
            "type": "scatterpolar"
           }
          ],
          "scatterpolargl": [
           {
            "marker": {
             "colorbar": {
              "outlinewidth": 0,
              "ticks": ""
             }
            },
            "type": "scatterpolargl"
           }
          ],
          "scatterternary": [
           {
            "marker": {
             "colorbar": {
              "outlinewidth": 0,
              "ticks": ""
             }
            },
            "type": "scatterternary"
           }
          ],
          "surface": [
           {
            "colorbar": {
             "outlinewidth": 0,
             "ticks": ""
            },
            "colorscale": [
             [
              0,
              "#0d0887"
             ],
             [
              0.1111111111111111,
              "#46039f"
             ],
             [
              0.2222222222222222,
              "#7201a8"
             ],
             [
              0.3333333333333333,
              "#9c179e"
             ],
             [
              0.4444444444444444,
              "#bd3786"
             ],
             [
              0.5555555555555556,
              "#d8576b"
             ],
             [
              0.6666666666666666,
              "#ed7953"
             ],
             [
              0.7777777777777778,
              "#fb9f3a"
             ],
             [
              0.8888888888888888,
              "#fdca26"
             ],
             [
              1,
              "#f0f921"
             ]
            ],
            "type": "surface"
           }
          ],
          "table": [
           {
            "cells": {
             "fill": {
              "color": "#EBF0F8"
             },
             "line": {
              "color": "white"
             }
            },
            "header": {
             "fill": {
              "color": "#C8D4E3"
             },
             "line": {
              "color": "white"
             }
            },
            "type": "table"
           }
          ]
         },
         "layout": {
          "annotationdefaults": {
           "arrowcolor": "#2a3f5f",
           "arrowhead": 0,
           "arrowwidth": 1
          },
          "autotypenumbers": "strict",
          "coloraxis": {
           "colorbar": {
            "outlinewidth": 0,
            "ticks": ""
           }
          },
          "colorscale": {
           "diverging": [
            [
             0,
             "#8e0152"
            ],
            [
             0.1,
             "#c51b7d"
            ],
            [
             0.2,
             "#de77ae"
            ],
            [
             0.3,
             "#f1b6da"
            ],
            [
             0.4,
             "#fde0ef"
            ],
            [
             0.5,
             "#f7f7f7"
            ],
            [
             0.6,
             "#e6f5d0"
            ],
            [
             0.7,
             "#b8e186"
            ],
            [
             0.8,
             "#7fbc41"
            ],
            [
             0.9,
             "#4d9221"
            ],
            [
             1,
             "#276419"
            ]
           ],
           "sequential": [
            [
             0,
             "#0d0887"
            ],
            [
             0.1111111111111111,
             "#46039f"
            ],
            [
             0.2222222222222222,
             "#7201a8"
            ],
            [
             0.3333333333333333,
             "#9c179e"
            ],
            [
             0.4444444444444444,
             "#bd3786"
            ],
            [
             0.5555555555555556,
             "#d8576b"
            ],
            [
             0.6666666666666666,
             "#ed7953"
            ],
            [
             0.7777777777777778,
             "#fb9f3a"
            ],
            [
             0.8888888888888888,
             "#fdca26"
            ],
            [
             1,
             "#f0f921"
            ]
           ],
           "sequentialminus": [
            [
             0,
             "#0d0887"
            ],
            [
             0.1111111111111111,
             "#46039f"
            ],
            [
             0.2222222222222222,
             "#7201a8"
            ],
            [
             0.3333333333333333,
             "#9c179e"
            ],
            [
             0.4444444444444444,
             "#bd3786"
            ],
            [
             0.5555555555555556,
             "#d8576b"
            ],
            [
             0.6666666666666666,
             "#ed7953"
            ],
            [
             0.7777777777777778,
             "#fb9f3a"
            ],
            [
             0.8888888888888888,
             "#fdca26"
            ],
            [
             1,
             "#f0f921"
            ]
           ]
          },
          "colorway": [
           "#636efa",
           "#EF553B",
           "#00cc96",
           "#ab63fa",
           "#FFA15A",
           "#19d3f3",
           "#FF6692",
           "#B6E880",
           "#FF97FF",
           "#FECB52"
          ],
          "font": {
           "color": "#2a3f5f"
          },
          "geo": {
           "bgcolor": "white",
           "lakecolor": "white",
           "landcolor": "#E5ECF6",
           "showlakes": true,
           "showland": true,
           "subunitcolor": "white"
          },
          "hoverlabel": {
           "align": "left"
          },
          "hovermode": "closest",
          "mapbox": {
           "style": "light"
          },
          "paper_bgcolor": "white",
          "plot_bgcolor": "#E5ECF6",
          "polar": {
           "angularaxis": {
            "gridcolor": "white",
            "linecolor": "white",
            "ticks": ""
           },
           "bgcolor": "#E5ECF6",
           "radialaxis": {
            "gridcolor": "white",
            "linecolor": "white",
            "ticks": ""
           }
          },
          "scene": {
           "xaxis": {
            "backgroundcolor": "#E5ECF6",
            "gridcolor": "white",
            "gridwidth": 2,
            "linecolor": "white",
            "showbackground": true,
            "ticks": "",
            "zerolinecolor": "white"
           },
           "yaxis": {
            "backgroundcolor": "#E5ECF6",
            "gridcolor": "white",
            "gridwidth": 2,
            "linecolor": "white",
            "showbackground": true,
            "ticks": "",
            "zerolinecolor": "white"
           },
           "zaxis": {
            "backgroundcolor": "#E5ECF6",
            "gridcolor": "white",
            "gridwidth": 2,
            "linecolor": "white",
            "showbackground": true,
            "ticks": "",
            "zerolinecolor": "white"
           }
          },
          "shapedefaults": {
           "line": {
            "color": "#2a3f5f"
           }
          },
          "ternary": {
           "aaxis": {
            "gridcolor": "white",
            "linecolor": "white",
            "ticks": ""
           },
           "baxis": {
            "gridcolor": "white",
            "linecolor": "white",
            "ticks": ""
           },
           "bgcolor": "#E5ECF6",
           "caxis": {
            "gridcolor": "white",
            "linecolor": "white",
            "ticks": ""
           }
          },
          "title": {
           "x": 0.05
          },
          "xaxis": {
           "automargin": true,
           "gridcolor": "white",
           "linecolor": "white",
           "ticks": "",
           "title": {
            "standoff": 15
           },
           "zerolinecolor": "white",
           "zerolinewidth": 2
          },
          "yaxis": {
           "automargin": true,
           "gridcolor": "white",
           "linecolor": "white",
           "ticks": "",
           "title": {
            "standoff": 15
           },
           "zerolinecolor": "white",
           "zerolinewidth": 2
          }
         }
        },
        "xaxis": {
         "anchor": "y",
         "domain": [
          0,
          1
         ],
         "title": {
          "text": "release_year"
         }
        },
        "yaxis": {
         "anchor": "x",
         "domain": [
          0,
          1
         ],
         "title": {
          "text": "brand"
         }
        }
       }
      }
     },
     "metadata": {},
     "output_type": "display_data"
    }
   ],
   "source": [
    "pdf = df\n",
    "px.density_heatmap(pdf, x='release_year', y='brand', z='popularity_become_fan', histfunc='avg')"
   ]
  },
  {
   "cell_type": "markdown",
   "id": "ce40b6c0",
   "metadata": {},
   "source": [
    "Some of the brands, like Nothing, have recieved massive popularity increase at the start and the popularity gradually decreased over time.\n",
    "Some of the brands, like Samsung, have kept the number of likes on their phones consistent throughout the years.\n",
    "\n",
    "The trend of phones recieving less likes over the years might be due to user engagement of GSMArena and might not be indicative."
   ]
  },
  {
   "cell_type": "code",
   "execution_count": 9,
   "id": "2e6bdc03",
   "metadata": {},
   "outputs": [
    {
     "data": {
      "application/vnd.plotly.v1+json": {
       "config": {
        "plotlyServerURL": "https://plot.ly"
       },
       "data": [
        {
         "hovertemplate": "ip_rating=%{x}<br>popularity_become_fan=%{y}<extra></extra>",
         "legendgroup": "",
         "marker": {
          "color": "#636efa",
          "pattern": {
           "shape": ""
          }
         },
         "name": "",
         "orientation": "v",
         "showlegend": false,
         "textposition": "auto",
         "type": "bar",
         "x": [
          "IP67",
          "IP68",
          "IP65",
          "IP53",
          "IPX8",
          "IP48",
          "IP54",
          "IP64",
          "IPXX",
          "IP55",
          "IPX4"
         ],
         "xaxis": "x",
         "y": {
          "bdata": "mpmZmZmVgED8CO4juKd9QFVVVVVV3XpApAcqZ7dQc0CO4ziO43hvQFVVVVVVtWhA5DiO4zguaEAXXXTRRbdmQFwzQFBkXWRAAAAAAACAYUBJkiRJkiRgQA==",
          "dtype": "f8"
         },
         "yaxis": "y"
        }
       ],
       "layout": {
        "barmode": "relative",
        "legend": {
         "tracegroupgap": 0
        },
        "margin": {
         "t": 60
        },
        "template": {
         "data": {
          "bar": [
           {
            "error_x": {
             "color": "#2a3f5f"
            },
            "error_y": {
             "color": "#2a3f5f"
            },
            "marker": {
             "line": {
              "color": "#E5ECF6",
              "width": 0.5
             },
             "pattern": {
              "fillmode": "overlay",
              "size": 10,
              "solidity": 0.2
             }
            },
            "type": "bar"
           }
          ],
          "barpolar": [
           {
            "marker": {
             "line": {
              "color": "#E5ECF6",
              "width": 0.5
             },
             "pattern": {
              "fillmode": "overlay",
              "size": 10,
              "solidity": 0.2
             }
            },
            "type": "barpolar"
           }
          ],
          "carpet": [
           {
            "aaxis": {
             "endlinecolor": "#2a3f5f",
             "gridcolor": "white",
             "linecolor": "white",
             "minorgridcolor": "white",
             "startlinecolor": "#2a3f5f"
            },
            "baxis": {
             "endlinecolor": "#2a3f5f",
             "gridcolor": "white",
             "linecolor": "white",
             "minorgridcolor": "white",
             "startlinecolor": "#2a3f5f"
            },
            "type": "carpet"
           }
          ],
          "choropleth": [
           {
            "colorbar": {
             "outlinewidth": 0,
             "ticks": ""
            },
            "type": "choropleth"
           }
          ],
          "contour": [
           {
            "colorbar": {
             "outlinewidth": 0,
             "ticks": ""
            },
            "colorscale": [
             [
              0,
              "#0d0887"
             ],
             [
              0.1111111111111111,
              "#46039f"
             ],
             [
              0.2222222222222222,
              "#7201a8"
             ],
             [
              0.3333333333333333,
              "#9c179e"
             ],
             [
              0.4444444444444444,
              "#bd3786"
             ],
             [
              0.5555555555555556,
              "#d8576b"
             ],
             [
              0.6666666666666666,
              "#ed7953"
             ],
             [
              0.7777777777777778,
              "#fb9f3a"
             ],
             [
              0.8888888888888888,
              "#fdca26"
             ],
             [
              1,
              "#f0f921"
             ]
            ],
            "type": "contour"
           }
          ],
          "contourcarpet": [
           {
            "colorbar": {
             "outlinewidth": 0,
             "ticks": ""
            },
            "type": "contourcarpet"
           }
          ],
          "heatmap": [
           {
            "colorbar": {
             "outlinewidth": 0,
             "ticks": ""
            },
            "colorscale": [
             [
              0,
              "#0d0887"
             ],
             [
              0.1111111111111111,
              "#46039f"
             ],
             [
              0.2222222222222222,
              "#7201a8"
             ],
             [
              0.3333333333333333,
              "#9c179e"
             ],
             [
              0.4444444444444444,
              "#bd3786"
             ],
             [
              0.5555555555555556,
              "#d8576b"
             ],
             [
              0.6666666666666666,
              "#ed7953"
             ],
             [
              0.7777777777777778,
              "#fb9f3a"
             ],
             [
              0.8888888888888888,
              "#fdca26"
             ],
             [
              1,
              "#f0f921"
             ]
            ],
            "type": "heatmap"
           }
          ],
          "histogram": [
           {
            "marker": {
             "pattern": {
              "fillmode": "overlay",
              "size": 10,
              "solidity": 0.2
             }
            },
            "type": "histogram"
           }
          ],
          "histogram2d": [
           {
            "colorbar": {
             "outlinewidth": 0,
             "ticks": ""
            },
            "colorscale": [
             [
              0,
              "#0d0887"
             ],
             [
              0.1111111111111111,
              "#46039f"
             ],
             [
              0.2222222222222222,
              "#7201a8"
             ],
             [
              0.3333333333333333,
              "#9c179e"
             ],
             [
              0.4444444444444444,
              "#bd3786"
             ],
             [
              0.5555555555555556,
              "#d8576b"
             ],
             [
              0.6666666666666666,
              "#ed7953"
             ],
             [
              0.7777777777777778,
              "#fb9f3a"
             ],
             [
              0.8888888888888888,
              "#fdca26"
             ],
             [
              1,
              "#f0f921"
             ]
            ],
            "type": "histogram2d"
           }
          ],
          "histogram2dcontour": [
           {
            "colorbar": {
             "outlinewidth": 0,
             "ticks": ""
            },
            "colorscale": [
             [
              0,
              "#0d0887"
             ],
             [
              0.1111111111111111,
              "#46039f"
             ],
             [
              0.2222222222222222,
              "#7201a8"
             ],
             [
              0.3333333333333333,
              "#9c179e"
             ],
             [
              0.4444444444444444,
              "#bd3786"
             ],
             [
              0.5555555555555556,
              "#d8576b"
             ],
             [
              0.6666666666666666,
              "#ed7953"
             ],
             [
              0.7777777777777778,
              "#fb9f3a"
             ],
             [
              0.8888888888888888,
              "#fdca26"
             ],
             [
              1,
              "#f0f921"
             ]
            ],
            "type": "histogram2dcontour"
           }
          ],
          "mesh3d": [
           {
            "colorbar": {
             "outlinewidth": 0,
             "ticks": ""
            },
            "type": "mesh3d"
           }
          ],
          "parcoords": [
           {
            "line": {
             "colorbar": {
              "outlinewidth": 0,
              "ticks": ""
             }
            },
            "type": "parcoords"
           }
          ],
          "pie": [
           {
            "automargin": true,
            "type": "pie"
           }
          ],
          "scatter": [
           {
            "fillpattern": {
             "fillmode": "overlay",
             "size": 10,
             "solidity": 0.2
            },
            "type": "scatter"
           }
          ],
          "scatter3d": [
           {
            "line": {
             "colorbar": {
              "outlinewidth": 0,
              "ticks": ""
             }
            },
            "marker": {
             "colorbar": {
              "outlinewidth": 0,
              "ticks": ""
             }
            },
            "type": "scatter3d"
           }
          ],
          "scattercarpet": [
           {
            "marker": {
             "colorbar": {
              "outlinewidth": 0,
              "ticks": ""
             }
            },
            "type": "scattercarpet"
           }
          ],
          "scattergeo": [
           {
            "marker": {
             "colorbar": {
              "outlinewidth": 0,
              "ticks": ""
             }
            },
            "type": "scattergeo"
           }
          ],
          "scattergl": [
           {
            "marker": {
             "colorbar": {
              "outlinewidth": 0,
              "ticks": ""
             }
            },
            "type": "scattergl"
           }
          ],
          "scattermap": [
           {
            "marker": {
             "colorbar": {
              "outlinewidth": 0,
              "ticks": ""
             }
            },
            "type": "scattermap"
           }
          ],
          "scattermapbox": [
           {
            "marker": {
             "colorbar": {
              "outlinewidth": 0,
              "ticks": ""
             }
            },
            "type": "scattermapbox"
           }
          ],
          "scatterpolar": [
           {
            "marker": {
             "colorbar": {
              "outlinewidth": 0,
              "ticks": ""
             }
            },
            "type": "scatterpolar"
           }
          ],
          "scatterpolargl": [
           {
            "marker": {
             "colorbar": {
              "outlinewidth": 0,
              "ticks": ""
             }
            },
            "type": "scatterpolargl"
           }
          ],
          "scatterternary": [
           {
            "marker": {
             "colorbar": {
              "outlinewidth": 0,
              "ticks": ""
             }
            },
            "type": "scatterternary"
           }
          ],
          "surface": [
           {
            "colorbar": {
             "outlinewidth": 0,
             "ticks": ""
            },
            "colorscale": [
             [
              0,
              "#0d0887"
             ],
             [
              0.1111111111111111,
              "#46039f"
             ],
             [
              0.2222222222222222,
              "#7201a8"
             ],
             [
              0.3333333333333333,
              "#9c179e"
             ],
             [
              0.4444444444444444,
              "#bd3786"
             ],
             [
              0.5555555555555556,
              "#d8576b"
             ],
             [
              0.6666666666666666,
              "#ed7953"
             ],
             [
              0.7777777777777778,
              "#fb9f3a"
             ],
             [
              0.8888888888888888,
              "#fdca26"
             ],
             [
              1,
              "#f0f921"
             ]
            ],
            "type": "surface"
           }
          ],
          "table": [
           {
            "cells": {
             "fill": {
              "color": "#EBF0F8"
             },
             "line": {
              "color": "white"
             }
            },
            "header": {
             "fill": {
              "color": "#C8D4E3"
             },
             "line": {
              "color": "white"
             }
            },
            "type": "table"
           }
          ]
         },
         "layout": {
          "annotationdefaults": {
           "arrowcolor": "#2a3f5f",
           "arrowhead": 0,
           "arrowwidth": 1
          },
          "autotypenumbers": "strict",
          "coloraxis": {
           "colorbar": {
            "outlinewidth": 0,
            "ticks": ""
           }
          },
          "colorscale": {
           "diverging": [
            [
             0,
             "#8e0152"
            ],
            [
             0.1,
             "#c51b7d"
            ],
            [
             0.2,
             "#de77ae"
            ],
            [
             0.3,
             "#f1b6da"
            ],
            [
             0.4,
             "#fde0ef"
            ],
            [
             0.5,
             "#f7f7f7"
            ],
            [
             0.6,
             "#e6f5d0"
            ],
            [
             0.7,
             "#b8e186"
            ],
            [
             0.8,
             "#7fbc41"
            ],
            [
             0.9,
             "#4d9221"
            ],
            [
             1,
             "#276419"
            ]
           ],
           "sequential": [
            [
             0,
             "#0d0887"
            ],
            [
             0.1111111111111111,
             "#46039f"
            ],
            [
             0.2222222222222222,
             "#7201a8"
            ],
            [
             0.3333333333333333,
             "#9c179e"
            ],
            [
             0.4444444444444444,
             "#bd3786"
            ],
            [
             0.5555555555555556,
             "#d8576b"
            ],
            [
             0.6666666666666666,
             "#ed7953"
            ],
            [
             0.7777777777777778,
             "#fb9f3a"
            ],
            [
             0.8888888888888888,
             "#fdca26"
            ],
            [
             1,
             "#f0f921"
            ]
           ],
           "sequentialminus": [
            [
             0,
             "#0d0887"
            ],
            [
             0.1111111111111111,
             "#46039f"
            ],
            [
             0.2222222222222222,
             "#7201a8"
            ],
            [
             0.3333333333333333,
             "#9c179e"
            ],
            [
             0.4444444444444444,
             "#bd3786"
            ],
            [
             0.5555555555555556,
             "#d8576b"
            ],
            [
             0.6666666666666666,
             "#ed7953"
            ],
            [
             0.7777777777777778,
             "#fb9f3a"
            ],
            [
             0.8888888888888888,
             "#fdca26"
            ],
            [
             1,
             "#f0f921"
            ]
           ]
          },
          "colorway": [
           "#636efa",
           "#EF553B",
           "#00cc96",
           "#ab63fa",
           "#FFA15A",
           "#19d3f3",
           "#FF6692",
           "#B6E880",
           "#FF97FF",
           "#FECB52"
          ],
          "font": {
           "color": "#2a3f5f"
          },
          "geo": {
           "bgcolor": "white",
           "lakecolor": "white",
           "landcolor": "#E5ECF6",
           "showlakes": true,
           "showland": true,
           "subunitcolor": "white"
          },
          "hoverlabel": {
           "align": "left"
          },
          "hovermode": "closest",
          "mapbox": {
           "style": "light"
          },
          "paper_bgcolor": "white",
          "plot_bgcolor": "#E5ECF6",
          "polar": {
           "angularaxis": {
            "gridcolor": "white",
            "linecolor": "white",
            "ticks": ""
           },
           "bgcolor": "#E5ECF6",
           "radialaxis": {
            "gridcolor": "white",
            "linecolor": "white",
            "ticks": ""
           }
          },
          "scene": {
           "xaxis": {
            "backgroundcolor": "#E5ECF6",
            "gridcolor": "white",
            "gridwidth": 2,
            "linecolor": "white",
            "showbackground": true,
            "ticks": "",
            "zerolinecolor": "white"
           },
           "yaxis": {
            "backgroundcolor": "#E5ECF6",
            "gridcolor": "white",
            "gridwidth": 2,
            "linecolor": "white",
            "showbackground": true,
            "ticks": "",
            "zerolinecolor": "white"
           },
           "zaxis": {
            "backgroundcolor": "#E5ECF6",
            "gridcolor": "white",
            "gridwidth": 2,
            "linecolor": "white",
            "showbackground": true,
            "ticks": "",
            "zerolinecolor": "white"
           }
          },
          "shapedefaults": {
           "line": {
            "color": "#2a3f5f"
           }
          },
          "ternary": {
           "aaxis": {
            "gridcolor": "white",
            "linecolor": "white",
            "ticks": ""
           },
           "baxis": {
            "gridcolor": "white",
            "linecolor": "white",
            "ticks": ""
           },
           "bgcolor": "#E5ECF6",
           "caxis": {
            "gridcolor": "white",
            "linecolor": "white",
            "ticks": ""
           }
          },
          "title": {
           "x": 0.05
          },
          "xaxis": {
           "automargin": true,
           "gridcolor": "white",
           "linecolor": "white",
           "ticks": "",
           "title": {
            "standoff": 15
           },
           "zerolinecolor": "white",
           "zerolinewidth": 2
          },
          "yaxis": {
           "automargin": true,
           "gridcolor": "white",
           "linecolor": "white",
           "ticks": "",
           "title": {
            "standoff": 15
           },
           "zerolinecolor": "white",
           "zerolinewidth": 2
          }
         }
        },
        "xaxis": {
         "anchor": "y",
         "domain": [
          0,
          1
         ],
         "title": {
          "text": "ip_rating"
         }
        },
        "yaxis": {
         "anchor": "x",
         "domain": [
          0,
          1
         ],
         "title": {
          "text": "popularity_become_fan"
         }
        }
       }
      }
     },
     "metadata": {},
     "output_type": "display_data"
    }
   ],
   "source": [
    "pdf = df.groupby(['ip_rating'])['popularity_become_fan'].mean().reset_index()\n",
    "px.bar(pdf.sort_values('popularity_become_fan', ascending=False), x='ip_rating', y='popularity_become_fan')"
   ]
  },
  {
   "cell_type": "markdown",
   "id": "0da8f7f8",
   "metadata": {},
   "source": [
    "Phones with IP67 or IP68 water and dust protection recieve more likes on average than phones without any water and dust protection (IPXX).\n",
    "\n",
    "Ultra-rugged indestructible phones with IP69 protection level do not recieve a lot of likes from people."
   ]
  },
  {
   "cell_type": "markdown",
   "id": "d1485429",
   "metadata": {},
   "source": [
    "Apple recieves the most amount of views on average."
   ]
  },
  {
   "cell_type": "code",
   "execution_count": 10,
   "id": "cd66a8ca",
   "metadata": {},
   "outputs": [
    {
     "data": {
      "application/vnd.plotly.v1+json": {
       "config": {
        "plotlyServerURL": "https://plot.ly"
       },
       "data": [
        {
         "hovertemplate": "5g=False<br>release_year=%{x}<br>counts=%{y}<extra></extra>",
         "legendgroup": "False",
         "marker": {
          "color": "#636efa",
          "pattern": {
           "shape": ""
          }
         },
         "name": "False",
         "orientation": "v",
         "showlegend": true,
         "textposition": "auto",
         "type": "bar",
         "x": {
          "bdata": "AAAAAACQn0AAAAAAAJSfQAAAAAAAmJ9AAAAAAACcn0AAAAAAAKCfQAAAAAAApJ9A",
          "dtype": "f8"
         },
         "xaxis": "x",
         "y": {
          "bdata": "QTEeEhED",
          "dtype": "i1"
         },
         "yaxis": "y"
        },
        {
         "hovertemplate": "5g=True<br>release_year=%{x}<br>counts=%{y}<extra></extra>",
         "legendgroup": "True",
         "marker": {
          "color": "#EF553B",
          "pattern": {
           "shape": ""
          }
         },
         "name": "True",
         "orientation": "v",
         "showlegend": true,
         "textposition": "auto",
         "type": "bar",
         "x": {
          "bdata": "AAAAAACQn0AAAAAAAJSfQAAAAAAAmJ9AAAAAAACcn0AAAAAAAKCfQAAAAAAApJ9A",
          "dtype": "f8"
         },
         "xaxis": "x",
         "y": {
          "bdata": "OldeTE8a",
          "dtype": "i1"
         },
         "yaxis": "y"
        }
       ],
       "layout": {
        "barmode": "relative",
        "legend": {
         "title": {
          "text": "5g"
         },
         "tracegroupgap": 0
        },
        "margin": {
         "t": 60
        },
        "template": {
         "data": {
          "bar": [
           {
            "error_x": {
             "color": "#2a3f5f"
            },
            "error_y": {
             "color": "#2a3f5f"
            },
            "marker": {
             "line": {
              "color": "#E5ECF6",
              "width": 0.5
             },
             "pattern": {
              "fillmode": "overlay",
              "size": 10,
              "solidity": 0.2
             }
            },
            "type": "bar"
           }
          ],
          "barpolar": [
           {
            "marker": {
             "line": {
              "color": "#E5ECF6",
              "width": 0.5
             },
             "pattern": {
              "fillmode": "overlay",
              "size": 10,
              "solidity": 0.2
             }
            },
            "type": "barpolar"
           }
          ],
          "carpet": [
           {
            "aaxis": {
             "endlinecolor": "#2a3f5f",
             "gridcolor": "white",
             "linecolor": "white",
             "minorgridcolor": "white",
             "startlinecolor": "#2a3f5f"
            },
            "baxis": {
             "endlinecolor": "#2a3f5f",
             "gridcolor": "white",
             "linecolor": "white",
             "minorgridcolor": "white",
             "startlinecolor": "#2a3f5f"
            },
            "type": "carpet"
           }
          ],
          "choropleth": [
           {
            "colorbar": {
             "outlinewidth": 0,
             "ticks": ""
            },
            "type": "choropleth"
           }
          ],
          "contour": [
           {
            "colorbar": {
             "outlinewidth": 0,
             "ticks": ""
            },
            "colorscale": [
             [
              0,
              "#0d0887"
             ],
             [
              0.1111111111111111,
              "#46039f"
             ],
             [
              0.2222222222222222,
              "#7201a8"
             ],
             [
              0.3333333333333333,
              "#9c179e"
             ],
             [
              0.4444444444444444,
              "#bd3786"
             ],
             [
              0.5555555555555556,
              "#d8576b"
             ],
             [
              0.6666666666666666,
              "#ed7953"
             ],
             [
              0.7777777777777778,
              "#fb9f3a"
             ],
             [
              0.8888888888888888,
              "#fdca26"
             ],
             [
              1,
              "#f0f921"
             ]
            ],
            "type": "contour"
           }
          ],
          "contourcarpet": [
           {
            "colorbar": {
             "outlinewidth": 0,
             "ticks": ""
            },
            "type": "contourcarpet"
           }
          ],
          "heatmap": [
           {
            "colorbar": {
             "outlinewidth": 0,
             "ticks": ""
            },
            "colorscale": [
             [
              0,
              "#0d0887"
             ],
             [
              0.1111111111111111,
              "#46039f"
             ],
             [
              0.2222222222222222,
              "#7201a8"
             ],
             [
              0.3333333333333333,
              "#9c179e"
             ],
             [
              0.4444444444444444,
              "#bd3786"
             ],
             [
              0.5555555555555556,
              "#d8576b"
             ],
             [
              0.6666666666666666,
              "#ed7953"
             ],
             [
              0.7777777777777778,
              "#fb9f3a"
             ],
             [
              0.8888888888888888,
              "#fdca26"
             ],
             [
              1,
              "#f0f921"
             ]
            ],
            "type": "heatmap"
           }
          ],
          "histogram": [
           {
            "marker": {
             "pattern": {
              "fillmode": "overlay",
              "size": 10,
              "solidity": 0.2
             }
            },
            "type": "histogram"
           }
          ],
          "histogram2d": [
           {
            "colorbar": {
             "outlinewidth": 0,
             "ticks": ""
            },
            "colorscale": [
             [
              0,
              "#0d0887"
             ],
             [
              0.1111111111111111,
              "#46039f"
             ],
             [
              0.2222222222222222,
              "#7201a8"
             ],
             [
              0.3333333333333333,
              "#9c179e"
             ],
             [
              0.4444444444444444,
              "#bd3786"
             ],
             [
              0.5555555555555556,
              "#d8576b"
             ],
             [
              0.6666666666666666,
              "#ed7953"
             ],
             [
              0.7777777777777778,
              "#fb9f3a"
             ],
             [
              0.8888888888888888,
              "#fdca26"
             ],
             [
              1,
              "#f0f921"
             ]
            ],
            "type": "histogram2d"
           }
          ],
          "histogram2dcontour": [
           {
            "colorbar": {
             "outlinewidth": 0,
             "ticks": ""
            },
            "colorscale": [
             [
              0,
              "#0d0887"
             ],
             [
              0.1111111111111111,
              "#46039f"
             ],
             [
              0.2222222222222222,
              "#7201a8"
             ],
             [
              0.3333333333333333,
              "#9c179e"
             ],
             [
              0.4444444444444444,
              "#bd3786"
             ],
             [
              0.5555555555555556,
              "#d8576b"
             ],
             [
              0.6666666666666666,
              "#ed7953"
             ],
             [
              0.7777777777777778,
              "#fb9f3a"
             ],
             [
              0.8888888888888888,
              "#fdca26"
             ],
             [
              1,
              "#f0f921"
             ]
            ],
            "type": "histogram2dcontour"
           }
          ],
          "mesh3d": [
           {
            "colorbar": {
             "outlinewidth": 0,
             "ticks": ""
            },
            "type": "mesh3d"
           }
          ],
          "parcoords": [
           {
            "line": {
             "colorbar": {
              "outlinewidth": 0,
              "ticks": ""
             }
            },
            "type": "parcoords"
           }
          ],
          "pie": [
           {
            "automargin": true,
            "type": "pie"
           }
          ],
          "scatter": [
           {
            "fillpattern": {
             "fillmode": "overlay",
             "size": 10,
             "solidity": 0.2
            },
            "type": "scatter"
           }
          ],
          "scatter3d": [
           {
            "line": {
             "colorbar": {
              "outlinewidth": 0,
              "ticks": ""
             }
            },
            "marker": {
             "colorbar": {
              "outlinewidth": 0,
              "ticks": ""
             }
            },
            "type": "scatter3d"
           }
          ],
          "scattercarpet": [
           {
            "marker": {
             "colorbar": {
              "outlinewidth": 0,
              "ticks": ""
             }
            },
            "type": "scattercarpet"
           }
          ],
          "scattergeo": [
           {
            "marker": {
             "colorbar": {
              "outlinewidth": 0,
              "ticks": ""
             }
            },
            "type": "scattergeo"
           }
          ],
          "scattergl": [
           {
            "marker": {
             "colorbar": {
              "outlinewidth": 0,
              "ticks": ""
             }
            },
            "type": "scattergl"
           }
          ],
          "scattermap": [
           {
            "marker": {
             "colorbar": {
              "outlinewidth": 0,
              "ticks": ""
             }
            },
            "type": "scattermap"
           }
          ],
          "scattermapbox": [
           {
            "marker": {
             "colorbar": {
              "outlinewidth": 0,
              "ticks": ""
             }
            },
            "type": "scattermapbox"
           }
          ],
          "scatterpolar": [
           {
            "marker": {
             "colorbar": {
              "outlinewidth": 0,
              "ticks": ""
             }
            },
            "type": "scatterpolar"
           }
          ],
          "scatterpolargl": [
           {
            "marker": {
             "colorbar": {
              "outlinewidth": 0,
              "ticks": ""
             }
            },
            "type": "scatterpolargl"
           }
          ],
          "scatterternary": [
           {
            "marker": {
             "colorbar": {
              "outlinewidth": 0,
              "ticks": ""
             }
            },
            "type": "scatterternary"
           }
          ],
          "surface": [
           {
            "colorbar": {
             "outlinewidth": 0,
             "ticks": ""
            },
            "colorscale": [
             [
              0,
              "#0d0887"
             ],
             [
              0.1111111111111111,
              "#46039f"
             ],
             [
              0.2222222222222222,
              "#7201a8"
             ],
             [
              0.3333333333333333,
              "#9c179e"
             ],
             [
              0.4444444444444444,
              "#bd3786"
             ],
             [
              0.5555555555555556,
              "#d8576b"
             ],
             [
              0.6666666666666666,
              "#ed7953"
             ],
             [
              0.7777777777777778,
              "#fb9f3a"
             ],
             [
              0.8888888888888888,
              "#fdca26"
             ],
             [
              1,
              "#f0f921"
             ]
            ],
            "type": "surface"
           }
          ],
          "table": [
           {
            "cells": {
             "fill": {
              "color": "#EBF0F8"
             },
             "line": {
              "color": "white"
             }
            },
            "header": {
             "fill": {
              "color": "#C8D4E3"
             },
             "line": {
              "color": "white"
             }
            },
            "type": "table"
           }
          ]
         },
         "layout": {
          "annotationdefaults": {
           "arrowcolor": "#2a3f5f",
           "arrowhead": 0,
           "arrowwidth": 1
          },
          "autotypenumbers": "strict",
          "coloraxis": {
           "colorbar": {
            "outlinewidth": 0,
            "ticks": ""
           }
          },
          "colorscale": {
           "diverging": [
            [
             0,
             "#8e0152"
            ],
            [
             0.1,
             "#c51b7d"
            ],
            [
             0.2,
             "#de77ae"
            ],
            [
             0.3,
             "#f1b6da"
            ],
            [
             0.4,
             "#fde0ef"
            ],
            [
             0.5,
             "#f7f7f7"
            ],
            [
             0.6,
             "#e6f5d0"
            ],
            [
             0.7,
             "#b8e186"
            ],
            [
             0.8,
             "#7fbc41"
            ],
            [
             0.9,
             "#4d9221"
            ],
            [
             1,
             "#276419"
            ]
           ],
           "sequential": [
            [
             0,
             "#0d0887"
            ],
            [
             0.1111111111111111,
             "#46039f"
            ],
            [
             0.2222222222222222,
             "#7201a8"
            ],
            [
             0.3333333333333333,
             "#9c179e"
            ],
            [
             0.4444444444444444,
             "#bd3786"
            ],
            [
             0.5555555555555556,
             "#d8576b"
            ],
            [
             0.6666666666666666,
             "#ed7953"
            ],
            [
             0.7777777777777778,
             "#fb9f3a"
            ],
            [
             0.8888888888888888,
             "#fdca26"
            ],
            [
             1,
             "#f0f921"
            ]
           ],
           "sequentialminus": [
            [
             0,
             "#0d0887"
            ],
            [
             0.1111111111111111,
             "#46039f"
            ],
            [
             0.2222222222222222,
             "#7201a8"
            ],
            [
             0.3333333333333333,
             "#9c179e"
            ],
            [
             0.4444444444444444,
             "#bd3786"
            ],
            [
             0.5555555555555556,
             "#d8576b"
            ],
            [
             0.6666666666666666,
             "#ed7953"
            ],
            [
             0.7777777777777778,
             "#fb9f3a"
            ],
            [
             0.8888888888888888,
             "#fdca26"
            ],
            [
             1,
             "#f0f921"
            ]
           ]
          },
          "colorway": [
           "#636efa",
           "#EF553B",
           "#00cc96",
           "#ab63fa",
           "#FFA15A",
           "#19d3f3",
           "#FF6692",
           "#B6E880",
           "#FF97FF",
           "#FECB52"
          ],
          "font": {
           "color": "#2a3f5f"
          },
          "geo": {
           "bgcolor": "white",
           "lakecolor": "white",
           "landcolor": "#E5ECF6",
           "showlakes": true,
           "showland": true,
           "subunitcolor": "white"
          },
          "hoverlabel": {
           "align": "left"
          },
          "hovermode": "closest",
          "mapbox": {
           "style": "light"
          },
          "paper_bgcolor": "white",
          "plot_bgcolor": "#E5ECF6",
          "polar": {
           "angularaxis": {
            "gridcolor": "white",
            "linecolor": "white",
            "ticks": ""
           },
           "bgcolor": "#E5ECF6",
           "radialaxis": {
            "gridcolor": "white",
            "linecolor": "white",
            "ticks": ""
           }
          },
          "scene": {
           "xaxis": {
            "backgroundcolor": "#E5ECF6",
            "gridcolor": "white",
            "gridwidth": 2,
            "linecolor": "white",
            "showbackground": true,
            "ticks": "",
            "zerolinecolor": "white"
           },
           "yaxis": {
            "backgroundcolor": "#E5ECF6",
            "gridcolor": "white",
            "gridwidth": 2,
            "linecolor": "white",
            "showbackground": true,
            "ticks": "",
            "zerolinecolor": "white"
           },
           "zaxis": {
            "backgroundcolor": "#E5ECF6",
            "gridcolor": "white",
            "gridwidth": 2,
            "linecolor": "white",
            "showbackground": true,
            "ticks": "",
            "zerolinecolor": "white"
           }
          },
          "shapedefaults": {
           "line": {
            "color": "#2a3f5f"
           }
          },
          "ternary": {
           "aaxis": {
            "gridcolor": "white",
            "linecolor": "white",
            "ticks": ""
           },
           "baxis": {
            "gridcolor": "white",
            "linecolor": "white",
            "ticks": ""
           },
           "bgcolor": "#E5ECF6",
           "caxis": {
            "gridcolor": "white",
            "linecolor": "white",
            "ticks": ""
           }
          },
          "title": {
           "x": 0.05
          },
          "xaxis": {
           "automargin": true,
           "gridcolor": "white",
           "linecolor": "white",
           "ticks": "",
           "title": {
            "standoff": 15
           },
           "zerolinecolor": "white",
           "zerolinewidth": 2
          },
          "yaxis": {
           "automargin": true,
           "gridcolor": "white",
           "linecolor": "white",
           "ticks": "",
           "title": {
            "standoff": 15
           },
           "zerolinecolor": "white",
           "zerolinewidth": 2
          }
         }
        },
        "xaxis": {
         "anchor": "y",
         "domain": [
          0,
          1
         ],
         "title": {
          "text": "release_year"
         }
        },
        "yaxis": {
         "anchor": "x",
         "domain": [
          0,
          1
         ],
         "title": {
          "text": "counts"
         }
        }
       }
      }
     },
     "metadata": {},
     "output_type": "display_data"
    }
   ],
   "source": [
    "pdf = df.groupby(['release_year', '5g']).size().reset_index(name=\"counts\")\n",
    "px.bar(pdf, x='release_year', y='counts', color='5g')"
   ]
  },
  {
   "cell_type": "markdown",
   "id": "4844133d",
   "metadata": {},
   "source": [
    "Most of the phones adopted 5g technology."
   ]
  },
  {
   "cell_type": "code",
   "execution_count": 11,
   "id": "9b73d6b7",
   "metadata": {},
   "outputs": [
    {
     "data": {
      "application/vnd.plotly.v1+json": {
       "config": {
        "plotlyServerURL": "https://plot.ly"
       },
       "data": [
        {
         "hovertemplate": "brand=Apple<br>price=%{x}<br>popularity_become_fan=%{y}<extra></extra>",
         "legendgroup": "Apple",
         "marker": {
          "color": "#636efa",
          "symbol": "circle"
         },
         "mode": "markers",
         "name": "Apple",
         "orientation": "v",
         "showlegend": true,
         "type": "scatter",
         "x": {
          "bdata": "AAAAAADYhUApXI/C9ZeTQK5H4XoUSpBAUrgehevLjUBxPQrXo9aHQFK4HoXrf4tASOF6FK4hikAfhetRuAaFQDMzMzMzP4JAXI/C9SgkhEAAAAAAAGiCQAAAAAAA+IBAAAAAAACwfEAAAAAAAMBmQAAAAAAACIFAAAAAAACAfEAAAAAAANB1QAAAAAAAoHNAAAAAAACwfEAK16NwPT51QAAAAAAAUHBAAAAAAACgaUCuR+F6FNZgQA==",
          "dtype": "f8"
         },
         "xaxis": "x",
         "y": {
          "bdata": "xgDxAdQAYACkAKUCQAGZAA8BKgO6AbsAywBlAfMD2gFVAr8BKgSZATUCaQIAAw==",
          "dtype": "i2"
         },
         "yaxis": "y"
        },
        {
         "hovertemplate": "brand=Asus<br>price=%{x}<br>popularity_become_fan=%{y}<extra></extra>",
         "legendgroup": "Asus",
         "marker": {
          "color": "#EF553B",
          "symbol": "circle"
         },
         "mode": "markers",
         "name": "Asus",
         "orientation": "v",
         "showlegend": true,
         "type": "scatter",
         "x": {
          "bdata": "7FG4HoXfkEApXI/C9U+UQAAAAAAA4IpAKVyPwvX3kUCamZmZmc+JQK5H4XoU0ZBAuB6F61EWiEAAAAAAANiFQP9YiA6hJoRAcT0K16MYgkAAAAAAADCRQAAAAAAAkIVAAAAAAADgikAAAAAAAHCXQLgehetRfHxAAAAAAAAAiUCkcD0K1991QAAAAAAAQJ9AAAAAAAAYkEAAAAAAANiTQAAAAAAAwHdAAAAAAADgdkAAAAAAAFCUQAAAAAAAQIVAeekmMYhkkEAAAAAAAPCEQAAAAAAAcIxAAAAAAABQhEAAAAAAAOCVQA==",
          "dtype": "f8"
         },
         "xaxis": "x",
         "y": {
          "bdata": "WQDeADAAOQDgAFQBXABCAgIBnQCMADUALAAxAMEC9gCbAAsBegCVAPEANQKEAZIATAFKAasA0wGAAA==",
          "dtype": "i2"
         },
         "yaxis": "y"
        },
        {
         "hovertemplate": "brand=Fairphone<br>price=%{x}<br>popularity_become_fan=%{y}<extra></extra>",
         "legendgroup": "Fairphone",
         "marker": {
          "color": "#00cc96",
          "symbol": "circle"
         },
         "mode": "markers",
         "name": "Fairphone",
         "orientation": "v",
         "showlegend": true,
         "type": "scatter",
         "x": {
          "bdata": "pHA9CtfvfkAAAAAAAAB5QAAAAAAAgHtA",
          "dtype": "f8"
         },
         "xaxis": "x",
         "y": {
          "bdata": "jAB3ADIA",
          "dtype": "i2"
         },
         "yaxis": "y"
        },
        {
         "hovertemplate": "brand=Google<br>price=%{x}<br>popularity_become_fan=%{y}<extra></extra>",
         "legendgroup": "Google",
         "marker": {
          "color": "#ab63fa",
          "symbol": "circle"
         },
         "mode": "markers",
         "name": "Google",
         "orientation": "v",
         "showlegend": true,
         "type": "scatter",
         "x": {
          "bdata": "UrgehevHhUAAAAAAAIiIQPYoXI/Cz4FAhetRuB5BlkCkcD0K1z95QIXrUbgeSYJAFK5H4XrYe0BI4XoUrhuEQBSuR+F60HFA7FG4HoWfcUDsUbgehetrQOF6FK5HAWhAH4XrUbi+bkAzMzMzM2NhQHz0hvtI5mJASOF6FK4fZkDhehSuR5VwQKRwPQrXM1pA",
          "dtype": "f8"
         },
         "xaxis": "x",
         "y": {
          "bdata": "fAFQAbsAgQDOAMQCmQGrAHMBNQMEAngCYwR9AkQBMgMoAccC",
          "dtype": "i2"
         },
         "yaxis": "y"
        },
        {
         "hovertemplate": "brand=Microsoft<br>price=%{x}<br>popularity_become_fan=%{y}<extra></extra>",
         "legendgroup": "Microsoft",
         "marker": {
          "color": "#FFA15A",
          "symbol": "circle"
         },
         "mode": "markers",
         "name": "Microsoft",
         "orientation": "v",
         "showlegend": true,
         "type": "scatter",
         "x": {
          "bdata": "AAAAAAAgl0AAAAAAAFCEQA==",
          "dtype": "f8"
         },
         "xaxis": "x",
         "y": {
          "bdata": "uAC5AA==",
          "dtype": "i2"
         },
         "yaxis": "y"
        },
        {
         "hovertemplate": "brand=Nothing<br>price=%{x}<br>popularity_become_fan=%{y}<extra></extra>",
         "legendgroup": "Nothing",
         "marker": {
          "color": "#19d3f3",
          "symbol": "circle"
         },
         "mode": "markers",
         "name": "Nothing",
         "orientation": "v",
         "showlegend": true,
         "type": "scatter",
         "x": {
          "bdata": "AAAAAACwfEAAAAAAAJB0QAAAAAAAEHdAAAAAAADgaEDNzMzMzCRuQDMzMzMzH3xAAAAAAABgakA=",
          "dtype": "f8"
         },
         "xaxis": "x",
         "y": {
          "bdata": "qgB2AIQA8ABqARQC9QI=",
          "dtype": "i2"
         },
         "yaxis": "y"
        },
        {
         "hovertemplate": "brand=OnePlus<br>price=%{x}<br>popularity_become_fan=%{y}<extra></extra>",
         "legendgroup": "OnePlus",
         "marker": {
          "color": "#FF6692",
          "symbol": "circle"
         },
         "mode": "markers",
         "name": "OnePlus",
         "orientation": "v",
         "showlegend": true,
         "type": "scatter",
         "x": {
          "bdata": "SOF6FK4Hi0AAAAAAACB8QAAAAAAAwHJAAAAAAAA4j0AAAAAAAOR7QAAAAAAAoHlA2c73U+OzcEDUvOMUHdxlQAAAAAAAQHBAYOrnTUW5aUB6pSxDHDh5QArXo3A9bn5AZmZmZmayg0AAAAAAAEB1QAAAAAAAMJFAAAAAAADAd0Cd9L7xtSZnQKRwPQrXd3RApHA9Cte/ckCkcD0K19trQAAAAAAAYHNAIuAQqtRLbEAAAAAAAGB4QBSuR+F6gHxAAAAAAADAbEAAAAAAAEB/QIEIceXsXlpA16NwPQrDcUB7FK5H4cJnQAAAAAAAgHFASOF6FK4/b0AAAAAAAEB1QIhGdxA7pmJApHA9CtfPcUAAAAAAAIB2QMP1KFyP2nhASOF6FK5/ZkB2UInrWF96QMP1KFyPkmtAA3rhzgWuYkC4HoXrUQhiQNejcD0KL2dASOF6FK6fZ0DJdr6fmvuMQAAAAAAAQG9AAAAAAAAAVEAzMzMzMyNgQAAAAAAAAIRAuB6F61GoZEDsUbgehWNsQN5UpMIYeHtAAAAAAAAgh0AAAAAAAFCEQA==",
          "dtype": "f8"
         },
         "xaxis": "x",
         "y": {
          "bdata": "gABPADwA6gH0AHEAJgAPAIQAiAAVAOwA0AJcANkAmACNAPAAOgCAAGMAswBeAC0CGQBZACAA4wCbAEsAZwAqAHsAWAB5AIUCpADDAHUBWADSAHACNAHoAM8AVQAYAncA4ALTA3UBGwAiAA==",
          "dtype": "i2"
         },
         "yaxis": "y"
        },
        {
         "hovertemplate": "brand=Samsung<br>price=%{x}<br>popularity_become_fan=%{y}<extra></extra>",
         "legendgroup": "Samsung",
         "marker": {
          "color": "#B6E880",
          "symbol": "circle"
         },
         "mode": "markers",
         "name": "Samsung",
         "orientation": "v",
         "showlegend": true,
         "type": "scatter",
         "x": {
          "bdata": "3jzVIbcCe0DoE3mS9Dh1QAAAAAAAwHJAxlBOtKsTYEAlOzYC8bhZQMZQTrSrE2BAZ5sb0xNEW0CamZmZmcuQQAAAAAAAuI5AZmZmZmbehUAAAAAAADidQEjhehSuH2FAAAAAAACQZUCF61G4HoF7QAAAAAAAgGtA1T4djxkCU0D93qY/+7dQQAAAAAAAwFhAAAAAAAAAWUCamZmZmYeTQAAAAAAAKIlAAAAAAACgaUD4GRcOhNZlQAAAAAAAAPh/pHA9Ctd/cUDNzMzMzLRyQI/C9Shcd25AzczMzMwcYkAnMQisHAZXQK0vEtpyiF5AAAAAAACIiUDD9Shcj6iDQGZmZmZmWIBArkfhehTubkBcj8L1KARnQGZmZmZm3mlASOF6FK6/ZUCkcD0K1793QAAAAAAAwFpAKVyPwvVkckAi4BCq1EtsQAAAAAAAEIhAPQrXo3AleUD5g4Hn3kpjQGdmZmZmgnZACtejcD36ZUDFVWXfFXdZQAAAAAAAwGdAFK5H4Xpsb0CuR+F6FH5pQCcxCKwcBldA4XoUrkelgUBxPQrXo1qCQAAAAAAAnHdAAAAAAABAX0BI4XoUrj9gQAAAAAAAgFZAAAAAAAAAWUBI4XoUrqdeQAAAAAAAQF1A+u3rwDknSkAAAAAAAPiBQFK4HoXrVXFAexSuR+ESYEAAAAAAAIBmQAAAAAAAwGJAAAAAAACAZkDD9Shcj1Z0QE3zjlN0IFdA4XoUrkdpYUC4HoXrUYhiQAAAAAAAQIBA+THmrqV0gEAUrkfhekRoQDMzMzMzI2BA6lvmdFlaXkD2KFyPws1tQKRwPQrXf3FAT7FqEGZ7YECPwvUoXH9aQK5H4XoUWnhAPQrXo3BNc0AAAAAAAOBuQI/C9ShcE3BAAAAAAACgZ0DNzMzMzHxbQI/C9Shc/1hAAAAAAAAAbkB+Oh4z0DtyQAAAAAAAwGxAAAAAAACAa0AAAAAAAGBhQAAAAAAAgHFAAAAAAABAf0AfhetRuBJwQAAAAAAAAGRAAAAAAABAYEAAAAAAAEBgQAAAAAAAQGVAXI/C9Sg0YEDXo3A9CsdTQFyPwvUoDFhAAAAAAABAcEAAAAAAAIBrQFyPwvUoVGVAAAAAAABAgEAAAAAAAEBgQAAAAAAAAFlAAAAAAAAwc0DXo3A9CkdbQAAAAAAAoGlAZmZmZmb+Y0ApXI/C9fhcQAAAAAAAAPh/AAAAAADgcEAAAAAAAEBgQEjhehSuM3BAAAAAAABQckBI4XoUrr9oQPYoXI/CxVhAAAAAAAAAWUDNzMzMzPxYQAAAAAAAAFRAzczMzMy8Z0AfhetRuC5cQAAAAAAAwGxAAAAAAADAZ0AAAAAAAABpQLgehetRVHBAAAAAAABgeEBI4XoUrjdsQAAAAAAAYH1AAAAAAABgfUAAAAAAAACOQKRwPQrX33ZAAAAAAACIk0AAAAAAAOB6QHE9CtejIHFAAAAAAAAAiUAAAAAAAMByQAAAAAAAgFtAAAAAAAAATkAAAAAAAMBiQAAAAAAAAPh/AAAAAACAW0AAAAAAAIBrQAAAAAAAQGBAAAAAAABAf0CVSKKXUelcQAAAAAAAgGZAO/922a93SUAAAAAAAIBbQNejcD0Kv2VAAAAAAAAgckAAAAAAAMBnQAAAAAAAAGRAAAAAAABgc0AAAAAAAMB3QAAAAAAAkIVApHA9CtffdUDNzMzMzLxiQAAAAAAAgItApHA9CtefdEAAAAAAAABoQAAAAAAAEIhAAAAAAAAAXkAAAAAAADCBQAAAAAAAwHdAAAAAAAAAaUBI4XoUrj9vQAAAAAAA4I9AAAAAAAAAXkA=",
          "dtype": "f8"
         },
         "xaxis": "x",
         "y": {
          "bdata": "8QCMAD8AHQARACAAGQAvA7wA/QCeAFQAgwA8ATkAEgAYAGUAHADvAMQAYwBeAGQAeQBvA5kBRwAWADAAeQbjAQACRgDzAK8A+ACmAa0AcQA7ABMBJAGAAIgA4wBHAK4AAATqAVkAEwcdAkcDoQAEARgAHQBPAH4AVgBBASMBtQAjABwAPACJADIAMQCpAHcAlALDAoMBdQCPAG8A5QDtAHIH6QGdAtcDfgB6AGAAPgBDAT4ARwCaAKwEWgFVARgAQgBTAEEAiQCyAM8AWwBgAFgA1AA6ABYAIAI8AoQCYgB8ARYBNwFIAC4HLwLcAuoAOACYASkAVgCZADYAQgBuAIUDuwG/AMkCWgApARAFcgG1ALwAhgBYASAAHgBTAGYAQwBSATUAeQDqAMYAYgB9ADcBtAALAbgA4AGaBEwBfQG3AUMAQQEoAhcBrACkAf4BgwAfA1UADQA=",
          "dtype": "i2"
         },
         "yaxis": "y"
        },
        {
         "hovertemplate": "brand=Sony<br>price=%{x}<br>popularity_become_fan=%{y}<extra></extra>",
         "legendgroup": "Sony",
         "marker": {
          "color": "#FF97FF",
          "symbol": "circle"
         },
         "mode": "markers",
         "name": "Sony",
         "orientation": "v",
         "showlegend": true,
         "type": "scatter",
         "x": {
          "bdata": "mpmZmZl7kEDhehSuR1lwQFK4HoXr74VArhBWY6ljhkAzMzMzM99zQAAAAAAAnItAAAAAAAAYh0AAAAAAAABtQAAAAAAAEI1AAAAAAAAgd0BSuB6F67+CQAAAAAAAcHFAKVyPwvUAZEAAAAAAAECfQAAAAAAAUIRAAAAAAADghUAAAAAAAOCFQAAAAAAAAGlA",
          "dtype": "f8"
         },
         "xaxis": "x",
         "y": {
          "bdata": "9wGVAFgBsALiALQBoQIOAU0CfgAHBGsCdAFnAd8CXwVZAYkA",
          "dtype": "i2"
         },
         "yaxis": "y"
        },
        {
         "hovertemplate": "brand=Xiaomi<br>price=%{x}<br>popularity_become_fan=%{y}<extra></extra>",
         "legendgroup": "Xiaomi",
         "marker": {
          "color": "#FECB52",
          "symbol": "circle"
         },
         "mode": "markers",
         "name": "Xiaomi",
         "orientation": "v",
         "showlegend": true,
         "type": "scatter",
         "x": {
          "bdata": "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",
          "dtype": "f8"
         },
         "xaxis": "x",
         "y": {
          "bdata": "dwEcARAAjgBEAC0ARAA8AC8BOwAVAAMAmAAlABEARgB3AEUBogBqAF8BHQAcAA0ANwHHADkADwA5AB8AcQC0AGQALgAhAGQARQAUAA8BbgERABMBCwB7AD0AIwJIAkEAmQDCAJwCygIPAWoCBwHCAB8AEgAsAOcAdgBiADQAiwBDAP4BmQFeAV4A8QCFAEsAaQArAC8ApQBhAHQAgAEyAyECDgBqAHEAeQEZABgA6gB7AhcCuwAOAIkBiAAaAQoAegDnAEgAtwBZAIcApgESAj4AtgHoAAsAFwBoAB0AFQAaAG8AmQAJAAwAGgCmAL8ATgAkAQoCnQCCAFgAXQHjADAAdAB7ABkAFQAhAH0BXgAZAOcATABFADAANgA1AMoBxgCTAE8AbALWASUBCwCaAEEAQgAaAFABiQCkAEUAVwHmAJIAAAJuAGIAQgAuAMQAdgFkAH8AMQA0ANQACwATABgAEAB/AnIBUAE/AOAADQIZASgBLQBpAFEA3QBQAakAhAAbAAABpQR8Ac8AtAF1AeQAvgCrBEUF3QD/BdgAXQFaAisBTwDRAOIA4QC0AEIBuQB3A1gARAF0AEoAtQG2ADMApgKxASYBGgAeADUACwGxAxwA/gIZAUQAewCzAMAAKwCXAKwB5ACOAGYAWADvAmkAWAOOAcEBxQA2AQsBZAEyAkgBtwCzAbwAAwPqASgAJQBeAfsAJQAXAAsARAAoADgAIQAYAKoAPgA=",
          "dtype": "i2"
         },
         "yaxis": "y"
        }
       ],
       "layout": {
        "legend": {
         "title": {
          "text": "brand"
         },
         "tracegroupgap": 0
        },
        "margin": {
         "t": 60
        },
        "template": {
         "data": {
          "bar": [
           {
            "error_x": {
             "color": "#2a3f5f"
            },
            "error_y": {
             "color": "#2a3f5f"
            },
            "marker": {
             "line": {
              "color": "#E5ECF6",
              "width": 0.5
             },
             "pattern": {
              "fillmode": "overlay",
              "size": 10,
              "solidity": 0.2
             }
            },
            "type": "bar"
           }
          ],
          "barpolar": [
           {
            "marker": {
             "line": {
              "color": "#E5ECF6",
              "width": 0.5
             },
             "pattern": {
              "fillmode": "overlay",
              "size": 10,
              "solidity": 0.2
             }
            },
            "type": "barpolar"
           }
          ],
          "carpet": [
           {
            "aaxis": {
             "endlinecolor": "#2a3f5f",
             "gridcolor": "white",
             "linecolor": "white",
             "minorgridcolor": "white",
             "startlinecolor": "#2a3f5f"
            },
            "baxis": {
             "endlinecolor": "#2a3f5f",
             "gridcolor": "white",
             "linecolor": "white",
             "minorgridcolor": "white",
             "startlinecolor": "#2a3f5f"
            },
            "type": "carpet"
           }
          ],
          "choropleth": [
           {
            "colorbar": {
             "outlinewidth": 0,
             "ticks": ""
            },
            "type": "choropleth"
           }
          ],
          "contour": [
           {
            "colorbar": {
             "outlinewidth": 0,
             "ticks": ""
            },
            "colorscale": [
             [
              0,
              "#0d0887"
             ],
             [
              0.1111111111111111,
              "#46039f"
             ],
             [
              0.2222222222222222,
              "#7201a8"
             ],
             [
              0.3333333333333333,
              "#9c179e"
             ],
             [
              0.4444444444444444,
              "#bd3786"
             ],
             [
              0.5555555555555556,
              "#d8576b"
             ],
             [
              0.6666666666666666,
              "#ed7953"
             ],
             [
              0.7777777777777778,
              "#fb9f3a"
             ],
             [
              0.8888888888888888,
              "#fdca26"
             ],
             [
              1,
              "#f0f921"
             ]
            ],
            "type": "contour"
           }
          ],
          "contourcarpet": [
           {
            "colorbar": {
             "outlinewidth": 0,
             "ticks": ""
            },
            "type": "contourcarpet"
           }
          ],
          "heatmap": [
           {
            "colorbar": {
             "outlinewidth": 0,
             "ticks": ""
            },
            "colorscale": [
             [
              0,
              "#0d0887"
             ],
             [
              0.1111111111111111,
              "#46039f"
             ],
             [
              0.2222222222222222,
              "#7201a8"
             ],
             [
              0.3333333333333333,
              "#9c179e"
             ],
             [
              0.4444444444444444,
              "#bd3786"
             ],
             [
              0.5555555555555556,
              "#d8576b"
             ],
             [
              0.6666666666666666,
              "#ed7953"
             ],
             [
              0.7777777777777778,
              "#fb9f3a"
             ],
             [
              0.8888888888888888,
              "#fdca26"
             ],
             [
              1,
              "#f0f921"
             ]
            ],
            "type": "heatmap"
           }
          ],
          "histogram": [
           {
            "marker": {
             "pattern": {
              "fillmode": "overlay",
              "size": 10,
              "solidity": 0.2
             }
            },
            "type": "histogram"
           }
          ],
          "histogram2d": [
           {
            "colorbar": {
             "outlinewidth": 0,
             "ticks": ""
            },
            "colorscale": [
             [
              0,
              "#0d0887"
             ],
             [
              0.1111111111111111,
              "#46039f"
             ],
             [
              0.2222222222222222,
              "#7201a8"
             ],
             [
              0.3333333333333333,
              "#9c179e"
             ],
             [
              0.4444444444444444,
              "#bd3786"
             ],
             [
              0.5555555555555556,
              "#d8576b"
             ],
             [
              0.6666666666666666,
              "#ed7953"
             ],
             [
              0.7777777777777778,
              "#fb9f3a"
             ],
             [
              0.8888888888888888,
              "#fdca26"
             ],
             [
              1,
              "#f0f921"
             ]
            ],
            "type": "histogram2d"
           }
          ],
          "histogram2dcontour": [
           {
            "colorbar": {
             "outlinewidth": 0,
             "ticks": ""
            },
            "colorscale": [
             [
              0,
              "#0d0887"
             ],
             [
              0.1111111111111111,
              "#46039f"
             ],
             [
              0.2222222222222222,
              "#7201a8"
             ],
             [
              0.3333333333333333,
              "#9c179e"
             ],
             [
              0.4444444444444444,
              "#bd3786"
             ],
             [
              0.5555555555555556,
              "#d8576b"
             ],
             [
              0.6666666666666666,
              "#ed7953"
             ],
             [
              0.7777777777777778,
              "#fb9f3a"
             ],
             [
              0.8888888888888888,
              "#fdca26"
             ],
             [
              1,
              "#f0f921"
             ]
            ],
            "type": "histogram2dcontour"
           }
          ],
          "mesh3d": [
           {
            "colorbar": {
             "outlinewidth": 0,
             "ticks": ""
            },
            "type": "mesh3d"
           }
          ],
          "parcoords": [
           {
            "line": {
             "colorbar": {
              "outlinewidth": 0,
              "ticks": ""
             }
            },
            "type": "parcoords"
           }
          ],
          "pie": [
           {
            "automargin": true,
            "type": "pie"
           }
          ],
          "scatter": [
           {
            "fillpattern": {
             "fillmode": "overlay",
             "size": 10,
             "solidity": 0.2
            },
            "type": "scatter"
           }
          ],
          "scatter3d": [
           {
            "line": {
             "colorbar": {
              "outlinewidth": 0,
              "ticks": ""
             }
            },
            "marker": {
             "colorbar": {
              "outlinewidth": 0,
              "ticks": ""
             }
            },
            "type": "scatter3d"
           }
          ],
          "scattercarpet": [
           {
            "marker": {
             "colorbar": {
              "outlinewidth": 0,
              "ticks": ""
             }
            },
            "type": "scattercarpet"
           }
          ],
          "scattergeo": [
           {
            "marker": {
             "colorbar": {
              "outlinewidth": 0,
              "ticks": ""
             }
            },
            "type": "scattergeo"
           }
          ],
          "scattergl": [
           {
            "marker": {
             "colorbar": {
              "outlinewidth": 0,
              "ticks": ""
             }
            },
            "type": "scattergl"
           }
          ],
          "scattermap": [
           {
            "marker": {
             "colorbar": {
              "outlinewidth": 0,
              "ticks": ""
             }
            },
            "type": "scattermap"
           }
          ],
          "scattermapbox": [
           {
            "marker": {
             "colorbar": {
              "outlinewidth": 0,
              "ticks": ""
             }
            },
            "type": "scattermapbox"
           }
          ],
          "scatterpolar": [
           {
            "marker": {
             "colorbar": {
              "outlinewidth": 0,
              "ticks": ""
             }
            },
            "type": "scatterpolar"
           }
          ],
          "scatterpolargl": [
           {
            "marker": {
             "colorbar": {
              "outlinewidth": 0,
              "ticks": ""
             }
            },
            "type": "scatterpolargl"
           }
          ],
          "scatterternary": [
           {
            "marker": {
             "colorbar": {
              "outlinewidth": 0,
              "ticks": ""
             }
            },
            "type": "scatterternary"
           }
          ],
          "surface": [
           {
            "colorbar": {
             "outlinewidth": 0,
             "ticks": ""
            },
            "colorscale": [
             [
              0,
              "#0d0887"
             ],
             [
              0.1111111111111111,
              "#46039f"
             ],
             [
              0.2222222222222222,
              "#7201a8"
             ],
             [
              0.3333333333333333,
              "#9c179e"
             ],
             [
              0.4444444444444444,
              "#bd3786"
             ],
             [
              0.5555555555555556,
              "#d8576b"
             ],
             [
              0.6666666666666666,
              "#ed7953"
             ],
             [
              0.7777777777777778,
              "#fb9f3a"
             ],
             [
              0.8888888888888888,
              "#fdca26"
             ],
             [
              1,
              "#f0f921"
             ]
            ],
            "type": "surface"
           }
          ],
          "table": [
           {
            "cells": {
             "fill": {
              "color": "#EBF0F8"
             },
             "line": {
              "color": "white"
             }
            },
            "header": {
             "fill": {
              "color": "#C8D4E3"
             },
             "line": {
              "color": "white"
             }
            },
            "type": "table"
           }
          ]
         },
         "layout": {
          "annotationdefaults": {
           "arrowcolor": "#2a3f5f",
           "arrowhead": 0,
           "arrowwidth": 1
          },
          "autotypenumbers": "strict",
          "coloraxis": {
           "colorbar": {
            "outlinewidth": 0,
            "ticks": ""
           }
          },
          "colorscale": {
           "diverging": [
            [
             0,
             "#8e0152"
            ],
            [
             0.1,
             "#c51b7d"
            ],
            [
             0.2,
             "#de77ae"
            ],
            [
             0.3,
             "#f1b6da"
            ],
            [
             0.4,
             "#fde0ef"
            ],
            [
             0.5,
             "#f7f7f7"
            ],
            [
             0.6,
             "#e6f5d0"
            ],
            [
             0.7,
             "#b8e186"
            ],
            [
             0.8,
             "#7fbc41"
            ],
            [
             0.9,
             "#4d9221"
            ],
            [
             1,
             "#276419"
            ]
           ],
           "sequential": [
            [
             0,
             "#0d0887"
            ],
            [
             0.1111111111111111,
             "#46039f"
            ],
            [
             0.2222222222222222,
             "#7201a8"
            ],
            [
             0.3333333333333333,
             "#9c179e"
            ],
            [
             0.4444444444444444,
             "#bd3786"
            ],
            [
             0.5555555555555556,
             "#d8576b"
            ],
            [
             0.6666666666666666,
             "#ed7953"
            ],
            [
             0.7777777777777778,
             "#fb9f3a"
            ],
            [
             0.8888888888888888,
             "#fdca26"
            ],
            [
             1,
             "#f0f921"
            ]
           ],
           "sequentialminus": [
            [
             0,
             "#0d0887"
            ],
            [
             0.1111111111111111,
             "#46039f"
            ],
            [
             0.2222222222222222,
             "#7201a8"
            ],
            [
             0.3333333333333333,
             "#9c179e"
            ],
            [
             0.4444444444444444,
             "#bd3786"
            ],
            [
             0.5555555555555556,
             "#d8576b"
            ],
            [
             0.6666666666666666,
             "#ed7953"
            ],
            [
             0.7777777777777778,
             "#fb9f3a"
            ],
            [
             0.8888888888888888,
             "#fdca26"
            ],
            [
             1,
             "#f0f921"
            ]
           ]
          },
          "colorway": [
           "#636efa",
           "#EF553B",
           "#00cc96",
           "#ab63fa",
           "#FFA15A",
           "#19d3f3",
           "#FF6692",
           "#B6E880",
           "#FF97FF",
           "#FECB52"
          ],
          "font": {
           "color": "#2a3f5f"
          },
          "geo": {
           "bgcolor": "white",
           "lakecolor": "white",
           "landcolor": "#E5ECF6",
           "showlakes": true,
           "showland": true,
           "subunitcolor": "white"
          },
          "hoverlabel": {
           "align": "left"
          },
          "hovermode": "closest",
          "mapbox": {
           "style": "light"
          },
          "paper_bgcolor": "white",
          "plot_bgcolor": "#E5ECF6",
          "polar": {
           "angularaxis": {
            "gridcolor": "white",
            "linecolor": "white",
            "ticks": ""
           },
           "bgcolor": "#E5ECF6",
           "radialaxis": {
            "gridcolor": "white",
            "linecolor": "white",
            "ticks": ""
           }
          },
          "scene": {
           "xaxis": {
            "backgroundcolor": "#E5ECF6",
            "gridcolor": "white",
            "gridwidth": 2,
            "linecolor": "white",
            "showbackground": true,
            "ticks": "",
            "zerolinecolor": "white"
           },
           "yaxis": {
            "backgroundcolor": "#E5ECF6",
            "gridcolor": "white",
            "gridwidth": 2,
            "linecolor": "white",
            "showbackground": true,
            "ticks": "",
            "zerolinecolor": "white"
           },
           "zaxis": {
            "backgroundcolor": "#E5ECF6",
            "gridcolor": "white",
            "gridwidth": 2,
            "linecolor": "white",
            "showbackground": true,
            "ticks": "",
            "zerolinecolor": "white"
           }
          },
          "shapedefaults": {
           "line": {
            "color": "#2a3f5f"
           }
          },
          "ternary": {
           "aaxis": {
            "gridcolor": "white",
            "linecolor": "white",
            "ticks": ""
           },
           "baxis": {
            "gridcolor": "white",
            "linecolor": "white",
            "ticks": ""
           },
           "bgcolor": "#E5ECF6",
           "caxis": {
            "gridcolor": "white",
            "linecolor": "white",
            "ticks": ""
           }
          },
          "title": {
           "x": 0.05
          },
          "xaxis": {
           "automargin": true,
           "gridcolor": "white",
           "linecolor": "white",
           "ticks": "",
           "title": {
            "standoff": 15
           },
           "zerolinecolor": "white",
           "zerolinewidth": 2
          },
          "yaxis": {
           "automargin": true,
           "gridcolor": "white",
           "linecolor": "white",
           "ticks": "",
           "title": {
            "standoff": 15
           },
           "zerolinecolor": "white",
           "zerolinewidth": 2
          }
         }
        },
        "xaxis": {
         "anchor": "y",
         "domain": [
          0,
          1
         ],
         "title": {
          "text": "price"
         }
        },
        "yaxis": {
         "anchor": "x",
         "domain": [
          0,
          1
         ],
         "title": {
          "text": "popularity_become_fan"
         }
        }
       }
      }
     },
     "metadata": {},
     "output_type": "display_data"
    }
   ],
   "source": [
    "px.scatter(df, x='price', y='popularity_become_fan', color='brand')"
   ]
  },
  {
   "cell_type": "markdown",
   "id": "64c6a7f4",
   "metadata": {},
   "source": [
    "Samsung phones have recieved the most number of likes in mid price segment"
   ]
  },
  {
   "cell_type": "code",
   "execution_count": 12,
   "id": "63e14546",
   "metadata": {},
   "outputs": [
    {
     "data": {
      "application/vnd.plotly.v1+json": {
       "config": {
        "plotlyServerURL": "https://plot.ly"
       },
       "data": [
        {
         "alignmentgroup": "True",
         "customdata": {
          "bdata": "AAAAAAAA8D9qvHSTGASmPwAAAAAAABRALbKd76fGyz8AAAAAAAAkQNejcD0K19s/AAAAAAAAHEDb+X5qvHTTPwAAAAAAAAhAke18PzVeuj8AAAAAAAAgQESLbOf7qdE/AAAAAAAAHEAMAiuHFtnOPwAAAAAAACBARIts5/up0T8AAAAAAAAIQJHtfD81Xro/AAAAAAAA8D8dWmQ730/VPwAAAAAAAABA8tJNYhBY5T8AAAAAAAAQQNEi2/l+asw/AAAAAAAAHEBMN4lBYOXYPwAAAAAAABBA0SLb+X5qzD8AAAAAAAAIQMdLN4lBYMU/AAAAAAAA8D8AAAAAAADgPwAAAAAAAPA/AAAAAAAA4D8AAAAAAADwP+f7qfHSTcI/AAAAAAAAGEAGgZVDi2zrPwAAAAAAABRAqvHSTWIQuD8AAAAAAAAgQIcW2c73U8M/AAAAAAAAOUBoke18PzXePwAAAAAAACxATDeJQWDl0D8AAAAAAADwP9v5fmq8dJM/AAAAAAAAEEBaZDvfT42XPwAAAAAAACJAObTIdr6fqj8AAAAAAAAsQCPb+X5qvLQ/AAAAAAAATkC8dJMYBFbWPwAAAAAAAEFA8tJNYhBYyT8AAAAAAIBBQJZDi2zn+8k/AAAAAAAALkASg8DKoUW2PwAAAAAAAPA/+n5qvHSTeD8AAAAAAADwP3npJjEIrKw/AAAAAAAA8D956SYxCKysPwAAAAAAABBA0SLb+X5qzD8AAAAAAAAYQB1aZDvfT9U/AAAAAAAAGEAdWmQ730/VPwAAAAAAADJApHA9CtejsD8AAAAAAAAiQPyp8dJNYqA/AAAAAACAUUD+1HjpJjHQPwAAAAAAAFNA8KfGSzeJ0T8AAAAAAMBSQPLSTWIQWNE/AAAAAAAAPUDhehSuR+G6Pw==",
          "dtype": "f8",
          "shape": "43, 2"
         },
         "hovertemplate": "brand=%{x}<br>internal_ram_gb=%{y}<br>counts=%{customdata[0]}<br>Proportion within Brand=%{marker.color}<extra></extra>",
         "legendgroup": "",
         "marker": {
          "color": {
           "bdata": "arx0kxgEpj8tsp3vp8bLP9ejcD0K19s/2/l+arx00z+R7Xw/NV66P0SLbOf7qdE/DAIrhxbZzj9Ei2zn+6nRP5HtfD81Xro/HVpkO99P1T/y0k1iEFjlP9Ei2/l+asw/TDeJQWDl2D/RItv5fmrMP8dLN4lBYMU/AAAAAAAA4D8AAAAAAADgP+f7qfHSTcI/BoGVQ4ts6z+q8dJNYhC4P4cW2c73U8M/aJHtfD813j9MN4lBYOXQP9v5fmq8dJM/WmQ730+Nlz85tMh2vp+qPyPb+X5qvLQ/vHSTGARW1j/y0k1iEFjJP5ZDi2zn+8k/EoPAyqFFtj/6fmq8dJN4P3npJjEIrKw/eekmMQisrD/RItv5fmrMPx1aZDvfT9U/HVpkO99P1T+kcD0K16OwP/yp8dJNYqA//tR46SYx0D/wp8ZLN4nRP/LSTWIQWNE/4XoUrkfhuj8=",
           "dtype": "f8"
          },
          "coloraxis": "coloraxis",
          "pattern": {
           "shape": ""
          }
         },
         "name": "",
         "offsetgroup": "",
         "orientation": "v",
         "showlegend": false,
         "textposition": "auto",
         "type": "bar",
         "x": [
          "Apple",
          "Apple",
          "Apple",
          "Apple",
          "Asus",
          "Asus",
          "Asus",
          "Asus",
          "Asus",
          "Fairphone",
          "Fairphone",
          "Google",
          "Google",
          "Google",
          "Google",
          "Microsoft",
          "Microsoft",
          "Nothing",
          "Nothing",
          "OnePlus",
          "OnePlus",
          "OnePlus",
          "OnePlus",
          "OnePlus",
          "Samsung",
          "Samsung",
          "Samsung",
          "Samsung",
          "Samsung",
          "Samsung",
          "Samsung",
          "Samsung",
          "Sony",
          "Sony",
          "Sony",
          "Sony",
          "Sony",
          "Xiaomi",
          "Xiaomi",
          "Xiaomi",
          "Xiaomi",
          "Xiaomi",
          "Xiaomi"
         ],
         "xaxis": "x",
         "y": {
          "bdata": "AAAAAAAACEAAAAAAAAAQQAAAAAAAABhAAAAAAAAAIEAAAAAAAAAYQAAAAAAAACBAAAAAAAAAKEAAAAAAAAAwQAAAAAAAADJAAAAAAAAAEEAAAAAAAAAYQAAAAAAAABhAAAAAAAAAIEAAAAAAAAAoQAAAAAAAADBAAAAAAAAAGEAAAAAAAAAgQAAAAAAAABhAAAAAAAAAIEAAAAAAAAAQQAAAAAAAABhAAAAAAAAAIEAAAAAAAAAoQAAAAAAAADBAAAAAAAAA8D8AAAAAAAAAQAAAAAAAAAhAAAAAAAAAEEAAAAAAAAAYQAAAAAAAACBAAAAAAAAAKEAAAAAAAAAwQAAAAAAAAAhAAAAAAAAAEEAAAAAAAAAYQAAAAAAAACBAAAAAAAAAKEAAAAAAAAAAQAAAAAAAAAhAAAAAAAAAEEAAAAAAAAAYQAAAAAAAACBAAAAAAAAAKEA=",
          "dtype": "f8"
         },
         "yaxis": "y"
        }
       ],
       "layout": {
        "barmode": "group",
        "coloraxis": {
         "colorbar": {
          "title": {
           "text": "Proportion within Brand"
          }
         },
         "colorscale": [
          [
           0,
           "#0d0887"
          ],
          [
           0.1111111111111111,
           "#46039f"
          ],
          [
           0.2222222222222222,
           "#7201a8"
          ],
          [
           0.3333333333333333,
           "#9c179e"
          ],
          [
           0.4444444444444444,
           "#bd3786"
          ],
          [
           0.5555555555555556,
           "#d8576b"
          ],
          [
           0.6666666666666666,
           "#ed7953"
          ],
          [
           0.7777777777777778,
           "#fb9f3a"
          ],
          [
           0.8888888888888888,
           "#fdca26"
          ],
          [
           1,
           "#f0f921"
          ]
         ]
        },
        "legend": {
         "tracegroupgap": 0
        },
        "template": {
         "data": {
          "bar": [
           {
            "error_x": {
             "color": "#2a3f5f"
            },
            "error_y": {
             "color": "#2a3f5f"
            },
            "marker": {
             "line": {
              "color": "#E5ECF6",
              "width": 0.5
             },
             "pattern": {
              "fillmode": "overlay",
              "size": 10,
              "solidity": 0.2
             }
            },
            "type": "bar"
           }
          ],
          "barpolar": [
           {
            "marker": {
             "line": {
              "color": "#E5ECF6",
              "width": 0.5
             },
             "pattern": {
              "fillmode": "overlay",
              "size": 10,
              "solidity": 0.2
             }
            },
            "type": "barpolar"
           }
          ],
          "carpet": [
           {
            "aaxis": {
             "endlinecolor": "#2a3f5f",
             "gridcolor": "white",
             "linecolor": "white",
             "minorgridcolor": "white",
             "startlinecolor": "#2a3f5f"
            },
            "baxis": {
             "endlinecolor": "#2a3f5f",
             "gridcolor": "white",
             "linecolor": "white",
             "minorgridcolor": "white",
             "startlinecolor": "#2a3f5f"
            },
            "type": "carpet"
           }
          ],
          "choropleth": [
           {
            "colorbar": {
             "outlinewidth": 0,
             "ticks": ""
            },
            "type": "choropleth"
           }
          ],
          "contour": [
           {
            "colorbar": {
             "outlinewidth": 0,
             "ticks": ""
            },
            "colorscale": [
             [
              0,
              "#0d0887"
             ],
             [
              0.1111111111111111,
              "#46039f"
             ],
             [
              0.2222222222222222,
              "#7201a8"
             ],
             [
              0.3333333333333333,
              "#9c179e"
             ],
             [
              0.4444444444444444,
              "#bd3786"
             ],
             [
              0.5555555555555556,
              "#d8576b"
             ],
             [
              0.6666666666666666,
              "#ed7953"
             ],
             [
              0.7777777777777778,
              "#fb9f3a"
             ],
             [
              0.8888888888888888,
              "#fdca26"
             ],
             [
              1,
              "#f0f921"
             ]
            ],
            "type": "contour"
           }
          ],
          "contourcarpet": [
           {
            "colorbar": {
             "outlinewidth": 0,
             "ticks": ""
            },
            "type": "contourcarpet"
           }
          ],
          "heatmap": [
           {
            "colorbar": {
             "outlinewidth": 0,
             "ticks": ""
            },
            "colorscale": [
             [
              0,
              "#0d0887"
             ],
             [
              0.1111111111111111,
              "#46039f"
             ],
             [
              0.2222222222222222,
              "#7201a8"
             ],
             [
              0.3333333333333333,
              "#9c179e"
             ],
             [
              0.4444444444444444,
              "#bd3786"
             ],
             [
              0.5555555555555556,
              "#d8576b"
             ],
             [
              0.6666666666666666,
              "#ed7953"
             ],
             [
              0.7777777777777778,
              "#fb9f3a"
             ],
             [
              0.8888888888888888,
              "#fdca26"
             ],
             [
              1,
              "#f0f921"
             ]
            ],
            "type": "heatmap"
           }
          ],
          "histogram": [
           {
            "marker": {
             "pattern": {
              "fillmode": "overlay",
              "size": 10,
              "solidity": 0.2
             }
            },
            "type": "histogram"
           }
          ],
          "histogram2d": [
           {
            "colorbar": {
             "outlinewidth": 0,
             "ticks": ""
            },
            "colorscale": [
             [
              0,
              "#0d0887"
             ],
             [
              0.1111111111111111,
              "#46039f"
             ],
             [
              0.2222222222222222,
              "#7201a8"
             ],
             [
              0.3333333333333333,
              "#9c179e"
             ],
             [
              0.4444444444444444,
              "#bd3786"
             ],
             [
              0.5555555555555556,
              "#d8576b"
             ],
             [
              0.6666666666666666,
              "#ed7953"
             ],
             [
              0.7777777777777778,
              "#fb9f3a"
             ],
             [
              0.8888888888888888,
              "#fdca26"
             ],
             [
              1,
              "#f0f921"
             ]
            ],
            "type": "histogram2d"
           }
          ],
          "histogram2dcontour": [
           {
            "colorbar": {
             "outlinewidth": 0,
             "ticks": ""
            },
            "colorscale": [
             [
              0,
              "#0d0887"
             ],
             [
              0.1111111111111111,
              "#46039f"
             ],
             [
              0.2222222222222222,
              "#7201a8"
             ],
             [
              0.3333333333333333,
              "#9c179e"
             ],
             [
              0.4444444444444444,
              "#bd3786"
             ],
             [
              0.5555555555555556,
              "#d8576b"
             ],
             [
              0.6666666666666666,
              "#ed7953"
             ],
             [
              0.7777777777777778,
              "#fb9f3a"
             ],
             [
              0.8888888888888888,
              "#fdca26"
             ],
             [
              1,
              "#f0f921"
             ]
            ],
            "type": "histogram2dcontour"
           }
          ],
          "mesh3d": [
           {
            "colorbar": {
             "outlinewidth": 0,
             "ticks": ""
            },
            "type": "mesh3d"
           }
          ],
          "parcoords": [
           {
            "line": {
             "colorbar": {
              "outlinewidth": 0,
              "ticks": ""
             }
            },
            "type": "parcoords"
           }
          ],
          "pie": [
           {
            "automargin": true,
            "type": "pie"
           }
          ],
          "scatter": [
           {
            "fillpattern": {
             "fillmode": "overlay",
             "size": 10,
             "solidity": 0.2
            },
            "type": "scatter"
           }
          ],
          "scatter3d": [
           {
            "line": {
             "colorbar": {
              "outlinewidth": 0,
              "ticks": ""
             }
            },
            "marker": {
             "colorbar": {
              "outlinewidth": 0,
              "ticks": ""
             }
            },
            "type": "scatter3d"
           }
          ],
          "scattercarpet": [
           {
            "marker": {
             "colorbar": {
              "outlinewidth": 0,
              "ticks": ""
             }
            },
            "type": "scattercarpet"
           }
          ],
          "scattergeo": [
           {
            "marker": {
             "colorbar": {
              "outlinewidth": 0,
              "ticks": ""
             }
            },
            "type": "scattergeo"
           }
          ],
          "scattergl": [
           {
            "marker": {
             "colorbar": {
              "outlinewidth": 0,
              "ticks": ""
             }
            },
            "type": "scattergl"
           }
          ],
          "scattermap": [
           {
            "marker": {
             "colorbar": {
              "outlinewidth": 0,
              "ticks": ""
             }
            },
            "type": "scattermap"
           }
          ],
          "scattermapbox": [
           {
            "marker": {
             "colorbar": {
              "outlinewidth": 0,
              "ticks": ""
             }
            },
            "type": "scattermapbox"
           }
          ],
          "scatterpolar": [
           {
            "marker": {
             "colorbar": {
              "outlinewidth": 0,
              "ticks": ""
             }
            },
            "type": "scatterpolar"
           }
          ],
          "scatterpolargl": [
           {
            "marker": {
             "colorbar": {
              "outlinewidth": 0,
              "ticks": ""
             }
            },
            "type": "scatterpolargl"
           }
          ],
          "scatterternary": [
           {
            "marker": {
             "colorbar": {
              "outlinewidth": 0,
              "ticks": ""
             }
            },
            "type": "scatterternary"
           }
          ],
          "surface": [
           {
            "colorbar": {
             "outlinewidth": 0,
             "ticks": ""
            },
            "colorscale": [
             [
              0,
              "#0d0887"
             ],
             [
              0.1111111111111111,
              "#46039f"
             ],
             [
              0.2222222222222222,
              "#7201a8"
             ],
             [
              0.3333333333333333,
              "#9c179e"
             ],
             [
              0.4444444444444444,
              "#bd3786"
             ],
             [
              0.5555555555555556,
              "#d8576b"
             ],
             [
              0.6666666666666666,
              "#ed7953"
             ],
             [
              0.7777777777777778,
              "#fb9f3a"
             ],
             [
              0.8888888888888888,
              "#fdca26"
             ],
             [
              1,
              "#f0f921"
             ]
            ],
            "type": "surface"
           }
          ],
          "table": [
           {
            "cells": {
             "fill": {
              "color": "#EBF0F8"
             },
             "line": {
              "color": "white"
             }
            },
            "header": {
             "fill": {
              "color": "#C8D4E3"
             },
             "line": {
              "color": "white"
             }
            },
            "type": "table"
           }
          ]
         },
         "layout": {
          "annotationdefaults": {
           "arrowcolor": "#2a3f5f",
           "arrowhead": 0,
           "arrowwidth": 1
          },
          "autotypenumbers": "strict",
          "coloraxis": {
           "colorbar": {
            "outlinewidth": 0,
            "ticks": ""
           }
          },
          "colorscale": {
           "diverging": [
            [
             0,
             "#8e0152"
            ],
            [
             0.1,
             "#c51b7d"
            ],
            [
             0.2,
             "#de77ae"
            ],
            [
             0.3,
             "#f1b6da"
            ],
            [
             0.4,
             "#fde0ef"
            ],
            [
             0.5,
             "#f7f7f7"
            ],
            [
             0.6,
             "#e6f5d0"
            ],
            [
             0.7,
             "#b8e186"
            ],
            [
             0.8,
             "#7fbc41"
            ],
            [
             0.9,
             "#4d9221"
            ],
            [
             1,
             "#276419"
            ]
           ],
           "sequential": [
            [
             0,
             "#0d0887"
            ],
            [
             0.1111111111111111,
             "#46039f"
            ],
            [
             0.2222222222222222,
             "#7201a8"
            ],
            [
             0.3333333333333333,
             "#9c179e"
            ],
            [
             0.4444444444444444,
             "#bd3786"
            ],
            [
             0.5555555555555556,
             "#d8576b"
            ],
            [
             0.6666666666666666,
             "#ed7953"
            ],
            [
             0.7777777777777778,
             "#fb9f3a"
            ],
            [
             0.8888888888888888,
             "#fdca26"
            ],
            [
             1,
             "#f0f921"
            ]
           ],
           "sequentialminus": [
            [
             0,
             "#0d0887"
            ],
            [
             0.1111111111111111,
             "#46039f"
            ],
            [
             0.2222222222222222,
             "#7201a8"
            ],
            [
             0.3333333333333333,
             "#9c179e"
            ],
            [
             0.4444444444444444,
             "#bd3786"
            ],
            [
             0.5555555555555556,
             "#d8576b"
            ],
            [
             0.6666666666666666,
             "#ed7953"
            ],
            [
             0.7777777777777778,
             "#fb9f3a"
            ],
            [
             0.8888888888888888,
             "#fdca26"
            ],
            [
             1,
             "#f0f921"
            ]
           ]
          },
          "colorway": [
           "#636efa",
           "#EF553B",
           "#00cc96",
           "#ab63fa",
           "#FFA15A",
           "#19d3f3",
           "#FF6692",
           "#B6E880",
           "#FF97FF",
           "#FECB52"
          ],
          "font": {
           "color": "#2a3f5f"
          },
          "geo": {
           "bgcolor": "white",
           "lakecolor": "white",
           "landcolor": "#E5ECF6",
           "showlakes": true,
           "showland": true,
           "subunitcolor": "white"
          },
          "hoverlabel": {
           "align": "left"
          },
          "hovermode": "closest",
          "mapbox": {
           "style": "light"
          },
          "paper_bgcolor": "white",
          "plot_bgcolor": "#E5ECF6",
          "polar": {
           "angularaxis": {
            "gridcolor": "white",
            "linecolor": "white",
            "ticks": ""
           },
           "bgcolor": "#E5ECF6",
           "radialaxis": {
            "gridcolor": "white",
            "linecolor": "white",
            "ticks": ""
           }
          },
          "scene": {
           "xaxis": {
            "backgroundcolor": "#E5ECF6",
            "gridcolor": "white",
            "gridwidth": 2,
            "linecolor": "white",
            "showbackground": true,
            "ticks": "",
            "zerolinecolor": "white"
           },
           "yaxis": {
            "backgroundcolor": "#E5ECF6",
            "gridcolor": "white",
            "gridwidth": 2,
            "linecolor": "white",
            "showbackground": true,
            "ticks": "",
            "zerolinecolor": "white"
           },
           "zaxis": {
            "backgroundcolor": "#E5ECF6",
            "gridcolor": "white",
            "gridwidth": 2,
            "linecolor": "white",
            "showbackground": true,
            "ticks": "",
            "zerolinecolor": "white"
           }
          },
          "shapedefaults": {
           "line": {
            "color": "#2a3f5f"
           }
          },
          "ternary": {
           "aaxis": {
            "gridcolor": "white",
            "linecolor": "white",
            "ticks": ""
           },
           "baxis": {
            "gridcolor": "white",
            "linecolor": "white",
            "ticks": ""
           },
           "bgcolor": "#E5ECF6",
           "caxis": {
            "gridcolor": "white",
            "linecolor": "white",
            "ticks": ""
           }
          },
          "title": {
           "x": 0.05
          },
          "xaxis": {
           "automargin": true,
           "gridcolor": "white",
           "linecolor": "white",
           "ticks": "",
           "title": {
            "standoff": 15
           },
           "zerolinecolor": "white",
           "zerolinewidth": 2
          },
          "yaxis": {
           "automargin": true,
           "gridcolor": "white",
           "linecolor": "white",
           "ticks": "",
           "title": {
            "standoff": 15
           },
           "zerolinecolor": "white",
           "zerolinewidth": 2
          }
         }
        },
        "title": {
         "text": "Internal RAM Distribution (Color Relative to Brand Total)"
        },
        "xaxis": {
         "anchor": "y",
         "domain": [
          0,
          1
         ],
         "title": {
          "text": "brand"
         }
        },
        "yaxis": {
         "anchor": "x",
         "domain": [
          0,
          1
         ],
         "title": {
          "text": "internal_ram_gb"
         }
        }
       }
      }
     },
     "metadata": {},
     "output_type": "display_data"
    }
   ],
   "source": [
    "pdf = df.groupby(['brand', 'internal_ram_gb']).size().reset_index(name=\"counts\")\n",
    "pdf['brand_total'] = pdf.groupby('brand')['counts'].transform('sum')\n",
    "pdf['proportion_within_brand'] = pdf.apply(\n",
    "    lambda row: row['counts'] / row['brand_total'] if row['brand_total'] > 0 else 0,\n",
    "    axis=1\n",
    ").round(3)\n",
    "\n",
    "px.bar(pdf, x='brand', y='internal_ram_gb', color='proportion_within_brand', hover_data=['counts', 'proportion_within_brand'], # Show counts and proportion on hover\n",
    "    labels={'proportion_within_brand': 'Proportion within Brand'}, # Update the color bar label\n",
    "    title='Internal RAM Distribution (Color Relative to Brand Total)',\n",
    "    barmode='group')"
   ]
  },
  {
   "cell_type": "code",
   "execution_count": 13,
   "id": "b93d21c7",
   "metadata": {},
   "outputs": [
    {
     "data": {
      "application/vnd.plotly.v1+json": {
       "config": {
        "plotlyServerURL": "https://plot.ly"
       },
       "data": [
        {
         "hovertemplate": "foldable=False<br>screen_resolution_x=%{x}<br>screen_resolution_y=%{y}<br>counts=%{marker.size}<extra></extra>",
         "legendgroup": "False",
         "marker": {
          "color": "#636efa",
          "size": {
           "bdata": "AQADAAUAAgA9AAIACQAKAAEAAgABAAEAAgBBAAIA2AAaAAwAAQANAA4ACgAGAAQAAgABABcAAQACAAcABgABAAMABAABAAIAAgAEAAcAAwAhAAMABgABAAEA",
           "dtype": "i2"
          },
          "sizemode": "area",
          "sizeref": 0.0216,
          "symbol": "circle"
         },
         "mode": "markers",
         "name": "False",
         "orientation": "v",
         "showlegend": true,
         "type": "scatter",
         "x": {
          "bdata": "AAAAAADggEAAAAAAAICGQAAAAAAAgIZAAAAAAACAhkAAAAAAAICGQAAAAAAAgIZAAAAAAACAhkAAAAAAAICGQAAAAAAAgIZAAAAAAABwh0AAAAAAAOCQQAAAAAAA4JBAAAAAAADgkEAAAAAAAOCQQAAAAAAA4JBAAAAAAADgkEAAAAAAAOCQQAAAAAAA4JBAAAAAAADgkEAAAAAAAOCQQAAAAAAA4JBAAAAAAADgkEAAAAAAAEiSQAAAAAAAbJJAAAAAAADAkkAAAAAAANiSQAAAAAAAEJNAAAAAAAAgk0AAAAAAAFCTQAAAAAAAYJNAAAAAAADAk0AAAAAAAACUQAAAAAAAEJRAAAAAAAAolEAAAAAAAKCUQAAAAAAAAJVAAAAAAACAlkAAAAAAAICWQAAAAAAAgJZAAAAAAACAlkAAAAAAAICWQAAAAAAAgJZAAAAAAACwmUAAAAAAACCcQAAAAAAAkJ1A",
          "dtype": "f8"
         },
         "xaxis": "x",
         "y": {
          "bdata": "AAAAAAAAjkAAAAAAACCXQAAAAAAAwJdAAAAAAABgmEAAAAAAAACZQAAAAAAAMJlAAAAAAACgmUAAAAAAAMiZQAAAAAAAQJpAAAAAAADYlEAAAAAAAACeQAAAAAAA4KBAAAAAAAAMokAAAAAAAEiiQAAAAAAAsKJAAAAAAADAokAAAAAAANCiQAAAAAAA2KJAAAAAAADwokAAAAAAACCjQAAAAAAAOKNAAAAAAACwo0AAAAAAAMijQAAAAAAA+KNAAAAAAADcpEAAAAAAAHykQAAAAAAAMKVAAAAAAAAYpUAAAAAAAHylQAAAAAAAqKVAAAAAAAC4pUAAAAAAAFCmQAAAAAAAtKVAAAAAAADYpUAAAAAAAGimQAAAAAAAYKdAAAAAAAAApEAAAAAAACCoQAAAAAAAYKhAAAAAAADAqEAAAAAAAACpQAAAAAAAIKlAAAAAAAAArkAAAAAAABilQAAAAAAAAKVA",
          "dtype": "f8"
         },
         "yaxis": "y"
        },
        {
         "hovertemplate": "foldable=True<br>screen_resolution_x=%{x}<br>screen_resolution_y=%{y}<br>counts=%{marker.size}<extra></extra>",
         "legendgroup": "True",
         "marker": {
          "color": "#EF553B",
          "size": {
           "bdata": "AgQBAgIBAQEBAQEBAQE=",
           "dtype": "i1"
          },
          "sizemode": "area",
          "sizeref": 0.0216,
          "symbol": "circle"
         },
         "mode": "markers",
         "name": "True",
         "orientation": "v",
         "showlegend": true,
         "type": "scatter",
         "x": {
          "bdata": "AAAAAADgkEAAAAAAAOCQQAAAAAAAIJNAAAAAAACgm0AAAAAAAFCcQAAAAAAAwJxAAAAAAAAAnUAAAAAAABCdQAAAAAAA6J1AAAAAAADwnUAAAAAAAMCeQAAAAAAAOKBAAAAAAABgoUAAAAAAALihQA==",
          "dtype": "f8"
         },
         "xaxis": "x",
         "y": {
          "bdata": "AAAAAACYpEAAAAAAAKCkQAAAAAAAwKZAAAAAAABAoUAAAAAAAAChQAAAAAAAQKFAAAAAAADgoEAAAAAAAGCjQAAAAAAA4KBAAAAAAADgoEAAAAAAABChQAAAAAAA0KBAAAAAAABwo0AAAAAAABCjQA==",
          "dtype": "f8"
         },
         "yaxis": "y"
        }
       ],
       "layout": {
        "legend": {
         "itemsizing": "constant",
         "title": {
          "text": "foldable"
         },
         "tracegroupgap": 0
        },
        "margin": {
         "t": 60
        },
        "template": {
         "data": {
          "bar": [
           {
            "error_x": {
             "color": "#2a3f5f"
            },
            "error_y": {
             "color": "#2a3f5f"
            },
            "marker": {
             "line": {
              "color": "#E5ECF6",
              "width": 0.5
             },
             "pattern": {
              "fillmode": "overlay",
              "size": 10,
              "solidity": 0.2
             }
            },
            "type": "bar"
           }
          ],
          "barpolar": [
           {
            "marker": {
             "line": {
              "color": "#E5ECF6",
              "width": 0.5
             },
             "pattern": {
              "fillmode": "overlay",
              "size": 10,
              "solidity": 0.2
             }
            },
            "type": "barpolar"
           }
          ],
          "carpet": [
           {
            "aaxis": {
             "endlinecolor": "#2a3f5f",
             "gridcolor": "white",
             "linecolor": "white",
             "minorgridcolor": "white",
             "startlinecolor": "#2a3f5f"
            },
            "baxis": {
             "endlinecolor": "#2a3f5f",
             "gridcolor": "white",
             "linecolor": "white",
             "minorgridcolor": "white",
             "startlinecolor": "#2a3f5f"
            },
            "type": "carpet"
           }
          ],
          "choropleth": [
           {
            "colorbar": {
             "outlinewidth": 0,
             "ticks": ""
            },
            "type": "choropleth"
           }
          ],
          "contour": [
           {
            "colorbar": {
             "outlinewidth": 0,
             "ticks": ""
            },
            "colorscale": [
             [
              0,
              "#0d0887"
             ],
             [
              0.1111111111111111,
              "#46039f"
             ],
             [
              0.2222222222222222,
              "#7201a8"
             ],
             [
              0.3333333333333333,
              "#9c179e"
             ],
             [
              0.4444444444444444,
              "#bd3786"
             ],
             [
              0.5555555555555556,
              "#d8576b"
             ],
             [
              0.6666666666666666,
              "#ed7953"
             ],
             [
              0.7777777777777778,
              "#fb9f3a"
             ],
             [
              0.8888888888888888,
              "#fdca26"
             ],
             [
              1,
              "#f0f921"
             ]
            ],
            "type": "contour"
           }
          ],
          "contourcarpet": [
           {
            "colorbar": {
             "outlinewidth": 0,
             "ticks": ""
            },
            "type": "contourcarpet"
           }
          ],
          "heatmap": [
           {
            "colorbar": {
             "outlinewidth": 0,
             "ticks": ""
            },
            "colorscale": [
             [
              0,
              "#0d0887"
             ],
             [
              0.1111111111111111,
              "#46039f"
             ],
             [
              0.2222222222222222,
              "#7201a8"
             ],
             [
              0.3333333333333333,
              "#9c179e"
             ],
             [
              0.4444444444444444,
              "#bd3786"
             ],
             [
              0.5555555555555556,
              "#d8576b"
             ],
             [
              0.6666666666666666,
              "#ed7953"
             ],
             [
              0.7777777777777778,
              "#fb9f3a"
             ],
             [
              0.8888888888888888,
              "#fdca26"
             ],
             [
              1,
              "#f0f921"
             ]
            ],
            "type": "heatmap"
           }
          ],
          "histogram": [
           {
            "marker": {
             "pattern": {
              "fillmode": "overlay",
              "size": 10,
              "solidity": 0.2
             }
            },
            "type": "histogram"
           }
          ],
          "histogram2d": [
           {
            "colorbar": {
             "outlinewidth": 0,
             "ticks": ""
            },
            "colorscale": [
             [
              0,
              "#0d0887"
             ],
             [
              0.1111111111111111,
              "#46039f"
             ],
             [
              0.2222222222222222,
              "#7201a8"
             ],
             [
              0.3333333333333333,
              "#9c179e"
             ],
             [
              0.4444444444444444,
              "#bd3786"
             ],
             [
              0.5555555555555556,
              "#d8576b"
             ],
             [
              0.6666666666666666,
              "#ed7953"
             ],
             [
              0.7777777777777778,
              "#fb9f3a"
             ],
             [
              0.8888888888888888,
              "#fdca26"
             ],
             [
              1,
              "#f0f921"
             ]
            ],
            "type": "histogram2d"
           }
          ],
          "histogram2dcontour": [
           {
            "colorbar": {
             "outlinewidth": 0,
             "ticks": ""
            },
            "colorscale": [
             [
              0,
              "#0d0887"
             ],
             [
              0.1111111111111111,
              "#46039f"
             ],
             [
              0.2222222222222222,
              "#7201a8"
             ],
             [
              0.3333333333333333,
              "#9c179e"
             ],
             [
              0.4444444444444444,
              "#bd3786"
             ],
             [
              0.5555555555555556,
              "#d8576b"
             ],
             [
              0.6666666666666666,
              "#ed7953"
             ],
             [
              0.7777777777777778,
              "#fb9f3a"
             ],
             [
              0.8888888888888888,
              "#fdca26"
             ],
             [
              1,
              "#f0f921"
             ]
            ],
            "type": "histogram2dcontour"
           }
          ],
          "mesh3d": [
           {
            "colorbar": {
             "outlinewidth": 0,
             "ticks": ""
            },
            "type": "mesh3d"
           }
          ],
          "parcoords": [
           {
            "line": {
             "colorbar": {
              "outlinewidth": 0,
              "ticks": ""
             }
            },
            "type": "parcoords"
           }
          ],
          "pie": [
           {
            "automargin": true,
            "type": "pie"
           }
          ],
          "scatter": [
           {
            "fillpattern": {
             "fillmode": "overlay",
             "size": 10,
             "solidity": 0.2
            },
            "type": "scatter"
           }
          ],
          "scatter3d": [
           {
            "line": {
             "colorbar": {
              "outlinewidth": 0,
              "ticks": ""
             }
            },
            "marker": {
             "colorbar": {
              "outlinewidth": 0,
              "ticks": ""
             }
            },
            "type": "scatter3d"
           }
          ],
          "scattercarpet": [
           {
            "marker": {
             "colorbar": {
              "outlinewidth": 0,
              "ticks": ""
             }
            },
            "type": "scattercarpet"
           }
          ],
          "scattergeo": [
           {
            "marker": {
             "colorbar": {
              "outlinewidth": 0,
              "ticks": ""
             }
            },
            "type": "scattergeo"
           }
          ],
          "scattergl": [
           {
            "marker": {
             "colorbar": {
              "outlinewidth": 0,
              "ticks": ""
             }
            },
            "type": "scattergl"
           }
          ],
          "scattermap": [
           {
            "marker": {
             "colorbar": {
              "outlinewidth": 0,
              "ticks": ""
             }
            },
            "type": "scattermap"
           }
          ],
          "scattermapbox": [
           {
            "marker": {
             "colorbar": {
              "outlinewidth": 0,
              "ticks": ""
             }
            },
            "type": "scattermapbox"
           }
          ],
          "scatterpolar": [
           {
            "marker": {
             "colorbar": {
              "outlinewidth": 0,
              "ticks": ""
             }
            },
            "type": "scatterpolar"
           }
          ],
          "scatterpolargl": [
           {
            "marker": {
             "colorbar": {
              "outlinewidth": 0,
              "ticks": ""
             }
            },
            "type": "scatterpolargl"
           }
          ],
          "scatterternary": [
           {
            "marker": {
             "colorbar": {
              "outlinewidth": 0,
              "ticks": ""
             }
            },
            "type": "scatterternary"
           }
          ],
          "surface": [
           {
            "colorbar": {
             "outlinewidth": 0,
             "ticks": ""
            },
            "colorscale": [
             [
              0,
              "#0d0887"
             ],
             [
              0.1111111111111111,
              "#46039f"
             ],
             [
              0.2222222222222222,
              "#7201a8"
             ],
             [
              0.3333333333333333,
              "#9c179e"
             ],
             [
              0.4444444444444444,
              "#bd3786"
             ],
             [
              0.5555555555555556,
              "#d8576b"
             ],
             [
              0.6666666666666666,
              "#ed7953"
             ],
             [
              0.7777777777777778,
              "#fb9f3a"
             ],
             [
              0.8888888888888888,
              "#fdca26"
             ],
             [
              1,
              "#f0f921"
             ]
            ],
            "type": "surface"
           }
          ],
          "table": [
           {
            "cells": {
             "fill": {
              "color": "#EBF0F8"
             },
             "line": {
              "color": "white"
             }
            },
            "header": {
             "fill": {
              "color": "#C8D4E3"
             },
             "line": {
              "color": "white"
             }
            },
            "type": "table"
           }
          ]
         },
         "layout": {
          "annotationdefaults": {
           "arrowcolor": "#2a3f5f",
           "arrowhead": 0,
           "arrowwidth": 1
          },
          "autotypenumbers": "strict",
          "coloraxis": {
           "colorbar": {
            "outlinewidth": 0,
            "ticks": ""
           }
          },
          "colorscale": {
           "diverging": [
            [
             0,
             "#8e0152"
            ],
            [
             0.1,
             "#c51b7d"
            ],
            [
             0.2,
             "#de77ae"
            ],
            [
             0.3,
             "#f1b6da"
            ],
            [
             0.4,
             "#fde0ef"
            ],
            [
             0.5,
             "#f7f7f7"
            ],
            [
             0.6,
             "#e6f5d0"
            ],
            [
             0.7,
             "#b8e186"
            ],
            [
             0.8,
             "#7fbc41"
            ],
            [
             0.9,
             "#4d9221"
            ],
            [
             1,
             "#276419"
            ]
           ],
           "sequential": [
            [
             0,
             "#0d0887"
            ],
            [
             0.1111111111111111,
             "#46039f"
            ],
            [
             0.2222222222222222,
             "#7201a8"
            ],
            [
             0.3333333333333333,
             "#9c179e"
            ],
            [
             0.4444444444444444,
             "#bd3786"
            ],
            [
             0.5555555555555556,
             "#d8576b"
            ],
            [
             0.6666666666666666,
             "#ed7953"
            ],
            [
             0.7777777777777778,
             "#fb9f3a"
            ],
            [
             0.8888888888888888,
             "#fdca26"
            ],
            [
             1,
             "#f0f921"
            ]
           ],
           "sequentialminus": [
            [
             0,
             "#0d0887"
            ],
            [
             0.1111111111111111,
             "#46039f"
            ],
            [
             0.2222222222222222,
             "#7201a8"
            ],
            [
             0.3333333333333333,
             "#9c179e"
            ],
            [
             0.4444444444444444,
             "#bd3786"
            ],
            [
             0.5555555555555556,
             "#d8576b"
            ],
            [
             0.6666666666666666,
             "#ed7953"
            ],
            [
             0.7777777777777778,
             "#fb9f3a"
            ],
            [
             0.8888888888888888,
             "#fdca26"
            ],
            [
             1,
             "#f0f921"
            ]
           ]
          },
          "colorway": [
           "#636efa",
           "#EF553B",
           "#00cc96",
           "#ab63fa",
           "#FFA15A",
           "#19d3f3",
           "#FF6692",
           "#B6E880",
           "#FF97FF",
           "#FECB52"
          ],
          "font": {
           "color": "#2a3f5f"
          },
          "geo": {
           "bgcolor": "white",
           "lakecolor": "white",
           "landcolor": "#E5ECF6",
           "showlakes": true,
           "showland": true,
           "subunitcolor": "white"
          },
          "hoverlabel": {
           "align": "left"
          },
          "hovermode": "closest",
          "mapbox": {
           "style": "light"
          },
          "paper_bgcolor": "white",
          "plot_bgcolor": "#E5ECF6",
          "polar": {
           "angularaxis": {
            "gridcolor": "white",
            "linecolor": "white",
            "ticks": ""
           },
           "bgcolor": "#E5ECF6",
           "radialaxis": {
            "gridcolor": "white",
            "linecolor": "white",
            "ticks": ""
           }
          },
          "scene": {
           "xaxis": {
            "backgroundcolor": "#E5ECF6",
            "gridcolor": "white",
            "gridwidth": 2,
            "linecolor": "white",
            "showbackground": true,
            "ticks": "",
            "zerolinecolor": "white"
           },
           "yaxis": {
            "backgroundcolor": "#E5ECF6",
            "gridcolor": "white",
            "gridwidth": 2,
            "linecolor": "white",
            "showbackground": true,
            "ticks": "",
            "zerolinecolor": "white"
           },
           "zaxis": {
            "backgroundcolor": "#E5ECF6",
            "gridcolor": "white",
            "gridwidth": 2,
            "linecolor": "white",
            "showbackground": true,
            "ticks": "",
            "zerolinecolor": "white"
           }
          },
          "shapedefaults": {
           "line": {
            "color": "#2a3f5f"
           }
          },
          "ternary": {
           "aaxis": {
            "gridcolor": "white",
            "linecolor": "white",
            "ticks": ""
           },
           "baxis": {
            "gridcolor": "white",
            "linecolor": "white",
            "ticks": ""
           },
           "bgcolor": "#E5ECF6",
           "caxis": {
            "gridcolor": "white",
            "linecolor": "white",
            "ticks": ""
           }
          },
          "title": {
           "x": 0.05
          },
          "xaxis": {
           "automargin": true,
           "gridcolor": "white",
           "linecolor": "white",
           "ticks": "",
           "title": {
            "standoff": 15
           },
           "zerolinecolor": "white",
           "zerolinewidth": 2
          },
          "yaxis": {
           "automargin": true,
           "gridcolor": "white",
           "linecolor": "white",
           "ticks": "",
           "title": {
            "standoff": 15
           },
           "zerolinecolor": "white",
           "zerolinewidth": 2
          }
         }
        },
        "xaxis": {
         "anchor": "y",
         "domain": [
          0,
          1
         ],
         "title": {
          "text": "screen_resolution_x"
         }
        },
        "yaxis": {
         "anchor": "x",
         "domain": [
          0,
          1
         ],
         "title": {
          "text": "screen_resolution_y"
         }
        }
       }
      }
     },
     "metadata": {},
     "output_type": "display_data"
    }
   ],
   "source": [
    "pdf = df.groupby(['screen_resolution_x', 'screen_resolution_y', 'foldable']).size().reset_index(name=\"counts\")\n",
    "px.scatter(pdf, x='screen_resolution_x', y='screen_resolution_y', size='counts', color='foldable', size_max=100)"
   ]
  },
  {
   "cell_type": "markdown",
   "id": "899706fa",
   "metadata": {},
   "source": [
    "Most of the phones have resolution of 1080x2400, which is 9:20 aspect ratio, followed by 720x1600 resolution, which is also 9:20 aspect ratio. There are several phones which have tablet-like resolution and aspect ratios, and this phones are foldable phones as can be seen from the plot"
   ]
  },
  {
   "cell_type": "code",
   "execution_count": 14,
   "id": "f90445df",
   "metadata": {},
   "outputs": [
    {
     "data": {
      "application/vnd.plotly.v1+json": {
       "config": {
        "plotlyServerURL": "https://plot.ly"
       },
       "data": [
        {
         "bingroup": "x",
         "hovertemplate": "screen_size=%{x}<br>count=%{y}<extra></extra>",
         "legendgroup": "",
         "marker": {
          "color": "#636efa",
          "pattern": {
           "shape": ""
          }
         },
         "name": "",
         "orientation": "v",
         "showlegend": false,
         "type": "histogram",
         "x": {
          "bdata": "ZmZmZmZmGECamZmZmZkbQDMzMzMzMxlAzczMzMzMGkBmZmZmZmYYQM3MzMzMzBpAZmZmZmZmGEDNzMzMzMwaQGZmZmZmZhhAzczMzMzMGkBmZmZmZmYYQM3MzMzMzBpAZmZmZmZmGEDNzMzMzMwSQM3MzMzMzBpAZmZmZmZmGEBmZmZmZmYYQJqZmZmZmRVAzczMzMzMGkBmZmZmZmYYQGZmZmZmZhhAmpmZmZmZFUDNzMzMzMwSQB+F61G4HhtAH4XrUbgeG0AfhetRuB4bQB+F61G4HhtAH4XrUbgeG0AfhetRuB4bQB+F61G4HhtArkfhehSuF0AfhetRuB4bQB+F61G4HhtAH4XrUbgeG0AfhetRuB4bQB+F61G4HhtAH4XrUbgeG0CamZmZmZkXQB+F61G4HhtAH4XrUbgeG0AfhetRuB4bQB+F61G4HhtAH4XrUbgeG0CuR+F6FK4aQJqZmZmZmRdAH4XrUbgeG0AfhetRuB4bQB+F61G4HhtArkfhehSuGkCuR+F6FK4aQFyPwvUoXBpAXI/C9ShcGkDXo3A9CtcZQDMzMzMzMxlAmpmZmZmZFkAzMzMzMzMbQDMzMzMzMxlAMzMzMzMzGUAAAAAAAAAgQGZmZmZmZhhAzczMzMzMGkDNzMzMzMwYQGZmZmZmZh5AZmZmZmZmGEDNzMzMzMwaQDMzMzMzMxlAZmZmZmZmGEDNzMzMzMwaQJqZmZmZmRlAXI/C9ShcGUAAAAAAAAAYQM3MzMzMzBhAPQrXo3A9F0CamZmZmZkgQDMzMzMzMyBAFK5H4XoUG0AUrkfhehQbQM3MzMzMzBpArkfhehSuGkDNzMzMzMwaQM3MzMzMzBpAMzMzMzMzGkAfhetRuB4bQB+F61G4HhtAH4XrUbgeG0BI4XoUrkcbQPYoXI/C9RpAH4XrUbgeG0CuR+F6FK4aQK5H4XoUrhpA9ihcj8L1GkDNzMzMzMwaQOF6FK5H4RpAH4XrUbgeG0BI4XoUrkcbQB+F61G4HhtASOF6FK5HH0D2KFyPwvUaQM3MzMzMzBpA9ihcj8L1GkDhehSuR+EaQOF6FK5H4RpA9ihcj8L1GkD2KFyPwvUaQPYoXI/C9RpAzczMzMzMGkA9CtejcD0aQM3MzMzMzBpAPQrXo3A9GkDNzMzMzMwaQLgehetRuBlAXI/C9ShcGkC4HoXrUbgZQM3MzMzMzBpAzczMzMzMGkBcj8L1KFwaQM3MzMzMzBpAzczMzMzMGkC4HoXrUbgZQHsUrkfhehpAuB6F61G4GUD2KFyPwvUZQLgehetRuBlAzczMzMzMGkAzMzMzMzMaQDMzMzMzMxpA9ihcj8L1GUAUrkfhehQaQDMzMzMzMxpAMzMzMzMzGkDD9Shcj8IZQB+F61G4HhtAMzMzMzMzGkAzMzMzMzMaQDMzMzMzMxpAzczMzMzMGkDNzMzMzMwaQM3MzMzMzBpAzczMzMzMGkD2KFyPwvUaQM3MzMzMzBpAzczMzMzMGkCamZmZmZkbQM3MzMzMzBpAzczMzMzMGEAAAAAAAAAgQM3MzMzMzBpAzczMzMzMGkDNzMzMzMwaQM3MzMzMzBpAzczMzMzMGkDNzMzMzMwaQM3MzMzMzBpAzczMzMzMGkBmZmZmZmYeQM3MzMzMzBpAZmZmZmZmGkDNzMzMzMwaQM3MzMzMzBpAzczMzMzMGkBmZmZmZmYaQGZmZmZmZhpAAAAAAAAAGkDNzMzMzMwaQGZmZmZmZhpAMzMzMzMzG0DNzMzMzMwaQM3MzMzMzBhAZmZmZmZmGkAAAAAAAAAaQAAAAAAAABpAAAAAAAAAGkCamZmZmZkZQM3MzMzMzBpAzczMzMzMGkAAAAAAAAAaQGZmZmZmZh5AzczMzMzMGkAAAAAAAAAaQM3MzMzMzBpAAAAAAAAAGkBmZmZmZmYaQM3MzMzMzBpAmpmZmZmZGUBmZmZmZmYaQGZmZmZmZhpAMzMzMzMzG0BmZmZmZmYaQGZmZmZmZhhAZmZmZmZmGkBmZmZmZmYaQAAAAAAAABpAAAAAAAAAGkAAAAAAAAAaQAAAAAAAABpAAAAAAAAAGkBmZmZmZmYeQM3MzMzMzBpAZmZmZmZmGkAAAAAAAAAaQGZmZmZmZhpAZmZmZmZmGkBmZmZmZmYaQGZmZmZmZhpAZmZmZmZmGkDNzMzMzMwaQAAAAAAAABpAzczMzMzMGkAAAAAAAAAaQJqZmZmZmRlAZmZmZmZmGkBmZmZmZmYaQGZmZmZmZhpAZmZmZmZmGkBmZmZmZmYaQDMzMzMzMxtAZmZmZmZmGkBmZmZmZmYYQJqZmZmZmRlAAAAAAAAAGkAAAAAAAAAaQAAAAAAAABpAZmZmZmZmGkDNzMzMzMwaQJqZmZmZmRlAAAAAAAAAGkAAAAAAAAAaQAAAAAAAABpAZmZmZmZmHkDNzMzMzMwaQAAAAAAAABpAAAAAAAAAGkCamZmZmZkZQJqZmZmZmRlAmpmZmZmZGUBmZmZmZmYaQJqZmZmZmRlAZmZmZmZmGkBmZmZmZmYaQAAAAAAAABpAzczMzMzMGkAAAAAAAAAaQAAAAAAAABpAzczMzMzMGkAAAAAAAAAaQAAAAAAAABpAMzMzMzMzFUCamZmZmZkZQM3MzMzMzBpAzczMzMzMGkAAAAAAAAAaQDMzMzMzMxtAzczMzMzMGkDNzMzMzMwYQAAAAAAAABpAAAAAAAAAGkAAAAAAAAAaQAAAAAAAABpAAAAAAAAAGkAAAAAAAAAaQJqZmZmZmRlAmpmZmZmZGUCamZmZmZkZQAAAAAAAABpAAAAAAAAAGkBmZmZmZmYaQM3MzMzMzBpAAAAAAAAAGkBmZmZmZmYeQJqZmZmZmRtAmpmZmZmZG0DNzMzMzMwaQM3MzMzMzBpAzczMzMzMGkAAAAAAAAAaQM3MzMzMzBhAMzMzMzMzFUAzMzMzMzMVQM3MzMzMzBpAzczMzMzMFkAAAAAAAAAaQAAAAAAAABRAzczMzMzMGkDNzMzMzMwaQAAAAAAAABpAAAAAAAAAGkCamZmZmZkZQJqZmZmZmRlAZmZmZmZmGECamZmZmZkZQJqZmZmZmRlAmpmZmZmZGUCamZmZmZkbQJqZmZmZmRtAzczMzMzMGkDNzMzMzMwaQM3MzMzMzBhAzczMzMzMGEDNzMzMzMwYQM3MzMzMzBpAMzMzMzMzGUDNzMzMzMwaQM3MzMzMzBpAzczMzMzMFkDNzMzMzMwaQGZmZmZmZhRAzczMzMzMGkAAAAAAAAAaQGZmZmZmZhhAZmZmZmZmGEAAAAAAAAAaQGZmZmZmZhhAZmZmZmZmGEAAAAAAAAAaQAAAAAAAABhAAAAAAAAAGkAAAAAAAAAYQAAAAAAAABpAZmZmZmZmGEAAAAAAAAAYQAAAAAAAABpAZmZmZmZmGEAAAAAAAAAaQAAAAAAAABhAzczMzMzMGEDsUbgehesaQHE9CtejcBlAhetRuB6FG0CuR+F6FK4aQK5H4XoUrhpArkfhehSuGkCuR+F6FK4aQK5H4XoUrhpArkfhehSuGkCuR+F6FK4aQIXrUbgehRtAhetRuB6FG0CuR+F6FK4aQK5H4XoUrhpAhetRuB6FG0CuR+F6FK4aQK5H4XoUrhpArkfhehSuGkCuR+F6FK4aQK5H4XoUrhpA7FG4HoXrGkCF61G4HoUbQIXrUbgehRtAhetRuB6FG0CuR+F6FK4aQK5H4XoUrhpArkfhehSuGkCF61G4HoUbQIXrUbgehRtAKVyPwvUoG0BxPQrXo3AbQK5H4XoUrhpA7FG4HoXrH0ApXI/C9SgbQClcj8L1KBtAMzMzMzMzGkApXI/C9SgbQNejcD0K1xpArkfhehSuGkCuR+F6FK4aQClcj8L1KBtArkfhehSuGkDXo3A9CtcaQDMzMzMzMxpArkfhehSuGkBxPQrXo3AZQOxRuB6F6xpA16NwPQrXGkCuR+F6FK4aQK5H4XoUrhpArkfhehSuGkCuR+F6FK4aQK5H4XoUrhpArkfhehSuGkCuR+F6FK4aQK5H4XoUrhpA9ihcj8L1GkD2KFyPwvUaQPYoXI/C9RpArkfhehSuGkCuR+F6FK4aQK5H4XoUrhpArkfhehSuGkD2KFyPwvUaQPYoXI/C9RpA7FG4HoXrGkCuR+F6FK4aQK5H4XoUrhpArkfhehSuGkCuR+F6FK4aQI/C9ShcDyBAKVyPwvUoG0ApXI/C9SgbQClcj8L1KBtArkfhehSuGkApXI/C9SgbQGZmZmZmZhpAMzMzMzMzGkCuR+F6FK4aQK5H4XoUrhpA7FG4HoXrGkAUrkfhehQaQLgehetRuBlArkfhehSuGkCuR+F6FK4aQBSuR+F6FBpAFK5H4XoUGkCuR+F6FK4aQOxRuB6F6xpAcT0K16NwGUAzMzMzMzMaQNejcD0K1xpArkfhehSuGkCuR+F6FK4aQK5H4XoUrhpAFK5H4XoUGkCuR+F6FK4aQK5H4XoUrhpArkfhehSuGkCuR+F6FK4aQNejcD0K1xpArkfhehSuGkCuR+F6FK4aQK5H4XoUrhpArkfhehSuGkCuR+F6FK4aQK5H4XoUrhpAUrgehetRGkAUrkfhehQaQDMzMzMzMxpAUrgehetRGkBSuB6F61EaQBSuR+F6FBpAuB6F61G4GUBSuB6F61EaQFK4HoXrURpAuB6F61G4GUBSuB6F61EaQK5H4XoUrhpACtejcD0KIEBmZmZmZmYaQDMzMzMzMxpA7FG4HoXrGkDsUbgehesaQB+F61G4HhlA7FG4HoXrGkCuR+F6FK4aQGZmZmZmZhpA16NwPQrXGkBmZmZmZmYaQGZmZmZmZhpAAAAAAAAAGkAAAAAAAAAaQFK4HoXrURpArkfhehSuGkAzMzMzMzMaQM3MzMzMzBpArkfhehSuGkCuR+F6FK4aQK5H4XoUrhpAH4XrUbgeGkBmZmZmZmYaQFK4HoXrURpArkfhehSuGkCuR+F6FK4aQK5H4XoUrhpArkfhehSuGkDsUbgehesaQB+F61G4HhlAH4XrUbgeGUDNzMzMzMwaQNejcD0K1xpArkfhehSuGkCuR+F6FK4aQFK4HoXrURpArkfhehSuGkC4HoXrUbgZQK5H4XoUrhpAAAAAAAAAGkCuR+F6FK4aQK5H4XoUrhpAuB6F61G4GUC4HoXrUbgZQK5H4XoUrhpArkfhehSuGkBmZmZmZmYaQAAAAAAAABpAZmZmZmZmGkCuR+F6FK4aQGZmZmZmZhpArkfhehSuGkCuR+F6FK4aQK5H4XoUrhpAMzMzMzMzGkAfhetRuB4aQB+F61G4HhpAH4XrUbgeGkAfhetRuB4aQK5H4XoUrhpArkfhehSuGkAzMzMzMzMaQAAAAAAAABpAAAAAAAAAGkCuR+F6FK4aQGZmZmZmZhpArkfhehSuGkAAAAAAAAAaQGZmZmZmZhpAMzMzMzMzGUAAAAAAAAAaQK5H4XoUrhpArkfhehSuGkCuR+F6FK4aQB+F61G4HhpAhetRuB4FIEA9CtejcD0bQD0K16NwPRtArkfhehSuGkAzMzMzMzMaQDMzMzMzMxpArkfhehSuGkCuR+F6FK4aQK5H4XoUrhpArkfhehSuGkCuR+F6FK4aQK5H4XoUrhpAAAAAAAAAGkC4HoXrUbgZQLgehetRuBlArkfhehSuGkCuR+F6FK4aQK5H4XoUrhpArkfhehSuGkCuR+F6FK4aQB+F61G4HhpAH4XrUbgeGkCuR+F6FK4aQD0K16NwPRtAH4XrUbgeGkCuR+F6FK4aQB+F61G4HhpAH4XrUbgeGkAfhetRuB4aQK5H4XoUrhpAuB6F61G4GUCuR+F6FK4aQK5H4XoUrhpArkfhehSuGkAfhetRuB4aQB+F61G4HhpAH4XrUbgeGkCuR+F6FK4aQK5H4XoUrhpAH4XrUbgeGkCuR+F6FK4aQK5H4XoUrhpAH4XrUbgeGkCuR+F6FK4aQK5H4XoUrhpAH4XrUbgeGkAfhetRuB4aQB+F61G4HhpAH4XrUbgeGkBI4XoUrkcaQEjhehSuRxpAH4XrUbgeGkCuR+F6FK4aQK5H4XoUrhpArkfhehSuGkCuR+F6FK4aQB+F61G4HhpA4XoUrkfhGUBI4XoUrkcaQEjhehSuRxpArkfhehSuGkCuR+F6FK4aQK5H4XoUrhpArkfhehSuGkCuR+F6FK4aQGZmZmZmZhxArkfhehSuGkCuR+F6FK4aQK5H4XoUrhpA4XoUrkfhGEDhehSuR+EYQK5H4XoUrhpArkfhehSuGkAAAAAAAAAaQAAAAAAAABpAzczMzMzMGkBI4XoUrkcaQI/C9ShcjxlAzczMzMzMHEDNzMzMzMwcQJqZmZmZmRRAj8L1KFyPGUDNzMzMzMwWQA==",
          "dtype": "f8"
         },
         "xaxis": "x",
         "yaxis": "y"
        }
       ],
       "layout": {
        "barmode": "relative",
        "legend": {
         "tracegroupgap": 0
        },
        "margin": {
         "t": 60
        },
        "template": {
         "data": {
          "bar": [
           {
            "error_x": {
             "color": "#2a3f5f"
            },
            "error_y": {
             "color": "#2a3f5f"
            },
            "marker": {
             "line": {
              "color": "#E5ECF6",
              "width": 0.5
             },
             "pattern": {
              "fillmode": "overlay",
              "size": 10,
              "solidity": 0.2
             }
            },
            "type": "bar"
           }
          ],
          "barpolar": [
           {
            "marker": {
             "line": {
              "color": "#E5ECF6",
              "width": 0.5
             },
             "pattern": {
              "fillmode": "overlay",
              "size": 10,
              "solidity": 0.2
             }
            },
            "type": "barpolar"
           }
          ],
          "carpet": [
           {
            "aaxis": {
             "endlinecolor": "#2a3f5f",
             "gridcolor": "white",
             "linecolor": "white",
             "minorgridcolor": "white",
             "startlinecolor": "#2a3f5f"
            },
            "baxis": {
             "endlinecolor": "#2a3f5f",
             "gridcolor": "white",
             "linecolor": "white",
             "minorgridcolor": "white",
             "startlinecolor": "#2a3f5f"
            },
            "type": "carpet"
           }
          ],
          "choropleth": [
           {
            "colorbar": {
             "outlinewidth": 0,
             "ticks": ""
            },
            "type": "choropleth"
           }
          ],
          "contour": [
           {
            "colorbar": {
             "outlinewidth": 0,
             "ticks": ""
            },
            "colorscale": [
             [
              0,
              "#0d0887"
             ],
             [
              0.1111111111111111,
              "#46039f"
             ],
             [
              0.2222222222222222,
              "#7201a8"
             ],
             [
              0.3333333333333333,
              "#9c179e"
             ],
             [
              0.4444444444444444,
              "#bd3786"
             ],
             [
              0.5555555555555556,
              "#d8576b"
             ],
             [
              0.6666666666666666,
              "#ed7953"
             ],
             [
              0.7777777777777778,
              "#fb9f3a"
             ],
             [
              0.8888888888888888,
              "#fdca26"
             ],
             [
              1,
              "#f0f921"
             ]
            ],
            "type": "contour"
           }
          ],
          "contourcarpet": [
           {
            "colorbar": {
             "outlinewidth": 0,
             "ticks": ""
            },
            "type": "contourcarpet"
           }
          ],
          "heatmap": [
           {
            "colorbar": {
             "outlinewidth": 0,
             "ticks": ""
            },
            "colorscale": [
             [
              0,
              "#0d0887"
             ],
             [
              0.1111111111111111,
              "#46039f"
             ],
             [
              0.2222222222222222,
              "#7201a8"
             ],
             [
              0.3333333333333333,
              "#9c179e"
             ],
             [
              0.4444444444444444,
              "#bd3786"
             ],
             [
              0.5555555555555556,
              "#d8576b"
             ],
             [
              0.6666666666666666,
              "#ed7953"
             ],
             [
              0.7777777777777778,
              "#fb9f3a"
             ],
             [
              0.8888888888888888,
              "#fdca26"
             ],
             [
              1,
              "#f0f921"
             ]
            ],
            "type": "heatmap"
           }
          ],
          "histogram": [
           {
            "marker": {
             "pattern": {
              "fillmode": "overlay",
              "size": 10,
              "solidity": 0.2
             }
            },
            "type": "histogram"
           }
          ],
          "histogram2d": [
           {
            "colorbar": {
             "outlinewidth": 0,
             "ticks": ""
            },
            "colorscale": [
             [
              0,
              "#0d0887"
             ],
             [
              0.1111111111111111,
              "#46039f"
             ],
             [
              0.2222222222222222,
              "#7201a8"
             ],
             [
              0.3333333333333333,
              "#9c179e"
             ],
             [
              0.4444444444444444,
              "#bd3786"
             ],
             [
              0.5555555555555556,
              "#d8576b"
             ],
             [
              0.6666666666666666,
              "#ed7953"
             ],
             [
              0.7777777777777778,
              "#fb9f3a"
             ],
             [
              0.8888888888888888,
              "#fdca26"
             ],
             [
              1,
              "#f0f921"
             ]
            ],
            "type": "histogram2d"
           }
          ],
          "histogram2dcontour": [
           {
            "colorbar": {
             "outlinewidth": 0,
             "ticks": ""
            },
            "colorscale": [
             [
              0,
              "#0d0887"
             ],
             [
              0.1111111111111111,
              "#46039f"
             ],
             [
              0.2222222222222222,
              "#7201a8"
             ],
             [
              0.3333333333333333,
              "#9c179e"
             ],
             [
              0.4444444444444444,
              "#bd3786"
             ],
             [
              0.5555555555555556,
              "#d8576b"
             ],
             [
              0.6666666666666666,
              "#ed7953"
             ],
             [
              0.7777777777777778,
              "#fb9f3a"
             ],
             [
              0.8888888888888888,
              "#fdca26"
             ],
             [
              1,
              "#f0f921"
             ]
            ],
            "type": "histogram2dcontour"
           }
          ],
          "mesh3d": [
           {
            "colorbar": {
             "outlinewidth": 0,
             "ticks": ""
            },
            "type": "mesh3d"
           }
          ],
          "parcoords": [
           {
            "line": {
             "colorbar": {
              "outlinewidth": 0,
              "ticks": ""
             }
            },
            "type": "parcoords"
           }
          ],
          "pie": [
           {
            "automargin": true,
            "type": "pie"
           }
          ],
          "scatter": [
           {
            "fillpattern": {
             "fillmode": "overlay",
             "size": 10,
             "solidity": 0.2
            },
            "type": "scatter"
           }
          ],
          "scatter3d": [
           {
            "line": {
             "colorbar": {
              "outlinewidth": 0,
              "ticks": ""
             }
            },
            "marker": {
             "colorbar": {
              "outlinewidth": 0,
              "ticks": ""
             }
            },
            "type": "scatter3d"
           }
          ],
          "scattercarpet": [
           {
            "marker": {
             "colorbar": {
              "outlinewidth": 0,
              "ticks": ""
             }
            },
            "type": "scattercarpet"
           }
          ],
          "scattergeo": [
           {
            "marker": {
             "colorbar": {
              "outlinewidth": 0,
              "ticks": ""
             }
            },
            "type": "scattergeo"
           }
          ],
          "scattergl": [
           {
            "marker": {
             "colorbar": {
              "outlinewidth": 0,
              "ticks": ""
             }
            },
            "type": "scattergl"
           }
          ],
          "scattermap": [
           {
            "marker": {
             "colorbar": {
              "outlinewidth": 0,
              "ticks": ""
             }
            },
            "type": "scattermap"
           }
          ],
          "scattermapbox": [
           {
            "marker": {
             "colorbar": {
              "outlinewidth": 0,
              "ticks": ""
             }
            },
            "type": "scattermapbox"
           }
          ],
          "scatterpolar": [
           {
            "marker": {
             "colorbar": {
              "outlinewidth": 0,
              "ticks": ""
             }
            },
            "type": "scatterpolar"
           }
          ],
          "scatterpolargl": [
           {
            "marker": {
             "colorbar": {
              "outlinewidth": 0,
              "ticks": ""
             }
            },
            "type": "scatterpolargl"
           }
          ],
          "scatterternary": [
           {
            "marker": {
             "colorbar": {
              "outlinewidth": 0,
              "ticks": ""
             }
            },
            "type": "scatterternary"
           }
          ],
          "surface": [
           {
            "colorbar": {
             "outlinewidth": 0,
             "ticks": ""
            },
            "colorscale": [
             [
              0,
              "#0d0887"
             ],
             [
              0.1111111111111111,
              "#46039f"
             ],
             [
              0.2222222222222222,
              "#7201a8"
             ],
             [
              0.3333333333333333,
              "#9c179e"
             ],
             [
              0.4444444444444444,
              "#bd3786"
             ],
             [
              0.5555555555555556,
              "#d8576b"
             ],
             [
              0.6666666666666666,
              "#ed7953"
             ],
             [
              0.7777777777777778,
              "#fb9f3a"
             ],
             [
              0.8888888888888888,
              "#fdca26"
             ],
             [
              1,
              "#f0f921"
             ]
            ],
            "type": "surface"
           }
          ],
          "table": [
           {
            "cells": {
             "fill": {
              "color": "#EBF0F8"
             },
             "line": {
              "color": "white"
             }
            },
            "header": {
             "fill": {
              "color": "#C8D4E3"
             },
             "line": {
              "color": "white"
             }
            },
            "type": "table"
           }
          ]
         },
         "layout": {
          "annotationdefaults": {
           "arrowcolor": "#2a3f5f",
           "arrowhead": 0,
           "arrowwidth": 1
          },
          "autotypenumbers": "strict",
          "coloraxis": {
           "colorbar": {
            "outlinewidth": 0,
            "ticks": ""
           }
          },
          "colorscale": {
           "diverging": [
            [
             0,
             "#8e0152"
            ],
            [
             0.1,
             "#c51b7d"
            ],
            [
             0.2,
             "#de77ae"
            ],
            [
             0.3,
             "#f1b6da"
            ],
            [
             0.4,
             "#fde0ef"
            ],
            [
             0.5,
             "#f7f7f7"
            ],
            [
             0.6,
             "#e6f5d0"
            ],
            [
             0.7,
             "#b8e186"
            ],
            [
             0.8,
             "#7fbc41"
            ],
            [
             0.9,
             "#4d9221"
            ],
            [
             1,
             "#276419"
            ]
           ],
           "sequential": [
            [
             0,
             "#0d0887"
            ],
            [
             0.1111111111111111,
             "#46039f"
            ],
            [
             0.2222222222222222,
             "#7201a8"
            ],
            [
             0.3333333333333333,
             "#9c179e"
            ],
            [
             0.4444444444444444,
             "#bd3786"
            ],
            [
             0.5555555555555556,
             "#d8576b"
            ],
            [
             0.6666666666666666,
             "#ed7953"
            ],
            [
             0.7777777777777778,
             "#fb9f3a"
            ],
            [
             0.8888888888888888,
             "#fdca26"
            ],
            [
             1,
             "#f0f921"
            ]
           ],
           "sequentialminus": [
            [
             0,
             "#0d0887"
            ],
            [
             0.1111111111111111,
             "#46039f"
            ],
            [
             0.2222222222222222,
             "#7201a8"
            ],
            [
             0.3333333333333333,
             "#9c179e"
            ],
            [
             0.4444444444444444,
             "#bd3786"
            ],
            [
             0.5555555555555556,
             "#d8576b"
            ],
            [
             0.6666666666666666,
             "#ed7953"
            ],
            [
             0.7777777777777778,
             "#fb9f3a"
            ],
            [
             0.8888888888888888,
             "#fdca26"
            ],
            [
             1,
             "#f0f921"
            ]
           ]
          },
          "colorway": [
           "#636efa",
           "#EF553B",
           "#00cc96",
           "#ab63fa",
           "#FFA15A",
           "#19d3f3",
           "#FF6692",
           "#B6E880",
           "#FF97FF",
           "#FECB52"
          ],
          "font": {
           "color": "#2a3f5f"
          },
          "geo": {
           "bgcolor": "white",
           "lakecolor": "white",
           "landcolor": "#E5ECF6",
           "showlakes": true,
           "showland": true,
           "subunitcolor": "white"
          },
          "hoverlabel": {
           "align": "left"
          },
          "hovermode": "closest",
          "mapbox": {
           "style": "light"
          },
          "paper_bgcolor": "white",
          "plot_bgcolor": "#E5ECF6",
          "polar": {
           "angularaxis": {
            "gridcolor": "white",
            "linecolor": "white",
            "ticks": ""
           },
           "bgcolor": "#E5ECF6",
           "radialaxis": {
            "gridcolor": "white",
            "linecolor": "white",
            "ticks": ""
           }
          },
          "scene": {
           "xaxis": {
            "backgroundcolor": "#E5ECF6",
            "gridcolor": "white",
            "gridwidth": 2,
            "linecolor": "white",
            "showbackground": true,
            "ticks": "",
            "zerolinecolor": "white"
           },
           "yaxis": {
            "backgroundcolor": "#E5ECF6",
            "gridcolor": "white",
            "gridwidth": 2,
            "linecolor": "white",
            "showbackground": true,
            "ticks": "",
            "zerolinecolor": "white"
           },
           "zaxis": {
            "backgroundcolor": "#E5ECF6",
            "gridcolor": "white",
            "gridwidth": 2,
            "linecolor": "white",
            "showbackground": true,
            "ticks": "",
            "zerolinecolor": "white"
           }
          },
          "shapedefaults": {
           "line": {
            "color": "#2a3f5f"
           }
          },
          "ternary": {
           "aaxis": {
            "gridcolor": "white",
            "linecolor": "white",
            "ticks": ""
           },
           "baxis": {
            "gridcolor": "white",
            "linecolor": "white",
            "ticks": ""
           },
           "bgcolor": "#E5ECF6",
           "caxis": {
            "gridcolor": "white",
            "linecolor": "white",
            "ticks": ""
           }
          },
          "title": {
           "x": 0.05
          },
          "xaxis": {
           "automargin": true,
           "gridcolor": "white",
           "linecolor": "white",
           "ticks": "",
           "title": {
            "standoff": 15
           },
           "zerolinecolor": "white",
           "zerolinewidth": 2
          },
          "yaxis": {
           "automargin": true,
           "gridcolor": "white",
           "linecolor": "white",
           "ticks": "",
           "title": {
            "standoff": 15
           },
           "zerolinecolor": "white",
           "zerolinewidth": 2
          }
         }
        },
        "xaxis": {
         "anchor": "y",
         "domain": [
          0,
          1
         ],
         "title": {
          "text": "screen_size"
         }
        },
        "yaxis": {
         "anchor": "x",
         "domain": [
          0,
          1
         ],
         "title": {
          "text": "count"
         }
        }
       }
      }
     },
     "metadata": {},
     "output_type": "display_data"
    }
   ],
   "source": [
    "pdf = df\n",
    "px.histogram(pdf, x='screen_size')"
   ]
  },
  {
   "cell_type": "code",
   "execution_count": 15,
   "id": "7d1e6883",
   "metadata": {},
   "outputs": [
    {
     "data": {
      "application/vnd.plotly.v1+json": {
       "config": {
        "plotlyServerURL": "https://plot.ly"
       },
       "data": [
        {
         "coloraxis": "coloraxis",
         "histfunc": "avg",
         "hovertemplate": "screen_size=%{x}<br>brand=%{y}<br>avg of popularity_become_fan=%{z}<extra></extra>",
         "name": "",
         "type": "histogram2d",
         "x": {
          "bdata": "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",
          "dtype": "f8"
         },
         "xaxis": "x",
         "xbingroup": "x",
         "y": [
          "Apple",
          "Apple",
          "Apple",
          "Apple",
          "Apple",
          "Apple",
          "Apple",
          "Apple",
          "Apple",
          "Apple",
          "Apple",
          "Apple",
          "Apple",
          "Apple",
          "Apple",
          "Apple",
          "Apple",
          "Apple",
          "Apple",
          "Apple",
          "Apple",
          "Apple",
          "Apple",
          "Asus",
          "Asus",
          "Asus",
          "Asus",
          "Asus",
          "Asus",
          "Asus",
          "Asus",
          "Asus",
          "Asus",
          "Asus",
          "Asus",
          "Asus",
          "Asus",
          "Asus",
          "Asus",
          "Asus",
          "Asus",
          "Asus",
          "Asus",
          "Asus",
          "Asus",
          "Asus",
          "Asus",
          "Asus",
          "Asus",
          "Asus",
          "Asus",
          "Asus",
          "Fairphone",
          "Fairphone",
          "Fairphone",
          "Google",
          "Google",
          "Google",
          "Google",
          "Google",
          "Google",
          "Google",
          "Google",
          "Google",
          "Google",
          "Google",
          "Google",
          "Google",
          "Google",
          "Google",
          "Google",
          "Google",
          "Google",
          "Microsoft",
          "Microsoft",
          "Nothing",
          "Nothing",
          "Nothing",
          "Nothing",
          "Nothing",
          "Nothing",
          "Nothing",
          "OnePlus",
          "OnePlus",
          "OnePlus",
          "OnePlus",
          "OnePlus",
          "OnePlus",
          "OnePlus",
          "OnePlus",
          "OnePlus",
          "OnePlus",
          "OnePlus",
          "OnePlus",
          "OnePlus",
          "OnePlus",
          "OnePlus",
          "OnePlus",
          "OnePlus",
          "OnePlus",
          "OnePlus",
          "OnePlus",
          "OnePlus",
          "OnePlus",
          "OnePlus",
          "OnePlus",
          "OnePlus",
          "OnePlus",
          "OnePlus",
          "OnePlus",
          "OnePlus",
          "OnePlus",
          "OnePlus",
          "OnePlus",
          "OnePlus",
          "OnePlus",
          "OnePlus",
          "OnePlus",
          "OnePlus",
          "OnePlus",
          "OnePlus",
          "OnePlus",
          "OnePlus",
          "OnePlus",
          "OnePlus",
          "OnePlus",
          "OnePlus",
          "OnePlus",
          "OnePlus",
          "OnePlus",
          "OnePlus",
          "OnePlus",
          "OnePlus",
          "OnePlus",
          "OnePlus",
          "Samsung",
          "Samsung",
          "Samsung",
          "Samsung",
          "Samsung",
          "Samsung",
          "Samsung",
          "Samsung",
          "Samsung",
          "Samsung",
          "Samsung",
          "Samsung",
          "Samsung",
          "Samsung",
          "Samsung",
          "Samsung",
          "Samsung",
          "Samsung",
          "Samsung",
          "Samsung",
          "Samsung",
          "Samsung",
          "Samsung",
          "Samsung",
          "Samsung",
          "Samsung",
          "Samsung",
          "Samsung",
          "Samsung",
          "Samsung",
          "Samsung",
          "Samsung",
          "Samsung",
          "Samsung",
          "Samsung",
          "Samsung",
          "Samsung",
          "Samsung",
          "Samsung",
          "Samsung",
          "Samsung",
          "Samsung",
          "Samsung",
          "Samsung",
          "Samsung",
          "Samsung",
          "Samsung",
          "Samsung",
          "Samsung",
          "Samsung",
          "Samsung",
          "Samsung",
          "Samsung",
          "Samsung",
          "Samsung",
          "Samsung",
          "Samsung",
          "Samsung",
          "Samsung",
          "Samsung",
          "Samsung",
          "Samsung",
          "Samsung",
          "Samsung",
          "Samsung",
          "Samsung",
          "Samsung",
          "Samsung",
          "Samsung",
          "Samsung",
          "Samsung",
          "Samsung",
          "Samsung",
          "Samsung",
          "Samsung",
          "Samsung",
          "Samsung",
          "Samsung",
          "Samsung",
          "Samsung",
          "Samsung",
          "Samsung",
          "Samsung",
          "Samsung",
          "Samsung",
          "Samsung",
          "Samsung",
          "Samsung",
          "Samsung",
          "Samsung",
          "Samsung",
          "Samsung",
          "Samsung",
          "Samsung",
          "Samsung",
          "Samsung",
          "Samsung",
          "Samsung",
          "Samsung",
          "Samsung",
          "Samsung",
          "Samsung",
          "Samsung",
          "Samsung",
          "Samsung",
          "Samsung",
          "Samsung",
          "Samsung",
          "Samsung",
          "Samsung",
          "Samsung",
          "Samsung",
          "Samsung",
          "Samsung",
          "Samsung",
          "Samsung",
          "Samsung",
          "Samsung",
          "Samsung",
          "Samsung",
          "Samsung",
          "Samsung",
          "Samsung",
          "Samsung",
          "Samsung",
          "Samsung",
          "Samsung",
          "Samsung",
          "Samsung",
          "Samsung",
          "Samsung",
          "Samsung",
          "Samsung",
          "Samsung",
          "Samsung",
          "Samsung",
          "Samsung",
          "Samsung",
          "Samsung",
          "Samsung",
          "Samsung",
          "Samsung",
          "Samsung",
          "Samsung",
          "Samsung",
          "Samsung",
          "Samsung",
          "Samsung",
          "Samsung",
          "Samsung",
          "Samsung",
          "Samsung",
          "Samsung",
          "Samsung",
          "Samsung",
          "Samsung",
          "Samsung",
          "Samsung",
          "Samsung",
          "Samsung",
          "Samsung",
          "Samsung",
          "Samsung",
          "Samsung",
          "Samsung",
          "Samsung",
          "Samsung",
          "Samsung",
          "Samsung",
          "Samsung",
          "Samsung",
          "Samsung",
          "Sony",
          "Sony",
          "Sony",
          "Sony",
          "Sony",
          "Sony",
          "Sony",
          "Sony",
          "Sony",
          "Sony",
          "Sony",
          "Sony",
          "Sony",
          "Sony",
          "Sony",
          "Sony",
          "Sony",
          "Sony",
          "Xiaomi",
          "Xiaomi",
          "Xiaomi",
          "Xiaomi",
          "Xiaomi",
          "Xiaomi",
          "Xiaomi",
          "Xiaomi",
          "Xiaomi",
          "Xiaomi",
          "Xiaomi",
          "Xiaomi",
          "Xiaomi",
          "Xiaomi",
          "Xiaomi",
          "Xiaomi",
          "Xiaomi",
          "Xiaomi",
          "Xiaomi",
          "Xiaomi",
          "Xiaomi",
          "Xiaomi",
          "Xiaomi",
          "Xiaomi",
          "Xiaomi",
          "Xiaomi",
          "Xiaomi",
          "Xiaomi",
          "Xiaomi",
          "Xiaomi",
          "Xiaomi",
          "Xiaomi",
          "Xiaomi",
          "Xiaomi",
          "Xiaomi",
          "Xiaomi",
          "Xiaomi",
          "Xiaomi",
          "Xiaomi",
          "Xiaomi",
          "Xiaomi",
          "Xiaomi",
          "Xiaomi",
          "Xiaomi",
          "Xiaomi",
          "Xiaomi",
          "Xiaomi",
          "Xiaomi",
          "Xiaomi",
          "Xiaomi",
          "Xiaomi",
          "Xiaomi",
          "Xiaomi",
          "Xiaomi",
          "Xiaomi",
          "Xiaomi",
          "Xiaomi",
          "Xiaomi",
          "Xiaomi",
          "Xiaomi",
          "Xiaomi",
          "Xiaomi",
          "Xiaomi",
          "Xiaomi",
          "Xiaomi",
          "Xiaomi",
          "Xiaomi",
          "Xiaomi",
          "Xiaomi",
          "Xiaomi",
          "Xiaomi",
          "Xiaomi",
          "Xiaomi",
          "Xiaomi",
          "Xiaomi",
          "Xiaomi",
          "Xiaomi",
          "Xiaomi",
          "Xiaomi",
          "Xiaomi",
          "Xiaomi",
          "Xiaomi",
          "Xiaomi",
          "Xiaomi",
          "Xiaomi",
          "Xiaomi",
          "Xiaomi",
          "Xiaomi",
          "Xiaomi",
          "Xiaomi",
          "Xiaomi",
          "Xiaomi",
          "Xiaomi",
          "Xiaomi",
          "Xiaomi",
          "Xiaomi",
          "Xiaomi",
          "Xiaomi",
          "Xiaomi",
          "Xiaomi",
          "Xiaomi",
          "Xiaomi",
          "Xiaomi",
          "Xiaomi",
          "Xiaomi",
          "Xiaomi",
          "Xiaomi",
          "Xiaomi",
          "Xiaomi",
          "Xiaomi",
          "Xiaomi",
          "Xiaomi",
          "Xiaomi",
          "Xiaomi",
          "Xiaomi",
          "Xiaomi",
          "Xiaomi",
          "Xiaomi",
          "Xiaomi",
          "Xiaomi",
          "Xiaomi",
          "Xiaomi",
          "Xiaomi",
          "Xiaomi",
          "Xiaomi",
          "Xiaomi",
          "Xiaomi",
          "Xiaomi",
          "Xiaomi",
          "Xiaomi",
          "Xiaomi",
          "Xiaomi",
          "Xiaomi",
          "Xiaomi",
          "Xiaomi",
          "Xiaomi",
          "Xiaomi",
          "Xiaomi",
          "Xiaomi",
          "Xiaomi",
          "Xiaomi",
          "Xiaomi",
          "Xiaomi",
          "Xiaomi",
          "Xiaomi",
          "Xiaomi",
          "Xiaomi",
          "Xiaomi",
          "Xiaomi",
          "Xiaomi",
          "Xiaomi",
          "Xiaomi",
          "Xiaomi",
          "Xiaomi",
          "Xiaomi",
          "Xiaomi",
          "Xiaomi",
          "Xiaomi",
          "Xiaomi",
          "Xiaomi",
          "Xiaomi",
          "Xiaomi",
          "Xiaomi",
          "Xiaomi",
          "Xiaomi",
          "Xiaomi",
          "Xiaomi",
          "Xiaomi",
          "Xiaomi",
          "Xiaomi",
          "Xiaomi",
          "Xiaomi",
          "Xiaomi",
          "Xiaomi",
          "Xiaomi",
          "Xiaomi",
          "Xiaomi",
          "Xiaomi",
          "Xiaomi",
          "Xiaomi",
          "Xiaomi",
          "Xiaomi",
          "Xiaomi",
          "Xiaomi",
          "Xiaomi",
          "Xiaomi",
          "Xiaomi",
          "Xiaomi",
          "Xiaomi",
          "Xiaomi",
          "Xiaomi",
          "Xiaomi",
          "Xiaomi",
          "Xiaomi",
          "Xiaomi",
          "Xiaomi",
          "Xiaomi",
          "Xiaomi",
          "Xiaomi",
          "Xiaomi",
          "Xiaomi",
          "Xiaomi",
          "Xiaomi",
          "Xiaomi",
          "Xiaomi",
          "Xiaomi",
          "Xiaomi",
          "Xiaomi",
          "Xiaomi",
          "Xiaomi",
          "Xiaomi",
          "Xiaomi",
          "Xiaomi",
          "Xiaomi",
          "Xiaomi",
          "Xiaomi",
          "Xiaomi",
          "Xiaomi",
          "Xiaomi",
          "Xiaomi",
          "Xiaomi",
          "Xiaomi",
          "Xiaomi",
          "Xiaomi",
          "Xiaomi",
          "Xiaomi",
          "Xiaomi",
          "Xiaomi",
          "Xiaomi",
          "Xiaomi",
          "Xiaomi",
          "Xiaomi",
          "Xiaomi",
          "Xiaomi",
          "Xiaomi",
          "Xiaomi",
          "Xiaomi",
          "Xiaomi",
          "Xiaomi",
          "Xiaomi",
          "Xiaomi",
          "Xiaomi",
          "Xiaomi",
          "Xiaomi",
          "Xiaomi",
          "Xiaomi",
          "Xiaomi",
          "Xiaomi",
          "Xiaomi",
          "Xiaomi",
          "Xiaomi",
          "Xiaomi",
          "Xiaomi",
          "Xiaomi",
          "Xiaomi",
          "Xiaomi",
          "Xiaomi",
          "Xiaomi",
          "Xiaomi",
          "Xiaomi",
          "Xiaomi",
          "Xiaomi",
          "Xiaomi",
          "Xiaomi",
          "Xiaomi",
          "Xiaomi",
          "Xiaomi",
          "Xiaomi",
          "Xiaomi",
          "Xiaomi",
          "Xiaomi",
          "Xiaomi",
          "Xiaomi",
          "Xiaomi",
          "Xiaomi",
          "Xiaomi",
          "Xiaomi"
         ],
         "yaxis": "y",
         "ybingroup": "y",
         "z": {
          "bdata": "xgDxAdQAYACkAKUCQAGZAA8BKgO6AbsAywBlAfMD2gFVAr8BKgSZATUCaQIAA1kA3gAwADkA4ABUAVwAQgICAZ0AjAA1ACwAMQDBAvYAmwALAXoAlQDxADUChAGSAEwBSgGrANMBgACMAHcAMgB8AVABuwCBAM4AxAKZAasAcwE1AwQCeAJjBH0CRAEyAygBxwK4ALkAqgB2AIQA8ABqARQC9QKAAE8APADqAfQAcQAmAA8AhACIABUA7ADQAlwA2QCYAI0A8AA6AIAAYwCzAF4ALQIZAFkAIADjAJsASwBnACoAewBYAHkAhQKkAMMAdQFYANIAcAI0AegAzwBVABgCdwDgAtMDdQEbACIA8QCMAD8AHQARACAAGQAvA7wA/QCeAFQAgwA8ATkAEgAYAGUAHADvAMQAYwBeAGQAeQBvA5kBRwAWADAAeQbjAQACRgDzAK8A+ACmAa0AcQA7ABMBJAGAAIgA4wBHAK4AAATqAVkAEwcdAkcDoQAEARgAHQBPAH4AVgBBASMBtQAjABwAPACJADIAMQCpAHcAlALDAoMBdQCPAG8A5QDtAHIH6QGdAtcDfgB6AGAAPgBDAT4ARwCaAKwEWgFVARgAQgBTAEEAiQCyAM8AWwBgAFgA1AA6ABYAIAI8AoQCYgB8ARYBNwFIAC4HLwLcAuoAOACYASkAVgCZADYAQgBuAIUDuwG/AMkCWgApARAFcgG1ALwAhgBYASAAHgBTAGYAQwBSATUAeQDqAMYAYgB9ADcBtAALAbgA4AGaBEwBfQG3AUMAQQEoAhcBrACkAf4BgwAfA1UADQD3AZUAWAGwAuIAtAGhAg4BTQJ+AAcEawJ0AWcB3wJfBVkBiQB3ARwBEACOAEQALQBEADwALwE7ABUAAwCYACUAEQBGAHcARQGiAGoAXwEdABwADQA3AccAOQAPADkAHwBxALQAZAAuACEAZABFABQADwFuAREAEwELAHsAPQAjAkgCQQCZAMIAnALKAg8BagIHAcIAHwASACwA5wB2AGIANACLAEMA/gGZAV4BXgDxAIUASwBpACsALwClAGEAdACAATIDIQIOAGoAcQB5ARkAGADqAHsCFwK7AA4AiQGIABoBCgB6AOcASAC3AFkAhwCmARICPgC2AegACwAXAGgAHQAVABoAbwCZAAkADAAaAKYAvwBOACQBCgKdAIIAWABdAeMAMAB0AHsAGQAVACEAfQFeABkA5wBMAEUAMAA2ADUAygHGAJMATwBsAtYBJQELAJoAQQBCABoAUAGJAKQARQBXAeYAkgAAAm4AYgBCAC4AxAB2AWQAfwAxADQA1AALABMAGAAQAH8CcgFQAT8A4AANAhkBKAEtAGkAUQDdAFABqQCEABsAAAGlBHwBzwC0AXUB5AC+AKsERQXdAP8F2ABdAVoCKwFPANEA4gDhALQAQgG5AHcDWABEAXQASgC1AbYAMwCmArEBJgEaAB4ANQALAbEDHAD+AhkBRAB7ALMAwAArAJcArAHkAI4AZgBYAO8CaQBYA44BwQHFADYBCwFkATICSAG3ALMBvAADA+oBKAAlAF4B+wAlABcACwBEACgAOAAhABgAqgA+AA==",
          "dtype": "i2"
         }
        }
       ],
       "layout": {
        "coloraxis": {
         "colorbar": {
          "title": {
           "text": "avg of popularity_become_fan"
          }
         },
         "colorscale": [
          [
           0,
           "#0d0887"
          ],
          [
           0.1111111111111111,
           "#46039f"
          ],
          [
           0.2222222222222222,
           "#7201a8"
          ],
          [
           0.3333333333333333,
           "#9c179e"
          ],
          [
           0.4444444444444444,
           "#bd3786"
          ],
          [
           0.5555555555555556,
           "#d8576b"
          ],
          [
           0.6666666666666666,
           "#ed7953"
          ],
          [
           0.7777777777777778,
           "#fb9f3a"
          ],
          [
           0.8888888888888888,
           "#fdca26"
          ],
          [
           1,
           "#f0f921"
          ]
         ]
        },
        "legend": {
         "tracegroupgap": 0
        },
        "margin": {
         "t": 60
        },
        "template": {
         "data": {
          "bar": [
           {
            "error_x": {
             "color": "#2a3f5f"
            },
            "error_y": {
             "color": "#2a3f5f"
            },
            "marker": {
             "line": {
              "color": "#E5ECF6",
              "width": 0.5
             },
             "pattern": {
              "fillmode": "overlay",
              "size": 10,
              "solidity": 0.2
             }
            },
            "type": "bar"
           }
          ],
          "barpolar": [
           {
            "marker": {
             "line": {
              "color": "#E5ECF6",
              "width": 0.5
             },
             "pattern": {
              "fillmode": "overlay",
              "size": 10,
              "solidity": 0.2
             }
            },
            "type": "barpolar"
           }
          ],
          "carpet": [
           {
            "aaxis": {
             "endlinecolor": "#2a3f5f",
             "gridcolor": "white",
             "linecolor": "white",
             "minorgridcolor": "white",
             "startlinecolor": "#2a3f5f"
            },
            "baxis": {
             "endlinecolor": "#2a3f5f",
             "gridcolor": "white",
             "linecolor": "white",
             "minorgridcolor": "white",
             "startlinecolor": "#2a3f5f"
            },
            "type": "carpet"
           }
          ],
          "choropleth": [
           {
            "colorbar": {
             "outlinewidth": 0,
             "ticks": ""
            },
            "type": "choropleth"
           }
          ],
          "contour": [
           {
            "colorbar": {
             "outlinewidth": 0,
             "ticks": ""
            },
            "colorscale": [
             [
              0,
              "#0d0887"
             ],
             [
              0.1111111111111111,
              "#46039f"
             ],
             [
              0.2222222222222222,
              "#7201a8"
             ],
             [
              0.3333333333333333,
              "#9c179e"
             ],
             [
              0.4444444444444444,
              "#bd3786"
             ],
             [
              0.5555555555555556,
              "#d8576b"
             ],
             [
              0.6666666666666666,
              "#ed7953"
             ],
             [
              0.7777777777777778,
              "#fb9f3a"
             ],
             [
              0.8888888888888888,
              "#fdca26"
             ],
             [
              1,
              "#f0f921"
             ]
            ],
            "type": "contour"
           }
          ],
          "contourcarpet": [
           {
            "colorbar": {
             "outlinewidth": 0,
             "ticks": ""
            },
            "type": "contourcarpet"
           }
          ],
          "heatmap": [
           {
            "colorbar": {
             "outlinewidth": 0,
             "ticks": ""
            },
            "colorscale": [
             [
              0,
              "#0d0887"
             ],
             [
              0.1111111111111111,
              "#46039f"
             ],
             [
              0.2222222222222222,
              "#7201a8"
             ],
             [
              0.3333333333333333,
              "#9c179e"
             ],
             [
              0.4444444444444444,
              "#bd3786"
             ],
             [
              0.5555555555555556,
              "#d8576b"
             ],
             [
              0.6666666666666666,
              "#ed7953"
             ],
             [
              0.7777777777777778,
              "#fb9f3a"
             ],
             [
              0.8888888888888888,
              "#fdca26"
             ],
             [
              1,
              "#f0f921"
             ]
            ],
            "type": "heatmap"
           }
          ],
          "histogram": [
           {
            "marker": {
             "pattern": {
              "fillmode": "overlay",
              "size": 10,
              "solidity": 0.2
             }
            },
            "type": "histogram"
           }
          ],
          "histogram2d": [
           {
            "colorbar": {
             "outlinewidth": 0,
             "ticks": ""
            },
            "colorscale": [
             [
              0,
              "#0d0887"
             ],
             [
              0.1111111111111111,
              "#46039f"
             ],
             [
              0.2222222222222222,
              "#7201a8"
             ],
             [
              0.3333333333333333,
              "#9c179e"
             ],
             [
              0.4444444444444444,
              "#bd3786"
             ],
             [
              0.5555555555555556,
              "#d8576b"
             ],
             [
              0.6666666666666666,
              "#ed7953"
             ],
             [
              0.7777777777777778,
              "#fb9f3a"
             ],
             [
              0.8888888888888888,
              "#fdca26"
             ],
             [
              1,
              "#f0f921"
             ]
            ],
            "type": "histogram2d"
           }
          ],
          "histogram2dcontour": [
           {
            "colorbar": {
             "outlinewidth": 0,
             "ticks": ""
            },
            "colorscale": [
             [
              0,
              "#0d0887"
             ],
             [
              0.1111111111111111,
              "#46039f"
             ],
             [
              0.2222222222222222,
              "#7201a8"
             ],
             [
              0.3333333333333333,
              "#9c179e"
             ],
             [
              0.4444444444444444,
              "#bd3786"
             ],
             [
              0.5555555555555556,
              "#d8576b"
             ],
             [
              0.6666666666666666,
              "#ed7953"
             ],
             [
              0.7777777777777778,
              "#fb9f3a"
             ],
             [
              0.8888888888888888,
              "#fdca26"
             ],
             [
              1,
              "#f0f921"
             ]
            ],
            "type": "histogram2dcontour"
           }
          ],
          "mesh3d": [
           {
            "colorbar": {
             "outlinewidth": 0,
             "ticks": ""
            },
            "type": "mesh3d"
           }
          ],
          "parcoords": [
           {
            "line": {
             "colorbar": {
              "outlinewidth": 0,
              "ticks": ""
             }
            },
            "type": "parcoords"
           }
          ],
          "pie": [
           {
            "automargin": true,
            "type": "pie"
           }
          ],
          "scatter": [
           {
            "fillpattern": {
             "fillmode": "overlay",
             "size": 10,
             "solidity": 0.2
            },
            "type": "scatter"
           }
          ],
          "scatter3d": [
           {
            "line": {
             "colorbar": {
              "outlinewidth": 0,
              "ticks": ""
             }
            },
            "marker": {
             "colorbar": {
              "outlinewidth": 0,
              "ticks": ""
             }
            },
            "type": "scatter3d"
           }
          ],
          "scattercarpet": [
           {
            "marker": {
             "colorbar": {
              "outlinewidth": 0,
              "ticks": ""
             }
            },
            "type": "scattercarpet"
           }
          ],
          "scattergeo": [
           {
            "marker": {
             "colorbar": {
              "outlinewidth": 0,
              "ticks": ""
             }
            },
            "type": "scattergeo"
           }
          ],
          "scattergl": [
           {
            "marker": {
             "colorbar": {
              "outlinewidth": 0,
              "ticks": ""
             }
            },
            "type": "scattergl"
           }
          ],
          "scattermap": [
           {
            "marker": {
             "colorbar": {
              "outlinewidth": 0,
              "ticks": ""
             }
            },
            "type": "scattermap"
           }
          ],
          "scattermapbox": [
           {
            "marker": {
             "colorbar": {
              "outlinewidth": 0,
              "ticks": ""
             }
            },
            "type": "scattermapbox"
           }
          ],
          "scatterpolar": [
           {
            "marker": {
             "colorbar": {
              "outlinewidth": 0,
              "ticks": ""
             }
            },
            "type": "scatterpolar"
           }
          ],
          "scatterpolargl": [
           {
            "marker": {
             "colorbar": {
              "outlinewidth": 0,
              "ticks": ""
             }
            },
            "type": "scatterpolargl"
           }
          ],
          "scatterternary": [
           {
            "marker": {
             "colorbar": {
              "outlinewidth": 0,
              "ticks": ""
             }
            },
            "type": "scatterternary"
           }
          ],
          "surface": [
           {
            "colorbar": {
             "outlinewidth": 0,
             "ticks": ""
            },
            "colorscale": [
             [
              0,
              "#0d0887"
             ],
             [
              0.1111111111111111,
              "#46039f"
             ],
             [
              0.2222222222222222,
              "#7201a8"
             ],
             [
              0.3333333333333333,
              "#9c179e"
             ],
             [
              0.4444444444444444,
              "#bd3786"
             ],
             [
              0.5555555555555556,
              "#d8576b"
             ],
             [
              0.6666666666666666,
              "#ed7953"
             ],
             [
              0.7777777777777778,
              "#fb9f3a"
             ],
             [
              0.8888888888888888,
              "#fdca26"
             ],
             [
              1,
              "#f0f921"
             ]
            ],
            "type": "surface"
           }
          ],
          "table": [
           {
            "cells": {
             "fill": {
              "color": "#EBF0F8"
             },
             "line": {
              "color": "white"
             }
            },
            "header": {
             "fill": {
              "color": "#C8D4E3"
             },
             "line": {
              "color": "white"
             }
            },
            "type": "table"
           }
          ]
         },
         "layout": {
          "annotationdefaults": {
           "arrowcolor": "#2a3f5f",
           "arrowhead": 0,
           "arrowwidth": 1
          },
          "autotypenumbers": "strict",
          "coloraxis": {
           "colorbar": {
            "outlinewidth": 0,
            "ticks": ""
           }
          },
          "colorscale": {
           "diverging": [
            [
             0,
             "#8e0152"
            ],
            [
             0.1,
             "#c51b7d"
            ],
            [
             0.2,
             "#de77ae"
            ],
            [
             0.3,
             "#f1b6da"
            ],
            [
             0.4,
             "#fde0ef"
            ],
            [
             0.5,
             "#f7f7f7"
            ],
            [
             0.6,
             "#e6f5d0"
            ],
            [
             0.7,
             "#b8e186"
            ],
            [
             0.8,
             "#7fbc41"
            ],
            [
             0.9,
             "#4d9221"
            ],
            [
             1,
             "#276419"
            ]
           ],
           "sequential": [
            [
             0,
             "#0d0887"
            ],
            [
             0.1111111111111111,
             "#46039f"
            ],
            [
             0.2222222222222222,
             "#7201a8"
            ],
            [
             0.3333333333333333,
             "#9c179e"
            ],
            [
             0.4444444444444444,
             "#bd3786"
            ],
            [
             0.5555555555555556,
             "#d8576b"
            ],
            [
             0.6666666666666666,
             "#ed7953"
            ],
            [
             0.7777777777777778,
             "#fb9f3a"
            ],
            [
             0.8888888888888888,
             "#fdca26"
            ],
            [
             1,
             "#f0f921"
            ]
           ],
           "sequentialminus": [
            [
             0,
             "#0d0887"
            ],
            [
             0.1111111111111111,
             "#46039f"
            ],
            [
             0.2222222222222222,
             "#7201a8"
            ],
            [
             0.3333333333333333,
             "#9c179e"
            ],
            [
             0.4444444444444444,
             "#bd3786"
            ],
            [
             0.5555555555555556,
             "#d8576b"
            ],
            [
             0.6666666666666666,
             "#ed7953"
            ],
            [
             0.7777777777777778,
             "#fb9f3a"
            ],
            [
             0.8888888888888888,
             "#fdca26"
            ],
            [
             1,
             "#f0f921"
            ]
           ]
          },
          "colorway": [
           "#636efa",
           "#EF553B",
           "#00cc96",
           "#ab63fa",
           "#FFA15A",
           "#19d3f3",
           "#FF6692",
           "#B6E880",
           "#FF97FF",
           "#FECB52"
          ],
          "font": {
           "color": "#2a3f5f"
          },
          "geo": {
           "bgcolor": "white",
           "lakecolor": "white",
           "landcolor": "#E5ECF6",
           "showlakes": true,
           "showland": true,
           "subunitcolor": "white"
          },
          "hoverlabel": {
           "align": "left"
          },
          "hovermode": "closest",
          "mapbox": {
           "style": "light"
          },
          "paper_bgcolor": "white",
          "plot_bgcolor": "#E5ECF6",
          "polar": {
           "angularaxis": {
            "gridcolor": "white",
            "linecolor": "white",
            "ticks": ""
           },
           "bgcolor": "#E5ECF6",
           "radialaxis": {
            "gridcolor": "white",
            "linecolor": "white",
            "ticks": ""
           }
          },
          "scene": {
           "xaxis": {
            "backgroundcolor": "#E5ECF6",
            "gridcolor": "white",
            "gridwidth": 2,
            "linecolor": "white",
            "showbackground": true,
            "ticks": "",
            "zerolinecolor": "white"
           },
           "yaxis": {
            "backgroundcolor": "#E5ECF6",
            "gridcolor": "white",
            "gridwidth": 2,
            "linecolor": "white",
            "showbackground": true,
            "ticks": "",
            "zerolinecolor": "white"
           },
           "zaxis": {
            "backgroundcolor": "#E5ECF6",
            "gridcolor": "white",
            "gridwidth": 2,
            "linecolor": "white",
            "showbackground": true,
            "ticks": "",
            "zerolinecolor": "white"
           }
          },
          "shapedefaults": {
           "line": {
            "color": "#2a3f5f"
           }
          },
          "ternary": {
           "aaxis": {
            "gridcolor": "white",
            "linecolor": "white",
            "ticks": ""
           },
           "baxis": {
            "gridcolor": "white",
            "linecolor": "white",
            "ticks": ""
           },
           "bgcolor": "#E5ECF6",
           "caxis": {
            "gridcolor": "white",
            "linecolor": "white",
            "ticks": ""
           }
          },
          "title": {
           "x": 0.05
          },
          "xaxis": {
           "automargin": true,
           "gridcolor": "white",
           "linecolor": "white",
           "ticks": "",
           "title": {
            "standoff": 15
           },
           "zerolinecolor": "white",
           "zerolinewidth": 2
          },
          "yaxis": {
           "automargin": true,
           "gridcolor": "white",
           "linecolor": "white",
           "ticks": "",
           "title": {
            "standoff": 15
           },
           "zerolinecolor": "white",
           "zerolinewidth": 2
          }
         }
        },
        "xaxis": {
         "anchor": "y",
         "domain": [
          0,
          1
         ],
         "title": {
          "text": "screen_size"
         }
        },
        "yaxis": {
         "anchor": "x",
         "domain": [
          0,
          1
         ],
         "title": {
          "text": "brand"
         }
        }
       }
      }
     },
     "metadata": {},
     "output_type": "display_data"
    }
   ],
   "source": [
    "# pdf = df.groupby(['height_mm', 'length_mm', 'screen_size'])['popularity_become_fan'].mean().reset_index()\n",
    "pdf = df\n",
    "px.density_heatmap(pdf, x='screen_size',\n",
    "                 y='brand', # Or perhaps 'width_mm' if that's the intended dimension\n",
    "                 z='popularity_become_fan',\n",
    "                 histfunc='avg')"
   ]
  },
  {
   "cell_type": "markdown",
   "id": "3fa3b6af",
   "metadata": {},
   "source": [
    "Most prefered screen size lies between 6.5-7 inches.\n",
    "\n",
    "Apple small phones with screen size of 4.5-5.5 inches receive the same popularity as their larger models.\n",
    "\n",
    "Google smaller phones with screen size less than 6 inches also compete with the models that have larger screen."
   ]
  },
  {
   "cell_type": "code",
   "execution_count": 16,
   "id": "1bec90e3",
   "metadata": {},
   "outputs": [
    {
     "data": {
      "application/vnd.plotly.v1+json": {
       "config": {
        "plotlyServerURL": "https://plot.ly"
       },
       "data": [
        {
         "hovertemplate": "screen_hz=%{x}<br>popularity_become_fan=%{y}<extra></extra>",
         "legendgroup": "",
         "marker": {
          "color": "#636efa",
          "pattern": {
           "shape": ""
          }
         },
         "name": "",
         "orientation": "v",
         "showlegend": false,
         "textposition": "auto",
         "type": "bar",
         "x": {
          "bdata": "uQClAFoAPACQAHgA",
          "dtype": "i2"
         },
         "xaxis": "x",
         "y": {
          "bdata": "AAAAAABAW0DNzMzMzCxjQHkr+xxSA2VAkiRJkiSZaEC66KKLLvpsQL+zUd/Z0HVA",
          "dtype": "f8"
         },
         "yaxis": "y"
        }
       ],
       "layout": {
        "barmode": "relative",
        "legend": {
         "tracegroupgap": 0
        },
        "margin": {
         "t": 60
        },
        "template": {
         "data": {
          "bar": [
           {
            "error_x": {
             "color": "#2a3f5f"
            },
            "error_y": {
             "color": "#2a3f5f"
            },
            "marker": {
             "line": {
              "color": "#E5ECF6",
              "width": 0.5
             },
             "pattern": {
              "fillmode": "overlay",
              "size": 10,
              "solidity": 0.2
             }
            },
            "type": "bar"
           }
          ],
          "barpolar": [
           {
            "marker": {
             "line": {
              "color": "#E5ECF6",
              "width": 0.5
             },
             "pattern": {
              "fillmode": "overlay",
              "size": 10,
              "solidity": 0.2
             }
            },
            "type": "barpolar"
           }
          ],
          "carpet": [
           {
            "aaxis": {
             "endlinecolor": "#2a3f5f",
             "gridcolor": "white",
             "linecolor": "white",
             "minorgridcolor": "white",
             "startlinecolor": "#2a3f5f"
            },
            "baxis": {
             "endlinecolor": "#2a3f5f",
             "gridcolor": "white",
             "linecolor": "white",
             "minorgridcolor": "white",
             "startlinecolor": "#2a3f5f"
            },
            "type": "carpet"
           }
          ],
          "choropleth": [
           {
            "colorbar": {
             "outlinewidth": 0,
             "ticks": ""
            },
            "type": "choropleth"
           }
          ],
          "contour": [
           {
            "colorbar": {
             "outlinewidth": 0,
             "ticks": ""
            },
            "colorscale": [
             [
              0,
              "#0d0887"
             ],
             [
              0.1111111111111111,
              "#46039f"
             ],
             [
              0.2222222222222222,
              "#7201a8"
             ],
             [
              0.3333333333333333,
              "#9c179e"
             ],
             [
              0.4444444444444444,
              "#bd3786"
             ],
             [
              0.5555555555555556,
              "#d8576b"
             ],
             [
              0.6666666666666666,
              "#ed7953"
             ],
             [
              0.7777777777777778,
              "#fb9f3a"
             ],
             [
              0.8888888888888888,
              "#fdca26"
             ],
             [
              1,
              "#f0f921"
             ]
            ],
            "type": "contour"
           }
          ],
          "contourcarpet": [
           {
            "colorbar": {
             "outlinewidth": 0,
             "ticks": ""
            },
            "type": "contourcarpet"
           }
          ],
          "heatmap": [
           {
            "colorbar": {
             "outlinewidth": 0,
             "ticks": ""
            },
            "colorscale": [
             [
              0,
              "#0d0887"
             ],
             [
              0.1111111111111111,
              "#46039f"
             ],
             [
              0.2222222222222222,
              "#7201a8"
             ],
             [
              0.3333333333333333,
              "#9c179e"
             ],
             [
              0.4444444444444444,
              "#bd3786"
             ],
             [
              0.5555555555555556,
              "#d8576b"
             ],
             [
              0.6666666666666666,
              "#ed7953"
             ],
             [
              0.7777777777777778,
              "#fb9f3a"
             ],
             [
              0.8888888888888888,
              "#fdca26"
             ],
             [
              1,
              "#f0f921"
             ]
            ],
            "type": "heatmap"
           }
          ],
          "histogram": [
           {
            "marker": {
             "pattern": {
              "fillmode": "overlay",
              "size": 10,
              "solidity": 0.2
             }
            },
            "type": "histogram"
           }
          ],
          "histogram2d": [
           {
            "colorbar": {
             "outlinewidth": 0,
             "ticks": ""
            },
            "colorscale": [
             [
              0,
              "#0d0887"
             ],
             [
              0.1111111111111111,
              "#46039f"
             ],
             [
              0.2222222222222222,
              "#7201a8"
             ],
             [
              0.3333333333333333,
              "#9c179e"
             ],
             [
              0.4444444444444444,
              "#bd3786"
             ],
             [
              0.5555555555555556,
              "#d8576b"
             ],
             [
              0.6666666666666666,
              "#ed7953"
             ],
             [
              0.7777777777777778,
              "#fb9f3a"
             ],
             [
              0.8888888888888888,
              "#fdca26"
             ],
             [
              1,
              "#f0f921"
             ]
            ],
            "type": "histogram2d"
           }
          ],
          "histogram2dcontour": [
           {
            "colorbar": {
             "outlinewidth": 0,
             "ticks": ""
            },
            "colorscale": [
             [
              0,
              "#0d0887"
             ],
             [
              0.1111111111111111,
              "#46039f"
             ],
             [
              0.2222222222222222,
              "#7201a8"
             ],
             [
              0.3333333333333333,
              "#9c179e"
             ],
             [
              0.4444444444444444,
              "#bd3786"
             ],
             [
              0.5555555555555556,
              "#d8576b"
             ],
             [
              0.6666666666666666,
              "#ed7953"
             ],
             [
              0.7777777777777778,
              "#fb9f3a"
             ],
             [
              0.8888888888888888,
              "#fdca26"
             ],
             [
              1,
              "#f0f921"
             ]
            ],
            "type": "histogram2dcontour"
           }
          ],
          "mesh3d": [
           {
            "colorbar": {
             "outlinewidth": 0,
             "ticks": ""
            },
            "type": "mesh3d"
           }
          ],
          "parcoords": [
           {
            "line": {
             "colorbar": {
              "outlinewidth": 0,
              "ticks": ""
             }
            },
            "type": "parcoords"
           }
          ],
          "pie": [
           {
            "automargin": true,
            "type": "pie"
           }
          ],
          "scatter": [
           {
            "fillpattern": {
             "fillmode": "overlay",
             "size": 10,
             "solidity": 0.2
            },
            "type": "scatter"
           }
          ],
          "scatter3d": [
           {
            "line": {
             "colorbar": {
              "outlinewidth": 0,
              "ticks": ""
             }
            },
            "marker": {
             "colorbar": {
              "outlinewidth": 0,
              "ticks": ""
             }
            },
            "type": "scatter3d"
           }
          ],
          "scattercarpet": [
           {
            "marker": {
             "colorbar": {
              "outlinewidth": 0,
              "ticks": ""
             }
            },
            "type": "scattercarpet"
           }
          ],
          "scattergeo": [
           {
            "marker": {
             "colorbar": {
              "outlinewidth": 0,
              "ticks": ""
             }
            },
            "type": "scattergeo"
           }
          ],
          "scattergl": [
           {
            "marker": {
             "colorbar": {
              "outlinewidth": 0,
              "ticks": ""
             }
            },
            "type": "scattergl"
           }
          ],
          "scattermap": [
           {
            "marker": {
             "colorbar": {
              "outlinewidth": 0,
              "ticks": ""
             }
            },
            "type": "scattermap"
           }
          ],
          "scattermapbox": [
           {
            "marker": {
             "colorbar": {
              "outlinewidth": 0,
              "ticks": ""
             }
            },
            "type": "scattermapbox"
           }
          ],
          "scatterpolar": [
           {
            "marker": {
             "colorbar": {
              "outlinewidth": 0,
              "ticks": ""
             }
            },
            "type": "scatterpolar"
           }
          ],
          "scatterpolargl": [
           {
            "marker": {
             "colorbar": {
              "outlinewidth": 0,
              "ticks": ""
             }
            },
            "type": "scatterpolargl"
           }
          ],
          "scatterternary": [
           {
            "marker": {
             "colorbar": {
              "outlinewidth": 0,
              "ticks": ""
             }
            },
            "type": "scatterternary"
           }
          ],
          "surface": [
           {
            "colorbar": {
             "outlinewidth": 0,
             "ticks": ""
            },
            "colorscale": [
             [
              0,
              "#0d0887"
             ],
             [
              0.1111111111111111,
              "#46039f"
             ],
             [
              0.2222222222222222,
              "#7201a8"
             ],
             [
              0.3333333333333333,
              "#9c179e"
             ],
             [
              0.4444444444444444,
              "#bd3786"
             ],
             [
              0.5555555555555556,
              "#d8576b"
             ],
             [
              0.6666666666666666,
              "#ed7953"
             ],
             [
              0.7777777777777778,
              "#fb9f3a"
             ],
             [
              0.8888888888888888,
              "#fdca26"
             ],
             [
              1,
              "#f0f921"
             ]
            ],
            "type": "surface"
           }
          ],
          "table": [
           {
            "cells": {
             "fill": {
              "color": "#EBF0F8"
             },
             "line": {
              "color": "white"
             }
            },
            "header": {
             "fill": {
              "color": "#C8D4E3"
             },
             "line": {
              "color": "white"
             }
            },
            "type": "table"
           }
          ]
         },
         "layout": {
          "annotationdefaults": {
           "arrowcolor": "#2a3f5f",
           "arrowhead": 0,
           "arrowwidth": 1
          },
          "autotypenumbers": "strict",
          "coloraxis": {
           "colorbar": {
            "outlinewidth": 0,
            "ticks": ""
           }
          },
          "colorscale": {
           "diverging": [
            [
             0,
             "#8e0152"
            ],
            [
             0.1,
             "#c51b7d"
            ],
            [
             0.2,
             "#de77ae"
            ],
            [
             0.3,
             "#f1b6da"
            ],
            [
             0.4,
             "#fde0ef"
            ],
            [
             0.5,
             "#f7f7f7"
            ],
            [
             0.6,
             "#e6f5d0"
            ],
            [
             0.7,
             "#b8e186"
            ],
            [
             0.8,
             "#7fbc41"
            ],
            [
             0.9,
             "#4d9221"
            ],
            [
             1,
             "#276419"
            ]
           ],
           "sequential": [
            [
             0,
             "#0d0887"
            ],
            [
             0.1111111111111111,
             "#46039f"
            ],
            [
             0.2222222222222222,
             "#7201a8"
            ],
            [
             0.3333333333333333,
             "#9c179e"
            ],
            [
             0.4444444444444444,
             "#bd3786"
            ],
            [
             0.5555555555555556,
             "#d8576b"
            ],
            [
             0.6666666666666666,
             "#ed7953"
            ],
            [
             0.7777777777777778,
             "#fb9f3a"
            ],
            [
             0.8888888888888888,
             "#fdca26"
            ],
            [
             1,
             "#f0f921"
            ]
           ],
           "sequentialminus": [
            [
             0,
             "#0d0887"
            ],
            [
             0.1111111111111111,
             "#46039f"
            ],
            [
             0.2222222222222222,
             "#7201a8"
            ],
            [
             0.3333333333333333,
             "#9c179e"
            ],
            [
             0.4444444444444444,
             "#bd3786"
            ],
            [
             0.5555555555555556,
             "#d8576b"
            ],
            [
             0.6666666666666666,
             "#ed7953"
            ],
            [
             0.7777777777777778,
             "#fb9f3a"
            ],
            [
             0.8888888888888888,
             "#fdca26"
            ],
            [
             1,
             "#f0f921"
            ]
           ]
          },
          "colorway": [
           "#636efa",
           "#EF553B",
           "#00cc96",
           "#ab63fa",
           "#FFA15A",
           "#19d3f3",
           "#FF6692",
           "#B6E880",
           "#FF97FF",
           "#FECB52"
          ],
          "font": {
           "color": "#2a3f5f"
          },
          "geo": {
           "bgcolor": "white",
           "lakecolor": "white",
           "landcolor": "#E5ECF6",
           "showlakes": true,
           "showland": true,
           "subunitcolor": "white"
          },
          "hoverlabel": {
           "align": "left"
          },
          "hovermode": "closest",
          "mapbox": {
           "style": "light"
          },
          "paper_bgcolor": "white",
          "plot_bgcolor": "#E5ECF6",
          "polar": {
           "angularaxis": {
            "gridcolor": "white",
            "linecolor": "white",
            "ticks": ""
           },
           "bgcolor": "#E5ECF6",
           "radialaxis": {
            "gridcolor": "white",
            "linecolor": "white",
            "ticks": ""
           }
          },
          "scene": {
           "xaxis": {
            "backgroundcolor": "#E5ECF6",
            "gridcolor": "white",
            "gridwidth": 2,
            "linecolor": "white",
            "showbackground": true,
            "ticks": "",
            "zerolinecolor": "white"
           },
           "yaxis": {
            "backgroundcolor": "#E5ECF6",
            "gridcolor": "white",
            "gridwidth": 2,
            "linecolor": "white",
            "showbackground": true,
            "ticks": "",
            "zerolinecolor": "white"
           },
           "zaxis": {
            "backgroundcolor": "#E5ECF6",
            "gridcolor": "white",
            "gridwidth": 2,
            "linecolor": "white",
            "showbackground": true,
            "ticks": "",
            "zerolinecolor": "white"
           }
          },
          "shapedefaults": {
           "line": {
            "color": "#2a3f5f"
           }
          },
          "ternary": {
           "aaxis": {
            "gridcolor": "white",
            "linecolor": "white",
            "ticks": ""
           },
           "baxis": {
            "gridcolor": "white",
            "linecolor": "white",
            "ticks": ""
           },
           "bgcolor": "#E5ECF6",
           "caxis": {
            "gridcolor": "white",
            "linecolor": "white",
            "ticks": ""
           }
          },
          "title": {
           "x": 0.05
          },
          "xaxis": {
           "automargin": true,
           "gridcolor": "white",
           "linecolor": "white",
           "ticks": "",
           "title": {
            "standoff": 15
           },
           "zerolinecolor": "white",
           "zerolinewidth": 2
          },
          "yaxis": {
           "automargin": true,
           "gridcolor": "white",
           "linecolor": "white",
           "ticks": "",
           "title": {
            "standoff": 15
           },
           "zerolinecolor": "white",
           "zerolinewidth": 2
          }
         }
        },
        "xaxis": {
         "anchor": "y",
         "domain": [
          0,
          1
         ],
         "title": {
          "text": "screen_hz"
         }
        },
        "yaxis": {
         "anchor": "x",
         "domain": [
          0,
          1
         ],
         "title": {
          "text": "popularity_become_fan"
         }
        }
       }
      }
     },
     "metadata": {},
     "output_type": "display_data"
    }
   ],
   "source": [
    "pdf = df.groupby(['screen_hz'])['popularity_become_fan'].mean().reset_index()\n",
    "px.bar(pdf.sort_values('popularity_become_fan'), x='screen_hz', y='popularity_become_fan')"
   ]
  },
  {
   "cell_type": "markdown",
   "id": "eeefa7f2",
   "metadata": {},
   "source": [
    "Phones with 120 hz screen refresh rate are more popular than phones with basic refresh rate of 60 hz."
   ]
  },
  {
   "cell_type": "code",
   "execution_count": 17,
   "id": "ad4f2973",
   "metadata": {},
   "outputs": [
    {
     "data": {
      "application/vnd.plotly.v1+json": {
       "config": {
        "plotlyServerURL": "https://plot.ly"
       },
       "data": [
        {
         "hovertemplate": "release_year=%{x}<br>screen_type=%{y}<br>popularity_become_fan=%{marker.size}<extra></extra>",
         "legendgroup": "",
         "marker": {
          "color": "#636efa",
          "size": {
           "bdata": "q6qqqqqqKkCrqqqqqqo4QHd3d3d3dz9Aq6qqqqrqRUAAAAAAAABMQFVVVVVV1U9AsRM7sRN7UUC3bdu2bVtUQLdt27Zt21lAAAAAAADAW0CamZmZmdlbQKuqqqqq6l5AzczMzMzMX0AlSZIkSdJfQJIkSZIk8WBAMzMzMzMjYkByHMdxHCdiQAAAAAAAwGhADeU1lNcwaUCrqqqqqrptQHIcx3EcN25A27Zt27btcEByHMdxHHdxQMTDw8PDU3JA27Zt27aBc0BmZmZmZtp1QN7d3d3dhXZAqIM6qIMieEAAAAAAAPB9QC+66KKLDn9AxU7sxE48f0C66KKLLuKFQAAAAAAAqIhA",
           "dtype": "f8"
          },
          "sizemode": "area",
          "sizeref": 0.8766666666666667,
          "symbol": "circle"
         },
         "mode": "markers",
         "name": "",
         "orientation": "h",
         "showlegend": false,
         "type": "scatter",
         "x": {
          "bdata": "AAAAAACkn0AAAAAAAKSfQAAAAAAAoJ9AAAAAAACgn0AAAAAAAJifQAAAAAAAnJ9AAAAAAACYn0AAAAAAAJSfQAAAAAAAmJ9AAAAAAACUn0AAAAAAAKSfQAAAAAAAmJ9AAAAAAACUn0AAAAAAAJyfQAAAAAAAlJ9AAAAAAACQn0AAAAAAAKCfQAAAAAAApJ9AAAAAAACgn0AAAAAAAJCfQAAAAAAAnJ9AAAAAAACkn0AAAAAAAJifQAAAAAAAmJ9AAAAAAACgn0AAAAAAAJyfQAAAAAAAkJ9AAAAAAACUn0AAAAAAAJifQAAAAAAAnJ9AAAAAAACUn0AAAAAAAJCfQAAAAAAAlJ9A",
          "dtype": "f8"
         },
         "xaxis": "x",
         "y": [
          "IPS",
          "PLS",
          "IPS",
          "PLS",
          "LCD",
          "IPS",
          "IPS",
          "PLS",
          "PLS",
          "LCD",
          "AMOLED",
          "TFT",
          "TFT",
          "PLS",
          "IPS",
          "PLS",
          "OLED",
          "OLED",
          "AMOLED",
          "IPS",
          "OLED",
          "LTPO",
          "OLED",
          "AMOLED",
          "LTPO",
          "AMOLED",
          "AMOLED",
          "AMOLED",
          "LTPO",
          "LTPO",
          "OLED",
          "OLED",
          "LTPO"
         ],
         "yaxis": "y"
        }
       ],
       "layout": {
        "legend": {
         "itemsizing": "constant",
         "tracegroupgap": 0
        },
        "margin": {
         "t": 60
        },
        "template": {
         "data": {
          "bar": [
           {
            "error_x": {
             "color": "#2a3f5f"
            },
            "error_y": {
             "color": "#2a3f5f"
            },
            "marker": {
             "line": {
              "color": "#E5ECF6",
              "width": 0.5
             },
             "pattern": {
              "fillmode": "overlay",
              "size": 10,
              "solidity": 0.2
             }
            },
            "type": "bar"
           }
          ],
          "barpolar": [
           {
            "marker": {
             "line": {
              "color": "#E5ECF6",
              "width": 0.5
             },
             "pattern": {
              "fillmode": "overlay",
              "size": 10,
              "solidity": 0.2
             }
            },
            "type": "barpolar"
           }
          ],
          "carpet": [
           {
            "aaxis": {
             "endlinecolor": "#2a3f5f",
             "gridcolor": "white",
             "linecolor": "white",
             "minorgridcolor": "white",
             "startlinecolor": "#2a3f5f"
            },
            "baxis": {
             "endlinecolor": "#2a3f5f",
             "gridcolor": "white",
             "linecolor": "white",
             "minorgridcolor": "white",
             "startlinecolor": "#2a3f5f"
            },
            "type": "carpet"
           }
          ],
          "choropleth": [
           {
            "colorbar": {
             "outlinewidth": 0,
             "ticks": ""
            },
            "type": "choropleth"
           }
          ],
          "contour": [
           {
            "colorbar": {
             "outlinewidth": 0,
             "ticks": ""
            },
            "colorscale": [
             [
              0,
              "#0d0887"
             ],
             [
              0.1111111111111111,
              "#46039f"
             ],
             [
              0.2222222222222222,
              "#7201a8"
             ],
             [
              0.3333333333333333,
              "#9c179e"
             ],
             [
              0.4444444444444444,
              "#bd3786"
             ],
             [
              0.5555555555555556,
              "#d8576b"
             ],
             [
              0.6666666666666666,
              "#ed7953"
             ],
             [
              0.7777777777777778,
              "#fb9f3a"
             ],
             [
              0.8888888888888888,
              "#fdca26"
             ],
             [
              1,
              "#f0f921"
             ]
            ],
            "type": "contour"
           }
          ],
          "contourcarpet": [
           {
            "colorbar": {
             "outlinewidth": 0,
             "ticks": ""
            },
            "type": "contourcarpet"
           }
          ],
          "heatmap": [
           {
            "colorbar": {
             "outlinewidth": 0,
             "ticks": ""
            },
            "colorscale": [
             [
              0,
              "#0d0887"
             ],
             [
              0.1111111111111111,
              "#46039f"
             ],
             [
              0.2222222222222222,
              "#7201a8"
             ],
             [
              0.3333333333333333,
              "#9c179e"
             ],
             [
              0.4444444444444444,
              "#bd3786"
             ],
             [
              0.5555555555555556,
              "#d8576b"
             ],
             [
              0.6666666666666666,
              "#ed7953"
             ],
             [
              0.7777777777777778,
              "#fb9f3a"
             ],
             [
              0.8888888888888888,
              "#fdca26"
             ],
             [
              1,
              "#f0f921"
             ]
            ],
            "type": "heatmap"
           }
          ],
          "histogram": [
           {
            "marker": {
             "pattern": {
              "fillmode": "overlay",
              "size": 10,
              "solidity": 0.2
             }
            },
            "type": "histogram"
           }
          ],
          "histogram2d": [
           {
            "colorbar": {
             "outlinewidth": 0,
             "ticks": ""
            },
            "colorscale": [
             [
              0,
              "#0d0887"
             ],
             [
              0.1111111111111111,
              "#46039f"
             ],
             [
              0.2222222222222222,
              "#7201a8"
             ],
             [
              0.3333333333333333,
              "#9c179e"
             ],
             [
              0.4444444444444444,
              "#bd3786"
             ],
             [
              0.5555555555555556,
              "#d8576b"
             ],
             [
              0.6666666666666666,
              "#ed7953"
             ],
             [
              0.7777777777777778,
              "#fb9f3a"
             ],
             [
              0.8888888888888888,
              "#fdca26"
             ],
             [
              1,
              "#f0f921"
             ]
            ],
            "type": "histogram2d"
           }
          ],
          "histogram2dcontour": [
           {
            "colorbar": {
             "outlinewidth": 0,
             "ticks": ""
            },
            "colorscale": [
             [
              0,
              "#0d0887"
             ],
             [
              0.1111111111111111,
              "#46039f"
             ],
             [
              0.2222222222222222,
              "#7201a8"
             ],
             [
              0.3333333333333333,
              "#9c179e"
             ],
             [
              0.4444444444444444,
              "#bd3786"
             ],
             [
              0.5555555555555556,
              "#d8576b"
             ],
             [
              0.6666666666666666,
              "#ed7953"
             ],
             [
              0.7777777777777778,
              "#fb9f3a"
             ],
             [
              0.8888888888888888,
              "#fdca26"
             ],
             [
              1,
              "#f0f921"
             ]
            ],
            "type": "histogram2dcontour"
           }
          ],
          "mesh3d": [
           {
            "colorbar": {
             "outlinewidth": 0,
             "ticks": ""
            },
            "type": "mesh3d"
           }
          ],
          "parcoords": [
           {
            "line": {
             "colorbar": {
              "outlinewidth": 0,
              "ticks": ""
             }
            },
            "type": "parcoords"
           }
          ],
          "pie": [
           {
            "automargin": true,
            "type": "pie"
           }
          ],
          "scatter": [
           {
            "fillpattern": {
             "fillmode": "overlay",
             "size": 10,
             "solidity": 0.2
            },
            "type": "scatter"
           }
          ],
          "scatter3d": [
           {
            "line": {
             "colorbar": {
              "outlinewidth": 0,
              "ticks": ""
             }
            },
            "marker": {
             "colorbar": {
              "outlinewidth": 0,
              "ticks": ""
             }
            },
            "type": "scatter3d"
           }
          ],
          "scattercarpet": [
           {
            "marker": {
             "colorbar": {
              "outlinewidth": 0,
              "ticks": ""
             }
            },
            "type": "scattercarpet"
           }
          ],
          "scattergeo": [
           {
            "marker": {
             "colorbar": {
              "outlinewidth": 0,
              "ticks": ""
             }
            },
            "type": "scattergeo"
           }
          ],
          "scattergl": [
           {
            "marker": {
             "colorbar": {
              "outlinewidth": 0,
              "ticks": ""
             }
            },
            "type": "scattergl"
           }
          ],
          "scattermap": [
           {
            "marker": {
             "colorbar": {
              "outlinewidth": 0,
              "ticks": ""
             }
            },
            "type": "scattermap"
           }
          ],
          "scattermapbox": [
           {
            "marker": {
             "colorbar": {
              "outlinewidth": 0,
              "ticks": ""
             }
            },
            "type": "scattermapbox"
           }
          ],
          "scatterpolar": [
           {
            "marker": {
             "colorbar": {
              "outlinewidth": 0,
              "ticks": ""
             }
            },
            "type": "scatterpolar"
           }
          ],
          "scatterpolargl": [
           {
            "marker": {
             "colorbar": {
              "outlinewidth": 0,
              "ticks": ""
             }
            },
            "type": "scatterpolargl"
           }
          ],
          "scatterternary": [
           {
            "marker": {
             "colorbar": {
              "outlinewidth": 0,
              "ticks": ""
             }
            },
            "type": "scatterternary"
           }
          ],
          "surface": [
           {
            "colorbar": {
             "outlinewidth": 0,
             "ticks": ""
            },
            "colorscale": [
             [
              0,
              "#0d0887"
             ],
             [
              0.1111111111111111,
              "#46039f"
             ],
             [
              0.2222222222222222,
              "#7201a8"
             ],
             [
              0.3333333333333333,
              "#9c179e"
             ],
             [
              0.4444444444444444,
              "#bd3786"
             ],
             [
              0.5555555555555556,
              "#d8576b"
             ],
             [
              0.6666666666666666,
              "#ed7953"
             ],
             [
              0.7777777777777778,
              "#fb9f3a"
             ],
             [
              0.8888888888888888,
              "#fdca26"
             ],
             [
              1,
              "#f0f921"
             ]
            ],
            "type": "surface"
           }
          ],
          "table": [
           {
            "cells": {
             "fill": {
              "color": "#EBF0F8"
             },
             "line": {
              "color": "white"
             }
            },
            "header": {
             "fill": {
              "color": "#C8D4E3"
             },
             "line": {
              "color": "white"
             }
            },
            "type": "table"
           }
          ]
         },
         "layout": {
          "annotationdefaults": {
           "arrowcolor": "#2a3f5f",
           "arrowhead": 0,
           "arrowwidth": 1
          },
          "autotypenumbers": "strict",
          "coloraxis": {
           "colorbar": {
            "outlinewidth": 0,
            "ticks": ""
           }
          },
          "colorscale": {
           "diverging": [
            [
             0,
             "#8e0152"
            ],
            [
             0.1,
             "#c51b7d"
            ],
            [
             0.2,
             "#de77ae"
            ],
            [
             0.3,
             "#f1b6da"
            ],
            [
             0.4,
             "#fde0ef"
            ],
            [
             0.5,
             "#f7f7f7"
            ],
            [
             0.6,
             "#e6f5d0"
            ],
            [
             0.7,
             "#b8e186"
            ],
            [
             0.8,
             "#7fbc41"
            ],
            [
             0.9,
             "#4d9221"
            ],
            [
             1,
             "#276419"
            ]
           ],
           "sequential": [
            [
             0,
             "#0d0887"
            ],
            [
             0.1111111111111111,
             "#46039f"
            ],
            [
             0.2222222222222222,
             "#7201a8"
            ],
            [
             0.3333333333333333,
             "#9c179e"
            ],
            [
             0.4444444444444444,
             "#bd3786"
            ],
            [
             0.5555555555555556,
             "#d8576b"
            ],
            [
             0.6666666666666666,
             "#ed7953"
            ],
            [
             0.7777777777777778,
             "#fb9f3a"
            ],
            [
             0.8888888888888888,
             "#fdca26"
            ],
            [
             1,
             "#f0f921"
            ]
           ],
           "sequentialminus": [
            [
             0,
             "#0d0887"
            ],
            [
             0.1111111111111111,
             "#46039f"
            ],
            [
             0.2222222222222222,
             "#7201a8"
            ],
            [
             0.3333333333333333,
             "#9c179e"
            ],
            [
             0.4444444444444444,
             "#bd3786"
            ],
            [
             0.5555555555555556,
             "#d8576b"
            ],
            [
             0.6666666666666666,
             "#ed7953"
            ],
            [
             0.7777777777777778,
             "#fb9f3a"
            ],
            [
             0.8888888888888888,
             "#fdca26"
            ],
            [
             1,
             "#f0f921"
            ]
           ]
          },
          "colorway": [
           "#636efa",
           "#EF553B",
           "#00cc96",
           "#ab63fa",
           "#FFA15A",
           "#19d3f3",
           "#FF6692",
           "#B6E880",
           "#FF97FF",
           "#FECB52"
          ],
          "font": {
           "color": "#2a3f5f"
          },
          "geo": {
           "bgcolor": "white",
           "lakecolor": "white",
           "landcolor": "#E5ECF6",
           "showlakes": true,
           "showland": true,
           "subunitcolor": "white"
          },
          "hoverlabel": {
           "align": "left"
          },
          "hovermode": "closest",
          "mapbox": {
           "style": "light"
          },
          "paper_bgcolor": "white",
          "plot_bgcolor": "#E5ECF6",
          "polar": {
           "angularaxis": {
            "gridcolor": "white",
            "linecolor": "white",
            "ticks": ""
           },
           "bgcolor": "#E5ECF6",
           "radialaxis": {
            "gridcolor": "white",
            "linecolor": "white",
            "ticks": ""
           }
          },
          "scene": {
           "xaxis": {
            "backgroundcolor": "#E5ECF6",
            "gridcolor": "white",
            "gridwidth": 2,
            "linecolor": "white",
            "showbackground": true,
            "ticks": "",
            "zerolinecolor": "white"
           },
           "yaxis": {
            "backgroundcolor": "#E5ECF6",
            "gridcolor": "white",
            "gridwidth": 2,
            "linecolor": "white",
            "showbackground": true,
            "ticks": "",
            "zerolinecolor": "white"
           },
           "zaxis": {
            "backgroundcolor": "#E5ECF6",
            "gridcolor": "white",
            "gridwidth": 2,
            "linecolor": "white",
            "showbackground": true,
            "ticks": "",
            "zerolinecolor": "white"
           }
          },
          "shapedefaults": {
           "line": {
            "color": "#2a3f5f"
           }
          },
          "ternary": {
           "aaxis": {
            "gridcolor": "white",
            "linecolor": "white",
            "ticks": ""
           },
           "baxis": {
            "gridcolor": "white",
            "linecolor": "white",
            "ticks": ""
           },
           "bgcolor": "#E5ECF6",
           "caxis": {
            "gridcolor": "white",
            "linecolor": "white",
            "ticks": ""
           }
          },
          "title": {
           "x": 0.05
          },
          "xaxis": {
           "automargin": true,
           "gridcolor": "white",
           "linecolor": "white",
           "ticks": "",
           "title": {
            "standoff": 15
           },
           "zerolinecolor": "white",
           "zerolinewidth": 2
          },
          "yaxis": {
           "automargin": true,
           "gridcolor": "white",
           "linecolor": "white",
           "ticks": "",
           "title": {
            "standoff": 15
           },
           "zerolinecolor": "white",
           "zerolinewidth": 2
          }
         }
        },
        "xaxis": {
         "anchor": "y",
         "domain": [
          0,
          1
         ],
         "title": {
          "text": "release_year"
         }
        },
        "yaxis": {
         "anchor": "x",
         "domain": [
          0,
          1
         ],
         "title": {
          "text": "screen_type"
         }
        }
       }
      }
     },
     "metadata": {},
     "output_type": "display_data"
    }
   ],
   "source": [
    "pdf = df.groupby(['screen_type', 'release_year'])['popularity_become_fan'].mean().reset_index()\n",
    "px.scatter(pdf.sort_values('popularity_become_fan'), x='release_year', y='screen_type', size='popularity_become_fan', size_max=30)"
   ]
  },
  {
   "cell_type": "markdown",
   "id": "94ef3a30",
   "metadata": {},
   "source": [
    "LTPO OLED screen type is the most popular types of screen in a smartphone, followed by oled and amoled, while TN+Film screens are least popular.\n",
    "\n",
    "IPS screens have plummeted in popularity over time. "
   ]
  },
  {
   "cell_type": "code",
   "execution_count": 18,
   "id": "5b36ac6f",
   "metadata": {},
   "outputs": [
    {
     "data": {
      "application/vnd.plotly.v1+json": {
       "config": {
        "plotlyServerURL": "https://plot.ly"
       },
       "data": [
        {
         "bingroup": "x",
         "hovertemplate": "battery_capacity=%{x}<br>count=%{y}<extra></extra>",
         "legendgroup": "",
         "marker": {
          "color": "#636efa",
          "pattern": {
           "shape": ""
          }
         },
         "name": "",
         "nbinsx": 10,
         "orientation": "v",
         "showlegend": false,
         "type": "histogram",
         "x": {
          "bdata": "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",
          "dtype": "f8"
         },
         "xaxis": "x",
         "yaxis": "y"
        }
       ],
       "layout": {
        "barmode": "relative",
        "legend": {
         "tracegroupgap": 0
        },
        "margin": {
         "t": 60
        },
        "template": {
         "data": {
          "bar": [
           {
            "error_x": {
             "color": "#2a3f5f"
            },
            "error_y": {
             "color": "#2a3f5f"
            },
            "marker": {
             "line": {
              "color": "#E5ECF6",
              "width": 0.5
             },
             "pattern": {
              "fillmode": "overlay",
              "size": 10,
              "solidity": 0.2
             }
            },
            "type": "bar"
           }
          ],
          "barpolar": [
           {
            "marker": {
             "line": {
              "color": "#E5ECF6",
              "width": 0.5
             },
             "pattern": {
              "fillmode": "overlay",
              "size": 10,
              "solidity": 0.2
             }
            },
            "type": "barpolar"
           }
          ],
          "carpet": [
           {
            "aaxis": {
             "endlinecolor": "#2a3f5f",
             "gridcolor": "white",
             "linecolor": "white",
             "minorgridcolor": "white",
             "startlinecolor": "#2a3f5f"
            },
            "baxis": {
             "endlinecolor": "#2a3f5f",
             "gridcolor": "white",
             "linecolor": "white",
             "minorgridcolor": "white",
             "startlinecolor": "#2a3f5f"
            },
            "type": "carpet"
           }
          ],
          "choropleth": [
           {
            "colorbar": {
             "outlinewidth": 0,
             "ticks": ""
            },
            "type": "choropleth"
           }
          ],
          "contour": [
           {
            "colorbar": {
             "outlinewidth": 0,
             "ticks": ""
            },
            "colorscale": [
             [
              0,
              "#0d0887"
             ],
             [
              0.1111111111111111,
              "#46039f"
             ],
             [
              0.2222222222222222,
              "#7201a8"
             ],
             [
              0.3333333333333333,
              "#9c179e"
             ],
             [
              0.4444444444444444,
              "#bd3786"
             ],
             [
              0.5555555555555556,
              "#d8576b"
             ],
             [
              0.6666666666666666,
              "#ed7953"
             ],
             [
              0.7777777777777778,
              "#fb9f3a"
             ],
             [
              0.8888888888888888,
              "#fdca26"
             ],
             [
              1,
              "#f0f921"
             ]
            ],
            "type": "contour"
           }
          ],
          "contourcarpet": [
           {
            "colorbar": {
             "outlinewidth": 0,
             "ticks": ""
            },
            "type": "contourcarpet"
           }
          ],
          "heatmap": [
           {
            "colorbar": {
             "outlinewidth": 0,
             "ticks": ""
            },
            "colorscale": [
             [
              0,
              "#0d0887"
             ],
             [
              0.1111111111111111,
              "#46039f"
             ],
             [
              0.2222222222222222,
              "#7201a8"
             ],
             [
              0.3333333333333333,
              "#9c179e"
             ],
             [
              0.4444444444444444,
              "#bd3786"
             ],
             [
              0.5555555555555556,
              "#d8576b"
             ],
             [
              0.6666666666666666,
              "#ed7953"
             ],
             [
              0.7777777777777778,
              "#fb9f3a"
             ],
             [
              0.8888888888888888,
              "#fdca26"
             ],
             [
              1,
              "#f0f921"
             ]
            ],
            "type": "heatmap"
           }
          ],
          "histogram": [
           {
            "marker": {
             "pattern": {
              "fillmode": "overlay",
              "size": 10,
              "solidity": 0.2
             }
            },
            "type": "histogram"
           }
          ],
          "histogram2d": [
           {
            "colorbar": {
             "outlinewidth": 0,
             "ticks": ""
            },
            "colorscale": [
             [
              0,
              "#0d0887"
             ],
             [
              0.1111111111111111,
              "#46039f"
             ],
             [
              0.2222222222222222,
              "#7201a8"
             ],
             [
              0.3333333333333333,
              "#9c179e"
             ],
             [
              0.4444444444444444,
              "#bd3786"
             ],
             [
              0.5555555555555556,
              "#d8576b"
             ],
             [
              0.6666666666666666,
              "#ed7953"
             ],
             [
              0.7777777777777778,
              "#fb9f3a"
             ],
             [
              0.8888888888888888,
              "#fdca26"
             ],
             [
              1,
              "#f0f921"
             ]
            ],
            "type": "histogram2d"
           }
          ],
          "histogram2dcontour": [
           {
            "colorbar": {
             "outlinewidth": 0,
             "ticks": ""
            },
            "colorscale": [
             [
              0,
              "#0d0887"
             ],
             [
              0.1111111111111111,
              "#46039f"
             ],
             [
              0.2222222222222222,
              "#7201a8"
             ],
             [
              0.3333333333333333,
              "#9c179e"
             ],
             [
              0.4444444444444444,
              "#bd3786"
             ],
             [
              0.5555555555555556,
              "#d8576b"
             ],
             [
              0.6666666666666666,
              "#ed7953"
             ],
             [
              0.7777777777777778,
              "#fb9f3a"
             ],
             [
              0.8888888888888888,
              "#fdca26"
             ],
             [
              1,
              "#f0f921"
             ]
            ],
            "type": "histogram2dcontour"
           }
          ],
          "mesh3d": [
           {
            "colorbar": {
             "outlinewidth": 0,
             "ticks": ""
            },
            "type": "mesh3d"
           }
          ],
          "parcoords": [
           {
            "line": {
             "colorbar": {
              "outlinewidth": 0,
              "ticks": ""
             }
            },
            "type": "parcoords"
           }
          ],
          "pie": [
           {
            "automargin": true,
            "type": "pie"
           }
          ],
          "scatter": [
           {
            "fillpattern": {
             "fillmode": "overlay",
             "size": 10,
             "solidity": 0.2
            },
            "type": "scatter"
           }
          ],
          "scatter3d": [
           {
            "line": {
             "colorbar": {
              "outlinewidth": 0,
              "ticks": ""
             }
            },
            "marker": {
             "colorbar": {
              "outlinewidth": 0,
              "ticks": ""
             }
            },
            "type": "scatter3d"
           }
          ],
          "scattercarpet": [
           {
            "marker": {
             "colorbar": {
              "outlinewidth": 0,
              "ticks": ""
             }
            },
            "type": "scattercarpet"
           }
          ],
          "scattergeo": [
           {
            "marker": {
             "colorbar": {
              "outlinewidth": 0,
              "ticks": ""
             }
            },
            "type": "scattergeo"
           }
          ],
          "scattergl": [
           {
            "marker": {
             "colorbar": {
              "outlinewidth": 0,
              "ticks": ""
             }
            },
            "type": "scattergl"
           }
          ],
          "scattermap": [
           {
            "marker": {
             "colorbar": {
              "outlinewidth": 0,
              "ticks": ""
             }
            },
            "type": "scattermap"
           }
          ],
          "scattermapbox": [
           {
            "marker": {
             "colorbar": {
              "outlinewidth": 0,
              "ticks": ""
             }
            },
            "type": "scattermapbox"
           }
          ],
          "scatterpolar": [
           {
            "marker": {
             "colorbar": {
              "outlinewidth": 0,
              "ticks": ""
             }
            },
            "type": "scatterpolar"
           }
          ],
          "scatterpolargl": [
           {
            "marker": {
             "colorbar": {
              "outlinewidth": 0,
              "ticks": ""
             }
            },
            "type": "scatterpolargl"
           }
          ],
          "scatterternary": [
           {
            "marker": {
             "colorbar": {
              "outlinewidth": 0,
              "ticks": ""
             }
            },
            "type": "scatterternary"
           }
          ],
          "surface": [
           {
            "colorbar": {
             "outlinewidth": 0,
             "ticks": ""
            },
            "colorscale": [
             [
              0,
              "#0d0887"
             ],
             [
              0.1111111111111111,
              "#46039f"
             ],
             [
              0.2222222222222222,
              "#7201a8"
             ],
             [
              0.3333333333333333,
              "#9c179e"
             ],
             [
              0.4444444444444444,
              "#bd3786"
             ],
             [
              0.5555555555555556,
              "#d8576b"
             ],
             [
              0.6666666666666666,
              "#ed7953"
             ],
             [
              0.7777777777777778,
              "#fb9f3a"
             ],
             [
              0.8888888888888888,
              "#fdca26"
             ],
             [
              1,
              "#f0f921"
             ]
            ],
            "type": "surface"
           }
          ],
          "table": [
           {
            "cells": {
             "fill": {
              "color": "#EBF0F8"
             },
             "line": {
              "color": "white"
             }
            },
            "header": {
             "fill": {
              "color": "#C8D4E3"
             },
             "line": {
              "color": "white"
             }
            },
            "type": "table"
           }
          ]
         },
         "layout": {
          "annotationdefaults": {
           "arrowcolor": "#2a3f5f",
           "arrowhead": 0,
           "arrowwidth": 1
          },
          "autotypenumbers": "strict",
          "coloraxis": {
           "colorbar": {
            "outlinewidth": 0,
            "ticks": ""
           }
          },
          "colorscale": {
           "diverging": [
            [
             0,
             "#8e0152"
            ],
            [
             0.1,
             "#c51b7d"
            ],
            [
             0.2,
             "#de77ae"
            ],
            [
             0.3,
             "#f1b6da"
            ],
            [
             0.4,
             "#fde0ef"
            ],
            [
             0.5,
             "#f7f7f7"
            ],
            [
             0.6,
             "#e6f5d0"
            ],
            [
             0.7,
             "#b8e186"
            ],
            [
             0.8,
             "#7fbc41"
            ],
            [
             0.9,
             "#4d9221"
            ],
            [
             1,
             "#276419"
            ]
           ],
           "sequential": [
            [
             0,
             "#0d0887"
            ],
            [
             0.1111111111111111,
             "#46039f"
            ],
            [
             0.2222222222222222,
             "#7201a8"
            ],
            [
             0.3333333333333333,
             "#9c179e"
            ],
            [
             0.4444444444444444,
             "#bd3786"
            ],
            [
             0.5555555555555556,
             "#d8576b"
            ],
            [
             0.6666666666666666,
             "#ed7953"
            ],
            [
             0.7777777777777778,
             "#fb9f3a"
            ],
            [
             0.8888888888888888,
             "#fdca26"
            ],
            [
             1,
             "#f0f921"
            ]
           ],
           "sequentialminus": [
            [
             0,
             "#0d0887"
            ],
            [
             0.1111111111111111,
             "#46039f"
            ],
            [
             0.2222222222222222,
             "#7201a8"
            ],
            [
             0.3333333333333333,
             "#9c179e"
            ],
            [
             0.4444444444444444,
             "#bd3786"
            ],
            [
             0.5555555555555556,
             "#d8576b"
            ],
            [
             0.6666666666666666,
             "#ed7953"
            ],
            [
             0.7777777777777778,
             "#fb9f3a"
            ],
            [
             0.8888888888888888,
             "#fdca26"
            ],
            [
             1,
             "#f0f921"
            ]
           ]
          },
          "colorway": [
           "#636efa",
           "#EF553B",
           "#00cc96",
           "#ab63fa",
           "#FFA15A",
           "#19d3f3",
           "#FF6692",
           "#B6E880",
           "#FF97FF",
           "#FECB52"
          ],
          "font": {
           "color": "#2a3f5f"
          },
          "geo": {
           "bgcolor": "white",
           "lakecolor": "white",
           "landcolor": "#E5ECF6",
           "showlakes": true,
           "showland": true,
           "subunitcolor": "white"
          },
          "hoverlabel": {
           "align": "left"
          },
          "hovermode": "closest",
          "mapbox": {
           "style": "light"
          },
          "paper_bgcolor": "white",
          "plot_bgcolor": "#E5ECF6",
          "polar": {
           "angularaxis": {
            "gridcolor": "white",
            "linecolor": "white",
            "ticks": ""
           },
           "bgcolor": "#E5ECF6",
           "radialaxis": {
            "gridcolor": "white",
            "linecolor": "white",
            "ticks": ""
           }
          },
          "scene": {
           "xaxis": {
            "backgroundcolor": "#E5ECF6",
            "gridcolor": "white",
            "gridwidth": 2,
            "linecolor": "white",
            "showbackground": true,
            "ticks": "",
            "zerolinecolor": "white"
           },
           "yaxis": {
            "backgroundcolor": "#E5ECF6",
            "gridcolor": "white",
            "gridwidth": 2,
            "linecolor": "white",
            "showbackground": true,
            "ticks": "",
            "zerolinecolor": "white"
           },
           "zaxis": {
            "backgroundcolor": "#E5ECF6",
            "gridcolor": "white",
            "gridwidth": 2,
            "linecolor": "white",
            "showbackground": true,
            "ticks": "",
            "zerolinecolor": "white"
           }
          },
          "shapedefaults": {
           "line": {
            "color": "#2a3f5f"
           }
          },
          "ternary": {
           "aaxis": {
            "gridcolor": "white",
            "linecolor": "white",
            "ticks": ""
           },
           "baxis": {
            "gridcolor": "white",
            "linecolor": "white",
            "ticks": ""
           },
           "bgcolor": "#E5ECF6",
           "caxis": {
            "gridcolor": "white",
            "linecolor": "white",
            "ticks": ""
           }
          },
          "title": {
           "x": 0.05
          },
          "xaxis": {
           "automargin": true,
           "gridcolor": "white",
           "linecolor": "white",
           "ticks": "",
           "title": {
            "standoff": 15
           },
           "zerolinecolor": "white",
           "zerolinewidth": 2
          },
          "yaxis": {
           "automargin": true,
           "gridcolor": "white",
           "linecolor": "white",
           "ticks": "",
           "title": {
            "standoff": 15
           },
           "zerolinecolor": "white",
           "zerolinewidth": 2
          }
         }
        },
        "xaxis": {
         "anchor": "y",
         "domain": [
          0,
          1
         ],
         "title": {
          "text": "battery_capacity"
         }
        },
        "yaxis": {
         "anchor": "x",
         "domain": [
          0,
          1
         ],
         "title": {
          "text": "count"
         }
        }
       }
      }
     },
     "metadata": {},
     "output_type": "display_data"
    }
   ],
   "source": [
    "pdf = df\n",
    "px.histogram(pdf, x='battery_capacity', nbins=10)"
   ]
  },
  {
   "cell_type": "code",
   "execution_count": 19,
   "id": "f5f816a5",
   "metadata": {},
   "outputs": [
    {
     "data": {
      "application/vnd.plotly.v1+json": {
       "config": {
        "plotlyServerURL": "https://plot.ly"
       },
       "data": [
        {
         "bingroup": "x",
         "histfunc": "avg",
         "hovertemplate": "battery_capacity=%{x}<br>avg of popularity_become_fan=%{y}<extra></extra>",
         "legendgroup": "",
         "marker": {
          "color": "#636efa",
          "pattern": {
           "shape": ""
          }
         },
         "name": "",
         "nbinsx": 40,
         "orientation": "v",
         "showlegend": false,
         "type": "histogram",
         "x": {
          "bdata": "AAAAAAB0nEAAAAAAAIifQAAAAAAAZqFAAAAAAAAMo0AAAAAAAFCkQAAAAAAA/qVAAAAAAABwp0AAAAAAAMCnQAAAAAAALqhAAAAAAACIqEAAAAAAAACpQAAAAAAAUKlAAAAAAACUqUAAAAAAAJ6pQAAAAAAAyKlAAAAAAAAqqkAAAAAAAFirQAAAAAAA0qtAAAAAAADyq0AAAAAAAPirQAAAAAAA/KtAAAAAAAAgrEAAAAAAAM6sQAAAAAAA6KxAAAAAAABarkAAAAAAAHiuQAAAAAAAgq5AAAAAAABAr0AAAAAAAEqvQAAAAAAApK9AAAAAAADgr0AAAAAAABOwQAAAAAAAQLBAAAAAAABosEAAAAAAAJqwQAAAAAAAzLBAAAAAAADjsEAAAAAAAACxQAAAAAAAA7FAAAAAAAAfsUAAAAAAACGxQAAAAAAAMLFAAAAAAAA6sUAAAAAAAFmxQAAAAAAAYbFAAAAAAACMsUAAAAAAAJSxQAAAAAAAnrFAAAAAAACosUAAAAAAAN+xQAAAAAAA+LFAAAAAAAACskAAAAAAAAayQAAAAAAAKrJAAAAAAABCskAAAAAAAEiyQAAAAAAATbJAAAAAAABcskAAAAAAAHCyQAAAAAAAebJAAAAAAACsskAAAAAAAMCyQAAAAAAAxbJAAAAAAADUskAAAAAAANWyQAAAAAAA/LJAAAAAAAAQs0AAAAAAACSzQAAAAAAAiLNAAAAAAACLs0AAAAAAAJyzQAAAAAAAprNAAAAAAAC6s0AAAAAAAMSzQAAAAAAAybNAAAAAAADYs0AAAAAAAOyzQAAAAAAA9rNAAAAAAAAotEAAAAAAAHi0QAAAAAAAjLRAAAAAAAAYtUAAAAAAACK1QAAAAAAAfLVAAAAAAACotkAAAAAAAHC3QAAAAAAA1LdAAAAAAAA4uEAAAAAAAA+5QAAAAAAAlrlAAAAAAABYu0A=",
          "dtype": "f8"
         },
         "xaxis": "x",
         "y": {
          "bdata": "AAAAAAAAiEAAAAAAAFB2QAAAAAAASINAAAAAAADwe0AAAAAAAIBKQAAAAAAAcH5AAAAAAABgVUAAAAAAAABJQAAAAAAAoH1AAAAAAAA4hkAAAAAAAKB7QAAAAAAAqIJAAAAAAAAAdEAAAAAAAGBpQAAAAAAA0GhAAAAAAADwcEAAAAAAAIBmQAAAAAAAgGRAAAAAAAAgZ0AAAAAAACBhQAAAAAAAgGpAAAAAAAAYcEAAAAAAAKiQQFVVVVVVFXpAAAAAAACAckAAAAAAADiKQAAAAAAAwF1AtbS0tLQUd0AAAAAAAMBoQFVVVVVVlV9AAAAAAACQiUAAAAAAAACHQFVVVVVV9WdAAAAAAACAYUCrqqqqqtp3QAAAAAAAAHFAAAAAAAAof0AAAAAAAJiPQAAAAAAAIIBAAAAAAAAgY0AAAAAAADB3QAAAAAAAUG5AAAAAAADAg0AAAAAAACiFQAAAAAAAAGdAAAAAAADAaUBe6sn47TJ2QAAAAAAAmI5Ax3Ecx3EMdEAAAAAAAJB5QFVVVVVVVYFAAAAAAAAYgUAAAAAAAOiDQKuqqqqqKmJAAAAAAAAAWEAAAAAAAEB0QAAAAAAAEH9AVVVVVVUddUAAAAAAAIBnQAAAAAAAwF5Aq6qqqqoqcUAAAAAAAIBvQAAAAAAAIGtAAAAAAAB4dkAAAAAAAGBlQAAAAAAAUIBAAAAAAADgf0AAAAAAAPh0QC0X7uqbRGxAAAAAAACMkUDZiZ3Yib14QJqZmZmZmUNAAAAAAAAghkAAAAAAAMB3QAAAAAAAwHNAAAAAAABoYEAAAAAAAHB2QAAAAAAA2FBAvLu7u7tba0AAAAAAAMBxQAAAAAAAEHxAAAAAAACAhkAAAAAAAHB3QKK8hvIaymBAAAAAAAAAV0DsUbgehdtjQAAAAAAAoGZAAAAAAABQdEAAAAAAAABOQAAAAAAAIGBAAAAAAAAge0A=",
          "dtype": "f8"
         },
         "yaxis": "y"
        }
       ],
       "layout": {
        "barmode": "relative",
        "legend": {
         "tracegroupgap": 0
        },
        "margin": {
         "t": 60
        },
        "template": {
         "data": {
          "bar": [
           {
            "error_x": {
             "color": "#2a3f5f"
            },
            "error_y": {
             "color": "#2a3f5f"
            },
            "marker": {
             "line": {
              "color": "#E5ECF6",
              "width": 0.5
             },
             "pattern": {
              "fillmode": "overlay",
              "size": 10,
              "solidity": 0.2
             }
            },
            "type": "bar"
           }
          ],
          "barpolar": [
           {
            "marker": {
             "line": {
              "color": "#E5ECF6",
              "width": 0.5
             },
             "pattern": {
              "fillmode": "overlay",
              "size": 10,
              "solidity": 0.2
             }
            },
            "type": "barpolar"
           }
          ],
          "carpet": [
           {
            "aaxis": {
             "endlinecolor": "#2a3f5f",
             "gridcolor": "white",
             "linecolor": "white",
             "minorgridcolor": "white",
             "startlinecolor": "#2a3f5f"
            },
            "baxis": {
             "endlinecolor": "#2a3f5f",
             "gridcolor": "white",
             "linecolor": "white",
             "minorgridcolor": "white",
             "startlinecolor": "#2a3f5f"
            },
            "type": "carpet"
           }
          ],
          "choropleth": [
           {
            "colorbar": {
             "outlinewidth": 0,
             "ticks": ""
            },
            "type": "choropleth"
           }
          ],
          "contour": [
           {
            "colorbar": {
             "outlinewidth": 0,
             "ticks": ""
            },
            "colorscale": [
             [
              0,
              "#0d0887"
             ],
             [
              0.1111111111111111,
              "#46039f"
             ],
             [
              0.2222222222222222,
              "#7201a8"
             ],
             [
              0.3333333333333333,
              "#9c179e"
             ],
             [
              0.4444444444444444,
              "#bd3786"
             ],
             [
              0.5555555555555556,
              "#d8576b"
             ],
             [
              0.6666666666666666,
              "#ed7953"
             ],
             [
              0.7777777777777778,
              "#fb9f3a"
             ],
             [
              0.8888888888888888,
              "#fdca26"
             ],
             [
              1,
              "#f0f921"
             ]
            ],
            "type": "contour"
           }
          ],
          "contourcarpet": [
           {
            "colorbar": {
             "outlinewidth": 0,
             "ticks": ""
            },
            "type": "contourcarpet"
           }
          ],
          "heatmap": [
           {
            "colorbar": {
             "outlinewidth": 0,
             "ticks": ""
            },
            "colorscale": [
             [
              0,
              "#0d0887"
             ],
             [
              0.1111111111111111,
              "#46039f"
             ],
             [
              0.2222222222222222,
              "#7201a8"
             ],
             [
              0.3333333333333333,
              "#9c179e"
             ],
             [
              0.4444444444444444,
              "#bd3786"
             ],
             [
              0.5555555555555556,
              "#d8576b"
             ],
             [
              0.6666666666666666,
              "#ed7953"
             ],
             [
              0.7777777777777778,
              "#fb9f3a"
             ],
             [
              0.8888888888888888,
              "#fdca26"
             ],
             [
              1,
              "#f0f921"
             ]
            ],
            "type": "heatmap"
           }
          ],
          "histogram": [
           {
            "marker": {
             "pattern": {
              "fillmode": "overlay",
              "size": 10,
              "solidity": 0.2
             }
            },
            "type": "histogram"
           }
          ],
          "histogram2d": [
           {
            "colorbar": {
             "outlinewidth": 0,
             "ticks": ""
            },
            "colorscale": [
             [
              0,
              "#0d0887"
             ],
             [
              0.1111111111111111,
              "#46039f"
             ],
             [
              0.2222222222222222,
              "#7201a8"
             ],
             [
              0.3333333333333333,
              "#9c179e"
             ],
             [
              0.4444444444444444,
              "#bd3786"
             ],
             [
              0.5555555555555556,
              "#d8576b"
             ],
             [
              0.6666666666666666,
              "#ed7953"
             ],
             [
              0.7777777777777778,
              "#fb9f3a"
             ],
             [
              0.8888888888888888,
              "#fdca26"
             ],
             [
              1,
              "#f0f921"
             ]
            ],
            "type": "histogram2d"
           }
          ],
          "histogram2dcontour": [
           {
            "colorbar": {
             "outlinewidth": 0,
             "ticks": ""
            },
            "colorscale": [
             [
              0,
              "#0d0887"
             ],
             [
              0.1111111111111111,
              "#46039f"
             ],
             [
              0.2222222222222222,
              "#7201a8"
             ],
             [
              0.3333333333333333,
              "#9c179e"
             ],
             [
              0.4444444444444444,
              "#bd3786"
             ],
             [
              0.5555555555555556,
              "#d8576b"
             ],
             [
              0.6666666666666666,
              "#ed7953"
             ],
             [
              0.7777777777777778,
              "#fb9f3a"
             ],
             [
              0.8888888888888888,
              "#fdca26"
             ],
             [
              1,
              "#f0f921"
             ]
            ],
            "type": "histogram2dcontour"
           }
          ],
          "mesh3d": [
           {
            "colorbar": {
             "outlinewidth": 0,
             "ticks": ""
            },
            "type": "mesh3d"
           }
          ],
          "parcoords": [
           {
            "line": {
             "colorbar": {
              "outlinewidth": 0,
              "ticks": ""
             }
            },
            "type": "parcoords"
           }
          ],
          "pie": [
           {
            "automargin": true,
            "type": "pie"
           }
          ],
          "scatter": [
           {
            "fillpattern": {
             "fillmode": "overlay",
             "size": 10,
             "solidity": 0.2
            },
            "type": "scatter"
           }
          ],
          "scatter3d": [
           {
            "line": {
             "colorbar": {
              "outlinewidth": 0,
              "ticks": ""
             }
            },
            "marker": {
             "colorbar": {
              "outlinewidth": 0,
              "ticks": ""
             }
            },
            "type": "scatter3d"
           }
          ],
          "scattercarpet": [
           {
            "marker": {
             "colorbar": {
              "outlinewidth": 0,
              "ticks": ""
             }
            },
            "type": "scattercarpet"
           }
          ],
          "scattergeo": [
           {
            "marker": {
             "colorbar": {
              "outlinewidth": 0,
              "ticks": ""
             }
            },
            "type": "scattergeo"
           }
          ],
          "scattergl": [
           {
            "marker": {
             "colorbar": {
              "outlinewidth": 0,
              "ticks": ""
             }
            },
            "type": "scattergl"
           }
          ],
          "scattermap": [
           {
            "marker": {
             "colorbar": {
              "outlinewidth": 0,
              "ticks": ""
             }
            },
            "type": "scattermap"
           }
          ],
          "scattermapbox": [
           {
            "marker": {
             "colorbar": {
              "outlinewidth": 0,
              "ticks": ""
             }
            },
            "type": "scattermapbox"
           }
          ],
          "scatterpolar": [
           {
            "marker": {
             "colorbar": {
              "outlinewidth": 0,
              "ticks": ""
             }
            },
            "type": "scatterpolar"
           }
          ],
          "scatterpolargl": [
           {
            "marker": {
             "colorbar": {
              "outlinewidth": 0,
              "ticks": ""
             }
            },
            "type": "scatterpolargl"
           }
          ],
          "scatterternary": [
           {
            "marker": {
             "colorbar": {
              "outlinewidth": 0,
              "ticks": ""
             }
            },
            "type": "scatterternary"
           }
          ],
          "surface": [
           {
            "colorbar": {
             "outlinewidth": 0,
             "ticks": ""
            },
            "colorscale": [
             [
              0,
              "#0d0887"
             ],
             [
              0.1111111111111111,
              "#46039f"
             ],
             [
              0.2222222222222222,
              "#7201a8"
             ],
             [
              0.3333333333333333,
              "#9c179e"
             ],
             [
              0.4444444444444444,
              "#bd3786"
             ],
             [
              0.5555555555555556,
              "#d8576b"
             ],
             [
              0.6666666666666666,
              "#ed7953"
             ],
             [
              0.7777777777777778,
              "#fb9f3a"
             ],
             [
              0.8888888888888888,
              "#fdca26"
             ],
             [
              1,
              "#f0f921"
             ]
            ],
            "type": "surface"
           }
          ],
          "table": [
           {
            "cells": {
             "fill": {
              "color": "#EBF0F8"
             },
             "line": {
              "color": "white"
             }
            },
            "header": {
             "fill": {
              "color": "#C8D4E3"
             },
             "line": {
              "color": "white"
             }
            },
            "type": "table"
           }
          ]
         },
         "layout": {
          "annotationdefaults": {
           "arrowcolor": "#2a3f5f",
           "arrowhead": 0,
           "arrowwidth": 1
          },
          "autotypenumbers": "strict",
          "coloraxis": {
           "colorbar": {
            "outlinewidth": 0,
            "ticks": ""
           }
          },
          "colorscale": {
           "diverging": [
            [
             0,
             "#8e0152"
            ],
            [
             0.1,
             "#c51b7d"
            ],
            [
             0.2,
             "#de77ae"
            ],
            [
             0.3,
             "#f1b6da"
            ],
            [
             0.4,
             "#fde0ef"
            ],
            [
             0.5,
             "#f7f7f7"
            ],
            [
             0.6,
             "#e6f5d0"
            ],
            [
             0.7,
             "#b8e186"
            ],
            [
             0.8,
             "#7fbc41"
            ],
            [
             0.9,
             "#4d9221"
            ],
            [
             1,
             "#276419"
            ]
           ],
           "sequential": [
            [
             0,
             "#0d0887"
            ],
            [
             0.1111111111111111,
             "#46039f"
            ],
            [
             0.2222222222222222,
             "#7201a8"
            ],
            [
             0.3333333333333333,
             "#9c179e"
            ],
            [
             0.4444444444444444,
             "#bd3786"
            ],
            [
             0.5555555555555556,
             "#d8576b"
            ],
            [
             0.6666666666666666,
             "#ed7953"
            ],
            [
             0.7777777777777778,
             "#fb9f3a"
            ],
            [
             0.8888888888888888,
             "#fdca26"
            ],
            [
             1,
             "#f0f921"
            ]
           ],
           "sequentialminus": [
            [
             0,
             "#0d0887"
            ],
            [
             0.1111111111111111,
             "#46039f"
            ],
            [
             0.2222222222222222,
             "#7201a8"
            ],
            [
             0.3333333333333333,
             "#9c179e"
            ],
            [
             0.4444444444444444,
             "#bd3786"
            ],
            [
             0.5555555555555556,
             "#d8576b"
            ],
            [
             0.6666666666666666,
             "#ed7953"
            ],
            [
             0.7777777777777778,
             "#fb9f3a"
            ],
            [
             0.8888888888888888,
             "#fdca26"
            ],
            [
             1,
             "#f0f921"
            ]
           ]
          },
          "colorway": [
           "#636efa",
           "#EF553B",
           "#00cc96",
           "#ab63fa",
           "#FFA15A",
           "#19d3f3",
           "#FF6692",
           "#B6E880",
           "#FF97FF",
           "#FECB52"
          ],
          "font": {
           "color": "#2a3f5f"
          },
          "geo": {
           "bgcolor": "white",
           "lakecolor": "white",
           "landcolor": "#E5ECF6",
           "showlakes": true,
           "showland": true,
           "subunitcolor": "white"
          },
          "hoverlabel": {
           "align": "left"
          },
          "hovermode": "closest",
          "mapbox": {
           "style": "light"
          },
          "paper_bgcolor": "white",
          "plot_bgcolor": "#E5ECF6",
          "polar": {
           "angularaxis": {
            "gridcolor": "white",
            "linecolor": "white",
            "ticks": ""
           },
           "bgcolor": "#E5ECF6",
           "radialaxis": {
            "gridcolor": "white",
            "linecolor": "white",
            "ticks": ""
           }
          },
          "scene": {
           "xaxis": {
            "backgroundcolor": "#E5ECF6",
            "gridcolor": "white",
            "gridwidth": 2,
            "linecolor": "white",
            "showbackground": true,
            "ticks": "",
            "zerolinecolor": "white"
           },
           "yaxis": {
            "backgroundcolor": "#E5ECF6",
            "gridcolor": "white",
            "gridwidth": 2,
            "linecolor": "white",
            "showbackground": true,
            "ticks": "",
            "zerolinecolor": "white"
           },
           "zaxis": {
            "backgroundcolor": "#E5ECF6",
            "gridcolor": "white",
            "gridwidth": 2,
            "linecolor": "white",
            "showbackground": true,
            "ticks": "",
            "zerolinecolor": "white"
           }
          },
          "shapedefaults": {
           "line": {
            "color": "#2a3f5f"
           }
          },
          "ternary": {
           "aaxis": {
            "gridcolor": "white",
            "linecolor": "white",
            "ticks": ""
           },
           "baxis": {
            "gridcolor": "white",
            "linecolor": "white",
            "ticks": ""
           },
           "bgcolor": "#E5ECF6",
           "caxis": {
            "gridcolor": "white",
            "linecolor": "white",
            "ticks": ""
           }
          },
          "title": {
           "x": 0.05
          },
          "xaxis": {
           "automargin": true,
           "gridcolor": "white",
           "linecolor": "white",
           "ticks": "",
           "title": {
            "standoff": 15
           },
           "zerolinecolor": "white",
           "zerolinewidth": 2
          },
          "yaxis": {
           "automargin": true,
           "gridcolor": "white",
           "linecolor": "white",
           "ticks": "",
           "title": {
            "standoff": 15
           },
           "zerolinecolor": "white",
           "zerolinewidth": 2
          }
         }
        },
        "xaxis": {
         "anchor": "y",
         "domain": [
          0,
          1
         ],
         "title": {
          "text": "battery_capacity"
         }
        },
        "yaxis": {
         "anchor": "x",
         "domain": [
          0,
          1
         ],
         "title": {
          "text": "avg of popularity_become_fan"
         }
        }
       }
      }
     },
     "metadata": {},
     "output_type": "display_data"
    }
   ],
   "source": [
    "pdf = df.groupby('battery_capacity')['popularity_become_fan'].mean().reset_index()\n",
    "px.histogram(pdf, x='battery_capacity', y='popularity_become_fan', nbins=40, histfunc='avg')"
   ]
  },
  {
   "cell_type": "code",
   "execution_count": 20,
   "id": "1ec79276",
   "metadata": {},
   "outputs": [
    {
     "data": {
      "application/vnd.plotly.v1+json": {
       "config": {
        "plotlyServerURL": "https://plot.ly"
       },
       "data": [
        {
         "hovertemplate": "internal_rom_gb=%{x}<br>popularity_become_fan=%{y}<extra></extra>",
         "legendgroup": "",
         "marker": {
          "color": "#636efa",
          "pattern": {
           "shape": ""
          }
         },
         "name": "",
         "orientation": "v",
         "showlegend": false,
         "textposition": "auto",
         "type": "bar",
         "x": [
          "16.0",
          "32.0",
          "64.0",
          "128.0",
          "256.0",
          "512.0"
         ],
         "xaxis": "x",
         "y": {
          "bdata": "AAAAAACAVkCidiVqV2JYQOmiiy66aGZAdoMp8lldc0DOyyI+gVR0QEmSJEmSdG9A",
          "dtype": "f8"
         },
         "yaxis": "y"
        }
       ],
       "layout": {
        "barmode": "relative",
        "legend": {
         "tracegroupgap": 0
        },
        "margin": {
         "t": 60
        },
        "template": {
         "data": {
          "bar": [
           {
            "error_x": {
             "color": "#2a3f5f"
            },
            "error_y": {
             "color": "#2a3f5f"
            },
            "marker": {
             "line": {
              "color": "#E5ECF6",
              "width": 0.5
             },
             "pattern": {
              "fillmode": "overlay",
              "size": 10,
              "solidity": 0.2
             }
            },
            "type": "bar"
           }
          ],
          "barpolar": [
           {
            "marker": {
             "line": {
              "color": "#E5ECF6",
              "width": 0.5
             },
             "pattern": {
              "fillmode": "overlay",
              "size": 10,
              "solidity": 0.2
             }
            },
            "type": "barpolar"
           }
          ],
          "carpet": [
           {
            "aaxis": {
             "endlinecolor": "#2a3f5f",
             "gridcolor": "white",
             "linecolor": "white",
             "minorgridcolor": "white",
             "startlinecolor": "#2a3f5f"
            },
            "baxis": {
             "endlinecolor": "#2a3f5f",
             "gridcolor": "white",
             "linecolor": "white",
             "minorgridcolor": "white",
             "startlinecolor": "#2a3f5f"
            },
            "type": "carpet"
           }
          ],
          "choropleth": [
           {
            "colorbar": {
             "outlinewidth": 0,
             "ticks": ""
            },
            "type": "choropleth"
           }
          ],
          "contour": [
           {
            "colorbar": {
             "outlinewidth": 0,
             "ticks": ""
            },
            "colorscale": [
             [
              0,
              "#0d0887"
             ],
             [
              0.1111111111111111,
              "#46039f"
             ],
             [
              0.2222222222222222,
              "#7201a8"
             ],
             [
              0.3333333333333333,
              "#9c179e"
             ],
             [
              0.4444444444444444,
              "#bd3786"
             ],
             [
              0.5555555555555556,
              "#d8576b"
             ],
             [
              0.6666666666666666,
              "#ed7953"
             ],
             [
              0.7777777777777778,
              "#fb9f3a"
             ],
             [
              0.8888888888888888,
              "#fdca26"
             ],
             [
              1,
              "#f0f921"
             ]
            ],
            "type": "contour"
           }
          ],
          "contourcarpet": [
           {
            "colorbar": {
             "outlinewidth": 0,
             "ticks": ""
            },
            "type": "contourcarpet"
           }
          ],
          "heatmap": [
           {
            "colorbar": {
             "outlinewidth": 0,
             "ticks": ""
            },
            "colorscale": [
             [
              0,
              "#0d0887"
             ],
             [
              0.1111111111111111,
              "#46039f"
             ],
             [
              0.2222222222222222,
              "#7201a8"
             ],
             [
              0.3333333333333333,
              "#9c179e"
             ],
             [
              0.4444444444444444,
              "#bd3786"
             ],
             [
              0.5555555555555556,
              "#d8576b"
             ],
             [
              0.6666666666666666,
              "#ed7953"
             ],
             [
              0.7777777777777778,
              "#fb9f3a"
             ],
             [
              0.8888888888888888,
              "#fdca26"
             ],
             [
              1,
              "#f0f921"
             ]
            ],
            "type": "heatmap"
           }
          ],
          "histogram": [
           {
            "marker": {
             "pattern": {
              "fillmode": "overlay",
              "size": 10,
              "solidity": 0.2
             }
            },
            "type": "histogram"
           }
          ],
          "histogram2d": [
           {
            "colorbar": {
             "outlinewidth": 0,
             "ticks": ""
            },
            "colorscale": [
             [
              0,
              "#0d0887"
             ],
             [
              0.1111111111111111,
              "#46039f"
             ],
             [
              0.2222222222222222,
              "#7201a8"
             ],
             [
              0.3333333333333333,
              "#9c179e"
             ],
             [
              0.4444444444444444,
              "#bd3786"
             ],
             [
              0.5555555555555556,
              "#d8576b"
             ],
             [
              0.6666666666666666,
              "#ed7953"
             ],
             [
              0.7777777777777778,
              "#fb9f3a"
             ],
             [
              0.8888888888888888,
              "#fdca26"
             ],
             [
              1,
              "#f0f921"
             ]
            ],
            "type": "histogram2d"
           }
          ],
          "histogram2dcontour": [
           {
            "colorbar": {
             "outlinewidth": 0,
             "ticks": ""
            },
            "colorscale": [
             [
              0,
              "#0d0887"
             ],
             [
              0.1111111111111111,
              "#46039f"
             ],
             [
              0.2222222222222222,
              "#7201a8"
             ],
             [
              0.3333333333333333,
              "#9c179e"
             ],
             [
              0.4444444444444444,
              "#bd3786"
             ],
             [
              0.5555555555555556,
              "#d8576b"
             ],
             [
              0.6666666666666666,
              "#ed7953"
             ],
             [
              0.7777777777777778,
              "#fb9f3a"
             ],
             [
              0.8888888888888888,
              "#fdca26"
             ],
             [
              1,
              "#f0f921"
             ]
            ],
            "type": "histogram2dcontour"
           }
          ],
          "mesh3d": [
           {
            "colorbar": {
             "outlinewidth": 0,
             "ticks": ""
            },
            "type": "mesh3d"
           }
          ],
          "parcoords": [
           {
            "line": {
             "colorbar": {
              "outlinewidth": 0,
              "ticks": ""
             }
            },
            "type": "parcoords"
           }
          ],
          "pie": [
           {
            "automargin": true,
            "type": "pie"
           }
          ],
          "scatter": [
           {
            "fillpattern": {
             "fillmode": "overlay",
             "size": 10,
             "solidity": 0.2
            },
            "type": "scatter"
           }
          ],
          "scatter3d": [
           {
            "line": {
             "colorbar": {
              "outlinewidth": 0,
              "ticks": ""
             }
            },
            "marker": {
             "colorbar": {
              "outlinewidth": 0,
              "ticks": ""
             }
            },
            "type": "scatter3d"
           }
          ],
          "scattercarpet": [
           {
            "marker": {
             "colorbar": {
              "outlinewidth": 0,
              "ticks": ""
             }
            },
            "type": "scattercarpet"
           }
          ],
          "scattergeo": [
           {
            "marker": {
             "colorbar": {
              "outlinewidth": 0,
              "ticks": ""
             }
            },
            "type": "scattergeo"
           }
          ],
          "scattergl": [
           {
            "marker": {
             "colorbar": {
              "outlinewidth": 0,
              "ticks": ""
             }
            },
            "type": "scattergl"
           }
          ],
          "scattermap": [
           {
            "marker": {
             "colorbar": {
              "outlinewidth": 0,
              "ticks": ""
             }
            },
            "type": "scattermap"
           }
          ],
          "scattermapbox": [
           {
            "marker": {
             "colorbar": {
              "outlinewidth": 0,
              "ticks": ""
             }
            },
            "type": "scattermapbox"
           }
          ],
          "scatterpolar": [
           {
            "marker": {
             "colorbar": {
              "outlinewidth": 0,
              "ticks": ""
             }
            },
            "type": "scatterpolar"
           }
          ],
          "scatterpolargl": [
           {
            "marker": {
             "colorbar": {
              "outlinewidth": 0,
              "ticks": ""
             }
            },
            "type": "scatterpolargl"
           }
          ],
          "scatterternary": [
           {
            "marker": {
             "colorbar": {
              "outlinewidth": 0,
              "ticks": ""
             }
            },
            "type": "scatterternary"
           }
          ],
          "surface": [
           {
            "colorbar": {
             "outlinewidth": 0,
             "ticks": ""
            },
            "colorscale": [
             [
              0,
              "#0d0887"
             ],
             [
              0.1111111111111111,
              "#46039f"
             ],
             [
              0.2222222222222222,
              "#7201a8"
             ],
             [
              0.3333333333333333,
              "#9c179e"
             ],
             [
              0.4444444444444444,
              "#bd3786"
             ],
             [
              0.5555555555555556,
              "#d8576b"
             ],
             [
              0.6666666666666666,
              "#ed7953"
             ],
             [
              0.7777777777777778,
              "#fb9f3a"
             ],
             [
              0.8888888888888888,
              "#fdca26"
             ],
             [
              1,
              "#f0f921"
             ]
            ],
            "type": "surface"
           }
          ],
          "table": [
           {
            "cells": {
             "fill": {
              "color": "#EBF0F8"
             },
             "line": {
              "color": "white"
             }
            },
            "header": {
             "fill": {
              "color": "#C8D4E3"
             },
             "line": {
              "color": "white"
             }
            },
            "type": "table"
           }
          ]
         },
         "layout": {
          "annotationdefaults": {
           "arrowcolor": "#2a3f5f",
           "arrowhead": 0,
           "arrowwidth": 1
          },
          "autotypenumbers": "strict",
          "coloraxis": {
           "colorbar": {
            "outlinewidth": 0,
            "ticks": ""
           }
          },
          "colorscale": {
           "diverging": [
            [
             0,
             "#8e0152"
            ],
            [
             0.1,
             "#c51b7d"
            ],
            [
             0.2,
             "#de77ae"
            ],
            [
             0.3,
             "#f1b6da"
            ],
            [
             0.4,
             "#fde0ef"
            ],
            [
             0.5,
             "#f7f7f7"
            ],
            [
             0.6,
             "#e6f5d0"
            ],
            [
             0.7,
             "#b8e186"
            ],
            [
             0.8,
             "#7fbc41"
            ],
            [
             0.9,
             "#4d9221"
            ],
            [
             1,
             "#276419"
            ]
           ],
           "sequential": [
            [
             0,
             "#0d0887"
            ],
            [
             0.1111111111111111,
             "#46039f"
            ],
            [
             0.2222222222222222,
             "#7201a8"
            ],
            [
             0.3333333333333333,
             "#9c179e"
            ],
            [
             0.4444444444444444,
             "#bd3786"
            ],
            [
             0.5555555555555556,
             "#d8576b"
            ],
            [
             0.6666666666666666,
             "#ed7953"
            ],
            [
             0.7777777777777778,
             "#fb9f3a"
            ],
            [
             0.8888888888888888,
             "#fdca26"
            ],
            [
             1,
             "#f0f921"
            ]
           ],
           "sequentialminus": [
            [
             0,
             "#0d0887"
            ],
            [
             0.1111111111111111,
             "#46039f"
            ],
            [
             0.2222222222222222,
             "#7201a8"
            ],
            [
             0.3333333333333333,
             "#9c179e"
            ],
            [
             0.4444444444444444,
             "#bd3786"
            ],
            [
             0.5555555555555556,
             "#d8576b"
            ],
            [
             0.6666666666666666,
             "#ed7953"
            ],
            [
             0.7777777777777778,
             "#fb9f3a"
            ],
            [
             0.8888888888888888,
             "#fdca26"
            ],
            [
             1,
             "#f0f921"
            ]
           ]
          },
          "colorway": [
           "#636efa",
           "#EF553B",
           "#00cc96",
           "#ab63fa",
           "#FFA15A",
           "#19d3f3",
           "#FF6692",
           "#B6E880",
           "#FF97FF",
           "#FECB52"
          ],
          "font": {
           "color": "#2a3f5f"
          },
          "geo": {
           "bgcolor": "white",
           "lakecolor": "white",
           "landcolor": "#E5ECF6",
           "showlakes": true,
           "showland": true,
           "subunitcolor": "white"
          },
          "hoverlabel": {
           "align": "left"
          },
          "hovermode": "closest",
          "mapbox": {
           "style": "light"
          },
          "paper_bgcolor": "white",
          "plot_bgcolor": "#E5ECF6",
          "polar": {
           "angularaxis": {
            "gridcolor": "white",
            "linecolor": "white",
            "ticks": ""
           },
           "bgcolor": "#E5ECF6",
           "radialaxis": {
            "gridcolor": "white",
            "linecolor": "white",
            "ticks": ""
           }
          },
          "scene": {
           "xaxis": {
            "backgroundcolor": "#E5ECF6",
            "gridcolor": "white",
            "gridwidth": 2,
            "linecolor": "white",
            "showbackground": true,
            "ticks": "",
            "zerolinecolor": "white"
           },
           "yaxis": {
            "backgroundcolor": "#E5ECF6",
            "gridcolor": "white",
            "gridwidth": 2,
            "linecolor": "white",
            "showbackground": true,
            "ticks": "",
            "zerolinecolor": "white"
           },
           "zaxis": {
            "backgroundcolor": "#E5ECF6",
            "gridcolor": "white",
            "gridwidth": 2,
            "linecolor": "white",
            "showbackground": true,
            "ticks": "",
            "zerolinecolor": "white"
           }
          },
          "shapedefaults": {
           "line": {
            "color": "#2a3f5f"
           }
          },
          "ternary": {
           "aaxis": {
            "gridcolor": "white",
            "linecolor": "white",
            "ticks": ""
           },
           "baxis": {
            "gridcolor": "white",
            "linecolor": "white",
            "ticks": ""
           },
           "bgcolor": "#E5ECF6",
           "caxis": {
            "gridcolor": "white",
            "linecolor": "white",
            "ticks": ""
           }
          },
          "title": {
           "x": 0.05
          },
          "xaxis": {
           "automargin": true,
           "gridcolor": "white",
           "linecolor": "white",
           "ticks": "",
           "title": {
            "standoff": 15
           },
           "zerolinecolor": "white",
           "zerolinewidth": 2
          },
          "yaxis": {
           "automargin": true,
           "gridcolor": "white",
           "linecolor": "white",
           "ticks": "",
           "title": {
            "standoff": 15
           },
           "zerolinecolor": "white",
           "zerolinewidth": 2
          }
         }
        },
        "xaxis": {
         "anchor": "y",
         "domain": [
          0,
          1
         ],
         "title": {
          "text": "internal_rom_gb"
         }
        },
        "yaxis": {
         "anchor": "x",
         "domain": [
          0,
          1
         ],
         "title": {
          "text": "popularity_become_fan"
         }
        }
       }
      }
     },
     "metadata": {},
     "output_type": "display_data"
    }
   ],
   "source": [
    "pdf = df.groupby('internal_rom_gb')['popularity_become_fan'].mean().reset_index()\n",
    "pdf['internal_rom_gb'] = pdf['internal_rom_gb'].astype('str')\n",
    "px.bar(pdf, x='internal_rom_gb', y='popularity_become_fan')"
   ]
  },
  {
   "cell_type": "markdown",
   "id": "236bda33",
   "metadata": {},
   "source": [
    "Phones with larger internal storage recieve more likes than phones with lower internal storage memory"
   ]
  },
  {
   "cell_type": "code",
   "execution_count": 21,
   "id": "d0e4527b",
   "metadata": {},
   "outputs": [
    {
     "data": {
      "application/vnd.plotly.v1+json": {
       "config": {
        "plotlyServerURL": "https://plot.ly"
       },
       "data": [
        {
         "bingroup": "x",
         "hovertemplate": "variable=camera_mp<br>value=%{x}<br>count=%{y}<extra></extra>",
         "legendgroup": "camera_mp",
         "marker": {
          "color": "#636efa",
          "pattern": {
           "shape": ""
          }
         },
         "name": "camera_mp",
         "orientation": "v",
         "showlegend": true,
         "type": "histogram",
         "x": {
          "bdata": "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",
          "dtype": "f8"
         },
         "xaxis": "x",
         "yaxis": "y"
        }
       ],
       "layout": {
        "barmode": "relative",
        "legend": {
         "title": {
          "text": "variable"
         },
         "tracegroupgap": 0
        },
        "margin": {
         "t": 60
        },
        "template": {
         "data": {
          "bar": [
           {
            "error_x": {
             "color": "#2a3f5f"
            },
            "error_y": {
             "color": "#2a3f5f"
            },
            "marker": {
             "line": {
              "color": "#E5ECF6",
              "width": 0.5
             },
             "pattern": {
              "fillmode": "overlay",
              "size": 10,
              "solidity": 0.2
             }
            },
            "type": "bar"
           }
          ],
          "barpolar": [
           {
            "marker": {
             "line": {
              "color": "#E5ECF6",
              "width": 0.5
             },
             "pattern": {
              "fillmode": "overlay",
              "size": 10,
              "solidity": 0.2
             }
            },
            "type": "barpolar"
           }
          ],
          "carpet": [
           {
            "aaxis": {
             "endlinecolor": "#2a3f5f",
             "gridcolor": "white",
             "linecolor": "white",
             "minorgridcolor": "white",
             "startlinecolor": "#2a3f5f"
            },
            "baxis": {
             "endlinecolor": "#2a3f5f",
             "gridcolor": "white",
             "linecolor": "white",
             "minorgridcolor": "white",
             "startlinecolor": "#2a3f5f"
            },
            "type": "carpet"
           }
          ],
          "choropleth": [
           {
            "colorbar": {
             "outlinewidth": 0,
             "ticks": ""
            },
            "type": "choropleth"
           }
          ],
          "contour": [
           {
            "colorbar": {
             "outlinewidth": 0,
             "ticks": ""
            },
            "colorscale": [
             [
              0,
              "#0d0887"
             ],
             [
              0.1111111111111111,
              "#46039f"
             ],
             [
              0.2222222222222222,
              "#7201a8"
             ],
             [
              0.3333333333333333,
              "#9c179e"
             ],
             [
              0.4444444444444444,
              "#bd3786"
             ],
             [
              0.5555555555555556,
              "#d8576b"
             ],
             [
              0.6666666666666666,
              "#ed7953"
             ],
             [
              0.7777777777777778,
              "#fb9f3a"
             ],
             [
              0.8888888888888888,
              "#fdca26"
             ],
             [
              1,
              "#f0f921"
             ]
            ],
            "type": "contour"
           }
          ],
          "contourcarpet": [
           {
            "colorbar": {
             "outlinewidth": 0,
             "ticks": ""
            },
            "type": "contourcarpet"
           }
          ],
          "heatmap": [
           {
            "colorbar": {
             "outlinewidth": 0,
             "ticks": ""
            },
            "colorscale": [
             [
              0,
              "#0d0887"
             ],
             [
              0.1111111111111111,
              "#46039f"
             ],
             [
              0.2222222222222222,
              "#7201a8"
             ],
             [
              0.3333333333333333,
              "#9c179e"
             ],
             [
              0.4444444444444444,
              "#bd3786"
             ],
             [
              0.5555555555555556,
              "#d8576b"
             ],
             [
              0.6666666666666666,
              "#ed7953"
             ],
             [
              0.7777777777777778,
              "#fb9f3a"
             ],
             [
              0.8888888888888888,
              "#fdca26"
             ],
             [
              1,
              "#f0f921"
             ]
            ],
            "type": "heatmap"
           }
          ],
          "histogram": [
           {
            "marker": {
             "pattern": {
              "fillmode": "overlay",
              "size": 10,
              "solidity": 0.2
             }
            },
            "type": "histogram"
           }
          ],
          "histogram2d": [
           {
            "colorbar": {
             "outlinewidth": 0,
             "ticks": ""
            },
            "colorscale": [
             [
              0,
              "#0d0887"
             ],
             [
              0.1111111111111111,
              "#46039f"
             ],
             [
              0.2222222222222222,
              "#7201a8"
             ],
             [
              0.3333333333333333,
              "#9c179e"
             ],
             [
              0.4444444444444444,
              "#bd3786"
             ],
             [
              0.5555555555555556,
              "#d8576b"
             ],
             [
              0.6666666666666666,
              "#ed7953"
             ],
             [
              0.7777777777777778,
              "#fb9f3a"
             ],
             [
              0.8888888888888888,
              "#fdca26"
             ],
             [
              1,
              "#f0f921"
             ]
            ],
            "type": "histogram2d"
           }
          ],
          "histogram2dcontour": [
           {
            "colorbar": {
             "outlinewidth": 0,
             "ticks": ""
            },
            "colorscale": [
             [
              0,
              "#0d0887"
             ],
             [
              0.1111111111111111,
              "#46039f"
             ],
             [
              0.2222222222222222,
              "#7201a8"
             ],
             [
              0.3333333333333333,
              "#9c179e"
             ],
             [
              0.4444444444444444,
              "#bd3786"
             ],
             [
              0.5555555555555556,
              "#d8576b"
             ],
             [
              0.6666666666666666,
              "#ed7953"
             ],
             [
              0.7777777777777778,
              "#fb9f3a"
             ],
             [
              0.8888888888888888,
              "#fdca26"
             ],
             [
              1,
              "#f0f921"
             ]
            ],
            "type": "histogram2dcontour"
           }
          ],
          "mesh3d": [
           {
            "colorbar": {
             "outlinewidth": 0,
             "ticks": ""
            },
            "type": "mesh3d"
           }
          ],
          "parcoords": [
           {
            "line": {
             "colorbar": {
              "outlinewidth": 0,
              "ticks": ""
             }
            },
            "type": "parcoords"
           }
          ],
          "pie": [
           {
            "automargin": true,
            "type": "pie"
           }
          ],
          "scatter": [
           {
            "fillpattern": {
             "fillmode": "overlay",
             "size": 10,
             "solidity": 0.2
            },
            "type": "scatter"
           }
          ],
          "scatter3d": [
           {
            "line": {
             "colorbar": {
              "outlinewidth": 0,
              "ticks": ""
             }
            },
            "marker": {
             "colorbar": {
              "outlinewidth": 0,
              "ticks": ""
             }
            },
            "type": "scatter3d"
           }
          ],
          "scattercarpet": [
           {
            "marker": {
             "colorbar": {
              "outlinewidth": 0,
              "ticks": ""
             }
            },
            "type": "scattercarpet"
           }
          ],
          "scattergeo": [
           {
            "marker": {
             "colorbar": {
              "outlinewidth": 0,
              "ticks": ""
             }
            },
            "type": "scattergeo"
           }
          ],
          "scattergl": [
           {
            "marker": {
             "colorbar": {
              "outlinewidth": 0,
              "ticks": ""
             }
            },
            "type": "scattergl"
           }
          ],
          "scattermap": [
           {
            "marker": {
             "colorbar": {
              "outlinewidth": 0,
              "ticks": ""
             }
            },
            "type": "scattermap"
           }
          ],
          "scattermapbox": [
           {
            "marker": {
             "colorbar": {
              "outlinewidth": 0,
              "ticks": ""
             }
            },
            "type": "scattermapbox"
           }
          ],
          "scatterpolar": [
           {
            "marker": {
             "colorbar": {
              "outlinewidth": 0,
              "ticks": ""
             }
            },
            "type": "scatterpolar"
           }
          ],
          "scatterpolargl": [
           {
            "marker": {
             "colorbar": {
              "outlinewidth": 0,
              "ticks": ""
             }
            },
            "type": "scatterpolargl"
           }
          ],
          "scatterternary": [
           {
            "marker": {
             "colorbar": {
              "outlinewidth": 0,
              "ticks": ""
             }
            },
            "type": "scatterternary"
           }
          ],
          "surface": [
           {
            "colorbar": {
             "outlinewidth": 0,
             "ticks": ""
            },
            "colorscale": [
             [
              0,
              "#0d0887"
             ],
             [
              0.1111111111111111,
              "#46039f"
             ],
             [
              0.2222222222222222,
              "#7201a8"
             ],
             [
              0.3333333333333333,
              "#9c179e"
             ],
             [
              0.4444444444444444,
              "#bd3786"
             ],
             [
              0.5555555555555556,
              "#d8576b"
             ],
             [
              0.6666666666666666,
              "#ed7953"
             ],
             [
              0.7777777777777778,
              "#fb9f3a"
             ],
             [
              0.8888888888888888,
              "#fdca26"
             ],
             [
              1,
              "#f0f921"
             ]
            ],
            "type": "surface"
           }
          ],
          "table": [
           {
            "cells": {
             "fill": {
              "color": "#EBF0F8"
             },
             "line": {
              "color": "white"
             }
            },
            "header": {
             "fill": {
              "color": "#C8D4E3"
             },
             "line": {
              "color": "white"
             }
            },
            "type": "table"
           }
          ]
         },
         "layout": {
          "annotationdefaults": {
           "arrowcolor": "#2a3f5f",
           "arrowhead": 0,
           "arrowwidth": 1
          },
          "autotypenumbers": "strict",
          "coloraxis": {
           "colorbar": {
            "outlinewidth": 0,
            "ticks": ""
           }
          },
          "colorscale": {
           "diverging": [
            [
             0,
             "#8e0152"
            ],
            [
             0.1,
             "#c51b7d"
            ],
            [
             0.2,
             "#de77ae"
            ],
            [
             0.3,
             "#f1b6da"
            ],
            [
             0.4,
             "#fde0ef"
            ],
            [
             0.5,
             "#f7f7f7"
            ],
            [
             0.6,
             "#e6f5d0"
            ],
            [
             0.7,
             "#b8e186"
            ],
            [
             0.8,
             "#7fbc41"
            ],
            [
             0.9,
             "#4d9221"
            ],
            [
             1,
             "#276419"
            ]
           ],
           "sequential": [
            [
             0,
             "#0d0887"
            ],
            [
             0.1111111111111111,
             "#46039f"
            ],
            [
             0.2222222222222222,
             "#7201a8"
            ],
            [
             0.3333333333333333,
             "#9c179e"
            ],
            [
             0.4444444444444444,
             "#bd3786"
            ],
            [
             0.5555555555555556,
             "#d8576b"
            ],
            [
             0.6666666666666666,
             "#ed7953"
            ],
            [
             0.7777777777777778,
             "#fb9f3a"
            ],
            [
             0.8888888888888888,
             "#fdca26"
            ],
            [
             1,
             "#f0f921"
            ]
           ],
           "sequentialminus": [
            [
             0,
             "#0d0887"
            ],
            [
             0.1111111111111111,
             "#46039f"
            ],
            [
             0.2222222222222222,
             "#7201a8"
            ],
            [
             0.3333333333333333,
             "#9c179e"
            ],
            [
             0.4444444444444444,
             "#bd3786"
            ],
            [
             0.5555555555555556,
             "#d8576b"
            ],
            [
             0.6666666666666666,
             "#ed7953"
            ],
            [
             0.7777777777777778,
             "#fb9f3a"
            ],
            [
             0.8888888888888888,
             "#fdca26"
            ],
            [
             1,
             "#f0f921"
            ]
           ]
          },
          "colorway": [
           "#636efa",
           "#EF553B",
           "#00cc96",
           "#ab63fa",
           "#FFA15A",
           "#19d3f3",
           "#FF6692",
           "#B6E880",
           "#FF97FF",
           "#FECB52"
          ],
          "font": {
           "color": "#2a3f5f"
          },
          "geo": {
           "bgcolor": "white",
           "lakecolor": "white",
           "landcolor": "#E5ECF6",
           "showlakes": true,
           "showland": true,
           "subunitcolor": "white"
          },
          "hoverlabel": {
           "align": "left"
          },
          "hovermode": "closest",
          "mapbox": {
           "style": "light"
          },
          "paper_bgcolor": "white",
          "plot_bgcolor": "#E5ECF6",
          "polar": {
           "angularaxis": {
            "gridcolor": "white",
            "linecolor": "white",
            "ticks": ""
           },
           "bgcolor": "#E5ECF6",
           "radialaxis": {
            "gridcolor": "white",
            "linecolor": "white",
            "ticks": ""
           }
          },
          "scene": {
           "xaxis": {
            "backgroundcolor": "#E5ECF6",
            "gridcolor": "white",
            "gridwidth": 2,
            "linecolor": "white",
            "showbackground": true,
            "ticks": "",
            "zerolinecolor": "white"
           },
           "yaxis": {
            "backgroundcolor": "#E5ECF6",
            "gridcolor": "white",
            "gridwidth": 2,
            "linecolor": "white",
            "showbackground": true,
            "ticks": "",
            "zerolinecolor": "white"
           },
           "zaxis": {
            "backgroundcolor": "#E5ECF6",
            "gridcolor": "white",
            "gridwidth": 2,
            "linecolor": "white",
            "showbackground": true,
            "ticks": "",
            "zerolinecolor": "white"
           }
          },
          "shapedefaults": {
           "line": {
            "color": "#2a3f5f"
           }
          },
          "ternary": {
           "aaxis": {
            "gridcolor": "white",
            "linecolor": "white",
            "ticks": ""
           },
           "baxis": {
            "gridcolor": "white",
            "linecolor": "white",
            "ticks": ""
           },
           "bgcolor": "#E5ECF6",
           "caxis": {
            "gridcolor": "white",
            "linecolor": "white",
            "ticks": ""
           }
          },
          "title": {
           "x": 0.05
          },
          "xaxis": {
           "automargin": true,
           "gridcolor": "white",
           "linecolor": "white",
           "ticks": "",
           "title": {
            "standoff": 15
           },
           "zerolinecolor": "white",
           "zerolinewidth": 2
          },
          "yaxis": {
           "automargin": true,
           "gridcolor": "white",
           "linecolor": "white",
           "ticks": "",
           "title": {
            "standoff": 15
           },
           "zerolinecolor": "white",
           "zerolinewidth": 2
          }
         }
        },
        "xaxis": {
         "anchor": "y",
         "domain": [
          0,
          1
         ],
         "title": {
          "text": "value"
         }
        },
        "yaxis": {
         "anchor": "x",
         "domain": [
          0,
          1
         ],
         "title": {
          "text": "count"
         }
        }
       }
      }
     },
     "metadata": {},
     "output_type": "display_data"
    }
   ],
   "source": [
    "pdf = df['camera_mp']\n",
    "px.histogram(pdf)"
   ]
  },
  {
   "cell_type": "code",
   "execution_count": 22,
   "id": "773dc4dc",
   "metadata": {},
   "outputs": [
    {
     "data": {
      "application/vnd.plotly.v1+json": {
       "config": {
        "plotlyServerURL": "https://plot.ly"
       },
       "data": [
        {
         "bingroup": "x",
         "histfunc": "avg",
         "hovertemplate": "camera_mp=%{x}<br>avg of popularity_become_fan=%{y}<extra></extra>",
         "legendgroup": "",
         "marker": {
          "color": "#636efa",
          "pattern": {
           "shape": ""
          }
         },
         "name": "",
         "nbinsx": 10,
         "orientation": "v",
         "showlegend": false,
         "type": "histogram",
         "x": {
          "bdata": "AAAAAAAAIEAAAAAAAAAmQAAAAAAAAChAZmZmZmZmKEAAAAAAAAAqQAAAAAAAADBAAAAAAAAAOUAAAAAAAABIQAAAAAAAAElAZmZmZmYmSUAAAAAAAABLQAAAAAAAAFBAAAAAAAAAW0AAAAAAAABpQA==",
          "dtype": "f8"
         },
         "xaxis": "x",
         "y": {
          "bdata": "Yid2Yid2QkAAAAAAACBnQKuqqqqq5HxAmpmZmZlhgUB9DM7H4PxRQAAAAAAAgFhAAAAAAACAZUD29fX19bVvQOyCsAvCbmpAAAAAAADYg0AAAAAAAOBsQN4sTyLTYHJAyz2NsNyzdkDsxE7sxF6BQA==",
          "dtype": "f8"
         },
         "yaxis": "y"
        }
       ],
       "layout": {
        "barmode": "relative",
        "legend": {
         "tracegroupgap": 0
        },
        "margin": {
         "t": 60
        },
        "template": {
         "data": {
          "bar": [
           {
            "error_x": {
             "color": "#2a3f5f"
            },
            "error_y": {
             "color": "#2a3f5f"
            },
            "marker": {
             "line": {
              "color": "#E5ECF6",
              "width": 0.5
             },
             "pattern": {
              "fillmode": "overlay",
              "size": 10,
              "solidity": 0.2
             }
            },
            "type": "bar"
           }
          ],
          "barpolar": [
           {
            "marker": {
             "line": {
              "color": "#E5ECF6",
              "width": 0.5
             },
             "pattern": {
              "fillmode": "overlay",
              "size": 10,
              "solidity": 0.2
             }
            },
            "type": "barpolar"
           }
          ],
          "carpet": [
           {
            "aaxis": {
             "endlinecolor": "#2a3f5f",
             "gridcolor": "white",
             "linecolor": "white",
             "minorgridcolor": "white",
             "startlinecolor": "#2a3f5f"
            },
            "baxis": {
             "endlinecolor": "#2a3f5f",
             "gridcolor": "white",
             "linecolor": "white",
             "minorgridcolor": "white",
             "startlinecolor": "#2a3f5f"
            },
            "type": "carpet"
           }
          ],
          "choropleth": [
           {
            "colorbar": {
             "outlinewidth": 0,
             "ticks": ""
            },
            "type": "choropleth"
           }
          ],
          "contour": [
           {
            "colorbar": {
             "outlinewidth": 0,
             "ticks": ""
            },
            "colorscale": [
             [
              0,
              "#0d0887"
             ],
             [
              0.1111111111111111,
              "#46039f"
             ],
             [
              0.2222222222222222,
              "#7201a8"
             ],
             [
              0.3333333333333333,
              "#9c179e"
             ],
             [
              0.4444444444444444,
              "#bd3786"
             ],
             [
              0.5555555555555556,
              "#d8576b"
             ],
             [
              0.6666666666666666,
              "#ed7953"
             ],
             [
              0.7777777777777778,
              "#fb9f3a"
             ],
             [
              0.8888888888888888,
              "#fdca26"
             ],
             [
              1,
              "#f0f921"
             ]
            ],
            "type": "contour"
           }
          ],
          "contourcarpet": [
           {
            "colorbar": {
             "outlinewidth": 0,
             "ticks": ""
            },
            "type": "contourcarpet"
           }
          ],
          "heatmap": [
           {
            "colorbar": {
             "outlinewidth": 0,
             "ticks": ""
            },
            "colorscale": [
             [
              0,
              "#0d0887"
             ],
             [
              0.1111111111111111,
              "#46039f"
             ],
             [
              0.2222222222222222,
              "#7201a8"
             ],
             [
              0.3333333333333333,
              "#9c179e"
             ],
             [
              0.4444444444444444,
              "#bd3786"
             ],
             [
              0.5555555555555556,
              "#d8576b"
             ],
             [
              0.6666666666666666,
              "#ed7953"
             ],
             [
              0.7777777777777778,
              "#fb9f3a"
             ],
             [
              0.8888888888888888,
              "#fdca26"
             ],
             [
              1,
              "#f0f921"
             ]
            ],
            "type": "heatmap"
           }
          ],
          "histogram": [
           {
            "marker": {
             "pattern": {
              "fillmode": "overlay",
              "size": 10,
              "solidity": 0.2
             }
            },
            "type": "histogram"
           }
          ],
          "histogram2d": [
           {
            "colorbar": {
             "outlinewidth": 0,
             "ticks": ""
            },
            "colorscale": [
             [
              0,
              "#0d0887"
             ],
             [
              0.1111111111111111,
              "#46039f"
             ],
             [
              0.2222222222222222,
              "#7201a8"
             ],
             [
              0.3333333333333333,
              "#9c179e"
             ],
             [
              0.4444444444444444,
              "#bd3786"
             ],
             [
              0.5555555555555556,
              "#d8576b"
             ],
             [
              0.6666666666666666,
              "#ed7953"
             ],
             [
              0.7777777777777778,
              "#fb9f3a"
             ],
             [
              0.8888888888888888,
              "#fdca26"
             ],
             [
              1,
              "#f0f921"
             ]
            ],
            "type": "histogram2d"
           }
          ],
          "histogram2dcontour": [
           {
            "colorbar": {
             "outlinewidth": 0,
             "ticks": ""
            },
            "colorscale": [
             [
              0,
              "#0d0887"
             ],
             [
              0.1111111111111111,
              "#46039f"
             ],
             [
              0.2222222222222222,
              "#7201a8"
             ],
             [
              0.3333333333333333,
              "#9c179e"
             ],
             [
              0.4444444444444444,
              "#bd3786"
             ],
             [
              0.5555555555555556,
              "#d8576b"
             ],
             [
              0.6666666666666666,
              "#ed7953"
             ],
             [
              0.7777777777777778,
              "#fb9f3a"
             ],
             [
              0.8888888888888888,
              "#fdca26"
             ],
             [
              1,
              "#f0f921"
             ]
            ],
            "type": "histogram2dcontour"
           }
          ],
          "mesh3d": [
           {
            "colorbar": {
             "outlinewidth": 0,
             "ticks": ""
            },
            "type": "mesh3d"
           }
          ],
          "parcoords": [
           {
            "line": {
             "colorbar": {
              "outlinewidth": 0,
              "ticks": ""
             }
            },
            "type": "parcoords"
           }
          ],
          "pie": [
           {
            "automargin": true,
            "type": "pie"
           }
          ],
          "scatter": [
           {
            "fillpattern": {
             "fillmode": "overlay",
             "size": 10,
             "solidity": 0.2
            },
            "type": "scatter"
           }
          ],
          "scatter3d": [
           {
            "line": {
             "colorbar": {
              "outlinewidth": 0,
              "ticks": ""
             }
            },
            "marker": {
             "colorbar": {
              "outlinewidth": 0,
              "ticks": ""
             }
            },
            "type": "scatter3d"
           }
          ],
          "scattercarpet": [
           {
            "marker": {
             "colorbar": {
              "outlinewidth": 0,
              "ticks": ""
             }
            },
            "type": "scattercarpet"
           }
          ],
          "scattergeo": [
           {
            "marker": {
             "colorbar": {
              "outlinewidth": 0,
              "ticks": ""
             }
            },
            "type": "scattergeo"
           }
          ],
          "scattergl": [
           {
            "marker": {
             "colorbar": {
              "outlinewidth": 0,
              "ticks": ""
             }
            },
            "type": "scattergl"
           }
          ],
          "scattermap": [
           {
            "marker": {
             "colorbar": {
              "outlinewidth": 0,
              "ticks": ""
             }
            },
            "type": "scattermap"
           }
          ],
          "scattermapbox": [
           {
            "marker": {
             "colorbar": {
              "outlinewidth": 0,
              "ticks": ""
             }
            },
            "type": "scattermapbox"
           }
          ],
          "scatterpolar": [
           {
            "marker": {
             "colorbar": {
              "outlinewidth": 0,
              "ticks": ""
             }
            },
            "type": "scatterpolar"
           }
          ],
          "scatterpolargl": [
           {
            "marker": {
             "colorbar": {
              "outlinewidth": 0,
              "ticks": ""
             }
            },
            "type": "scatterpolargl"
           }
          ],
          "scatterternary": [
           {
            "marker": {
             "colorbar": {
              "outlinewidth": 0,
              "ticks": ""
             }
            },
            "type": "scatterternary"
           }
          ],
          "surface": [
           {
            "colorbar": {
             "outlinewidth": 0,
             "ticks": ""
            },
            "colorscale": [
             [
              0,
              "#0d0887"
             ],
             [
              0.1111111111111111,
              "#46039f"
             ],
             [
              0.2222222222222222,
              "#7201a8"
             ],
             [
              0.3333333333333333,
              "#9c179e"
             ],
             [
              0.4444444444444444,
              "#bd3786"
             ],
             [
              0.5555555555555556,
              "#d8576b"
             ],
             [
              0.6666666666666666,
              "#ed7953"
             ],
             [
              0.7777777777777778,
              "#fb9f3a"
             ],
             [
              0.8888888888888888,
              "#fdca26"
             ],
             [
              1,
              "#f0f921"
             ]
            ],
            "type": "surface"
           }
          ],
          "table": [
           {
            "cells": {
             "fill": {
              "color": "#EBF0F8"
             },
             "line": {
              "color": "white"
             }
            },
            "header": {
             "fill": {
              "color": "#C8D4E3"
             },
             "line": {
              "color": "white"
             }
            },
            "type": "table"
           }
          ]
         },
         "layout": {
          "annotationdefaults": {
           "arrowcolor": "#2a3f5f",
           "arrowhead": 0,
           "arrowwidth": 1
          },
          "autotypenumbers": "strict",
          "coloraxis": {
           "colorbar": {
            "outlinewidth": 0,
            "ticks": ""
           }
          },
          "colorscale": {
           "diverging": [
            [
             0,
             "#8e0152"
            ],
            [
             0.1,
             "#c51b7d"
            ],
            [
             0.2,
             "#de77ae"
            ],
            [
             0.3,
             "#f1b6da"
            ],
            [
             0.4,
             "#fde0ef"
            ],
            [
             0.5,
             "#f7f7f7"
            ],
            [
             0.6,
             "#e6f5d0"
            ],
            [
             0.7,
             "#b8e186"
            ],
            [
             0.8,
             "#7fbc41"
            ],
            [
             0.9,
             "#4d9221"
            ],
            [
             1,
             "#276419"
            ]
           ],
           "sequential": [
            [
             0,
             "#0d0887"
            ],
            [
             0.1111111111111111,
             "#46039f"
            ],
            [
             0.2222222222222222,
             "#7201a8"
            ],
            [
             0.3333333333333333,
             "#9c179e"
            ],
            [
             0.4444444444444444,
             "#bd3786"
            ],
            [
             0.5555555555555556,
             "#d8576b"
            ],
            [
             0.6666666666666666,
             "#ed7953"
            ],
            [
             0.7777777777777778,
             "#fb9f3a"
            ],
            [
             0.8888888888888888,
             "#fdca26"
            ],
            [
             1,
             "#f0f921"
            ]
           ],
           "sequentialminus": [
            [
             0,
             "#0d0887"
            ],
            [
             0.1111111111111111,
             "#46039f"
            ],
            [
             0.2222222222222222,
             "#7201a8"
            ],
            [
             0.3333333333333333,
             "#9c179e"
            ],
            [
             0.4444444444444444,
             "#bd3786"
            ],
            [
             0.5555555555555556,
             "#d8576b"
            ],
            [
             0.6666666666666666,
             "#ed7953"
            ],
            [
             0.7777777777777778,
             "#fb9f3a"
            ],
            [
             0.8888888888888888,
             "#fdca26"
            ],
            [
             1,
             "#f0f921"
            ]
           ]
          },
          "colorway": [
           "#636efa",
           "#EF553B",
           "#00cc96",
           "#ab63fa",
           "#FFA15A",
           "#19d3f3",
           "#FF6692",
           "#B6E880",
           "#FF97FF",
           "#FECB52"
          ],
          "font": {
           "color": "#2a3f5f"
          },
          "geo": {
           "bgcolor": "white",
           "lakecolor": "white",
           "landcolor": "#E5ECF6",
           "showlakes": true,
           "showland": true,
           "subunitcolor": "white"
          },
          "hoverlabel": {
           "align": "left"
          },
          "hovermode": "closest",
          "mapbox": {
           "style": "light"
          },
          "paper_bgcolor": "white",
          "plot_bgcolor": "#E5ECF6",
          "polar": {
           "angularaxis": {
            "gridcolor": "white",
            "linecolor": "white",
            "ticks": ""
           },
           "bgcolor": "#E5ECF6",
           "radialaxis": {
            "gridcolor": "white",
            "linecolor": "white",
            "ticks": ""
           }
          },
          "scene": {
           "xaxis": {
            "backgroundcolor": "#E5ECF6",
            "gridcolor": "white",
            "gridwidth": 2,
            "linecolor": "white",
            "showbackground": true,
            "ticks": "",
            "zerolinecolor": "white"
           },
           "yaxis": {
            "backgroundcolor": "#E5ECF6",
            "gridcolor": "white",
            "gridwidth": 2,
            "linecolor": "white",
            "showbackground": true,
            "ticks": "",
            "zerolinecolor": "white"
           },
           "zaxis": {
            "backgroundcolor": "#E5ECF6",
            "gridcolor": "white",
            "gridwidth": 2,
            "linecolor": "white",
            "showbackground": true,
            "ticks": "",
            "zerolinecolor": "white"
           }
          },
          "shapedefaults": {
           "line": {
            "color": "#2a3f5f"
           }
          },
          "ternary": {
           "aaxis": {
            "gridcolor": "white",
            "linecolor": "white",
            "ticks": ""
           },
           "baxis": {
            "gridcolor": "white",
            "linecolor": "white",
            "ticks": ""
           },
           "bgcolor": "#E5ECF6",
           "caxis": {
            "gridcolor": "white",
            "linecolor": "white",
            "ticks": ""
           }
          },
          "title": {
           "x": 0.05
          },
          "xaxis": {
           "automargin": true,
           "gridcolor": "white",
           "linecolor": "white",
           "ticks": "",
           "title": {
            "standoff": 15
           },
           "zerolinecolor": "white",
           "zerolinewidth": 2
          },
          "yaxis": {
           "automargin": true,
           "gridcolor": "white",
           "linecolor": "white",
           "ticks": "",
           "title": {
            "standoff": 15
           },
           "zerolinecolor": "white",
           "zerolinewidth": 2
          }
         }
        },
        "xaxis": {
         "anchor": "y",
         "domain": [
          0,
          1
         ],
         "title": {
          "text": "camera_mp"
         }
        },
        "yaxis": {
         "anchor": "x",
         "domain": [
          0,
          1
         ],
         "title": {
          "text": "avg of popularity_become_fan"
         }
        }
       }
      }
     },
     "metadata": {},
     "output_type": "display_data"
    }
   ],
   "source": [
    "pdf = df.groupby('camera_mp')['popularity_become_fan'].mean().reset_index()\n",
    "px.histogram(pdf.sort_values('camera_mp'), x='camera_mp', y='popularity_become_fan', histfunc='avg', nbins=10)"
   ]
  },
  {
   "cell_type": "code",
   "execution_count": 23,
   "id": "b045519a",
   "metadata": {},
   "outputs": [
    {
     "data": {
      "application/vnd.plotly.v1+json": {
       "config": {
        "plotlyServerURL": "https://plot.ly"
       },
       "data": [
        {
         "bingroup": "x",
         "histfunc": "avg",
         "hovertemplate": "camera_video_resolution=%{x}<br>avg of popularity_become_fan=%{y}<extra></extra>",
         "legendgroup": "",
         "marker": {
          "color": "#636efa",
          "pattern": {
           "shape": ""
          }
         },
         "name": "",
         "nbinsx": 10,
         "orientation": "v",
         "showlegend": false,
         "type": "histogram",
         "x": [
          "1080p",
          "1152p",
          "4K",
          "8K"
         ],
         "xaxis": "x",
         "y": {
          "bdata": "W6wM34giWEAAAAAAAABeQIj5qus92XNA4v3Iab5mekA=",
          "dtype": "f8"
         },
         "yaxis": "y"
        }
       ],
       "layout": {
        "barmode": "relative",
        "legend": {
         "tracegroupgap": 0
        },
        "margin": {
         "t": 60
        },
        "template": {
         "data": {
          "bar": [
           {
            "error_x": {
             "color": "#2a3f5f"
            },
            "error_y": {
             "color": "#2a3f5f"
            },
            "marker": {
             "line": {
              "color": "#E5ECF6",
              "width": 0.5
             },
             "pattern": {
              "fillmode": "overlay",
              "size": 10,
              "solidity": 0.2
             }
            },
            "type": "bar"
           }
          ],
          "barpolar": [
           {
            "marker": {
             "line": {
              "color": "#E5ECF6",
              "width": 0.5
             },
             "pattern": {
              "fillmode": "overlay",
              "size": 10,
              "solidity": 0.2
             }
            },
            "type": "barpolar"
           }
          ],
          "carpet": [
           {
            "aaxis": {
             "endlinecolor": "#2a3f5f",
             "gridcolor": "white",
             "linecolor": "white",
             "minorgridcolor": "white",
             "startlinecolor": "#2a3f5f"
            },
            "baxis": {
             "endlinecolor": "#2a3f5f",
             "gridcolor": "white",
             "linecolor": "white",
             "minorgridcolor": "white",
             "startlinecolor": "#2a3f5f"
            },
            "type": "carpet"
           }
          ],
          "choropleth": [
           {
            "colorbar": {
             "outlinewidth": 0,
             "ticks": ""
            },
            "type": "choropleth"
           }
          ],
          "contour": [
           {
            "colorbar": {
             "outlinewidth": 0,
             "ticks": ""
            },
            "colorscale": [
             [
              0,
              "#0d0887"
             ],
             [
              0.1111111111111111,
              "#46039f"
             ],
             [
              0.2222222222222222,
              "#7201a8"
             ],
             [
              0.3333333333333333,
              "#9c179e"
             ],
             [
              0.4444444444444444,
              "#bd3786"
             ],
             [
              0.5555555555555556,
              "#d8576b"
             ],
             [
              0.6666666666666666,
              "#ed7953"
             ],
             [
              0.7777777777777778,
              "#fb9f3a"
             ],
             [
              0.8888888888888888,
              "#fdca26"
             ],
             [
              1,
              "#f0f921"
             ]
            ],
            "type": "contour"
           }
          ],
          "contourcarpet": [
           {
            "colorbar": {
             "outlinewidth": 0,
             "ticks": ""
            },
            "type": "contourcarpet"
           }
          ],
          "heatmap": [
           {
            "colorbar": {
             "outlinewidth": 0,
             "ticks": ""
            },
            "colorscale": [
             [
              0,
              "#0d0887"
             ],
             [
              0.1111111111111111,
              "#46039f"
             ],
             [
              0.2222222222222222,
              "#7201a8"
             ],
             [
              0.3333333333333333,
              "#9c179e"
             ],
             [
              0.4444444444444444,
              "#bd3786"
             ],
             [
              0.5555555555555556,
              "#d8576b"
             ],
             [
              0.6666666666666666,
              "#ed7953"
             ],
             [
              0.7777777777777778,
              "#fb9f3a"
             ],
             [
              0.8888888888888888,
              "#fdca26"
             ],
             [
              1,
              "#f0f921"
             ]
            ],
            "type": "heatmap"
           }
          ],
          "histogram": [
           {
            "marker": {
             "pattern": {
              "fillmode": "overlay",
              "size": 10,
              "solidity": 0.2
             }
            },
            "type": "histogram"
           }
          ],
          "histogram2d": [
           {
            "colorbar": {
             "outlinewidth": 0,
             "ticks": ""
            },
            "colorscale": [
             [
              0,
              "#0d0887"
             ],
             [
              0.1111111111111111,
              "#46039f"
             ],
             [
              0.2222222222222222,
              "#7201a8"
             ],
             [
              0.3333333333333333,
              "#9c179e"
             ],
             [
              0.4444444444444444,
              "#bd3786"
             ],
             [
              0.5555555555555556,
              "#d8576b"
             ],
             [
              0.6666666666666666,
              "#ed7953"
             ],
             [
              0.7777777777777778,
              "#fb9f3a"
             ],
             [
              0.8888888888888888,
              "#fdca26"
             ],
             [
              1,
              "#f0f921"
             ]
            ],
            "type": "histogram2d"
           }
          ],
          "histogram2dcontour": [
           {
            "colorbar": {
             "outlinewidth": 0,
             "ticks": ""
            },
            "colorscale": [
             [
              0,
              "#0d0887"
             ],
             [
              0.1111111111111111,
              "#46039f"
             ],
             [
              0.2222222222222222,
              "#7201a8"
             ],
             [
              0.3333333333333333,
              "#9c179e"
             ],
             [
              0.4444444444444444,
              "#bd3786"
             ],
             [
              0.5555555555555556,
              "#d8576b"
             ],
             [
              0.6666666666666666,
              "#ed7953"
             ],
             [
              0.7777777777777778,
              "#fb9f3a"
             ],
             [
              0.8888888888888888,
              "#fdca26"
             ],
             [
              1,
              "#f0f921"
             ]
            ],
            "type": "histogram2dcontour"
           }
          ],
          "mesh3d": [
           {
            "colorbar": {
             "outlinewidth": 0,
             "ticks": ""
            },
            "type": "mesh3d"
           }
          ],
          "parcoords": [
           {
            "line": {
             "colorbar": {
              "outlinewidth": 0,
              "ticks": ""
             }
            },
            "type": "parcoords"
           }
          ],
          "pie": [
           {
            "automargin": true,
            "type": "pie"
           }
          ],
          "scatter": [
           {
            "fillpattern": {
             "fillmode": "overlay",
             "size": 10,
             "solidity": 0.2
            },
            "type": "scatter"
           }
          ],
          "scatter3d": [
           {
            "line": {
             "colorbar": {
              "outlinewidth": 0,
              "ticks": ""
             }
            },
            "marker": {
             "colorbar": {
              "outlinewidth": 0,
              "ticks": ""
             }
            },
            "type": "scatter3d"
           }
          ],
          "scattercarpet": [
           {
            "marker": {
             "colorbar": {
              "outlinewidth": 0,
              "ticks": ""
             }
            },
            "type": "scattercarpet"
           }
          ],
          "scattergeo": [
           {
            "marker": {
             "colorbar": {
              "outlinewidth": 0,
              "ticks": ""
             }
            },
            "type": "scattergeo"
           }
          ],
          "scattergl": [
           {
            "marker": {
             "colorbar": {
              "outlinewidth": 0,
              "ticks": ""
             }
            },
            "type": "scattergl"
           }
          ],
          "scattermap": [
           {
            "marker": {
             "colorbar": {
              "outlinewidth": 0,
              "ticks": ""
             }
            },
            "type": "scattermap"
           }
          ],
          "scattermapbox": [
           {
            "marker": {
             "colorbar": {
              "outlinewidth": 0,
              "ticks": ""
             }
            },
            "type": "scattermapbox"
           }
          ],
          "scatterpolar": [
           {
            "marker": {
             "colorbar": {
              "outlinewidth": 0,
              "ticks": ""
             }
            },
            "type": "scatterpolar"
           }
          ],
          "scatterpolargl": [
           {
            "marker": {
             "colorbar": {
              "outlinewidth": 0,
              "ticks": ""
             }
            },
            "type": "scatterpolargl"
           }
          ],
          "scatterternary": [
           {
            "marker": {
             "colorbar": {
              "outlinewidth": 0,
              "ticks": ""
             }
            },
            "type": "scatterternary"
           }
          ],
          "surface": [
           {
            "colorbar": {
             "outlinewidth": 0,
             "ticks": ""
            },
            "colorscale": [
             [
              0,
              "#0d0887"
             ],
             [
              0.1111111111111111,
              "#46039f"
             ],
             [
              0.2222222222222222,
              "#7201a8"
             ],
             [
              0.3333333333333333,
              "#9c179e"
             ],
             [
              0.4444444444444444,
              "#bd3786"
             ],
             [
              0.5555555555555556,
              "#d8576b"
             ],
             [
              0.6666666666666666,
              "#ed7953"
             ],
             [
              0.7777777777777778,
              "#fb9f3a"
             ],
             [
              0.8888888888888888,
              "#fdca26"
             ],
             [
              1,
              "#f0f921"
             ]
            ],
            "type": "surface"
           }
          ],
          "table": [
           {
            "cells": {
             "fill": {
              "color": "#EBF0F8"
             },
             "line": {
              "color": "white"
             }
            },
            "header": {
             "fill": {
              "color": "#C8D4E3"
             },
             "line": {
              "color": "white"
             }
            },
            "type": "table"
           }
          ]
         },
         "layout": {
          "annotationdefaults": {
           "arrowcolor": "#2a3f5f",
           "arrowhead": 0,
           "arrowwidth": 1
          },
          "autotypenumbers": "strict",
          "coloraxis": {
           "colorbar": {
            "outlinewidth": 0,
            "ticks": ""
           }
          },
          "colorscale": {
           "diverging": [
            [
             0,
             "#8e0152"
            ],
            [
             0.1,
             "#c51b7d"
            ],
            [
             0.2,
             "#de77ae"
            ],
            [
             0.3,
             "#f1b6da"
            ],
            [
             0.4,
             "#fde0ef"
            ],
            [
             0.5,
             "#f7f7f7"
            ],
            [
             0.6,
             "#e6f5d0"
            ],
            [
             0.7,
             "#b8e186"
            ],
            [
             0.8,
             "#7fbc41"
            ],
            [
             0.9,
             "#4d9221"
            ],
            [
             1,
             "#276419"
            ]
           ],
           "sequential": [
            [
             0,
             "#0d0887"
            ],
            [
             0.1111111111111111,
             "#46039f"
            ],
            [
             0.2222222222222222,
             "#7201a8"
            ],
            [
             0.3333333333333333,
             "#9c179e"
            ],
            [
             0.4444444444444444,
             "#bd3786"
            ],
            [
             0.5555555555555556,
             "#d8576b"
            ],
            [
             0.6666666666666666,
             "#ed7953"
            ],
            [
             0.7777777777777778,
             "#fb9f3a"
            ],
            [
             0.8888888888888888,
             "#fdca26"
            ],
            [
             1,
             "#f0f921"
            ]
           ],
           "sequentialminus": [
            [
             0,
             "#0d0887"
            ],
            [
             0.1111111111111111,
             "#46039f"
            ],
            [
             0.2222222222222222,
             "#7201a8"
            ],
            [
             0.3333333333333333,
             "#9c179e"
            ],
            [
             0.4444444444444444,
             "#bd3786"
            ],
            [
             0.5555555555555556,
             "#d8576b"
            ],
            [
             0.6666666666666666,
             "#ed7953"
            ],
            [
             0.7777777777777778,
             "#fb9f3a"
            ],
            [
             0.8888888888888888,
             "#fdca26"
            ],
            [
             1,
             "#f0f921"
            ]
           ]
          },
          "colorway": [
           "#636efa",
           "#EF553B",
           "#00cc96",
           "#ab63fa",
           "#FFA15A",
           "#19d3f3",
           "#FF6692",
           "#B6E880",
           "#FF97FF",
           "#FECB52"
          ],
          "font": {
           "color": "#2a3f5f"
          },
          "geo": {
           "bgcolor": "white",
           "lakecolor": "white",
           "landcolor": "#E5ECF6",
           "showlakes": true,
           "showland": true,
           "subunitcolor": "white"
          },
          "hoverlabel": {
           "align": "left"
          },
          "hovermode": "closest",
          "mapbox": {
           "style": "light"
          },
          "paper_bgcolor": "white",
          "plot_bgcolor": "#E5ECF6",
          "polar": {
           "angularaxis": {
            "gridcolor": "white",
            "linecolor": "white",
            "ticks": ""
           },
           "bgcolor": "#E5ECF6",
           "radialaxis": {
            "gridcolor": "white",
            "linecolor": "white",
            "ticks": ""
           }
          },
          "scene": {
           "xaxis": {
            "backgroundcolor": "#E5ECF6",
            "gridcolor": "white",
            "gridwidth": 2,
            "linecolor": "white",
            "showbackground": true,
            "ticks": "",
            "zerolinecolor": "white"
           },
           "yaxis": {
            "backgroundcolor": "#E5ECF6",
            "gridcolor": "white",
            "gridwidth": 2,
            "linecolor": "white",
            "showbackground": true,
            "ticks": "",
            "zerolinecolor": "white"
           },
           "zaxis": {
            "backgroundcolor": "#E5ECF6",
            "gridcolor": "white",
            "gridwidth": 2,
            "linecolor": "white",
            "showbackground": true,
            "ticks": "",
            "zerolinecolor": "white"
           }
          },
          "shapedefaults": {
           "line": {
            "color": "#2a3f5f"
           }
          },
          "ternary": {
           "aaxis": {
            "gridcolor": "white",
            "linecolor": "white",
            "ticks": ""
           },
           "baxis": {
            "gridcolor": "white",
            "linecolor": "white",
            "ticks": ""
           },
           "bgcolor": "#E5ECF6",
           "caxis": {
            "gridcolor": "white",
            "linecolor": "white",
            "ticks": ""
           }
          },
          "title": {
           "x": 0.05
          },
          "xaxis": {
           "automargin": true,
           "gridcolor": "white",
           "linecolor": "white",
           "ticks": "",
           "title": {
            "standoff": 15
           },
           "zerolinecolor": "white",
           "zerolinewidth": 2
          },
          "yaxis": {
           "automargin": true,
           "gridcolor": "white",
           "linecolor": "white",
           "ticks": "",
           "title": {
            "standoff": 15
           },
           "zerolinecolor": "white",
           "zerolinewidth": 2
          }
         }
        },
        "xaxis": {
         "anchor": "y",
         "domain": [
          0,
          1
         ],
         "title": {
          "text": "camera_video_resolution"
         }
        },
        "yaxis": {
         "anchor": "x",
         "domain": [
          0,
          1
         ],
         "title": {
          "text": "avg of popularity_become_fan"
         }
        }
       }
      }
     },
     "metadata": {},
     "output_type": "display_data"
    }
   ],
   "source": [
    "pdf = df.groupby('camera_video_resolution')['popularity_become_fan'].mean().reset_index()\n",
    "px.histogram(pdf, x='camera_video_resolution', y='popularity_become_fan', histfunc='avg', nbins=10)"
   ]
  },
  {
   "cell_type": "code",
   "execution_count": 24,
   "id": "7f77cddc",
   "metadata": {},
   "outputs": [
    {
     "data": {
      "application/vnd.plotly.v1+json": {
       "config": {
        "plotlyServerURL": "https://plot.ly"
       },
       "data": [
        {
         "coloraxis": "coloraxis",
         "histfunc": "avg",
         "hovertemplate": "camera_video_resolution=%{x}<br>camera_video_fps=%{y}<br>avg of popularity_become_fan=%{z}<extra></extra>",
         "name": "",
         "type": "histogram2d",
         "x": [
          "4K",
          "4K",
          "4K",
          "4K",
          "4K",
          "4K",
          "4K",
          "4K",
          "4K",
          "4K",
          "4K",
          "4K",
          "4K",
          "4K",
          "4K",
          "4K",
          "4K",
          "4K",
          "4K",
          "4K",
          "4K",
          "4K",
          "4K",
          "8K",
          "8K",
          "8K",
          "8K",
          "8K",
          "8K",
          "8K",
          "8K",
          "8K",
          "8K",
          "8K",
          "8K",
          "8K",
          "8K",
          "8K",
          "8K",
          "8K",
          "8K",
          "8K",
          "8K",
          "8K",
          "8K",
          "8K",
          "8K",
          "8K",
          "8K",
          "8K",
          "8K",
          "8K",
          "4K",
          "4K",
          "4K",
          "8K",
          "8K",
          "4K",
          "4K",
          "4K",
          "4K",
          "4K",
          "4K",
          "4K",
          "4K",
          "4K",
          "4K",
          "4K",
          "4K",
          "4K",
          "4K",
          "4K",
          "4K",
          "4K",
          "4K",
          "4K",
          "4K",
          "4K",
          "4K",
          "4K",
          "4K",
          "4K",
          "4K",
          "4K",
          "4K",
          "8K",
          "4K",
          "4K",
          "1080p",
          "1080p",
          "4K",
          "4K",
          "1080p",
          "4K",
          "8K",
          "4K",
          "4K",
          "4K",
          "4K",
          "4K",
          "1080p",
          "1080p",
          "4K",
          "4K",
          "4K",
          "8K",
          "1080p",
          "4K",
          "1080p",
          "4K",
          "4K",
          "4K",
          "1080p",
          "4K",
          "4K",
          "1080p",
          "4K",
          "8K",
          "4K",
          "4K",
          "4K",
          "1080p",
          "4K",
          "8K",
          "8K",
          "4K",
          "4K",
          "1080p",
          "4K",
          "4K",
          "4K",
          "4K",
          "4K",
          "4K",
          "4K",
          "4K",
          "4K",
          "4K",
          "1080p",
          "1080p",
          "1080p",
          "1080p",
          "8K",
          "8K",
          "8K",
          "8K",
          "1080p",
          "1080p",
          "8K",
          "4K",
          "1080p",
          "1080p",
          "1080p",
          "1080p",
          "8K",
          "4K",
          "4K",
          "4K",
          "4K",
          "4K",
          "4K",
          "4K",
          "1080p",
          "1080p",
          "1080p",
          "8K",
          "8K",
          "8K",
          "1080p",
          "4K",
          "1080p",
          "1080p",
          "8K",
          "1080p",
          "1080p",
          "4K",
          "8K",
          "4K",
          "4K",
          "4K",
          "1080p",
          "1080p",
          "4K",
          "4K",
          "4K",
          "1080p",
          "8K",
          "8K",
          "8K",
          "1080p",
          "1080p",
          "1080p",
          "1080p",
          "1080p",
          "1080p",
          "1080p",
          "8K",
          "4K",
          "1080p",
          "1080p",
          "1080p",
          "1080p",
          "4K",
          "1080p",
          "1080p",
          "4K",
          "4K",
          "4K",
          "4K",
          "4K",
          "4K",
          "4K",
          "4K",
          "1080p",
          "1080p",
          "8K",
          "8K",
          "8K",
          "4K",
          "1080p",
          "1080p",
          "1080p",
          "1152p",
          "4K",
          "1080p",
          "4K",
          "1080p",
          "4K",
          "4K",
          "4K",
          "1080p",
          "1080p",
          "4K",
          "1080p",
          "1080p",
          "1152p",
          "1080p",
          "4K",
          "4K",
          "1080p",
          "4K",
          "1080p",
          "1080p",
          "4K",
          "4K",
          "4K",
          "1080p",
          "1080p",
          "4K",
          "4K",
          "1080p",
          "8K",
          "8K",
          "8K",
          "4K",
          "1080p",
          "1080p",
          "1080p",
          "1080p",
          "1080p",
          "4K",
          "4K",
          "4K",
          "4K",
          "4K",
          "4K",
          "4K",
          "4K",
          "4K",
          "8K",
          "8K",
          "8K",
          "8K",
          "4K",
          "4K",
          "1080p",
          "1080p",
          "1080p",
          "4K",
          "1080p",
          "1080p",
          "1080p",
          "4K",
          "4K",
          "4K",
          "1080p",
          "1080p",
          "1080p",
          "1080p",
          "4K",
          "1080p",
          "4K",
          "8K",
          "8K",
          "8K",
          "8K",
          "8K",
          "8K",
          "8K",
          "4K",
          "1080p",
          "4K",
          "4K",
          "1080p",
          "4K",
          "1080p",
          "1080p",
          "4K",
          "4K",
          "4K",
          "4K",
          "1080p",
          "4K",
          "4K",
          "1080p",
          "4K",
          "4K",
          "4K",
          "4K",
          "4K",
          "4K",
          "4K",
          "4K",
          "4K",
          "1080p",
          "8K",
          "8K",
          "1080p",
          "4K",
          "4K",
          "1080p",
          "1080p",
          "1080p",
          "4K",
          "4K",
          "1080p",
          "1080p",
          "4K",
          "1080p",
          "1080p",
          "1080p",
          "4K",
          "4K",
          "8K",
          "8K",
          "8K",
          "1080p",
          "1080p",
          "1080p",
          "8K",
          "4K",
          "1080p",
          "1080p",
          "1080p",
          "1080p",
          "8K",
          "8K",
          "8K",
          "1080p",
          "1080p",
          "4K",
          "1080p",
          "1080p",
          "8K",
          "4K",
          "1080p",
          "4K",
          "1080p",
          "4K",
          "1080p",
          "8K",
          "8K",
          "1080p",
          "1080p",
          "1080p",
          "4K",
          "4K",
          "1080p",
          "4K",
          "4K",
          "1080p",
          "1080p",
          "1080p",
          "1080p",
          "8K",
          "8K",
          "4K",
          "1080p",
          "1080p",
          "1080p",
          "8K",
          "8K",
          "4K",
          "1080p",
          "8K",
          "8K",
          "1080p",
          "1080p",
          "1080p",
          "1080p",
          "1080p",
          "4K",
          "4K",
          "8K",
          "4K",
          "8K",
          "1080p",
          "1080p",
          "4K",
          "4K",
          "1080p",
          "1080p",
          "1080p",
          "8K",
          "8K",
          "4K",
          "1080p",
          "4K",
          "1080p",
          "1080p",
          "1080p",
          "4K",
          "8K",
          "4K",
          "8K",
          "1080p",
          "4K",
          "4K",
          "4K",
          "1080p",
          "8K",
          "4K",
          "1080p",
          "1080p",
          "4K",
          "1080p",
          "1080p",
          "1080p",
          "4K",
          "1080p",
          "1080p",
          "4K",
          "1080p",
          "4K",
          "8K",
          "4K",
          "4K",
          "8K",
          "8K",
          "8K",
          "4K",
          "4K",
          "4K",
          "1080p",
          "4K",
          "4K",
          "1080p",
          "1080p",
          "1080p",
          "4K",
          "4K",
          "1080p",
          "4K",
          "4K",
          "4K",
          "1080p",
          "1080p",
          "1080p",
          "4K",
          "4K",
          "4K",
          "4K",
          "8K",
          "8K",
          "8K",
          "1080p",
          "1080p",
          "1080p",
          "1080p",
          "1080p",
          "1080p",
          "1080p",
          "4K",
          "1080p",
          "1080p",
          "1080p",
          "1080p",
          "1080p",
          "4K",
          "4K",
          "1080p",
          "1080p",
          "1080p",
          "4K",
          "1080p",
          "4K",
          "4K",
          "4K",
          "4K",
          "1080p",
          "1080p",
          "1080p",
          "1080p",
          "8K",
          "4K",
          "4K",
          "1080p",
          "1080p",
          "8K",
          "4K",
          "4K",
          "1080p",
          "4K",
          "1080p",
          "1080p",
          "4K",
          "8K",
          "4K",
          "1080p",
          "8K",
          "8K",
          "8K",
          "8K",
          "4K",
          "4K",
          "4K",
          "4K",
          "4K",
          "4K",
          "8K",
          "4K",
          "1080p",
          "4K",
          "4K",
          "4K",
          "4K",
          "8K",
          "8K",
          "4K",
          "4K",
          "1080p",
          "4K",
          "8K",
          "1080p",
          "4K",
          "4K",
          "1080p",
          "1080p",
          "8K",
          "1080p",
          "8K",
          "8K",
          "4K",
          "1080p",
          "1080p",
          "1080p",
          "4K",
          "4K",
          "1080p",
          "8K",
          "4K",
          "1080p",
          "4K",
          "4K",
          "1080p",
          "1080p",
          "1080p",
          "1080p",
          "4K",
          "4K",
          "1080p",
          "4K",
          "8K",
          "4K",
          "4K",
          "1080p",
          "4K",
          "4K",
          "4K",
          "8K",
          "8K",
          "4K",
          "4K",
          "4K",
          "4K",
          "4K",
          "8K",
          "8K",
          "1080p",
          "1080p",
          "4K",
          "4K",
          "1080p",
          "4K",
          "1080p",
          "4K",
          "4K",
          "4K",
          "4K",
          "1080p",
          "4K",
          "1080p"
         ],
         "xaxis": "x",
         "xbingroup": "x",
         "y": {
          "bdata": "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",
          "dtype": "f8"
         },
         "yaxis": "y",
         "ybingroup": "y",
         "z": {
          "bdata": "xgDxAdQAYACkAKUCQAGZAA8BKgO6AbsAywBlAfMD2gFVAr8BKgSZATUCaQIAA1kA3gAwADkA4ABUAVwAQgICAZ0AjAA1ACwAMQDBAvYAmwALAXoAlQDxADUChAGSAEwBSgGrANMBgACMAHcAMgB8AVABuwCBAM4AxAKZAasAcwE1AwQCeAJjBH0CRAEyAygBxwK4ALkAqgB2AIQA8ABqARQC9QKAAE8APADqAfQAcQAmAA8AhACIABUA7ADQAlwA2QCYAI0A8AA6AIAAYwCzAF4ALQIZAFkAIADjAJsASwBnACoAewBYAHkAhQKkAMMAdQFYANIAcAI0AegAzwBVABgCdwDgAtMDdQEbACIA8QCMAD8AHQARACAAGQAvA7wA/QCeAFQAgwA8ATkAEgAYAGUAHADvAMQAYwBeAGQAeQBvA5kBRwAWADAAeQbjAQACRgDzAK8A+ACmAa0AcQA7ABMBJAGAAIgA4wBHAK4AAATqAVkAEwcdAkcDoQAEARgAHQBPAH4AVgBBASMBtQAjABwAPACJADIAMQCpAHcAlALDAoMBdQCPAG8A5QDtAHIH6QGdAtcDfgB6AGAAPgBDAT4ARwCaAKwEWgFVARgAQgBTAEEAiQCyAM8AWwBgAFgA1AA6ABYAIAI8AoQCYgB8ARYBNwFIAC4HLwLcAuoAOACYASkAVgCZADYAQgBuAIUDuwG/AMkCWgApARAFcgG1ALwAhgBYASAAHgBTAGYAQwBSATUAeQDqAMYAYgB9ADcBtAALAbgA4AGaBEwBfQG3AUMAQQEoAhcBrACkAf4BgwAfA1UADQD3AZUAWAGwAuIAtAGhAg4BTQJ+AAcEawJ0AWcB3wJfBVkBiQB3ARwBEACOAEQALQBEADwALwE7ABUAAwCYACUAEQBGAHcARQGiAGoAXwEdABwADQA3AccAOQAPADkAHwBxALQAZAAuACEAZABFABQADwFuAREAEwELAHsAPQAjAkgCQQCZAMIAnALKAg8BagIHAcIAHwASACwA5wB2AGIANACLAEMA/gGZAV4BXgDxAIUASwBpACsALwClAGEAdACAATIDIQIOAGoAcQB5ARkAGADqAHsCFwK7AA4AiQGIABoBCgB6AOcASAC3AFkAhwCmARICPgC2AegACwAXAGgAHQAVABoAbwCZAAkADAAaAKYAvwBOACQBCgKdAIIAWABdAeMAMAB0AHsAGQAVACEAfQFeABkA5wBMAEUAMAA2ADUAygHGAJMATwBsAtYBJQELAJoAQQBCABoAUAGJAKQARQBXAeYAkgAAAm4AYgBCAC4AxAB2AWQAfwAxADQA1AALABMAGAAQAH8CcgFQAT8A4AANAhkBKAEtAGkAUQDdAFABqQCEABsAAAGlBHwBzwC0AXUB5AC+AKsERQXdAP8F2ABdAVoCKwFPANEA4gDhALQAQgG5AHcDWABEAXQASgC1AbYAMwCmArEBJgEaAB4ANQALAbEDHAD+AhkBRAB7ALMAwAArAJcArAHkAI4AZgBYAO8CaQBYA44BwQHFADYBCwFkATICSAG3ALMBvAADA+oBKAAlAF4B+wAlABcACwBEACgAOAAhABgAqgA+AA==",
          "dtype": "i2"
         }
        }
       ],
       "layout": {
        "coloraxis": {
         "colorbar": {
          "title": {
           "text": "avg of popularity_become_fan"
          }
         },
         "colorscale": [
          [
           0,
           "#0d0887"
          ],
          [
           0.1111111111111111,
           "#46039f"
          ],
          [
           0.2222222222222222,
           "#7201a8"
          ],
          [
           0.3333333333333333,
           "#9c179e"
          ],
          [
           0.4444444444444444,
           "#bd3786"
          ],
          [
           0.5555555555555556,
           "#d8576b"
          ],
          [
           0.6666666666666666,
           "#ed7953"
          ],
          [
           0.7777777777777778,
           "#fb9f3a"
          ],
          [
           0.8888888888888888,
           "#fdca26"
          ],
          [
           1,
           "#f0f921"
          ]
         ]
        },
        "legend": {
         "tracegroupgap": 0
        },
        "margin": {
         "t": 60
        },
        "template": {
         "data": {
          "bar": [
           {
            "error_x": {
             "color": "#2a3f5f"
            },
            "error_y": {
             "color": "#2a3f5f"
            },
            "marker": {
             "line": {
              "color": "#E5ECF6",
              "width": 0.5
             },
             "pattern": {
              "fillmode": "overlay",
              "size": 10,
              "solidity": 0.2
             }
            },
            "type": "bar"
           }
          ],
          "barpolar": [
           {
            "marker": {
             "line": {
              "color": "#E5ECF6",
              "width": 0.5
             },
             "pattern": {
              "fillmode": "overlay",
              "size": 10,
              "solidity": 0.2
             }
            },
            "type": "barpolar"
           }
          ],
          "carpet": [
           {
            "aaxis": {
             "endlinecolor": "#2a3f5f",
             "gridcolor": "white",
             "linecolor": "white",
             "minorgridcolor": "white",
             "startlinecolor": "#2a3f5f"
            },
            "baxis": {
             "endlinecolor": "#2a3f5f",
             "gridcolor": "white",
             "linecolor": "white",
             "minorgridcolor": "white",
             "startlinecolor": "#2a3f5f"
            },
            "type": "carpet"
           }
          ],
          "choropleth": [
           {
            "colorbar": {
             "outlinewidth": 0,
             "ticks": ""
            },
            "type": "choropleth"
           }
          ],
          "contour": [
           {
            "colorbar": {
             "outlinewidth": 0,
             "ticks": ""
            },
            "colorscale": [
             [
              0,
              "#0d0887"
             ],
             [
              0.1111111111111111,
              "#46039f"
             ],
             [
              0.2222222222222222,
              "#7201a8"
             ],
             [
              0.3333333333333333,
              "#9c179e"
             ],
             [
              0.4444444444444444,
              "#bd3786"
             ],
             [
              0.5555555555555556,
              "#d8576b"
             ],
             [
              0.6666666666666666,
              "#ed7953"
             ],
             [
              0.7777777777777778,
              "#fb9f3a"
             ],
             [
              0.8888888888888888,
              "#fdca26"
             ],
             [
              1,
              "#f0f921"
             ]
            ],
            "type": "contour"
           }
          ],
          "contourcarpet": [
           {
            "colorbar": {
             "outlinewidth": 0,
             "ticks": ""
            },
            "type": "contourcarpet"
           }
          ],
          "heatmap": [
           {
            "colorbar": {
             "outlinewidth": 0,
             "ticks": ""
            },
            "colorscale": [
             [
              0,
              "#0d0887"
             ],
             [
              0.1111111111111111,
              "#46039f"
             ],
             [
              0.2222222222222222,
              "#7201a8"
             ],
             [
              0.3333333333333333,
              "#9c179e"
             ],
             [
              0.4444444444444444,
              "#bd3786"
             ],
             [
              0.5555555555555556,
              "#d8576b"
             ],
             [
              0.6666666666666666,
              "#ed7953"
             ],
             [
              0.7777777777777778,
              "#fb9f3a"
             ],
             [
              0.8888888888888888,
              "#fdca26"
             ],
             [
              1,
              "#f0f921"
             ]
            ],
            "type": "heatmap"
           }
          ],
          "histogram": [
           {
            "marker": {
             "pattern": {
              "fillmode": "overlay",
              "size": 10,
              "solidity": 0.2
             }
            },
            "type": "histogram"
           }
          ],
          "histogram2d": [
           {
            "colorbar": {
             "outlinewidth": 0,
             "ticks": ""
            },
            "colorscale": [
             [
              0,
              "#0d0887"
             ],
             [
              0.1111111111111111,
              "#46039f"
             ],
             [
              0.2222222222222222,
              "#7201a8"
             ],
             [
              0.3333333333333333,
              "#9c179e"
             ],
             [
              0.4444444444444444,
              "#bd3786"
             ],
             [
              0.5555555555555556,
              "#d8576b"
             ],
             [
              0.6666666666666666,
              "#ed7953"
             ],
             [
              0.7777777777777778,
              "#fb9f3a"
             ],
             [
              0.8888888888888888,
              "#fdca26"
             ],
             [
              1,
              "#f0f921"
             ]
            ],
            "type": "histogram2d"
           }
          ],
          "histogram2dcontour": [
           {
            "colorbar": {
             "outlinewidth": 0,
             "ticks": ""
            },
            "colorscale": [
             [
              0,
              "#0d0887"
             ],
             [
              0.1111111111111111,
              "#46039f"
             ],
             [
              0.2222222222222222,
              "#7201a8"
             ],
             [
              0.3333333333333333,
              "#9c179e"
             ],
             [
              0.4444444444444444,
              "#bd3786"
             ],
             [
              0.5555555555555556,
              "#d8576b"
             ],
             [
              0.6666666666666666,
              "#ed7953"
             ],
             [
              0.7777777777777778,
              "#fb9f3a"
             ],
             [
              0.8888888888888888,
              "#fdca26"
             ],
             [
              1,
              "#f0f921"
             ]
            ],
            "type": "histogram2dcontour"
           }
          ],
          "mesh3d": [
           {
            "colorbar": {
             "outlinewidth": 0,
             "ticks": ""
            },
            "type": "mesh3d"
           }
          ],
          "parcoords": [
           {
            "line": {
             "colorbar": {
              "outlinewidth": 0,
              "ticks": ""
             }
            },
            "type": "parcoords"
           }
          ],
          "pie": [
           {
            "automargin": true,
            "type": "pie"
           }
          ],
          "scatter": [
           {
            "fillpattern": {
             "fillmode": "overlay",
             "size": 10,
             "solidity": 0.2
            },
            "type": "scatter"
           }
          ],
          "scatter3d": [
           {
            "line": {
             "colorbar": {
              "outlinewidth": 0,
              "ticks": ""
             }
            },
            "marker": {
             "colorbar": {
              "outlinewidth": 0,
              "ticks": ""
             }
            },
            "type": "scatter3d"
           }
          ],
          "scattercarpet": [
           {
            "marker": {
             "colorbar": {
              "outlinewidth": 0,
              "ticks": ""
             }
            },
            "type": "scattercarpet"
           }
          ],
          "scattergeo": [
           {
            "marker": {
             "colorbar": {
              "outlinewidth": 0,
              "ticks": ""
             }
            },
            "type": "scattergeo"
           }
          ],
          "scattergl": [
           {
            "marker": {
             "colorbar": {
              "outlinewidth": 0,
              "ticks": ""
             }
            },
            "type": "scattergl"
           }
          ],
          "scattermap": [
           {
            "marker": {
             "colorbar": {
              "outlinewidth": 0,
              "ticks": ""
             }
            },
            "type": "scattermap"
           }
          ],
          "scattermapbox": [
           {
            "marker": {
             "colorbar": {
              "outlinewidth": 0,
              "ticks": ""
             }
            },
            "type": "scattermapbox"
           }
          ],
          "scatterpolar": [
           {
            "marker": {
             "colorbar": {
              "outlinewidth": 0,
              "ticks": ""
             }
            },
            "type": "scatterpolar"
           }
          ],
          "scatterpolargl": [
           {
            "marker": {
             "colorbar": {
              "outlinewidth": 0,
              "ticks": ""
             }
            },
            "type": "scatterpolargl"
           }
          ],
          "scatterternary": [
           {
            "marker": {
             "colorbar": {
              "outlinewidth": 0,
              "ticks": ""
             }
            },
            "type": "scatterternary"
           }
          ],
          "surface": [
           {
            "colorbar": {
             "outlinewidth": 0,
             "ticks": ""
            },
            "colorscale": [
             [
              0,
              "#0d0887"
             ],
             [
              0.1111111111111111,
              "#46039f"
             ],
             [
              0.2222222222222222,
              "#7201a8"
             ],
             [
              0.3333333333333333,
              "#9c179e"
             ],
             [
              0.4444444444444444,
              "#bd3786"
             ],
             [
              0.5555555555555556,
              "#d8576b"
             ],
             [
              0.6666666666666666,
              "#ed7953"
             ],
             [
              0.7777777777777778,
              "#fb9f3a"
             ],
             [
              0.8888888888888888,
              "#fdca26"
             ],
             [
              1,
              "#f0f921"
             ]
            ],
            "type": "surface"
           }
          ],
          "table": [
           {
            "cells": {
             "fill": {
              "color": "#EBF0F8"
             },
             "line": {
              "color": "white"
             }
            },
            "header": {
             "fill": {
              "color": "#C8D4E3"
             },
             "line": {
              "color": "white"
             }
            },
            "type": "table"
           }
          ]
         },
         "layout": {
          "annotationdefaults": {
           "arrowcolor": "#2a3f5f",
           "arrowhead": 0,
           "arrowwidth": 1
          },
          "autotypenumbers": "strict",
          "coloraxis": {
           "colorbar": {
            "outlinewidth": 0,
            "ticks": ""
           }
          },
          "colorscale": {
           "diverging": [
            [
             0,
             "#8e0152"
            ],
            [
             0.1,
             "#c51b7d"
            ],
            [
             0.2,
             "#de77ae"
            ],
            [
             0.3,
             "#f1b6da"
            ],
            [
             0.4,
             "#fde0ef"
            ],
            [
             0.5,
             "#f7f7f7"
            ],
            [
             0.6,
             "#e6f5d0"
            ],
            [
             0.7,
             "#b8e186"
            ],
            [
             0.8,
             "#7fbc41"
            ],
            [
             0.9,
             "#4d9221"
            ],
            [
             1,
             "#276419"
            ]
           ],
           "sequential": [
            [
             0,
             "#0d0887"
            ],
            [
             0.1111111111111111,
             "#46039f"
            ],
            [
             0.2222222222222222,
             "#7201a8"
            ],
            [
             0.3333333333333333,
             "#9c179e"
            ],
            [
             0.4444444444444444,
             "#bd3786"
            ],
            [
             0.5555555555555556,
             "#d8576b"
            ],
            [
             0.6666666666666666,
             "#ed7953"
            ],
            [
             0.7777777777777778,
             "#fb9f3a"
            ],
            [
             0.8888888888888888,
             "#fdca26"
            ],
            [
             1,
             "#f0f921"
            ]
           ],
           "sequentialminus": [
            [
             0,
             "#0d0887"
            ],
            [
             0.1111111111111111,
             "#46039f"
            ],
            [
             0.2222222222222222,
             "#7201a8"
            ],
            [
             0.3333333333333333,
             "#9c179e"
            ],
            [
             0.4444444444444444,
             "#bd3786"
            ],
            [
             0.5555555555555556,
             "#d8576b"
            ],
            [
             0.6666666666666666,
             "#ed7953"
            ],
            [
             0.7777777777777778,
             "#fb9f3a"
            ],
            [
             0.8888888888888888,
             "#fdca26"
            ],
            [
             1,
             "#f0f921"
            ]
           ]
          },
          "colorway": [
           "#636efa",
           "#EF553B",
           "#00cc96",
           "#ab63fa",
           "#FFA15A",
           "#19d3f3",
           "#FF6692",
           "#B6E880",
           "#FF97FF",
           "#FECB52"
          ],
          "font": {
           "color": "#2a3f5f"
          },
          "geo": {
           "bgcolor": "white",
           "lakecolor": "white",
           "landcolor": "#E5ECF6",
           "showlakes": true,
           "showland": true,
           "subunitcolor": "white"
          },
          "hoverlabel": {
           "align": "left"
          },
          "hovermode": "closest",
          "mapbox": {
           "style": "light"
          },
          "paper_bgcolor": "white",
          "plot_bgcolor": "#E5ECF6",
          "polar": {
           "angularaxis": {
            "gridcolor": "white",
            "linecolor": "white",
            "ticks": ""
           },
           "bgcolor": "#E5ECF6",
           "radialaxis": {
            "gridcolor": "white",
            "linecolor": "white",
            "ticks": ""
           }
          },
          "scene": {
           "xaxis": {
            "backgroundcolor": "#E5ECF6",
            "gridcolor": "white",
            "gridwidth": 2,
            "linecolor": "white",
            "showbackground": true,
            "ticks": "",
            "zerolinecolor": "white"
           },
           "yaxis": {
            "backgroundcolor": "#E5ECF6",
            "gridcolor": "white",
            "gridwidth": 2,
            "linecolor": "white",
            "showbackground": true,
            "ticks": "",
            "zerolinecolor": "white"
           },
           "zaxis": {
            "backgroundcolor": "#E5ECF6",
            "gridcolor": "white",
            "gridwidth": 2,
            "linecolor": "white",
            "showbackground": true,
            "ticks": "",
            "zerolinecolor": "white"
           }
          },
          "shapedefaults": {
           "line": {
            "color": "#2a3f5f"
           }
          },
          "ternary": {
           "aaxis": {
            "gridcolor": "white",
            "linecolor": "white",
            "ticks": ""
           },
           "baxis": {
            "gridcolor": "white",
            "linecolor": "white",
            "ticks": ""
           },
           "bgcolor": "#E5ECF6",
           "caxis": {
            "gridcolor": "white",
            "linecolor": "white",
            "ticks": ""
           }
          },
          "title": {
           "x": 0.05
          },
          "xaxis": {
           "automargin": true,
           "gridcolor": "white",
           "linecolor": "white",
           "ticks": "",
           "title": {
            "standoff": 15
           },
           "zerolinecolor": "white",
           "zerolinewidth": 2
          },
          "yaxis": {
           "automargin": true,
           "gridcolor": "white",
           "linecolor": "white",
           "ticks": "",
           "title": {
            "standoff": 15
           },
           "zerolinecolor": "white",
           "zerolinewidth": 2
          }
         }
        },
        "xaxis": {
         "anchor": "y",
         "domain": [
          0,
          1
         ],
         "title": {
          "text": "camera_video_resolution"
         }
        },
        "yaxis": {
         "anchor": "x",
         "domain": [
          0,
          1
         ],
         "title": {
          "text": "camera_video_fps"
         }
        }
       }
      }
     },
     "metadata": {},
     "output_type": "display_data"
    }
   ],
   "source": [
    "pdf = df\n",
    "px.density_heatmap(pdf, x='camera_video_resolution', y='camera_video_fps', z='popularity_become_fan', histfunc='avg')"
   ]
  },
  {
   "cell_type": "markdown",
   "id": "5bf673bc",
   "metadata": {},
   "source": [
    "Phones with maximum video resolution of 1080p do not recieve as musch popularity as phones with 4k and higher video resolution, for which the most popular framerate is 120 fps, with average likes on phones of 642."
   ]
  },
  {
   "cell_type": "markdown",
   "id": "c2bad8c5",
   "metadata": {},
   "source": [
    "Correlation analysis"
   ]
  },
  {
   "cell_type": "code",
   "execution_count": 25,
   "id": "f6655df1",
   "metadata": {},
   "outputs": [
    {
     "data": {
      "application/vnd.plotly.v1+json": {
       "config": {
        "plotlyServerURL": "https://plot.ly"
       },
       "data": [
        {
         "hovertemplate": "variable=popularity_become_fan<br>index=%{x}<br>value=%{y}<extra></extra>",
         "legendgroup": "popularity_become_fan",
         "marker": {
          "color": "#636efa",
          "pattern": {
           "shape": ""
          }
         },
         "name": "popularity_become_fan",
         "orientation": "v",
         "showlegend": true,
         "textposition": "auto",
         "type": "bar",
         "x": [
          "popularity_become_fan",
          "popularity_views",
          "screen_resolution_y",
          "screen_resolution_x",
          "popularity_views_today",
          "nfc",
          "usb_version",
          "selfie_camera_mp",
          "price",
          "internal_ram_gb",
          "internal_rom_gb",
          "screen_hz",
          "screen_to_body",
          "camera_mp",
          "selfie_camera_video_fps",
          "biometric_auth",
          "5g",
          "selfie_camera_f",
          "camera_video_fps",
          "weight_g",
          "available",
          "bluetooth_version",
          "screen_size",
          "foldable",
          "has_black_color",
          "camera_f",
          "width_mm",
          "cancelled",
          "length_mm",
          "announce_year",
          "memory_card_slot",
          "height_mm",
          "release_year",
          "chipset_nm",
          "radio",
          "battery_capacity",
          "35mm_jack"
         ],
         "xaxis": "x",
         "y": {
          "bdata": "AAAAAAAA8D+amZmZmZnpP5qZmZmZmdk/MzMzMzMz0z8zMzMzMzPTPzMzMzMzM9M/MzMzMzMz0z+amZmZmZnJP5qZmZmZmck/mpmZmZmZyT+amZmZmZnJP5qZmZmZmck/mpmZmZmZyT+amZmZmZnJP5qZmZmZmck/mpmZmZmZyT+amZmZmZnJP5qZmZmZmbk/mpmZmZmZuT+amZmZmZm5P5qZmZmZmbk/mpmZmZmZuT8AAAAAAAAAgAAAAAAAAACAAAAAAAAAAICamZmZmZm5v5qZmZmZmbm/mpmZmZmZub+amZmZmZm5v5qZmZmZmcm/mpmZmZmZyb+amZmZmZnJv5qZmZmZmcm/mpmZmZmZyb+amZmZmZnJv5qZmZmZmcm/MzMzMzMz078=",
          "dtype": "f8"
         },
         "yaxis": "y"
        }
       ],
       "layout": {
        "barmode": "relative",
        "legend": {
         "title": {
          "text": "variable"
         },
         "tracegroupgap": 0
        },
        "margin": {
         "t": 60
        },
        "template": {
         "data": {
          "bar": [
           {
            "error_x": {
             "color": "#2a3f5f"
            },
            "error_y": {
             "color": "#2a3f5f"
            },
            "marker": {
             "line": {
              "color": "#E5ECF6",
              "width": 0.5
             },
             "pattern": {
              "fillmode": "overlay",
              "size": 10,
              "solidity": 0.2
             }
            },
            "type": "bar"
           }
          ],
          "barpolar": [
           {
            "marker": {
             "line": {
              "color": "#E5ECF6",
              "width": 0.5
             },
             "pattern": {
              "fillmode": "overlay",
              "size": 10,
              "solidity": 0.2
             }
            },
            "type": "barpolar"
           }
          ],
          "carpet": [
           {
            "aaxis": {
             "endlinecolor": "#2a3f5f",
             "gridcolor": "white",
             "linecolor": "white",
             "minorgridcolor": "white",
             "startlinecolor": "#2a3f5f"
            },
            "baxis": {
             "endlinecolor": "#2a3f5f",
             "gridcolor": "white",
             "linecolor": "white",
             "minorgridcolor": "white",
             "startlinecolor": "#2a3f5f"
            },
            "type": "carpet"
           }
          ],
          "choropleth": [
           {
            "colorbar": {
             "outlinewidth": 0,
             "ticks": ""
            },
            "type": "choropleth"
           }
          ],
          "contour": [
           {
            "colorbar": {
             "outlinewidth": 0,
             "ticks": ""
            },
            "colorscale": [
             [
              0,
              "#0d0887"
             ],
             [
              0.1111111111111111,
              "#46039f"
             ],
             [
              0.2222222222222222,
              "#7201a8"
             ],
             [
              0.3333333333333333,
              "#9c179e"
             ],
             [
              0.4444444444444444,
              "#bd3786"
             ],
             [
              0.5555555555555556,
              "#d8576b"
             ],
             [
              0.6666666666666666,
              "#ed7953"
             ],
             [
              0.7777777777777778,
              "#fb9f3a"
             ],
             [
              0.8888888888888888,
              "#fdca26"
             ],
             [
              1,
              "#f0f921"
             ]
            ],
            "type": "contour"
           }
          ],
          "contourcarpet": [
           {
            "colorbar": {
             "outlinewidth": 0,
             "ticks": ""
            },
            "type": "contourcarpet"
           }
          ],
          "heatmap": [
           {
            "colorbar": {
             "outlinewidth": 0,
             "ticks": ""
            },
            "colorscale": [
             [
              0,
              "#0d0887"
             ],
             [
              0.1111111111111111,
              "#46039f"
             ],
             [
              0.2222222222222222,
              "#7201a8"
             ],
             [
              0.3333333333333333,
              "#9c179e"
             ],
             [
              0.4444444444444444,
              "#bd3786"
             ],
             [
              0.5555555555555556,
              "#d8576b"
             ],
             [
              0.6666666666666666,
              "#ed7953"
             ],
             [
              0.7777777777777778,
              "#fb9f3a"
             ],
             [
              0.8888888888888888,
              "#fdca26"
             ],
             [
              1,
              "#f0f921"
             ]
            ],
            "type": "heatmap"
           }
          ],
          "histogram": [
           {
            "marker": {
             "pattern": {
              "fillmode": "overlay",
              "size": 10,
              "solidity": 0.2
             }
            },
            "type": "histogram"
           }
          ],
          "histogram2d": [
           {
            "colorbar": {
             "outlinewidth": 0,
             "ticks": ""
            },
            "colorscale": [
             [
              0,
              "#0d0887"
             ],
             [
              0.1111111111111111,
              "#46039f"
             ],
             [
              0.2222222222222222,
              "#7201a8"
             ],
             [
              0.3333333333333333,
              "#9c179e"
             ],
             [
              0.4444444444444444,
              "#bd3786"
             ],
             [
              0.5555555555555556,
              "#d8576b"
             ],
             [
              0.6666666666666666,
              "#ed7953"
             ],
             [
              0.7777777777777778,
              "#fb9f3a"
             ],
             [
              0.8888888888888888,
              "#fdca26"
             ],
             [
              1,
              "#f0f921"
             ]
            ],
            "type": "histogram2d"
           }
          ],
          "histogram2dcontour": [
           {
            "colorbar": {
             "outlinewidth": 0,
             "ticks": ""
            },
            "colorscale": [
             [
              0,
              "#0d0887"
             ],
             [
              0.1111111111111111,
              "#46039f"
             ],
             [
              0.2222222222222222,
              "#7201a8"
             ],
             [
              0.3333333333333333,
              "#9c179e"
             ],
             [
              0.4444444444444444,
              "#bd3786"
             ],
             [
              0.5555555555555556,
              "#d8576b"
             ],
             [
              0.6666666666666666,
              "#ed7953"
             ],
             [
              0.7777777777777778,
              "#fb9f3a"
             ],
             [
              0.8888888888888888,
              "#fdca26"
             ],
             [
              1,
              "#f0f921"
             ]
            ],
            "type": "histogram2dcontour"
           }
          ],
          "mesh3d": [
           {
            "colorbar": {
             "outlinewidth": 0,
             "ticks": ""
            },
            "type": "mesh3d"
           }
          ],
          "parcoords": [
           {
            "line": {
             "colorbar": {
              "outlinewidth": 0,
              "ticks": ""
             }
            },
            "type": "parcoords"
           }
          ],
          "pie": [
           {
            "automargin": true,
            "type": "pie"
           }
          ],
          "scatter": [
           {
            "fillpattern": {
             "fillmode": "overlay",
             "size": 10,
             "solidity": 0.2
            },
            "type": "scatter"
           }
          ],
          "scatter3d": [
           {
            "line": {
             "colorbar": {
              "outlinewidth": 0,
              "ticks": ""
             }
            },
            "marker": {
             "colorbar": {
              "outlinewidth": 0,
              "ticks": ""
             }
            },
            "type": "scatter3d"
           }
          ],
          "scattercarpet": [
           {
            "marker": {
             "colorbar": {
              "outlinewidth": 0,
              "ticks": ""
             }
            },
            "type": "scattercarpet"
           }
          ],
          "scattergeo": [
           {
            "marker": {
             "colorbar": {
              "outlinewidth": 0,
              "ticks": ""
             }
            },
            "type": "scattergeo"
           }
          ],
          "scattergl": [
           {
            "marker": {
             "colorbar": {
              "outlinewidth": 0,
              "ticks": ""
             }
            },
            "type": "scattergl"
           }
          ],
          "scattermap": [
           {
            "marker": {
             "colorbar": {
              "outlinewidth": 0,
              "ticks": ""
             }
            },
            "type": "scattermap"
           }
          ],
          "scattermapbox": [
           {
            "marker": {
             "colorbar": {
              "outlinewidth": 0,
              "ticks": ""
             }
            },
            "type": "scattermapbox"
           }
          ],
          "scatterpolar": [
           {
            "marker": {
             "colorbar": {
              "outlinewidth": 0,
              "ticks": ""
             }
            },
            "type": "scatterpolar"
           }
          ],
          "scatterpolargl": [
           {
            "marker": {
             "colorbar": {
              "outlinewidth": 0,
              "ticks": ""
             }
            },
            "type": "scatterpolargl"
           }
          ],
          "scatterternary": [
           {
            "marker": {
             "colorbar": {
              "outlinewidth": 0,
              "ticks": ""
             }
            },
            "type": "scatterternary"
           }
          ],
          "surface": [
           {
            "colorbar": {
             "outlinewidth": 0,
             "ticks": ""
            },
            "colorscale": [
             [
              0,
              "#0d0887"
             ],
             [
              0.1111111111111111,
              "#46039f"
             ],
             [
              0.2222222222222222,
              "#7201a8"
             ],
             [
              0.3333333333333333,
              "#9c179e"
             ],
             [
              0.4444444444444444,
              "#bd3786"
             ],
             [
              0.5555555555555556,
              "#d8576b"
             ],
             [
              0.6666666666666666,
              "#ed7953"
             ],
             [
              0.7777777777777778,
              "#fb9f3a"
             ],
             [
              0.8888888888888888,
              "#fdca26"
             ],
             [
              1,
              "#f0f921"
             ]
            ],
            "type": "surface"
           }
          ],
          "table": [
           {
            "cells": {
             "fill": {
              "color": "#EBF0F8"
             },
             "line": {
              "color": "white"
             }
            },
            "header": {
             "fill": {
              "color": "#C8D4E3"
             },
             "line": {
              "color": "white"
             }
            },
            "type": "table"
           }
          ]
         },
         "layout": {
          "annotationdefaults": {
           "arrowcolor": "#2a3f5f",
           "arrowhead": 0,
           "arrowwidth": 1
          },
          "autotypenumbers": "strict",
          "coloraxis": {
           "colorbar": {
            "outlinewidth": 0,
            "ticks": ""
           }
          },
          "colorscale": {
           "diverging": [
            [
             0,
             "#8e0152"
            ],
            [
             0.1,
             "#c51b7d"
            ],
            [
             0.2,
             "#de77ae"
            ],
            [
             0.3,
             "#f1b6da"
            ],
            [
             0.4,
             "#fde0ef"
            ],
            [
             0.5,
             "#f7f7f7"
            ],
            [
             0.6,
             "#e6f5d0"
            ],
            [
             0.7,
             "#b8e186"
            ],
            [
             0.8,
             "#7fbc41"
            ],
            [
             0.9,
             "#4d9221"
            ],
            [
             1,
             "#276419"
            ]
           ],
           "sequential": [
            [
             0,
             "#0d0887"
            ],
            [
             0.1111111111111111,
             "#46039f"
            ],
            [
             0.2222222222222222,
             "#7201a8"
            ],
            [
             0.3333333333333333,
             "#9c179e"
            ],
            [
             0.4444444444444444,
             "#bd3786"
            ],
            [
             0.5555555555555556,
             "#d8576b"
            ],
            [
             0.6666666666666666,
             "#ed7953"
            ],
            [
             0.7777777777777778,
             "#fb9f3a"
            ],
            [
             0.8888888888888888,
             "#fdca26"
            ],
            [
             1,
             "#f0f921"
            ]
           ],
           "sequentialminus": [
            [
             0,
             "#0d0887"
            ],
            [
             0.1111111111111111,
             "#46039f"
            ],
            [
             0.2222222222222222,
             "#7201a8"
            ],
            [
             0.3333333333333333,
             "#9c179e"
            ],
            [
             0.4444444444444444,
             "#bd3786"
            ],
            [
             0.5555555555555556,
             "#d8576b"
            ],
            [
             0.6666666666666666,
             "#ed7953"
            ],
            [
             0.7777777777777778,
             "#fb9f3a"
            ],
            [
             0.8888888888888888,
             "#fdca26"
            ],
            [
             1,
             "#f0f921"
            ]
           ]
          },
          "colorway": [
           "#636efa",
           "#EF553B",
           "#00cc96",
           "#ab63fa",
           "#FFA15A",
           "#19d3f3",
           "#FF6692",
           "#B6E880",
           "#FF97FF",
           "#FECB52"
          ],
          "font": {
           "color": "#2a3f5f"
          },
          "geo": {
           "bgcolor": "white",
           "lakecolor": "white",
           "landcolor": "#E5ECF6",
           "showlakes": true,
           "showland": true,
           "subunitcolor": "white"
          },
          "hoverlabel": {
           "align": "left"
          },
          "hovermode": "closest",
          "mapbox": {
           "style": "light"
          },
          "paper_bgcolor": "white",
          "plot_bgcolor": "#E5ECF6",
          "polar": {
           "angularaxis": {
            "gridcolor": "white",
            "linecolor": "white",
            "ticks": ""
           },
           "bgcolor": "#E5ECF6",
           "radialaxis": {
            "gridcolor": "white",
            "linecolor": "white",
            "ticks": ""
           }
          },
          "scene": {
           "xaxis": {
            "backgroundcolor": "#E5ECF6",
            "gridcolor": "white",
            "gridwidth": 2,
            "linecolor": "white",
            "showbackground": true,
            "ticks": "",
            "zerolinecolor": "white"
           },
           "yaxis": {
            "backgroundcolor": "#E5ECF6",
            "gridcolor": "white",
            "gridwidth": 2,
            "linecolor": "white",
            "showbackground": true,
            "ticks": "",
            "zerolinecolor": "white"
           },
           "zaxis": {
            "backgroundcolor": "#E5ECF6",
            "gridcolor": "white",
            "gridwidth": 2,
            "linecolor": "white",
            "showbackground": true,
            "ticks": "",
            "zerolinecolor": "white"
           }
          },
          "shapedefaults": {
           "line": {
            "color": "#2a3f5f"
           }
          },
          "ternary": {
           "aaxis": {
            "gridcolor": "white",
            "linecolor": "white",
            "ticks": ""
           },
           "baxis": {
            "gridcolor": "white",
            "linecolor": "white",
            "ticks": ""
           },
           "bgcolor": "#E5ECF6",
           "caxis": {
            "gridcolor": "white",
            "linecolor": "white",
            "ticks": ""
           }
          },
          "title": {
           "x": 0.05
          },
          "xaxis": {
           "automargin": true,
           "gridcolor": "white",
           "linecolor": "white",
           "ticks": "",
           "title": {
            "standoff": 15
           },
           "zerolinecolor": "white",
           "zerolinewidth": 2
          },
          "yaxis": {
           "automargin": true,
           "gridcolor": "white",
           "linecolor": "white",
           "ticks": "",
           "title": {
            "standoff": 15
           },
           "zerolinecolor": "white",
           "zerolinewidth": 2
          }
         }
        },
        "xaxis": {
         "anchor": "y",
         "domain": [
          0,
          1
         ],
         "title": {
          "text": "index"
         }
        },
        "yaxis": {
         "anchor": "x",
         "domain": [
          0,
          1
         ],
         "title": {
          "text": "value"
         }
        }
       }
      }
     },
     "metadata": {},
     "output_type": "display_data"
    }
   ],
   "source": [
    "df_corr = df.corr(numeric_only=True).round(1)['popularity_become_fan']\n",
    "px.bar(df_corr.sort_values(ascending=False))"
   ]
  },
  {
   "cell_type": "markdown",
   "id": "4c9bd9db",
   "metadata": {},
   "source": [
    "There is no strong correlation between phone characteristics and the popularity of a phone. The most correlated feature is the number of views a phone has recieved, which is expected. Screen resolution and usb version are the next most correlated metrics among phone characterestics."
   ]
  },
  {
   "cell_type": "code",
   "execution_count": 26,
   "id": "287dac0e",
   "metadata": {},
   "outputs": [
    {
     "data": {
      "application/vnd.plotly.v1+json": {
       "config": {
        "plotlyServerURL": "https://plot.ly"
       },
       "data": [
        {
         "hovertemplate": "variable=popularity_become_fan<br>index=%{x}<br>value=%{y}<extra></extra>",
         "legendgroup": "popularity_become_fan",
         "marker": {
          "color": "#636efa",
          "pattern": {
           "shape": ""
          }
         },
         "name": "popularity_become_fan",
         "orientation": "v",
         "showlegend": true,
         "textposition": "auto",
         "type": "bar",
         "x": [
          "popularity_become_fan",
          "popularity_views",
          "selfie_camera_f",
          "chipset_nm",
          "screen_hz",
          "weight_g",
          "camera_f",
          "length_mm",
          "height_mm",
          "screen_resolution_y",
          "screen_size",
          "popularity_views_today",
          "internal_rom_gb",
          "screen_resolution_x",
          "battery_capacity",
          "selfie_camera_mp",
          "camera_video_fps",
          "screen_to_body",
          "usb_version",
          "has_black_color",
          "selfie_camera_video_fps",
          "5g",
          "width_mm",
          "price",
          "camera_mp",
          "internal_ram_gb",
          "announce_year",
          "release_year",
          "bluetooth_version",
          "available",
          "cancelled",
          "memory_card_slot",
          "35mm_jack",
          "nfc",
          "radio",
          "biometric_auth",
          "foldable"
         ],
         "xaxis": "x",
         "y": {
          "bdata": "AAAAAAAA8D/NzMzMzMzsPzMzMzMzM+M/mpmZmZmZ2T8zMzMzMzPTPzMzMzMzM9M/mpmZmZmZuT+amZmZmZm5P5qZmZmZmbk/AAAAAAAAAIAAAAAAAAAAAAAAAAAAAACAAAAAAAAAAAAAAAAAAAAAgJqZmZmZmbm/mpmZmZmZub+amZmZmZm5v5qZmZmZmbm/mpmZmZmZub+amZmZmZnJv5qZmZmZmcm/mpmZmZmZyb8zMzMzMzPTvzMzMzMzM9O/mpmZmZmZ2b+amZmZmZnZvzMzMzMzM+O/MzMzMzMz478zMzMzMzPjvwAAAAAAAPh/AAAAAAAA+H8AAAAAAAD4fwAAAAAAAPh/AAAAAAAA+H8AAAAAAAD4fwAAAAAAAPh/AAAAAAAA+H8=",
          "dtype": "f8"
         },
         "yaxis": "y"
        }
       ],
       "layout": {
        "barmode": "relative",
        "legend": {
         "title": {
          "text": "variable"
         },
         "tracegroupgap": 0
        },
        "margin": {
         "t": 60
        },
        "template": {
         "data": {
          "bar": [
           {
            "error_x": {
             "color": "#2a3f5f"
            },
            "error_y": {
             "color": "#2a3f5f"
            },
            "marker": {
             "line": {
              "color": "#E5ECF6",
              "width": 0.5
             },
             "pattern": {
              "fillmode": "overlay",
              "size": 10,
              "solidity": 0.2
             }
            },
            "type": "bar"
           }
          ],
          "barpolar": [
           {
            "marker": {
             "line": {
              "color": "#E5ECF6",
              "width": 0.5
             },
             "pattern": {
              "fillmode": "overlay",
              "size": 10,
              "solidity": 0.2
             }
            },
            "type": "barpolar"
           }
          ],
          "carpet": [
           {
            "aaxis": {
             "endlinecolor": "#2a3f5f",
             "gridcolor": "white",
             "linecolor": "white",
             "minorgridcolor": "white",
             "startlinecolor": "#2a3f5f"
            },
            "baxis": {
             "endlinecolor": "#2a3f5f",
             "gridcolor": "white",
             "linecolor": "white",
             "minorgridcolor": "white",
             "startlinecolor": "#2a3f5f"
            },
            "type": "carpet"
           }
          ],
          "choropleth": [
           {
            "colorbar": {
             "outlinewidth": 0,
             "ticks": ""
            },
            "type": "choropleth"
           }
          ],
          "contour": [
           {
            "colorbar": {
             "outlinewidth": 0,
             "ticks": ""
            },
            "colorscale": [
             [
              0,
              "#0d0887"
             ],
             [
              0.1111111111111111,
              "#46039f"
             ],
             [
              0.2222222222222222,
              "#7201a8"
             ],
             [
              0.3333333333333333,
              "#9c179e"
             ],
             [
              0.4444444444444444,
              "#bd3786"
             ],
             [
              0.5555555555555556,
              "#d8576b"
             ],
             [
              0.6666666666666666,
              "#ed7953"
             ],
             [
              0.7777777777777778,
              "#fb9f3a"
             ],
             [
              0.8888888888888888,
              "#fdca26"
             ],
             [
              1,
              "#f0f921"
             ]
            ],
            "type": "contour"
           }
          ],
          "contourcarpet": [
           {
            "colorbar": {
             "outlinewidth": 0,
             "ticks": ""
            },
            "type": "contourcarpet"
           }
          ],
          "heatmap": [
           {
            "colorbar": {
             "outlinewidth": 0,
             "ticks": ""
            },
            "colorscale": [
             [
              0,
              "#0d0887"
             ],
             [
              0.1111111111111111,
              "#46039f"
             ],
             [
              0.2222222222222222,
              "#7201a8"
             ],
             [
              0.3333333333333333,
              "#9c179e"
             ],
             [
              0.4444444444444444,
              "#bd3786"
             ],
             [
              0.5555555555555556,
              "#d8576b"
             ],
             [
              0.6666666666666666,
              "#ed7953"
             ],
             [
              0.7777777777777778,
              "#fb9f3a"
             ],
             [
              0.8888888888888888,
              "#fdca26"
             ],
             [
              1,
              "#f0f921"
             ]
            ],
            "type": "heatmap"
           }
          ],
          "histogram": [
           {
            "marker": {
             "pattern": {
              "fillmode": "overlay",
              "size": 10,
              "solidity": 0.2
             }
            },
            "type": "histogram"
           }
          ],
          "histogram2d": [
           {
            "colorbar": {
             "outlinewidth": 0,
             "ticks": ""
            },
            "colorscale": [
             [
              0,
              "#0d0887"
             ],
             [
              0.1111111111111111,
              "#46039f"
             ],
             [
              0.2222222222222222,
              "#7201a8"
             ],
             [
              0.3333333333333333,
              "#9c179e"
             ],
             [
              0.4444444444444444,
              "#bd3786"
             ],
             [
              0.5555555555555556,
              "#d8576b"
             ],
             [
              0.6666666666666666,
              "#ed7953"
             ],
             [
              0.7777777777777778,
              "#fb9f3a"
             ],
             [
              0.8888888888888888,
              "#fdca26"
             ],
             [
              1,
              "#f0f921"
             ]
            ],
            "type": "histogram2d"
           }
          ],
          "histogram2dcontour": [
           {
            "colorbar": {
             "outlinewidth": 0,
             "ticks": ""
            },
            "colorscale": [
             [
              0,
              "#0d0887"
             ],
             [
              0.1111111111111111,
              "#46039f"
             ],
             [
              0.2222222222222222,
              "#7201a8"
             ],
             [
              0.3333333333333333,
              "#9c179e"
             ],
             [
              0.4444444444444444,
              "#bd3786"
             ],
             [
              0.5555555555555556,
              "#d8576b"
             ],
             [
              0.6666666666666666,
              "#ed7953"
             ],
             [
              0.7777777777777778,
              "#fb9f3a"
             ],
             [
              0.8888888888888888,
              "#fdca26"
             ],
             [
              1,
              "#f0f921"
             ]
            ],
            "type": "histogram2dcontour"
           }
          ],
          "mesh3d": [
           {
            "colorbar": {
             "outlinewidth": 0,
             "ticks": ""
            },
            "type": "mesh3d"
           }
          ],
          "parcoords": [
           {
            "line": {
             "colorbar": {
              "outlinewidth": 0,
              "ticks": ""
             }
            },
            "type": "parcoords"
           }
          ],
          "pie": [
           {
            "automargin": true,
            "type": "pie"
           }
          ],
          "scatter": [
           {
            "fillpattern": {
             "fillmode": "overlay",
             "size": 10,
             "solidity": 0.2
            },
            "type": "scatter"
           }
          ],
          "scatter3d": [
           {
            "line": {
             "colorbar": {
              "outlinewidth": 0,
              "ticks": ""
             }
            },
            "marker": {
             "colorbar": {
              "outlinewidth": 0,
              "ticks": ""
             }
            },
            "type": "scatter3d"
           }
          ],
          "scattercarpet": [
           {
            "marker": {
             "colorbar": {
              "outlinewidth": 0,
              "ticks": ""
             }
            },
            "type": "scattercarpet"
           }
          ],
          "scattergeo": [
           {
            "marker": {
             "colorbar": {
              "outlinewidth": 0,
              "ticks": ""
             }
            },
            "type": "scattergeo"
           }
          ],
          "scattergl": [
           {
            "marker": {
             "colorbar": {
              "outlinewidth": 0,
              "ticks": ""
             }
            },
            "type": "scattergl"
           }
          ],
          "scattermap": [
           {
            "marker": {
             "colorbar": {
              "outlinewidth": 0,
              "ticks": ""
             }
            },
            "type": "scattermap"
           }
          ],
          "scattermapbox": [
           {
            "marker": {
             "colorbar": {
              "outlinewidth": 0,
              "ticks": ""
             }
            },
            "type": "scattermapbox"
           }
          ],
          "scatterpolar": [
           {
            "marker": {
             "colorbar": {
              "outlinewidth": 0,
              "ticks": ""
             }
            },
            "type": "scatterpolar"
           }
          ],
          "scatterpolargl": [
           {
            "marker": {
             "colorbar": {
              "outlinewidth": 0,
              "ticks": ""
             }
            },
            "type": "scatterpolargl"
           }
          ],
          "scatterternary": [
           {
            "marker": {
             "colorbar": {
              "outlinewidth": 0,
              "ticks": ""
             }
            },
            "type": "scatterternary"
           }
          ],
          "surface": [
           {
            "colorbar": {
             "outlinewidth": 0,
             "ticks": ""
            },
            "colorscale": [
             [
              0,
              "#0d0887"
             ],
             [
              0.1111111111111111,
              "#46039f"
             ],
             [
              0.2222222222222222,
              "#7201a8"
             ],
             [
              0.3333333333333333,
              "#9c179e"
             ],
             [
              0.4444444444444444,
              "#bd3786"
             ],
             [
              0.5555555555555556,
              "#d8576b"
             ],
             [
              0.6666666666666666,
              "#ed7953"
             ],
             [
              0.7777777777777778,
              "#fb9f3a"
             ],
             [
              0.8888888888888888,
              "#fdca26"
             ],
             [
              1,
              "#f0f921"
             ]
            ],
            "type": "surface"
           }
          ],
          "table": [
           {
            "cells": {
             "fill": {
              "color": "#EBF0F8"
             },
             "line": {
              "color": "white"
             }
            },
            "header": {
             "fill": {
              "color": "#C8D4E3"
             },
             "line": {
              "color": "white"
             }
            },
            "type": "table"
           }
          ]
         },
         "layout": {
          "annotationdefaults": {
           "arrowcolor": "#2a3f5f",
           "arrowhead": 0,
           "arrowwidth": 1
          },
          "autotypenumbers": "strict",
          "coloraxis": {
           "colorbar": {
            "outlinewidth": 0,
            "ticks": ""
           }
          },
          "colorscale": {
           "diverging": [
            [
             0,
             "#8e0152"
            ],
            [
             0.1,
             "#c51b7d"
            ],
            [
             0.2,
             "#de77ae"
            ],
            [
             0.3,
             "#f1b6da"
            ],
            [
             0.4,
             "#fde0ef"
            ],
            [
             0.5,
             "#f7f7f7"
            ],
            [
             0.6,
             "#e6f5d0"
            ],
            [
             0.7,
             "#b8e186"
            ],
            [
             0.8,
             "#7fbc41"
            ],
            [
             0.9,
             "#4d9221"
            ],
            [
             1,
             "#276419"
            ]
           ],
           "sequential": [
            [
             0,
             "#0d0887"
            ],
            [
             0.1111111111111111,
             "#46039f"
            ],
            [
             0.2222222222222222,
             "#7201a8"
            ],
            [
             0.3333333333333333,
             "#9c179e"
            ],
            [
             0.4444444444444444,
             "#bd3786"
            ],
            [
             0.5555555555555556,
             "#d8576b"
            ],
            [
             0.6666666666666666,
             "#ed7953"
            ],
            [
             0.7777777777777778,
             "#fb9f3a"
            ],
            [
             0.8888888888888888,
             "#fdca26"
            ],
            [
             1,
             "#f0f921"
            ]
           ],
           "sequentialminus": [
            [
             0,
             "#0d0887"
            ],
            [
             0.1111111111111111,
             "#46039f"
            ],
            [
             0.2222222222222222,
             "#7201a8"
            ],
            [
             0.3333333333333333,
             "#9c179e"
            ],
            [
             0.4444444444444444,
             "#bd3786"
            ],
            [
             0.5555555555555556,
             "#d8576b"
            ],
            [
             0.6666666666666666,
             "#ed7953"
            ],
            [
             0.7777777777777778,
             "#fb9f3a"
            ],
            [
             0.8888888888888888,
             "#fdca26"
            ],
            [
             1,
             "#f0f921"
            ]
           ]
          },
          "colorway": [
           "#636efa",
           "#EF553B",
           "#00cc96",
           "#ab63fa",
           "#FFA15A",
           "#19d3f3",
           "#FF6692",
           "#B6E880",
           "#FF97FF",
           "#FECB52"
          ],
          "font": {
           "color": "#2a3f5f"
          },
          "geo": {
           "bgcolor": "white",
           "lakecolor": "white",
           "landcolor": "#E5ECF6",
           "showlakes": true,
           "showland": true,
           "subunitcolor": "white"
          },
          "hoverlabel": {
           "align": "left"
          },
          "hovermode": "closest",
          "mapbox": {
           "style": "light"
          },
          "paper_bgcolor": "white",
          "plot_bgcolor": "#E5ECF6",
          "polar": {
           "angularaxis": {
            "gridcolor": "white",
            "linecolor": "white",
            "ticks": ""
           },
           "bgcolor": "#E5ECF6",
           "radialaxis": {
            "gridcolor": "white",
            "linecolor": "white",
            "ticks": ""
           }
          },
          "scene": {
           "xaxis": {
            "backgroundcolor": "#E5ECF6",
            "gridcolor": "white",
            "gridwidth": 2,
            "linecolor": "white",
            "showbackground": true,
            "ticks": "",
            "zerolinecolor": "white"
           },
           "yaxis": {
            "backgroundcolor": "#E5ECF6",
            "gridcolor": "white",
            "gridwidth": 2,
            "linecolor": "white",
            "showbackground": true,
            "ticks": "",
            "zerolinecolor": "white"
           },
           "zaxis": {
            "backgroundcolor": "#E5ECF6",
            "gridcolor": "white",
            "gridwidth": 2,
            "linecolor": "white",
            "showbackground": true,
            "ticks": "",
            "zerolinecolor": "white"
           }
          },
          "shapedefaults": {
           "line": {
            "color": "#2a3f5f"
           }
          },
          "ternary": {
           "aaxis": {
            "gridcolor": "white",
            "linecolor": "white",
            "ticks": ""
           },
           "baxis": {
            "gridcolor": "white",
            "linecolor": "white",
            "ticks": ""
           },
           "bgcolor": "#E5ECF6",
           "caxis": {
            "gridcolor": "white",
            "linecolor": "white",
            "ticks": ""
           }
          },
          "title": {
           "x": 0.05
          },
          "xaxis": {
           "automargin": true,
           "gridcolor": "white",
           "linecolor": "white",
           "ticks": "",
           "title": {
            "standoff": 15
           },
           "zerolinecolor": "white",
           "zerolinewidth": 2
          },
          "yaxis": {
           "automargin": true,
           "gridcolor": "white",
           "linecolor": "white",
           "ticks": "",
           "title": {
            "standoff": 15
           },
           "zerolinecolor": "white",
           "zerolinewidth": 2
          }
         }
        },
        "xaxis": {
         "anchor": "y",
         "domain": [
          0,
          1
         ],
         "title": {
          "text": "index"
         }
        },
        "yaxis": {
         "anchor": "x",
         "domain": [
          0,
          1
         ],
         "title": {
          "text": "value"
         }
        }
       }
      }
     },
     "metadata": {},
     "output_type": "display_data"
    }
   ],
   "source": [
    "df_corr = df[df['brand'] == 'Apple'].corr(numeric_only=True).round(1)['popularity_become_fan']\n",
    "px.bar(df_corr.sort_values(ascending=False))"
   ]
  },
  {
   "cell_type": "markdown",
   "id": "7d576bff",
   "metadata": {},
   "source": [
    "For Apple phones, the chipset architecture and the refresh rate of the screen correlates with higher popularity."
   ]
  }
 ],
 "metadata": {
  "kernelspec": {
   "display_name": "my-venv",
   "language": "python",
   "name": "python3"
  },
  "language_info": {
   "codemirror_mode": {
    "name": "ipython",
    "version": 3
   },
   "file_extension": ".py",
   "mimetype": "text/x-python",
   "name": "python",
   "nbconvert_exporter": "python",
   "pygments_lexer": "ipython3",
   "version": "3.13.3"
  }
 },
 "nbformat": 4,
 "nbformat_minor": 5
}
